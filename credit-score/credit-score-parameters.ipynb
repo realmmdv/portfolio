{
 "cells": [
  {
   "cell_type": "markdown",
   "metadata": {},
   "source": [
    "# План работы\n",
    "\n",
    "1.[Вступление](#cell1)\n",
    "\n",
    "2.[Предобработка данных](#cell2)\n",
    "\n",
    "3.[Категоризация данных](#cell3)\n",
    "\n",
    "4.[Выводы](#cell4)"
   ]
  },
  {
   "cell_type": "markdown",
   "metadata": {},
   "source": [
    "# Исследование надёжности заёмщиков\n",
    "\n",
    "На основе данных о платежеспособности клиентов банка, необхожимо определить влияет ли семейное положение, количество детей, и доход клиента на своевременное погашение кредита. Это необходимо для потенциальной модели кредитного скоринга, разрабатываемой в банке."
   ]
  },
  {
   "cell_type": "markdown",
   "metadata": {},
   "source": [
    "## Изучение данных\n",
    "<a id='cell1'></a>"
   ]
  },
  {
   "cell_type": "code",
   "execution_count": 1,
   "metadata": {
    "scrolled": false
   },
   "outputs": [
    {
     "name": "stdout",
     "output_type": "stream",
     "text": [
      "<class 'pandas.core.frame.DataFrame'>\n",
      "RangeIndex: 21525 entries, 0 to 21524\n",
      "Data columns (total 12 columns):\n",
      "children            21525 non-null int64\n",
      "days_employed       19351 non-null float64\n",
      "dob_years           21525 non-null int64\n",
      "education           21525 non-null object\n",
      "education_id        21525 non-null int64\n",
      "family_status       21525 non-null object\n",
      "family_status_id    21525 non-null int64\n",
      "gender              21525 non-null object\n",
      "income_type         21525 non-null object\n",
      "debt                21525 non-null int64\n",
      "total_income        19351 non-null float64\n",
      "purpose             21525 non-null object\n",
      "dtypes: float64(2), int64(5), object(5)\n",
      "memory usage: 2.0+ MB\n"
     ]
    },
    {
     "data": {
      "text/plain": [
       " 0     14149\n",
       " 1      4818\n",
       " 2      2055\n",
       " 3       330\n",
       " 20       76\n",
       "-1        47\n",
       " 4        41\n",
       " 5         9\n",
       "Name: children, dtype: int64"
      ]
     },
     "execution_count": 1,
     "metadata": {},
     "output_type": "execute_result"
    }
   ],
   "source": [
    "import pandas as pd\n",
    "import matplotlib.pyplot as plt\n",
    "import seaborn as sns\n",
    "from collections import Counter\n",
    "from pymystem3 import Mystem\n",
    "from collections import Counter\n",
    "data = pd.read_csv('/datasets/data.csv')\n",
    "\n",
    "data.info()\n",
    "data.describe()\n",
    "data.head()\n",
    "\n",
    "data['days_employed'].value_counts()\n",
    "data['days_employed'].mean()\n",
    "data['dob_years'].value_counts()\n",
    "data['dob_years'].mean()\n",
    "data['children'].value_counts()"
   ]
  },
  {
   "cell_type": "markdown",
   "metadata": {},
   "source": [
    "**Вывод**"
   ]
  },
  {
   "cell_type": "markdown",
   "metadata": {},
   "source": [
    "Названия столбцов в порядке, но есть пропуски в столбцах *days_employed* и *total_income*. \n",
    "\n",
    "Столбец *days_employed* c количеством дней странный: большинство значений в нем отрицательные, но есть и положительные, но аномальные. Среднее значение по столбцу **63 тысячи дней** (~ 172 года), медианное - 1200 дней (~ 3 лет, что звучит нормально, но не со знаком минус).\n",
    "\n",
    "Столбец *dob_years* выглядит нормально, но у него есть 101 значение 0, что надо исправить, а в столбце *children* слишком много клиентов с одинаково большим количеством детей (по 20 в каждой) и клиентов с количеством детей в семье равным -1. \n",
    "\n",
    "Аномальные и некорректные значения могут быть связаны с техническим сбоем при загрузке данных или с тем, что данные собирались из разных источников и единый формат данных установлен не был, но сложно сказать точно.\n",
    "\n",
    "В текстовых полях зачастую встречаются дубликаты разного рода: разные регистры в столбце с образованием, разные формулировки одного и того же в столбце с целью получения кредита или же опечатки вроде \"ремонт жилью\" (хотя не исключено, что это дополнение к лозунгу \"Мир — хижинам, война — дворцам, ремонт — жилью!\", поэтому обязательно проверим эту гипотезу)"
   ]
  },
  {
   "cell_type": "markdown",
   "metadata": {},
   "source": [
    "## Предобработка данных\n",
    "<a id='cell2'></a>"
   ]
  },
  {
   "cell_type": "markdown",
   "metadata": {},
   "source": [
    "### Обработка дубликатов"
   ]
  },
  {
   "cell_type": "code",
   "execution_count": 2,
   "metadata": {},
   "outputs": [
    {
     "name": "stdout",
     "output_type": "stream",
     "text": [
      "<class 'pandas.core.frame.DataFrame'>\n",
      "Int64Index: 19407 entries, 0 to 21524\n",
      "Data columns (total 12 columns):\n",
      "children            19407 non-null int64\n",
      "days_employed       19351 non-null float64\n",
      "dob_years           19407 non-null int64\n",
      "education           19407 non-null object\n",
      "education_id        19407 non-null int64\n",
      "family_status       19407 non-null object\n",
      "family_status_id    19407 non-null int64\n",
      "gender              19407 non-null object\n",
      "income_type         19407 non-null object\n",
      "debt                19407 non-null int64\n",
      "total_income        19351 non-null float64\n",
      "purpose             19407 non-null object\n",
      "dtypes: float64(2), int64(5), object(5)\n",
      "memory usage: 1.9+ MB\n"
     ]
    }
   ],
   "source": [
    "data['education'].value_counts() # находим повторяющиеся значения разного регистра в образовании (15 вариантов), тогда как статусов в education_id всего 5   \n",
    "data['education'] = data['education'].str.lower() # переводим столбец с образованием в нижний регистр\n",
    "data['family_status'] = data['family_status'].str.lower() # переводим столбец с семейным статусом в нижний регистр\n",
    "data['education'].value_counts() # проверяем кол-во уникальных значений в столбце (было 15, стало 5), что соответствует education_id\n",
    "\n",
    "data = data.drop_duplicates(subset=['days_employed','total_income', 'dob_years'], keep='first') # удаляем дубликаты по совпадению данных в трех столбцах\n",
    "data.info() # проверяем"
   ]
  },
  {
   "cell_type": "markdown",
   "metadata": {},
   "source": [
    "**Вывод**"
   ]
  },
  {
   "cell_type": "markdown",
   "metadata": {},
   "source": [
    "Несмотря на отсутствие уникальных идентификаторов каждого клиента, мы можем предположить, что вероятность совпадения данных в столбцах с более чем 15 символами *days_employed* и *total_income* не очень высока, поэтому на основе этих двух столбцов и столбца с возрастом клиента, было выявлено **2118** повторяющихся строк, которые были удалены из исходной таблицы.          \n",
    "\n",
    "В данных есть повторяющиеся значения в разных регистрах в столбце c образованием *education*, которые были приведены к единому формату для дальнейшей категоризации. Так как данные одинаковые и просто написаны разным регистром, то достаточно привести их в единый формат, чтобы избавиться от дублей.\n",
    "\n",
    "Возможно, что данные по образованию собирались из разных источников или отделов и формат заполнения данных не был определен заранее, поэтому встречаются разные регистры. "
   ]
  },
  {
   "cell_type": "markdown",
   "metadata": {},
   "source": [
    "### Обработка пропусков"
   ]
  },
  {
   "cell_type": "markdown",
   "metadata": {},
   "source": [
    "#### Столбец с доходом total_income"
   ]
  },
  {
   "cell_type": "code",
   "execution_count": 3,
   "metadata": {
    "scrolled": false
   },
   "outputs": [
    {
     "data": {
      "text/html": [
       "<div>\n",
       "<style scoped>\n",
       "    .dataframe tbody tr th:only-of-type {\n",
       "        vertical-align: middle;\n",
       "    }\n",
       "\n",
       "    .dataframe tbody tr th {\n",
       "        vertical-align: top;\n",
       "    }\n",
       "\n",
       "    .dataframe thead th {\n",
       "        text-align: right;\n",
       "    }\n",
       "</style>\n",
       "<table border=\"1\" class=\"dataframe\">\n",
       "  <thead>\n",
       "    <tr style=\"text-align: right;\">\n",
       "      <th></th>\n",
       "      <th>children</th>\n",
       "      <th>days_employed</th>\n",
       "      <th>dob_years</th>\n",
       "      <th>education_id</th>\n",
       "      <th>family_status_id</th>\n",
       "      <th>debt</th>\n",
       "      <th>total_income</th>\n",
       "    </tr>\n",
       "  </thead>\n",
       "  <tbody>\n",
       "    <tr>\n",
       "      <td>count</td>\n",
       "      <td>56.000000</td>\n",
       "      <td>0.0</td>\n",
       "      <td>56.000000</td>\n",
       "      <td>56.000000</td>\n",
       "      <td>56.000000</td>\n",
       "      <td>56.000000</td>\n",
       "      <td>0.0</td>\n",
       "    </tr>\n",
       "    <tr>\n",
       "      <td>mean</td>\n",
       "      <td>0.410714</td>\n",
       "      <td>NaN</td>\n",
       "      <td>45.178571</td>\n",
       "      <td>0.839286</td>\n",
       "      <td>0.946429</td>\n",
       "      <td>0.160714</td>\n",
       "      <td>NaN</td>\n",
       "    </tr>\n",
       "    <tr>\n",
       "      <td>std</td>\n",
       "      <td>0.654406</td>\n",
       "      <td>NaN</td>\n",
       "      <td>17.023094</td>\n",
       "      <td>0.531782</td>\n",
       "      <td>1.270929</td>\n",
       "      <td>0.370591</td>\n",
       "      <td>NaN</td>\n",
       "    </tr>\n",
       "    <tr>\n",
       "      <td>min</td>\n",
       "      <td>0.000000</td>\n",
       "      <td>NaN</td>\n",
       "      <td>0.000000</td>\n",
       "      <td>0.000000</td>\n",
       "      <td>0.000000</td>\n",
       "      <td>0.000000</td>\n",
       "      <td>NaN</td>\n",
       "    </tr>\n",
       "    <tr>\n",
       "      <td>25%</td>\n",
       "      <td>0.000000</td>\n",
       "      <td>NaN</td>\n",
       "      <td>31.750000</td>\n",
       "      <td>1.000000</td>\n",
       "      <td>0.000000</td>\n",
       "      <td>0.000000</td>\n",
       "      <td>NaN</td>\n",
       "    </tr>\n",
       "    <tr>\n",
       "      <td>50%</td>\n",
       "      <td>0.000000</td>\n",
       "      <td>NaN</td>\n",
       "      <td>45.500000</td>\n",
       "      <td>1.000000</td>\n",
       "      <td>1.000000</td>\n",
       "      <td>0.000000</td>\n",
       "      <td>NaN</td>\n",
       "    </tr>\n",
       "    <tr>\n",
       "      <td>75%</td>\n",
       "      <td>1.000000</td>\n",
       "      <td>NaN</td>\n",
       "      <td>59.250000</td>\n",
       "      <td>1.000000</td>\n",
       "      <td>1.000000</td>\n",
       "      <td>0.000000</td>\n",
       "      <td>NaN</td>\n",
       "    </tr>\n",
       "    <tr>\n",
       "      <td>max</td>\n",
       "      <td>2.000000</td>\n",
       "      <td>NaN</td>\n",
       "      <td>73.000000</td>\n",
       "      <td>3.000000</td>\n",
       "      <td>4.000000</td>\n",
       "      <td>1.000000</td>\n",
       "      <td>NaN</td>\n",
       "    </tr>\n",
       "  </tbody>\n",
       "</table>\n",
       "</div>"
      ],
      "text/plain": [
       "        children  days_employed  dob_years  education_id  family_status_id  \\\n",
       "count  56.000000            0.0  56.000000     56.000000         56.000000   \n",
       "mean    0.410714            NaN  45.178571      0.839286          0.946429   \n",
       "std     0.654406            NaN  17.023094      0.531782          1.270929   \n",
       "min     0.000000            NaN   0.000000      0.000000          0.000000   \n",
       "25%     0.000000            NaN  31.750000      1.000000          0.000000   \n",
       "50%     0.000000            NaN  45.500000      1.000000          1.000000   \n",
       "75%     1.000000            NaN  59.250000      1.000000          1.000000   \n",
       "max     2.000000            NaN  73.000000      3.000000          4.000000   \n",
       "\n",
       "            debt  total_income  \n",
       "count  56.000000           0.0  \n",
       "mean    0.160714           NaN  \n",
       "std     0.370591           NaN  \n",
       "min     0.000000           NaN  \n",
       "25%     0.000000           NaN  \n",
       "50%     0.000000           NaN  \n",
       "75%     0.000000           NaN  \n",
       "max     1.000000           NaN  "
      ]
     },
     "metadata": {},
     "output_type": "display_data"
    },
    {
     "data": {
      "text/plain": [
       "1    42\n",
       "0    12\n",
       "3     1\n",
       "2     1\n",
       "Name: education_id, dtype: int64"
      ]
     },
     "metadata": {},
     "output_type": "display_data"
    },
    {
     "data": {
      "text/plain": [
       "сотрудник      22\n",
       "пенсионер      15\n",
       "компаньон      14\n",
       "госслужащий     5\n",
       "Name: income_type, dtype: int64"
      ]
     },
     "metadata": {},
     "output_type": "display_data"
    },
    {
     "data": {
      "text/plain": [
       "45.5"
      ]
     },
     "metadata": {},
     "output_type": "display_data"
    },
    {
     "data": {
      "text/plain": [
       "0    38\n",
       "1    13\n",
       "2     5\n",
       "Name: children, dtype: int64"
      ]
     },
     "metadata": {},
     "output_type": "display_data"
    },
    {
     "data": {
      "text/plain": [
       "0    27\n",
       "1    18\n",
       "4     6\n",
       "2     4\n",
       "3     1\n",
       "Name: family_status_id, dtype: int64"
      ]
     },
     "metadata": {},
     "output_type": "display_data"
    },
    {
     "data": {
      "text/plain": [
       "F    40\n",
       "M    16\n",
       "Name: gender, dtype: int64"
      ]
     },
     "metadata": {},
     "output_type": "display_data"
    }
   ],
   "source": [
    "data['missed_income'] = data['total_income'].isna() # проверяем количество пропущенных (56 пропущенных значений) и создаем столбец\n",
    "no_income_data = data[data['missed_income'] == True] # создаем полную таблицу только с теми клиентами, у кого пропущен доход, чтобы изучить их детальнее \n",
    "\n",
    "display(no_income_data.describe()) # видим, что клиенты с пропущенными значениями по стажу, также имеют пропущенные значения по доходу\n",
    "display(no_income_data['education_id'].value_counts()) # преобладающее большинство со средним образованием \n",
    "display(no_income_data['income_type'].value_counts()) # большинство \"сотрудников\", однако остальные все группы приблизительно равны\n",
    "display(no_income_data['dob_years'].median()) # медианный возраст 45.5 лет\n",
    "display(no_income_data['children'].value_counts()) # преобладающее большинство без детей\n",
    "display(no_income_data['family_status_id'].value_counts()) # преобладающее большинство в официальном или гражданском браке\n",
    "display(no_income_data['gender'].value_counts()) # преобладающее большинство женщины"
   ]
  },
  {
   "cell_type": "code",
   "execution_count": 4,
   "metadata": {},
   "outputs": [
    {
     "data": {
      "text/plain": [
       "education_id\n",
       "0    175340.818855\n",
       "1    136478.643244\n",
       "2    160115.398644\n",
       "3    117137.352825\n",
       "4    157259.898555\n",
       "Name: total_income, dtype: float64"
      ]
     },
     "metadata": {},
     "output_type": "display_data"
    },
    {
     "data": {
      "text/plain": [
       "family_status_id\n",
       "0    146184.627236\n",
       "1    144915.837605\n",
       "2    128213.686950\n",
       "3    146969.347256\n",
       "4    144681.423262\n",
       "Name: total_income, dtype: float64"
      ]
     },
     "metadata": {},
     "output_type": "display_data"
    },
    {
     "data": {
      "text/plain": [
       "gender\n",
       "F      134155.283479\n",
       "M      167714.343716\n",
       "XNA    203905.157261\n",
       "Name: total_income, dtype: float64"
      ]
     },
     "metadata": {},
     "output_type": "display_data"
    }
   ],
   "source": [
    "display(data.groupby('education_id')['total_income'].median())\n",
    "\n",
    "# далее посмотрим на распределение дохода по образованию среди всех клиентов, чтобы посмотреть что влияет на доход сильнее\n",
    "# похоже, что уровень образования имеет влияние на доход. наибольшие показатели медианного дохода у группы с высшим образованием \n",
    "\n",
    "display(data.groupby('family_status_id')['total_income'].median())\n",
    "# в зависимости от семейного статуса доход практически не меняется\n",
    "\n",
    "display(data.groupby('gender')['total_income'].median())\n",
    "# доход достаточно существенно отличается в зависимости от пола (у женщин доход на 20% ниже)"
   ]
  },
  {
   "cell_type": "code",
   "execution_count": 5,
   "metadata": {},
   "outputs": [],
   "source": [
    "# создаем таблицу по двум условиям, наиболее часто встречающимся для группы клиентов с пропущенными значениями\n",
    "# и имеющими влияние на доход: это значения образования и гендера (среднее образование и \"female\" в значении gender)\n",
    "# и берем из этой группировки медианные значения дохода (а в следующем пункте проекта и стажа)\n",
    "\n",
    "fillna_income = data[(data.education_id == 1) & (data.gender == 'F')] \n",
    "median_income_forna = fillna_income['total_income'].median() # сохраняем медиану по этой группировке в переменную"
   ]
  },
  {
   "cell_type": "code",
   "execution_count": 6,
   "metadata": {},
   "outputs": [
    {
     "data": {
      "text/plain": [
       "19407"
      ]
     },
     "metadata": {},
     "output_type": "display_data"
    },
    {
     "data": {
      "text/plain": [
       "0"
      ]
     },
     "metadata": {},
     "output_type": "display_data"
    }
   ],
   "source": [
    "data['total_income'] = data['total_income'].fillna(median_income_forna) #\n",
    "display(data['total_income'].count()) # проверяем все ли заполнилось\n",
    "display(data['total_income'].isna().sum()) # проверяем не осталось ли пропусков \n",
    "data['total_income'] = data['total_income'].round() # округляем значения для удобства дальнейшей работы"
   ]
  },
  {
   "cell_type": "markdown",
   "metadata": {},
   "source": [
    "#### Столбец со стажем days_employed"
   ]
  },
  {
   "cell_type": "code",
   "execution_count": 7,
   "metadata": {},
   "outputs": [
    {
     "data": {
      "text/plain": [
       "56"
      ]
     },
     "metadata": {},
     "output_type": "display_data"
    },
    {
     "data": {
      "text/plain": [
       "6.0115631969279315"
      ]
     },
     "metadata": {},
     "output_type": "display_data"
    },
    {
     "data": {
      "text/plain": [
       "183.32802440225305"
      ]
     },
     "metadata": {},
     "output_type": "display_data"
    }
   ],
   "source": [
    "# в столбце есть пропущенные значения, обработаем их для последующего заполнения\n",
    "\n",
    "display(data['days_employed'].isna().sum()) # 56 пропущенных значений\n",
    "data['days_employed_positive'] = data['days_employed'].abs() # отбрасываем минусы в отрицательных значениях\n",
    "data['years_employed'] = data['days_employed_positive'] / 365 # для удобства подсчетов создадим столбец со стажем в годах  \n",
    "display(data['years_employed'].median())\n",
    "display(data['years_employed'].mean()) # из-за гипераномальньных значений медиана отличается от среднего в 30 раз (6 лет против 183)"
   ]
  },
  {
   "cell_type": "code",
   "execution_count": 8,
   "metadata": {},
   "outputs": [],
   "source": [
    "# создаем таблицу без аномальных значений, чтобы они не мешали нам заполнить пустые строки\n",
    "\n",
    "employment_median_without_anom = data[data['years_employed'] < 50]"
   ]
  },
  {
   "cell_type": "code",
   "execution_count": 9,
   "metadata": {},
   "outputs": [
    {
     "data": {
      "text/plain": [
       "education_id\n",
       "0     4.413854\n",
       "1     4.613552\n",
       "2     3.147334\n",
       "3     3.259127\n",
       "4    10.552699\n",
       "Name: years_employed, dtype: float64"
      ]
     },
     "metadata": {},
     "output_type": "display_data"
    },
    {
     "data": {
      "text/plain": [
       "family_status_id\n",
       "0    4.784328\n",
       "1    4.226301\n",
       "2    6.387218\n",
       "3    4.640479\n",
       "4    3.381144\n",
       "Name: years_employed, dtype: float64"
      ]
     },
     "metadata": {},
     "output_type": "display_data"
    },
    {
     "data": {
      "text/plain": [
       "gender\n",
       "F      4.789780\n",
       "M      3.939223\n",
       "XNA    6.461919\n",
       "Name: years_employed, dtype: float64"
      ]
     },
     "metadata": {},
     "output_type": "display_data"
    }
   ],
   "source": [
    "# при работе со столбцом total_income была выявлена связь между уровнем дохода и показателями уровня образования и гендера\n",
    "# прежде чем выполнять обработку пропусков в столбце со стажем надо проверить актуальна ли эта связь и здесь\n",
    "\n",
    "display(employment_median_without_anom.groupby('education_id')['years_employed'].median())\n",
    "\n",
    "# стаж в зависимости от уровня образования меняется, однако не так существенно, как доход \n",
    "# выделяется сильно группа с ученой степенью в связи (id 4) c недостаточным кол-вом человек в ней\n",
    "\n",
    "display(employment_median_without_anom.groupby('family_status_id')['years_employed'].median())\n",
    "# в зависимости от семейного статуса стаж работы меняется незначительно. выделяется только значения статуса \"вдовец\" (id 2) \n",
    "\n",
    "display(employment_median_without_anom.groupby('gender')['years_employed'].median())\n",
    "# у женщин стаж меньше, чем у мужчин чуть менее чем на 20% "
   ]
  },
  {
   "cell_type": "code",
   "execution_count": 10,
   "metadata": {},
   "outputs": [
    {
     "data": {
      "text/plain": [
       "5.014239703566357"
      ]
     },
     "execution_count": 10,
     "metadata": {},
     "output_type": "execute_result"
    }
   ],
   "source": [
    "# создаем таблицу по двум условиям, наиболее часто встречающимся для группы клиентов с пропущенными значениями\n",
    "# и имеющими влияние на стаж: это значения образования и гендера (среднее образование и \"female\" в значении gender)\n",
    "# и берем из этой группировки медианные значения стажа\n",
    "\n",
    "fillna_employed = employment_median_without_anom[(employment_median_without_anom.education_id == 1) & (employment_median_without_anom.gender == 'F')] \n",
    "median_employment = fillna_employed['years_employed'].median() # сохраняем медиану по этой группировке в переменную\n",
    "fillna_employed['years_employed'].median()"
   ]
  },
  {
   "cell_type": "code",
   "execution_count": 11,
   "metadata": {},
   "outputs": [
    {
     "data": {
      "text/plain": [
       "19407"
      ]
     },
     "metadata": {},
     "output_type": "display_data"
    }
   ],
   "source": [
    "data['years_employed'] = data['years_employed'].fillna(median_employment) # заполняем пропущенные значения медианными\n",
    "display(data['years_employed'].count()) # проверяем все ли заполнилось\n",
    "data['years_employed'] = data['years_employed'].round() # округляем значения до полных чисел для удобства"
   ]
  },
  {
   "cell_type": "code",
   "execution_count": 12,
   "metadata": {},
   "outputs": [
    {
     "data": {
      "text/plain": [
       "Text(0.5, 1.0, 'Распределение клиентов по стажу')"
      ]
     },
     "execution_count": 12,
     "metadata": {},
     "output_type": "execute_result"
    },
    {
     "data": {
      "image/png": "[encoded data removed]",
      "text/plain": [
       "<Figure size 432x288 with 1 Axes>"
      ]
     },
     "metadata": {
      "needs_background": "light"
     },
     "output_type": "display_data"
    }
   ],
   "source": [
    "plot0 = data['years_employed'].hist(color='#0080ff', rwidth=0.9)\n",
    "plt.xlabel('Лет стажа', weight='bold')\n",
    "plt.ylabel('Количество клиентов', weight='bold')\n",
    "plt.title('Распределение клиентов по стажу', weight='bold')\n",
    "\n",
    "# строим график распределения по столбцу со стажем, чтобы посмотреть на аномальные значения\n",
    "# график распределения показывает, что около 20% клиентов имеют стаж больше 50 лет"
   ]
  },
  {
   "cell_type": "code",
   "execution_count": 13,
   "metadata": {},
   "outputs": [],
   "source": [
    "huge_exp = data['years_employed'] < 50 # фильтр для получения медианы без аномалий\n",
    "data[huge_exp]['years_employed'].count() # 3445 значений имеют стаж выше 50 лет \n",
    "all_median_employed = data[huge_exp]['years_employed'].median() # медиана без аномалий 4 года\n",
    "data.loc[data['years_employed'] > 50,'years_employed'] = all_median_employed"
   ]
  },
  {
   "cell_type": "code",
   "execution_count": 14,
   "metadata": {},
   "outputs": [
    {
     "data": {
      "text/plain": [
       "Text(0, 0.5, 'Кол-во клиентов')"
      ]
     },
     "execution_count": 14,
     "metadata": {},
     "output_type": "execute_result"
    },
    {
     "data": {
      "image/png": "[encoded data removed]",
      "text/plain": [
       "<Figure size 576x288 with 1 Axes>"
      ]
     },
     "metadata": {
      "needs_background": "light"
     },
     "output_type": "display_data"
    }
   ],
   "source": [
    "plot1 = data.hist(column='years_employed', bins=10, grid=True, figsize=(8,4), color='#0080ff', rwidth=0.9)\n",
    "plt.title(\"Стаж после исключения аномалий\", weight='bold', size=14)\n",
    "plt.xlabel(\"Лет стажа\", labelpad=20, weight='bold', size=12)\n",
    "plt.ylabel(\"Кол-во клиентов\", labelpad=20, weight='bold', size=12)\n",
    "    \n",
    "# строим тот же график, чтобы проверить все ли в порядке (спойлер: все в порядке)"
   ]
  },
  {
   "cell_type": "code",
   "execution_count": 15,
   "metadata": {},
   "outputs": [],
   "source": [
    "data = data.drop(['days_employed_positive', 'days_employed','missed_income'], axis=1) \n",
    "# убираем лишние столбцы"
   ]
  },
  {
   "cell_type": "markdown",
   "metadata": {},
   "source": [
    "\n",
    "#### Столбец с возрастом dob_years "
   ]
  },
  {
   "cell_type": "code",
   "execution_count": 16,
   "metadata": {},
   "outputs": [],
   "source": [
    "# в столбце dob_years надо исправить нулевые значения (именно 0, а не пропуски)\n",
    "# для этого можно посчитать средний или медианный возраст\n",
    "\n",
    "age_exclude0 = data['dob_years'] != 0 # фильтр для вывода медианного возраста без 0 значений\n",
    "data[age_exclude0]['dob_years'].median() # так я проверил медианный возраст без 0 значений\n",
    "\n",
    "# можно было бы обойтись и без фильтра, так как значения в целом не сильно разнятся (42 без фильтра и 43 с ним)\n",
    "# или взять средний возраст, который отличается на 0,2, но я подумал, что будет корректнее учесть этот момент\n",
    "\n",
    "data.loc[data['dob_years']== 0,'dob_years'] = 43 # заменяем все значения равные 0 на медианный возраст\n",
    "# убеждаемся, что нули пропали и кол-во строк с возрастом 43 увеличилось\n",
    "# data['dob_years'].value_counts()"
   ]
  },
  {
   "cell_type": "markdown",
   "metadata": {},
   "source": [
    "#### Столбец с количеством детей *children*"
   ]
  },
  {
   "cell_type": "code",
   "execution_count": 17,
   "metadata": {},
   "outputs": [
    {
     "data": {
      "text/plain": [
       " 0     12748\n",
       " 1      4356\n",
       " 2      1856\n",
       " 3       294\n",
       " 20       67\n",
       "-1        44\n",
       " 4        34\n",
       " 5         8\n",
       "Name: children, dtype: int64"
      ]
     },
     "metadata": {},
     "output_type": "display_data"
    },
    {
     "data": {
      "text/plain": [
       "0    12815\n",
       "1     4400\n",
       "2     1856\n",
       "3      294\n",
       "4       34\n",
       "5        8\n",
       "Name: children, dtype: int64"
      ]
     },
     "metadata": {},
     "output_type": "display_data"
    }
   ],
   "source": [
    "display(data['children'].value_counts()) # слишком много клиентов с 20 детьми и даже клиентов с -1 ребенком\n",
    "data['children'] = data['children'].abs() # убираем отрицательные значения\n",
    "data.loc[data['children']== 20,'children'] = 0 # заменяем все значения c 20 детьми (всего 67) на 0\n",
    "display(data['children'].value_counts())  # проверяем все ли в порядке"
   ]
  },
  {
   "cell_type": "markdown",
   "metadata": {},
   "source": [
    "**Вывод**"
   ]
  },
  {
   "cell_type": "markdown",
   "metadata": {},
   "source": [
    "Из столбцов *days_employed* и *total_income* были удалены пропущенные значения и заполнены медианными данными, так как в данном случае этот способ показался наиболее релевантным. \n",
    "В столбце с возрастом *dob_years* не было пропущенных значений, однако в нем было много значений 0, что является ошибкой (скорее всего технической при загрузке данных), которые также были заменены на средний возраст. \n",
    "В столбце с количеством детей *children* тоже не было пропущенных значений, но были некорректные. Отрицательные значения были обновлены на положительные (-1 на 1), а значения клиентов с 20 детьми были изменены на 0. Это было сложное решение, потому что я не смог выбрать 100% верный вариант в данном случае: не считать и убрать их полностью не хотелось, но считать, что у них у всех по 1 ребенку тоже не совсем корректно. Поэтому, сначала были заменены все строки с 20 детьми на 0, а затем на 1. Сравнение показало, что какой-либо значимой и ощутимой для статистики в данной таблице разницы нет.\n",
    "\n",
    "Я понимаю, что заменять все медианными значениями это упрощение, а также потеря детализации и точности данных, но, пока я не владею техническими инструментами pandas и python на уровне, позволяющем проверять все гипотезы относительно быстро, я осознанно использовал более простой метод, чтобы не закопаться."
   ]
  },
  {
   "cell_type": "markdown",
   "metadata": {},
   "source": [
    "#### Замена типа данных"
   ]
  },
  {
   "cell_type": "code",
   "execution_count": 18,
   "metadata": {},
   "outputs": [],
   "source": [
    "data['total_income'] = data['total_income'].astype(int)\n",
    "data['years_employed'] = data['years_employed'].astype(int)"
   ]
  },
  {
   "cell_type": "markdown",
   "metadata": {},
   "source": [
    "**Вывод**"
   ]
  },
  {
   "cell_type": "markdown",
   "metadata": {},
   "source": [
    "Только в столбцах с доходом и стажем были данные типа float. На предыдущем пункте 2.1 были предварительно убраны все пропущенные значения и заменен тип данных на целочисленный методом astype.  "
   ]
  },
  {
   "cell_type": "markdown",
   "metadata": {},
   "source": [
    "### Лемматизация"
   ]
  },
  {
   "cell_type": "code",
   "execution_count": 19,
   "metadata": {},
   "outputs": [
    {
     "data": {
      "text/plain": [
       "Counter({'покупка жилья': 1,\n",
       "         'приобретение автомобиля': 1,\n",
       "         'дополнительное образование': 1,\n",
       "         'сыграть свадьбу': 1,\n",
       "         'операции с жильем': 1,\n",
       "         'образование': 1,\n",
       "         'на проведение свадьбы': 1,\n",
       "         'покупка жилья для семьи': 1,\n",
       "         'покупка недвижимости': 1,\n",
       "         'покупка коммерческой недвижимости': 1,\n",
       "         'покупка жилой недвижимости': 1,\n",
       "         'строительство собственной недвижимости': 1,\n",
       "         'недвижимость': 1,\n",
       "         'строительство недвижимости': 1,\n",
       "         'на покупку подержанного автомобиля': 1,\n",
       "         'на покупку своего автомобиля': 1,\n",
       "         'операции с коммерческой недвижимостью': 1,\n",
       "         'строительство жилой недвижимости': 1,\n",
       "         'жилье': 1,\n",
       "         'операции со своей недвижимостью': 1,\n",
       "         'автомобили': 1,\n",
       "         'заняться образованием': 1,\n",
       "         'сделка с подержанным автомобилем': 1,\n",
       "         'получение образования': 1,\n",
       "         'автомобиль': 1,\n",
       "         'свадьба': 1,\n",
       "         'получение дополнительного образования': 1,\n",
       "         'покупка своего жилья': 1,\n",
       "         'операции с недвижимостью': 1,\n",
       "         'получение высшего образования': 1,\n",
       "         'свой автомобиль': 1,\n",
       "         'сделка с автомобилем': 1,\n",
       "         'профильное образование': 1,\n",
       "         'высшее образование': 1,\n",
       "         'покупка жилья для сдачи': 1,\n",
       "         'на покупку автомобиля': 1,\n",
       "         'ремонт жилью': 1,\n",
       "         'заняться высшим образованием': 1})"
      ]
     },
     "execution_count": 19,
     "metadata": {},
     "output_type": "execute_result"
    }
   ],
   "source": [
    "m = Mystem()\n",
    "\n",
    "purpose_list = data['purpose'].unique()\n",
    "Counter(purpose_list)"
   ]
  },
  {
   "cell_type": "code",
   "execution_count": 20,
   "metadata": {
    "scrolled": true
   },
   "outputs": [
    {
     "data": {
      "text/plain": [
       "Counter({'недвижимость': 1,\n",
       "         ' ': 3,\n",
       "         'автомобиль': 1,\n",
       "         'образование': 1,\n",
       "         'свадьба': 1,\n",
       "         '\\n': 1})"
      ]
     },
     "execution_count": 20,
     "metadata": {},
     "output_type": "execute_result"
    }
   ],
   "source": [
    "# лемматизируем слова в каждой строке для вывода основных ключевых категорий в целях кредита\n",
    "\n",
    "def lemmatization(row):\n",
    "    purpose = row['purpose']\n",
    "    try:\n",
    "        if 'свадь' in purpose:\n",
    "            return 'свадьба'\n",
    "        if 'жил' in purpose or 'недвиж' in purpose:\n",
    "            return 'недвижимость'\n",
    "        if 'авто' in purpose:\n",
    "            return 'автомобиль'\n",
    "        if 'образов' in purpose:\n",
    "            return 'образование'\n",
    "    except:\n",
    "        print('Не удалось обработать данные')\n",
    "        \n",
    "data['purpose'] = data.apply(lemmatization, axis=1) # можно было бы создать отдельный столбец, но я решил использовать старый\n",
    "\n",
    "purpose_list = data['purpose'].unique()\n",
    "purpose_txt = ' '.join(purpose_list)\n",
    "lemmas = m.lemmatize(purpose_txt)\n",
    "Counter(lemmas)"
   ]
  },
  {
   "cell_type": "markdown",
   "metadata": {},
   "source": [
    "**Вывод**"
   ]
  },
  {
   "cell_type": "markdown",
   "metadata": {},
   "source": [
    "Для того, чтобы определить основные категории в целях кредита, были лемматизированы строки в столбце *purpose* через функцию (на всякий случай была использована конструкция try-except),  лемматизированные значения записаны в тот же столбец *purpose* (можно было создать новый, но старые данные в этом столбце, на мой взгляд, не понадобятся для дальнейшего изучения, а если вдруг будут нужны, есть исходный файл). \n",
    "Далее были собраны уникальные значения в одном месте и разделены между собой пробелом. Счетчиком проверено их количество. \n",
    "\n",
    "Выявлено четыре категории целей кредита: **недвижимость,  автомобиль, образование, свадьба**. \n"
   ]
  },
  {
   "cell_type": "markdown",
   "metadata": {},
   "source": [
    "### Категоризация данных\n",
    "<a id='cell3'></a>"
   ]
  },
  {
   "cell_type": "markdown",
   "metadata": {},
   "source": [
    "#### По типу кредита\n",
    "<a id='cell5'></a>"
   ]
  },
  {
   "cell_type": "code",
   "execution_count": 21,
   "metadata": {
    "scrolled": false
   },
   "outputs": [
    {
     "data": {
      "text/plain": [
       "<matplotlib.axes._subplots.AxesSubplot at 0x7f55fffce1d0>"
      ]
     },
     "metadata": {},
     "output_type": "display_data"
    },
    {
     "name": "stdout",
     "output_type": "stream",
     "text": [
      "7.34% (718 человек) — доля должников с целью кредита \"недвижимость\"\n",
      "9.44% (369 человек) — доля должников с целью кредита \"автомобиль\"\n",
      "9.21% (332 человек) — доля должников с целью кредита \"образование\"\n",
      "7.63% (161 человек) — доля должников с целью кредита \"свадьба\"\n"
     ]
    },
    {
     "data": {
      "image/png": "[encoded data removed]",
      "text/plain": [
       "<Figure size 432x288 with 1 Axes>"
      ]
     },
     "metadata": {
      "needs_background": "light"
     },
     "output_type": "display_data"
    }
   ],
   "source": [
    "# используем лемматизированные данные из обновленного столбца purpose и строим базовый график для того, чтобы понять соотношение\n",
    "\n",
    "purpose_count = data['purpose'].value_counts(normalize=True).mul(100) # соотношение целей кредита в процентах для удобства\n",
    "display(purpose_count.plot.bar()) # график по целям кредита\n",
    "plt.title('Распределение по целя кредита в %')\n",
    "plt.ylabel('Проценты')\n",
    "\n",
    "# cмотрим на соотношение наличия/отсутствия задолженности у клиентов с целью кредита \"недвижимость\"\n",
    "\n",
    "realty = data[data.purpose == 'недвижимость']\n",
    "realty_debt1 = realty[realty.debt == 1]\n",
    "realty_debt1_count = realty_debt1['debt'].count()\n",
    "realty_rate = realty_debt1['debt'].count() / realty['debt'].count() * 100\n",
    "print(f'{realty_rate.round(2)}% ({realty_debt1_count} человек) — доля должников с целью кредита \"недвижимость\"')\n",
    "\n",
    "# cмотрим на соотношение наличия/отсутствия задолженности у клиентов с целью кредита \"автомобиль\"\n",
    "\n",
    "car = data[data.purpose == 'автомобиль']\n",
    "car_debt1 = car[car.debt == 1]\n",
    "car_debt1_count = car_debt1['debt'].count()\n",
    "car_rate = car_debt1['debt'].count() / car['debt'].count() * 100\n",
    "print(f'{car_rate.round(2)}% ({car_debt1_count} человек) — доля должников с целью кредита \"автомобиль\"')\n",
    "\n",
    "# cмотрим на соотношение наличия/отсутствия задолженности у клиентов с целью кредита \"образование\"\n",
    "\n",
    "edu = data[data.purpose == 'образование']\n",
    "edu_debt1 = edu[edu.debt == 1]\n",
    "edu_debt1_count = edu_debt1['debt'].count()\n",
    "edu_rate = edu_debt1['debt'].count() / edu['debt'].count() * 100\n",
    "print(f'{edu_rate.round(2)}% ({edu_debt1_count} человек) — доля должников с целью кредита \"образование\"')\n",
    "\n",
    "# cмотрим на соотношение наличия/отсутствия задолженности у клиентов с целью кредита \"свадьба\"\n",
    "\n",
    "wedding = data[data.purpose == 'свадьба']\n",
    "wedding_debt1 = wedding[wedding.debt == 1]\n",
    "wedding_debt1_count = wedding_debt1['debt'].count()\n",
    "wedding_rate = wedding_debt1['debt'].count() / wedding['debt'].count() * 100\n",
    "print(f'{wedding_rate.round(2)}% ({wedding_debt1_count} человек) — доля должников с целью кредита \"свадьба\"')"
   ]
  },
  {
   "cell_type": "markdown",
   "metadata": {},
   "source": [
    "50% клиентов в базе планирует использовать кредит для проведения операций с недвижимостью (покупки, строительства, ремонта и др.). По 20% клиентов планирует потратить кредитные средства на приобретение автомобиля и получение образования, оставшиеся клиенты хотят получить кредит, чтобы провести свадьбу. \n",
    "\n",
    "Доля клиентов с задолженностью среди каждой группы *purpose* с целями кредита не превышает **7-10%**. По номинальному количеству должников лидирует группа \"недвижимость\" (*718*), в ней больше всего людей  и несмотря на самый низкий процент от общего числа человек в группе, номинально она самая крупная. Далее идет группа клиентов с целью кредита \"автомобиль\" и группа \"образование\" — с 369 и, соответственно, 332 клиентами в них. Меньше всего количество клиентов должников в группе \"свадьба\" — 161 человек. Таким образом, в абсолютных процентных значениях группы \"недвижимость\" и \"свадьба\" имеют меньшую долю клиентов с задолженностью, однако количественно группа недвижимость является самой крупной и из-за своего масштаба, 7% в ней превышает почти в два раза показатель следующей группы — 718 против 369. "
   ]
  },
  {
   "cell_type": "markdown",
   "metadata": {},
   "source": [
    "#### По наличию детей"
   ]
  },
  {
   "cell_type": "code",
   "execution_count": 22,
   "metadata": {
    "scrolled": false
   },
   "outputs": [],
   "source": [
    "def childrendebt_status(row):\n",
    "    children = row['children']\n",
    "    debt = row['debt']\n",
    "    try:\n",
    "        if children > 0 and debt == 1:\n",
    "            return 'должники с детьми'\n",
    "        if children == 0 and debt == 1:\n",
    "            return 'должники без детей'\n",
    "        return 'без долгов'\n",
    "    except:\n",
    "        print('Не удалось обработать данные')\n",
    "    \n",
    "data['childrendebt_status'] = data.apply(childrendebt_status, axis=1)"
   ]
  },
  {
   "cell_type": "code",
   "execution_count": 23,
   "metadata": {},
   "outputs": [
    {
     "data": {
      "text/plain": [
       "<matplotlib.axes._subplots.AxesSubplot at 0x7f55fff83b50>"
      ]
     },
     "metadata": {},
     "output_type": "display_data"
    },
    {
     "data": {
      "text/plain": [
       "Text(0, 0.5, 'Количество клиентов')"
      ]
     },
     "execution_count": 23,
     "metadata": {},
     "output_type": "execute_result"
    },
    {
     "data": {
      "image/png": "[encoded data removed]",
      "text/plain": [
       "<Figure size 432x288 with 1 Axes>"
      ]
     },
     "metadata": {
      "needs_background": "light"
     },
     "output_type": "display_data"
    }
   ],
   "source": [
    "# строим простой график, чтобы понять соотношение задолженностей у разных категорий (кроме тех, у кого нет долга, конечно)\n",
    "\n",
    "childrendebt_data = data[data.childrendebt_status != 'без долгов'] # исключаем тех, у кого нет долга, чтобы они не портили картину\n",
    "childrendebt_plot = childrendebt_data.groupby('childrendebt_status').size() # группируем данные, чтобы посмотреть на соотношение\n",
    "display(childrendebt_plot.plot.bar()) # график для вывода соотношения клиентов с задолженностью с детьми и без\n",
    "plt.title('Наличие детей у клиентов с задолженностью')\n",
    "plt.ylabel('Количество клиентов')"
   ]
  },
  {
   "cell_type": "code",
   "execution_count": 24,
   "metadata": {},
   "outputs": [
    {
     "name": "stdout",
     "output_type": "stream",
     "text": [
      "9.31% (614 человек) — доля должников с детьми\n",
      "7.54% (966 человек) — доля должников без детей\n"
     ]
    }
   ],
   "source": [
    "# смотрим на соотношение наличия/отсутствия задолженности у клиентов с детьми\n",
    "havechildren = data[data.children != 0]\n",
    "havechildren_debt1 = havechildren[havechildren.debt == 1]\n",
    "havechildren_debt1_count = havechildren_debt1['debt'].count()\n",
    "havechildren_rate = havechildren_debt1['debt'].count() / havechildren['debt'].count() * 100\n",
    "print(f'{havechildren_rate.round(2)}% ({havechildren_debt1_count} человек) — доля должников с детьми')\n",
    "\n",
    "# смотрим на соотношение наличия/отсутствия задолженности у клиентов без детей\n",
    "\n",
    "nochildren = data[data.children == 0]\n",
    "nochildren_debt1 = nochildren[nochildren.debt == 1]\n",
    "nochildren_debt1_count = nochildren_debt1['debt'].count()\n",
    "nochildren_rate = nochildren_debt1['debt'].count() / nochildren['debt'].count() * 100\n",
    "print(f'{nochildren_rate.round(2)}% ({nochildren_debt1_count} человек) — доля должников без детей')"
   ]
  },
  {
   "cell_type": "markdown",
   "metadata": {},
   "source": [
    "Для сравнения надежности заемщиков был создан столбец *childrendebt_status* с тремя возможными значениями: \n",
    "- клиенты с детьми имеющие задолженность\n",
    "- клиенты без детей имеющие задолженность\n",
    "- клиенты без задолженности\n",
    "\n",
    "По графику *childrendebt_plot* видно, что ~60% всех клиентов, имевших задолженность не имеют детей. Но среди клиентов с детьми или без детей доля клиентов с задолженностью не превышает уже упомянутые выше 7-10%. \n",
    "\n",
    "В процентном соотношении доля должников в группе клиентов с детьми ниже, однако из-за большего количества человек в этой группе, количественно должников здесь больше где-то на 30%: **966 против 614 клиентов.**"
   ]
  },
  {
   "cell_type": "markdown",
   "metadata": {},
   "source": [
    "#### По семейному статусу"
   ]
  },
  {
   "cell_type": "code",
   "execution_count": 25,
   "metadata": {
    "scrolled": false
   },
   "outputs": [],
   "source": [
    "def familydebt_status(row):\n",
    "    family = row['family_status_id']\n",
    "    debt = row['debt']\n",
    "    try:\n",
    "        if family == 0 and debt == 1:\n",
    "            return 'должники в браке'\n",
    "        if family == 1 and debt == 1:\n",
    "            return 'должники в гражданском браке'\n",
    "        if family == 2 and debt == 1:\n",
    "            return 'должники вдовцы'\n",
    "        if family == 3 and debt == 1:\n",
    "            return 'должники в разводе'\n",
    "        if family == 4 and debt == 1:\n",
    "            return 'должники холостые'\n",
    "        return 'люди без долгов'\n",
    "    except:\n",
    "        print('Не удалось обработать данные')\n",
    "\n",
    "data['familydebt_status'] = data.apply(familydebt_status, axis=1)"
   ]
  },
  {
   "cell_type": "code",
   "execution_count": 26,
   "metadata": {},
   "outputs": [
    {
     "data": {
      "text/plain": [
       "<matplotlib.axes._subplots.AxesSubplot at 0x7f55fff5e0d0>"
      ]
     },
     "execution_count": 26,
     "metadata": {},
     "output_type": "execute_result"
    },
    {
     "data": {
      "image/png": "[encoded data removed]",
      "text/plain": [
       "<Figure size 432x288 with 1 Axes>"
      ]
     },
     "metadata": {
      "needs_background": "light"
     },
     "output_type": "display_data"
    }
   ],
   "source": [
    "# строим график, чтобы понять соотношение задолженностей у разных категорий (кроме тех, у кого нет долга, конечно)\n",
    "\n",
    "familydebt_data = data[data.familydebt_status != 'люди без долгов'] # исключаем тех, у кого нет долга, чтобы они не портили картину\n",
    "familydebt_plot = familydebt_data.groupby('familydebt_status').size() \n",
    "familydebt_plot.plot.bar()"
   ]
  },
  {
   "cell_type": "code",
   "execution_count": 27,
   "metadata": {},
   "outputs": [
    {
     "name": "stdout",
     "output_type": "stream",
     "text": [
      "7.99% (1192 человек) — доля должников с браке (оф/гражд)\n",
      "8.65% (388 человек) — доля должников не в браке\n"
     ]
    }
   ],
   "source": [
    "# смотрим на соотношение наличия/отсутствия задолженности у клиентов в браке (оф и гр)\n",
    "marriage = data[(data.family_status_id == 0) | (data.family_status_id == 1)]\n",
    "marriage_debt1 = marriage[marriage.debt == 1]\n",
    "marriage_debt1_count = marriage_debt1['debt'].count()\n",
    "marriage_rate = marriage_debt1['debt'].count() / marriage['debt'].count() * 100\n",
    "print(f'{marriage_rate.round(2)}% ({marriage_debt1_count} человек) — доля должников с браке (оф/гражд)')\n",
    "\n",
    "# смотрим на соотношение наличия/отсутствия задолженности у клиентов не в браке\n",
    "nomarriage = data[(data.family_status_id == 2) | (data.family_status_id == 3) | (data.family_status_id == 3) | (data.family_status_id == 4)]\n",
    "nomarriage_debt1 = nomarriage[nomarriage.debt == 1]\n",
    "nomarriage_debt1_count = nomarriage_debt1['debt'].count()\n",
    "nomarriage_rate = nomarriage_debt1['debt'].count() / nomarriage['debt'].count() * 100\n",
    "print(f'{nomarriage_rate.round(2)}% ({nomarriage_debt1_count} человек) — доля должников не в браке')"
   ]
  },
  {
   "cell_type": "markdown",
   "metadata": {},
   "source": [
    "Для сравнения надежности заемщиков был создан столбец *familydebt_status* с шестью возможными значениями для каждого типа семейного статуса:\n",
    "- женат/замужем\n",
    "- гражданский брак\n",
    "- вдовец/вдова\n",
    "- в разводе\n",
    "- не женат/не замужем\n",
    "- клиенты без задолженности\n",
    "\n",
    "Доля клиентов с задолженностью в каждой из категорий не превышает **10%** (колеблется между 7-10%). По графику *familydebt_plot* видно, что большинство клиентов, имевших задолженность, находятся в зарегистрированном или гражданском браке. При этом всего клиентов в браке и гражд.браке от общего кол-ва клиентов  базе аналогично ~ 75%.\n",
    "\n",
    "В связи с тем, что в числовом выражении преобладающее большинство клиентов в браке (около 15 тысяч клиентов против 4 тысяч не в браке), несмотря на почти одинаковые доли, количество должников в браке в три раза больше: 1192 против 388.\n",
    "\n",
    "P.S. \n",
    "Были проверены все категории, однако в связи с отсутствием существенных различий в долях они были объединены в коде в две группы (клиенты в браке и не в браке).   "
   ]
  },
  {
   "cell_type": "markdown",
   "metadata": {},
   "source": [
    "#### По уровню дохода"
   ]
  },
  {
   "cell_type": "code",
   "execution_count": 28,
   "metadata": {},
   "outputs": [
    {
     "data": {
      "text/plain": [
       "<matplotlib.axes._subplots.AxesSubplot at 0x7f55ffee8210>"
      ]
     },
     "execution_count": 28,
     "metadata": {},
     "output_type": "execute_result"
    },
    {
     "data": {
      "image/png": "[encoded data removed]",
      "text/plain": [
       "<Figure size 432x288 with 1 Axes>"
      ]
     },
     "metadata": {
      "needs_background": "light"
     },
     "output_type": "display_data"
    }
   ],
   "source": [
    "# видим, что большая часть клиентов имеет доход не более 300к в месяц, а менее 1500 клиентов имеют доходы выше\n",
    "\n",
    "# строим гистограмму без выделяющихся значений\n",
    "data['income_norm'] = data['total_income'][data.total_income <= 300000] # создаем столбец, в котором нет выделяющихся значений \n",
    "sns.distplot(data['income_norm'], hist=True, kde=False, bins=20, color = 'blue', hist_kws={'edgecolor':'black'})\n",
    "\n",
    "# столбец income_norm можно удалить, но тогда график выше поломается, поэтому я его оставил, но он в целом не нужен"
   ]
  },
  {
   "cell_type": "code",
   "execution_count": 29,
   "metadata": {},
   "outputs": [],
   "source": [
    "# используем qcut для распределения клиентов по квантилям на равные группы по доходу\n",
    "data['total_income_status'] = pd.qcut(data.total_income,q=5,\n",
    "labels=['низкий доход', 'средний доход', 'доход выше среднего', 'высокий доход', 'очень высокий доход'])"
   ]
  },
  {
   "cell_type": "code",
   "execution_count": 30,
   "metadata": {},
   "outputs": [
    {
     "name": "stdout",
     "output_type": "stream",
     "text": [
      "8.04% (312 человек) — доля должников с низким доходом\n",
      "8.4% (326 человек) — доля должников со средним доходом\n",
      "8.71% (338 человек) — доля должников с доходом выше среднего\n",
      "8.5% (330 человек) — доля должников с высоким доходом\n",
      "7.06% (274 человек) — доля должников с очень высоким доходом\n"
     ]
    }
   ],
   "source": [
    "low_income = data[data.total_income_status == 'низкий доход'] # смотрим на группу клиентов с низким доходом\n",
    "low_income_debt1 = low_income[low_income.debt == 1]\n",
    "low_income_debt1_count = low_income_debt1['debt'].count()\n",
    "low_income_rate = low_income_debt1['debt'].count() / low_income['debt'].count() * 100\n",
    "print(f'{low_income_rate.round(2)}% ({low_income_debt1_count} человек) — доля должников с низким доходом')\n",
    "\n",
    "mid_income = data[data.total_income_status == 'средний доход'] # смотрим на группу клиентов со средним доходом\n",
    "mid_income_debt1 = mid_income[mid_income.debt == 1]\n",
    "mid_income_debt1_count = mid_income_debt1['debt'].count()\n",
    "mid_income_rate = mid_income_debt1['debt'].count() / mid_income['debt'].count() * 100\n",
    "print(f'{mid_income_rate.round(2)}% ({mid_income_debt1_count} человек) — доля должников со средним доходом')\n",
    "\n",
    "midplus_income = data[data.total_income_status == 'доход выше среднего'] # смотрим на группу клиентов с доходом выше среднего\n",
    "midplus_income_debt1 = midplus_income[midplus_income.debt == 1]\n",
    "midplus_income_debt1_count = midplus_income_debt1['debt'].count()\n",
    "midplus_income_rate = midplus_income_debt1['debt'].count() / midplus_income['debt'].count() * 100\n",
    "print(f'{midplus_income_rate.round(2)}% ({midplus_income_debt1_count} человек) — доля должников с доходом выше среднего')\n",
    "\n",
    "hign_income = data[data.total_income_status == 'высокий доход'] # смотрим на группу клиентов с высоким доходом\n",
    "hign_income_debt1 = hign_income[hign_income.debt == 1]\n",
    "hign_income_debt1_count = hign_income_debt1['debt'].count()\n",
    "hign_income_rate = hign_income_debt1['debt'].count() / hign_income['debt'].count() * 100\n",
    "print(f'{hign_income_rate.round(2)}% ({hign_income_debt1_count} человек) — доля должников с высоким доходом')\n",
    "\n",
    "veryhign_income = data[data.total_income_status == 'очень высокий доход'] # смотрим на группу клиентов с высоким доходом\n",
    "veryhign_income_debt1 = veryhign_income[veryhign_income.debt ==1]\n",
    "veryhign_income_debt1_count = veryhign_income_debt1['debt'].count()\n",
    "veryhign_income_rate = veryhign_income_debt1['debt'].count() / veryhign_income['debt'].count() * 100\n",
    "print(f'{veryhign_income_rate.round(2)}% ({veryhign_income_debt1_count} человек) — доля должников с очень высоким доходом')"
   ]
  },
  {
   "cell_type": "code",
   "execution_count": 31,
   "metadata": {},
   "outputs": [
    {
     "data": {
      "text/plain": [
       "76129.0"
      ]
     },
     "metadata": {},
     "output_type": "display_data"
    },
    {
     "data": {
      "text/plain": [
       "111334.0"
      ]
     },
     "metadata": {},
     "output_type": "display_data"
    },
    {
     "data": {
      "text/plain": [
       "144732.0"
      ]
     },
     "metadata": {},
     "output_type": "display_data"
    },
    {
     "data": {
      "text/plain": [
       "188918.0"
      ]
     },
     "metadata": {},
     "output_type": "display_data"
    },
    {
     "data": {
      "text/plain": [
       "277946.0"
      ]
     },
     "metadata": {},
     "output_type": "display_data"
    }
   ],
   "source": [
    "display(low_income['total_income'].median())\n",
    "display(mid_income['total_income'].median())\n",
    "display(midplus_income['total_income'].median())\n",
    "display(hign_income['total_income'].median())\n",
    "display(veryhign_income['total_income'].median())"
   ]
  },
  {
   "cell_type": "markdown",
   "metadata": {},
   "source": [
    "На графике распределения доходов без клиентов с доходами свыше 300 тыс. рублей, видно, что выделяется значение 145 тысяч рублей, потому что мы заполнили их медианной зарплатой в пункте 2.1.3. \n",
    "\n",
    "Большая часть клиентов (~75%) имеет доход свыше 50 и ниже 200 тысяч рублей, ~21% клиентов с средними доходами, 2% c очень высокими доходами, и чуть менее 2% клиентов с низкими доходами менее 50 тысяч рублей. \n",
    "\n",
    "Для разделения групп был использован метод qcut для рравномерного распределения клиентов по квантилям. Было выведено пять групп клиентов:\n",
    "- с низкими доходами (медианный доход 76 тысяч)\n",
    "- со средними доходами (медианный доход 111 тысяч)\n",
    "- с доходами выше среднего (медианный доход 144 тысяч)\n",
    "- с высокими доходами (медианный доход 189 тысяч)\n",
    "- с очень высокими доходами (медианный доход 278 тысяч)\n",
    "\n",
    "Количество и доли должников практически не отличаются, выделяется только группа клиентов с очень высокими доходами — среди них меньше всего должников."
   ]
  },
  {
   "cell_type": "markdown",
   "metadata": {},
   "source": [
    "**Вывод**"
   ]
  },
  {
   "cell_type": "markdown",
   "metadata": {},
   "source": [
    "Для анализа и сопоставления клиенты были категоризированы по следующим характеристикам:\n",
    "\n",
    "    1. Целям кредита\n",
    "    2. Наличию детей\n",
    "    3. Семейному статусу\n",
    "    4. Уровню дохода\n",
    "    \n",
    "В рамках каждой из категорий клиенты были распределены в различные группы, однако ни одна из них не имеет долю клиентов с задолженностью свыше 10%.\n",
    "\n",
    "Портрет среднего клиента с задолженностью исходя из имеющихся данных:\n",
    "\n",
    "    1. 39-40 лет (с большей вероятностью женщина)\n",
    "    2. Скорее всего без детей\n",
    "    3. Со стажем работы 5 лет\n",
    "    4. Скорее всего со средним образованием\n",
    "    5. Cкорее всего замужем/в гражданском браке\n",
    "    6. Цель кредита - операции с недвижимостью\n",
    "    7. C ежемесячным доходом 140-160 тысяч рублей"
   ]
  },
  {
   "cell_type": "code",
   "execution_count": 32,
   "metadata": {},
   "outputs": [
    {
     "data": {
      "text/html": [
       "<div>\n",
       "<style scoped>\n",
       "    .dataframe tbody tr th:only-of-type {\n",
       "        vertical-align: middle;\n",
       "    }\n",
       "\n",
       "    .dataframe tbody tr th {\n",
       "        vertical-align: top;\n",
       "    }\n",
       "\n",
       "    .dataframe thead tr th {\n",
       "        text-align: left;\n",
       "    }\n",
       "\n",
       "    .dataframe thead tr:last-of-type th {\n",
       "        text-align: right;\n",
       "    }\n",
       "</style>\n",
       "<table border=\"1\" class=\"dataframe\">\n",
       "  <thead>\n",
       "    <tr>\n",
       "      <th></th>\n",
       "      <th colspan=\"2\" halign=\"left\">debt</th>\n",
       "      <th colspan=\"2\" halign=\"left\">dob_years</th>\n",
       "      <th colspan=\"4\" halign=\"left\">total_income</th>\n",
       "    </tr>\n",
       "    <tr>\n",
       "      <th></th>\n",
       "      <th colspan=\"2\" halign=\"left\">count</th>\n",
       "      <th colspan=\"2\" halign=\"left\">mean</th>\n",
       "      <th colspan=\"2\" halign=\"left\">max</th>\n",
       "      <th colspan=\"2\" halign=\"left\">median</th>\n",
       "    </tr>\n",
       "    <tr>\n",
       "      <th>debt</th>\n",
       "      <th>0</th>\n",
       "      <th>1</th>\n",
       "      <th>0</th>\n",
       "      <th>1</th>\n",
       "      <th>0</th>\n",
       "      <th>1</th>\n",
       "      <th>0</th>\n",
       "      <th>1</th>\n",
       "    </tr>\n",
       "    <tr>\n",
       "      <th>purpose</th>\n",
       "      <th></th>\n",
       "      <th></th>\n",
       "      <th></th>\n",
       "      <th></th>\n",
       "      <th></th>\n",
       "      <th></th>\n",
       "      <th></th>\n",
       "      <th></th>\n",
       "    </tr>\n",
       "  </thead>\n",
       "  <tbody>\n",
       "    <tr>\n",
       "      <td>автомобиль</td>\n",
       "      <td>3541</td>\n",
       "      <td>369</td>\n",
       "      <td>44.064389</td>\n",
       "      <td>40.409214</td>\n",
       "      <td>1427934.0</td>\n",
       "      <td>618523.0</td>\n",
       "      <td>143809.0</td>\n",
       "      <td>143991.0</td>\n",
       "    </tr>\n",
       "    <tr>\n",
       "      <td>недвижимость</td>\n",
       "      <td>9063</td>\n",
       "      <td>718</td>\n",
       "      <td>43.573982</td>\n",
       "      <td>40.282730</td>\n",
       "      <td>2265604.0</td>\n",
       "      <td>2200852.0</td>\n",
       "      <td>146293.0</td>\n",
       "      <td>146969.5</td>\n",
       "    </tr>\n",
       "    <tr>\n",
       "      <td>образование</td>\n",
       "      <td>3273</td>\n",
       "      <td>332</td>\n",
       "      <td>43.892148</td>\n",
       "      <td>40.542169</td>\n",
       "      <td>1726276.0</td>\n",
       "      <td>1030899.0</td>\n",
       "      <td>143425.0</td>\n",
       "      <td>139113.5</td>\n",
       "    </tr>\n",
       "    <tr>\n",
       "      <td>свадьба</td>\n",
       "      <td>1950</td>\n",
       "      <td>161</td>\n",
       "      <td>43.544615</td>\n",
       "      <td>41.689441</td>\n",
       "      <td>1711309.0</td>\n",
       "      <td>535227.0</td>\n",
       "      <td>144660.0</td>\n",
       "      <td>128241.0</td>\n",
       "    </tr>\n",
       "  </tbody>\n",
       "</table>\n",
       "</div>"
      ],
      "text/plain": [
       "              debt       dob_years            total_income             \\\n",
       "             count            mean                     max              \n",
       "debt             0    1          0          1            0          1   \n",
       "purpose                                                                 \n",
       "автомобиль    3541  369  44.064389  40.409214    1427934.0   618523.0   \n",
       "недвижимость  9063  718  43.573982  40.282730    2265604.0  2200852.0   \n",
       "образование   3273  332  43.892148  40.542169    1726276.0  1030899.0   \n",
       "свадьба       1950  161  43.544615  41.689441    1711309.0   535227.0   \n",
       "\n",
       "                                  \n",
       "                median            \n",
       "debt                 0         1  \n",
       "purpose                           \n",
       "автомобиль    143809.0  143991.0  \n",
       "недвижимость  146293.0  146969.5  \n",
       "образование   143425.0  139113.5  \n",
       "свадьба       144660.0  128241.0  "
      ]
     },
     "execution_count": 32,
     "metadata": {},
     "output_type": "execute_result"
    }
   ],
   "source": [
    "data.pivot_table(index=['purpose'], values=['children', 'total_income', 'dob_years'], \n",
    "columns='debt', aggfunc={'debt': 'count', 'total_income': ['median','max'], 'dob_years':'mean'})\n",
    "\n",
    "# cводная таблица, которая позволяет выделить усредненный портрет клиента с задолженностью по категории \"цель кредита\""
   ]
  },
  {
   "cell_type": "code",
   "execution_count": 33,
   "metadata": {},
   "outputs": [
    {
     "data": {
      "text/html": [
       "<div>\n",
       "<style scoped>\n",
       "    .dataframe tbody tr th:only-of-type {\n",
       "        vertical-align: middle;\n",
       "    }\n",
       "\n",
       "    .dataframe tbody tr th {\n",
       "        vertical-align: top;\n",
       "    }\n",
       "\n",
       "    .dataframe thead tr th {\n",
       "        text-align: left;\n",
       "    }\n",
       "\n",
       "    .dataframe thead tr:last-of-type th {\n",
       "        text-align: right;\n",
       "    }\n",
       "</style>\n",
       "<table border=\"1\" class=\"dataframe\">\n",
       "  <thead>\n",
       "    <tr>\n",
       "      <th></th>\n",
       "      <th colspan=\"2\" halign=\"left\">debt</th>\n",
       "      <th colspan=\"2\" halign=\"left\">dob_years</th>\n",
       "      <th colspan=\"4\" halign=\"left\">total_income</th>\n",
       "    </tr>\n",
       "    <tr>\n",
       "      <th></th>\n",
       "      <th colspan=\"2\" halign=\"left\">count</th>\n",
       "      <th colspan=\"2\" halign=\"left\">mean</th>\n",
       "      <th colspan=\"2\" halign=\"left\">max</th>\n",
       "      <th colspan=\"2\" halign=\"left\">median</th>\n",
       "    </tr>\n",
       "    <tr>\n",
       "      <th>debt</th>\n",
       "      <th>0</th>\n",
       "      <th>1</th>\n",
       "      <th>0</th>\n",
       "      <th>1</th>\n",
       "      <th>0</th>\n",
       "      <th>1</th>\n",
       "      <th>0</th>\n",
       "      <th>1</th>\n",
       "    </tr>\n",
       "    <tr>\n",
       "      <th>education</th>\n",
       "      <th></th>\n",
       "      <th></th>\n",
       "      <th></th>\n",
       "      <th></th>\n",
       "      <th></th>\n",
       "      <th></th>\n",
       "      <th></th>\n",
       "      <th></th>\n",
       "    </tr>\n",
       "  </thead>\n",
       "  <tbody>\n",
       "    <tr>\n",
       "      <td>высшее</td>\n",
       "      <td>4475</td>\n",
       "      <td>253</td>\n",
       "      <td>40.997989</td>\n",
       "      <td>39.557312</td>\n",
       "      <td>2265604</td>\n",
       "      <td>2200852</td>\n",
       "      <td>175542</td>\n",
       "      <td>168110.0</td>\n",
       "    </tr>\n",
       "    <tr>\n",
       "      <td>начальное</td>\n",
       "      <td>234</td>\n",
       "      <td>28</td>\n",
       "      <td>48.581197</td>\n",
       "      <td>39.321429</td>\n",
       "      <td>490067</td>\n",
       "      <td>284302</td>\n",
       "      <td>115301</td>\n",
       "      <td>124058.5</td>\n",
       "    </tr>\n",
       "    <tr>\n",
       "      <td>неоконченное высшее</td>\n",
       "      <td>611</td>\n",
       "      <td>65</td>\n",
       "      <td>34.417349</td>\n",
       "      <td>34.753846</td>\n",
       "      <td>958435</td>\n",
       "      <td>822426</td>\n",
       "      <td>158444</td>\n",
       "      <td>185274.0</td>\n",
       "    </tr>\n",
       "    <tr>\n",
       "      <td>среднее</td>\n",
       "      <td>12501</td>\n",
       "      <td>1234</td>\n",
       "      <td>45.063915</td>\n",
       "      <td>41.035656</td>\n",
       "      <td>1726276</td>\n",
       "      <td>1030899</td>\n",
       "      <td>136030</td>\n",
       "      <td>137354.5</td>\n",
       "    </tr>\n",
       "    <tr>\n",
       "      <td>ученая степень</td>\n",
       "      <td>6</td>\n",
       "      <td>0</td>\n",
       "      <td>51.166667</td>\n",
       "      <td>0.000000</td>\n",
       "      <td>268411</td>\n",
       "      <td>0</td>\n",
       "      <td>157260</td>\n",
       "      <td>0.0</td>\n",
       "    </tr>\n",
       "  </tbody>\n",
       "</table>\n",
       "</div>"
      ],
      "text/plain": [
       "                      debt        dob_years            total_income           \\\n",
       "                     count             mean                     max            \n",
       "debt                     0     1          0          1            0        1   \n",
       "education                                                                      \n",
       "высшее                4475   253  40.997989  39.557312      2265604  2200852   \n",
       "начальное              234    28  48.581197  39.321429       490067   284302   \n",
       "неоконченное высшее    611    65  34.417349  34.753846       958435   822426   \n",
       "среднее              12501  1234  45.063915  41.035656      1726276  1030899   \n",
       "ученая степень           6     0  51.166667   0.000000       268411        0   \n",
       "\n",
       "                                       \n",
       "                     median            \n",
       "debt                      0         1  \n",
       "education                              \n",
       "высшее               175542  168110.0  \n",
       "начальное            115301  124058.5  \n",
       "неоконченное высшее  158444  185274.0  \n",
       "среднее              136030  137354.5  \n",
       "ученая степень       157260       0.0  "
      ]
     },
     "execution_count": 33,
     "metadata": {},
     "output_type": "execute_result"
    }
   ],
   "source": [
    "data.pivot_table(index=['education'], values=['children', 'total_income', 'dob_years'], \n",
    "columns='debt', aggfunc={'debt': 'count', 'total_income': ['median','max'], 'dob_years':'mean'}, fill_value=0)\n",
    "\n",
    "# cводная таблица которая позволяет выделить усредненный портрет клиента с задолженностью по категории \"образование\""
   ]
  },
  {
   "cell_type": "markdown",
   "metadata": {},
   "source": [
    "<a id='cell6'></a>"
   ]
  },
  {
   "cell_type": "code",
   "execution_count": 34,
   "metadata": {},
   "outputs": [
    {
     "data": {
      "text/plain": [
       "{'бездетная семья': 0, 'малодетная семья': 1, 'многодетная семья': 2}"
      ]
     },
     "execution_count": 34,
     "metadata": {},
     "output_type": "execute_result"
    }
   ],
   "source": [
    "children_dict = {\n",
    "    'бездетная семья': 0, \n",
    "    'малодетная семья': 1,\n",
    "    'многодетная семья': 2\n",
    "}\n",
    "children_dict"
   ]
  },
  {
   "cell_type": "code",
   "execution_count": 56,
   "metadata": {},
   "outputs": [
    {
     "data": {
      "text/html": [
       "<div>\n",
       "<style scoped>\n",
       "    .dataframe tbody tr th:only-of-type {\n",
       "        vertical-align: middle;\n",
       "    }\n",
       "\n",
       "    .dataframe tbody tr th {\n",
       "        vertical-align: top;\n",
       "    }\n",
       "\n",
       "    .dataframe thead th {\n",
       "        text-align: right;\n",
       "    }\n",
       "</style>\n",
       "<table border=\"1\" class=\"dataframe\">\n",
       "  <thead>\n",
       "    <tr style=\"text-align: right;\">\n",
       "      <th>children</th>\n",
       "      <th>0</th>\n",
       "      <th>1</th>\n",
       "      <th>2</th>\n",
       "      <th>3</th>\n",
       "      <th>4</th>\n",
       "      <th>5</th>\n",
       "      <th>All</th>\n",
       "    </tr>\n",
       "    <tr>\n",
       "      <th>education</th>\n",
       "      <th></th>\n",
       "      <th></th>\n",
       "      <th></th>\n",
       "      <th></th>\n",
       "      <th></th>\n",
       "      <th></th>\n",
       "      <th></th>\n",
       "    </tr>\n",
       "  </thead>\n",
       "  <tbody>\n",
       "    <tr>\n",
       "      <td>высшее</td>\n",
       "      <td>0.053238</td>\n",
       "      <td>0.055184</td>\n",
       "      <td>0.053785</td>\n",
       "      <td>0.040541</td>\n",
       "      <td>0.000000</td>\n",
       "      <td>0</td>\n",
       "      <td>0.053511</td>\n",
       "    </tr>\n",
       "    <tr>\n",
       "      <td>начальное</td>\n",
       "      <td>0.074713</td>\n",
       "      <td>0.175439</td>\n",
       "      <td>0.208333</td>\n",
       "      <td>0.000000</td>\n",
       "      <td>0.000000</td>\n",
       "      <td>0</td>\n",
       "      <td>0.106870</td>\n",
       "    </tr>\n",
       "    <tr>\n",
       "      <td>неоконченное высшее</td>\n",
       "      <td>0.076577</td>\n",
       "      <td>0.125000</td>\n",
       "      <td>0.136364</td>\n",
       "      <td>0.333333</td>\n",
       "      <td>0.000000</td>\n",
       "      <td>0</td>\n",
       "      <td>0.096154</td>\n",
       "    </tr>\n",
       "    <tr>\n",
       "      <td>среднее</td>\n",
       "      <td>0.082432</td>\n",
       "      <td>0.105827</td>\n",
       "      <td>0.107595</td>\n",
       "      <td>0.082126</td>\n",
       "      <td>0.111111</td>\n",
       "      <td>0</td>\n",
       "      <td>0.089843</td>\n",
       "    </tr>\n",
       "    <tr>\n",
       "      <td>ученая степень</td>\n",
       "      <td>0.000000</td>\n",
       "      <td>0.000000</td>\n",
       "      <td>0.000000</td>\n",
       "      <td>0.000000</td>\n",
       "      <td>0.000000</td>\n",
       "      <td>0</td>\n",
       "      <td>0.000000</td>\n",
       "    </tr>\n",
       "    <tr>\n",
       "      <td>All</td>\n",
       "      <td>0.075380</td>\n",
       "      <td>0.093636</td>\n",
       "      <td>0.095366</td>\n",
       "      <td>0.074830</td>\n",
       "      <td>0.088235</td>\n",
       "      <td>0</td>\n",
       "      <td>0.081414</td>\n",
       "    </tr>\n",
       "  </tbody>\n",
       "</table>\n",
       "</div>"
      ],
      "text/plain": [
       "children                    0         1         2         3         4  5  \\\n",
       "education                                                                  \n",
       "высшее               0.053238  0.055184  0.053785  0.040541  0.000000  0   \n",
       "начальное            0.074713  0.175439  0.208333  0.000000  0.000000  0   \n",
       "неоконченное высшее  0.076577  0.125000  0.136364  0.333333  0.000000  0   \n",
       "среднее              0.082432  0.105827  0.107595  0.082126  0.111111  0   \n",
       "ученая степень       0.000000  0.000000  0.000000  0.000000  0.000000  0   \n",
       "All                  0.075380  0.093636  0.095366  0.074830  0.088235  0   \n",
       "\n",
       "children                  All  \n",
       "education                      \n",
       "высшее               0.053511  \n",
       "начальное            0.106870  \n",
       "неоконченное высшее  0.096154  \n",
       "среднее              0.089843  \n",
       "ученая степень       0.000000  \n",
       "All                  0.081414  "
      ]
     },
     "execution_count": 56,
     "metadata": {},
     "output_type": "execute_result"
    }
   ],
   "source": [
    "# рассчет долей по всем вариантам в рамках параметра \"количество детей\" \n",
    "data.pivot_table(index=['education'], columns='children', values='debt', fill_value=0, margins=True)"
   ]
  },
  {
   "cell_type": "markdown",
   "metadata": {},
   "source": [
    "## Ответы на ключевые вопросы\n",
    "<a id='cell4'></a>"
   ]
  },
  {
   "cell_type": "markdown",
   "metadata": {},
   "source": [
    "- Есть ли зависимость между наличием детей и возвратом кредита в срок?"
   ]
  },
  {
   "cell_type": "markdown",
   "metadata": {},
   "source": [
    "Благодаря категоризации по наличию детей, можно убедиться, что всего клиентов c детьми от общего количества клиентов — порядка 67%. Среди клиентов, имеющих задолженность соотношение сохраняется. \n",
    "\n",
    "Сравнив *две категории клиентов с задолженностью*: клиентов без детей и клиентов с детьми можно увидеть, что бОльшая часть клиентов с задолженностью не имеет детей (соотношение приблизительно 65% на 35%). Это видно на графике *childrendebt_plot* ниже.\n",
    "\n",
    "Далее, сравнив соотношение клиентов с задолженностью и без нее для каждой из двух групп: *всех клиентов без детей* и *всех клиентов с детьми*, мы можем сделать вывод, что наличие или отсутствие детей, в целом, не оказывает существенного влияния на возврат кредита в срок. В процентном соотношении доля клиентов с задолженностью в обоих группах остается в пределах 7-10%. Это видно на графиках *Задолженность у клиентов с детьми* и *Задолженность у клиентов без детей*.\n",
    "\n",
    "- 9.31% (614 человек) — доля должников с детьми\n",
    "- 7.54% (966 человек) — доля должников без детей\n",
    "\n",
    "В процентном соотношении доля должников в группе клиентов с детьми ниже, однако из-за большего количества человек в этой группе (13 тысяч против 6 тысяч), количественно должников здесь больше где-то на 30%: **966 против 614 клиентов.** Соотношение должников же группы без детей к общей доле (всей базе) одно из самых высоких как в процентном отношении (5%), так и в количественном (966).\n",
    "\n",
    "- 3.2% — доля должников с детьми от всей базы\n",
    "- 5.0% — доля должников без детей от всей базы\n",
    "\n",
    "Тем не менее, исходя из имеющихся данных, мы можем сделать вывод, что наличие детей не оказывает значительного влияния на возврат кредита в срок. Клиентов без детей в базе больше, однако, несмотря на то, что у них выше и доля должников, эта разница не очень велика. "
   ]
  },
  {
   "cell_type": "code",
   "execution_count": 35,
   "metadata": {},
   "outputs": [
    {
     "data": {
      "text/plain": [
       "Text(0, 0.5, 'Количество клиентов')"
      ]
     },
     "execution_count": 35,
     "metadata": {},
     "output_type": "execute_result"
    },
    {
     "data": {
      "image/png": "[encoded data removed]",
      "text/plain": [
       "<Figure size 432x288 with 1 Axes>"
      ]
     },
     "metadata": {
      "needs_background": "light"
     },
     "output_type": "display_data"
    }
   ],
   "source": [
    "childrendebt_plot.plot.bar()\n",
    "plt.title('Наличие детей у клиентов с задолженностью', weight='bold')\n",
    "plt.ylabel('Количество клиентов')"
   ]
  },
  {
   "cell_type": "code",
   "execution_count": 36,
   "metadata": {},
   "outputs": [
    {
     "data": {
      "text/plain": [
       "Text(0, 0.5, 'Количество клиентов')"
      ]
     },
     "execution_count": 36,
     "metadata": {},
     "output_type": "execute_result"
    },
    {
     "data": {
      "image/png": "[encoded data removed]",
      "text/plain": [
       "<Figure size 432x288 with 1 Axes>"
      ]
     },
     "metadata": {
      "needs_background": "light"
     },
     "output_type": "display_data"
    }
   ],
   "source": [
    "havechildren_plot = havechildren.groupby('debt').size()\n",
    "havechildren_plot.plot.bar()\n",
    "plt.title('Задолженность у клиентов с детьми', weight='bold')\n",
    "plt.ylabel('Количество клиентов')"
   ]
  },
  {
   "cell_type": "code",
   "execution_count": 37,
   "metadata": {},
   "outputs": [
    {
     "data": {
      "text/plain": [
       "Text(0, 0.5, 'Количество клиентов')"
      ]
     },
     "execution_count": 37,
     "metadata": {},
     "output_type": "execute_result"
    },
    {
     "data": {
      "image/png": "[encoded data removed]",
      "text/plain": [
       "<Figure size 432x288 with 1 Axes>"
      ]
     },
     "metadata": {
      "needs_background": "light"
     },
     "output_type": "display_data"
    }
   ],
   "source": [
    "nochildren_plot = nochildren.groupby('debt').size()\n",
    "nochildren_plot.plot.bar()\n",
    "plt.title('Задолженность у клиентов без детей', weight='bold')\n",
    "plt.ylabel('Количество клиентов')"
   ]
  },
  {
   "cell_type": "markdown",
   "metadata": {},
   "source": [
    "- Есть ли зависимость между семейным положением и возвратом кредита в срок?"
   ]
  },
  {
   "cell_type": "markdown",
   "metadata": {},
   "source": [
    "Категоризировав клиентов по семейному статусу и наличию задолженностей у них, были получены шесть групп: пять групп клиентов с задолженностями аналогично семейным статусам исходной таблицы и шестая группа клиентов без задолженностей.\n",
    "\n",
    "График *familydebt_plot* ниже демонстрирует, что порядка **75%** всех клиентов, имевших задолженность, находятся в **зарегистрированном или гражданском браке**. Однако такое соотношение сохраняется и среди клиентов без задолженности, а также при анализе всей базы в целом — доля клиентов в официальном и гражданском браке от общего количества также около 75%.\n",
    "\n",
    "Если изучить каждую из выделенных в данной категории групп на соотношение клиентов с задолженностью к общему числу в группе (больше деталей в пункте 2.4.3), то мы снова увидим цифры около **7-10%**.\n",
    "\n",
    "Поэтому высокий процент клиентов в браке среди клиентов с задолженностью не может подтвердить наличие влияния брака на возврат кредита в срок, так как такое соотношение сохраняется и в целом для всей базы, и сугубо для клиентов без задолженностей. \n",
    "\n",
    "- 6.1% (1192 человек) — доля должников в браке от всей базы\n",
    "- 2.0% (388 человек) — доля должников не в браке от всей базы\n",
    "\n",
    "В процентном соотношении от общей доли всех участников таблицы, можно заметить существенное отличие доли должников в браке (учитывались и официальные браки, и гражданские). Таким образом, группа клиентов, состоящих в браке занимает первое место по количеству должников, как по доле (6.1%), так и непосредственно по количеству (1192 человека) среди всех групп всех категорий.\n",
    "\n",
    "Однако это самая многочисленная группа из рассматриваемых, а доля в 8% внутри группы и 6% в целом по базе, конечно, велика, но не настолько, чтобы можно было заявлять о сильной взаимосвязи. **При этом, не учитывать этот аспект тоже некорректно: очевидно, что вероятность того, что клиент не вернет долг, гораздо выше в группе \"в браке\"**."
   ]
  },
  {
   "cell_type": "code",
   "execution_count": 38,
   "metadata": {},
   "outputs": [
    {
     "data": {
      "text/plain": [
       "Text(0, 0.5, 'Количество клиентов')"
      ]
     },
     "execution_count": 38,
     "metadata": {},
     "output_type": "execute_result"
    },
    {
     "data": {
      "image/png": "[encoded data removed]",
      "text/plain": [
       "<Figure size 432x288 with 1 Axes>"
      ]
     },
     "metadata": {
      "needs_background": "light"
     },
     "output_type": "display_data"
    }
   ],
   "source": [
    "familydebt_plot.plot.bar()\n",
    "plt.title('Задолженность при разных семейных статусах', weight='bold')\n",
    "plt.ylabel('Количество клиентов')"
   ]
  },
  {
   "cell_type": "markdown",
   "metadata": {},
   "source": [
    "***\n",
    "\n",
    "- Есть ли зависимость между уровнем дохода и возвратом кредита в срок?"
   ]
  },
  {
   "cell_type": "markdown",
   "metadata": {},
   "source": [
    "При анализе по этой категории, клиенты были поделены на равномерные группы квантилями по уровню дохода:   \n",
    "\n",
    "- 8.04% (312 человек) — доля должников с низким доходом (медианный доход 76 тысяч)\n",
    "- 8.4% (326 человек) — доля должников со средним доходом (медианный доход 76 тысяч)\n",
    "- 8.71% (338 человек) — доля должников с доходом выше среднего (медианный доход 111 тысяч)\n",
    "- 8.5% (330 человек) — доля должников с высоким доходом (медианный доход 144 тысяч)\n",
    "- 7.06% (274 человек) — доля должников с очень высоким доходом (медианный доход 278 тысяч)\n",
    "\n",
    "Среди клиентов по каждой группе дохода (низкий, средний, выше среднего, высокий и очень высокий), **доля клиентов с задолженностью всегда составляет около 8%**, аналогично предыдущим категориям. Заметна небольшая разница у клиентов в группе с самым высоким доходом: в ней меньше всего должников. Впрочем, группа с низким доходом идет на втором месте по количеству, поэтому утверждать, что клиенты с определенным уровнем дохода не возвращают кредиты в срок значительно чаще других клиентов, сложно. \n",
    "\n",
    "В отличие от других категорий, при категоризации по доходу группы были распределены равномерно по квантилям, пооэтому  процентные и количественные значения между группами совпадают и в данной категории нет группы, в которой было бы больше должников из-за разницы в исходном количестве человек. Общее соотношение должников разных групп доходов к базе также в целом среднее и не выделяется ни в какую сторону от общей тенденции по всей базе.\n",
    "\n",
    "- 1.61% — доля должников с низким доходом от всей базы\n",
    "- 1.68% — доля должников со средним доходом от всей базы\n",
    "- 1.7% — доля должников с доходом выше среднего от всей базы\n",
    "- 1.7% — доля должников с высоким доходом от всей базы\n",
    "- 1.4% — доля должников с очень высоким доходом от всей базы"
   ]
  },
  {
   "cell_type": "markdown",
   "metadata": {},
   "source": [
    "***\n",
    "- Как разные цели кредита влияют на его возврат в срок?"
   ]
  },
  {
   "cell_type": "markdown",
   "metadata": {},
   "source": [
    "Из запросов всех клиентов в ходе лемматизации было выявдено четыре группы в категории \"цель кредита\": недвижимость, образование, автомобиль и свадьба.  \n",
    "\n",
    "Половина всех клиентов в базе планирует использовать кредит для проведения операций с недвижимостью (покупки, строительства, ремонта и др.). Приблизительно по 20% клиентов собирается потратить кредитные средства на покупку автомобиля и получение образования. При этом, оставшиеся клиенты (около 10%), нуждаются в кредите для проведения свадьбы. \n",
    "\n",
    "Доля клиентов с задолженностью среди каждой группы с целями кредита не превышает **7-10%**. Это можно увидеть на графиках в пункте [2.4.1](#cell5)\n",
    "\n",
    "- 7.34% (718 человек) — доля должников с целью кредита \"недвижимость\" \n",
    "\n",
    "- 9.44% (369 человек) — доля должников с целью кредита \"автомобиль\"\n",
    "\n",
    "- 9.21% (332 человек) — доля должников с целью кредита \"образование\"\n",
    "\n",
    "- 7.63% (161 человек) — доля должников с целью кредита \"свадьба\"\n",
    "\n",
    "При этом в процентном соотношении от всей базы группы между собой различаются достаточно сильно, в связи с тем, что они разные по количеству человек.\n",
    "\n",
    "3.7% — доля должников с целью кредита \"недвижимость\" от всей базы\n",
    "1.9% — доля должников с целью кредита \"автомобиль\" от всей базы\n",
    "1.7% — доля должников с целью кредита \"образование\" от всей базы\n",
    "0.8% — доля должников с целью кредита \"свадьба\" от всей базы\n",
    "\n",
    "В рамках каждой из категории нет выходов за пределы 10% доли клиентов с задолженностью, однако из-за разных масштабов групп, самая большая по количеству клиентов группа (\"недвижимость\") имеет самое большое количество должников (718 человек) и достаточно высокую долю от всей базы (3.7%), несмотря на самый низкий процент должников от доли в группе. Соответственно, **цели кредита не влияют на вероятность возврата кредита в срок клиентами этой группы**, но клиенты группы \"недвижимость\" одни из наиболее вероятных клиентов, которые могут получить задолженность."
   ]
  },
  {
   "cell_type": "code",
   "execution_count": 39,
   "metadata": {},
   "outputs": [
    {
     "name": "stdout",
     "output_type": "stream",
     "text": [
      "3.7% (718 человек) — доля должников с целью кредита \"недвижимость\" от всей базы\n",
      "1.9% (369 человек) — доля должников с целью кредита \"автомобиль\" от всей базы\n",
      "1.7% (332 человек) — доля должников с целью кредита \"образование\" от всей базы\n",
      "0.8% (332 человек) — доля должников с целью кредита \"свадьба\" от всей базы\n",
      "3.2% (614 человек) — доля должников с детьми от всей базы\n",
      "5.0% (966 человек) — доля должников без детей от всей базы\n",
      "6.1% (1192 человек) — доля должников в браке от всей базы\n",
      "2.0% (388 человек) — доля должников не в браке от всей базы\n",
      "1.61% (312 человек) — доля должников с низким доходом от всей базы\n",
      "1.68% (326 человек) — доля должников со средним доходом от всей базы\n",
      "1.7% (338 человек) — доля должников с доходом выше среднего от всей базы\n",
      "1.7% (330 человек) — доля должников с высоким доходом от всей базы\n",
      "1.4% (274 человек) — доля должников с очень высоким доходом от всей базы\n"
     ]
    }
   ],
   "source": [
    "# Считаем долю должников от всей базы (а не внутри группы)\n",
    "\n",
    "realty_rate = realty_debt1['debt'].count() / data['debt'].count() * 100\n",
    "print(f'{realty_rate.round(2)}% ({realty_debt1_count} человек) — доля должников с целью кредита \"недвижимость\" от всей базы')\n",
    "\n",
    "car_rate = car_debt1['debt'].count() / data['debt'].count() * 100\n",
    "print(f'{car_rate.round(2)}% ({car_debt1_count} человек) — доля должников с целью кредита \"автомобиль\" от всей базы')\n",
    "\n",
    "edu_rate = edu_debt1['debt'].count() / data['debt'].count() * 100\n",
    "print(f'{edu_rate.round(1)}% ({edu_debt1_count} человек) — доля должников с целью кредита \"образование\" от всей базы')\n",
    "\n",
    "wedding_rate = wedding_debt1['debt'].count() / data['debt'].count() * 100\n",
    "print(f'{wedding_rate.round(1)}% ({edu_debt1_count} человек) — доля должников с целью кредита \"свадьба\" от всей базы')\n",
    "\n",
    "havechildren_rate = havechildren_debt1['debt'].count() / data['debt'].count() * 100\n",
    "print(f'{havechildren_rate.round(1)}% ({havechildren_debt1_count} человек) — доля должников с детьми от всей базы')\n",
    "\n",
    "nochildren_rate = nochildren_debt1['debt'].count() / data['debt'].count() * 100\n",
    "print(f'{nochildren_rate.round(1)}% ({nochildren_debt1_count} человек) — доля должников без детей от всей базы')\n",
    "\n",
    "marriage_rate = marriage_debt1['debt'].count() / data['debt'].count() * 100\n",
    "print(f'{marriage_rate.round(1)}% ({marriage_debt1_count} человек) — доля должников в браке от всей базы')\n",
    "\n",
    "nomarriage_rate = nomarriage_debt1['debt'].count() / data['debt'].count() * 100\n",
    "print(f'{nomarriage_rate.round(1)}% ({nomarriage_debt1_count} человек) — доля должников не в браке от всей базы')\n",
    "\n",
    "low_income_rate = low_income_debt1['debt'].count() / data['debt'].count() * 100\n",
    "print(f'{low_income_rate.round(2)}% ({low_income_debt1_count} человек) — доля должников с низким доходом от всей базы')\n",
    "\n",
    "mid_income_rate = mid_income_debt1['debt'].count() / data['debt'].count() * 100\n",
    "print(f'{mid_income_rate.round(2)}% ({mid_income_debt1_count} человек) — доля должников со средним доходом от всей базы')\n",
    "\n",
    "midplus_income_rate = midplus_income_debt1['debt'].count() / data['debt'].count() * 100\n",
    "print(f'{midplus_income_rate.round(1)}% ({midplus_income_debt1_count} человек) — доля должников с доходом выше среднего от всей базы')\n",
    "\n",
    "hign_income_rate = hign_income_debt1['debt'].count() / data['debt'].count() * 100\n",
    "print(f'{hign_income_rate.round(1)}% ({hign_income_debt1_count} человек) — доля должников с высоким доходом от всей базы')\n",
    "\n",
    "veryhign_income_rate = veryhign_income_debt1['debt'].count() / data['debt'].count() * 100\n",
    "print(f'{veryhign_income_rate.round(1)}% ({veryhign_income_debt1_count} человек) — доля должников с очень высоким доходом от всей базы')"
   ]
  },
  {
   "cell_type": "code",
   "execution_count": 40,
   "metadata": {},
   "outputs": [],
   "source": [
    "# создаем датафрейм с долями и всеми группами\n",
    "\n",
    "total = pd.DataFrame({'name':['Должники с целью кредита \"недвижимость\"', 'Должники с целью кредита \"автомобиль\"', 'Должники с целью кредита \"образование\"', 'Должники с целью кредита \"свадьба\"', 'Должники с детьми', 'Должники без детей', 'Должники в браке',\n",
    "'Должники не в браке', 'Должники с низким доходом', 'Должники со средним доходом','Должники с доходом выше среднего', 'Должники с высоким доходом', 'Должники с очень высоким доходом'], 'доля': [3.7, 1.9, 1.7, 0.8, 3.2, 5.0, 6.1, 2.0, 1.6, 1.7, 1.7, 1.7, 1.4], 'человек в доле': [718, 369, 332, 332, 614, 966, 1192, 388, 312, 326, 338, 330, 274]})"
   ]
  },
  {
   "cell_type": "code",
   "execution_count": 41,
   "metadata": {},
   "outputs": [
    {
     "data": {
      "text/html": [
       "<div>\n",
       "<style scoped>\n",
       "    .dataframe tbody tr th:only-of-type {\n",
       "        vertical-align: middle;\n",
       "    }\n",
       "\n",
       "    .dataframe tbody tr th {\n",
       "        vertical-align: top;\n",
       "    }\n",
       "\n",
       "    .dataframe thead th {\n",
       "        text-align: right;\n",
       "    }\n",
       "</style>\n",
       "<table border=\"1\" class=\"dataframe\">\n",
       "  <thead>\n",
       "    <tr style=\"text-align: right;\">\n",
       "      <th></th>\n",
       "      <th>name</th>\n",
       "      <th>доля</th>\n",
       "      <th>человек в доле</th>\n",
       "    </tr>\n",
       "  </thead>\n",
       "  <tbody>\n",
       "    <tr>\n",
       "      <td>6</td>\n",
       "      <td>Должники в браке</td>\n",
       "      <td>6.1</td>\n",
       "      <td>1192</td>\n",
       "    </tr>\n",
       "    <tr>\n",
       "      <td>5</td>\n",
       "      <td>Должники без детей</td>\n",
       "      <td>5.0</td>\n",
       "      <td>966</td>\n",
       "    </tr>\n",
       "    <tr>\n",
       "      <td>0</td>\n",
       "      <td>Должники с целью кредита \"недвижимость\"</td>\n",
       "      <td>3.7</td>\n",
       "      <td>718</td>\n",
       "    </tr>\n",
       "    <tr>\n",
       "      <td>4</td>\n",
       "      <td>Должники с детьми</td>\n",
       "      <td>3.2</td>\n",
       "      <td>614</td>\n",
       "    </tr>\n",
       "    <tr>\n",
       "      <td>7</td>\n",
       "      <td>Должники не в браке</td>\n",
       "      <td>2.0</td>\n",
       "      <td>388</td>\n",
       "    </tr>\n",
       "    <tr>\n",
       "      <td>1</td>\n",
       "      <td>Должники с целью кредита \"автомобиль\"</td>\n",
       "      <td>1.9</td>\n",
       "      <td>369</td>\n",
       "    </tr>\n",
       "    <tr>\n",
       "      <td>10</td>\n",
       "      <td>Должники с доходом выше среднего</td>\n",
       "      <td>1.7</td>\n",
       "      <td>338</td>\n",
       "    </tr>\n",
       "    <tr>\n",
       "      <td>2</td>\n",
       "      <td>Должники с целью кредита \"образование\"</td>\n",
       "      <td>1.7</td>\n",
       "      <td>332</td>\n",
       "    </tr>\n",
       "    <tr>\n",
       "      <td>3</td>\n",
       "      <td>Должники с целью кредита \"свадьба\"</td>\n",
       "      <td>0.8</td>\n",
       "      <td>332</td>\n",
       "    </tr>\n",
       "    <tr>\n",
       "      <td>11</td>\n",
       "      <td>Должники с высоким доходом</td>\n",
       "      <td>1.7</td>\n",
       "      <td>330</td>\n",
       "    </tr>\n",
       "    <tr>\n",
       "      <td>9</td>\n",
       "      <td>Должники со средним доходом</td>\n",
       "      <td>1.7</td>\n",
       "      <td>326</td>\n",
       "    </tr>\n",
       "    <tr>\n",
       "      <td>8</td>\n",
       "      <td>Должники с низким доходом</td>\n",
       "      <td>1.6</td>\n",
       "      <td>312</td>\n",
       "    </tr>\n",
       "    <tr>\n",
       "      <td>12</td>\n",
       "      <td>Должники с очень высоким доходом</td>\n",
       "      <td>1.4</td>\n",
       "      <td>274</td>\n",
       "    </tr>\n",
       "  </tbody>\n",
       "</table>\n",
       "</div>"
      ],
      "text/plain": [
       "                                       name  доля  человек в доле\n",
       "6                          Должники в браке   6.1            1192\n",
       "5                        Должники без детей   5.0             966\n",
       "0   Должники с целью кредита \"недвижимость\"   3.7             718\n",
       "4                         Должники с детьми   3.2             614\n",
       "7                       Должники не в браке   2.0             388\n",
       "1     Должники с целью кредита \"автомобиль\"   1.9             369\n",
       "10         Должники с доходом выше среднего   1.7             338\n",
       "2    Должники с целью кредита \"образование\"   1.7             332\n",
       "3        Должники с целью кредита \"свадьба\"   0.8             332\n",
       "11               Должники с высоким доходом   1.7             330\n",
       "9               Должники со средним доходом   1.7             326\n",
       "8                 Должники с низким доходом   1.6             312\n",
       "12         Должники с очень высоким доходом   1.4             274"
      ]
     },
     "execution_count": 41,
     "metadata": {},
     "output_type": "execute_result"
    }
   ],
   "source": [
    "# сортируем таблицу по кол-ву людей (можно и по доле для интереса)\n",
    "total.sort_values('человек в доле', ascending=False)"
   ]
  },
  {
   "cell_type": "markdown",
   "metadata": {},
   "source": [
    "## Общий вывод"
   ]
  },
  {
   "cell_type": "markdown",
   "metadata": {},
   "source": [
    "В таблице с данными было обнаружено несколько столбцов с аномальными значениями. Наилучшим способом решения этой проблемы была бы возможность связаться с источником данных и попробовать уточнить их или хотя бы выяснить причины появления ошибок, однако в связи с невозможностью это сделать, можно выдвинуть некоторые гипотезы. \n",
    "\n",
    "Так, возможными причинами появления аномальных значений могут быть как технические проблемы и ошибки (неверный автовыбор формата для данных в условном Excel или некорректная загрузка из источника), так и человеческий фактор, сказавшийся при сборе данных или загрузке (сбор из разных источников без обязательного единого вида, ошибка при вводе или сохранении). \n",
    "\n",
    "Все клиенты были разделены на категории и подкатегории по разным характеристикам: от семейного статуса и наличия детей до уровня доходов и целей запрашиваемого кредита.\n",
    "\n",
    "Несмотря на то, что среди небольшой группы клиентов с задолженностями можно нарисовать усредненный портрет такого клиента (женщина около 40 лет со средним образованием, без детей и в официальном или гражданском браке, с целью кредита, связанной с недвижимостью), сказать про то, что какая-то из категорий имеет существенно больше \"должников\" нельзя. \n",
    "\n",
    "Среди всех клиентов, задолженность имеет всего **1580**, т.е около 8% от общего числа в базе. В целом, среди всех категорий этот уровень сохраняется: доля \"должников\" около **7-10%** для каждой группы клиентов. \n",
    "\n",
    "Конечно, можно говорить, что в категориях с долей должников около 10% существует бОльшая вероятность невозврата долга и в целом это имеет место, однако, учитывая не 100% точность данных и относительно невысокий уровень расхождения в 1,5-2% максимум, такая трактовка, вероятно, все же не совсем корректна и скорее похожа на подгон результатов под гипотезу, чем на выводы по итогам исследования. \n",
    "\n",
    "Однако, в связи с разным количеством человек в каждой группе, реальные количественные данные в самых крупных группах существенно выше. Это наблюдается в категориях:\n",
    "\n",
    "- По цели кредита (группа \"недвижимость\") — около 10 тысяч человек, 700 должников, доля должников в группе 7%\n",
    "- По наличию детей (группа \"без детей\") — около 12 тысяч человек, чуть менее 1000 должников, доля должников в группе 7%\n",
    "- По семейному статусу (группа \"в браке\") — около 15 тысяч человек, почти 1200 должников, доля должников в группе 8%\n",
    "\n",
    "Если считать в долях от общего количества людей (то есть от всей базы), то в среднем доля должников по всем группам **2.5%**.\n",
    "Самые крупные по количеству людей группы: клиенты в браке и клиенты без детей на первых местах по доле в процентном соотношении и количеству должников: \n",
    "\n",
    "1. Должники в браке, **6.1% доля**, кол-во человек в доле **1192**\n",
    "2. Должники без детей, **5% доля**, кол-во человек в доле **966**\n",
    "\n",
    "Лучше всего с долгами ситуация в процентном соотношении у клиентов, стремящихся получить кредит на проведение свадьбы — 0,8%, а по количеству человек группа клиентов с очень высоким доходом — 274 человека.  \n",
    "\n",
    "После анализа всех категорий клиентов, можно сделать вывод, что влияние разных характеристик клиентов на вероятность возврата кредита в срок, в целом, равное, так как **никакие группы клиентов ни по одной из рассмотренных категорий, не имеют значительного превышения доли клиентов с задолженностью**, однако некоторые группы имеют незначительно большую вероятность не вернуть долг."
   ]
  }
 ],
 "metadata": {
  "kernelspec": {
   "display_name": "Python 3",
   "language": "python",
   "name": "python3"
  },
  "language_info": {
   "codemirror_mode": {
    "name": "ipython",
    "version": 3
   },
   "file_extension": ".py",
   "mimetype": "text/x-python",
   "name": "python",
   "nbconvert_exporter": "python",
   "pygments_lexer": "ipython3",
   "version": "3.7.10"
  },
  "toc": {
   "base_numbering": 1,
   "nav_menu": {},
   "number_sections": true,
   "sideBar": true,
   "skip_h1_title": true,
   "title_cell": "Table of Contents",
   "title_sidebar": "Contents",
   "toc_cell": false,
   "toc_position": {
    "height": "797px",
    "left": "25px",
    "top": "110px",
    "width": "276.788px"
   },
   "toc_section_display": true,
   "toc_window_display": true
  }
 },
 "nbformat": 4,
 "nbformat_minor": 2
}
