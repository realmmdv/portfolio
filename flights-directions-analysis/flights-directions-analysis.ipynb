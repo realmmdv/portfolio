{
 "cells": [
  {
   "cell_type": "markdown",
   "metadata": {
    "toc": true
   },
   "source": [
    "<h1>Содержание<span class=\"tocSkip\"></span></h1>\n",
    "<div class=\"toc\"><ul class=\"toc-item\"><li><span><a href=\"#Предварительная-обработка\" data-toc-modified-id=\"Предварительная-обработка-1\"><span class=\"toc-item-num\">1&nbsp;&nbsp;</span>Предварительная обработка</a></span></li><li><span><a href=\"#Топ-10-городов-по-количеству-рейсов\" data-toc-modified-id=\"Топ-10-городов-по-количеству-рейсов-2\"><span class=\"toc-item-num\">2&nbsp;&nbsp;</span>Топ-10 городов по количеству рейсов</a></span></li><li><span><a href=\"#Графики-и-выводы\" data-toc-modified-id=\"Графики-и-выводы-3\"><span class=\"toc-item-num\">3&nbsp;&nbsp;</span>Графики и выводы</a></span></li><li><span><a href=\"#Общий-вывод\" data-toc-modified-id=\"Общий-вывод-4\"><span class=\"toc-item-num\">4&nbsp;&nbsp;</span>Общий вывод</a></span></li></ul></div>"
   ]
  },
  {
   "cell_type": "markdown",
   "metadata": {},
   "source": [
    "# Описание проекта"
   ]
  },
  {
   "cell_type": "markdown",
   "metadata": {},
   "source": [
    "Основная цель — выявить самые популярные модели самолетов и направления для перелетов в августе-сентябре 2018 года.  \n",
    "\n",
    "Для анализа было предоставлено два датасета: один из них c информацией количестве рейсов по моделям самолетов в сентябре 2018 года, второй со сведениями о городах назначения и среднем количество рейсов, прибывающих в город ежедневно в августе в 2018 года."
   ]
  },
  {
   "cell_type": "markdown",
   "metadata": {},
   "source": [
    "## Предварительная обработка"
   ]
  },
  {
   "cell_type": "code",
   "execution_count": 1,
   "metadata": {},
   "outputs": [],
   "source": [
    "import pandas as pd\n",
    "import matplotlib.pyplot as plt\n",
    "\n",
    "query1 = pd.read_csv('/datasets/query_1.csv')\n",
    "query3 = pd.read_csv('/datasets/query_3.csv')"
   ]
  },
  {
   "cell_type": "code",
   "execution_count": 2,
   "metadata": {},
   "outputs": [
    {
     "data": {
      "text/html": [
       "<div>\n",
       "<style scoped>\n",
       "    .dataframe tbody tr th:only-of-type {\n",
       "        vertical-align: middle;\n",
       "    }\n",
       "\n",
       "    .dataframe tbody tr th {\n",
       "        vertical-align: top;\n",
       "    }\n",
       "\n",
       "    .dataframe thead th {\n",
       "        text-align: right;\n",
       "    }\n",
       "</style>\n",
       "<table border=\"1\" class=\"dataframe\">\n",
       "  <thead>\n",
       "    <tr style=\"text-align: right;\">\n",
       "      <th></th>\n",
       "      <th>model</th>\n",
       "      <th>flights_amount</th>\n",
       "    </tr>\n",
       "  </thead>\n",
       "  <tbody>\n",
       "    <tr>\n",
       "      <td>0</td>\n",
       "      <td>Airbus A319-100</td>\n",
       "      <td>607</td>\n",
       "    </tr>\n",
       "    <tr>\n",
       "      <td>1</td>\n",
       "      <td>Airbus A321-200</td>\n",
       "      <td>960</td>\n",
       "    </tr>\n",
       "    <tr>\n",
       "      <td>2</td>\n",
       "      <td>Boeing 737-300</td>\n",
       "      <td>630</td>\n",
       "    </tr>\n",
       "    <tr>\n",
       "      <td>3</td>\n",
       "      <td>Boeing 767-300</td>\n",
       "      <td>600</td>\n",
       "    </tr>\n",
       "    <tr>\n",
       "      <td>4</td>\n",
       "      <td>Boeing 777-300</td>\n",
       "      <td>300</td>\n",
       "    </tr>\n",
       "    <tr>\n",
       "      <td>5</td>\n",
       "      <td>Bombardier CRJ-200</td>\n",
       "      <td>4446</td>\n",
       "    </tr>\n",
       "    <tr>\n",
       "      <td>6</td>\n",
       "      <td>Cessna 208 Caravan</td>\n",
       "      <td>4557</td>\n",
       "    </tr>\n",
       "    <tr>\n",
       "      <td>7</td>\n",
       "      <td>Sukhoi SuperJet-100</td>\n",
       "      <td>4185</td>\n",
       "    </tr>\n",
       "  </tbody>\n",
       "</table>\n",
       "</div>"
      ],
      "text/plain": [
       "                 model  flights_amount\n",
       "0      Airbus A319-100             607\n",
       "1      Airbus A321-200             960\n",
       "2       Boeing 737-300             630\n",
       "3       Boeing 767-300             600\n",
       "4       Boeing 777-300             300\n",
       "5   Bombardier CRJ-200            4446\n",
       "6   Cessna 208 Caravan            4557\n",
       "7  Sukhoi SuperJet-100            4185"
      ]
     },
     "metadata": {},
     "output_type": "display_data"
    },
    {
     "name": "stdout",
     "output_type": "stream",
     "text": [
      "<class 'pandas.core.frame.DataFrame'>\n",
      "RangeIndex: 8 entries, 0 to 7\n",
      "Data columns (total 2 columns):\n",
      "model             8 non-null object\n",
      "flights_amount    8 non-null int64\n",
      "dtypes: int64(1), object(1)\n",
      "memory usage: 256.0+ bytes\n"
     ]
    },
    {
     "data": {
      "text/plain": [
       "None"
      ]
     },
     "metadata": {},
     "output_type": "display_data"
    },
    {
     "data": {
      "text/html": [
       "<div>\n",
       "<style scoped>\n",
       "    .dataframe tbody tr th:only-of-type {\n",
       "        vertical-align: middle;\n",
       "    }\n",
       "\n",
       "    .dataframe tbody tr th {\n",
       "        vertical-align: top;\n",
       "    }\n",
       "\n",
       "    .dataframe thead th {\n",
       "        text-align: right;\n",
       "    }\n",
       "</style>\n",
       "<table border=\"1\" class=\"dataframe\">\n",
       "  <thead>\n",
       "    <tr style=\"text-align: right;\">\n",
       "      <th></th>\n",
       "      <th>flights_amount</th>\n",
       "    </tr>\n",
       "  </thead>\n",
       "  <tbody>\n",
       "    <tr>\n",
       "      <td>count</td>\n",
       "      <td>8.000000</td>\n",
       "    </tr>\n",
       "    <tr>\n",
       "      <td>mean</td>\n",
       "      <td>2035.625000</td>\n",
       "    </tr>\n",
       "    <tr>\n",
       "      <td>std</td>\n",
       "      <td>1965.203947</td>\n",
       "    </tr>\n",
       "    <tr>\n",
       "      <td>min</td>\n",
       "      <td>300.000000</td>\n",
       "    </tr>\n",
       "    <tr>\n",
       "      <td>25%</td>\n",
       "      <td>605.250000</td>\n",
       "    </tr>\n",
       "    <tr>\n",
       "      <td>50%</td>\n",
       "      <td>795.000000</td>\n",
       "    </tr>\n",
       "    <tr>\n",
       "      <td>75%</td>\n",
       "      <td>4250.250000</td>\n",
       "    </tr>\n",
       "    <tr>\n",
       "      <td>max</td>\n",
       "      <td>4557.000000</td>\n",
       "    </tr>\n",
       "  </tbody>\n",
       "</table>\n",
       "</div>"
      ],
      "text/plain": [
       "       flights_amount\n",
       "count        8.000000\n",
       "mean      2035.625000\n",
       "std       1965.203947\n",
       "min        300.000000\n",
       "25%        605.250000\n",
       "50%        795.000000\n",
       "75%       4250.250000\n",
       "max       4557.000000"
      ]
     },
     "execution_count": 2,
     "metadata": {},
     "output_type": "execute_result"
    }
   ],
   "source": [
    "display(query1)\n",
    "display(query1.info())\n",
    "query1.describe()"
   ]
  },
  {
   "cell_type": "code",
   "execution_count": 3,
   "metadata": {},
   "outputs": [
    {
     "data": {
      "text/html": [
       "<div>\n",
       "<style scoped>\n",
       "    .dataframe tbody tr th:only-of-type {\n",
       "        vertical-align: middle;\n",
       "    }\n",
       "\n",
       "    .dataframe tbody tr th {\n",
       "        vertical-align: top;\n",
       "    }\n",
       "\n",
       "    .dataframe thead th {\n",
       "        text-align: right;\n",
       "    }\n",
       "</style>\n",
       "<table border=\"1\" class=\"dataframe\">\n",
       "  <thead>\n",
       "    <tr style=\"text-align: right;\">\n",
       "      <th></th>\n",
       "      <th>city</th>\n",
       "      <th>average_flights</th>\n",
       "    </tr>\n",
       "  </thead>\n",
       "  <tbody>\n",
       "    <tr>\n",
       "      <td>0</td>\n",
       "      <td>Абакан</td>\n",
       "      <td>3.870968</td>\n",
       "    </tr>\n",
       "    <tr>\n",
       "      <td>1</td>\n",
       "      <td>Анадырь</td>\n",
       "      <td>1.000000</td>\n",
       "    </tr>\n",
       "    <tr>\n",
       "      <td>2</td>\n",
       "      <td>Анапа</td>\n",
       "      <td>2.161290</td>\n",
       "    </tr>\n",
       "    <tr>\n",
       "      <td>3</td>\n",
       "      <td>Архангельск</td>\n",
       "      <td>5.354839</td>\n",
       "    </tr>\n",
       "    <tr>\n",
       "      <td>4</td>\n",
       "      <td>Астрахань</td>\n",
       "      <td>2.451613</td>\n",
       "    </tr>\n",
       "    <tr>\n",
       "      <td>...</td>\n",
       "      <td>...</td>\n",
       "      <td>...</td>\n",
       "    </tr>\n",
       "    <tr>\n",
       "      <td>96</td>\n",
       "      <td>Чита</td>\n",
       "      <td>1.580645</td>\n",
       "    </tr>\n",
       "    <tr>\n",
       "      <td>97</td>\n",
       "      <td>Элиста</td>\n",
       "      <td>4.870968</td>\n",
       "    </tr>\n",
       "    <tr>\n",
       "      <td>98</td>\n",
       "      <td>Южно-Сахалинск</td>\n",
       "      <td>4.290323</td>\n",
       "    </tr>\n",
       "    <tr>\n",
       "      <td>99</td>\n",
       "      <td>Якутск</td>\n",
       "      <td>2.741935</td>\n",
       "    </tr>\n",
       "    <tr>\n",
       "      <td>100</td>\n",
       "      <td>Ярославль</td>\n",
       "      <td>1.322581</td>\n",
       "    </tr>\n",
       "  </tbody>\n",
       "</table>\n",
       "<p>101 rows × 2 columns</p>\n",
       "</div>"
      ],
      "text/plain": [
       "               city  average_flights\n",
       "0            Абакан         3.870968\n",
       "1           Анадырь         1.000000\n",
       "2             Анапа         2.161290\n",
       "3       Архангельск         5.354839\n",
       "4         Астрахань         2.451613\n",
       "..              ...              ...\n",
       "96             Чита         1.580645\n",
       "97           Элиста         4.870968\n",
       "98   Южно-Сахалинск         4.290323\n",
       "99           Якутск         2.741935\n",
       "100       Ярославль         1.322581\n",
       "\n",
       "[101 rows x 2 columns]"
      ]
     },
     "metadata": {},
     "output_type": "display_data"
    },
    {
     "name": "stdout",
     "output_type": "stream",
     "text": [
      "<class 'pandas.core.frame.DataFrame'>\n",
      "RangeIndex: 101 entries, 0 to 100\n",
      "Data columns (total 2 columns):\n",
      "city               101 non-null object\n",
      "average_flights    101 non-null float64\n",
      "dtypes: float64(1), object(1)\n",
      "memory usage: 1.7+ KB\n"
     ]
    },
    {
     "data": {
      "text/plain": [
       "None"
      ]
     },
     "metadata": {},
     "output_type": "display_data"
    },
    {
     "data": {
      "text/html": [
       "<div>\n",
       "<style scoped>\n",
       "    .dataframe tbody tr th:only-of-type {\n",
       "        vertical-align: middle;\n",
       "    }\n",
       "\n",
       "    .dataframe tbody tr th {\n",
       "        vertical-align: top;\n",
       "    }\n",
       "\n",
       "    .dataframe thead th {\n",
       "        text-align: right;\n",
       "    }\n",
       "</style>\n",
       "<table border=\"1\" class=\"dataframe\">\n",
       "  <thead>\n",
       "    <tr style=\"text-align: right;\">\n",
       "      <th></th>\n",
       "      <th>average_flights</th>\n",
       "    </tr>\n",
       "  </thead>\n",
       "  <tbody>\n",
       "    <tr>\n",
       "      <td>count</td>\n",
       "      <td>101.000000</td>\n",
       "    </tr>\n",
       "    <tr>\n",
       "      <td>mean</td>\n",
       "      <td>5.494189</td>\n",
       "    </tr>\n",
       "    <tr>\n",
       "      <td>std</td>\n",
       "      <td>13.119790</td>\n",
       "    </tr>\n",
       "    <tr>\n",
       "      <td>min</td>\n",
       "      <td>1.000000</td>\n",
       "    </tr>\n",
       "    <tr>\n",
       "      <td>25%</td>\n",
       "      <td>2.000000</td>\n",
       "    </tr>\n",
       "    <tr>\n",
       "      <td>50%</td>\n",
       "      <td>3.000000</td>\n",
       "    </tr>\n",
       "    <tr>\n",
       "      <td>75%</td>\n",
       "      <td>5.870968</td>\n",
       "    </tr>\n",
       "    <tr>\n",
       "      <td>max</td>\n",
       "      <td>129.774194</td>\n",
       "    </tr>\n",
       "  </tbody>\n",
       "</table>\n",
       "</div>"
      ],
      "text/plain": [
       "       average_flights\n",
       "count       101.000000\n",
       "mean          5.494189\n",
       "std          13.119790\n",
       "min           1.000000\n",
       "25%           2.000000\n",
       "50%           3.000000\n",
       "75%           5.870968\n",
       "max         129.774194"
      ]
     },
     "execution_count": 3,
     "metadata": {},
     "output_type": "execute_result"
    }
   ],
   "source": [
    "display(query3)\n",
    "display(query3.info())\n",
    "query3.describe()"
   ]
  },
  {
   "cell_type": "markdown",
   "metadata": {},
   "source": [
    "Типы данных в обеих таблицах выглядят нормально. Всего в двух таблицах четыре стобца, два из них текстовые (город и модель самолета), два — числовые (количество рейсов по моделям самолетов целочисленное, среднее количество рейсов — float). Пропусков в таблицах нет. "
   ]
  },
  {
   "cell_type": "markdown",
   "metadata": {},
   "source": [
    "## Топ-10 городов по количеству рейсов"
   ]
  },
  {
   "cell_type": "code",
   "execution_count": 4,
   "metadata": {},
   "outputs": [
    {
     "data": {
      "text/html": [
       "<div>\n",
       "<style scoped>\n",
       "    .dataframe tbody tr th:only-of-type {\n",
       "        vertical-align: middle;\n",
       "    }\n",
       "\n",
       "    .dataframe tbody tr th {\n",
       "        vertical-align: top;\n",
       "    }\n",
       "\n",
       "    .dataframe thead th {\n",
       "        text-align: right;\n",
       "    }\n",
       "</style>\n",
       "<table border=\"1\" class=\"dataframe\">\n",
       "  <thead>\n",
       "    <tr style=\"text-align: right;\">\n",
       "      <th></th>\n",
       "      <th>average_flights</th>\n",
       "    </tr>\n",
       "    <tr>\n",
       "      <th>city</th>\n",
       "      <th></th>\n",
       "    </tr>\n",
       "  </thead>\n",
       "  <tbody>\n",
       "    <tr>\n",
       "      <td>Москва</td>\n",
       "      <td>129.77</td>\n",
       "    </tr>\n",
       "    <tr>\n",
       "      <td>Санкт-Петербург</td>\n",
       "      <td>31.16</td>\n",
       "    </tr>\n",
       "    <tr>\n",
       "      <td>Новосибирск</td>\n",
       "      <td>17.32</td>\n",
       "    </tr>\n",
       "    <tr>\n",
       "      <td>Красноярск</td>\n",
       "      <td>11.58</td>\n",
       "    </tr>\n",
       "    <tr>\n",
       "      <td>Екатеринбург</td>\n",
       "      <td>11.32</td>\n",
       "    </tr>\n",
       "    <tr>\n",
       "      <td>Ростов-на-Дону</td>\n",
       "      <td>10.19</td>\n",
       "    </tr>\n",
       "    <tr>\n",
       "      <td>Пермь</td>\n",
       "      <td>10.13</td>\n",
       "    </tr>\n",
       "    <tr>\n",
       "      <td>Брянск</td>\n",
       "      <td>10.00</td>\n",
       "    </tr>\n",
       "    <tr>\n",
       "      <td>Сочи</td>\n",
       "      <td>9.61</td>\n",
       "    </tr>\n",
       "    <tr>\n",
       "      <td>Ульяновск</td>\n",
       "      <td>9.58</td>\n",
       "    </tr>\n",
       "  </tbody>\n",
       "</table>\n",
       "</div>"
      ],
      "text/plain": [
       "                 average_flights\n",
       "city                            \n",
       "Москва                    129.77\n",
       "Санкт-Петербург            31.16\n",
       "Новосибирск                17.32\n",
       "Красноярск                 11.58\n",
       "Екатеринбург               11.32\n",
       "Ростов-на-Дону             10.19\n",
       "Пермь                      10.13\n",
       "Брянск                     10.00\n",
       "Сочи                        9.61\n",
       "Ульяновск                   9.58"
      ]
     },
     "execution_count": 4,
     "metadata": {},
     "output_type": "execute_result"
    }
   ],
   "source": [
    "# топ-10 городов по среднему количеству прибываюших рейсов в августе 2018\n",
    "\n",
    "top10 = query3.groupby('city')[['average_flights']].sum().sort_values(\n",
    "    by='average_flights', \n",
    "    ascending=False\n",
    "    ).head(10).round(2)\n",
    "top10"
   ]
  },
  {
   "cell_type": "code",
   "execution_count": 5,
   "metadata": {},
   "outputs": [
    {
     "name": "stdout",
     "output_type": "stream",
     "text": [
      "5.5 - среднее количество рейсов в день по всем городам\n",
      "3.0 - медианное количество рейсов в день по всем городам\n"
     ]
    }
   ],
   "source": [
    "print(round(query3['average_flights'].mean(), 1), '- среднее количество рейсов в день по всем городам')\n",
    "print(query3['average_flights'].median(), '- медианное количество рейсов в день по всем городам')"
   ]
  },
  {
   "cell_type": "markdown",
   "metadata": {},
   "source": [
    "Москва по среднему количеству рейсов очевидно впереди, причем разница с Петербургом, идущим на втором месте более чем в 4 раза. Остальные города в топ-10 имеют уже гораздо меньшую разницу в количестве рейсов, между третьи и десятым местом разница меньше 2 раз.\n",
    "При этом среднее количество рейсов в день среди всех городов практически в два раза выше медианного (в первую очередь из-за аномального показателя Москвы). Медиана в 3 рейса в день объяснима, но в 2021 году даже с учетом коронавируса и пандемии выглядит заниженной: многие города России с аэропортами зачастую имеют несколько ежедневных рейса в Москву и/или Петербург, а также несколько рейсов в другие города региона или ближайшего региона. Так, например, [аэропорт Уфы](http://www.airportufa.ru/scoreboard/arrival/), судя по имеющимся данным на август 2018 года, имеет около 6 рейсов в день в среднем, однако сейчас Уфа принимает более 50 рейсов ежедневно. Или [Череповец](https://rasp.yandex.ru/station/9623264/?date=2021-08-15&time=all) с 2 рейсами в день в 2018 году, тогда как сейчас Череповец принимает не менее 7-8 рейсов в день."
   ]
  },
  {
   "cell_type": "markdown",
   "metadata": {},
   "source": [
    "## Графики и выводы"
   ]
  },
  {
   "cell_type": "code",
   "execution_count": 6,
   "metadata": {
    "scrolled": false
   },
   "outputs": [
    {
     "data": {
      "image/png": "[encoded data removed]",
      "text/plain": [
       "<Figure size 864x1800 with 1 Axes>"
      ]
     },
     "metadata": {
      "needs_background": "light"
     },
     "output_type": "display_data"
    }
   ],
   "source": [
    "query3_sorted = query3.sort_values(by = ['average_flights'], ascending = True)\n",
    "query3_sorted.plot(\n",
    "    kind='barh', figsize= (12, 25), x='city', \n",
    "    title='Среднее дневное кол-во рейсов в города РФ в августе 2018',\n",
    "    legend=False, grid=True, rot=0);\n",
    "plt.ylabel('Город назначения')\n",
    "plt.xlabel('Среднее кол-во рейсов');"
   ]
  },
  {
   "cell_type": "markdown",
   "metadata": {},
   "source": [
    "<a id='cell1'><a/>"
   ]
  },
  {
   "cell_type": "code",
   "execution_count": 8,
   "metadata": {},
   "outputs": [
    {
     "data": {
      "image/png": "[encoded data removed]",
      "text/plain": [
       "<Figure size 720x504 with 1 Axes>"
      ]
     },
     "metadata": {
      "needs_background": "light"
     },
     "output_type": "display_data"
    }
   ],
   "source": [
    "top10_sorted = top10.sort_values(by = ['average_flights'], ascending = True)\n",
    "top10_sorted.plot(kind='barh', figsize=(10,7), title='Топ-10 городов по кол-ву рейсов в августе 18', grid=True, legend=False);\n",
    "plt.xlabel('Среднее кол-во рейсов')\n",
    "plt.ylabel('Город назначения');"
   ]
  },
  {
   "cell_type": "markdown",
   "metadata": {},
   "source": [
    "Самым популярным городом назначения для рейсов внутри страны, безусловно, является Москва. Среднее количество рейсов в другие города существенно меньше. На графике [\"Среднее дневное кол-во рейсов по городам\"](#cell1) хорошо видно, как выделяется Москва, а следом за ней, в гораздо меньшем масштабе, но все равно достаточно сильно относительно остальных городов — Санкт-Петербург. Количество рейсов в среднем в других городах выглядит равномерным в промежутке от 1 до 5 рейсов в день, за исключением единичных случаев, где среднее количество рейсов превосходит 10 в день. Таких городов всего пять кроме \"двух столиц\" и все они кроме Новосибирска имеют показатели около 10-11 рейсов в день в среднем:\n",
    "\n",
    "1. Новосибирск - 17.32\n",
    "2. Красноярск - 11.58\n",
    "3. Екатеринбург - 11.32\n",
    "4. Ростов-на-Дону - 10.2\n",
    "5. Пермь - 10.13\n",
    "\n",
    "В целом, самыми популярными направлениями в 2018 году являются Москва-Симферополь, Москва-Сочи, Москва-Краснодар, Москва-Санкт-Петербург, по данным сервиса путешествий [Туту.ру](https://www.aviaport.ru/digest/2019/01/09/570489.html). Однако в сентябре 2018 года в нашей базе практически полностью другие лидеры, так как кроме Москвы и Петербурга остальные популярные направления различаются. Это может быть связано как с разницей в конкретном месяце (сентябрь все еще популярный месяц для путешествий и перелетов, но пора отпусков у большинства граждан уже прошла, поэтому летние направления теряют популярность), так и различиями в методологии и источниках сбора данных. \n",
    "\n",
    "Таким образом, отрыв Москвы и Петербурга вряд ли может кого-то удивить, но вот медиана по количеству рейсов в день равная 3  выглядит несколько странно. Из 2021 года, даже учитывая негативное влияние пандемии на путешествия и передвижения граждан, представленные в таблицах данные кажутся заниженными. Большинство городов из списка с показателями 1-3 рейса в день в среднем в августе 2018 года, в 2021 году имеют значительно большие показатели прибывающих рейсов. \n",
    "Если отбросить в сторону влияние пандемии, то объяснить это можно тем, что рынок авиаперевозок в России сильно вырос за три года, однако разница все же выглядит слишком значительной, чтобы списать ее на рост рынка. Вероятно, дело в источнике данных, и, возможно они просто неполные, поэтому произошел такой перекос и по моделям самолетов, и по количеству рейсов."
   ]
  },
  {
   "cell_type": "code",
   "execution_count": 9,
   "metadata": {},
   "outputs": [
    {
     "data": {
      "image/png": "[encoded data removed]",
      "text/plain": [
       "<Figure size 576x432 with 1 Axes>"
      ]
     },
     "metadata": {
      "needs_background": "light"
     },
     "output_type": "display_data"
    }
   ],
   "source": [
    "query1_sorted = query1.sort_values(by = ['flights_amount'], ascending = True)\n",
    "query1_sorted.plot(\n",
    "    kind='barh', \n",
    "    figsize=(8,6), \n",
    "    title='Количество рейсов для каждой модели в сентябре 18', \n",
    "    x='model', rot=0, grid=True, legend=False);\n",
    "plt.xlabel('Количество рейсов');\n",
    "plt.ylabel('Модели самолетов');"
   ]
  },
  {
   "cell_type": "markdown",
   "metadata": {},
   "source": [
    "На графике [\"Количество рейсов для каждой модели\"](#cell2) можно наблюдать, что совокупное количество рейсов на самолетах обоих производителей Airbus и Boeing меньше, чем количество рейсов по одной модели из списка Bombardier, Cessna или Sukhoi Superjet. Это выглядит несколько странно, так как самолеты компаний Airbus и Boeing в целом более популярны в мире, а конкретно модели Airbus A319 и A321 особенно. По данным [исследования РБК](https://www.rbc.ru/research/society/27/11/2015/564de81a9a79472dab71463a) \"*На чем летает Россия*\" за 2013 год как в мире, так и в России, самолеты Airbus и Boeing занимали около 60-70% всего авиапарка экспуатируемых судов, при этом самыми популярными моделями являются как раз модели самолетов из наших данных: на первом месте по распространенности серия Airbus 320 (A320, A319 и А321), на втором месте — семейство Boeing 737.\n",
    "\n",
    "Также, согласно данным отчета [World Airlines Census](https://www.flightglobal.com/download?ac=67051) всего в 2018 году, европейскими авиакомпаниями использовалось 548 самолетов Airbus A319 и 505 A321, тогда как, например, Bombardier CRJ-200, занимающий второе место по количеству выполненных рейсов в сентябре 2018 года в нашей базе, состоял во флоте европейских авиакомпаний суммарно в количестве 58 штук, из которых большая часть это региональные авиаперевозчики в РФ. Руслайн, ЮВТ АЭРО, Северсталь, ИрАэро и Ямал владеют 44 самолетами этой модели. В Европе эта модель самолетов не пользуется таким спросом больше ни в одной стране. \n",
    "\n",
    "Лидер по количеству перелетов в сентябре 2018 года — Cessna 208 Caravan, выполнил 4557 рейсов в сентябре 2018 года по данным имеющейся базы. Это одномоторный самолет на 9 пассажиров, вероятно, чаще всего использовался для коммерческих частных перевозок. Самолет состоит по флоте у нескольких маленьких авиакомпаний в РФ, например: [АэроГео](http://www.ag24.ru/air-fleet#Samolet-Cessna-208B-Grand-Caravan) и [Авиакомпания СКОЛ](https://skol.ru/fleet-aircrafts/sessna-208b-grand-caravan/)\n",
    "Эта модель самолетов также используется для пассажирских перелетов малой протяженности в сложных условиях. Так, Авиакомпания \"Татарстан\" [приобрела](https://ria.ru/20130430/935355638.html) данный самолет в 2020 году именно для таких целей. \n",
    "В качестве эксперимента я также проверил полеты в России на сайте [flightradar24](https://www.flightradar24.com/) за последние дни (1-3 июля) и не обнаружил ни одного полета над Россией самолетами Cessna 208. \n",
    "\n",
    "Однако, объяснить такое количество рейсов одними пассажирскими перевозками в локальных авиакомпаниях сложно. Чтобы получить 4557 рейсов  в месяц нужно выполнять 151 рейс на таких самолетах в день. Судя по имеющимся данным, в 2018 году такие самолеты были лишь у двух региональных небольших авиакомпаний суммарно в количестве не более 6 самолетов, поэтому представить такую загруженность у них сложно. Вероятно, большая часть это все же частные перевозки и коммерческие бизнес-рейсы.\n",
    "\n",
    "Cамолет Sukhoi Superjet 100 в Европе помимо российских компаний состоит во флоте только у компании Brussels Airlines (5 самолетов) и CityJet (2 самолета). Остальные 86 самолетов принадлежат российским авиаперевозчикам. С таким распространением большое число перелетов более понятно — это один из самых популярных вариантов для перелетов по России. По данным производителя SSJ100, компании [«Гражданские самолеты Сухого»](https://www.vedomosti.ru/business/articles/2019/04/22/799896-rossiiskogo-ssj100) в 2018 году в пользовании российских авиакомпаний было 109 самолетов. Однако налет этих моделей на тот момент был все еще существенно ниже иностранных конкурентов: 3,6 часов в сутки у SSJ100, тогда как у Airbus 320 и Boeing 737-800 в среднем по 10 и 11 ч в сутки соответственно. Поэтому лидерство других производителей самолетов в представленной базе выглядит несколько странно и возможно, действительно, связано с особенностью выгрузки данных (или источником данных), где в конечную базу попали неполные или сильно отличающиеся данные за 2018 год. "
   ]
  },
  {
   "cell_type": "markdown",
   "metadata": {},
   "source": [
    "## Общий вывод"
   ]
  },
  {
   "cell_type": "markdown",
   "metadata": {},
   "source": [
    "По итогам изучения данных, можно сделать предсказуемый вывод, что **самым популярным направлением для перелетов в России является Москва**. Конечно, отчасти это связано с популярностью Москвы как города, однако часть рейсов прилетает в столицу для дальнейших перелетов в другие точки назначения, используя аэропорты Москвы как пересадочные станции. \n",
    "\n",
    "129 рейсов в среднем за сутки прибывают в Москву, тогда как Санкт-Петербург, идущий на втором месте, в среднем принимает 31 рейс: разница между 1 и 2 местом более 4 раз, при этом разница между остальными городами уже не так ощутима. Между 3 и 10 местом разница меньше 2 раз: 17 рейсов в Новосибирске против 9.5 в Ульяновске.\n",
    "\n",
    "**Количество рейсов в среднем в других городах распространено достаточно равномерно: от 1 до 5 рейсов в сутки**. Преобладающее большинство городов в списке попадет в этот промежуток. При этом, в топ-10 самых популярных направлений все одно южное направление - Сочи, это может говорить о том, что в сентябре пик популярности типичных летних направлений спадает, в связи с началом учебного года и завершением общепринятого сезона отпусков в летние месяцы.\n",
    "\n",
    "При этом важно отметить, что **медианное значение прибывающих рейсов в августе 2018 года — 3 рейса в день выглядит несколько заниженным; в 2021 году эти показатели для большинства городов из списка выше**. Сильно выросшие за три года цифры могут говорить о том, что рынок авиаперевозок в России сильно вырос за это время, однако если учесть негативное влияние пандемии на путешествия и перелеты, то версия со значительным ростом рынка все же маловероятна. Возможно разница связана с тем, что имеющиеся данные просто неполные, из-за чего данные так различаются.   \n",
    "\n",
    "Что касается популярных моделей самолетов, то и здесь ситуация не совсем однозначна. Судя по имеющимся таблицам, **количество рейсов на самолетах обоих лидеров рынка Airbus и Boeing в сумме меньше (3 097 рейсов всего), чем количество рейсов на моделях гораздо менее популярных производителей** Bombardier (4446 рейсов), Cessna (4557 рейсов) или Sukhoi Superjet (4185 рейсов), при том, что производители Airbus и Boeing наиболее популярны как в мире, так и в России, занимая 60-70% всего авиапарка экспуатируемых судов. Тогда как, например, Cessna 208, лидер по количеству перелетов в таблице по данным на сентябрь 2018 года — это маленький 9 местный самолет, который состоит во флоте только у пары небольших региональных авиакомпаний в России в количестве не более 6 штук, а в июле 2021 года над Россией не было ни одного зарегистрированного полета на этой модели.   \n",
    "\n",
    "Объяснить такую популярность Cessna пассажирскими перевозками двух небольших российских авиакомпаний достаточно сложно. Возможно имеет место техническая ошибка в данных или значительная часть рейсов этой модели это частные перевозки и коммерческие бизнес-рейсы. "
   ]
  }
 ],
 "metadata": {
  "ExecuteTimeLog": [
   {
    "duration": 836,
    "start_time": "2021-07-01T09:45:54.852Z"
   },
   {
    "duration": 22,
    "start_time": "2021-07-01T09:46:01.389Z"
   },
   {
    "duration": 13,
    "start_time": "2021-07-01T09:46:07.812Z"
   },
   {
    "duration": 452,
    "start_time": "2021-07-01T12:48:52.615Z"
   },
   {
    "duration": 16,
    "start_time": "2021-07-01T12:48:58.671Z"
   },
   {
    "duration": 24,
    "start_time": "2021-07-01T12:49:06.091Z"
   },
   {
    "duration": 34,
    "start_time": "2021-07-01T12:49:16.816Z"
   },
   {
    "duration": 26,
    "start_time": "2021-07-01T12:49:25.728Z"
   },
   {
    "duration": 30,
    "start_time": "2021-07-01T12:50:20.008Z"
   },
   {
    "duration": 32,
    "start_time": "2021-07-01T12:50:37.248Z"
   },
   {
    "duration": 334,
    "start_time": "2021-07-02T10:13:10.875Z"
   },
   {
    "duration": 753,
    "start_time": "2021-07-02T10:13:17.227Z"
   },
   {
    "duration": 40,
    "start_time": "2021-07-02T10:13:17.983Z"
   },
   {
    "duration": 35,
    "start_time": "2021-07-02T10:13:18.027Z"
   },
   {
    "duration": 48,
    "start_time": "2021-07-02T10:13:18.064Z"
   },
   {
    "duration": 324,
    "start_time": "2021-07-02T10:13:31.471Z"
   },
   {
    "duration": 277,
    "start_time": "2021-07-02T10:13:32.896Z"
   },
   {
    "duration": 9,
    "start_time": "2021-07-02T10:13:41.845Z"
   },
   {
    "duration": 9,
    "start_time": "2021-07-02T10:13:57.783Z"
   },
   {
    "duration": 10,
    "start_time": "2021-07-02T10:14:07.078Z"
   },
   {
    "duration": 27,
    "start_time": "2021-07-02T10:14:19.931Z"
   },
   {
    "duration": 10,
    "start_time": "2021-07-02T10:14:21.909Z"
   },
   {
    "duration": 10,
    "start_time": "2021-07-02T10:14:36.589Z"
   },
   {
    "duration": 11,
    "start_time": "2021-07-02T10:14:41.773Z"
   },
   {
    "duration": 10,
    "start_time": "2021-07-02T10:14:44.685Z"
   },
   {
    "duration": 331,
    "start_time": "2021-07-02T10:15:04.119Z"
   },
   {
    "duration": 17,
    "start_time": "2021-07-02T10:15:09.497Z"
   },
   {
    "duration": 321,
    "start_time": "2021-07-02T10:15:28.613Z"
   },
   {
    "duration": 7,
    "start_time": "2021-07-02T10:15:33.845Z"
   },
   {
    "duration": 7,
    "start_time": "2021-07-02T10:15:39.045Z"
   },
   {
    "duration": 9,
    "start_time": "2021-07-02T10:15:42.477Z"
   },
   {
    "duration": 10,
    "start_time": "2021-07-02T10:15:48.856Z"
   },
   {
    "duration": 8,
    "start_time": "2021-07-02T10:15:54.606Z"
   },
   {
    "duration": 8,
    "start_time": "2021-07-02T10:16:02.909Z"
   },
   {
    "duration": 8,
    "start_time": "2021-07-02T10:16:11.582Z"
   },
   {
    "duration": 391,
    "start_time": "2021-07-02T10:16:41.022Z"
   },
   {
    "duration": 316,
    "start_time": "2021-07-02T10:16:46.245Z"
   },
   {
    "duration": 10,
    "start_time": "2021-07-02T10:16:54.222Z"
   },
   {
    "duration": 9,
    "start_time": "2021-07-02T10:17:00.423Z"
   },
   {
    "duration": 11,
    "start_time": "2021-07-02T10:17:17.356Z"
   },
   {
    "duration": 10,
    "start_time": "2021-07-02T10:17:31.449Z"
   },
   {
    "duration": 12,
    "start_time": "2021-07-02T10:17:33.893Z"
   },
   {
    "duration": 10,
    "start_time": "2021-07-02T10:17:49.733Z"
   },
   {
    "duration": 293,
    "start_time": "2021-07-02T10:17:56.462Z"
   },
   {
    "duration": 15,
    "start_time": "2021-07-02T10:18:04.589Z"
   },
   {
    "duration": 16,
    "start_time": "2021-07-02T10:18:08.423Z"
   },
   {
    "duration": 11,
    "start_time": "2021-07-02T10:18:21.470Z"
   },
   {
    "duration": 391,
    "start_time": "2021-07-02T10:18:26.933Z"
   },
   {
    "duration": 319,
    "start_time": "2021-07-02T10:18:32.709Z"
   },
   {
    "duration": 297,
    "start_time": "2021-07-02T10:18:35.774Z"
   },
   {
    "duration": 11,
    "start_time": "2021-07-02T10:18:41.469Z"
   },
   {
    "duration": 11,
    "start_time": "2021-07-02T10:18:51.085Z"
   },
   {
    "duration": 15,
    "start_time": "2021-07-02T10:18:54.229Z"
   },
   {
    "duration": 18,
    "start_time": "2021-07-02T10:19:57.206Z"
   },
   {
    "duration": 16,
    "start_time": "2021-07-02T10:21:29.598Z"
   },
   {
    "duration": 18,
    "start_time": "2021-07-02T10:21:38.757Z"
   },
   {
    "duration": 16,
    "start_time": "2021-07-02T10:23:13.239Z"
   },
   {
    "duration": 437,
    "start_time": "2021-07-02T14:14:11.222Z"
   },
   {
    "duration": 320,
    "start_time": "2021-07-02T14:14:21.708Z"
   },
   {
    "duration": 319,
    "start_time": "2021-07-02T14:14:27.142Z"
   },
   {
    "duration": 393,
    "start_time": "2021-07-02T14:14:56.824Z"
   },
   {
    "duration": 362,
    "start_time": "2021-07-02T14:15:00.831Z"
   },
   {
    "duration": 440,
    "start_time": "2021-07-02T14:15:05.790Z"
   },
   {
    "duration": 378,
    "start_time": "2021-07-02T14:15:08.983Z"
   },
   {
    "duration": 379,
    "start_time": "2021-07-02T14:15:14.327Z"
   },
   {
    "duration": 342,
    "start_time": "2021-07-02T14:15:18.199Z"
   },
   {
    "duration": 354,
    "start_time": "2021-07-02T14:15:49.112Z"
   },
   {
    "duration": 352,
    "start_time": "2021-07-02T14:16:00.055Z"
   },
   {
    "duration": 112,
    "start_time": "2021-07-02T14:16:06.038Z"
   },
   {
    "duration": 365,
    "start_time": "2021-07-02T14:16:09.940Z"
   },
   {
    "duration": 91,
    "start_time": "2021-07-02T14:16:15.999Z"
   },
   {
    "duration": 388,
    "start_time": "2021-07-02T14:16:18.383Z"
   },
   {
    "duration": 370,
    "start_time": "2021-07-02T14:16:25.446Z"
   },
   {
    "duration": 325,
    "start_time": "2021-07-02T14:17:09.695Z"
   },
   {
    "duration": 2017,
    "start_time": "2021-07-02T14:17:16.511Z"
   },
   {
    "duration": 2180,
    "start_time": "2021-07-02T14:17:32.839Z"
   },
   {
    "duration": 301,
    "start_time": "2021-07-02T14:17:46.270Z"
   },
   {
    "duration": 2217,
    "start_time": "2021-07-02T14:17:56.640Z"
   },
   {
    "duration": 2059,
    "start_time": "2021-07-02T14:18:03.678Z"
   },
   {
    "duration": 13,
    "start_time": "2021-07-02T14:18:48.735Z"
   },
   {
    "duration": 2104,
    "start_time": "2021-07-02T14:19:05.935Z"
   },
   {
    "duration": 2151,
    "start_time": "2021-07-02T14:19:15.598Z"
   },
   {
    "duration": 1299,
    "start_time": "2021-07-02T14:19:41.728Z"
   },
   {
    "duration": 2474,
    "start_time": "2021-07-02T14:19:50.479Z"
   },
   {
    "duration": 1077,
    "start_time": "2021-07-02T14:20:07.729Z"
   },
   {
    "duration": 2703,
    "start_time": "2021-07-02T14:20:32.312Z"
   },
   {
    "duration": 1719,
    "start_time": "2021-07-02T14:21:32.619Z"
   },
   {
    "duration": 1935,
    "start_time": "2021-07-02T14:21:44.801Z"
   },
   {
    "duration": 2244,
    "start_time": "2021-07-02T14:21:52.422Z"
   },
   {
    "duration": 2664,
    "start_time": "2021-07-02T14:22:03.256Z"
   },
   {
    "duration": 2570,
    "start_time": "2021-07-02T14:22:16.007Z"
   },
   {
    "duration": 2588,
    "start_time": "2021-07-02T14:22:27.197Z"
   },
   {
    "duration": 2441,
    "start_time": "2021-07-02T14:22:51.463Z"
   },
   {
    "duration": 3184,
    "start_time": "2021-07-02T14:23:13.510Z"
   },
   {
    "duration": 32,
    "start_time": "2021-07-02T14:23:29.622Z"
   },
   {
    "duration": 2747,
    "start_time": "2021-07-02T14:23:35.046Z"
   },
   {
    "duration": 35,
    "start_time": "2021-07-02T14:24:26.094Z"
   },
   {
    "duration": 2506,
    "start_time": "2021-07-02T14:24:29.239Z"
   },
   {
    "duration": 2475,
    "start_time": "2021-07-02T14:24:39.366Z"
   },
   {
    "duration": 2393,
    "start_time": "2021-07-02T14:24:47.798Z"
   },
   {
    "duration": 2366,
    "start_time": "2021-07-02T14:24:57.886Z"
   },
   {
    "duration": 2342,
    "start_time": "2021-07-02T14:25:37.582Z"
   },
   {
    "duration": 2300,
    "start_time": "2021-07-02T14:25:43.174Z"
   },
   {
    "duration": 2259,
    "start_time": "2021-07-02T14:26:15.710Z"
   },
   {
    "duration": 2342,
    "start_time": "2021-07-02T14:26:20.486Z"
   },
   {
    "duration": 2256,
    "start_time": "2021-07-02T14:26:39.079Z"
   },
   {
    "duration": 2862,
    "start_time": "2021-07-02T14:27:10.206Z"
   },
   {
    "duration": 114,
    "start_time": "2021-07-02T14:28:03.342Z"
   },
   {
    "duration": 2692,
    "start_time": "2021-07-02T14:28:04.390Z"
   },
   {
    "duration": 1826,
    "start_time": "2021-07-02T14:28:25.734Z"
   },
   {
    "duration": 304,
    "start_time": "2021-07-02T14:28:30.750Z"
   },
   {
    "duration": 2288,
    "start_time": "2021-07-02T14:28:35.262Z"
   },
   {
    "duration": 2264,
    "start_time": "2021-07-02T14:28:49.990Z"
   },
   {
    "duration": 2401,
    "start_time": "2021-07-02T14:30:40.710Z"
   },
   {
    "duration": 2323,
    "start_time": "2021-07-02T14:30:43.598Z"
   },
   {
    "duration": 1932,
    "start_time": "2021-07-02T14:30:50.286Z"
   },
   {
    "duration": 683,
    "start_time": "2021-07-02T14:30:58.446Z"
   },
   {
    "duration": 363,
    "start_time": "2021-07-02T14:31:13.061Z"
   },
   {
    "duration": 716,
    "start_time": "2021-07-02T14:31:17.278Z"
   },
   {
    "duration": 338,
    "start_time": "2021-07-03T09:29:11.341Z"
   },
   {
    "duration": 623,
    "start_time": "2021-07-03T09:29:15.902Z"
   },
   {
    "duration": 18,
    "start_time": "2021-07-03T09:29:16.527Z"
   },
   {
    "duration": 17,
    "start_time": "2021-07-03T09:29:16.547Z"
   },
   {
    "duration": 9,
    "start_time": "2021-07-03T09:29:16.565Z"
   },
   {
    "duration": 10,
    "start_time": "2021-07-03T09:29:16.575Z"
   },
   {
    "duration": 174,
    "start_time": "2021-07-03T09:30:12.004Z"
   },
   {
    "duration": 166,
    "start_time": "2021-07-03T09:31:13.939Z"
   },
   {
    "duration": 6658,
    "start_time": "2021-07-03T09:31:36.237Z"
   },
   {
    "duration": 6694,
    "start_time": "2021-07-03T09:31:50.156Z"
   },
   {
    "duration": 203,
    "start_time": "2021-07-03T09:32:05.467Z"
   },
   {
    "duration": 187,
    "start_time": "2021-07-03T09:32:11.299Z"
   },
   {
    "duration": 225,
    "start_time": "2021-07-03T09:32:26.506Z"
   },
   {
    "duration": 254,
    "start_time": "2021-07-03T09:32:32.810Z"
   },
   {
    "duration": 179,
    "start_time": "2021-07-03T09:33:00.875Z"
   },
   {
    "duration": 187,
    "start_time": "2021-07-03T09:33:25.281Z"
   },
   {
    "duration": 195,
    "start_time": "2021-07-03T09:33:53.178Z"
   },
   {
    "duration": 197,
    "start_time": "2021-07-03T09:36:29.850Z"
   },
   {
    "duration": 200,
    "start_time": "2021-07-03T09:36:50.955Z"
   },
   {
    "duration": 188,
    "start_time": "2021-07-03T09:36:59.786Z"
   },
   {
    "duration": 83,
    "start_time": "2021-07-03T09:48:18.806Z"
   },
   {
    "duration": 379,
    "start_time": "2021-07-03T09:48:23.907Z"
   },
   {
    "duration": 420,
    "start_time": "2021-07-03T09:48:30.148Z"
   },
   {
    "duration": 375,
    "start_time": "2021-07-03T09:48:36.549Z"
   },
   {
    "duration": 435,
    "start_time": "2021-07-03T09:48:40.212Z"
   },
   {
    "duration": 380,
    "start_time": "2021-07-03T09:50:17.822Z"
   },
   {
    "duration": 383,
    "start_time": "2021-07-03T09:50:21.092Z"
   },
   {
    "duration": 376,
    "start_time": "2021-07-03T09:50:24.252Z"
   },
   {
    "duration": 391,
    "start_time": "2021-07-03T09:50:28.909Z"
   },
   {
    "duration": 379,
    "start_time": "2021-07-03T09:50:33.643Z"
   },
   {
    "duration": 395,
    "start_time": "2021-07-03T09:50:37.077Z"
   },
   {
    "duration": 1367,
    "start_time": "2021-07-03T10:37:59.492Z"
   },
   {
    "duration": 1441,
    "start_time": "2021-07-03T10:39:29.987Z"
   },
   {
    "duration": 1344,
    "start_time": "2021-07-03T10:39:41.084Z"
   },
   {
    "duration": 974,
    "start_time": "2021-07-03T16:50:52.276Z"
   },
   {
    "duration": 242,
    "start_time": "2021-07-03T16:51:05.195Z"
   },
   {
    "duration": 249,
    "start_time": "2021-07-03T16:51:18.923Z"
   },
   {
    "duration": 245,
    "start_time": "2021-07-03T16:54:23.740Z"
   },
   {
    "duration": 239,
    "start_time": "2021-07-03T16:54:44.050Z"
   },
   {
    "duration": 29,
    "start_time": "2021-07-03T16:55:05.058Z"
   },
   {
    "duration": 2262,
    "start_time": "2021-07-03T16:55:09.498Z"
   },
   {
    "duration": 49,
    "start_time": "2021-07-03T17:07:23.185Z"
   },
   {
    "duration": 11,
    "start_time": "2021-07-03T17:07:39.640Z"
   },
   {
    "duration": 11,
    "start_time": "2021-07-03T17:07:42.519Z"
   },
   {
    "duration": 11,
    "start_time": "2021-07-03T17:07:48.120Z"
   },
   {
    "duration": 10,
    "start_time": "2021-07-03T17:07:50.024Z"
   },
   {
    "duration": 11,
    "start_time": "2021-07-03T17:07:55.672Z"
   },
   {
    "duration": 245,
    "start_time": "2021-07-03T17:07:57.554Z"
   },
   {
    "duration": 8,
    "start_time": "2021-07-03T17:08:03.272Z"
   },
   {
    "duration": 6,
    "start_time": "2021-07-03T17:08:07.079Z"
   },
   {
    "duration": 6,
    "start_time": "2021-07-03T17:08:15.376Z"
   },
   {
    "duration": 7,
    "start_time": "2021-07-03T17:08:19.967Z"
   },
   {
    "duration": 5,
    "start_time": "2021-07-03T17:08:23.800Z"
   },
   {
    "duration": 11,
    "start_time": "2021-07-03T17:08:28.551Z"
   },
   {
    "duration": 5,
    "start_time": "2021-07-03T17:08:34.304Z"
   },
   {
    "duration": 83,
    "start_time": "2021-07-03T17:09:07.023Z"
   },
   {
    "duration": 7,
    "start_time": "2021-07-03T17:09:10.312Z"
   },
   {
    "duration": 7,
    "start_time": "2021-07-03T17:09:20.393Z"
   },
   {
    "duration": 7,
    "start_time": "2021-07-03T17:09:27.311Z"
   },
   {
    "duration": 7,
    "start_time": "2021-07-03T17:09:42.455Z"
   },
   {
    "duration": 11,
    "start_time": "2021-07-03T17:09:46.352Z"
   },
   {
    "duration": 262,
    "start_time": "2021-07-03T17:10:17.142Z"
   },
   {
    "duration": 8,
    "start_time": "2021-07-03T17:10:20.497Z"
   },
   {
    "duration": 6,
    "start_time": "2021-07-03T17:10:33.950Z"
   },
   {
    "duration": 6,
    "start_time": "2021-07-03T17:10:37.623Z"
   },
   {
    "duration": 6,
    "start_time": "2021-07-03T17:10:40.821Z"
   },
   {
    "duration": 156,
    "start_time": "2021-07-03T17:11:07.862Z"
   },
   {
    "duration": 147,
    "start_time": "2021-07-03T17:11:18.582Z"
   },
   {
    "duration": 153,
    "start_time": "2021-07-03T17:11:29.192Z"
   },
   {
    "duration": 177,
    "start_time": "2021-07-03T17:11:35.758Z"
   },
   {
    "duration": 299,
    "start_time": "2021-07-03T17:11:43.639Z"
   },
   {
    "duration": 296,
    "start_time": "2021-07-03T17:11:47.038Z"
   },
   {
    "duration": 295,
    "start_time": "2021-07-03T17:11:59.094Z"
   },
   {
    "duration": 291,
    "start_time": "2021-07-03T17:12:07.102Z"
   },
   {
    "duration": 6,
    "start_time": "2021-07-03T17:12:23.775Z"
   },
   {
    "duration": 6,
    "start_time": "2021-07-03T17:12:29.742Z"
   },
   {
    "duration": 6,
    "start_time": "2021-07-03T17:12:36.590Z"
   },
   {
    "duration": 7,
    "start_time": "2021-07-03T17:12:41.838Z"
   },
   {
    "duration": 6,
    "start_time": "2021-07-03T17:12:54.855Z"
   },
   {
    "duration": 5,
    "start_time": "2021-07-03T17:12:58.559Z"
   },
   {
    "duration": 7,
    "start_time": "2021-07-03T17:13:01.294Z"
   },
   {
    "duration": 6,
    "start_time": "2021-07-03T17:13:04.766Z"
   },
   {
    "duration": 6,
    "start_time": "2021-07-03T17:13:07.174Z"
   },
   {
    "duration": 9,
    "start_time": "2021-07-03T17:13:09.442Z"
   },
   {
    "duration": 6,
    "start_time": "2021-07-03T17:14:01.104Z"
   },
   {
    "duration": 6,
    "start_time": "2021-07-03T17:14:02.942Z"
   },
   {
    "duration": 8,
    "start_time": "2021-07-03T17:14:04.670Z"
   },
   {
    "duration": 9,
    "start_time": "2021-07-03T17:14:10.622Z"
   },
   {
    "duration": 7,
    "start_time": "2021-07-03T17:14:32.047Z"
   },
   {
    "duration": 8,
    "start_time": "2021-07-03T17:14:34.214Z"
   },
   {
    "duration": 8,
    "start_time": "2021-07-03T17:14:37.694Z"
   },
   {
    "duration": 10,
    "start_time": "2021-07-03T17:14:44.631Z"
   },
   {
    "duration": 8,
    "start_time": "2021-07-03T17:14:46.406Z"
   },
   {
    "duration": 235,
    "start_time": "2021-07-03T17:16:57.248Z"
   },
   {
    "duration": 9,
    "start_time": "2021-07-03T17:17:03.375Z"
   },
   {
    "duration": 9,
    "start_time": "2021-07-03T17:21:03.719Z"
   },
   {
    "duration": 251,
    "start_time": "2021-07-03T17:29:03.077Z"
   },
   {
    "duration": 242,
    "start_time": "2021-07-03T17:29:21.060Z"
   },
   {
    "duration": 744,
    "start_time": "2021-07-03T17:31:46.489Z"
   },
   {
    "duration": 258,
    "start_time": "2021-07-03T17:31:49.748Z"
   },
   {
    "duration": 690,
    "start_time": "2021-07-03T17:33:11.268Z"
   },
   {
    "duration": 290,
    "start_time": "2021-07-03T17:35:02.244Z"
   },
   {
    "duration": 9,
    "start_time": "2021-07-03T17:35:06.482Z"
   },
   {
    "duration": 6,
    "start_time": "2021-07-03T17:35:13.591Z"
   },
   {
    "duration": 6,
    "start_time": "2021-07-03T17:35:15.786Z"
   },
   {
    "duration": 318,
    "start_time": "2021-07-03T17:35:47.883Z"
   },
   {
    "duration": 108,
    "start_time": "2021-07-03T17:35:58.290Z"
   },
   {
    "duration": 195,
    "start_time": "2021-07-03T17:36:45.259Z"
   },
   {
    "duration": 197,
    "start_time": "2021-07-03T17:36:48.963Z"
   },
   {
    "duration": 328,
    "start_time": "2021-07-03T17:36:53.134Z"
   },
   {
    "duration": 1510,
    "start_time": "2021-07-03T17:37:28.578Z"
   },
   {
    "duration": 1487,
    "start_time": "2021-07-03T17:37:39.667Z"
   },
   {
    "duration": 113,
    "start_time": "2021-07-03T17:38:09.066Z"
   },
   {
    "duration": 247,
    "start_time": "2021-07-03T17:41:36.731Z"
   },
   {
    "duration": 261,
    "start_time": "2021-07-03T17:41:59.609Z"
   },
   {
    "duration": 389,
    "start_time": "2021-07-03T17:42:06.122Z"
   },
   {
    "duration": 268,
    "start_time": "2021-07-03T17:42:24.780Z"
   },
   {
    "duration": 230,
    "start_time": "2021-07-03T17:42:30.995Z"
   },
   {
    "duration": 364,
    "start_time": "2021-07-03T17:44:06.363Z"
   },
   {
    "duration": 229,
    "start_time": "2021-07-03T17:44:11.245Z"
   },
   {
    "duration": 116,
    "start_time": "2021-07-03T17:44:51.771Z"
   },
   {
    "duration": 229,
    "start_time": "2021-07-03T17:45:04.587Z"
   },
   {
    "duration": 403,
    "start_time": "2021-07-03T17:45:08.819Z"
   },
   {
    "duration": 221,
    "start_time": "2021-07-03T17:46:56.853Z"
   },
   {
    "duration": 370,
    "start_time": "2021-07-03T17:47:17.338Z"
   },
   {
    "duration": 29,
    "start_time": "2021-07-03T17:48:29.939Z"
   },
   {
    "duration": 231,
    "start_time": "2021-07-03T17:48:46.755Z"
   },
   {
    "duration": 242,
    "start_time": "2021-07-03T17:48:53.308Z"
   },
   {
    "duration": 230,
    "start_time": "2021-07-03T17:49:21.728Z"
   },
   {
    "duration": 397,
    "start_time": "2021-07-03T17:49:53.409Z"
   },
   {
    "duration": 1596,
    "start_time": "2021-07-03T17:50:35.656Z"
   },
   {
    "duration": 1616,
    "start_time": "2021-07-03T17:50:44.520Z"
   },
   {
    "duration": 2156,
    "start_time": "2021-07-03T17:50:59.568Z"
   },
   {
    "duration": 2387,
    "start_time": "2021-07-03T17:51:07.536Z"
   },
   {
    "duration": 2128,
    "start_time": "2021-07-03T17:51:15.448Z"
   },
   {
    "duration": 1485,
    "start_time": "2021-07-03T17:51:23.136Z"
   },
   {
    "duration": 1528,
    "start_time": "2021-07-03T17:51:27.567Z"
   },
   {
    "duration": 1838,
    "start_time": "2021-07-03T17:51:32.519Z"
   },
   {
    "duration": 1536,
    "start_time": "2021-07-03T17:51:40.272Z"
   },
   {
    "duration": 1526,
    "start_time": "2021-07-03T17:51:45.815Z"
   },
   {
    "duration": 550,
    "start_time": "2021-07-03T17:52:14.791Z"
   },
   {
    "duration": 557,
    "start_time": "2021-07-03T17:52:24.992Z"
   },
   {
    "duration": 562,
    "start_time": "2021-07-03T17:52:28.487Z"
   },
   {
    "duration": 706,
    "start_time": "2021-07-03T17:52:34.223Z"
   },
   {
    "duration": 468,
    "start_time": "2021-07-03T17:52:40.672Z"
   },
   {
    "duration": 468,
    "start_time": "2021-07-03T17:52:51.855Z"
   },
   {
    "duration": 369,
    "start_time": "2021-07-03T17:52:58.767Z"
   },
   {
    "duration": 426,
    "start_time": "2021-07-03T17:53:06.444Z"
   },
   {
    "duration": 427,
    "start_time": "2021-07-03T17:53:14.552Z"
   },
   {
    "duration": 445,
    "start_time": "2021-07-03T17:53:20.711Z"
   },
   {
    "duration": 438,
    "start_time": "2021-07-03T17:54:11.095Z"
   },
   {
    "duration": 1171,
    "start_time": "2021-07-03T17:54:35.263Z"
   },
   {
    "duration": 1298,
    "start_time": "2021-07-03T17:54:44.247Z"
   },
   {
    "duration": 1217,
    "start_time": "2021-07-03T17:54:50.447Z"
   },
   {
    "duration": 1151,
    "start_time": "2021-07-03T17:55:37.816Z"
   },
   {
    "duration": 475,
    "start_time": "2021-07-03T17:55:57.902Z"
   },
   {
    "duration": 452,
    "start_time": "2021-07-03T17:56:08.222Z"
   },
   {
    "duration": 475,
    "start_time": "2021-07-03T17:56:14.383Z"
   },
   {
    "duration": 654,
    "start_time": "2021-07-03T17:56:20.527Z"
   },
   {
    "duration": 492,
    "start_time": "2021-07-03T17:56:38.534Z"
   },
   {
    "duration": 474,
    "start_time": "2021-07-03T17:56:43.328Z"
   },
   {
    "duration": 241,
    "start_time": "2021-07-03T17:57:53.959Z"
   },
   {
    "duration": 12,
    "start_time": "2021-07-03T17:58:01.031Z"
   },
   {
    "duration": 214,
    "start_time": "2021-07-03T17:58:06.127Z"
   },
   {
    "duration": 212,
    "start_time": "2021-07-03T17:58:15.110Z"
   },
   {
    "duration": 210,
    "start_time": "2021-07-03T17:58:25.958Z"
   },
   {
    "duration": 225,
    "start_time": "2021-07-03T17:58:31.574Z"
   },
   {
    "duration": 9,
    "start_time": "2021-07-03T18:00:55.592Z"
   },
   {
    "duration": 4,
    "start_time": "2021-07-03T18:01:09.277Z"
   },
   {
    "duration": 5,
    "start_time": "2021-07-03T18:01:11.125Z"
   },
   {
    "duration": 5,
    "start_time": "2021-07-03T18:01:33.646Z"
   },
   {
    "duration": 4,
    "start_time": "2021-07-03T18:01:44.862Z"
   },
   {
    "duration": 4,
    "start_time": "2021-07-03T18:01:48.534Z"
   },
   {
    "duration": 4,
    "start_time": "2021-07-03T18:01:50.262Z"
   },
   {
    "duration": 5,
    "start_time": "2021-07-03T18:01:53.054Z"
   },
   {
    "duration": 5,
    "start_time": "2021-07-03T18:02:06.926Z"
   },
   {
    "duration": 91,
    "start_time": "2021-07-03T18:02:13.757Z"
   },
   {
    "duration": 5,
    "start_time": "2021-07-03T18:02:19.525Z"
   },
   {
    "duration": 4,
    "start_time": "2021-07-03T18:02:25.590Z"
   },
   {
    "duration": 6,
    "start_time": "2021-07-03T18:02:27.949Z"
   },
   {
    "duration": 1493,
    "start_time": "2021-07-03T18:06:38.294Z"
   },
   {
    "duration": 1447,
    "start_time": "2021-07-03T18:06:55.317Z"
   },
   {
    "duration": 1597,
    "start_time": "2021-07-03T18:07:00.877Z"
   },
   {
    "duration": 1449,
    "start_time": "2021-07-03T18:07:04.455Z"
   },
   {
    "duration": 1596,
    "start_time": "2021-07-03T18:07:20.645Z"
   },
   {
    "duration": 1435,
    "start_time": "2021-07-03T18:07:26.124Z"
   },
   {
    "duration": 1512,
    "start_time": "2021-07-03T18:07:30.773Z"
   },
   {
    "duration": 1552,
    "start_time": "2021-07-03T18:07:37.821Z"
   },
   {
    "duration": 1628,
    "start_time": "2021-07-03T18:07:44.581Z"
   },
   {
    "duration": 1948,
    "start_time": "2021-07-03T18:07:52.759Z"
   },
   {
    "duration": 1802,
    "start_time": "2021-07-03T18:08:02.114Z"
   },
   {
    "duration": 1675,
    "start_time": "2021-07-03T18:08:10.325Z"
   },
   {
    "duration": 1612,
    "start_time": "2021-07-03T18:08:30.717Z"
   },
   {
    "duration": 1800,
    "start_time": "2021-07-03T18:08:40.684Z"
   },
   {
    "duration": 1619,
    "start_time": "2021-07-03T18:10:10.277Z"
   },
   {
    "duration": 1594,
    "start_time": "2021-07-03T18:10:27.421Z"
   },
   {
    "duration": 200,
    "start_time": "2021-07-03T18:12:14.524Z"
   },
   {
    "duration": 2499,
    "start_time": "2021-07-03T18:12:21.067Z"
   },
   {
    "duration": 309,
    "start_time": "2021-07-03T18:12:24.964Z"
   },
   {
    "duration": 468,
    "start_time": "2021-07-03T18:12:27.341Z"
   },
   {
    "duration": 7,
    "start_time": "2021-07-03T18:12:33.859Z"
   },
   {
    "duration": 203,
    "start_time": "2021-07-03T18:12:37.732Z"
   },
   {
    "duration": 259,
    "start_time": "2021-07-03T18:25:39.522Z"
   },
   {
    "duration": 271,
    "start_time": "2021-07-03T18:25:41.627Z"
   },
   {
    "duration": 8,
    "start_time": "2021-07-03T18:25:53.522Z"
   },
   {
    "duration": 1007,
    "start_time": "2021-07-03T18:43:16.711Z"
   },
   {
    "duration": 21,
    "start_time": "2021-07-03T18:43:17.720Z"
   },
   {
    "duration": 25,
    "start_time": "2021-07-03T18:43:17.743Z"
   },
   {
    "duration": 18,
    "start_time": "2021-07-03T18:43:17.770Z"
   },
   {
    "duration": 10,
    "start_time": "2021-07-03T18:43:17.790Z"
   },
   {
    "duration": 1581,
    "start_time": "2021-07-03T18:43:17.802Z"
   },
   {
    "duration": 634,
    "start_time": "2021-07-03T18:43:19.385Z"
   },
   {
    "duration": 336,
    "start_time": "2021-07-03T18:43:20.020Z"
   },
   {
    "duration": 195,
    "start_time": "2021-07-03T18:43:20.358Z"
   },
   {
    "duration": 98,
    "start_time": "2021-07-04T07:03:49.243Z"
   },
   {
    "duration": 76,
    "start_time": "2021-07-04T07:03:57.681Z"
   },
   {
    "duration": 375,
    "start_time": "2021-07-04T08:23:57.472Z"
   },
   {
    "duration": 1329,
    "start_time": "2021-07-04T08:24:02.207Z"
   },
   {
    "duration": 21,
    "start_time": "2021-07-04T08:24:08.841Z"
   },
   {
    "duration": 12,
    "start_time": "2021-07-04T08:24:12.095Z"
   },
   {
    "duration": 16,
    "start_time": "2021-07-04T08:24:15.871Z"
   },
   {
    "duration": 20,
    "start_time": "2021-07-04T09:41:17.859Z"
   },
   {
    "duration": 9,
    "start_time": "2021-07-04T09:41:22.273Z"
   },
   {
    "duration": 1374,
    "start_time": "2021-07-04T10:31:39.574Z"
   },
   {
    "duration": 36,
    "start_time": "2021-07-04T10:31:40.951Z"
   },
   {
    "duration": 36,
    "start_time": "2021-07-04T10:31:40.993Z"
   },
   {
    "duration": 50,
    "start_time": "2021-07-04T10:31:41.032Z"
   },
   {
    "duration": 9,
    "start_time": "2021-07-04T10:31:41.086Z"
   },
   {
    "duration": 4094,
    "start_time": "2021-07-04T10:31:41.098Z"
   },
   {
    "duration": 1423,
    "start_time": "2021-07-04T10:31:45.196Z"
   },
   {
    "duration": 635,
    "start_time": "2021-07-04T10:31:46.622Z"
   },
   {
    "duration": 355,
    "start_time": "2021-07-04T10:31:47.267Z"
   },
   {
    "duration": 1762,
    "start_time": "2021-07-04T10:33:50.513Z"
   },
   {
    "duration": 48,
    "start_time": "2021-07-04T10:33:52.279Z"
   },
   {
    "duration": 53,
    "start_time": "2021-07-04T10:33:52.331Z"
   },
   {
    "duration": 18,
    "start_time": "2021-07-04T10:33:52.387Z"
   },
   {
    "duration": 8,
    "start_time": "2021-07-04T10:33:52.407Z"
   },
   {
    "duration": 2812,
    "start_time": "2021-07-04T10:33:52.418Z"
   },
   {
    "duration": 975,
    "start_time": "2021-07-04T10:33:55.233Z"
   },
   {
    "duration": 534,
    "start_time": "2021-07-04T10:33:56.211Z"
   },
   {
    "duration": 357,
    "start_time": "2021-07-04T10:33:56.748Z"
   },
   {
    "duration": 455,
    "start_time": "2021-07-04T10:34:12.639Z"
   },
   {
    "duration": 2661,
    "start_time": "2021-07-04T10:34:38.558Z"
   },
   {
    "duration": 383,
    "start_time": "2021-07-04T10:34:50.056Z"
   },
   {
    "duration": 1461,
    "start_time": "2021-07-04T10:35:06.433Z"
   },
   {
    "duration": 50,
    "start_time": "2021-07-04T10:35:07.898Z"
   },
   {
    "duration": 42,
    "start_time": "2021-07-04T10:35:07.952Z"
   },
   {
    "duration": 16,
    "start_time": "2021-07-04T10:35:07.996Z"
   },
   {
    "duration": 14,
    "start_time": "2021-07-04T10:35:08.014Z"
   },
   {
    "duration": 3669,
    "start_time": "2021-07-04T10:35:08.030Z"
   },
   {
    "duration": 935,
    "start_time": "2021-07-04T10:35:11.701Z"
   },
   {
    "duration": 594,
    "start_time": "2021-07-04T10:35:12.639Z"
   },
   {
    "duration": 350,
    "start_time": "2021-07-04T10:35:13.236Z"
   },
   {
    "duration": 126,
    "start_time": "2021-07-05T06:51:31.054Z"
   },
   {
    "duration": 123,
    "start_time": "2021-07-05T06:52:18.662Z"
   },
   {
    "duration": 116,
    "start_time": "2021-07-05T06:52:42.775Z"
   }
  ],
  "kernelspec": {
   "display_name": "Python 3",
   "language": "python",
   "name": "python3"
  },
  "language_info": {
   "codemirror_mode": {
    "name": "ipython",
    "version": 3
   },
   "file_extension": ".py",
   "mimetype": "text/x-python",
   "name": "python",
   "nbconvert_exporter": "python",
   "pygments_lexer": "ipython3",
   "version": "3.7.10"
  },
  "toc": {
   "base_numbering": 1,
   "nav_menu": {},
   "number_sections": true,
   "sideBar": true,
   "skip_h1_title": true,
   "title_cell": "Содержание",
   "title_sidebar": "Contents",
   "toc_cell": true,
   "toc_position": {
    "height": "calc(100% - 180px)",
    "left": "10px",
    "top": "150px",
    "width": "354px"
   },
   "toc_section_display": true,
   "toc_window_display": true
  }
 },
 "nbformat": 4,
 "nbformat_minor": 2
}
