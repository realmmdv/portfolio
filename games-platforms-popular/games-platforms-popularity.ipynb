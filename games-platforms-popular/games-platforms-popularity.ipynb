{
 "cells": [
  {
   "cell_type": "markdown",
   "metadata": {
    "toc": true
   },
   "source": [
    "<h1>Содержание<span class=\"tocSkip\"></span></h1>\n",
    "<div class=\"toc\"><ul class=\"toc-item\"><li><span><a href=\"#Вступление\" data-toc-modified-id=\"Вступление-1\"><span class=\"toc-item-num\">1&nbsp;&nbsp;</span>Вступление</a></span></li><li><span><a href=\"#Подготовка-данных\" data-toc-modified-id=\"Подготовка-данных-2\"><span class=\"toc-item-num\">2&nbsp;&nbsp;</span>Подготовка данных</a></span><ul class=\"toc-item\"><li><span><a href=\"#Замена-типов\" data-toc-modified-id=\"Замена-типов-2.1\"><span class=\"toc-item-num\">2.1&nbsp;&nbsp;</span>Замена типов</a></span></li><li><span><a href=\"#Обработка-пропусков\" data-toc-modified-id=\"Обработка-пропусков-2.2\"><span class=\"toc-item-num\">2.2&nbsp;&nbsp;</span>Обработка пропусков</a></span></li></ul></li><li><span><a href=\"#Анализ-данных\" data-toc-modified-id=\"Анализ-данных-3\"><span class=\"toc-item-num\">3&nbsp;&nbsp;</span>Анализ данных</a></span><ul class=\"toc-item\"><li><span><a href=\"#Игры-и-платформы-в-разные-годы\" data-toc-modified-id=\"Игры-и-платформы-в-разные-годы-3.1\"><span class=\"toc-item-num\">3.1&nbsp;&nbsp;</span>Игры и платформы в разные годы</a></span></li><li><span><a href=\"#Продажи-и-потенциально-прибыльные-платформы\" data-toc-modified-id=\"Продажи-и-потенциально-прибыльные-платформы-3.2\"><span class=\"toc-item-num\">3.2&nbsp;&nbsp;</span>Продажи и потенциально прибыльные платформы</a></span></li><li><span><a href=\"#Жанры\" data-toc-modified-id=\"Жанры-3.3\"><span class=\"toc-item-num\">3.3&nbsp;&nbsp;</span>Жанры</a></span></li></ul></li><li><span><a href=\"#Портрет-пользователя\" data-toc-modified-id=\"Портрет-пользователя-4\"><span class=\"toc-item-num\">4&nbsp;&nbsp;</span>Портрет пользователя</a></span><ul class=\"toc-item\"><li><span><a href=\"#Популярные-платформы\" data-toc-modified-id=\"Популярные-платформы-4.1\"><span class=\"toc-item-num\">4.1&nbsp;&nbsp;</span>Популярные платформы</a></span></li><li><span><a href=\"#Популярные-жанры\" data-toc-modified-id=\"Популярные-жанры-4.2\"><span class=\"toc-item-num\">4.2&nbsp;&nbsp;</span>Популярные жанры</a></span></li><li><span><a href=\"#Влияние-рейтинга-ESRB\" data-toc-modified-id=\"Влияние-рейтинга-ESRB-4.3\"><span class=\"toc-item-num\">4.3&nbsp;&nbsp;</span>Влияние рейтинга ESRB</a></span></li></ul></li><li><span><a href=\"#Проверка-гипотез\" data-toc-modified-id=\"Проверка-гипотез-5\"><span class=\"toc-item-num\">5&nbsp;&nbsp;</span>Проверка гипотез</a></span></li><li><span><a href=\"#Общий-вывод\" data-toc-modified-id=\"Общий-вывод-6\"><span class=\"toc-item-num\">6&nbsp;&nbsp;</span>Общий вывод</a></span></li></ul></div>"
   ]
  },
  {
   "cell_type": "markdown",
   "metadata": {},
   "source": [
    "# Описание проекта"
   ]
  },
  {
   "cell_type": "markdown",
   "metadata": {},
   "source": [
    "Имея данные о продажах, пользовательских и экспертных оценках видеоигр за период с 1985 по 2016 год необходимо выявить закономерности, определяющие успешность игр. Это необходимо для того, чтобы предположить какие игры будут популярны в следующем, 2017 году.\n",
    "\n",
    "В рамках проекта необходимо также проверить две гипотезы:\n",
    "\n",
    "1. Средние пользовательские рейтинги платформ Xbox One и PC одинаковые;\n",
    "2. Средние пользовательские рейтинги жанров Action (англ. «действие», экшен-игры) и Sports (англ. «спортивные соревнования») разные."
   ]
  },
  {
   "cell_type": "markdown",
   "metadata": {},
   "source": [
    "<div style=\"border:solid green 2px; padding: 20px\">\n",
    "    \n",
    "    Небольшой дисклеймер. Все комментарии в тетради написаны c учетом того, что сейчас конец 2016 года, поэтому фразы \"в данный момент\", \"сейчас\" и т.д. привязаны к 2016 году."
   ]
  },
  {
   "cell_type": "markdown",
   "metadata": {},
   "source": [
    "## Вступление"
   ]
  },
  {
   "cell_type": "code",
   "execution_count": 1,
   "metadata": {},
   "outputs": [],
   "source": [
    "from scipy import stats as st\n",
    "import numpy as np\n",
    "import pandas as pd\n",
    "import matplotlib.pyplot as plt\n",
    "import seaborn as sns\n",
    "import warnings\n",
    "warnings.filterwarnings('ignore')\n",
    "\n",
    "data = pd.read_csv('games.csv')"
   ]
  },
  {
   "cell_type": "code",
   "execution_count": 2,
   "metadata": {},
   "outputs": [
    {
     "data": {
      "text/html": [
       "<div>\n",
       "<style scoped>\n",
       "    .dataframe tbody tr th:only-of-type {\n",
       "        vertical-align: middle;\n",
       "    }\n",
       "\n",
       "    .dataframe tbody tr th {\n",
       "        vertical-align: top;\n",
       "    }\n",
       "\n",
       "    .dataframe thead th {\n",
       "        text-align: right;\n",
       "    }\n",
       "</style>\n",
       "<table border=\"1\" class=\"dataframe\">\n",
       "  <thead>\n",
       "    <tr style=\"text-align: right;\">\n",
       "      <th></th>\n",
       "      <th>Name</th>\n",
       "      <th>Platform</th>\n",
       "      <th>Year_of_Release</th>\n",
       "      <th>Genre</th>\n",
       "      <th>NA_sales</th>\n",
       "      <th>EU_sales</th>\n",
       "      <th>JP_sales</th>\n",
       "      <th>Other_sales</th>\n",
       "      <th>Critic_Score</th>\n",
       "      <th>User_Score</th>\n",
       "      <th>Rating</th>\n",
       "    </tr>\n",
       "  </thead>\n",
       "  <tbody>\n",
       "    <tr>\n",
       "      <td>0</td>\n",
       "      <td>Wii Sports</td>\n",
       "      <td>Wii</td>\n",
       "      <td>2006.0</td>\n",
       "      <td>Sports</td>\n",
       "      <td>41.36</td>\n",
       "      <td>28.96</td>\n",
       "      <td>3.77</td>\n",
       "      <td>8.45</td>\n",
       "      <td>76.0</td>\n",
       "      <td>8</td>\n",
       "      <td>E</td>\n",
       "    </tr>\n",
       "    <tr>\n",
       "      <td>1</td>\n",
       "      <td>Super Mario Bros.</td>\n",
       "      <td>NES</td>\n",
       "      <td>1985.0</td>\n",
       "      <td>Platform</td>\n",
       "      <td>29.08</td>\n",
       "      <td>3.58</td>\n",
       "      <td>6.81</td>\n",
       "      <td>0.77</td>\n",
       "      <td>NaN</td>\n",
       "      <td>NaN</td>\n",
       "      <td>NaN</td>\n",
       "    </tr>\n",
       "    <tr>\n",
       "      <td>2</td>\n",
       "      <td>Mario Kart Wii</td>\n",
       "      <td>Wii</td>\n",
       "      <td>2008.0</td>\n",
       "      <td>Racing</td>\n",
       "      <td>15.68</td>\n",
       "      <td>12.76</td>\n",
       "      <td>3.79</td>\n",
       "      <td>3.29</td>\n",
       "      <td>82.0</td>\n",
       "      <td>8.3</td>\n",
       "      <td>E</td>\n",
       "    </tr>\n",
       "    <tr>\n",
       "      <td>3</td>\n",
       "      <td>Wii Sports Resort</td>\n",
       "      <td>Wii</td>\n",
       "      <td>2009.0</td>\n",
       "      <td>Sports</td>\n",
       "      <td>15.61</td>\n",
       "      <td>10.93</td>\n",
       "      <td>3.28</td>\n",
       "      <td>2.95</td>\n",
       "      <td>80.0</td>\n",
       "      <td>8</td>\n",
       "      <td>E</td>\n",
       "    </tr>\n",
       "    <tr>\n",
       "      <td>4</td>\n",
       "      <td>Pokemon Red/Pokemon Blue</td>\n",
       "      <td>GB</td>\n",
       "      <td>1996.0</td>\n",
       "      <td>Role-Playing</td>\n",
       "      <td>11.27</td>\n",
       "      <td>8.89</td>\n",
       "      <td>10.22</td>\n",
       "      <td>1.00</td>\n",
       "      <td>NaN</td>\n",
       "      <td>NaN</td>\n",
       "      <td>NaN</td>\n",
       "    </tr>\n",
       "  </tbody>\n",
       "</table>\n",
       "</div>"
      ],
      "text/plain": [
       "                       Name Platform  Year_of_Release         Genre  NA_sales  \\\n",
       "0                Wii Sports      Wii           2006.0        Sports     41.36   \n",
       "1         Super Mario Bros.      NES           1985.0      Platform     29.08   \n",
       "2            Mario Kart Wii      Wii           2008.0        Racing     15.68   \n",
       "3         Wii Sports Resort      Wii           2009.0        Sports     15.61   \n",
       "4  Pokemon Red/Pokemon Blue       GB           1996.0  Role-Playing     11.27   \n",
       "\n",
       "   EU_sales  JP_sales  Other_sales  Critic_Score User_Score Rating  \n",
       "0     28.96      3.77         8.45          76.0          8      E  \n",
       "1      3.58      6.81         0.77           NaN        NaN    NaN  \n",
       "2     12.76      3.79         3.29          82.0        8.3      E  \n",
       "3     10.93      3.28         2.95          80.0          8      E  \n",
       "4      8.89     10.22         1.00           NaN        NaN    NaN  "
      ]
     },
     "execution_count": 2,
     "metadata": {},
     "output_type": "execute_result"
    }
   ],
   "source": [
    "data.head()"
   ]
  },
  {
   "cell_type": "code",
   "execution_count": 3,
   "metadata": {},
   "outputs": [
    {
     "name": "stdout",
     "output_type": "stream",
     "text": [
      "<class 'pandas.core.frame.DataFrame'>\n",
      "RangeIndex: 16715 entries, 0 to 16714\n",
      "Data columns (total 11 columns):\n",
      "Name               16713 non-null object\n",
      "Platform           16715 non-null object\n",
      "Year_of_Release    16446 non-null float64\n",
      "Genre              16713 non-null object\n",
      "NA_sales           16715 non-null float64\n",
      "EU_sales           16715 non-null float64\n",
      "JP_sales           16715 non-null float64\n",
      "Other_sales        16715 non-null float64\n",
      "Critic_Score       8137 non-null float64\n",
      "User_Score         10014 non-null object\n",
      "Rating             9949 non-null object\n",
      "dtypes: float64(6), object(5)\n",
      "memory usage: 1.4+ MB\n"
     ]
    }
   ],
   "source": [
    "data.info()"
   ]
  },
  {
   "cell_type": "code",
   "execution_count": 4,
   "metadata": {},
   "outputs": [
    {
     "data": {
      "text/html": [
       "<div>\n",
       "<style scoped>\n",
       "    .dataframe tbody tr th:only-of-type {\n",
       "        vertical-align: middle;\n",
       "    }\n",
       "\n",
       "    .dataframe tbody tr th {\n",
       "        vertical-align: top;\n",
       "    }\n",
       "\n",
       "    .dataframe thead th {\n",
       "        text-align: right;\n",
       "    }\n",
       "</style>\n",
       "<table border=\"1\" class=\"dataframe\">\n",
       "  <thead>\n",
       "    <tr style=\"text-align: right;\">\n",
       "      <th></th>\n",
       "      <th>Year_of_Release</th>\n",
       "      <th>NA_sales</th>\n",
       "      <th>EU_sales</th>\n",
       "      <th>JP_sales</th>\n",
       "      <th>Other_sales</th>\n",
       "      <th>Critic_Score</th>\n",
       "    </tr>\n",
       "  </thead>\n",
       "  <tbody>\n",
       "    <tr>\n",
       "      <td>count</td>\n",
       "      <td>16446.000000</td>\n",
       "      <td>16715.000000</td>\n",
       "      <td>16715.000000</td>\n",
       "      <td>16715.000000</td>\n",
       "      <td>16715.000000</td>\n",
       "      <td>8137.000000</td>\n",
       "    </tr>\n",
       "    <tr>\n",
       "      <td>mean</td>\n",
       "      <td>2006.484616</td>\n",
       "      <td>0.263377</td>\n",
       "      <td>0.145060</td>\n",
       "      <td>0.077617</td>\n",
       "      <td>0.047342</td>\n",
       "      <td>68.967679</td>\n",
       "    </tr>\n",
       "    <tr>\n",
       "      <td>std</td>\n",
       "      <td>5.877050</td>\n",
       "      <td>0.813604</td>\n",
       "      <td>0.503339</td>\n",
       "      <td>0.308853</td>\n",
       "      <td>0.186731</td>\n",
       "      <td>13.938165</td>\n",
       "    </tr>\n",
       "    <tr>\n",
       "      <td>min</td>\n",
       "      <td>1980.000000</td>\n",
       "      <td>0.000000</td>\n",
       "      <td>0.000000</td>\n",
       "      <td>0.000000</td>\n",
       "      <td>0.000000</td>\n",
       "      <td>13.000000</td>\n",
       "    </tr>\n",
       "    <tr>\n",
       "      <td>25%</td>\n",
       "      <td>2003.000000</td>\n",
       "      <td>0.000000</td>\n",
       "      <td>0.000000</td>\n",
       "      <td>0.000000</td>\n",
       "      <td>0.000000</td>\n",
       "      <td>60.000000</td>\n",
       "    </tr>\n",
       "    <tr>\n",
       "      <td>50%</td>\n",
       "      <td>2007.000000</td>\n",
       "      <td>0.080000</td>\n",
       "      <td>0.020000</td>\n",
       "      <td>0.000000</td>\n",
       "      <td>0.010000</td>\n",
       "      <td>71.000000</td>\n",
       "    </tr>\n",
       "    <tr>\n",
       "      <td>75%</td>\n",
       "      <td>2010.000000</td>\n",
       "      <td>0.240000</td>\n",
       "      <td>0.110000</td>\n",
       "      <td>0.040000</td>\n",
       "      <td>0.030000</td>\n",
       "      <td>79.000000</td>\n",
       "    </tr>\n",
       "    <tr>\n",
       "      <td>max</td>\n",
       "      <td>2016.000000</td>\n",
       "      <td>41.360000</td>\n",
       "      <td>28.960000</td>\n",
       "      <td>10.220000</td>\n",
       "      <td>10.570000</td>\n",
       "      <td>98.000000</td>\n",
       "    </tr>\n",
       "  </tbody>\n",
       "</table>\n",
       "</div>"
      ],
      "text/plain": [
       "       Year_of_Release      NA_sales      EU_sales      JP_sales  \\\n",
       "count     16446.000000  16715.000000  16715.000000  16715.000000   \n",
       "mean       2006.484616      0.263377      0.145060      0.077617   \n",
       "std           5.877050      0.813604      0.503339      0.308853   \n",
       "min        1980.000000      0.000000      0.000000      0.000000   \n",
       "25%        2003.000000      0.000000      0.000000      0.000000   \n",
       "50%        2007.000000      0.080000      0.020000      0.000000   \n",
       "75%        2010.000000      0.240000      0.110000      0.040000   \n",
       "max        2016.000000     41.360000     28.960000     10.220000   \n",
       "\n",
       "        Other_sales  Critic_Score  \n",
       "count  16715.000000   8137.000000  \n",
       "mean       0.047342     68.967679  \n",
       "std        0.186731     13.938165  \n",
       "min        0.000000     13.000000  \n",
       "25%        0.000000     60.000000  \n",
       "50%        0.010000     71.000000  \n",
       "75%        0.030000     79.000000  \n",
       "max       10.570000     98.000000  "
      ]
     },
     "execution_count": 4,
     "metadata": {},
     "output_type": "execute_result"
    }
   ],
   "source": [
    "data.describe()"
   ]
  },
  {
   "cell_type": "markdown",
   "metadata": {},
   "source": [
    "В наборе представлены данные с информацией по продажам и оценкам видеоигр, выпущенных в период с 1980 по 2016 годы. Продажи разбиты на несколько регионов: Северную Америку, Европу и Японию, а продажи в других регионах собраны в одном отдельном столбце. \n",
    "\n",
    "Всего в наборе 16715 строк и 11 столбцов, при том в 6 столбцах присутствуют пропущенные значения. \n",
    "\n",
    "Столбец *Year_of_Release*, который содержит сведения о годе выпуска игры представлен в не очень удобном дробном формате, а в столбце *User_score* некорректный тип данных (object), хотя он состоит из числовых данных. Каких-то аномальных значений, на первый взгляд, в данных не обнаружено."
   ]
  },
  {
   "cell_type": "markdown",
   "metadata": {},
   "source": [
    "## Подготовка данных"
   ]
  },
  {
   "cell_type": "markdown",
   "metadata": {},
   "source": [
    "### Замена типов"
   ]
  },
  {
   "cell_type": "code",
   "execution_count": 5,
   "metadata": {},
   "outputs": [
    {
     "data": {
      "text/html": [
       "<div>\n",
       "<style scoped>\n",
       "    .dataframe tbody tr th:only-of-type {\n",
       "        vertical-align: middle;\n",
       "    }\n",
       "\n",
       "    .dataframe tbody tr th {\n",
       "        vertical-align: top;\n",
       "    }\n",
       "\n",
       "    .dataframe thead th {\n",
       "        text-align: right;\n",
       "    }\n",
       "</style>\n",
       "<table border=\"1\" class=\"dataframe\">\n",
       "  <thead>\n",
       "    <tr style=\"text-align: right;\">\n",
       "      <th></th>\n",
       "      <th>name</th>\n",
       "      <th>platform</th>\n",
       "      <th>year_of_release</th>\n",
       "      <th>genre</th>\n",
       "      <th>na_sales</th>\n",
       "      <th>eu_sales</th>\n",
       "      <th>jp_sales</th>\n",
       "      <th>other_sales</th>\n",
       "      <th>critic_score</th>\n",
       "      <th>user_score</th>\n",
       "      <th>rating</th>\n",
       "    </tr>\n",
       "  </thead>\n",
       "  <tbody>\n",
       "    <tr>\n",
       "      <td>0</td>\n",
       "      <td>Wii Sports</td>\n",
       "      <td>Wii</td>\n",
       "      <td>2006.0</td>\n",
       "      <td>Sports</td>\n",
       "      <td>41.36</td>\n",
       "      <td>28.96</td>\n",
       "      <td>3.77</td>\n",
       "      <td>8.45</td>\n",
       "      <td>76.0</td>\n",
       "      <td>8</td>\n",
       "      <td>E</td>\n",
       "    </tr>\n",
       "    <tr>\n",
       "      <td>1</td>\n",
       "      <td>Super Mario Bros.</td>\n",
       "      <td>NES</td>\n",
       "      <td>1985.0</td>\n",
       "      <td>Platform</td>\n",
       "      <td>29.08</td>\n",
       "      <td>3.58</td>\n",
       "      <td>6.81</td>\n",
       "      <td>0.77</td>\n",
       "      <td>NaN</td>\n",
       "      <td>NaN</td>\n",
       "      <td>NaN</td>\n",
       "    </tr>\n",
       "    <tr>\n",
       "      <td>2</td>\n",
       "      <td>Mario Kart Wii</td>\n",
       "      <td>Wii</td>\n",
       "      <td>2008.0</td>\n",
       "      <td>Racing</td>\n",
       "      <td>15.68</td>\n",
       "      <td>12.76</td>\n",
       "      <td>3.79</td>\n",
       "      <td>3.29</td>\n",
       "      <td>82.0</td>\n",
       "      <td>8.3</td>\n",
       "      <td>E</td>\n",
       "    </tr>\n",
       "    <tr>\n",
       "      <td>3</td>\n",
       "      <td>Wii Sports Resort</td>\n",
       "      <td>Wii</td>\n",
       "      <td>2009.0</td>\n",
       "      <td>Sports</td>\n",
       "      <td>15.61</td>\n",
       "      <td>10.93</td>\n",
       "      <td>3.28</td>\n",
       "      <td>2.95</td>\n",
       "      <td>80.0</td>\n",
       "      <td>8</td>\n",
       "      <td>E</td>\n",
       "    </tr>\n",
       "    <tr>\n",
       "      <td>4</td>\n",
       "      <td>Pokemon Red/Pokemon Blue</td>\n",
       "      <td>GB</td>\n",
       "      <td>1996.0</td>\n",
       "      <td>Role-Playing</td>\n",
       "      <td>11.27</td>\n",
       "      <td>8.89</td>\n",
       "      <td>10.22</td>\n",
       "      <td>1.00</td>\n",
       "      <td>NaN</td>\n",
       "      <td>NaN</td>\n",
       "      <td>NaN</td>\n",
       "    </tr>\n",
       "  </tbody>\n",
       "</table>\n",
       "</div>"
      ],
      "text/plain": [
       "                       name platform  year_of_release         genre  na_sales  \\\n",
       "0                Wii Sports      Wii           2006.0        Sports     41.36   \n",
       "1         Super Mario Bros.      NES           1985.0      Platform     29.08   \n",
       "2            Mario Kart Wii      Wii           2008.0        Racing     15.68   \n",
       "3         Wii Sports Resort      Wii           2009.0        Sports     15.61   \n",
       "4  Pokemon Red/Pokemon Blue       GB           1996.0  Role-Playing     11.27   \n",
       "\n",
       "   eu_sales  jp_sales  other_sales  critic_score user_score rating  \n",
       "0     28.96      3.77         8.45          76.0          8      E  \n",
       "1      3.58      6.81         0.77           NaN        NaN    NaN  \n",
       "2     12.76      3.79         3.29          82.0        8.3      E  \n",
       "3     10.93      3.28         2.95          80.0          8      E  \n",
       "4      8.89     10.22         1.00           NaN        NaN    NaN  "
      ]
     },
     "execution_count": 5,
     "metadata": {},
     "output_type": "execute_result"
    }
   ],
   "source": [
    "# приводим названия столбцов к нижнему регистру\n",
    "\n",
    "data.columns = [col.lower() for col in data.columns]\n",
    "data.head()"
   ]
  },
  {
   "cell_type": "code",
   "execution_count": 6,
   "metadata": {},
   "outputs": [
    {
     "name": "stdout",
     "output_type": "stream",
     "text": [
      "Количество игр с оценкой TBD: 2424\n"
     ]
    }
   ],
   "source": [
    "print('Количество игр с оценкой TBD:', data.query('user_score == \"tbd\"')['user_score'].count())"
   ]
  },
  {
   "cell_type": "markdown",
   "metadata": {},
   "source": [
    "В данном случае я не меняю пропуски, а только меняю формат данных. Это безусловно изменит оценки со значением TBD в NaN, об этом подробнее в [выводах](#cell22)."
   ]
  },
  {
   "cell_type": "code",
   "execution_count": 7,
   "metadata": {},
   "outputs": [],
   "source": [
    "data['user_score'] = pd.to_numeric(data['user_score'], errors='coerce') "
   ]
  },
  {
   "cell_type": "code",
   "execution_count": 8,
   "metadata": {},
   "outputs": [
    {
     "name": "stdout",
     "output_type": "stream",
     "text": [
      "Количество игр с оценкой TBD: 0\n"
     ]
    }
   ],
   "source": [
    "print('Количество игр с оценкой TBD:', data.query('user_score == \"tbd\"')['user_score'].count())"
   ]
  },
  {
   "cell_type": "code",
   "execution_count": 9,
   "metadata": {},
   "outputs": [],
   "source": [
    "# считаем и добавляем новый столбец с общими продажами\n",
    "\n",
    "data['total_sales'] = data['na_sales'] + data['eu_sales'] + data ['jp_sales'] + data['other_sales']"
   ]
  },
  {
   "cell_type": "code",
   "execution_count": 10,
   "metadata": {},
   "outputs": [
    {
     "name": "stdout",
     "output_type": "stream",
     "text": [
      "<class 'pandas.core.frame.DataFrame'>\n",
      "RangeIndex: 16715 entries, 0 to 16714\n",
      "Data columns (total 12 columns):\n",
      "name               16713 non-null object\n",
      "platform           16715 non-null object\n",
      "year_of_release    16446 non-null float64\n",
      "genre              16713 non-null object\n",
      "na_sales           16715 non-null float64\n",
      "eu_sales           16715 non-null float64\n",
      "jp_sales           16715 non-null float64\n",
      "other_sales        16715 non-null float64\n",
      "critic_score       8137 non-null float64\n",
      "user_score         7590 non-null float64\n",
      "rating             9949 non-null object\n",
      "total_sales        16715 non-null float64\n",
      "dtypes: float64(8), object(4)\n",
      "memory usage: 1.5+ MB\n"
     ]
    }
   ],
   "source": [
    "data.info()"
   ]
  },
  {
   "cell_type": "markdown",
   "metadata": {},
   "source": [
    "### Обработка пропусков"
   ]
  },
  {
   "cell_type": "code",
   "execution_count": 11,
   "metadata": {},
   "outputs": [],
   "source": [
    "# заполняем данные по году выпуска нулями, чтобы сменить тип данных для корректного отображения года\n",
    "data['year_of_release'] = data['year_of_release'].fillna(0).astype(int) "
   ]
  },
  {
   "cell_type": "code",
   "execution_count": 12,
   "metadata": {},
   "outputs": [
    {
     "data": {
      "text/plain": [
       "2"
      ]
     },
     "execution_count": 12,
     "metadata": {},
     "output_type": "execute_result"
    }
   ],
   "source": [
    "data['name'].isna().sum()"
   ]
  },
  {
   "cell_type": "code",
   "execution_count": 13,
   "metadata": {
    "scrolled": true
   },
   "outputs": [
    {
     "data": {
      "text/html": [
       "<div>\n",
       "<style scoped>\n",
       "    .dataframe tbody tr th:only-of-type {\n",
       "        vertical-align: middle;\n",
       "    }\n",
       "\n",
       "    .dataframe tbody tr th {\n",
       "        vertical-align: top;\n",
       "    }\n",
       "\n",
       "    .dataframe thead th {\n",
       "        text-align: right;\n",
       "    }\n",
       "</style>\n",
       "<table border=\"1\" class=\"dataframe\">\n",
       "  <thead>\n",
       "    <tr style=\"text-align: right;\">\n",
       "      <th></th>\n",
       "      <th>name</th>\n",
       "      <th>platform</th>\n",
       "      <th>year_of_release</th>\n",
       "      <th>genre</th>\n",
       "      <th>na_sales</th>\n",
       "      <th>eu_sales</th>\n",
       "      <th>jp_sales</th>\n",
       "      <th>other_sales</th>\n",
       "      <th>critic_score</th>\n",
       "      <th>user_score</th>\n",
       "      <th>rating</th>\n",
       "      <th>total_sales</th>\n",
       "    </tr>\n",
       "  </thead>\n",
       "  <tbody>\n",
       "    <tr>\n",
       "      <td>659</td>\n",
       "      <td>False</td>\n",
       "      <td>False</td>\n",
       "      <td>False</td>\n",
       "      <td>False</td>\n",
       "      <td>False</td>\n",
       "      <td>False</td>\n",
       "      <td>False</td>\n",
       "      <td>False</td>\n",
       "      <td>False</td>\n",
       "      <td>False</td>\n",
       "      <td>False</td>\n",
       "      <td>False</td>\n",
       "    </tr>\n",
       "    <tr>\n",
       "      <td>14244</td>\n",
       "      <td>False</td>\n",
       "      <td>False</td>\n",
       "      <td>False</td>\n",
       "      <td>False</td>\n",
       "      <td>False</td>\n",
       "      <td>False</td>\n",
       "      <td>False</td>\n",
       "      <td>False</td>\n",
       "      <td>False</td>\n",
       "      <td>False</td>\n",
       "      <td>False</td>\n",
       "      <td>False</td>\n",
       "    </tr>\n",
       "  </tbody>\n",
       "</table>\n",
       "</div>"
      ],
      "text/plain": [
       "        name  platform  year_of_release  genre  na_sales  eu_sales  jp_sales  \\\n",
       "659    False     False            False  False     False     False     False   \n",
       "14244  False     False            False  False     False     False     False   \n",
       "\n",
       "       other_sales  critic_score  user_score  rating  total_sales  \n",
       "659          False         False       False   False        False  \n",
       "14244        False         False       False   False        False  "
      ]
     },
     "metadata": {},
     "output_type": "display_data"
    },
    {
     "data": {
      "text/html": [
       "<div>\n",
       "<style scoped>\n",
       "    .dataframe tbody tr th:only-of-type {\n",
       "        vertical-align: middle;\n",
       "    }\n",
       "\n",
       "    .dataframe tbody tr th {\n",
       "        vertical-align: top;\n",
       "    }\n",
       "\n",
       "    .dataframe thead th {\n",
       "        text-align: right;\n",
       "    }\n",
       "</style>\n",
       "<table border=\"1\" class=\"dataframe\">\n",
       "  <thead>\n",
       "    <tr style=\"text-align: right;\">\n",
       "      <th></th>\n",
       "      <th>name</th>\n",
       "      <th>platform</th>\n",
       "      <th>year_of_release</th>\n",
       "      <th>genre</th>\n",
       "      <th>na_sales</th>\n",
       "      <th>eu_sales</th>\n",
       "      <th>jp_sales</th>\n",
       "      <th>other_sales</th>\n",
       "      <th>critic_score</th>\n",
       "      <th>user_score</th>\n",
       "      <th>rating</th>\n",
       "      <th>total_sales</th>\n",
       "    </tr>\n",
       "  </thead>\n",
       "  <tbody>\n",
       "    <tr>\n",
       "      <td>659</td>\n",
       "      <td>NaN</td>\n",
       "      <td>GEN</td>\n",
       "      <td>1993</td>\n",
       "      <td>NaN</td>\n",
       "      <td>1.78</td>\n",
       "      <td>0.53</td>\n",
       "      <td>0.00</td>\n",
       "      <td>0.08</td>\n",
       "      <td>NaN</td>\n",
       "      <td>NaN</td>\n",
       "      <td>NaN</td>\n",
       "      <td>2.39</td>\n",
       "    </tr>\n",
       "    <tr>\n",
       "      <td>14244</td>\n",
       "      <td>NaN</td>\n",
       "      <td>GEN</td>\n",
       "      <td>1993</td>\n",
       "      <td>NaN</td>\n",
       "      <td>0.00</td>\n",
       "      <td>0.00</td>\n",
       "      <td>0.03</td>\n",
       "      <td>0.00</td>\n",
       "      <td>NaN</td>\n",
       "      <td>NaN</td>\n",
       "      <td>NaN</td>\n",
       "      <td>0.03</td>\n",
       "    </tr>\n",
       "  </tbody>\n",
       "</table>\n",
       "</div>"
      ],
      "text/plain": [
       "      name platform  year_of_release genre  na_sales  eu_sales  jp_sales  \\\n",
       "659    NaN      GEN             1993   NaN      1.78      0.53      0.00   \n",
       "14244  NaN      GEN             1993   NaN      0.00      0.00      0.03   \n",
       "\n",
       "       other_sales  critic_score  user_score rating  total_sales  \n",
       "659           0.08           NaN         NaN    NaN         2.39  \n",
       "14244         0.00           NaN         NaN    NaN         0.03  "
      ]
     },
     "execution_count": 13,
     "metadata": {},
     "output_type": "execute_result"
    }
   ],
   "source": [
    "# находим конкретные строки с пропущенными значениями в столбце name\n",
    "display(data[data['name'].isna()] == True)\n",
    "\n",
    "# посмотрим на них полностью \n",
    "data.query('index == 659 | index == 14244')"
   ]
  },
  {
   "cell_type": "code",
   "execution_count": 14,
   "metadata": {},
   "outputs": [],
   "source": [
    "# переименовываем эти значения \n",
    "data[['name','genre']] = data[['name','genre']].fillna('undefined')"
   ]
  },
  {
   "cell_type": "markdown",
   "metadata": {},
   "source": [
    "<a id='cell22'><a/>"
   ]
  },
  {
   "cell_type": "markdown",
   "metadata": {},
   "source": [
    "В столбцах critic_Score, user_Score и rating больше всего пропусков - около 40-50%. В остальных столбцах всего несколько пропущенных значений, они не смогут оказать значимого влияния на данные. \n",
    "\n",
    "В данных по году выпуска 269 пропущенных значений, которые мешают сменить тип данных, поэтому заполним их значениями 0. Это не повлияет на результаты исследования, так как мы не будем считать агрегированные данные в столбце с годом выпуска, но позволит сменить тип данных и отображать год корректно.\n",
    "\n",
    "Значение tbd в оценках значит, что оценка еще не сформирована и подлежит уточнению (tbd - to be determined с англ.). Один из крупнейших агрегаторов оценок для игр в мире Metacritic [использует](https://www.metacritic.com/faq#item13) tbd для объектов, у которых меньше 4 отзывов в базе. В рамках замены типа данных в предыдущем пункте все строки столбца user_score с tbd были обработаны как NaN. \n",
    "Их можно было бы заменить на нулевые значения, но в данном случае 0 не является оценкой, лишь подтверждает отсутствие оценки, поэтому для корректной работы с этим столбцом пришлось бы постоянно исключать строки с 0, чтобы они не оказывали влияние на результаты. В данном случае, для работы со столбцом изначально пропущенные значения и tbd не имеют существенной разницы, поэтому они обработаны как NaN. \n",
    "\n",
    "Столбцы *user_score*, *critic_score* и *rating* имеют много пропущенных значений, однако заполнять их точными данными в данной ситуации нельзя, а использовать какие-то средние или нулевые значения некорректно. Пропуски могут быть связаны как с отсутствием оценки у игры из-за малого количества отзывов (хотя в таком случае по идее должно быть указание tbd), так и с некорректной выгрузкой данных. Также это может быть связано с отсутствием оценок и рейтингов по старым играм 90-х годов: в то время просто не было агрегаторов и возрастных рейтингов.\n",
    "\n",
    "В столбцах *name* и *genre* есть две строки с отсутсвующими значениями, это две игры 1993 года для платформы Sega Genesis с данными только о продажах. Их можно удалить и это не окажет значимого влияния на исследование, однако их можно переименовать и сохранить для статистики, так данные будут формально полными."
   ]
  },
  {
   "cell_type": "markdown",
   "metadata": {},
   "source": [
    "## Анализ данных"
   ]
  },
  {
   "cell_type": "markdown",
   "metadata": {},
   "source": [
    "### Игры и платформы в разные годы"
   ]
  },
  {
   "cell_type": "code",
   "execution_count": 15,
   "metadata": {
    "scrolled": false
   },
   "outputs": [
    {
     "data": {
      "image/png": "[encoded data removed]",
      "text/plain": [
       "<Figure size 864x504 with 1 Axes>"
      ]
     },
     "metadata": {
      "needs_background": "light"
     },
     "output_type": "display_data"
    }
   ],
   "source": [
    "# группируем данные по годам\n",
    "data.groupby('year_of_release')['name'].count().plot(\n",
    "    kind='bar', x='year_of_release', figsize=(12,7),\n",
    "    title='Количество игр по году выпуска', rot=45\n",
    ");\n",
    "plt.xlabel('Год выпуска');\n",
    "plt.ylabel('Количество игр');"
   ]
  },
  {
   "cell_type": "code",
   "execution_count": 16,
   "metadata": {},
   "outputs": [
    {
     "name": "stdout",
     "output_type": "stream",
     "text": [
      "Количество игр, выпущенных с 2000 года: 14470\n",
      "Количество игр, выпущенных в период 2002-2011: 10752\n"
     ]
    }
   ],
   "source": [
    "print('Количество игр, выпущенных с 2000 года:', data.query('year_of_release >= 2000')['name'].count()) \n",
    "print('Количество игр, выпущенных в период 2002-2011:', data.query('2002 <= year_of_release <= 2011')['name'].count()) "
   ]
  },
  {
   "cell_type": "markdown",
   "metadata": {},
   "source": [
    "Преобладающее большинство игр в базе выпущены в 21 веке, однако больше всего названий с датой релиза в 2002-2011 гг."
   ]
  },
  {
   "cell_type": "code",
   "execution_count": 17,
   "metadata": {},
   "outputs": [
    {
     "data": {
      "text/plain": [
       "platform\n",
       "PS2     1255.77\n",
       "X360     971.42\n",
       "PS3      939.65\n",
       "Wii      907.51\n",
       "DS       806.12\n",
       "PS       730.86\n",
       "GBA      317.85\n",
       "PS4      314.14\n",
       "PSP      294.05\n",
       "PC       259.52\n",
       "Name: total_sales, dtype: float64"
      ]
     },
     "execution_count": 17,
     "metadata": {},
     "output_type": "execute_result"
    }
   ],
   "source": [
    "# топ-10 платформ по суммарным продажам\n",
    "data.groupby('platform')['total_sales'].sum().sort_values(ascending=False).head(10)"
   ]
  },
  {
   "cell_type": "code",
   "execution_count": 18,
   "metadata": {
    "scrolled": true
   },
   "outputs": [
    {
     "data": {
      "text/html": [
       "<div>\n",
       "<style scoped>\n",
       "    .dataframe tbody tr th:only-of-type {\n",
       "        vertical-align: middle;\n",
       "    }\n",
       "\n",
       "    .dataframe tbody tr th {\n",
       "        vertical-align: top;\n",
       "    }\n",
       "\n",
       "    .dataframe thead th {\n",
       "        text-align: right;\n",
       "    }\n",
       "</style>\n",
       "<table border=\"1\" class=\"dataframe\">\n",
       "  <thead>\n",
       "    <tr style=\"text-align: right;\">\n",
       "      <th></th>\n",
       "      <th>platform</th>\n",
       "      <th>platform_sales</th>\n",
       "    </tr>\n",
       "  </thead>\n",
       "  <tbody>\n",
       "    <tr>\n",
       "      <td>0</td>\n",
       "      <td>PS2</td>\n",
       "      <td>1255.77</td>\n",
       "    </tr>\n",
       "    <tr>\n",
       "      <td>1</td>\n",
       "      <td>X360</td>\n",
       "      <td>971.42</td>\n",
       "    </tr>\n",
       "    <tr>\n",
       "      <td>2</td>\n",
       "      <td>PS3</td>\n",
       "      <td>939.65</td>\n",
       "    </tr>\n",
       "    <tr>\n",
       "      <td>3</td>\n",
       "      <td>Wii</td>\n",
       "      <td>907.51</td>\n",
       "    </tr>\n",
       "    <tr>\n",
       "      <td>4</td>\n",
       "      <td>DS</td>\n",
       "      <td>806.12</td>\n",
       "    </tr>\n",
       "    <tr>\n",
       "      <td>5</td>\n",
       "      <td>PS</td>\n",
       "      <td>730.86</td>\n",
       "    </tr>\n",
       "    <tr>\n",
       "      <td>6</td>\n",
       "      <td>GBA</td>\n",
       "      <td>317.85</td>\n",
       "    </tr>\n",
       "    <tr>\n",
       "      <td>7</td>\n",
       "      <td>PS4</td>\n",
       "      <td>314.14</td>\n",
       "    </tr>\n",
       "    <tr>\n",
       "      <td>8</td>\n",
       "      <td>PSP</td>\n",
       "      <td>294.05</td>\n",
       "    </tr>\n",
       "    <tr>\n",
       "      <td>9</td>\n",
       "      <td>PC</td>\n",
       "      <td>259.52</td>\n",
       "    </tr>\n",
       "  </tbody>\n",
       "</table>\n",
       "</div>"
      ],
      "text/plain": [
       "  platform  platform_sales\n",
       "0      PS2         1255.77\n",
       "1     X360          971.42\n",
       "2      PS3          939.65\n",
       "3      Wii          907.51\n",
       "4       DS          806.12\n",
       "5       PS          730.86\n",
       "6      GBA          317.85\n",
       "7      PS4          314.14\n",
       "8      PSP          294.05\n",
       "9       PC          259.52"
      ]
     },
     "execution_count": 18,
     "metadata": {},
     "output_type": "execute_result"
    }
   ],
   "source": [
    "# сохраняем первые 10 платформ по суммарным продажам в переменную  \n",
    "s = data.groupby('platform')['total_sales'].sum().reset_index().rename(\n",
    "    {'total_sales': 'platform_sales'}, axis=1).sort_values(\n",
    "    by='platform_sales', ascending=False).head(10).reset_index(\n",
    "    drop=True)\n",
    "s"
   ]
  },
  {
   "cell_type": "code",
   "execution_count": 19,
   "metadata": {},
   "outputs": [
    {
     "data": {
      "text/html": [
       "<div>\n",
       "<style scoped>\n",
       "    .dataframe tbody tr th:only-of-type {\n",
       "        vertical-align: middle;\n",
       "    }\n",
       "\n",
       "    .dataframe tbody tr th {\n",
       "        vertical-align: top;\n",
       "    }\n",
       "\n",
       "    .dataframe thead th {\n",
       "        text-align: right;\n",
       "    }\n",
       "</style>\n",
       "<table border=\"1\" class=\"dataframe\">\n",
       "  <thead>\n",
       "    <tr style=\"text-align: right;\">\n",
       "      <th></th>\n",
       "      <th>name</th>\n",
       "      <th>platform</th>\n",
       "      <th>year_of_release</th>\n",
       "      <th>genre</th>\n",
       "      <th>na_sales</th>\n",
       "      <th>eu_sales</th>\n",
       "      <th>jp_sales</th>\n",
       "      <th>other_sales</th>\n",
       "      <th>critic_score</th>\n",
       "      <th>user_score</th>\n",
       "      <th>rating</th>\n",
       "      <th>total_sales</th>\n",
       "      <th>platform_sales</th>\n",
       "    </tr>\n",
       "  </thead>\n",
       "  <tbody>\n",
       "    <tr>\n",
       "      <td>0</td>\n",
       "      <td>Wii Sports</td>\n",
       "      <td>Wii</td>\n",
       "      <td>2006</td>\n",
       "      <td>Sports</td>\n",
       "      <td>41.36</td>\n",
       "      <td>28.96</td>\n",
       "      <td>3.77</td>\n",
       "      <td>8.45</td>\n",
       "      <td>76.0</td>\n",
       "      <td>8.0</td>\n",
       "      <td>E</td>\n",
       "      <td>82.54</td>\n",
       "      <td>907.51</td>\n",
       "    </tr>\n",
       "    <tr>\n",
       "      <td>1</td>\n",
       "      <td>Mario Kart Wii</td>\n",
       "      <td>Wii</td>\n",
       "      <td>2008</td>\n",
       "      <td>Racing</td>\n",
       "      <td>15.68</td>\n",
       "      <td>12.76</td>\n",
       "      <td>3.79</td>\n",
       "      <td>3.29</td>\n",
       "      <td>82.0</td>\n",
       "      <td>8.3</td>\n",
       "      <td>E</td>\n",
       "      <td>35.52</td>\n",
       "      <td>907.51</td>\n",
       "    </tr>\n",
       "    <tr>\n",
       "      <td>2</td>\n",
       "      <td>Wii Sports Resort</td>\n",
       "      <td>Wii</td>\n",
       "      <td>2009</td>\n",
       "      <td>Sports</td>\n",
       "      <td>15.61</td>\n",
       "      <td>10.93</td>\n",
       "      <td>3.28</td>\n",
       "      <td>2.95</td>\n",
       "      <td>80.0</td>\n",
       "      <td>8.0</td>\n",
       "      <td>E</td>\n",
       "      <td>32.77</td>\n",
       "      <td>907.51</td>\n",
       "    </tr>\n",
       "    <tr>\n",
       "      <td>3</td>\n",
       "      <td>Wii Play</td>\n",
       "      <td>Wii</td>\n",
       "      <td>2006</td>\n",
       "      <td>Misc</td>\n",
       "      <td>13.96</td>\n",
       "      <td>9.18</td>\n",
       "      <td>2.93</td>\n",
       "      <td>2.84</td>\n",
       "      <td>58.0</td>\n",
       "      <td>6.6</td>\n",
       "      <td>E</td>\n",
       "      <td>28.91</td>\n",
       "      <td>907.51</td>\n",
       "    </tr>\n",
       "    <tr>\n",
       "      <td>4</td>\n",
       "      <td>New Super Mario Bros. Wii</td>\n",
       "      <td>Wii</td>\n",
       "      <td>2009</td>\n",
       "      <td>Platform</td>\n",
       "      <td>14.44</td>\n",
       "      <td>6.94</td>\n",
       "      <td>4.70</td>\n",
       "      <td>2.24</td>\n",
       "      <td>87.0</td>\n",
       "      <td>8.4</td>\n",
       "      <td>E</td>\n",
       "      <td>28.32</td>\n",
       "      <td>907.51</td>\n",
       "    </tr>\n",
       "  </tbody>\n",
       "</table>\n",
       "</div>"
      ],
      "text/plain": [
       "                        name platform  year_of_release     genre  na_sales  \\\n",
       "0                 Wii Sports      Wii             2006    Sports     41.36   \n",
       "1             Mario Kart Wii      Wii             2008    Racing     15.68   \n",
       "2          Wii Sports Resort      Wii             2009    Sports     15.61   \n",
       "3                   Wii Play      Wii             2006      Misc     13.96   \n",
       "4  New Super Mario Bros. Wii      Wii             2009  Platform     14.44   \n",
       "\n",
       "   eu_sales  jp_sales  other_sales  critic_score  user_score rating  \\\n",
       "0     28.96      3.77         8.45          76.0         8.0      E   \n",
       "1     12.76      3.79         3.29          82.0         8.3      E   \n",
       "2     10.93      3.28         2.95          80.0         8.0      E   \n",
       "3      9.18      2.93         2.84          58.0         6.6      E   \n",
       "4      6.94      4.70         2.24          87.0         8.4      E   \n",
       "\n",
       "   total_sales  platform_sales  \n",
       "0        82.54          907.51  \n",
       "1        35.52          907.51  \n",
       "2        32.77          907.51  \n",
       "3        28.91          907.51  \n",
       "4        28.32          907.51  "
      ]
     },
     "execution_count": 19,
     "metadata": {},
     "output_type": "execute_result"
    }
   ],
   "source": [
    "# создаем новую таблицу, в которой объединяем основную таблицу с только что \n",
    "# созданной по суммарным продажам топ-10 платформ\n",
    "platforms = data.merge(s.rename(columns={'index': 'platform'}), on='platform')\n",
    "platforms.head()"
   ]
  },
  {
   "cell_type": "code",
   "execution_count": 20,
   "metadata": {
    "scrolled": false
   },
   "outputs": [
    {
     "data": {
      "text/html": [
       "<div>\n",
       "<style scoped>\n",
       "    .dataframe tbody tr th:only-of-type {\n",
       "        vertical-align: middle;\n",
       "    }\n",
       "\n",
       "    .dataframe tbody tr th {\n",
       "        vertical-align: top;\n",
       "    }\n",
       "\n",
       "    .dataframe thead th {\n",
       "        text-align: right;\n",
       "    }\n",
       "</style>\n",
       "<table border=\"1\" class=\"dataframe\">\n",
       "  <thead>\n",
       "    <tr style=\"text-align: right;\">\n",
       "      <th></th>\n",
       "      <th>platform</th>\n",
       "      <th>platform_sales</th>\n",
       "      <th>year_of_release</th>\n",
       "      <th>games_count</th>\n",
       "    </tr>\n",
       "  </thead>\n",
       "  <tbody>\n",
       "    <tr>\n",
       "      <td>0</td>\n",
       "      <td>DS</td>\n",
       "      <td>806.12</td>\n",
       "      <td>0</td>\n",
       "      <td>30</td>\n",
       "    </tr>\n",
       "    <tr>\n",
       "      <td>1</td>\n",
       "      <td>PC</td>\n",
       "      <td>259.52</td>\n",
       "      <td>0</td>\n",
       "      <td>17</td>\n",
       "    </tr>\n",
       "    <tr>\n",
       "      <td>2</td>\n",
       "      <td>GBA</td>\n",
       "      <td>317.85</td>\n",
       "      <td>0</td>\n",
       "      <td>11</td>\n",
       "    </tr>\n",
       "    <tr>\n",
       "      <td>3</td>\n",
       "      <td>PS2</td>\n",
       "      <td>1255.77</td>\n",
       "      <td>0</td>\n",
       "      <td>34</td>\n",
       "    </tr>\n",
       "    <tr>\n",
       "      <td>4</td>\n",
       "      <td>PS3</td>\n",
       "      <td>939.65</td>\n",
       "      <td>0</td>\n",
       "      <td>25</td>\n",
       "    </tr>\n",
       "    <tr>\n",
       "      <td>...</td>\n",
       "      <td>...</td>\n",
       "      <td>...</td>\n",
       "      <td>...</td>\n",
       "      <td>...</td>\n",
       "    </tr>\n",
       "    <tr>\n",
       "      <td>121</td>\n",
       "      <td>PS3</td>\n",
       "      <td>939.65</td>\n",
       "      <td>2016</td>\n",
       "      <td>38</td>\n",
       "    </tr>\n",
       "    <tr>\n",
       "      <td>122</td>\n",
       "      <td>PC</td>\n",
       "      <td>259.52</td>\n",
       "      <td>2016</td>\n",
       "      <td>54</td>\n",
       "    </tr>\n",
       "    <tr>\n",
       "      <td>123</td>\n",
       "      <td>Wii</td>\n",
       "      <td>907.51</td>\n",
       "      <td>2016</td>\n",
       "      <td>1</td>\n",
       "    </tr>\n",
       "    <tr>\n",
       "      <td>124</td>\n",
       "      <td>PS4</td>\n",
       "      <td>314.14</td>\n",
       "      <td>2016</td>\n",
       "      <td>164</td>\n",
       "    </tr>\n",
       "    <tr>\n",
       "      <td>125</td>\n",
       "      <td>X360</td>\n",
       "      <td>971.42</td>\n",
       "      <td>2016</td>\n",
       "      <td>13</td>\n",
       "    </tr>\n",
       "  </tbody>\n",
       "</table>\n",
       "<p>126 rows × 4 columns</p>\n",
       "</div>"
      ],
      "text/plain": [
       "    platform  platform_sales  year_of_release  games_count\n",
       "0         DS          806.12                0           30\n",
       "1         PC          259.52                0           17\n",
       "2        GBA          317.85                0           11\n",
       "3        PS2         1255.77                0           34\n",
       "4        PS3          939.65                0           25\n",
       "..       ...             ...              ...          ...\n",
       "121      PS3          939.65             2016           38\n",
       "122       PC          259.52             2016           54\n",
       "123      Wii          907.51             2016            1\n",
       "124      PS4          314.14             2016          164\n",
       "125     X360          971.42             2016           13\n",
       "\n",
       "[126 rows x 4 columns]"
      ]
     },
     "execution_count": 20,
     "metadata": {},
     "output_type": "execute_result"
    }
   ],
   "source": [
    "# группируем платформы по количеству по годам и количеству игр в них\n",
    "\n",
    "top10platforms = (\n",
    "    platforms.groupby(['platform', 'platform_sales', 'year_of_release'])['name'].count()\n",
    "        .reset_index(name='games_count')\n",
    "        .sort_values('year_of_release')\n",
    "        .reset_index(drop=True)\n",
    "        .round(2)\n",
    ")\n",
    "top10platforms"
   ]
  },
  {
   "cell_type": "code",
   "execution_count": 21,
   "metadata": {
    "scrolled": false
   },
   "outputs": [
    {
     "name": "stdout",
     "output_type": "stream",
     "text": [
      "2151 игр всего для DS \n",
      "822 игр всего для GBA \n",
      "974 игр всего для PC \n",
      "1197 игр всего для PS \n",
      "2161 игр всего для PS2 \n",
      "1331 игр всего для PS3 \n",
      "392 игр всего для PS4 \n",
      "1209 игр всего для PSP \n",
      "1320 игр всего для Wii \n",
      "1262 игр всего для X360 \n"
     ]
    },
    {
     "data": {
      "image/png": "[encoded data removed]",
      "text/plain": [
       "<Figure size 576x432 with 1 Axes>"
      ]
     },
     "metadata": {
      "needs_background": "light"
     },
     "output_type": "display_data"
    },
    {
     "data": {
      "image/png": "[encoded data removed]",
      "text/plain": [
       "<Figure size 576x432 with 1 Axes>"
      ]
     },
     "metadata": {
      "needs_background": "light"
     },
     "output_type": "display_data"
    },
    {
     "data": {
      "image/png": "[encoded data removed]",
      "text/plain": [
       "<Figure size 576x432 with 1 Axes>"
      ]
     },
     "metadata": {
      "needs_background": "light"
     },
     "output_type": "display_data"
    },
    {
     "data": {
      "image/png": "[encoded data removed]",
      "text/plain": [
       "<Figure size 576x432 with 1 Axes>"
      ]
     },
     "metadata": {
      "needs_background": "light"
     },
     "output_type": "display_data"
    },
    {
     "data": {
      "image/png": "[encoded data removed]",
      "text/plain": [
       "<Figure size 576x432 with 1 Axes>"
      ]
     },
     "metadata": {
      "needs_background": "light"
     },
     "output_type": "display_data"
    },
    {
     "data": {
      "image/png": "[encoded data removed]",
      "text/plain": [
       "<Figure size 576x432 with 1 Axes>"
      ]
     },
     "metadata": {
      "needs_background": "light"
     },
     "output_type": "display_data"
    },
    {
     "data": {
      "image/png": "[encoded data removed]",
      "text/plain": [
       "<Figure size 576x432 with 1 Axes>"
      ]
     },
     "metadata": {
      "needs_background": "light"
     },
     "output_type": "display_data"
    },
    {
     "data": {
      "image/png": "[encoded data removed]",
      "text/plain": [
       "<Figure size 576x432 with 1 Axes>"
      ]
     },
     "metadata": {
      "needs_background": "light"
     },
     "output_type": "display_data"
    },
    {
     "data": {
      "image/png": "[encoded data removed]",
      "text/plain": [
       "<Figure size 576x432 with 1 Axes>"
      ]
     },
     "metadata": {
      "needs_background": "light"
     },
     "output_type": "display_data"
    },
    {
     "data": {
      "image/png": "[encoded data removed]",
      "text/plain": [
       "<Figure size 576x432 with 1 Axes>"
      ]
     },
     "metadata": {
      "needs_background": "light"
     },
     "output_type": "display_data"
    }
   ],
   "source": [
    "# cтроим графики для каждой платформы с распределением по годам\n",
    "\n",
    "for platform, top10data in top10platforms.groupby('platform'):\n",
    "    print('{} игр всего для {} '.format((top10data['games_count']).sum(), platform));\n",
    "    top10data.plot(\n",
    "        kind='bar', x='year_of_release', y='games_count',\n",
    "        title=platform, figsize=(8, 6), rot=45, \n",
    "        grid=True, legend=False\n",
    "    )\n",
    "    plt.xlabel('Дата релиза')\n",
    "    plt.ylabel('Количество игр')"
   ]
  },
  {
   "cell_type": "code",
   "execution_count": 22,
   "metadata": {},
   "outputs": [
    {
     "data": {
      "text/html": [
       "<div>\n",
       "<style scoped>\n",
       "    .dataframe tbody tr th:only-of-type {\n",
       "        vertical-align: middle;\n",
       "    }\n",
       "\n",
       "    .dataframe tbody tr th {\n",
       "        vertical-align: top;\n",
       "    }\n",
       "\n",
       "    .dataframe thead th {\n",
       "        text-align: right;\n",
       "    }\n",
       "</style>\n",
       "<table border=\"1\" class=\"dataframe\">\n",
       "  <thead>\n",
       "    <tr style=\"text-align: right;\">\n",
       "      <th></th>\n",
       "      <th>name</th>\n",
       "      <th>platform</th>\n",
       "      <th>year_of_release</th>\n",
       "      <th>genre</th>\n",
       "      <th>na_sales</th>\n",
       "      <th>eu_sales</th>\n",
       "      <th>jp_sales</th>\n",
       "      <th>other_sales</th>\n",
       "      <th>critic_score</th>\n",
       "      <th>user_score</th>\n",
       "      <th>rating</th>\n",
       "      <th>total_sales</th>\n",
       "      <th>platform_sales</th>\n",
       "      <th>sales_per_year</th>\n",
       "    </tr>\n",
       "  </thead>\n",
       "  <tbody>\n",
       "    <tr>\n",
       "      <td>0</td>\n",
       "      <td>Wii Sports</td>\n",
       "      <td>Wii</td>\n",
       "      <td>2006</td>\n",
       "      <td>Sports</td>\n",
       "      <td>41.36</td>\n",
       "      <td>28.96</td>\n",
       "      <td>3.77</td>\n",
       "      <td>8.45</td>\n",
       "      <td>76.0</td>\n",
       "      <td>8.0</td>\n",
       "      <td>E</td>\n",
       "      <td>82.54</td>\n",
       "      <td>907.51</td>\n",
       "      <td>137.15</td>\n",
       "    </tr>\n",
       "    <tr>\n",
       "      <td>1</td>\n",
       "      <td>Wii Play</td>\n",
       "      <td>Wii</td>\n",
       "      <td>2006</td>\n",
       "      <td>Misc</td>\n",
       "      <td>13.96</td>\n",
       "      <td>9.18</td>\n",
       "      <td>2.93</td>\n",
       "      <td>2.84</td>\n",
       "      <td>58.0</td>\n",
       "      <td>6.6</td>\n",
       "      <td>E</td>\n",
       "      <td>28.91</td>\n",
       "      <td>907.51</td>\n",
       "      <td>137.15</td>\n",
       "    </tr>\n",
       "    <tr>\n",
       "      <td>2</td>\n",
       "      <td>The Legend of Zelda: Twilight Princess</td>\n",
       "      <td>Wii</td>\n",
       "      <td>2006</td>\n",
       "      <td>Action</td>\n",
       "      <td>3.74</td>\n",
       "      <td>2.14</td>\n",
       "      <td>0.60</td>\n",
       "      <td>0.68</td>\n",
       "      <td>95.0</td>\n",
       "      <td>9.0</td>\n",
       "      <td>T</td>\n",
       "      <td>7.16</td>\n",
       "      <td>907.51</td>\n",
       "      <td>137.15</td>\n",
       "    </tr>\n",
       "    <tr>\n",
       "      <td>3</td>\n",
       "      <td>WarioWare: Smooth Moves</td>\n",
       "      <td>Wii</td>\n",
       "      <td>2006</td>\n",
       "      <td>Puzzle</td>\n",
       "      <td>0.86</td>\n",
       "      <td>1.04</td>\n",
       "      <td>0.73</td>\n",
       "      <td>0.26</td>\n",
       "      <td>83.0</td>\n",
       "      <td>7.4</td>\n",
       "      <td>E10+</td>\n",
       "      <td>2.89</td>\n",
       "      <td>907.51</td>\n",
       "      <td>137.15</td>\n",
       "    </tr>\n",
       "    <tr>\n",
       "      <td>4</td>\n",
       "      <td>Super Monkey Ball: Banana Blitz</td>\n",
       "      <td>Wii</td>\n",
       "      <td>2006</td>\n",
       "      <td>Misc</td>\n",
       "      <td>1.05</td>\n",
       "      <td>0.91</td>\n",
       "      <td>0.04</td>\n",
       "      <td>0.24</td>\n",
       "      <td>74.0</td>\n",
       "      <td>5.7</td>\n",
       "      <td>E</td>\n",
       "      <td>2.24</td>\n",
       "      <td>907.51</td>\n",
       "      <td>137.15</td>\n",
       "    </tr>\n",
       "  </tbody>\n",
       "</table>\n",
       "</div>"
      ],
      "text/plain": [
       "                                     name platform  year_of_release   genre  \\\n",
       "0                              Wii Sports      Wii             2006  Sports   \n",
       "1                                Wii Play      Wii             2006    Misc   \n",
       "2  The Legend of Zelda: Twilight Princess      Wii             2006  Action   \n",
       "3                 WarioWare: Smooth Moves      Wii             2006  Puzzle   \n",
       "4         Super Monkey Ball: Banana Blitz      Wii             2006    Misc   \n",
       "\n",
       "   na_sales  eu_sales  jp_sales  other_sales  critic_score  user_score rating  \\\n",
       "0     41.36     28.96      3.77         8.45          76.0         8.0      E   \n",
       "1     13.96      9.18      2.93         2.84          58.0         6.6      E   \n",
       "2      3.74      2.14      0.60         0.68          95.0         9.0      T   \n",
       "3      0.86      1.04      0.73         0.26          83.0         7.4   E10+   \n",
       "4      1.05      0.91      0.04         0.24          74.0         5.7      E   \n",
       "\n",
       "   total_sales  platform_sales  sales_per_year  \n",
       "0        82.54          907.51          137.15  \n",
       "1        28.91          907.51          137.15  \n",
       "2         7.16          907.51          137.15  \n",
       "3         2.89          907.51          137.15  \n",
       "4         2.24          907.51          137.15  "
      ]
     },
     "execution_count": 22,
     "metadata": {},
     "output_type": "execute_result"
    }
   ],
   "source": [
    "# группируем данные по продажам за год для каждой платформы из топ-10\n",
    "ys = platforms.groupby(['platform','year_of_release'])['total_sales'].sum().reset_index().rename(\n",
    "    {'total_sales': 'sales_per_year'}, axis=1)\n",
    "\n",
    "# создаем новую таблицу, в которой объединяем основную таблицу с только что созданной по суммарным продажам топ-10 платформ\n",
    "plats_per_yearsales = platforms.merge(ys.rename(columns={'index': 'platform'}), on=['platform', 'year_of_release'])\n",
    "plats_per_yearsales.head()"
   ]
  },
  {
   "cell_type": "code",
   "execution_count": 23,
   "metadata": {},
   "outputs": [
    {
     "data": {
      "text/html": [
       "<div>\n",
       "<style scoped>\n",
       "    .dataframe tbody tr th:only-of-type {\n",
       "        vertical-align: middle;\n",
       "    }\n",
       "\n",
       "    .dataframe tbody tr th {\n",
       "        vertical-align: top;\n",
       "    }\n",
       "\n",
       "    .dataframe thead th {\n",
       "        text-align: right;\n",
       "    }\n",
       "</style>\n",
       "<table border=\"1\" class=\"dataframe\">\n",
       "  <thead>\n",
       "    <tr style=\"text-align: right;\">\n",
       "      <th></th>\n",
       "      <th>platform</th>\n",
       "      <th>year_of_release</th>\n",
       "      <th>sales_per_year</th>\n",
       "    </tr>\n",
       "  </thead>\n",
       "  <tbody>\n",
       "    <tr>\n",
       "      <td>0</td>\n",
       "      <td>DS</td>\n",
       "      <td>0</td>\n",
       "      <td>3.34</td>\n",
       "    </tr>\n",
       "    <tr>\n",
       "      <td>1</td>\n",
       "      <td>PC</td>\n",
       "      <td>0</td>\n",
       "      <td>3.76</td>\n",
       "    </tr>\n",
       "    <tr>\n",
       "      <td>2</td>\n",
       "      <td>GBA</td>\n",
       "      <td>0</td>\n",
       "      <td>4.97</td>\n",
       "    </tr>\n",
       "    <tr>\n",
       "      <td>3</td>\n",
       "      <td>PS2</td>\n",
       "      <td>0</td>\n",
       "      <td>22.21</td>\n",
       "    </tr>\n",
       "    <tr>\n",
       "      <td>4</td>\n",
       "      <td>PS3</td>\n",
       "      <td>0</td>\n",
       "      <td>8.31</td>\n",
       "    </tr>\n",
       "    <tr>\n",
       "      <td>...</td>\n",
       "      <td>...</td>\n",
       "      <td>...</td>\n",
       "      <td>...</td>\n",
       "    </tr>\n",
       "    <tr>\n",
       "      <td>121</td>\n",
       "      <td>PS3</td>\n",
       "      <td>2016</td>\n",
       "      <td>3.60</td>\n",
       "    </tr>\n",
       "    <tr>\n",
       "      <td>122</td>\n",
       "      <td>PC</td>\n",
       "      <td>2016</td>\n",
       "      <td>5.25</td>\n",
       "    </tr>\n",
       "    <tr>\n",
       "      <td>123</td>\n",
       "      <td>Wii</td>\n",
       "      <td>2016</td>\n",
       "      <td>0.18</td>\n",
       "    </tr>\n",
       "    <tr>\n",
       "      <td>124</td>\n",
       "      <td>PS4</td>\n",
       "      <td>2016</td>\n",
       "      <td>69.25</td>\n",
       "    </tr>\n",
       "    <tr>\n",
       "      <td>125</td>\n",
       "      <td>X360</td>\n",
       "      <td>2016</td>\n",
       "      <td>1.52</td>\n",
       "    </tr>\n",
       "  </tbody>\n",
       "</table>\n",
       "<p>126 rows × 3 columns</p>\n",
       "</div>"
      ],
      "text/plain": [
       "    platform  year_of_release  sales_per_year\n",
       "0         DS                0            3.34\n",
       "1         PC                0            3.76\n",
       "2        GBA                0            4.97\n",
       "3        PS2                0           22.21\n",
       "4        PS3                0            8.31\n",
       "..       ...              ...             ...\n",
       "121      PS3             2016            3.60\n",
       "122       PC             2016            5.25\n",
       "123      Wii             2016            0.18\n",
       "124      PS4             2016           69.25\n",
       "125     X360             2016            1.52\n",
       "\n",
       "[126 rows x 3 columns]"
      ]
     },
     "execution_count": 23,
     "metadata": {},
     "output_type": "execute_result"
    }
   ],
   "source": [
    "# группируем платформы по продажам за год\n",
    "\n",
    "top10platforms_yearsales = (\n",
    "    plats_per_yearsales.groupby(['platform', 'year_of_release'])['sales_per_year'].max().reset_index()\n",
    "    .sort_values('year_of_release')\n",
    "    .reset_index(drop=True)\n",
    ")\n",
    "\n",
    "# взял max, т.к. здесь используются уже имеющиеся данные из столбца и аггрегировать ничего не надо\n",
    "top10platforms_yearsales"
   ]
  },
  {
   "cell_type": "code",
   "execution_count": 24,
   "metadata": {
    "scrolled": false
   },
   "outputs": [
    {
     "data": {
      "image/png": "[encoded data removed]",
      "text/plain": [
       "<Figure size 576x432 with 1 Axes>"
      ]
     },
     "metadata": {
      "needs_background": "light"
     },
     "output_type": "display_data"
    },
    {
     "data": {
      "image/png": "[encoded data removed]",
      "text/plain": [
       "<Figure size 576x432 with 1 Axes>"
      ]
     },
     "metadata": {
      "needs_background": "light"
     },
     "output_type": "display_data"
    },
    {
     "data": {
      "image/png": "[encoded data removed]",
      "text/plain": [
       "<Figure size 576x432 with 1 Axes>"
      ]
     },
     "metadata": {
      "needs_background": "light"
     },
     "output_type": "display_data"
    },
    {
     "data": {
      "image/png": "[encoded data removed]",
      "text/plain": [
       "<Figure size 576x432 with 1 Axes>"
      ]
     },
     "metadata": {
      "needs_background": "light"
     },
     "output_type": "display_data"
    },
    {
     "data": {
      "image/png": "[encoded data removed]",
      "text/plain": [
       "<Figure size 576x432 with 1 Axes>"
      ]
     },
     "metadata": {
      "needs_background": "light"
     },
     "output_type": "display_data"
    },
    {
     "data": {
      "image/png": "[encoded data removed]",
      "text/plain": [
       "<Figure size 576x432 with 1 Axes>"
      ]
     },
     "metadata": {
      "needs_background": "light"
     },
     "output_type": "display_data"
    },
    {
     "data": {
      "image/png": "[encoded data removed]",
      "text/plain": [
       "<Figure size 576x432 with 1 Axes>"
      ]
     },
     "metadata": {
      "needs_background": "light"
     },
     "output_type": "display_data"
    },
    {
     "data": {
      "image/png": "[encoded data removed]",
      "text/plain": [
       "<Figure size 576x432 with 1 Axes>"
      ]
     },
     "metadata": {
      "needs_background": "light"
     },
     "output_type": "display_data"
    },
    {
     "data": {
      "image/png": "[encoded data removed]",
      "text/plain": [
       "<Figure size 576x432 with 1 Axes>"
      ]
     },
     "metadata": {
      "needs_background": "light"
     },
     "output_type": "display_data"
    },
    {
     "data": {
      "image/png": "[encoded data removed]",
      "text/plain": [
       "<Figure size 576x432 with 1 Axes>"
      ]
     },
     "metadata": {
      "needs_background": "light"
     },
     "output_type": "display_data"
    }
   ],
   "source": [
    "# cтроим графики для каждой платформы по продажам с распределением по годам\n",
    "\n",
    "for platform, top10data in top10platforms_yearsales.groupby('platform'):\n",
    "    top10data.plot(\n",
    "        kind='bar', x='year_of_release', y='sales_per_year',\n",
    "        title=platform, figsize=(8, 6), rot=45,\n",
    "        grid=True, legend=False\n",
    "    )\n",
    "    plt.xlabel('Дата релиза')\n",
    "    plt.ylabel('Продажи платформы за год (млн копий)')"
   ]
  },
  {
   "cell_type": "code",
   "execution_count": 25,
   "metadata": {
    "scrolled": true
   },
   "outputs": [
    {
     "data": {
      "text/html": [
       "<div>\n",
       "<style scoped>\n",
       "    .dataframe tbody tr th:only-of-type {\n",
       "        vertical-align: middle;\n",
       "    }\n",
       "\n",
       "    .dataframe tbody tr th {\n",
       "        vertical-align: top;\n",
       "    }\n",
       "\n",
       "    .dataframe thead th {\n",
       "        text-align: right;\n",
       "    }\n",
       "</style>\n",
       "<table border=\"1\" class=\"dataframe\">\n",
       "  <thead>\n",
       "    <tr style=\"text-align: right;\">\n",
       "      <th></th>\n",
       "      <th>name</th>\n",
       "      <th>platform</th>\n",
       "      <th>year_of_release</th>\n",
       "      <th>genre</th>\n",
       "      <th>na_sales</th>\n",
       "      <th>eu_sales</th>\n",
       "      <th>jp_sales</th>\n",
       "      <th>other_sales</th>\n",
       "      <th>critic_score</th>\n",
       "      <th>user_score</th>\n",
       "      <th>rating</th>\n",
       "      <th>total_sales</th>\n",
       "    </tr>\n",
       "  </thead>\n",
       "  <tbody>\n",
       "    <tr>\n",
       "      <td>16</td>\n",
       "      <td>Grand Theft Auto V</td>\n",
       "      <td>PS3</td>\n",
       "      <td>2013</td>\n",
       "      <td>Action</td>\n",
       "      <td>7.02</td>\n",
       "      <td>9.09</td>\n",
       "      <td>0.98</td>\n",
       "      <td>3.96</td>\n",
       "      <td>97.0</td>\n",
       "      <td>8.2</td>\n",
       "      <td>M</td>\n",
       "      <td>21.05</td>\n",
       "    </tr>\n",
       "    <tr>\n",
       "      <td>23</td>\n",
       "      <td>Grand Theft Auto V</td>\n",
       "      <td>X360</td>\n",
       "      <td>2013</td>\n",
       "      <td>Action</td>\n",
       "      <td>9.66</td>\n",
       "      <td>5.14</td>\n",
       "      <td>0.06</td>\n",
       "      <td>1.41</td>\n",
       "      <td>97.0</td>\n",
       "      <td>8.1</td>\n",
       "      <td>M</td>\n",
       "      <td>16.27</td>\n",
       "    </tr>\n",
       "    <tr>\n",
       "      <td>42</td>\n",
       "      <td>Grand Theft Auto V</td>\n",
       "      <td>PS4</td>\n",
       "      <td>2014</td>\n",
       "      <td>Action</td>\n",
       "      <td>3.96</td>\n",
       "      <td>6.31</td>\n",
       "      <td>0.38</td>\n",
       "      <td>1.97</td>\n",
       "      <td>97.0</td>\n",
       "      <td>8.3</td>\n",
       "      <td>M</td>\n",
       "      <td>12.62</td>\n",
       "    </tr>\n",
       "    <tr>\n",
       "      <td>165</td>\n",
       "      <td>Grand Theft Auto V</td>\n",
       "      <td>XOne</td>\n",
       "      <td>2014</td>\n",
       "      <td>Action</td>\n",
       "      <td>2.81</td>\n",
       "      <td>2.19</td>\n",
       "      <td>0.00</td>\n",
       "      <td>0.47</td>\n",
       "      <td>97.0</td>\n",
       "      <td>7.9</td>\n",
       "      <td>M</td>\n",
       "      <td>5.47</td>\n",
       "    </tr>\n",
       "    <tr>\n",
       "      <td>1730</td>\n",
       "      <td>Grand Theft Auto V</td>\n",
       "      <td>PC</td>\n",
       "      <td>2015</td>\n",
       "      <td>Action</td>\n",
       "      <td>0.39</td>\n",
       "      <td>0.69</td>\n",
       "      <td>0.00</td>\n",
       "      <td>0.09</td>\n",
       "      <td>96.0</td>\n",
       "      <td>7.9</td>\n",
       "      <td>M</td>\n",
       "      <td>1.17</td>\n",
       "    </tr>\n",
       "  </tbody>\n",
       "</table>\n",
       "</div>"
      ],
      "text/plain": [
       "                    name platform  year_of_release   genre  na_sales  \\\n",
       "16    Grand Theft Auto V      PS3             2013  Action      7.02   \n",
       "23    Grand Theft Auto V     X360             2013  Action      9.66   \n",
       "42    Grand Theft Auto V      PS4             2014  Action      3.96   \n",
       "165   Grand Theft Auto V     XOne             2014  Action      2.81   \n",
       "1730  Grand Theft Auto V       PC             2015  Action      0.39   \n",
       "\n",
       "      eu_sales  jp_sales  other_sales  critic_score  user_score rating  \\\n",
       "16        9.09      0.98         3.96          97.0         8.2      M   \n",
       "23        5.14      0.06         1.41          97.0         8.1      M   \n",
       "42        6.31      0.38         1.97          97.0         8.3      M   \n",
       "165       2.19      0.00         0.47          97.0         7.9      M   \n",
       "1730      0.69      0.00         0.09          96.0         7.9      M   \n",
       "\n",
       "      total_sales  \n",
       "16          21.05  \n",
       "23          16.27  \n",
       "42          12.62  \n",
       "165          5.47  \n",
       "1730         1.17  "
      ]
     },
     "execution_count": 25,
     "metadata": {},
     "output_type": "execute_result"
    }
   ],
   "source": [
    "data.query('name == \"Grand Theft Auto V\"')"
   ]
  },
  {
   "cell_type": "markdown",
   "metadata": {},
   "source": [
    "По графикам можно заметить, что пик выпуска игр приходится на 3-5 год после анонса поколения. Игры на платформы в топ-10 хорошо продаются в течение 6-8 лет после старта. Также графики демонстрируют связь между количеством, выпущенных игр и продажами на платформе: чем больше выходит игр в год для платформы, тем больше их продается.\n",
    "\n",
    "При этом нужно понимать, что рынок видеоигр имеет некоторые особенности. Так, основные производители Sony и Microsoft (Nintendo в меньшей степени) представляют новую консоль и открывают поколение, например Xbox 360, а в дальнейшем еще несколько раз представляют новые приставки в рамках этого же поколения. Например, обновленная X360, а потом еще одна, уже под конец поколения. Таким образом продлевается срок жизни поколения. В нашей базе (не только в ней, но и в целом) нет разделения на версии консолей в рамках одного поколения, так как все игры для Xbox 360 будут работать и на оригинальной (первой) приставке, и на обновленной (последней). Этим можно объяснить пики в количестве релизнутых игр после нескольких лет спадов.\n",
    "\n",
    "В среднем поколения в рамках одного бренда (и формата) сменяются раз в 5-7 лет, так первая Playstation вышла в 1994 году, вторая — в 2000, PS3 — в 2006, а последняя на данный момент консоль Playstation 4 появилась в продаже в 2013 году. У Microsoft на старте бренда Xbox цикл был короче, однако в дальнейшем он выровнялся и синхронизировался с главным конкурентом. \n",
    "У Nintendo cитуация схожая: консоль Nintendo Game Cube (в базе GC) вышла в 2001 году, в 2006 в продаже появилась Wii, в 2011 — Wii U. Стоит отметить, что у Sony и Nintendo параллельно с домашними версиями консолей выпускаются портативные версии: линейки PSP и Nintendo DS, которые также в свою очередь развиваются с теми же сроками. При этом выход новых консолей не отменяет одномоментно предыдущие, так как оба поколения некоторое время существуют одновременно, а игры выпускаются на каждое. \n",
    "\n",
    "Небольшое количество игр в первый год (год старта продаж) также можно объяснить особенностью индустрии: ключевые производители, как правило, выпускают новые приставки в конце года (обычно в ноябре), ближе к рождественским праздникам в западном мире. Также, обычно к старту продаж нового поколения разработчики не успевают подготовить много игр и делают это постепенно. \n",
    "\n",
    "В базе присутствует свыше 16 тысяч строк с играми, однако важно отметить, что игры не все игры уникальны. Одна и та же игра может выйти сразу на несколько платформ и иметь разные версии, отличающуюся оптимизацию и другие различия. Поэтому в базе отражены продажи и оценки на каждую из платформ для одной игры, а оценки они могут отличаться из-за причин, упомянутых выше. Например, одна самых продаваемых в мире на данный момент игр Grand Theft Auto V представлена в базе в 5 строках для разных платформ и брендов.\n",
    "\n",
    "Конечно же, все это неактуально для рынка PC, у которого нет цикличности и разделения на поколения."
   ]
  },
  {
   "cell_type": "markdown",
   "metadata": {},
   "source": [
    "###### Актуальный период"
   ]
  },
  {
   "cell_type": "markdown",
   "metadata": {},
   "source": [
    "Выбор актуального периода для прогноза на следующий год, логично предпринимать на основе актуальных на данный момент платформ на рынке и их расположения в цикле бренда. \n",
    "Так, с очень высокой вероятностью в следующем году и далее будут популярны игры **актуальных на данный момент поколений**.\n",
    "Поэтому актуальным периодом можно назвать период со старта последнего на данный момент поколения платформ ведущих брендов, то есть, с 2013 года по сегодняшний день, конец 2016 года."
   ]
  },
  {
   "cell_type": "code",
   "execution_count": 26,
   "metadata": {},
   "outputs": [
    {
     "data": {
      "text/html": [
       "<div>\n",
       "<style scoped>\n",
       "    .dataframe tbody tr th:only-of-type {\n",
       "        vertical-align: middle;\n",
       "    }\n",
       "\n",
       "    .dataframe tbody tr th {\n",
       "        vertical-align: top;\n",
       "    }\n",
       "\n",
       "    .dataframe thead th {\n",
       "        text-align: right;\n",
       "    }\n",
       "</style>\n",
       "<table border=\"1\" class=\"dataframe\">\n",
       "  <thead>\n",
       "    <tr style=\"text-align: right;\">\n",
       "      <th></th>\n",
       "      <th>name</th>\n",
       "      <th>platform</th>\n",
       "      <th>year_of_release</th>\n",
       "      <th>genre</th>\n",
       "      <th>na_sales</th>\n",
       "      <th>eu_sales</th>\n",
       "      <th>jp_sales</th>\n",
       "      <th>other_sales</th>\n",
       "      <th>critic_score</th>\n",
       "      <th>user_score</th>\n",
       "      <th>rating</th>\n",
       "      <th>total_sales</th>\n",
       "    </tr>\n",
       "  </thead>\n",
       "  <tbody>\n",
       "    <tr>\n",
       "      <td>16</td>\n",
       "      <td>Grand Theft Auto V</td>\n",
       "      <td>PS3</td>\n",
       "      <td>2013</td>\n",
       "      <td>Action</td>\n",
       "      <td>7.02</td>\n",
       "      <td>9.09</td>\n",
       "      <td>0.98</td>\n",
       "      <td>3.96</td>\n",
       "      <td>97.0</td>\n",
       "      <td>8.2</td>\n",
       "      <td>M</td>\n",
       "      <td>21.05</td>\n",
       "    </tr>\n",
       "    <tr>\n",
       "      <td>23</td>\n",
       "      <td>Grand Theft Auto V</td>\n",
       "      <td>X360</td>\n",
       "      <td>2013</td>\n",
       "      <td>Action</td>\n",
       "      <td>9.66</td>\n",
       "      <td>5.14</td>\n",
       "      <td>0.06</td>\n",
       "      <td>1.41</td>\n",
       "      <td>97.0</td>\n",
       "      <td>8.1</td>\n",
       "      <td>M</td>\n",
       "      <td>16.27</td>\n",
       "    </tr>\n",
       "    <tr>\n",
       "      <td>31</td>\n",
       "      <td>Call of Duty: Black Ops 3</td>\n",
       "      <td>PS4</td>\n",
       "      <td>2015</td>\n",
       "      <td>Shooter</td>\n",
       "      <td>6.03</td>\n",
       "      <td>5.86</td>\n",
       "      <td>0.36</td>\n",
       "      <td>2.38</td>\n",
       "      <td>NaN</td>\n",
       "      <td>NaN</td>\n",
       "      <td>NaN</td>\n",
       "      <td>14.63</td>\n",
       "    </tr>\n",
       "    <tr>\n",
       "      <td>33</td>\n",
       "      <td>Pokemon X/Pokemon Y</td>\n",
       "      <td>3DS</td>\n",
       "      <td>2013</td>\n",
       "      <td>Role-Playing</td>\n",
       "      <td>5.28</td>\n",
       "      <td>4.19</td>\n",
       "      <td>4.35</td>\n",
       "      <td>0.78</td>\n",
       "      <td>NaN</td>\n",
       "      <td>NaN</td>\n",
       "      <td>NaN</td>\n",
       "      <td>14.60</td>\n",
       "    </tr>\n",
       "    <tr>\n",
       "      <td>42</td>\n",
       "      <td>Grand Theft Auto V</td>\n",
       "      <td>PS4</td>\n",
       "      <td>2014</td>\n",
       "      <td>Action</td>\n",
       "      <td>3.96</td>\n",
       "      <td>6.31</td>\n",
       "      <td>0.38</td>\n",
       "      <td>1.97</td>\n",
       "      <td>97.0</td>\n",
       "      <td>8.3</td>\n",
       "      <td>M</td>\n",
       "      <td>12.62</td>\n",
       "    </tr>\n",
       "  </tbody>\n",
       "</table>\n",
       "</div>"
      ],
      "text/plain": [
       "                         name platform  year_of_release         genre  \\\n",
       "16         Grand Theft Auto V      PS3             2013        Action   \n",
       "23         Grand Theft Auto V     X360             2013        Action   \n",
       "31  Call of Duty: Black Ops 3      PS4             2015       Shooter   \n",
       "33        Pokemon X/Pokemon Y      3DS             2013  Role-Playing   \n",
       "42         Grand Theft Auto V      PS4             2014        Action   \n",
       "\n",
       "    na_sales  eu_sales  jp_sales  other_sales  critic_score  user_score  \\\n",
       "16      7.02      9.09      0.98         3.96          97.0         8.2   \n",
       "23      9.66      5.14      0.06         1.41          97.0         8.1   \n",
       "31      6.03      5.86      0.36         2.38           NaN         NaN   \n",
       "33      5.28      4.19      4.35         0.78           NaN         NaN   \n",
       "42      3.96      6.31      0.38         1.97          97.0         8.3   \n",
       "\n",
       "   rating  total_sales  \n",
       "16      M        21.05  \n",
       "23      M        16.27  \n",
       "31    NaN        14.63  \n",
       "33    NaN        14.60  \n",
       "42      M        12.62  "
      ]
     },
     "execution_count": 26,
     "metadata": {},
     "output_type": "execute_result"
    }
   ],
   "source": [
    "# создаем таблицу с данными за актуальный период\n",
    "data_relevant = data.query('year_of_release >= 2013')\n",
    "data_relevant.head()"
   ]
  },
  {
   "cell_type": "markdown",
   "metadata": {},
   "source": [
    "### Продажи и потенциально прибыльные платформы"
   ]
  },
  {
   "cell_type": "code",
   "execution_count": 27,
   "metadata": {},
   "outputs": [
    {
     "data": {
      "text/html": [
       "<div>\n",
       "<style scoped>\n",
       "    .dataframe tbody tr th:only-of-type {\n",
       "        vertical-align: middle;\n",
       "    }\n",
       "\n",
       "    .dataframe tbody tr th {\n",
       "        vertical-align: top;\n",
       "    }\n",
       "\n",
       "    .dataframe thead th {\n",
       "        text-align: right;\n",
       "    }\n",
       "</style>\n",
       "<table border=\"1\" class=\"dataframe\">\n",
       "  <thead>\n",
       "    <tr style=\"text-align: right;\">\n",
       "      <th></th>\n",
       "      <th>platform</th>\n",
       "      <th>total_sales</th>\n",
       "    </tr>\n",
       "  </thead>\n",
       "  <tbody>\n",
       "    <tr>\n",
       "      <td>0</td>\n",
       "      <td>PS4</td>\n",
       "      <td>314.14</td>\n",
       "    </tr>\n",
       "    <tr>\n",
       "      <td>1</td>\n",
       "      <td>PS3</td>\n",
       "      <td>181.43</td>\n",
       "    </tr>\n",
       "    <tr>\n",
       "      <td>2</td>\n",
       "      <td>XOne</td>\n",
       "      <td>159.32</td>\n",
       "    </tr>\n",
       "    <tr>\n",
       "      <td>3</td>\n",
       "      <td>3DS</td>\n",
       "      <td>143.25</td>\n",
       "    </tr>\n",
       "    <tr>\n",
       "      <td>4</td>\n",
       "      <td>X360</td>\n",
       "      <td>136.80</td>\n",
       "    </tr>\n",
       "    <tr>\n",
       "      <td>5</td>\n",
       "      <td>WiiU</td>\n",
       "      <td>64.63</td>\n",
       "    </tr>\n",
       "    <tr>\n",
       "      <td>6</td>\n",
       "      <td>PC</td>\n",
       "      <td>39.43</td>\n",
       "    </tr>\n",
       "    <tr>\n",
       "      <td>7</td>\n",
       "      <td>PSV</td>\n",
       "      <td>32.99</td>\n",
       "    </tr>\n",
       "    <tr>\n",
       "      <td>8</td>\n",
       "      <td>Wii</td>\n",
       "      <td>13.66</td>\n",
       "    </tr>\n",
       "    <tr>\n",
       "      <td>9</td>\n",
       "      <td>PSP</td>\n",
       "      <td>3.50</td>\n",
       "    </tr>\n",
       "    <tr>\n",
       "      <td>10</td>\n",
       "      <td>DS</td>\n",
       "      <td>1.54</td>\n",
       "    </tr>\n",
       "  </tbody>\n",
       "</table>\n",
       "</div>"
      ],
      "text/plain": [
       "   platform  total_sales\n",
       "0       PS4       314.14\n",
       "1       PS3       181.43\n",
       "2      XOne       159.32\n",
       "3       3DS       143.25\n",
       "4      X360       136.80\n",
       "5      WiiU        64.63\n",
       "6        PC        39.43\n",
       "7       PSV        32.99\n",
       "8       Wii        13.66\n",
       "9       PSP         3.50\n",
       "10       DS         1.54"
      ]
     },
     "execution_count": 27,
     "metadata": {},
     "output_type": "execute_result"
    }
   ],
   "source": [
    "# все платформы и их суммарные продажи в актуальном периоде\n",
    "data_relevant.groupby('platform')['total_sales'].sum().sort_values(ascending=False).reset_index()"
   ]
  },
  {
   "cell_type": "code",
   "execution_count": 28,
   "metadata": {},
   "outputs": [
    {
     "data": {
      "image/png": "[encoded data removed]",
      "text/plain": [
       "<Figure size 576x576 with 1 Axes>"
      ]
     },
     "metadata": {},
     "output_type": "display_data"
    }
   ],
   "source": [
    "# построим график продаж по платформам\n",
    "data_relevant.groupby('platform')['total_sales'].sum().sort_values(\n",
    "    ascending=False).reset_index().head(5).set_index('platform').plot(\n",
    "    kind='pie', y='total_sales', figsize=(8, 8), legend=False,\n",
    "    title='Суммарные продажи топ-5 платформ за актуальный период', \n",
    "    autopct='%.1f%%'\n",
    ");\n",
    "plt.ylabel('Суммарные продажи');"
   ]
  },
  {
   "cell_type": "markdown",
   "metadata": {},
   "source": [
    "Всего в актуальный период представлены игры для 11 платформ, однако наибольшие продажи, естественно, у текущего и предыдущего поколения платформ. Определенную долю рынка продаж также занимают портативные консоли PS, Wii и персональные компьютеры.\n",
    "\n",
    "С высокой вероятностью в следующем году будут продаваться игры для PS4, так как поколение появилось на рынке в конце 2013 года и только выходит на пик судя по продажам последних лет и предыдущим поколениям бренда, а новые версии Slim и Pro, поступившие в продажу в прошлом месяце должны только подстегнуть продажи; Xbox One — несмотря на то, что продажи на них существенно ниже, это новое поколение и игры на него будут появляться. \n",
    "\n",
    "Учитывая продажи игр для предыдущей портативной консоли Nintendo — 3DS, на определенную долю на рынке может рассчитывать анонсированная недавно новая консоль Switch, которая поступит в продажу в начале 2017 года."
   ]
  },
  {
   "cell_type": "code",
   "execution_count": 29,
   "metadata": {},
   "outputs": [
    {
     "data": {
      "text/html": [
       "<div>\n",
       "<style scoped>\n",
       "    .dataframe tbody tr th:only-of-type {\n",
       "        vertical-align: middle;\n",
       "    }\n",
       "\n",
       "    .dataframe tbody tr th {\n",
       "        vertical-align: top;\n",
       "    }\n",
       "\n",
       "    .dataframe thead tr th {\n",
       "        text-align: left;\n",
       "    }\n",
       "\n",
       "    .dataframe thead tr:last-of-type th {\n",
       "        text-align: right;\n",
       "    }\n",
       "</style>\n",
       "<table border=\"1\" class=\"dataframe\">\n",
       "  <thead>\n",
       "    <tr>\n",
       "      <th></th>\n",
       "      <th colspan=\"11\" halign=\"left\">total_sales</th>\n",
       "    </tr>\n",
       "    <tr>\n",
       "      <th>platform</th>\n",
       "      <th>3DS</th>\n",
       "      <th>DS</th>\n",
       "      <th>PC</th>\n",
       "      <th>PS3</th>\n",
       "      <th>PS4</th>\n",
       "      <th>PSP</th>\n",
       "      <th>PSV</th>\n",
       "      <th>Wii</th>\n",
       "      <th>WiiU</th>\n",
       "      <th>X360</th>\n",
       "      <th>XOne</th>\n",
       "    </tr>\n",
       "    <tr>\n",
       "      <th>year_of_release</th>\n",
       "      <th></th>\n",
       "      <th></th>\n",
       "      <th></th>\n",
       "      <th></th>\n",
       "      <th></th>\n",
       "      <th></th>\n",
       "      <th></th>\n",
       "      <th></th>\n",
       "      <th></th>\n",
       "      <th></th>\n",
       "      <th></th>\n",
       "    </tr>\n",
       "  </thead>\n",
       "  <tbody>\n",
       "    <tr>\n",
       "      <td>2013</td>\n",
       "      <td>56.57</td>\n",
       "      <td>1.54</td>\n",
       "      <td>12.38</td>\n",
       "      <td>113.25</td>\n",
       "      <td>25.99</td>\n",
       "      <td>3.14</td>\n",
       "      <td>10.59</td>\n",
       "      <td>8.59</td>\n",
       "      <td>21.65</td>\n",
       "      <td>88.58</td>\n",
       "      <td>18.96</td>\n",
       "    </tr>\n",
       "    <tr>\n",
       "      <td>2014</td>\n",
       "      <td>43.76</td>\n",
       "      <td>NaN</td>\n",
       "      <td>13.28</td>\n",
       "      <td>47.76</td>\n",
       "      <td>100.00</td>\n",
       "      <td>0.24</td>\n",
       "      <td>11.90</td>\n",
       "      <td>3.75</td>\n",
       "      <td>22.03</td>\n",
       "      <td>34.74</td>\n",
       "      <td>54.07</td>\n",
       "    </tr>\n",
       "    <tr>\n",
       "      <td>2015</td>\n",
       "      <td>27.78</td>\n",
       "      <td>NaN</td>\n",
       "      <td>8.52</td>\n",
       "      <td>16.82</td>\n",
       "      <td>118.90</td>\n",
       "      <td>0.12</td>\n",
       "      <td>6.25</td>\n",
       "      <td>1.14</td>\n",
       "      <td>16.35</td>\n",
       "      <td>11.96</td>\n",
       "      <td>60.14</td>\n",
       "    </tr>\n",
       "    <tr>\n",
       "      <td>2016</td>\n",
       "      <td>15.14</td>\n",
       "      <td>NaN</td>\n",
       "      <td>5.25</td>\n",
       "      <td>3.60</td>\n",
       "      <td>69.25</td>\n",
       "      <td>NaN</td>\n",
       "      <td>4.25</td>\n",
       "      <td>0.18</td>\n",
       "      <td>4.60</td>\n",
       "      <td>1.52</td>\n",
       "      <td>26.15</td>\n",
       "    </tr>\n",
       "  </tbody>\n",
       "</table>\n",
       "</div>"
      ],
      "text/plain": [
       "                total_sales                                                  \\\n",
       "platform                3DS    DS     PC     PS3     PS4   PSP    PSV   Wii   \n",
       "year_of_release                                                               \n",
       "2013                  56.57  1.54  12.38  113.25   25.99  3.14  10.59  8.59   \n",
       "2014                  43.76   NaN  13.28   47.76  100.00  0.24  11.90  3.75   \n",
       "2015                  27.78   NaN   8.52   16.82  118.90  0.12   6.25  1.14   \n",
       "2016                  15.14   NaN   5.25    3.60   69.25   NaN   4.25  0.18   \n",
       "\n",
       "                                      \n",
       "platform          WiiU   X360   XOne  \n",
       "year_of_release                       \n",
       "2013             21.65  88.58  18.96  \n",
       "2014             22.03  34.74  54.07  \n",
       "2015             16.35  11.96  60.14  \n",
       "2016              4.60   1.52  26.15  "
      ]
     },
     "execution_count": 29,
     "metadata": {},
     "output_type": "execute_result"
    }
   ],
   "source": [
    "# посмотрим на данные по продажам по каждой платформе за каждый год актуального периода\n",
    "data_relevant.pivot_table(index='year_of_release', columns='platform', aggfunc={'total_sales':'sum'})"
   ]
  },
  {
   "cell_type": "code",
   "execution_count": 30,
   "metadata": {},
   "outputs": [
    {
     "data": {
      "image/png": "[encoded data removed]",
      "text/plain": [
       "<Figure size 1080x576 with 1 Axes>"
      ]
     },
     "metadata": {
      "needs_background": "light"
     },
     "output_type": "display_data"
    }
   ],
   "source": [
    "boxplot_platforms = data_relevant.boxplot('total_sales', by='platform', figsize=(15,8));\n",
    "boxplot_platforms.set_ylim(0, 5);"
   ]
  },
  {
   "cell_type": "code",
   "execution_count": 31,
   "metadata": {},
   "outputs": [],
   "source": [
    "# функция для подсчета межквартильного интервала (не моя, нашел в интернете, она мне понравилась больше других)\n",
    "\n",
    "def outliers(data, col):\n",
    "    Q3 = np.quantile(data[col], 0.75)\n",
    "    Q1 = np.quantile(data[col], 0.25)\n",
    "    IQR = Q3 - Q1\n",
    "      \n",
    "    print(\"IQR для столбца %s: %s\" % (col, IQR))\n",
    "    global outlier_free_list\n",
    "    global filtered_data\n",
    "      \n",
    "    lower_range = Q1 - 1.5 * IQR\n",
    "    upper_range = Q3 + 1.5 * IQR\n",
    "    outlier_free_list = [x for x in data[col] if (\n",
    "        (x > lower_range) & (x < upper_range))]\n",
    "    filtered_data = data.loc[data[col].isin(outlier_free_list)]"
   ]
  },
  {
   "cell_type": "code",
   "execution_count": 32,
   "metadata": {},
   "outputs": [
    {
     "name": "stdout",
     "output_type": "stream",
     "text": [
      "IQR для столбца total_sales: 0.41\n",
      "Выбросов обнаружено: 1890\n"
     ]
    }
   ],
   "source": [
    "# межквартильное расстояние и количество выбросов в исходной таблице\n",
    "outliers(data, 'total_sales')\n",
    "print(\"Выбросов обнаружено:\", data['total_sales'].count() - filtered_data['total_sales'].count())"
   ]
  },
  {
   "cell_type": "code",
   "execution_count": 33,
   "metadata": {},
   "outputs": [
    {
     "name": "stdout",
     "output_type": "stream",
     "text": [
      "IQR для столбца total_sales: 0.37\n",
      "Выбросов обнаружено: 267\n"
     ]
    }
   ],
   "source": [
    "# межквартильное расстояние и количество выбросов в таблице за актуальный период\n",
    "outliers(data_relevant, 'total_sales')\n",
    "print(\"Выбросов обнаружено:\", data_relevant['total_sales'].count() - filtered_data['total_sales'].count())"
   ]
  },
  {
   "cell_type": "code",
   "execution_count": 34,
   "metadata": {
    "scrolled": true
   },
   "outputs": [
    {
     "data": {
      "text/html": [
       "<div>\n",
       "<style scoped>\n",
       "    .dataframe tbody tr th:only-of-type {\n",
       "        vertical-align: middle;\n",
       "    }\n",
       "\n",
       "    .dataframe tbody tr th {\n",
       "        vertical-align: top;\n",
       "    }\n",
       "\n",
       "    .dataframe thead th {\n",
       "        text-align: right;\n",
       "    }\n",
       "</style>\n",
       "<table border=\"1\" class=\"dataframe\">\n",
       "  <thead>\n",
       "    <tr style=\"text-align: right;\">\n",
       "      <th></th>\n",
       "      <th>name</th>\n",
       "      <th>platform</th>\n",
       "      <th>year_of_release</th>\n",
       "      <th>genre</th>\n",
       "      <th>na_sales</th>\n",
       "      <th>eu_sales</th>\n",
       "      <th>jp_sales</th>\n",
       "      <th>other_sales</th>\n",
       "      <th>critic_score</th>\n",
       "      <th>user_score</th>\n",
       "      <th>rating</th>\n",
       "      <th>total_sales</th>\n",
       "    </tr>\n",
       "  </thead>\n",
       "  <tbody>\n",
       "    <tr>\n",
       "      <td>16</td>\n",
       "      <td>Grand Theft Auto V</td>\n",
       "      <td>PS3</td>\n",
       "      <td>2013</td>\n",
       "      <td>Action</td>\n",
       "      <td>7.02</td>\n",
       "      <td>9.09</td>\n",
       "      <td>0.98</td>\n",
       "      <td>3.96</td>\n",
       "      <td>97.0</td>\n",
       "      <td>8.2</td>\n",
       "      <td>M</td>\n",
       "      <td>21.05</td>\n",
       "    </tr>\n",
       "    <tr>\n",
       "      <td>23</td>\n",
       "      <td>Grand Theft Auto V</td>\n",
       "      <td>X360</td>\n",
       "      <td>2013</td>\n",
       "      <td>Action</td>\n",
       "      <td>9.66</td>\n",
       "      <td>5.14</td>\n",
       "      <td>0.06</td>\n",
       "      <td>1.41</td>\n",
       "      <td>97.0</td>\n",
       "      <td>8.1</td>\n",
       "      <td>M</td>\n",
       "      <td>16.27</td>\n",
       "    </tr>\n",
       "    <tr>\n",
       "      <td>31</td>\n",
       "      <td>Call of Duty: Black Ops 3</td>\n",
       "      <td>PS4</td>\n",
       "      <td>2015</td>\n",
       "      <td>Shooter</td>\n",
       "      <td>6.03</td>\n",
       "      <td>5.86</td>\n",
       "      <td>0.36</td>\n",
       "      <td>2.38</td>\n",
       "      <td>NaN</td>\n",
       "      <td>NaN</td>\n",
       "      <td>NaN</td>\n",
       "      <td>14.63</td>\n",
       "    </tr>\n",
       "    <tr>\n",
       "      <td>33</td>\n",
       "      <td>Pokemon X/Pokemon Y</td>\n",
       "      <td>3DS</td>\n",
       "      <td>2013</td>\n",
       "      <td>Role-Playing</td>\n",
       "      <td>5.28</td>\n",
       "      <td>4.19</td>\n",
       "      <td>4.35</td>\n",
       "      <td>0.78</td>\n",
       "      <td>NaN</td>\n",
       "      <td>NaN</td>\n",
       "      <td>NaN</td>\n",
       "      <td>14.60</td>\n",
       "    </tr>\n",
       "    <tr>\n",
       "      <td>42</td>\n",
       "      <td>Grand Theft Auto V</td>\n",
       "      <td>PS4</td>\n",
       "      <td>2014</td>\n",
       "      <td>Action</td>\n",
       "      <td>3.96</td>\n",
       "      <td>6.31</td>\n",
       "      <td>0.38</td>\n",
       "      <td>1.97</td>\n",
       "      <td>97.0</td>\n",
       "      <td>8.3</td>\n",
       "      <td>M</td>\n",
       "      <td>12.62</td>\n",
       "    </tr>\n",
       "    <tr>\n",
       "      <td>47</td>\n",
       "      <td>Pokemon Omega Ruby/Pokemon Alpha Sapphire</td>\n",
       "      <td>3DS</td>\n",
       "      <td>2014</td>\n",
       "      <td>Role-Playing</td>\n",
       "      <td>4.35</td>\n",
       "      <td>3.49</td>\n",
       "      <td>3.10</td>\n",
       "      <td>0.74</td>\n",
       "      <td>NaN</td>\n",
       "      <td>NaN</td>\n",
       "      <td>NaN</td>\n",
       "      <td>11.68</td>\n",
       "    </tr>\n",
       "    <tr>\n",
       "      <td>60</td>\n",
       "      <td>Call of Duty: Ghosts</td>\n",
       "      <td>X360</td>\n",
       "      <td>2013</td>\n",
       "      <td>Shooter</td>\n",
       "      <td>6.73</td>\n",
       "      <td>2.56</td>\n",
       "      <td>0.04</td>\n",
       "      <td>0.91</td>\n",
       "      <td>73.0</td>\n",
       "      <td>2.6</td>\n",
       "      <td>M</td>\n",
       "      <td>10.24</td>\n",
       "    </tr>\n",
       "  </tbody>\n",
       "</table>\n",
       "</div>"
      ],
      "text/plain": [
       "                                         name platform  year_of_release  \\\n",
       "16                         Grand Theft Auto V      PS3             2013   \n",
       "23                         Grand Theft Auto V     X360             2013   \n",
       "31                  Call of Duty: Black Ops 3      PS4             2015   \n",
       "33                        Pokemon X/Pokemon Y      3DS             2013   \n",
       "42                         Grand Theft Auto V      PS4             2014   \n",
       "47  Pokemon Omega Ruby/Pokemon Alpha Sapphire      3DS             2014   \n",
       "60                       Call of Duty: Ghosts     X360             2013   \n",
       "\n",
       "           genre  na_sales  eu_sales  jp_sales  other_sales  critic_score  \\\n",
       "16        Action      7.02      9.09      0.98         3.96          97.0   \n",
       "23        Action      9.66      5.14      0.06         1.41          97.0   \n",
       "31       Shooter      6.03      5.86      0.36         2.38           NaN   \n",
       "33  Role-Playing      5.28      4.19      4.35         0.78           NaN   \n",
       "42        Action      3.96      6.31      0.38         1.97          97.0   \n",
       "47  Role-Playing      4.35      3.49      3.10         0.74           NaN   \n",
       "60       Shooter      6.73      2.56      0.04         0.91          73.0   \n",
       "\n",
       "    user_score rating  total_sales  \n",
       "16         8.2      M        21.05  \n",
       "23         8.1      M        16.27  \n",
       "31         NaN    NaN        14.63  \n",
       "33         NaN    NaN        14.60  \n",
       "42         8.3      M        12.62  \n",
       "47         NaN    NaN        11.68  \n",
       "60         2.6      M        10.24  "
      ]
     },
     "execution_count": 34,
     "metadata": {},
     "output_type": "execute_result"
    }
   ],
   "source": [
    "data_relevant.query('total_sales > 10')"
   ]
  },
  {
   "cell_type": "code",
   "execution_count": 35,
   "metadata": {},
   "outputs": [
    {
     "name": "stdout",
     "output_type": "stream",
     "text": [
      "GTA V продана тиражом 56.58 млн копий\n"
     ]
    }
   ],
   "source": [
    "print('GTA V продана тиражом', data_relevant.query('name == \"Grand Theft Auto V\"')['total_sales'].sum(), 'млн копий')"
   ]
  },
  {
   "cell_type": "markdown",
   "metadata": {},
   "source": [
    "Диаграмма размаха для всех платформ актуального периода показывает, что среднее и медиана сосредоточены в районе меньше 1 млн проданных копий. Именно с этим и связано большое количество выбросов на каждой платформе. Выходит очень много игр и большинство из них никогда не достигнет отметки в миллион копий, межквартильное расстояние маленькое, соответственно, для выброса на большинстве платформ достаточно значения около миллиона копий. Хоть и выбросов много везде, но наиболее аномальные выбросы имеются только на самых популярных платформах. \n",
    "\n",
    "Около 10% выпущенных игр могут выйти на уровень продаж выше миллиона и лишь единицам удается превзойти порог в 10 млн (таких игр всего 7 и три из них это одна и та же игра — Grand Theft Auto V). Вообще, одна только GTA V имеет суммарные продажи больше чем половина консолей за актуальный период. Именно она расположена на самых верхних точках на диаграмме размаха выше. \n",
    "\n",
    "Удалять выбросы в данном случае не очень целесообразно, они связаны с особенностями индустрии и не мешают исследованию, а наоборот, позволяют лучше понимать данные."
   ]
  },
  {
   "cell_type": "code",
   "execution_count": 36,
   "metadata": {},
   "outputs": [
    {
     "data": {
      "text/html": [
       "<div>\n",
       "<style scoped>\n",
       "    .dataframe tbody tr th:only-of-type {\n",
       "        vertical-align: middle;\n",
       "    }\n",
       "\n",
       "    .dataframe tbody tr th {\n",
       "        vertical-align: top;\n",
       "    }\n",
       "\n",
       "    .dataframe thead th {\n",
       "        text-align: right;\n",
       "    }\n",
       "</style>\n",
       "<table border=\"1\" class=\"dataframe\">\n",
       "  <thead>\n",
       "    <tr style=\"text-align: right;\">\n",
       "      <th></th>\n",
       "      <th>critic_score</th>\n",
       "      <th>total_sales</th>\n",
       "      <th>user_score</th>\n",
       "    </tr>\n",
       "  </thead>\n",
       "  <tbody>\n",
       "    <tr>\n",
       "      <td>critic_score</td>\n",
       "      <td>1.000000</td>\n",
       "      <td>0.406568</td>\n",
       "      <td>0.557654</td>\n",
       "    </tr>\n",
       "    <tr>\n",
       "      <td>total_sales</td>\n",
       "      <td>0.406568</td>\n",
       "      <td>1.000000</td>\n",
       "      <td>-0.031957</td>\n",
       "    </tr>\n",
       "    <tr>\n",
       "      <td>user_score</td>\n",
       "      <td>0.557654</td>\n",
       "      <td>-0.031957</td>\n",
       "      <td>1.000000</td>\n",
       "    </tr>\n",
       "  </tbody>\n",
       "</table>\n",
       "</div>"
      ],
      "text/plain": [
       "              critic_score  total_sales  user_score\n",
       "critic_score      1.000000     0.406568    0.557654\n",
       "total_sales       0.406568     1.000000   -0.031957\n",
       "user_score        0.557654    -0.031957    1.000000"
      ]
     },
     "execution_count": 36,
     "metadata": {},
     "output_type": "execute_result"
    }
   ],
   "source": [
    "# для диаграммы рассеяния и корреляции создаем сводную таблицу с оценками и продажами по PS4\n",
    "ps4 = data_relevant.query('platform ==\"PS4\"').pivot_table(\n",
    "    index='name', \n",
    "    values=['user_score', 'critic_score', 'total_sales'])\n",
    "\n",
    "ps4.corr()"
   ]
  },
  {
   "cell_type": "code",
   "execution_count": 37,
   "metadata": {
    "scrolled": false
   },
   "outputs": [
    {
     "data": {
      "image/png": "[encoded data removed]",
      "text/plain": [
       "<Figure size 864x864 with 9 Axes>"
      ]
     },
     "metadata": {
      "needs_background": "light"
     },
     "output_type": "display_data"
    }
   ],
   "source": [
    "pd.plotting.scatter_matrix(ps4, figsize=(12, 12));"
   ]
  },
  {
   "cell_type": "code",
   "execution_count": 38,
   "metadata": {},
   "outputs": [
    {
     "data": {
      "text/html": [
       "<div>\n",
       "<style scoped>\n",
       "    .dataframe tbody tr th:only-of-type {\n",
       "        vertical-align: middle;\n",
       "    }\n",
       "\n",
       "    .dataframe tbody tr th {\n",
       "        vertical-align: top;\n",
       "    }\n",
       "\n",
       "    .dataframe thead th {\n",
       "        text-align: right;\n",
       "    }\n",
       "</style>\n",
       "<table border=\"1\" class=\"dataframe\">\n",
       "  <thead>\n",
       "    <tr style=\"text-align: right;\">\n",
       "      <th></th>\n",
       "      <th>critic_score</th>\n",
       "      <th>total_sales</th>\n",
       "      <th>user_score</th>\n",
       "    </tr>\n",
       "  </thead>\n",
       "  <tbody>\n",
       "    <tr>\n",
       "      <td>critic_score</td>\n",
       "      <td>1.000000</td>\n",
       "      <td>0.416998</td>\n",
       "      <td>0.472462</td>\n",
       "    </tr>\n",
       "    <tr>\n",
       "      <td>total_sales</td>\n",
       "      <td>0.416998</td>\n",
       "      <td>1.000000</td>\n",
       "      <td>-0.068925</td>\n",
       "    </tr>\n",
       "    <tr>\n",
       "      <td>user_score</td>\n",
       "      <td>0.472462</td>\n",
       "      <td>-0.068925</td>\n",
       "      <td>1.000000</td>\n",
       "    </tr>\n",
       "  </tbody>\n",
       "</table>\n",
       "</div>"
      ],
      "text/plain": [
       "              critic_score  total_sales  user_score\n",
       "critic_score      1.000000     0.416998    0.472462\n",
       "total_sales       0.416998     1.000000   -0.068925\n",
       "user_score        0.472462    -0.068925    1.000000"
      ]
     },
     "execution_count": 38,
     "metadata": {},
     "output_type": "execute_result"
    }
   ],
   "source": [
    "# для диаграммы рассеяния и корреляции создаем сводную таблицу с оценками и продажами по Xbox One\n",
    "xone = data_relevant.query('platform ==\"XOne\"').pivot_table(\n",
    "    index='name', \n",
    "    values=['user_score', 'critic_score', 'total_sales'])\n",
    "\n",
    "xone.corr()"
   ]
  },
  {
   "cell_type": "code",
   "execution_count": 39,
   "metadata": {},
   "outputs": [
    {
     "data": {
      "image/png": "[encoded data removed]",
      "text/plain": [
       "<Figure size 864x864 with 9 Axes>"
      ]
     },
     "metadata": {
      "needs_background": "light"
     },
     "output_type": "display_data"
    }
   ],
   "source": [
    "pd.plotting.scatter_matrix(xone, figsize=(12, 12));"
   ]
  },
  {
   "cell_type": "code",
   "execution_count": 40,
   "metadata": {},
   "outputs": [
    {
     "data": {
      "text/html": [
       "<div>\n",
       "<style scoped>\n",
       "    .dataframe tbody tr th:only-of-type {\n",
       "        vertical-align: middle;\n",
       "    }\n",
       "\n",
       "    .dataframe tbody tr th {\n",
       "        vertical-align: top;\n",
       "    }\n",
       "\n",
       "    .dataframe thead th {\n",
       "        text-align: right;\n",
       "    }\n",
       "</style>\n",
       "<table border=\"1\" class=\"dataframe\">\n",
       "  <thead>\n",
       "    <tr style=\"text-align: right;\">\n",
       "      <th></th>\n",
       "      <th>critic_score</th>\n",
       "      <th>total_sales</th>\n",
       "      <th>user_score</th>\n",
       "    </tr>\n",
       "  </thead>\n",
       "  <tbody>\n",
       "    <tr>\n",
       "      <td>critic_score</td>\n",
       "      <td>1.000000</td>\n",
       "      <td>0.334285</td>\n",
       "      <td>0.599920</td>\n",
       "    </tr>\n",
       "    <tr>\n",
       "      <td>total_sales</td>\n",
       "      <td>0.334285</td>\n",
       "      <td>1.000000</td>\n",
       "      <td>0.002394</td>\n",
       "    </tr>\n",
       "    <tr>\n",
       "      <td>user_score</td>\n",
       "      <td>0.599920</td>\n",
       "      <td>0.002394</td>\n",
       "      <td>1.000000</td>\n",
       "    </tr>\n",
       "  </tbody>\n",
       "</table>\n",
       "</div>"
      ],
      "text/plain": [
       "              critic_score  total_sales  user_score\n",
       "critic_score      1.000000     0.334285    0.599920\n",
       "total_sales       0.334285     1.000000    0.002394\n",
       "user_score        0.599920     0.002394    1.000000"
      ]
     },
     "metadata": {},
     "output_type": "display_data"
    },
    {
     "data": {
      "text/html": [
       "<div>\n",
       "<style scoped>\n",
       "    .dataframe tbody tr th:only-of-type {\n",
       "        vertical-align: middle;\n",
       "    }\n",
       "\n",
       "    .dataframe tbody tr th {\n",
       "        vertical-align: top;\n",
       "    }\n",
       "\n",
       "    .dataframe thead th {\n",
       "        text-align: right;\n",
       "    }\n",
       "</style>\n",
       "<table border=\"1\" class=\"dataframe\">\n",
       "  <thead>\n",
       "    <tr style=\"text-align: right;\">\n",
       "      <th></th>\n",
       "      <th>critic_score</th>\n",
       "      <th>total_sales</th>\n",
       "      <th>user_score</th>\n",
       "    </tr>\n",
       "  </thead>\n",
       "  <tbody>\n",
       "    <tr>\n",
       "      <td>critic_score</td>\n",
       "      <td>1.000000</td>\n",
       "      <td>0.357057</td>\n",
       "      <td>0.769536</td>\n",
       "    </tr>\n",
       "    <tr>\n",
       "      <td>total_sales</td>\n",
       "      <td>0.357057</td>\n",
       "      <td>1.000000</td>\n",
       "      <td>0.241504</td>\n",
       "    </tr>\n",
       "    <tr>\n",
       "      <td>user_score</td>\n",
       "      <td>0.769536</td>\n",
       "      <td>0.241504</td>\n",
       "      <td>1.000000</td>\n",
       "    </tr>\n",
       "  </tbody>\n",
       "</table>\n",
       "</div>"
      ],
      "text/plain": [
       "              critic_score  total_sales  user_score\n",
       "critic_score      1.000000     0.357057    0.769536\n",
       "total_sales       0.357057     1.000000    0.241504\n",
       "user_score        0.769536     0.241504    1.000000"
      ]
     },
     "metadata": {},
     "output_type": "display_data"
    },
    {
     "data": {
      "text/html": [
       "<div>\n",
       "<style scoped>\n",
       "    .dataframe tbody tr th:only-of-type {\n",
       "        vertical-align: middle;\n",
       "    }\n",
       "\n",
       "    .dataframe tbody tr th {\n",
       "        vertical-align: top;\n",
       "    }\n",
       "\n",
       "    .dataframe thead th {\n",
       "        text-align: right;\n",
       "    }\n",
       "</style>\n",
       "<table border=\"1\" class=\"dataframe\">\n",
       "  <thead>\n",
       "    <tr style=\"text-align: right;\">\n",
       "      <th></th>\n",
       "      <th>critic_score</th>\n",
       "      <th>total_sales</th>\n",
       "      <th>user_score</th>\n",
       "    </tr>\n",
       "  </thead>\n",
       "  <tbody>\n",
       "    <tr>\n",
       "      <td>critic_score</td>\n",
       "      <td>1.000000</td>\n",
       "      <td>0.350345</td>\n",
       "      <td>0.520946</td>\n",
       "    </tr>\n",
       "    <tr>\n",
       "      <td>total_sales</td>\n",
       "      <td>0.350345</td>\n",
       "      <td>1.000000</td>\n",
       "      <td>-0.011742</td>\n",
       "    </tr>\n",
       "    <tr>\n",
       "      <td>user_score</td>\n",
       "      <td>0.520946</td>\n",
       "      <td>-0.011742</td>\n",
       "      <td>1.000000</td>\n",
       "    </tr>\n",
       "  </tbody>\n",
       "</table>\n",
       "</div>"
      ],
      "text/plain": [
       "              critic_score  total_sales  user_score\n",
       "critic_score      1.000000     0.350345    0.520946\n",
       "total_sales       0.350345     1.000000   -0.011742\n",
       "user_score        0.520946    -0.011742    1.000000"
      ]
     },
     "metadata": {},
     "output_type": "display_data"
    },
    {
     "data": {
      "text/html": [
       "<div>\n",
       "<style scoped>\n",
       "    .dataframe tbody tr th:only-of-type {\n",
       "        vertical-align: middle;\n",
       "    }\n",
       "\n",
       "    .dataframe tbody tr th {\n",
       "        vertical-align: top;\n",
       "    }\n",
       "\n",
       "    .dataframe thead th {\n",
       "        text-align: right;\n",
       "    }\n",
       "</style>\n",
       "<table border=\"1\" class=\"dataframe\">\n",
       "  <thead>\n",
       "    <tr style=\"text-align: right;\">\n",
       "      <th></th>\n",
       "      <th>critic_score</th>\n",
       "      <th>total_sales</th>\n",
       "      <th>user_score</th>\n",
       "    </tr>\n",
       "  </thead>\n",
       "  <tbody>\n",
       "    <tr>\n",
       "      <td>critic_score</td>\n",
       "      <td>1.000000</td>\n",
       "      <td>0.196030</td>\n",
       "      <td>0.429562</td>\n",
       "    </tr>\n",
       "    <tr>\n",
       "      <td>total_sales</td>\n",
       "      <td>0.196030</td>\n",
       "      <td>1.000000</td>\n",
       "      <td>-0.093842</td>\n",
       "    </tr>\n",
       "    <tr>\n",
       "      <td>user_score</td>\n",
       "      <td>0.429562</td>\n",
       "      <td>-0.093842</td>\n",
       "      <td>1.000000</td>\n",
       "    </tr>\n",
       "  </tbody>\n",
       "</table>\n",
       "</div>"
      ],
      "text/plain": [
       "              critic_score  total_sales  user_score\n",
       "critic_score      1.000000     0.196030    0.429562\n",
       "total_sales       0.196030     1.000000   -0.093842\n",
       "user_score        0.429562    -0.093842    1.000000"
      ]
     },
     "metadata": {},
     "output_type": "display_data"
    }
   ],
   "source": [
    "# смотрим корреляцию на других популярных платформах и рынке PC, как наиболее отличающимся\n",
    "\n",
    "ps3 = data_relevant.query('platform ==\"PS3\"').pivot_table(\n",
    "    index='name', \n",
    "    values=['user_score', 'critic_score', 'total_sales'])\n",
    "\n",
    "ds3 = data_relevant.query('platform ==\"3DS\"').pivot_table(\n",
    "    index='name', \n",
    "    values=['user_score', 'critic_score', 'total_sales'])\n",
    "\n",
    "x360 = data_relevant.query('platform ==\"X360\"').pivot_table(\n",
    "    index='name', \n",
    "    values=['user_score', 'critic_score', 'total_sales'])\n",
    "\n",
    "pc = data_relevant.query('platform ==\"PC\"').pivot_table(\n",
    "    index='name', \n",
    "    values=['user_score', 'critic_score', 'total_sales'])\n",
    "\n",
    "display(ps3.corr())\n",
    "display(ds3.corr())\n",
    "display(x360.corr())\n",
    "display(pc.corr())"
   ]
  },
  {
   "cell_type": "markdown",
   "metadata": {},
   "source": [
    "Диаграммы рассеяния и коэффициенты корреляции показывают, что нет ощутимой связи между оценкам игроков или критиков и продажами игры. Показатели схожие как у PS4, так и у Xbox One. Да, видна некоторая корреляция между продажами и оценками критиков, а также между оценками пользователей и критиков между собой, однако и она не очень высокая.\n",
    "\n",
    "Однако есть небольшая разница в оценках критиков и пользователей. Так, например, игр с низкими оценками критиков и большими продажами просто не существует и большинство хорошо продающихся игр имеют высокие рейтинги. При этом у пользовательских рейтингов ситуация несколько иная: есть достаточно примеров игр с оценкой около 5 или меньше и высокими продажами. \n",
    "\n",
    "На других популярных платформах, а также рынке PC ситуация отличается несильно и, в целом, схожа. На Nintendo 3DS наблюдается достаточно сильная корреляция между оценка критиков и пользователей, а также чуть большая, но все еще достаточно слабая корреляция между продажами и оценками юзеров, чего не наблюдалось на других платформах.\n",
    "\n",
    "В целом, можно сказать, что хорошие оценки совсем не гарантируют хорошие продажи, однако высокие продажи практически невозможны без высоких оценок (в первую очередь, среди критиков)."
   ]
  },
  {
   "cell_type": "markdown",
   "metadata": {},
   "source": [
    "### Жанры"
   ]
  },
  {
   "cell_type": "code",
   "execution_count": 41,
   "metadata": {},
   "outputs": [
    {
     "data": {
      "text/html": [
       "<div>\n",
       "<style scoped>\n",
       "    .dataframe tbody tr th:only-of-type {\n",
       "        vertical-align: middle;\n",
       "    }\n",
       "\n",
       "    .dataframe tbody tr th {\n",
       "        vertical-align: top;\n",
       "    }\n",
       "\n",
       "    .dataframe thead th {\n",
       "        text-align: right;\n",
       "    }\n",
       "</style>\n",
       "<table border=\"1\" class=\"dataframe\">\n",
       "  <thead>\n",
       "    <tr style=\"text-align: right;\">\n",
       "      <th></th>\n",
       "      <th>games</th>\n",
       "      <th>sum_sales</th>\n",
       "      <th>mean_sales</th>\n",
       "      <th>games_share</th>\n",
       "      <th>sales_share</th>\n",
       "    </tr>\n",
       "    <tr>\n",
       "      <th>genre</th>\n",
       "      <th></th>\n",
       "      <th></th>\n",
       "      <th></th>\n",
       "      <th></th>\n",
       "      <th></th>\n",
       "    </tr>\n",
       "  </thead>\n",
       "  <tbody>\n",
       "    <tr>\n",
       "      <td>Action</td>\n",
       "      <td>766</td>\n",
       "      <td>321.87</td>\n",
       "      <td>0.42</td>\n",
       "      <td>34.30</td>\n",
       "      <td>29.51</td>\n",
       "    </tr>\n",
       "    <tr>\n",
       "      <td>Shooter</td>\n",
       "      <td>187</td>\n",
       "      <td>232.98</td>\n",
       "      <td>1.25</td>\n",
       "      <td>8.37</td>\n",
       "      <td>21.36</td>\n",
       "    </tr>\n",
       "    <tr>\n",
       "      <td>Sports</td>\n",
       "      <td>214</td>\n",
       "      <td>150.65</td>\n",
       "      <td>0.70</td>\n",
       "      <td>9.58</td>\n",
       "      <td>13.81</td>\n",
       "    </tr>\n",
       "    <tr>\n",
       "      <td>Role-Playing</td>\n",
       "      <td>292</td>\n",
       "      <td>145.89</td>\n",
       "      <td>0.50</td>\n",
       "      <td>13.08</td>\n",
       "      <td>13.38</td>\n",
       "    </tr>\n",
       "    <tr>\n",
       "      <td>Misc</td>\n",
       "      <td>155</td>\n",
       "      <td>62.82</td>\n",
       "      <td>0.41</td>\n",
       "      <td>6.94</td>\n",
       "      <td>5.76</td>\n",
       "    </tr>\n",
       "    <tr>\n",
       "      <td>Platform</td>\n",
       "      <td>74</td>\n",
       "      <td>42.63</td>\n",
       "      <td>0.58</td>\n",
       "      <td>3.31</td>\n",
       "      <td>3.91</td>\n",
       "    </tr>\n",
       "    <tr>\n",
       "      <td>Racing</td>\n",
       "      <td>85</td>\n",
       "      <td>39.89</td>\n",
       "      <td>0.47</td>\n",
       "      <td>3.81</td>\n",
       "      <td>3.66</td>\n",
       "    </tr>\n",
       "    <tr>\n",
       "      <td>Fighting</td>\n",
       "      <td>80</td>\n",
       "      <td>35.31</td>\n",
       "      <td>0.44</td>\n",
       "      <td>3.58</td>\n",
       "      <td>3.24</td>\n",
       "    </tr>\n",
       "    <tr>\n",
       "      <td>Adventure</td>\n",
       "      <td>245</td>\n",
       "      <td>23.64</td>\n",
       "      <td>0.10</td>\n",
       "      <td>10.97</td>\n",
       "      <td>2.17</td>\n",
       "    </tr>\n",
       "    <tr>\n",
       "      <td>Simulation</td>\n",
       "      <td>62</td>\n",
       "      <td>21.76</td>\n",
       "      <td>0.35</td>\n",
       "      <td>2.78</td>\n",
       "      <td>2.00</td>\n",
       "    </tr>\n",
       "    <tr>\n",
       "      <td>Strategy</td>\n",
       "      <td>56</td>\n",
       "      <td>10.08</td>\n",
       "      <td>0.18</td>\n",
       "      <td>2.51</td>\n",
       "      <td>0.92</td>\n",
       "    </tr>\n",
       "    <tr>\n",
       "      <td>Puzzle</td>\n",
       "      <td>17</td>\n",
       "      <td>3.17</td>\n",
       "      <td>0.19</td>\n",
       "      <td>0.76</td>\n",
       "      <td>0.29</td>\n",
       "    </tr>\n",
       "  </tbody>\n",
       "</table>\n",
       "</div>"
      ],
      "text/plain": [
       "              games  sum_sales  mean_sales  games_share  sales_share\n",
       "genre                                                               \n",
       "Action          766     321.87        0.42        34.30        29.51\n",
       "Shooter         187     232.98        1.25         8.37        21.36\n",
       "Sports          214     150.65        0.70         9.58        13.81\n",
       "Role-Playing    292     145.89        0.50        13.08        13.38\n",
       "Misc            155      62.82        0.41         6.94         5.76\n",
       "Platform         74      42.63        0.58         3.31         3.91\n",
       "Racing           85      39.89        0.47         3.81         3.66\n",
       "Fighting         80      35.31        0.44         3.58         3.24\n",
       "Adventure       245      23.64        0.10        10.97         2.17\n",
       "Simulation       62      21.76        0.35         2.78         2.00\n",
       "Strategy         56      10.08        0.18         2.51         0.92\n",
       "Puzzle           17       3.17        0.19         0.76         0.29"
      ]
     },
     "execution_count": 41,
     "metadata": {},
     "output_type": "execute_result"
    }
   ],
   "source": [
    "# группируем таблицу актуального периода по суммарным продажам платформ \n",
    "\n",
    "genres = data_relevant.groupby('genre')['total_sales'].agg(\n",
    "    ['count', 'sum', 'mean']).sort_values(\n",
    "    by='sum', ascending=False).reset_index().rename(\n",
    "    {'mean': 'mean_sales', 'sum':'sum_sales', 'count':'games'},axis=1\n",
    "    ).set_index('genre').round(2)\n",
    "\n",
    "# добавляем столбцы с долей по проданным играм и по количеству игр \n",
    "genres['games_share'] = (100 * genres['games'] / genres['games'].sum()).round(2)\n",
    "genres['sales_share'] = (100 * genres['sum_sales'] / genres['sum_sales'].sum()).round(2)\n",
    "genres"
   ]
  },
  {
   "cell_type": "code",
   "execution_count": 42,
   "metadata": {},
   "outputs": [
    {
     "data": {
      "image/png": "[encoded data removed]",
      "text/plain": [
       "<Figure size 576x576 with 1 Axes>"
      ]
     },
     "metadata": {},
     "output_type": "display_data"
    },
    {
     "data": {
      "image/png": "[encoded data removed]",
      "text/plain": [
       "<Figure size 576x576 with 1 Axes>"
      ]
     },
     "metadata": {},
     "output_type": "display_data"
    }
   ],
   "source": [
    "genres.plot(\n",
    "    kind='pie', y='games', \n",
    "    figsize=(8,8), legend=False,\n",
    "    title='Жанры по количеству игр',\n",
    "    autopct='%.1f%%');\n",
    "plt.ylabel('Количество игр жанра');\n",
    "\n",
    "genres.plot(\n",
    "    kind='pie', y='sum_sales', \n",
    "    figsize=(8,8), legend=False,\n",
    "    title='Жанры по продажам игр',\n",
    "    autopct='%.1f%%');\n",
    "plt.ylabel('Суммарные продажи игр жанра');"
   ]
  },
  {
   "cell_type": "code",
   "execution_count": 43,
   "metadata": {},
   "outputs": [
    {
     "data": {
      "text/html": [
       "<div>\n",
       "<style scoped>\n",
       "    .dataframe tbody tr th:only-of-type {\n",
       "        vertical-align: middle;\n",
       "    }\n",
       "\n",
       "    .dataframe tbody tr th {\n",
       "        vertical-align: top;\n",
       "    }\n",
       "\n",
       "    .dataframe thead th {\n",
       "        text-align: right;\n",
       "    }\n",
       "</style>\n",
       "<table border=\"1\" class=\"dataframe\">\n",
       "  <thead>\n",
       "    <tr style=\"text-align: right;\">\n",
       "      <th></th>\n",
       "      <th>games</th>\n",
       "      <th>sum_sales</th>\n",
       "      <th>mean_sales</th>\n",
       "      <th>games_share</th>\n",
       "      <th>sales_share</th>\n",
       "    </tr>\n",
       "    <tr>\n",
       "      <th>genre</th>\n",
       "      <th></th>\n",
       "      <th></th>\n",
       "      <th></th>\n",
       "      <th></th>\n",
       "      <th></th>\n",
       "    </tr>\n",
       "  </thead>\n",
       "  <tbody>\n",
       "    <tr>\n",
       "      <td>Shooter</td>\n",
       "      <td>187</td>\n",
       "      <td>232.98</td>\n",
       "      <td>1.25</td>\n",
       "      <td>8.37</td>\n",
       "      <td>21.36</td>\n",
       "    </tr>\n",
       "    <tr>\n",
       "      <td>Sports</td>\n",
       "      <td>214</td>\n",
       "      <td>150.65</td>\n",
       "      <td>0.70</td>\n",
       "      <td>9.58</td>\n",
       "      <td>13.81</td>\n",
       "    </tr>\n",
       "    <tr>\n",
       "      <td>Platform</td>\n",
       "      <td>74</td>\n",
       "      <td>42.63</td>\n",
       "      <td>0.58</td>\n",
       "      <td>3.31</td>\n",
       "      <td>3.91</td>\n",
       "    </tr>\n",
       "    <tr>\n",
       "      <td>Role-Playing</td>\n",
       "      <td>292</td>\n",
       "      <td>145.89</td>\n",
       "      <td>0.50</td>\n",
       "      <td>13.08</td>\n",
       "      <td>13.38</td>\n",
       "    </tr>\n",
       "    <tr>\n",
       "      <td>Racing</td>\n",
       "      <td>85</td>\n",
       "      <td>39.89</td>\n",
       "      <td>0.47</td>\n",
       "      <td>3.81</td>\n",
       "      <td>3.66</td>\n",
       "    </tr>\n",
       "    <tr>\n",
       "      <td>Fighting</td>\n",
       "      <td>80</td>\n",
       "      <td>35.31</td>\n",
       "      <td>0.44</td>\n",
       "      <td>3.58</td>\n",
       "      <td>3.24</td>\n",
       "    </tr>\n",
       "    <tr>\n",
       "      <td>Action</td>\n",
       "      <td>766</td>\n",
       "      <td>321.87</td>\n",
       "      <td>0.42</td>\n",
       "      <td>34.30</td>\n",
       "      <td>29.51</td>\n",
       "    </tr>\n",
       "    <tr>\n",
       "      <td>Misc</td>\n",
       "      <td>155</td>\n",
       "      <td>62.82</td>\n",
       "      <td>0.41</td>\n",
       "      <td>6.94</td>\n",
       "      <td>5.76</td>\n",
       "    </tr>\n",
       "    <tr>\n",
       "      <td>Simulation</td>\n",
       "      <td>62</td>\n",
       "      <td>21.76</td>\n",
       "      <td>0.35</td>\n",
       "      <td>2.78</td>\n",
       "      <td>2.00</td>\n",
       "    </tr>\n",
       "    <tr>\n",
       "      <td>Puzzle</td>\n",
       "      <td>17</td>\n",
       "      <td>3.17</td>\n",
       "      <td>0.19</td>\n",
       "      <td>0.76</td>\n",
       "      <td>0.29</td>\n",
       "    </tr>\n",
       "    <tr>\n",
       "      <td>Strategy</td>\n",
       "      <td>56</td>\n",
       "      <td>10.08</td>\n",
       "      <td>0.18</td>\n",
       "      <td>2.51</td>\n",
       "      <td>0.92</td>\n",
       "    </tr>\n",
       "    <tr>\n",
       "      <td>Adventure</td>\n",
       "      <td>245</td>\n",
       "      <td>23.64</td>\n",
       "      <td>0.10</td>\n",
       "      <td>10.97</td>\n",
       "      <td>2.17</td>\n",
       "    </tr>\n",
       "  </tbody>\n",
       "</table>\n",
       "</div>"
      ],
      "text/plain": [
       "              games  sum_sales  mean_sales  games_share  sales_share\n",
       "genre                                                               \n",
       "Shooter         187     232.98        1.25         8.37        21.36\n",
       "Sports          214     150.65        0.70         9.58        13.81\n",
       "Platform         74      42.63        0.58         3.31         3.91\n",
       "Role-Playing    292     145.89        0.50        13.08        13.38\n",
       "Racing           85      39.89        0.47         3.81         3.66\n",
       "Fighting         80      35.31        0.44         3.58         3.24\n",
       "Action          766     321.87        0.42        34.30        29.51\n",
       "Misc            155      62.82        0.41         6.94         5.76\n",
       "Simulation       62      21.76        0.35         2.78         2.00\n",
       "Puzzle           17       3.17        0.19         0.76         0.29\n",
       "Strategy         56      10.08        0.18         2.51         0.92\n",
       "Adventure       245      23.64        0.10        10.97         2.17"
      ]
     },
     "execution_count": 43,
     "metadata": {},
     "output_type": "execute_result"
    }
   ],
   "source": [
    "# сортируем жанры по средним продажам \n",
    "genres.sort_values('mean_sales', ascending=False)"
   ]
  },
  {
   "cell_type": "markdown",
   "metadata": {},
   "source": [
    "Больше всего игр в жанрах action, RPG, adventure, sports и shooter. По суммарным продажам также лидируют эти игры, кроме жанра adventure, у которого много представителей, но достаточно низкие продажи. \n",
    "\n",
    "Лучшее соотношение продаж к количеству у шутеров, на одну игру приходится в среднем 1,25 миллионов проданных копий. Спортивные симуляторы также лидиируют в этом показателе: каждая игра в этом жанре в среднем продается 700 тыс. тиражом. \n",
    "\n",
    "При этом, несмотря на то, что в жанре экшен игр самые высокие продажи и больше всего игр, соотношение выпущенных игр к проданным копиям не очень высокое: среди 766 игр суммарно было продано 322 млн копий, что составляет около 400 тысяч копий на каждый тайтл. Платформеры, ролевые игры, гонки и файтинги имеют средние результаты и довольно неплохо продаются.\n",
    "\n",
    "Хуже всего ситуация с паззлами, стратегиями и приключенческими играми. В среднем игры этого жанра продаются тиражами не более 200 тысяч копий и представителей этих жанров не очень много (опять же кроме adventure, которых выпущено крайне много, но их продажи оставляют желать лучшего. Имея долю рынка 11% от всех выпущенных игр всех жанров в актуальный период, доля продаж приключений составляет около 2%.  "
   ]
  },
  {
   "cell_type": "markdown",
   "metadata": {},
   "source": [
    "## Портрет пользователя"
   ]
  },
  {
   "cell_type": "markdown",
   "metadata": {},
   "source": [
    "### Популярные платформы"
   ]
  },
  {
   "cell_type": "code",
   "execution_count": 44,
   "metadata": {},
   "outputs": [
    {
     "data": {
      "text/html": [
       "<div>\n",
       "<style scoped>\n",
       "    .dataframe tbody tr th:only-of-type {\n",
       "        vertical-align: middle;\n",
       "    }\n",
       "\n",
       "    .dataframe tbody tr th {\n",
       "        vertical-align: top;\n",
       "    }\n",
       "\n",
       "    .dataframe thead th {\n",
       "        text-align: right;\n",
       "    }\n",
       "</style>\n",
       "<table border=\"1\" class=\"dataframe\">\n",
       "  <thead>\n",
       "    <tr style=\"text-align: right;\">\n",
       "      <th></th>\n",
       "      <th>eu_sales</th>\n",
       "      <th>jp_sales</th>\n",
       "      <th>na_sales</th>\n",
       "    </tr>\n",
       "    <tr>\n",
       "      <th>platform</th>\n",
       "      <th></th>\n",
       "      <th></th>\n",
       "      <th></th>\n",
       "    </tr>\n",
       "  </thead>\n",
       "  <tbody>\n",
       "    <tr>\n",
       "      <td>3DS</td>\n",
       "      <td>30.96</td>\n",
       "      <td>67.81</td>\n",
       "      <td>38.20</td>\n",
       "    </tr>\n",
       "    <tr>\n",
       "      <td>DS</td>\n",
       "      <td>0.85</td>\n",
       "      <td>0.00</td>\n",
       "      <td>0.57</td>\n",
       "    </tr>\n",
       "    <tr>\n",
       "      <td>PC</td>\n",
       "      <td>25.36</td>\n",
       "      <td>0.00</td>\n",
       "      <td>11.11</td>\n",
       "    </tr>\n",
       "    <tr>\n",
       "      <td>PS3</td>\n",
       "      <td>67.81</td>\n",
       "      <td>23.35</td>\n",
       "      <td>63.50</td>\n",
       "    </tr>\n",
       "    <tr>\n",
       "      <td>PS4</td>\n",
       "      <td>141.09</td>\n",
       "      <td>15.96</td>\n",
       "      <td>108.74</td>\n",
       "    </tr>\n",
       "    <tr>\n",
       "      <td>PSP</td>\n",
       "      <td>0.17</td>\n",
       "      <td>3.29</td>\n",
       "      <td>0.00</td>\n",
       "    </tr>\n",
       "    <tr>\n",
       "      <td>PSV</td>\n",
       "      <td>6.10</td>\n",
       "      <td>18.59</td>\n",
       "      <td>5.04</td>\n",
       "    </tr>\n",
       "    <tr>\n",
       "      <td>Wii</td>\n",
       "      <td>5.93</td>\n",
       "      <td>0.05</td>\n",
       "      <td>6.56</td>\n",
       "    </tr>\n",
       "    <tr>\n",
       "      <td>WiiU</td>\n",
       "      <td>19.85</td>\n",
       "      <td>10.88</td>\n",
       "      <td>29.21</td>\n",
       "    </tr>\n",
       "    <tr>\n",
       "      <td>X360</td>\n",
       "      <td>42.52</td>\n",
       "      <td>0.51</td>\n",
       "      <td>81.66</td>\n",
       "    </tr>\n",
       "    <tr>\n",
       "      <td>XOne</td>\n",
       "      <td>51.59</td>\n",
       "      <td>0.34</td>\n",
       "      <td>93.12</td>\n",
       "    </tr>\n",
       "    <tr>\n",
       "      <td>All</td>\n",
       "      <td>392.23</td>\n",
       "      <td>140.78</td>\n",
       "      <td>437.71</td>\n",
       "    </tr>\n",
       "  </tbody>\n",
       "</table>\n",
       "</div>"
      ],
      "text/plain": [
       "          eu_sales  jp_sales  na_sales\n",
       "platform                              \n",
       "3DS          30.96     67.81     38.20\n",
       "DS            0.85      0.00      0.57\n",
       "PC           25.36      0.00     11.11\n",
       "PS3          67.81     23.35     63.50\n",
       "PS4         141.09     15.96    108.74\n",
       "PSP           0.17      3.29      0.00\n",
       "PSV           6.10     18.59      5.04\n",
       "Wii           5.93      0.05      6.56\n",
       "WiiU         19.85     10.88     29.21\n",
       "X360         42.52      0.51     81.66\n",
       "XOne         51.59      0.34     93.12\n",
       "All         392.23    140.78    437.71"
      ]
     },
     "execution_count": 44,
     "metadata": {},
     "output_type": "execute_result"
    }
   ],
   "source": [
    "# сводная таблица по регионам и платформам\n",
    "regions = data_relevant.pivot_table(index=['platform'], values=['na_sales', 'eu_sales','jp_sales'], aggfunc='sum')\n",
    "# для понимания табличка с итоговой суммой по региону\n",
    "data_relevant.pivot_table(index=['platform'], values=['na_sales', 'eu_sales','jp_sales'], aggfunc='sum', margins=True)"
   ]
  },
  {
   "cell_type": "code",
   "execution_count": 45,
   "metadata": {},
   "outputs": [
    {
     "data": {
      "text/plain": [
       "platform\n",
       "PS4     108.74\n",
       "XOne     93.12\n",
       "X360     81.66\n",
       "PS3      63.50\n",
       "3DS      38.20\n",
       "Name: na_sales, dtype: float64"
      ]
     },
     "metadata": {},
     "output_type": "display_data"
    },
    {
     "data": {
      "text/plain": [
       "platform\n",
       "PS4     141.09\n",
       "PS3      67.81\n",
       "XOne     51.59\n",
       "X360     42.52\n",
       "3DS      30.96\n",
       "Name: eu_sales, dtype: float64"
      ]
     },
     "metadata": {},
     "output_type": "display_data"
    },
    {
     "data": {
      "text/plain": [
       "platform\n",
       "3DS     67.81\n",
       "PS3     23.35\n",
       "PSV     18.59\n",
       "PS4     15.96\n",
       "WiiU    10.88\n",
       "Name: jp_sales, dtype: float64"
      ]
     },
     "metadata": {},
     "output_type": "display_data"
    }
   ],
   "source": [
    "# топ-5 платформ по продажам в каждом регионе\n",
    "display(regions['na_sales'].sort_values(ascending=False).head())\n",
    "display(regions['eu_sales'].sort_values(ascending=False).head())\n",
    "display(regions['jp_sales'].sort_values(ascending=False).head())"
   ]
  },
  {
   "cell_type": "code",
   "execution_count": 46,
   "metadata": {},
   "outputs": [
    {
     "data": {
      "image/png": "[encoded data removed]",
      "text/plain": [
       "<Figure size 720x504 with 1 Axes>"
      ]
     },
     "metadata": {
      "needs_background": "light"
     },
     "output_type": "display_data"
    }
   ],
   "source": [
    "# сводный график по всем регионам\n",
    "regions.sort_values(['na_sales','eu_sales','jp_sales'], ascending=False).plot(\n",
    "    kind='bar', y=['na_sales','eu_sales','jp_sales'], \n",
    "    figsize=(10,7), grid=True, width=0.9, rot=0,\n",
    "    title='Продажи по платформам в регионах');\n",
    "plt.xlabel('Платформы');\n",
    "plt.ylabel('Суммарные продажи в млн');"
   ]
  },
  {
   "cell_type": "code",
   "execution_count": 47,
   "metadata": {},
   "outputs": [
    {
     "name": "stdout",
     "output_type": "stream",
     "text": [
      "Общий объем продаж в регионе NA — 437.71 млн копий\n",
      "Общий объем продаж в регионе EU — 392.23 млн копий\n",
      "Общий объем продаж в регионе JP — 140.78 млн копий\n",
      "\n",
      "Всего продаж во всех регионах: 970.72 млн копий\n"
     ]
    }
   ],
   "source": [
    "allreg = (regions['eu_sales'].sum() + regions['jp_sales'].sum() + regions['na_sales'].sum()).round(2)\n",
    "\n",
    "print('Общий объем продаж в регионе NA —', regions['na_sales'].sum().round(2), 'млн копий')\n",
    "print('Общий объем продаж в регионе EU —', regions['eu_sales'].sum().round(2), 'млн копий')\n",
    "print('Общий объем продаж в регионе JP —', regions['jp_sales'].sum().round(2), 'млн копий')\n",
    "print()\n",
    "print('Всего продаж во всех регионах:', allreg, 'млн копий')"
   ]
  },
  {
   "cell_type": "code",
   "execution_count": 48,
   "metadata": {},
   "outputs": [
    {
     "name": "stdout",
     "output_type": "stream",
     "text": [
      "Доля продаж на всех платформах в регионе NA — 45.09 %\n",
      "Доля продаж на всех платформах в регионе EU — 40.41 %\n",
      "Доля продаж на всех платформах в регионе JP — 14.5 %\n"
     ]
    }
   ],
   "source": [
    "print('Доля продаж на всех платформах в регионе NA —', (regions['na_sales'].sum() / allreg * 100).round(2),'%')\n",
    "print('Доля продаж на всех платформах в регионе EU —', (regions['eu_sales'].sum() / allreg * 100).round(2),'%')\n",
    "print('Доля продаж на всех платформах в регионе JP —', (regions['jp_sales'].sum() / allreg * 100).round(2),'%')"
   ]
  },
  {
   "cell_type": "code",
   "execution_count": 49,
   "metadata": {},
   "outputs": [],
   "source": [
    "nagames = data_relevant.query('na_sales > 0')['name'].count()\n",
    "eugames = data_relevant.query('eu_sales > 0')['name'].count()\n",
    "jpgames = data_relevant.query('jp_sales > 0')['name'].count()\n",
    "namill = data_relevant.query('na_sales >= 1')['name'].count()\n",
    "eumill = data_relevant.query('eu_sales >= 1')['name'].count()\n",
    "jpmill = data_relevant.query('jp_sales >= 1')['name'].count()"
   ]
  },
  {
   "cell_type": "markdown",
   "metadata": {},
   "source": [
    "<a id='cell402'><a/>"
   ]
  },
  {
   "cell_type": "code",
   "execution_count": 50,
   "metadata": {},
   "outputs": [
    {
     "name": "stdout",
     "output_type": "stream",
     "text": [
      "1309 игр с продажами в регионе NA\n",
      "1422 игр с продажами в регионе EU\n",
      "1187 игр с продажами в регионе JP\n",
      "\n",
      "105 и 8.02% — кол-во и доля игр с продажами от 1 млн в регионе NA\n",
      "81 и 5.70% — кол-во и доля игр с продажами от 1 млн в регионе EU\n",
      "19 и 1.60% — кол-во и доля игр с продажами от 1 млн в регионе JP\n"
     ]
    }
   ],
   "source": [
    "# смотрим на игры с любыми продажами (больше 0) в регионах и долю игр с продажами от 1 млн и выше\n",
    "\n",
    "print(nagames,'игр с продажами в регионе NA')\n",
    "print(eugames,'игр с продажами в регионе EU')\n",
    "print(jpgames,'игр с продажами в регионе JP')\n",
    "print()\n",
    "print(namill, 'и', '{:.2%}'.format(namill / nagames), '— кол-во и доля игр с продажами от 1 млн в регионе NA')\n",
    "print(eumill, 'и','{:.2%}'.format(eumill / eugames), '— кол-во и доля игр с продажами от 1 млн в регионе EU')\n",
    "print(jpmill, 'и','{:.2%}'.format(jpmill / jpgames), '— кол-во и доля игр с продажами от 1 млн в регионе JP')"
   ]
  },
  {
   "cell_type": "markdown",
   "metadata": {},
   "source": [
    "Пользователи регионов EU и NA имеют в целом схожую ситуацию: и по объемам продаж и по любимым платформам, пусть и с небольшими различиями. Так, в Европе и США лидируют игры на PS4 и в целом, топ-5 обоих регионов состоит из одних и тех же платформ — PS4, PS3, Xbox One, Xbox 360, Nintendo 3DS. Отличаются только объемы продаж и расположение платформ со 2 по 5 место. \n",
    "\n",
    "Совсем иная ситуация в японском регионе. Здесь, объем продаж в среднем в 3 раза меньше по сравнению с Европой и Америкой, а также другой лидер — Nintendo 3DS. Места в топ-5 в Японии также распределены иначе: на 2 месте идет PS3, а не PS4, как в других регионах; далее портативная PSV, продажи которой одни из самых низких в Европе и Америке; только потом появляется PS4 с 16 млн проданных на нее игр (для сравнения в Европе это 141 млн, в США — 109 млн) и замыкает пятерку консоль WiiU. Таким образом, в этом регионе нет ни одной неяпонской платформы в топ-5. Также это единственный регион с 0 продажами игр для PC. \n",
    "\n",
    "Также, традиционно Xbox сильнее всего представлен в Северной Америке, это подтверждается и в наших данных. В Японии платформа Xbox практически не представлена, а в Европе продажи игр для консолей Microsoft существенно ниже. \n",
    "\n",
    "Из-за существенной разница в объемах продаж, несмотря на высокие места в топ-5 для уровня японского рынка, игры на многие платформы продаются в других регионах лучше в реальных цифрах. Единственные платформы, которые действительно популярнее, чем в других регионах это — 3DS, PSV и PSP. Продажи игр для этих платформ выше, чем в Европе и Америке, иногда очень значительно, например игры для PSV продаются более чем в 3 раза лучше, а для PSP — почти в 20 раз больше, чем в Европе (в Америке вообще нулевые продажи для PS Vita)."
   ]
  },
  {
   "cell_type": "markdown",
   "metadata": {},
   "source": [
    "### Популярные жанры"
   ]
  },
  {
   "cell_type": "code",
   "execution_count": 51,
   "metadata": {},
   "outputs": [
    {
     "data": {
      "text/html": [
       "<div>\n",
       "<style scoped>\n",
       "    .dataframe tbody tr th:only-of-type {\n",
       "        vertical-align: middle;\n",
       "    }\n",
       "\n",
       "    .dataframe tbody tr th {\n",
       "        vertical-align: top;\n",
       "    }\n",
       "\n",
       "    .dataframe thead th {\n",
       "        text-align: right;\n",
       "    }\n",
       "</style>\n",
       "<table border=\"1\" class=\"dataframe\">\n",
       "  <thead>\n",
       "    <tr style=\"text-align: right;\">\n",
       "      <th></th>\n",
       "      <th>eu_sales</th>\n",
       "      <th>jp_sales</th>\n",
       "      <th>na_sales</th>\n",
       "    </tr>\n",
       "    <tr>\n",
       "      <th>genre</th>\n",
       "      <th></th>\n",
       "      <th></th>\n",
       "      <th></th>\n",
       "    </tr>\n",
       "  </thead>\n",
       "  <tbody>\n",
       "    <tr>\n",
       "      <td>Action</td>\n",
       "      <td>118.13</td>\n",
       "      <td>40.49</td>\n",
       "      <td>126.05</td>\n",
       "    </tr>\n",
       "    <tr>\n",
       "      <td>Adventure</td>\n",
       "      <td>8.25</td>\n",
       "      <td>5.82</td>\n",
       "      <td>7.14</td>\n",
       "    </tr>\n",
       "    <tr>\n",
       "      <td>Fighting</td>\n",
       "      <td>8.55</td>\n",
       "      <td>7.65</td>\n",
       "      <td>15.55</td>\n",
       "    </tr>\n",
       "    <tr>\n",
       "      <td>Misc</td>\n",
       "      <td>20.04</td>\n",
       "      <td>9.20</td>\n",
       "      <td>27.49</td>\n",
       "    </tr>\n",
       "    <tr>\n",
       "      <td>Platform</td>\n",
       "      <td>15.58</td>\n",
       "      <td>4.79</td>\n",
       "      <td>18.14</td>\n",
       "    </tr>\n",
       "    <tr>\n",
       "      <td>Puzzle</td>\n",
       "      <td>1.00</td>\n",
       "      <td>1.18</td>\n",
       "      <td>0.83</td>\n",
       "    </tr>\n",
       "    <tr>\n",
       "      <td>Racing</td>\n",
       "      <td>20.19</td>\n",
       "      <td>2.30</td>\n",
       "      <td>12.96</td>\n",
       "    </tr>\n",
       "    <tr>\n",
       "      <td>Role-Playing</td>\n",
       "      <td>36.97</td>\n",
       "      <td>51.04</td>\n",
       "      <td>46.40</td>\n",
       "    </tr>\n",
       "    <tr>\n",
       "      <td>Shooter</td>\n",
       "      <td>87.86</td>\n",
       "      <td>6.61</td>\n",
       "      <td>109.74</td>\n",
       "    </tr>\n",
       "    <tr>\n",
       "      <td>Simulation</td>\n",
       "      <td>10.92</td>\n",
       "      <td>4.52</td>\n",
       "      <td>4.86</td>\n",
       "    </tr>\n",
       "    <tr>\n",
       "      <td>Sports</td>\n",
       "      <td>60.52</td>\n",
       "      <td>5.41</td>\n",
       "      <td>65.27</td>\n",
       "    </tr>\n",
       "    <tr>\n",
       "      <td>Strategy</td>\n",
       "      <td>4.22</td>\n",
       "      <td>1.77</td>\n",
       "      <td>3.28</td>\n",
       "    </tr>\n",
       "    <tr>\n",
       "      <td>All</td>\n",
       "      <td>392.23</td>\n",
       "      <td>140.78</td>\n",
       "      <td>437.71</td>\n",
       "    </tr>\n",
       "  </tbody>\n",
       "</table>\n",
       "</div>"
      ],
      "text/plain": [
       "              eu_sales  jp_sales  na_sales\n",
       "genre                                     \n",
       "Action          118.13     40.49    126.05\n",
       "Adventure         8.25      5.82      7.14\n",
       "Fighting          8.55      7.65     15.55\n",
       "Misc             20.04      9.20     27.49\n",
       "Platform         15.58      4.79     18.14\n",
       "Puzzle            1.00      1.18      0.83\n",
       "Racing           20.19      2.30     12.96\n",
       "Role-Playing     36.97     51.04     46.40\n",
       "Shooter          87.86      6.61    109.74\n",
       "Simulation       10.92      4.52      4.86\n",
       "Sports           60.52      5.41     65.27\n",
       "Strategy          4.22      1.77      3.28\n",
       "All             392.23    140.78    437.71"
      ]
     },
     "execution_count": 51,
     "metadata": {},
     "output_type": "execute_result"
    }
   ],
   "source": [
    "# сводная таблица по регионам и жанрам\n",
    "genres = data_relevant.pivot_table(index=['genre'], values=['na_sales', 'eu_sales','jp_sales'], aggfunc='sum')\n",
    "# для понимания табличка с итоговой суммой по региону\n",
    "data_relevant.pivot_table(index=['genre'], values=['na_sales', 'eu_sales','jp_sales'], aggfunc='sum', margins=True)"
   ]
  },
  {
   "cell_type": "code",
   "execution_count": 52,
   "metadata": {},
   "outputs": [
    {
     "data": {
      "text/plain": [
       "genre\n",
       "Action          126.05\n",
       "Shooter         109.74\n",
       "Sports           65.27\n",
       "Role-Playing     46.40\n",
       "Misc             27.49\n",
       "Name: na_sales, dtype: float64"
      ]
     },
     "metadata": {},
     "output_type": "display_data"
    },
    {
     "data": {
      "text/plain": [
       "genre\n",
       "Action          118.13\n",
       "Shooter          87.86\n",
       "Sports           60.52\n",
       "Role-Playing     36.97\n",
       "Racing           20.19\n",
       "Name: eu_sales, dtype: float64"
      ]
     },
     "metadata": {},
     "output_type": "display_data"
    },
    {
     "data": {
      "text/plain": [
       "genre\n",
       "Role-Playing    51.04\n",
       "Action          40.49\n",
       "Misc             9.20\n",
       "Fighting         7.65\n",
       "Shooter          6.61\n",
       "Name: jp_sales, dtype: float64"
      ]
     },
     "metadata": {},
     "output_type": "display_data"
    }
   ],
   "source": [
    "# топ-5 жанров по продажам в каждом регионе\n",
    "display(genres['na_sales'].sort_values(ascending=False).head(5))\n",
    "display(genres['eu_sales'].sort_values(ascending=False).head(5))\n",
    "display(genres['jp_sales'].sort_values(ascending=False).head(5))"
   ]
  },
  {
   "cell_type": "code",
   "execution_count": 53,
   "metadata": {},
   "outputs": [
    {
     "data": {
      "image/png": "[encoded data removed]",
      "text/plain": [
       "<Figure size 720x504 with 1 Axes>"
      ]
     },
     "metadata": {
      "needs_background": "light"
     },
     "output_type": "display_data"
    }
   ],
   "source": [
    "# сводный график по всем регионам\n",
    "genres.sort_values(['na_sales','eu_sales','jp_sales'], ascending=False).plot(\n",
    "    kind='bar', y=['na_sales','eu_sales','jp_sales'], \n",
    "    figsize=(10,7), grid=True, width=0.9, rot=30,\n",
    "    title='Продажи по жанрам в регионах');\n",
    "plt.xlabel('Жанры');\n",
    "plt.ylabel('Суммарные продажи в млн');"
   ]
  },
  {
   "cell_type": "markdown",
   "metadata": {},
   "source": [
    "С жанрами ситуация достаточно схожая: европейский и североамериканский регионы имеют много общего и различаются несущественно, однако Япония отличается от обоих регионов довольно значительно. Экшен игры лидируют в Европе и США, а в Японии он занимает второе место после жанра RPG. Также в топ-5 Японии отсутствуют представители спортивных симуляторов, зато довольно популярны файтинги, которые в других регионах имеют довольно средние продажи. \n",
    "\n",
    "При этом из-за значительной разницы в объемах рынка, несмотря на популярность и 4-е место в топ-5 Японии, в Америке файтинги продавались лучшими тиражами в актуальный период — 15.5 млн против 7.6 млн копий. Единственный рынок, где японские продажи превзошли другие регионы это RPG — 51 млн против 46.4 млн в Америке, и, соответственно, 37 млн копий в Европе.\n",
    "\n",
    "Можно сказать, что небольшие особенности есть и у Европы с Северной Америкой, но, как правило, это лишь незначительная разница в большей или меньшей популярности какого-то определенного жанра (например, гонки и симуляторы в Европе более популярны, чем везде, а файтинги лучше всего продаются в США). С Японией разница у обоих регионов нередко довольна велика, а японский рынок включает в себя не только другие жанры, но и другие игры внутри этих жанров в связи со значительными культурными различиями и особенностями азиатского и западного рынка."
   ]
  },
  {
   "cell_type": "markdown",
   "metadata": {},
   "source": [
    "### Влияние рейтинга ESRB"
   ]
  },
  {
   "cell_type": "code",
   "execution_count": 54,
   "metadata": {},
   "outputs": [
    {
     "name": "stdout",
     "output_type": "stream",
     "text": [
      "1256 игр c рейтингом ESRB\n",
      "977 игр без рейтинга ESRB\n",
      "\n",
      "2233 игры всего\n"
     ]
    }
   ],
   "source": [
    "rating = data_relevant.query('rating == rating')\n",
    "norating = data_relevant.query('rating != rating')\n",
    "\n",
    "print(rating['rating'].count(), \"игр c рейтингом ESRB\")\n",
    "print(len(norating['rating']), \"игр без рейтинга ESRB\")\n",
    "print()\n",
    "print(len(data_relevant['rating']), 'игры всего')"
   ]
  },
  {
   "cell_type": "code",
   "execution_count": 55,
   "metadata": {},
   "outputs": [
    {
     "data": {
      "text/html": [
       "<div>\n",
       "<style scoped>\n",
       "    .dataframe tbody tr th:only-of-type {\n",
       "        vertical-align: middle;\n",
       "    }\n",
       "\n",
       "    .dataframe tbody tr th {\n",
       "        vertical-align: top;\n",
       "    }\n",
       "\n",
       "    .dataframe thead tr th {\n",
       "        text-align: left;\n",
       "    }\n",
       "\n",
       "    .dataframe thead tr:last-of-type th {\n",
       "        text-align: right;\n",
       "    }\n",
       "</style>\n",
       "<table border=\"1\" class=\"dataframe\">\n",
       "  <thead>\n",
       "    <tr>\n",
       "      <th></th>\n",
       "      <th colspan=\"3\" halign=\"left\">mean</th>\n",
       "      <th colspan=\"3\" halign=\"left\">sum</th>\n",
       "    </tr>\n",
       "    <tr>\n",
       "      <th></th>\n",
       "      <th>eu_sales</th>\n",
       "      <th>jp_sales</th>\n",
       "      <th>na_sales</th>\n",
       "      <th>eu_sales</th>\n",
       "      <th>jp_sales</th>\n",
       "      <th>na_sales</th>\n",
       "    </tr>\n",
       "    <tr>\n",
       "      <th>rating</th>\n",
       "      <th></th>\n",
       "      <th></th>\n",
       "      <th></th>\n",
       "      <th></th>\n",
       "      <th></th>\n",
       "      <th></th>\n",
       "    </tr>\n",
       "  </thead>\n",
       "  <tbody>\n",
       "    <tr>\n",
       "      <td>E</td>\n",
       "      <td>0.28</td>\n",
       "      <td>0.05</td>\n",
       "      <td>0.26</td>\n",
       "      <td>83.36</td>\n",
       "      <td>15.14</td>\n",
       "      <td>79.05</td>\n",
       "    </tr>\n",
       "    <tr>\n",
       "      <td>E10+</td>\n",
       "      <td>0.17</td>\n",
       "      <td>0.02</td>\n",
       "      <td>0.22</td>\n",
       "      <td>42.69</td>\n",
       "      <td>5.89</td>\n",
       "      <td>54.24</td>\n",
       "    </tr>\n",
       "    <tr>\n",
       "      <td>M</td>\n",
       "      <td>0.39</td>\n",
       "      <td>0.04</td>\n",
       "      <td>0.45</td>\n",
       "      <td>145.32</td>\n",
       "      <td>14.11</td>\n",
       "      <td>165.21</td>\n",
       "    </tr>\n",
       "    <tr>\n",
       "      <td>T</td>\n",
       "      <td>0.13</td>\n",
       "      <td>0.06</td>\n",
       "      <td>0.15</td>\n",
       "      <td>41.95</td>\n",
       "      <td>20.59</td>\n",
       "      <td>49.79</td>\n",
       "    </tr>\n",
       "    <tr>\n",
       "      <td>All</td>\n",
       "      <td>0.25</td>\n",
       "      <td>0.04</td>\n",
       "      <td>0.28</td>\n",
       "      <td>313.32</td>\n",
       "      <td>55.73</td>\n",
       "      <td>348.29</td>\n",
       "    </tr>\n",
       "  </tbody>\n",
       "</table>\n",
       "</div>"
      ],
      "text/plain": [
       "           mean                        sum                  \n",
       "       eu_sales jp_sales na_sales eu_sales jp_sales na_sales\n",
       "rating                                                      \n",
       "E          0.28     0.05     0.26    83.36    15.14    79.05\n",
       "E10+       0.17     0.02     0.22    42.69     5.89    54.24\n",
       "M          0.39     0.04     0.45   145.32    14.11   165.21\n",
       "T          0.13     0.06     0.15    41.95    20.59    49.79\n",
       "All        0.25     0.04     0.28   313.32    55.73   348.29"
      ]
     },
     "execution_count": 55,
     "metadata": {},
     "output_type": "execute_result"
    }
   ],
   "source": [
    "# продажи игр с рейтингом в актуальный период\n",
    "rating.pivot_table(index='rating', values=['na_sales','eu_sales', 'jp_sales'], aggfunc=['mean', 'sum'], margins=True).round(2)"
   ]
  },
  {
   "cell_type": "code",
   "execution_count": 56,
   "metadata": {},
   "outputs": [
    {
     "data": {
      "text/html": [
       "<div>\n",
       "<style scoped>\n",
       "    .dataframe tbody tr th:only-of-type {\n",
       "        vertical-align: middle;\n",
       "    }\n",
       "\n",
       "    .dataframe tbody tr th {\n",
       "        vertical-align: top;\n",
       "    }\n",
       "\n",
       "    .dataframe thead th {\n",
       "        text-align: right;\n",
       "    }\n",
       "</style>\n",
       "<table border=\"1\" class=\"dataframe\">\n",
       "  <thead>\n",
       "    <tr style=\"text-align: right;\">\n",
       "      <th></th>\n",
       "      <th>na_sales</th>\n",
       "      <th>eu_sales</th>\n",
       "      <th>jp_sales</th>\n",
       "    </tr>\n",
       "  </thead>\n",
       "  <tbody>\n",
       "    <tr>\n",
       "      <td>mean</td>\n",
       "      <td>0.091525</td>\n",
       "      <td>0.080768</td>\n",
       "      <td>0.087052</td>\n",
       "    </tr>\n",
       "    <tr>\n",
       "      <td>sum</td>\n",
       "      <td>89.420000</td>\n",
       "      <td>78.910000</td>\n",
       "      <td>85.050000</td>\n",
       "    </tr>\n",
       "  </tbody>\n",
       "</table>\n",
       "</div>"
      ],
      "text/plain": [
       "       na_sales   eu_sales   jp_sales\n",
       "mean   0.091525   0.080768   0.087052\n",
       "sum   89.420000  78.910000  85.050000"
      ]
     },
     "execution_count": 56,
     "metadata": {},
     "output_type": "execute_result"
    }
   ],
   "source": [
    "# продажи игр без рейтинга в актуальный период\n",
    "norating[['na_sales', 'eu_sales', 'jp_sales']].agg(['mean', 'sum'])"
   ]
  },
  {
   "cell_type": "markdown",
   "metadata": {},
   "source": [
    "Для проверки влияния рейтинга на продажи можно провести статистический тест. Я сформулировал две гипотезы: \n",
    "1. Игры с рейтингом ESRB и без рейтинга продаются одинаково\n",
    "2. Игры с рейтингом ESRB и игры без рейтинга в Японии продаются одинаково \n",
    "\n",
    "Для первой гипотезы $H_0$ уже сформулирована выше, а $H_1$ звучит следующим образом: **среди всех регионов средний объем продаж игр с рейтингом ESRB и без рейтинга различается**.\n",
    "\n",
    "$H_0$ для второй гипотезы также уже сформулирована выше, а $H_1$ звучит так: **средние продажи игр в Японии с рейтингом ESRB и без рейтинга различаются **. \n",
    "\n",
    "Альтернативные гипотезы в обоих случаях двухсторонние."
   ]
  },
  {
   "cell_type": "code",
   "execution_count": 57,
   "metadata": {},
   "outputs": [
    {
     "name": "stdout",
     "output_type": "stream",
     "text": [
      "p-значение: 3.529620860640184e-12\n",
      "Отвергаем нулевую гипотезу\n"
     ]
    }
   ],
   "source": [
    "# t-test первой гипотезы\n",
    "\n",
    "alpha = 0.05\n",
    "\n",
    "results_esrb = st.ttest_ind(rating['total_sales'], norating['total_sales']) \n",
    "\n",
    "print('p-значение:', results_esrb.pvalue)\n",
    "if results_esrb.pvalue < alpha:\n",
    "    print(\"Отвергаем нулевую гипотезу\")\n",
    "else:\n",
    "    print(\"Не получилось отвергнуть нулевую гипотезу\")  "
   ]
  },
  {
   "cell_type": "code",
   "execution_count": 58,
   "metadata": {},
   "outputs": [
    {
     "name": "stdout",
     "output_type": "stream",
     "text": [
      "p-значение: 1.8421152405274113e-05\n",
      "Отвергаем нулевую гипотезу\n"
     ]
    }
   ],
   "source": [
    "# t-test второй гипотезы\n",
    "alpha = 0.05\n",
    "\n",
    "results_jp = st.ttest_ind(rating['jp_sales'], norating['jp_sales']) \n",
    "\n",
    "print('p-значение:', results_jp.pvalue)\n",
    "if results_jp.pvalue < alpha:\n",
    "    print(\"Отвергаем нулевую гипотезу\")\n",
    "else:\n",
    "    print(\"Не получилось отвергнуть нулевую гипотезу\")           "
   ]
  },
  {
   "cell_type": "code",
   "execution_count": 59,
   "metadata": {},
   "outputs": [
    {
     "name": "stdout",
     "output_type": "stream",
     "text": [
      "475 игр с рейтингом, проданных в Японии \n",
      "781 игр с рейтингом с 0 продажами в Японии\n",
      "\n",
      "712 игр без рейтинга, проданных в Японии\n",
      "265 игр без рейтинга с 0 продажами в Японии\n"
     ]
    }
   ],
   "source": [
    "print(rating.query('jp_sales > 0')['name'].count(), 'игр с рейтингом, проданных в Японии ')\n",
    "print(rating.query('jp_sales == 0')['name'].count(), 'игр с рейтингом с 0 продажами в Японии')\n",
    "print()\n",
    "print(norating.query('jp_sales > 0')['name'].count(),'игр без рейтинга, проданных в Японии')\n",
    "print(norating.query('jp_sales == 0')['name'].count(), 'игр без рейтинга с 0 продажами в Японии')"
   ]
  },
  {
   "cell_type": "markdown",
   "metadata": {},
   "source": [
    "У ESRB есть несколько значений:\n",
    "- E (Everyone) — подходит для всех, нет возрастных ограничений\n",
    "- EC (Early childhood) — для детей младшего возраста\n",
    "- E10+ - для детей от 10 лет и старше\n",
    "- T (Teen) - для подростков от 13 лет\n",
    "- M (Mature) - для взрослых не младше 17 лет\n",
    "- AO (Adults Only) - только для взрослых от 18 лет\n",
    "\n",
    "Есть также рейтинг RP (Rating Pending), в случаях когда рейтинг еще не присвоен и ожидается, по аналогии с TBD в оценках, но его рассматривать нет смысла, так как в данных за актуальный период его нет. В данных присутствуют только четыре рейтинга: E, E10+, T, M. \n",
    "\n",
    "В актуальный период игр с рейтингом и без рейтинга ESRB примерно одинаково, хотя последних чуть меньше — приблизительно 1200 против 1000, поэтому можно их приблизительно сопоставить.\n",
    "\n",
    "Игры с рейтингами продавались лучше в Европе и Северной Америке, больше как сами объемы продаж: 313 и 348 млн копий против 89 и 79 млн копий в Европе и Америке соответственно, так и средний уровень — 280 тысяч копий в Европе и 250 в Америке против 91 и 80 тысяч.\n",
    "\n",
    "Выделяется снова Япония. В ней выросли и общие продажи и средние. 40 тысяч продаж получает в среднем игра с рейтингом, а 87 без него; аналогично по суммарным продажам: 85 млн копий без рейтинга и 55 с рейтингом. Это может быть связано с тем, что система ESRB изначально заточена для североамериканского рынка и отвечает за рейтингование в таких странах как США, Канада и Мексика. Тогда как в Японии свои организации, занимающиеся рейтингованием Computer Entertainment Rating Organization (CERO) и Ethics Organization of Computer Software (EOCS). В Японии значительно больше игр без рейтинга, которые имеют продажи, чем с игр с рейтингом и ненулевыми продажам.\n",
    "\n",
    "Значения p-value в обеих гипотезах показали, что основания для отказа от нулевой гипотезы имеются, следовательно, игры с рейтингом ESRB и без него, вероятнее всего, действительно продаются по-разному."
   ]
  },
  {
   "cell_type": "markdown",
   "metadata": {},
   "source": [
    "## Проверка гипотез"
   ]
  },
  {
   "cell_type": "markdown",
   "metadata": {},
   "source": [
    "В описании проекта указаны две гипотезы:\n",
    "\n",
    "1. Средние пользовательские рейтинги платформ Xbox One и PC одинаковые;\n",
    "2. Средние пользовательские рейтинги жанров Action (англ. «действие», экшен-игры) и Sports (англ. «спортивные соревнования») разные.\n",
    "\n",
    "Для первой гипотезы нулевая гипотеза уже сформулирована, а альтернативную гипотезу я решил для интереса сделать односторонней: **средние пользовательские рейтинги PC *ниже*, чем Xbox One.** \n",
    "\n",
    "Для второй гипотезы, $H_0$ формулируется как: **средние пользовательские рейтинги жанров Action и Sports одинаковы** ($H_1$ уже сформулирована). "
   ]
  },
  {
   "cell_type": "code",
   "execution_count": 60,
   "metadata": {},
   "outputs": [
    {
     "name": "stdout",
     "output_type": "stream",
     "text": [
      "6.52 — cредняя оценка пользователей на Xbox One\n",
      "6.27 — cредняя оценка пользователей на PC\n",
      "\n",
      "6.53 — cредняя оценка пользователей на Xbox One без выбросов\n",
      "6.3 — cредняя оценка пользователей на PC без выбросов\n"
     ]
    }
   ],
   "source": [
    "# сохраняем нужные срезы для удобства рассчетов первой гипотезы\n",
    "\n",
    "xbox_score = data_relevant.query('platform == \"XOne\"')['user_score']\n",
    "pc_score = data_relevant.query('platform == \"PC\"')['user_score']\n",
    "xbox_score_clean = filtered_data.query('platform == \"XOne\"')['user_score']\n",
    "pc_score_clean = filtered_data.query('platform == \"PC\"')['user_score']\n",
    "\n",
    "# для понимания выводим средние данные\n",
    "print(round(xbox_score.mean(), 2),'— cредняя оценка пользователей на Xbox One')\n",
    "print(round(pc_score.mean(), 2),'— cредняя оценка пользователей на PC')\n",
    "print()\n",
    "print(round(xbox_score_clean.mean(), 2),'— cредняя оценка пользователей на Xbox One без выбросов')\n",
    "print(round(pc_score_clean.mean(), 2),'— cредняя оценка пользователей на PC без выбросов')"
   ]
  },
  {
   "cell_type": "code",
   "execution_count": 61,
   "metadata": {},
   "outputs": [
    {
     "name": "stdout",
     "output_type": "stream",
     "text": [
      "p-значение: 0.07379797006715015\n",
      "Не получилось отвергнуть нулевую гипотезу\n",
      "\n",
      "p-значение: 0.10890209263442904\n",
      "Не получилось отвергнуть нулевую гипотезу\n"
     ]
    }
   ],
   "source": [
    "# t-test первой гипотезы на двух выборках между собой\n",
    "\n",
    "alpha = 0.05\n",
    "\n",
    "results = st.ttest_ind(xbox_score, pc_score, equal_var=False, nan_policy='omit') \n",
    "results_clean = st.ttest_ind(xbox_score_clean, pc_score_clean, equal_var=False, nan_policy='omit') \n",
    "\n",
    "print('p-значение:', results.pvalue / 2)\n",
    "if (results.pvalue / 2 < alpha) and (pc_score.mean() < xbox_score.mean()):\n",
    "    print(\"Отвергаем нулевую гипотезу\")\n",
    "else:\n",
    "    print(\"Не получилось отвергнуть нулевую гипотезу\")          \n",
    "print()    \n",
    "print('p-значение:', results_clean.pvalue / 2)\n",
    "\n",
    "if (results_clean.pvalue / 2 < alpha) and (pc_score.mean() < xbox_score.mean()):\n",
    "    print(\"Отвергаем нулевую гипотезу\")\n",
    "else:\n",
    "    print(\"Не получилось отвергнуть нулевую гипотезу\")     "
   ]
  },
  {
   "cell_type": "code",
   "execution_count": 62,
   "metadata": {},
   "outputs": [
    {
     "name": "stdout",
     "output_type": "stream",
     "text": [
      "6.84 — cредняя оценка пользователей игр жанра Action\n",
      "5.24 — cредняя оценка пользователей игр жанра Sports\n",
      "\n",
      "6.78 — cредняя оценка пользователей игр жанра Action без выбросов\n",
      "5.19 — cредняя оценка пользователей игр жанра Sports без выбросов\n"
     ]
    }
   ],
   "source": [
    "# сохраняем нужные срезы для удобства рассчетов второй гипотезы\n",
    "\n",
    "action_score = data_relevant.query('genre == \"Action\"')['user_score']\n",
    "sports_score = data_relevant.query('genre == \"Sports\"')['user_score']\n",
    "action_score_clean = filtered_data.query('genre == \"Action\"')['user_score']\n",
    "sports_score_clean = filtered_data.query('genre == \"Sports\"')['user_score']\n",
    "\n",
    "# для понимания выводим средние данные\n",
    "print(round(action_score.mean(), 2),'— cредняя оценка пользователей игр жанра Action')\n",
    "print(round(sports_score.mean(), 2),'— cредняя оценка пользователей игр жанра Sports')\n",
    "print()\n",
    "print(round(action_score_clean.mean(), 2),'— cредняя оценка пользователей игр жанра Action без выбросов')\n",
    "print(round(sports_score_clean.mean(), 2),'— cредняя оценка пользователей игр жанра Sports без выбросов')"
   ]
  },
  {
   "cell_type": "code",
   "execution_count": 63,
   "metadata": {},
   "outputs": [
    {
     "name": "stdout",
     "output_type": "stream",
     "text": [
      "p-значение: 1.446003970070351e-20\n",
      "Отвергаем нулевую гипотезу\n",
      "\n",
      "p-значение: 7.241290806998422e-14\n",
      "Отвергаем нулевую гипотезу\n"
     ]
    }
   ],
   "source": [
    "# t-test второй гипотезы на двух выборках между собой\n",
    "\n",
    "alpha = 0.05\n",
    "\n",
    "results_genre = st.ttest_ind(action_score, sports_score, equal_var=False, nan_policy='omit') \n",
    "results_genre_clean = st.ttest_ind(action_score_clean, sports_score_clean, equal_var=False, nan_policy='omit') \n",
    "\n",
    "print('p-значение:', results_genre.pvalue)\n",
    "if results_genre.pvalue < alpha:\n",
    "    print(\"Отвергаем нулевую гипотезу\")\n",
    "else:\n",
    "    print(\"Не получилось отвергнуть нулевую гипотезу\")          \n",
    "print()    \n",
    "print('p-значение:', results_genre_clean.pvalue)\n",
    "\n",
    "if results_genre_clean.pvalue< alpha:\n",
    "    print(\"Отвергаем нулевую гипотезу\")\n",
    "else:\n",
    "    print(\"Не получилось отвергнуть нулевую гипотезу\")     "
   ]
  },
  {
   "cell_type": "markdown",
   "metadata": {},
   "source": [
    "Я посчитал, что в данном случае подходит t-test для проверки гипотезы о равенстве среднего двух генеральных совокупностей по взятым из них выборкам, а не test по одной выборке или парным выборкам.\n",
    "\n",
    "Для сравнения я также включил проверку гипотез для данных без выбросов. Так как в столбцах сохранились пропущенные значения, для корректного t-test пришлось указать nan_policy. Заполнять данные по оценкам средними или нулями, на мой взгляд, в данном случае некорректно, я объяснял это в параграфе про [обработку пропусков](#cell22). \n",
    "\n",
    "Полученные по итогам тестов первой гипотезы p-value, не позволяют отвергнуть нулевую гипотезу: средние пользовательские рейтинги одинаковые и рейтинги PC нельзя назвать более высокими, чем у Xbox One. \n",
    "\n",
    "Результаты тестов второй гипотез показывают полностью противоположный результат: у нас есть основания опровергнуть нулевую гипотезу, то есть, средние рейтинги пользователей жанров action и sports скорее разные, чем одинаковые. Об этом говорят и средние значения оценок пользователей.\n",
    "\n",
    "Удаление выбросов при проверке обеих гипотез не изменило результаты. Значения P-value несколько поменялись, но на результаты проверки гипотезы это не повлияло. "
   ]
  },
  {
   "cell_type": "markdown",
   "metadata": {},
   "source": [
    "\n",
    "## Общий вывод"
   ]
  },
  {
   "cell_type": "markdown",
   "metadata": {},
   "source": [
    "Определить закономерности, которые определят успешность игры непросто. Эта информация была бы крайне полезна не только для магазинов, занимающихся продажами игр, но и для издателей и самих разработчиков. Универсальных формул и уникальных рецептов для успеха продаж не существует, однако в ходе анализа набора из почти 17 тысяч тайтлов для разных игровых платформ, можно сделать несколько наблюдений.\n",
    "\n",
    "Во-первых, высокий уровень продаж можно ожидать от игр для самых актуальных на данный момент платформ: PS4 и Xbox One. Для европейского региона также актуальна платформа PC, пусть и с гораздо меньшими объемами продаж, чем PS и Xbox. Для японского рынка всегда актуальны местные производители, то есть платформы от Nintendo и Sony. На данный момент, cамый популярной платформой в Японии является Nintendo 3DS, но уже в следующем году будет представлен Nintendo Switch, которая должна получить высокий уровень продаж в Японии. *Топ-3 популярных консолей по регионам практически не отличается: в Европе и Северной Америке это PS4, Xbox One и, на выбор, PS3 или Xbox360. Конечно, Xbox имеет традиционно лучшие показатели в Северной Америке, а PS в Европе и Азии. Однако примечательно, что в Японии в топе портативные консоли 3DS и PS Vita, а актуальное поколение Playstation 4 продается хуже, чем предыдущее. Такая ситуации уникальна и не повторяется в других регионах ни на одной платформе.*\n",
    "\n",
    "Игры для предыдущего поколения консолей еще продаются, но уже несколько лет как сбавили обороты, PS3 и Xbox 360 их жизненный цикл завершается и рассчитывать на высокие продажи игр для этих платформ нецелесообразно.\n",
    "\n",
    "Что касается жанров, то здесь все достаточно очевидно: экшен-игры, шутеры (между жанрами достаточно размытая и тонкая грань и нередко невозможно определить точно) и спортивные симуляторы всегда и практически везде продаются хорошо. \"*Практически\" — потому что есть Япония, где спортивные игры непопулярны, зато в топ-5 есть файтинги, которые не так популярны в Европе и Америке, а лидируют вообще ролевые игры с объемом продаж, превышающим другие регионы, 51 млн против 46 млн и 37 млн в североамериканском и европейском регионах. При этом, несмотря на популярность файтингов относительно других жанров в Японии, их объемы продаж в Японии ниже североамериканских и даже европейских, где жанр файтингов один из наименее популярных: 7.5 млн проданных копий в Японии против 8.5 млн 15.5 млн в Европе и Америке, соответственно*. \n",
    "\n",
    "В плане ожидания уровня продаж ориентироваться на оценки критиков и пользователей не стоит, значимой прямой взаимосвязи нет. \n",
    "В данном аспекте, в первую очередь важны не сами оценки, а некоторый порог, ниже которого игры не стоит рассматривать как потенциально кассовые. Условно, игры с пользовательской оценкой меньше 4-5 баллов и оценкой критиков менее 40-50, с очень большой вероятностью не будут успешными и обретут популярность. \n",
    "\n",
    "В качестве потенциальных бестселлеров, возможно, стоит рассматривать популярные игровые франшизы и серии: такие как GTA, Call of Duty, Battlefield, FIFA. Для японского рынка это серии: Mario Cart, Super Smash Bros, Pokemon, Monster Hunter и Animal Crossing. \n",
    "\n",
    "*Также стоит отметить некоторое влияние возрастных рейтингов ESRB на продажи игры в разных регионах. Если в Европе и Северной Америке, большая часть выпущенных с 2013 года игр в базе имеет рейтинг и намного лучше продается с рейтингом ESRB, то в Японии ситуация противоположная: за этот же период больше игр без рейтинга и они продаются гораздо лучше, чем имеющие рейтинг ESRB. Причем продажи выше как в среднем на каждую игру, так и суммарно: 40 тысяч продаж в среднем и 55 млн общих продаж у игры с рейтингом против 87 тысяч продаж и 85 млн без него. Для сравнения в среднем одна игра с рейтингом в Европе продается 250 тыс. копий, а без него 80 тыс.*\n",
    "\n",
    "\n",
    "*В Японии не только ниже объемы продаж в каждом жанре, кроме RPG, но и меньше игр, продающихся тиражом от [1 млн копий](#cell402). Таких тайтлов в Европе и Северной Америке в 4-5 раз больше. При этом количество продаваемых в Японии игр сопоставимо с другими регионами.* \n",
    "\n",
    "Безусловно, нельзя не отметить также значительную разницу в объемах продаж Европы, Северной Америки и Японии, однако здесь важно помнить про различия и в населении. Так, по данным на 2016 год в [Европе](https://www.worldometers.info/world-population/europe-population/) проживает около 744 млн человек, в [Северной Америке](https://www.worldometers.info/world-population/northern-america-population/) — около 350 млн, тогда как население [Японии](https://www.worldometers.info/world-population/japan-population/) 127 млн человек и демонстрируемый японским игровым рынком объем продаж с учетом разницы в популяции выглядит впечатляюще. Также как и в североамериканском регионе, в Японии на одного жителя приходится больше одной покупки игры, тогда как в Европе этот показатель гораздо ниже.  \n",
    "\n",
    "В целом, можно заметить, что европейский и севериамериканский игровые рынки крайне схожи, а японский существенно от них отличается. Как уже было сказано ранее, это в целом может быть связано с множеством факторов, но одними из ключевых в данном случае, вероятно, являются культурные различия между западноевропейской(североамериканской) игровой индустрией и культурой в целом, в широком понимании этого слова, и азиатской (восточной)."
   ]
  }
 ],
 "metadata": {
  "ExecuteTimeLog": [
   {
    "duration": 1442,
    "start_time": "2021-06-12T10:42:33.929Z"
   },
   {
    "duration": 23,
    "start_time": "2021-06-12T10:42:35.373Z"
   },
   {
    "duration": 13,
    "start_time": "2021-06-12T10:42:35.399Z"
   },
   {
    "duration": 40,
    "start_time": "2021-06-12T10:42:35.415Z"
   },
   {
    "duration": 43,
    "start_time": "2021-06-12T10:42:35.457Z"
   },
   {
    "duration": 12,
    "start_time": "2021-06-12T10:42:35.503Z"
   },
   {
    "duration": 11,
    "start_time": "2021-06-12T10:42:35.517Z"
   },
   {
    "duration": 12,
    "start_time": "2021-06-12T10:42:35.532Z"
   },
   {
    "duration": 39,
    "start_time": "2021-06-12T10:42:35.547Z"
   },
   {
    "duration": 15,
    "start_time": "2021-06-12T10:42:35.588Z"
   },
   {
    "duration": 5,
    "start_time": "2021-06-12T10:42:35.605Z"
   },
   {
    "duration": 9,
    "start_time": "2021-06-12T10:42:35.612Z"
   },
   {
    "duration": 81,
    "start_time": "2021-06-12T10:42:35.623Z"
   },
   {
    "duration": 10,
    "start_time": "2021-06-12T10:42:35.706Z"
   },
   {
    "duration": 599,
    "start_time": "2021-06-12T10:42:35.718Z"
   },
   {
    "duration": 18,
    "start_time": "2021-06-12T10:42:36.319Z"
   },
   {
    "duration": 9,
    "start_time": "2021-06-12T10:42:36.339Z"
   },
   {
    "duration": 43,
    "start_time": "2021-06-12T10:42:36.351Z"
   },
   {
    "duration": 43,
    "start_time": "2021-06-12T10:42:36.396Z"
   },
   {
    "duration": 44,
    "start_time": "2021-06-12T10:42:36.441Z"
   },
   {
    "duration": 3601,
    "start_time": "2021-06-12T10:42:36.487Z"
   },
   {
    "duration": 40,
    "start_time": "2021-06-12T10:42:40.091Z"
   },
   {
    "duration": 47,
    "start_time": "2021-06-12T10:42:40.136Z"
   },
   {
    "duration": 3645,
    "start_time": "2021-06-12T10:42:40.186Z"
   },
   {
    "duration": 23,
    "start_time": "2021-06-12T10:42:43.833Z"
   },
   {
    "duration": 40,
    "start_time": "2021-06-12T10:42:43.858Z"
   },
   {
    "duration": 15,
    "start_time": "2021-06-12T10:42:43.901Z"
   },
   {
    "duration": 234,
    "start_time": "2021-06-12T10:42:43.919Z"
   },
   {
    "duration": 728,
    "start_time": "2021-06-12T10:42:44.155Z"
   },
   {
    "duration": 6,
    "start_time": "2021-06-12T10:42:44.885Z"
   },
   {
    "duration": 25,
    "start_time": "2021-06-12T10:42:44.893Z"
   },
   {
    "duration": 9,
    "start_time": "2021-06-12T10:42:44.920Z"
   },
   {
    "duration": 22,
    "start_time": "2021-06-12T10:42:44.932Z"
   },
   {
    "duration": 8,
    "start_time": "2021-06-12T10:42:44.983Z"
   },
   {
    "duration": 25,
    "start_time": "2021-06-12T10:42:44.993Z"
   },
   {
    "duration": 1543,
    "start_time": "2021-06-12T10:42:45.020Z"
   },
   {
    "duration": 34,
    "start_time": "2021-06-12T10:42:46.565Z"
   },
   {
    "duration": 1525,
    "start_time": "2021-06-12T10:42:46.602Z"
   },
   {
    "duration": 94,
    "start_time": "2021-06-12T10:42:48.129Z"
   },
   {
    "duration": 30,
    "start_time": "2021-06-12T10:42:48.226Z"
   },
   {
    "duration": 509,
    "start_time": "2021-06-12T10:42:48.283Z"
   },
   {
    "duration": 15,
    "start_time": "2021-06-12T10:42:48.794Z"
   },
   {
    "duration": 39,
    "start_time": "2021-06-12T10:42:48.812Z"
   },
   {
    "duration": 40,
    "start_time": "2021-06-12T10:42:48.854Z"
   },
   {
    "duration": 487,
    "start_time": "2021-06-12T10:42:48.896Z"
   },
   {
    "duration": 10,
    "start_time": "2021-06-12T10:42:49.385Z"
   },
   {
    "duration": 10,
    "start_time": "2021-06-12T10:42:49.398Z"
   },
   {
    "duration": 39,
    "start_time": "2021-06-12T10:42:49.410Z"
   },
   {
    "duration": 16,
    "start_time": "2021-06-12T10:42:49.484Z"
   },
   {
    "duration": 601,
    "start_time": "2021-06-12T10:42:49.503Z"
   },
   {
    "duration": 14,
    "start_time": "2021-06-12T10:42:50.107Z"
   },
   {
    "duration": 84,
    "start_time": "2021-06-12T10:42:50.124Z"
   },
   {
    "duration": 16,
    "start_time": "2021-06-12T10:42:50.211Z"
   },
   {
    "duration": 9,
    "start_time": "2021-06-12T10:42:50.230Z"
   },
   {
    "duration": 41,
    "start_time": "2021-06-12T10:42:50.243Z"
   },
   {
    "duration": 26,
    "start_time": "2021-06-12T10:42:50.287Z"
   },
   {
    "duration": 22,
    "start_time": "2021-06-12T10:42:50.316Z"
   },
   {
    "duration": 50,
    "start_time": "2021-06-12T10:42:50.341Z"
   },
   {
    "duration": 26,
    "start_time": "2021-06-12T10:42:50.393Z"
   },
   {
    "duration": 12,
    "start_time": "2021-06-12T10:42:50.421Z"
   },
   {
    "duration": 45,
    "start_time": "2021-06-12T10:56:25.740Z"
   },
   {
    "duration": 18,
    "start_time": "2021-06-12T10:56:25.787Z"
   },
   {
    "duration": 17,
    "start_time": "2021-06-12T10:56:25.808Z"
   },
   {
    "duration": 64,
    "start_time": "2021-06-12T10:56:25.828Z"
   },
   {
    "duration": 28,
    "start_time": "2021-06-12T10:56:28.154Z"
   },
   {
    "duration": 17,
    "start_time": "2021-06-12T11:13:13.437Z"
   },
   {
    "duration": 35,
    "start_time": "2021-06-12T11:13:48.567Z"
   },
   {
    "duration": 31,
    "start_time": "2021-06-12T11:22:37.910Z"
   },
   {
    "duration": 34,
    "start_time": "2021-06-12T11:23:55.016Z"
   },
   {
    "duration": 33,
    "start_time": "2021-06-12T11:24:00.336Z"
   },
   {
    "duration": 416,
    "start_time": "2021-06-12T11:27:36.134Z"
   },
   {
    "duration": 376,
    "start_time": "2021-06-12T14:16:46.642Z"
   },
   {
    "duration": 1580,
    "start_time": "2021-06-12T14:16:54.326Z"
   },
   {
    "duration": 22,
    "start_time": "2021-06-12T14:16:55.909Z"
   },
   {
    "duration": 15,
    "start_time": "2021-06-12T14:16:55.934Z"
   },
   {
    "duration": 42,
    "start_time": "2021-06-12T14:16:55.952Z"
   },
   {
    "duration": 43,
    "start_time": "2021-06-12T14:16:55.997Z"
   },
   {
    "duration": 19,
    "start_time": "2021-06-12T14:16:56.042Z"
   },
   {
    "duration": 11,
    "start_time": "2021-06-12T14:16:56.064Z"
   },
   {
    "duration": 15,
    "start_time": "2021-06-12T14:16:56.079Z"
   },
   {
    "duration": 33,
    "start_time": "2021-06-12T14:16:56.097Z"
   },
   {
    "duration": 16,
    "start_time": "2021-06-12T14:16:56.132Z"
   },
   {
    "duration": 6,
    "start_time": "2021-06-12T14:16:56.150Z"
   },
   {
    "duration": 10,
    "start_time": "2021-06-12T14:16:56.158Z"
   },
   {
    "duration": 82,
    "start_time": "2021-06-12T14:16:56.170Z"
   },
   {
    "duration": 10,
    "start_time": "2021-06-12T14:16:56.254Z"
   },
   {
    "duration": 669,
    "start_time": "2021-06-12T14:16:56.267Z"
   },
   {
    "duration": 17,
    "start_time": "2021-06-12T14:16:56.939Z"
   },
   {
    "duration": 9,
    "start_time": "2021-06-12T14:16:56.959Z"
   },
   {
    "duration": 17,
    "start_time": "2021-06-12T14:16:56.970Z"
   },
   {
    "duration": 66,
    "start_time": "2021-06-12T14:16:56.990Z"
   },
   {
    "duration": 29,
    "start_time": "2021-06-12T14:16:57.058Z"
   },
   {
    "duration": 3823,
    "start_time": "2021-06-12T14:16:57.090Z"
   },
   {
    "duration": 47,
    "start_time": "2021-06-12T14:17:00.917Z"
   },
   {
    "duration": 25,
    "start_time": "2021-06-12T14:17:00.970Z"
   },
   {
    "duration": 3752,
    "start_time": "2021-06-12T14:17:00.998Z"
   },
   {
    "duration": 24,
    "start_time": "2021-06-12T14:17:04.752Z"
   },
   {
    "duration": 49,
    "start_time": "2021-06-12T14:17:04.779Z"
   },
   {
    "duration": 14,
    "start_time": "2021-06-12T14:17:04.831Z"
   },
   {
    "duration": 239,
    "start_time": "2021-06-12T14:17:04.848Z"
   },
   {
    "duration": 56,
    "start_time": "2021-06-12T14:17:05.089Z"
   },
   {
    "duration": 805,
    "start_time": "2021-06-12T14:17:05.148Z"
   },
   {
    "duration": 7,
    "start_time": "2021-06-12T14:17:05.956Z"
   },
   {
    "duration": 29,
    "start_time": "2021-06-12T14:17:05.966Z"
   },
   {
    "duration": 36,
    "start_time": "2021-06-12T14:17:05.999Z"
   },
   {
    "duration": 24,
    "start_time": "2021-06-12T14:17:06.038Z"
   },
   {
    "duration": 9,
    "start_time": "2021-06-12T14:17:06.065Z"
   },
   {
    "duration": 63,
    "start_time": "2021-06-12T14:17:06.077Z"
   },
   {
    "duration": 1540,
    "start_time": "2021-06-12T14:17:06.142Z"
   },
   {
    "duration": 43,
    "start_time": "2021-06-12T14:17:07.684Z"
   },
   {
    "duration": 1537,
    "start_time": "2021-06-12T14:17:07.729Z"
   },
   {
    "duration": 108,
    "start_time": "2021-06-12T14:17:09.268Z"
   },
   {
    "duration": 57,
    "start_time": "2021-06-12T14:17:09.378Z"
   },
   {
    "duration": 609,
    "start_time": "2021-06-12T14:17:09.437Z"
   },
   {
    "duration": 16,
    "start_time": "2021-06-12T14:17:10.048Z"
   },
   {
    "duration": 68,
    "start_time": "2021-06-12T14:17:10.067Z"
   },
   {
    "duration": 16,
    "start_time": "2021-06-12T14:17:10.137Z"
   },
   {
    "duration": 527,
    "start_time": "2021-06-12T14:17:10.156Z"
   },
   {
    "duration": 10,
    "start_time": "2021-06-12T14:17:10.686Z"
   },
   {
    "duration": 28,
    "start_time": "2021-06-12T14:17:10.699Z"
   },
   {
    "duration": 44,
    "start_time": "2021-06-12T14:17:10.730Z"
   },
   {
    "duration": 50,
    "start_time": "2021-06-12T14:17:10.777Z"
   },
   {
    "duration": 669,
    "start_time": "2021-06-12T14:17:10.829Z"
   },
   {
    "duration": 26,
    "start_time": "2021-06-12T14:17:11.500Z"
   },
   {
    "duration": 65,
    "start_time": "2021-06-12T14:17:11.528Z"
   },
   {
    "duration": 42,
    "start_time": "2021-06-12T14:17:11.595Z"
   },
   {
    "duration": 8,
    "start_time": "2021-06-12T14:17:11.640Z"
   },
   {
    "duration": 9,
    "start_time": "2021-06-12T14:17:11.651Z"
   },
   {
    "duration": 63,
    "start_time": "2021-06-12T14:17:11.662Z"
   },
   {
    "duration": 24,
    "start_time": "2021-06-12T14:17:11.728Z"
   },
   {
    "duration": 15,
    "start_time": "2021-06-12T14:17:11.755Z"
   },
   {
    "duration": 63,
    "start_time": "2021-06-12T14:17:11.773Z"
   },
   {
    "duration": 12,
    "start_time": "2021-06-12T14:17:11.838Z"
   },
   {
    "duration": 1053,
    "start_time": "2021-06-12T14:19:47.297Z"
   },
   {
    "duration": 635,
    "start_time": "2021-06-12T14:19:51.772Z"
   },
   {
    "duration": 634,
    "start_time": "2021-06-12T14:19:53.319Z"
   },
   {
    "duration": 977,
    "start_time": "2021-06-12T14:27:15.447Z"
   },
   {
    "duration": 112,
    "start_time": "2021-06-12T14:27:29.398Z"
   },
   {
    "duration": 124,
    "start_time": "2021-06-12T14:27:31.102Z"
   },
   {
    "duration": 793,
    "start_time": "2021-06-12T14:27:35.767Z"
   },
   {
    "duration": 679,
    "start_time": "2021-06-12T14:27:52.831Z"
   },
   {
    "duration": 752,
    "start_time": "2021-06-12T14:28:08.342Z"
   },
   {
    "duration": 664,
    "start_time": "2021-06-12T14:28:24.661Z"
   },
   {
    "duration": 669,
    "start_time": "2021-06-12T14:28:31.711Z"
   },
   {
    "duration": 657,
    "start_time": "2021-06-12T14:28:36.661Z"
   },
   {
    "duration": 1020,
    "start_time": "2021-06-12T14:38:12.473Z"
   },
   {
    "duration": 666,
    "start_time": "2021-06-12T14:38:44.644Z"
   },
   {
    "duration": 1066,
    "start_time": "2021-06-12T14:39:07.748Z"
   },
   {
    "duration": 1032,
    "start_time": "2021-06-12T14:39:19.868Z"
   },
   {
    "duration": 1174,
    "start_time": "2021-06-12T14:39:26.715Z"
   },
   {
    "duration": 799,
    "start_time": "2021-06-12T14:39:31.259Z"
   },
   {
    "duration": 756,
    "start_time": "2021-06-12T14:39:50.571Z"
   },
   {
    "duration": 855,
    "start_time": "2021-06-12T14:39:55.091Z"
   },
   {
    "duration": 733,
    "start_time": "2021-06-12T14:39:59.994Z"
   },
   {
    "duration": 665,
    "start_time": "2021-06-12T14:40:05.099Z"
   },
   {
    "duration": 686,
    "start_time": "2021-06-12T14:40:27.172Z"
   },
   {
    "duration": 692,
    "start_time": "2021-06-12T14:40:35.620Z"
   },
   {
    "duration": 19,
    "start_time": "2021-06-12T16:19:34.347Z"
   },
   {
    "duration": 15,
    "start_time": "2021-06-12T16:19:50.409Z"
   },
   {
    "duration": 18,
    "start_time": "2021-06-12T17:12:34.432Z"
   },
   {
    "duration": 15,
    "start_time": "2021-06-12T17:24:52.525Z"
   },
   {
    "duration": 29,
    "start_time": "2021-06-12T17:24:58.659Z"
   },
   {
    "duration": 22,
    "start_time": "2021-06-12T17:25:07.230Z"
   },
   {
    "duration": 33,
    "start_time": "2021-06-12T17:25:34.420Z"
   },
   {
    "duration": 10,
    "start_time": "2021-06-12T17:25:42.748Z"
   },
   {
    "duration": 10,
    "start_time": "2021-06-12T17:25:48.850Z"
   },
   {
    "duration": 12,
    "start_time": "2021-06-12T17:25:58.827Z"
   },
   {
    "duration": 11,
    "start_time": "2021-06-12T17:26:21.985Z"
   },
   {
    "duration": 10,
    "start_time": "2021-06-12T17:26:28.887Z"
   },
   {
    "duration": 432,
    "start_time": "2021-06-12T17:26:31.324Z"
   },
   {
    "duration": 10,
    "start_time": "2021-06-12T17:26:32.666Z"
   },
   {
    "duration": 9,
    "start_time": "2021-06-12T17:26:35.309Z"
   },
   {
    "duration": 10,
    "start_time": "2021-06-12T17:27:23.995Z"
   },
   {
    "duration": 28,
    "start_time": "2021-06-12T17:27:27.715Z"
   },
   {
    "duration": 11,
    "start_time": "2021-06-12T17:27:32.659Z"
   },
   {
    "duration": 28,
    "start_time": "2021-06-12T17:27:43.642Z"
   },
   {
    "duration": 367,
    "start_time": "2021-06-12T17:27:46.309Z"
   },
   {
    "duration": 6,
    "start_time": "2021-06-12T17:27:55.648Z"
   },
   {
    "duration": 8423,
    "start_time": "2021-06-12T17:28:04.162Z"
   },
   {
    "duration": 3,
    "start_time": "2021-06-12T17:28:34.152Z"
   },
   {
    "duration": -135,
    "start_time": "2021-06-12T17:28:49.035Z"
   },
   {
    "duration": 352,
    "start_time": "2021-06-12T17:28:50.173Z"
   },
   {
    "duration": 362,
    "start_time": "2021-06-12T17:28:51.472Z"
   },
   {
    "duration": 35,
    "start_time": "2021-06-12T17:28:57.947Z"
   },
   {
    "duration": 29,
    "start_time": "2021-06-12T17:29:09.324Z"
   },
   {
    "duration": 12,
    "start_time": "2021-06-12T17:30:52.020Z"
   },
   {
    "duration": 9,
    "start_time": "2021-06-12T17:30:57.266Z"
   },
   {
    "duration": 13,
    "start_time": "2021-06-12T17:31:12.865Z"
   },
   {
    "duration": 10,
    "start_time": "2021-06-12T17:32:31.963Z"
   },
   {
    "duration": 16,
    "start_time": "2021-06-12T17:33:06.203Z"
   },
   {
    "duration": 5,
    "start_time": "2021-06-12T17:33:12.033Z"
   },
   {
    "duration": 5,
    "start_time": "2021-06-12T17:33:15.257Z"
   },
   {
    "duration": 5,
    "start_time": "2021-06-12T17:33:18.169Z"
   },
   {
    "duration": 24,
    "start_time": "2021-06-12T17:34:05.673Z"
   },
   {
    "duration": 7,
    "start_time": "2021-06-12T17:34:19.532Z"
   },
   {
    "duration": 5,
    "start_time": "2021-06-12T17:34:20.762Z"
   },
   {
    "duration": 24,
    "start_time": "2021-06-12T17:35:01.428Z"
   },
   {
    "duration": 25,
    "start_time": "2021-06-12T17:35:10.745Z"
   },
   {
    "duration": 360,
    "start_time": "2021-06-12T17:35:35.689Z"
   },
   {
    "duration": 25,
    "start_time": "2021-06-12T17:35:47.330Z"
   },
   {
    "duration": 25,
    "start_time": "2021-06-12T17:35:50.073Z"
   },
   {
    "duration": 25,
    "start_time": "2021-06-12T17:36:00.817Z"
   },
   {
    "duration": 28,
    "start_time": "2021-06-12T17:36:04.922Z"
   },
   {
    "duration": 126,
    "start_time": "2021-06-12T17:36:16.546Z"
   },
   {
    "duration": 26,
    "start_time": "2021-06-12T17:36:25.960Z"
   },
   {
    "duration": 28,
    "start_time": "2021-06-12T17:36:29.514Z"
   },
   {
    "duration": 26,
    "start_time": "2021-06-12T17:36:31.560Z"
   },
   {
    "duration": 24,
    "start_time": "2021-06-12T17:36:38.265Z"
   },
   {
    "duration": 27,
    "start_time": "2021-06-12T17:37:39.880Z"
   },
   {
    "duration": 29,
    "start_time": "2021-06-12T17:39:11.082Z"
   },
   {
    "duration": 27,
    "start_time": "2021-06-12T17:40:28.385Z"
   },
   {
    "duration": 26,
    "start_time": "2021-06-12T17:41:10.367Z"
   },
   {
    "duration": 371,
    "start_time": "2021-06-12T17:41:31.089Z"
   },
   {
    "duration": 110,
    "start_time": "2021-06-12T17:41:45.730Z"
   },
   {
    "duration": 175,
    "start_time": "2021-06-12T17:41:53.913Z"
   },
   {
    "duration": 121,
    "start_time": "2021-06-12T17:41:55.865Z"
   },
   {
    "duration": 116,
    "start_time": "2021-06-12T17:42:27.048Z"
   },
   {
    "duration": 117,
    "start_time": "2021-06-12T17:42:41.167Z"
   },
   {
    "duration": 121,
    "start_time": "2021-06-12T17:42:45.229Z"
   },
   {
    "duration": 122,
    "start_time": "2021-06-12T17:42:49.767Z"
   },
   {
    "duration": 130,
    "start_time": "2021-06-12T17:42:55.836Z"
   },
   {
    "duration": 148,
    "start_time": "2021-06-12T17:42:58.303Z"
   },
   {
    "duration": 325,
    "start_time": "2021-06-12T17:43:00.047Z"
   },
   {
    "duration": 319,
    "start_time": "2021-06-12T17:43:08.328Z"
   },
   {
    "duration": 133,
    "start_time": "2021-06-12T17:43:14.946Z"
   },
   {
    "duration": 137,
    "start_time": "2021-06-12T17:43:17.798Z"
   },
   {
    "duration": 353,
    "start_time": "2021-06-12T17:43:22.888Z"
   },
   {
    "duration": 113,
    "start_time": "2021-06-12T17:45:28.402Z"
   },
   {
    "duration": 220,
    "start_time": "2021-06-12T17:45:29.539Z"
   },
   {
    "duration": 29,
    "start_time": "2021-06-12T17:46:19.726Z"
   },
   {
    "duration": 27,
    "start_time": "2021-06-12T17:46:29.049Z"
   },
   {
    "duration": 25,
    "start_time": "2021-06-12T17:46:30.911Z"
   },
   {
    "duration": 26,
    "start_time": "2021-06-12T17:46:33.768Z"
   },
   {
    "duration": 28,
    "start_time": "2021-06-12T17:46:37.402Z"
   },
   {
    "duration": 28,
    "start_time": "2021-06-12T17:46:42.925Z"
   },
   {
    "duration": 27,
    "start_time": "2021-06-12T17:46:46.354Z"
   },
   {
    "duration": 28,
    "start_time": "2021-06-12T17:46:49.503Z"
   },
   {
    "duration": 370,
    "start_time": "2021-06-12T17:46:53.687Z"
   },
   {
    "duration": 29,
    "start_time": "2021-06-12T17:46:55.649Z"
   },
   {
    "duration": 27,
    "start_time": "2021-06-12T17:46:57.952Z"
   },
   {
    "duration": 30,
    "start_time": "2021-06-12T17:47:20.361Z"
   },
   {
    "duration": 28,
    "start_time": "2021-06-12T17:47:34.976Z"
   },
   {
    "duration": 6,
    "start_time": "2021-06-12T17:52:03.055Z"
   },
   {
    "duration": 6,
    "start_time": "2021-06-12T17:52:12.071Z"
   },
   {
    "duration": 8,
    "start_time": "2021-06-12T17:53:43.119Z"
   },
   {
    "duration": 8,
    "start_time": "2021-06-12T17:53:57.270Z"
   },
   {
    "duration": 114,
    "start_time": "2021-06-12T17:54:28.982Z"
   },
   {
    "duration": 118,
    "start_time": "2021-06-12T17:54:56.447Z"
   },
   {
    "duration": 120,
    "start_time": "2021-06-12T17:55:09.399Z"
   },
   {
    "duration": 114,
    "start_time": "2021-06-12T17:55:19.070Z"
   },
   {
    "duration": 130,
    "start_time": "2021-06-12T17:55:21.904Z"
   },
   {
    "duration": 119,
    "start_time": "2021-06-12T17:55:24.029Z"
   },
   {
    "duration": 859,
    "start_time": "2021-06-12T17:55:29.792Z"
   },
   {
    "duration": 874,
    "start_time": "2021-06-12T17:55:36.653Z"
   },
   {
    "duration": 890,
    "start_time": "2021-06-12T17:55:43.951Z"
   },
   {
    "duration": 132,
    "start_time": "2021-06-12T17:57:44.478Z"
   },
   {
    "duration": 7,
    "start_time": "2021-06-12T17:57:58.950Z"
   },
   {
    "duration": 7,
    "start_time": "2021-06-12T17:58:19.703Z"
   },
   {
    "duration": 7,
    "start_time": "2021-06-12T17:58:49.238Z"
   },
   {
    "duration": 8,
    "start_time": "2021-06-12T17:58:52.428Z"
   },
   {
    "duration": 9,
    "start_time": "2021-06-12T18:02:38.582Z"
   },
   {
    "duration": 8,
    "start_time": "2021-06-12T18:02:57.910Z"
   },
   {
    "duration": 9,
    "start_time": "2021-06-12T18:03:23.166Z"
   },
   {
    "duration": 1541,
    "start_time": "2021-06-12T18:11:32.015Z"
   },
   {
    "duration": 25,
    "start_time": "2021-06-12T18:11:33.559Z"
   },
   {
    "duration": 41,
    "start_time": "2021-06-12T18:11:33.588Z"
   },
   {
    "duration": 43,
    "start_time": "2021-06-12T18:11:33.633Z"
   },
   {
    "duration": 46,
    "start_time": "2021-06-12T18:11:33.679Z"
   },
   {
    "duration": 14,
    "start_time": "2021-06-12T18:11:33.728Z"
   },
   {
    "duration": 12,
    "start_time": "2021-06-12T18:11:33.745Z"
   },
   {
    "duration": 16,
    "start_time": "2021-06-12T18:11:33.763Z"
   },
   {
    "duration": 48,
    "start_time": "2021-06-12T18:11:33.782Z"
   },
   {
    "duration": 17,
    "start_time": "2021-06-12T18:11:33.832Z"
   },
   {
    "duration": 5,
    "start_time": "2021-06-12T18:11:33.851Z"
   },
   {
    "duration": 10,
    "start_time": "2021-06-12T18:11:33.859Z"
   },
   {
    "duration": 79,
    "start_time": "2021-06-12T18:11:33.871Z"
   },
   {
    "duration": 10,
    "start_time": "2021-06-12T18:11:33.953Z"
   },
   {
    "duration": 718,
    "start_time": "2021-06-12T18:11:33.966Z"
   },
   {
    "duration": 38,
    "start_time": "2021-06-12T18:11:34.687Z"
   },
   {
    "duration": 11,
    "start_time": "2021-06-12T18:11:34.728Z"
   },
   {
    "duration": 18,
    "start_time": "2021-06-12T18:11:34.741Z"
   },
   {
    "duration": 68,
    "start_time": "2021-06-12T18:11:34.762Z"
   },
   {
    "duration": 30,
    "start_time": "2021-06-12T18:11:34.833Z"
   },
   {
    "duration": 3793,
    "start_time": "2021-06-12T18:11:34.866Z"
   },
   {
    "duration": 43,
    "start_time": "2021-06-12T18:11:38.661Z"
   },
   {
    "duration": 26,
    "start_time": "2021-06-12T18:11:38.730Z"
   },
   {
    "duration": 3809,
    "start_time": "2021-06-12T18:11:38.760Z"
   },
   {
    "duration": 25,
    "start_time": "2021-06-12T18:11:42.573Z"
   },
   {
    "duration": 46,
    "start_time": "2021-06-12T18:11:42.601Z"
   },
   {
    "duration": 17,
    "start_time": "2021-06-12T18:11:42.650Z"
   },
   {
    "duration": 257,
    "start_time": "2021-06-12T18:11:42.670Z"
   },
   {
    "duration": 38,
    "start_time": "2021-06-12T18:11:42.930Z"
   },
   {
    "duration": 838,
    "start_time": "2021-06-12T18:11:42.971Z"
   },
   {
    "duration": 15,
    "start_time": "2021-06-12T18:11:43.811Z"
   },
   {
    "duration": 29,
    "start_time": "2021-06-12T18:11:43.828Z"
   },
   {
    "duration": 11,
    "start_time": "2021-06-12T18:11:43.859Z"
   },
   {
    "duration": 35,
    "start_time": "2021-06-12T18:11:43.873Z"
   },
   {
    "duration": 8,
    "start_time": "2021-06-12T18:11:43.925Z"
   },
   {
    "duration": 37,
    "start_time": "2021-06-12T18:11:43.936Z"
   },
   {
    "duration": 1540,
    "start_time": "2021-06-12T18:11:43.976Z"
   },
   {
    "duration": 26,
    "start_time": "2021-06-12T18:11:45.526Z"
   },
   {
    "duration": 1511,
    "start_time": "2021-06-12T18:11:45.555Z"
   },
   {
    "duration": 99,
    "start_time": "2021-06-12T18:11:47.069Z"
   },
   {
    "duration": 56,
    "start_time": "2021-06-12T18:11:47.171Z"
   },
   {
    "duration": 556,
    "start_time": "2021-06-12T18:11:47.229Z"
   },
   {
    "duration": 15,
    "start_time": "2021-06-12T18:11:47.788Z"
   },
   {
    "duration": 56,
    "start_time": "2021-06-12T18:11:47.805Z"
   },
   {
    "duration": 15,
    "start_time": "2021-06-12T18:11:47.863Z"
   },
   {
    "duration": 540,
    "start_time": "2021-06-12T18:11:47.881Z"
   },
   {
    "duration": 10,
    "start_time": "2021-06-12T18:11:48.423Z"
   },
   {
    "duration": 14,
    "start_time": "2021-06-12T18:11:48.435Z"
   },
   {
    "duration": 35,
    "start_time": "2021-06-12T18:11:48.452Z"
   },
   {
    "duration": 8,
    "start_time": "2021-06-12T18:11:48.489Z"
   },
   {
    "duration": 180,
    "start_time": "2021-06-12T18:11:48.499Z"
   },
   {
    "duration": 16,
    "start_time": "2021-06-12T18:11:48.681Z"
   },
   {
    "duration": 542,
    "start_time": "2021-06-12T18:11:48.699Z"
   },
   {
    "duration": 14,
    "start_time": "2021-06-12T18:11:49.243Z"
   },
   {
    "duration": 82,
    "start_time": "2021-06-12T18:11:49.259Z"
   },
   {
    "duration": 17,
    "start_time": "2021-06-12T18:11:49.343Z"
   },
   {
    "duration": 12,
    "start_time": "2021-06-12T18:11:49.362Z"
   },
   {
    "duration": 13,
    "start_time": "2021-06-12T18:11:49.377Z"
   },
   {
    "duration": 50,
    "start_time": "2021-06-12T18:11:49.393Z"
   },
   {
    "duration": 20,
    "start_time": "2021-06-12T18:11:49.445Z"
   },
   {
    "duration": 30,
    "start_time": "2021-06-12T18:11:49.467Z"
   },
   {
    "duration": 39,
    "start_time": "2021-06-12T18:11:49.499Z"
   },
   {
    "duration": 12,
    "start_time": "2021-06-12T18:11:49.540Z"
   },
   {
    "duration": 224,
    "start_time": "2021-06-12T18:12:36.989Z"
   },
   {
    "duration": 9278,
    "start_time": "2021-06-12T18:13:18.180Z"
   },
   {
    "duration": 950,
    "start_time": "2021-06-12T18:13:51.629Z"
   },
   {
    "duration": 886,
    "start_time": "2021-06-12T18:14:03.123Z"
   },
   {
    "duration": 978,
    "start_time": "2021-06-12T18:14:08.851Z"
   },
   {
    "duration": 893,
    "start_time": "2021-06-12T18:14:23.923Z"
   },
   {
    "duration": 921,
    "start_time": "2021-06-12T18:14:26.748Z"
   },
   {
    "duration": 1504,
    "start_time": "2021-06-12T18:14:43.157Z"
   },
   {
    "duration": 881,
    "start_time": "2021-06-12T18:14:45.725Z"
   },
   {
    "duration": 899,
    "start_time": "2021-06-12T18:14:51.901Z"
   },
   {
    "duration": 883,
    "start_time": "2021-06-12T18:14:55.147Z"
   },
   {
    "duration": 9298,
    "start_time": "2021-06-12T18:15:04.979Z"
   },
   {
    "duration": 34,
    "start_time": "2021-06-12T18:15:44.925Z"
   },
   {
    "duration": 543,
    "start_time": "2021-06-12T18:15:48.507Z"
   },
   {
    "duration": 548,
    "start_time": "2021-06-12T18:16:06.331Z"
   },
   {
    "duration": 535,
    "start_time": "2021-06-12T18:16:12.932Z"
   },
   {
    "duration": 546,
    "start_time": "2021-06-12T18:16:15.780Z"
   },
   {
    "duration": 518,
    "start_time": "2021-06-12T18:16:44.638Z"
   },
   {
    "duration": 370,
    "start_time": "2021-06-12T18:17:01.267Z"
   },
   {
    "duration": 9491,
    "start_time": "2021-06-12T18:18:04.740Z"
   },
   {
    "duration": 46,
    "start_time": "2021-06-12T18:18:30.732Z"
   },
   {
    "duration": 17,
    "start_time": "2021-06-12T18:18:33.043Z"
   },
   {
    "duration": 544,
    "start_time": "2021-06-12T18:18:35.052Z"
   },
   {
    "duration": 1560,
    "start_time": "2021-06-12T18:20:25.209Z"
   },
   {
    "duration": 23,
    "start_time": "2021-06-12T18:20:26.772Z"
   },
   {
    "duration": 17,
    "start_time": "2021-06-12T18:20:26.798Z"
   },
   {
    "duration": 49,
    "start_time": "2021-06-12T18:20:26.818Z"
   },
   {
    "duration": 19,
    "start_time": "2021-06-12T18:20:26.869Z"
   },
   {
    "duration": 40,
    "start_time": "2021-06-12T18:20:26.890Z"
   },
   {
    "duration": 12,
    "start_time": "2021-06-12T18:20:26.932Z"
   },
   {
    "duration": 12,
    "start_time": "2021-06-12T18:20:26.948Z"
   },
   {
    "duration": 7,
    "start_time": "2021-06-12T18:20:26.962Z"
   },
   {
    "duration": 18,
    "start_time": "2021-06-12T18:20:26.971Z"
   },
   {
    "duration": 39,
    "start_time": "2021-06-12T18:20:26.991Z"
   },
   {
    "duration": 9,
    "start_time": "2021-06-12T18:20:27.034Z"
   },
   {
    "duration": 84,
    "start_time": "2021-06-12T18:20:27.046Z"
   },
   {
    "duration": 13,
    "start_time": "2021-06-12T18:20:27.133Z"
   },
   {
    "duration": 719,
    "start_time": "2021-06-12T18:20:27.149Z"
   },
   {
    "duration": 21,
    "start_time": "2021-06-12T18:20:27.871Z"
   },
   {
    "duration": 34,
    "start_time": "2021-06-12T18:20:27.895Z"
   },
   {
    "duration": 19,
    "start_time": "2021-06-12T18:20:27.932Z"
   },
   {
    "duration": 37,
    "start_time": "2021-06-12T18:20:27.953Z"
   },
   {
    "duration": 58,
    "start_time": "2021-06-12T18:20:27.992Z"
   },
   {
    "duration": 4026,
    "start_time": "2021-06-12T18:20:28.052Z"
   },
   {
    "duration": 60,
    "start_time": "2021-06-12T18:20:32.081Z"
   },
   {
    "duration": 27,
    "start_time": "2021-06-12T18:20:32.148Z"
   },
   {
    "duration": 3969,
    "start_time": "2021-06-12T18:20:32.179Z"
   },
   {
    "duration": 26,
    "start_time": "2021-06-12T18:20:36.152Z"
   },
   {
    "duration": 55,
    "start_time": "2021-06-12T18:20:36.181Z"
   },
   {
    "duration": 15,
    "start_time": "2021-06-12T18:20:36.238Z"
   },
   {
    "duration": 353,
    "start_time": "2021-06-12T18:20:36.256Z"
   },
   {
    "duration": 60,
    "start_time": "2021-06-12T18:20:36.613Z"
   },
   {
    "duration": 1105,
    "start_time": "2021-06-12T18:20:36.676Z"
   },
   {
    "duration": 7,
    "start_time": "2021-06-12T18:20:37.784Z"
   },
   {
    "duration": 39,
    "start_time": "2021-06-12T18:20:37.793Z"
   },
   {
    "duration": 10,
    "start_time": "2021-06-12T18:20:37.835Z"
   },
   {
    "duration": 23,
    "start_time": "2021-06-12T18:20:37.847Z"
   },
   {
    "duration": 10,
    "start_time": "2021-06-12T18:20:37.872Z"
   },
   {
    "duration": 59,
    "start_time": "2021-06-12T18:20:37.884Z"
   },
   {
    "duration": 1593,
    "start_time": "2021-06-12T18:20:37.946Z"
   },
   {
    "duration": 26,
    "start_time": "2021-06-12T18:20:39.541Z"
   },
   {
    "duration": 1542,
    "start_time": "2021-06-12T18:20:39.569Z"
   },
   {
    "duration": 114,
    "start_time": "2021-06-12T18:20:41.113Z"
   },
   {
    "duration": 33,
    "start_time": "2021-06-12T18:20:41.229Z"
   },
   {
    "duration": 584,
    "start_time": "2021-06-12T18:20:41.265Z"
   },
   {
    "duration": 16,
    "start_time": "2021-06-12T18:20:41.853Z"
   },
   {
    "duration": 72,
    "start_time": "2021-06-12T18:20:41.871Z"
   },
   {
    "duration": 16,
    "start_time": "2021-06-12T18:20:41.946Z"
   },
   {
    "duration": 567,
    "start_time": "2021-06-12T18:20:41.964Z"
   },
   {
    "duration": 11,
    "start_time": "2021-06-12T18:20:42.533Z"
   },
   {
    "duration": 12,
    "start_time": "2021-06-12T18:20:42.547Z"
   },
   {
    "duration": 25,
    "start_time": "2021-06-12T18:20:42.562Z"
   },
   {
    "duration": 41,
    "start_time": "2021-06-12T18:20:42.589Z"
   },
   {
    "duration": 166,
    "start_time": "2021-06-12T18:20:42.633Z"
   },
   {
    "duration": 30,
    "start_time": "2021-06-12T18:20:42.802Z"
   },
   {
    "duration": 661,
    "start_time": "2021-06-12T18:20:42.835Z"
   },
   {
    "duration": 13,
    "start_time": "2021-06-12T18:20:43.498Z"
   },
   {
    "duration": 79,
    "start_time": "2021-06-12T18:20:43.513Z"
   },
   {
    "duration": 17,
    "start_time": "2021-06-12T18:20:43.594Z"
   },
   {
    "duration": 18,
    "start_time": "2021-06-12T18:20:43.613Z"
   },
   {
    "duration": 17,
    "start_time": "2021-06-12T18:20:43.634Z"
   },
   {
    "duration": 29,
    "start_time": "2021-06-12T18:20:43.653Z"
   },
   {
    "duration": 21,
    "start_time": "2021-06-12T18:20:43.685Z"
   },
   {
    "duration": 17,
    "start_time": "2021-06-12T18:20:43.708Z"
   },
   {
    "duration": 27,
    "start_time": "2021-06-12T18:20:43.727Z"
   },
   {
    "duration": 14,
    "start_time": "2021-06-12T18:20:43.757Z"
   },
   {
    "duration": 216,
    "start_time": "2021-06-12T18:25:26.048Z"
   },
   {
    "duration": 8826,
    "start_time": "2021-06-12T18:26:50.048Z"
   },
   {
    "duration": 228,
    "start_time": "2021-06-12T18:27:11.007Z"
   },
   {
    "duration": 1604,
    "start_time": "2021-06-12T18:27:26.619Z"
   },
   {
    "duration": 24,
    "start_time": "2021-06-12T18:27:28.225Z"
   },
   {
    "duration": 15,
    "start_time": "2021-06-12T18:27:28.252Z"
   },
   {
    "duration": 63,
    "start_time": "2021-06-12T18:27:28.270Z"
   },
   {
    "duration": 18,
    "start_time": "2021-06-12T18:27:28.336Z"
   },
   {
    "duration": 11,
    "start_time": "2021-06-12T18:27:28.357Z"
   },
   {
    "duration": 12,
    "start_time": "2021-06-12T18:27:28.370Z"
   },
   {
    "duration": 46,
    "start_time": "2021-06-12T18:27:28.386Z"
   },
   {
    "duration": 7,
    "start_time": "2021-06-12T18:27:28.435Z"
   },
   {
    "duration": 18,
    "start_time": "2021-06-12T18:27:28.444Z"
   },
   {
    "duration": 5,
    "start_time": "2021-06-12T18:27:28.464Z"
   },
   {
    "duration": 9,
    "start_time": "2021-06-12T18:27:28.471Z"
   },
   {
    "duration": 81,
    "start_time": "2021-06-12T18:27:28.483Z"
   },
   {
    "duration": 10,
    "start_time": "2021-06-12T18:27:28.566Z"
   },
   {
    "duration": 668,
    "start_time": "2021-06-12T18:27:28.578Z"
   },
   {
    "duration": 18,
    "start_time": "2021-06-12T18:27:29.248Z"
   },
   {
    "duration": 9,
    "start_time": "2021-06-12T18:27:29.269Z"
   },
   {
    "duration": 50,
    "start_time": "2021-06-12T18:27:29.280Z"
   },
   {
    "duration": 35,
    "start_time": "2021-06-12T18:27:29.332Z"
   },
   {
    "duration": 30,
    "start_time": "2021-06-12T18:27:29.369Z"
   },
   {
    "duration": 3806,
    "start_time": "2021-06-12T18:27:29.425Z"
   },
   {
    "duration": 44,
    "start_time": "2021-06-12T18:27:33.233Z"
   },
   {
    "duration": 47,
    "start_time": "2021-06-12T18:27:33.283Z"
   },
   {
    "duration": 3703,
    "start_time": "2021-06-12T18:27:33.333Z"
   },
   {
    "duration": 24,
    "start_time": "2021-06-12T18:27:37.038Z"
   },
   {
    "duration": 23,
    "start_time": "2021-06-12T18:27:37.064Z"
   },
   {
    "duration": 48,
    "start_time": "2021-06-12T18:27:37.089Z"
   },
   {
    "duration": 250,
    "start_time": "2021-06-12T18:27:37.140Z"
   },
   {
    "duration": 56,
    "start_time": "2021-06-12T18:27:37.393Z"
   },
   {
    "duration": 829,
    "start_time": "2021-06-12T18:27:37.452Z"
   },
   {
    "duration": 5,
    "start_time": "2021-06-12T18:27:38.284Z"
   },
   {
    "duration": 46,
    "start_time": "2021-06-12T18:27:38.292Z"
   },
   {
    "duration": 10,
    "start_time": "2021-06-12T18:27:38.341Z"
   },
   {
    "duration": 24,
    "start_time": "2021-06-12T18:27:38.354Z"
   },
   {
    "duration": 46,
    "start_time": "2021-06-12T18:27:38.381Z"
   },
   {
    "duration": 25,
    "start_time": "2021-06-12T18:27:38.430Z"
   },
   {
    "duration": 1560,
    "start_time": "2021-06-12T18:27:38.457Z"
   },
   {
    "duration": 25,
    "start_time": "2021-06-12T18:27:40.020Z"
   },
   {
    "duration": 1637,
    "start_time": "2021-06-12T18:27:40.048Z"
   },
   {
    "duration": 102,
    "start_time": "2021-06-12T18:27:41.688Z"
   },
   {
    "duration": 59,
    "start_time": "2021-06-12T18:27:41.793Z"
   },
   {
    "duration": 585,
    "start_time": "2021-06-12T18:27:41.854Z"
   },
   {
    "duration": 15,
    "start_time": "2021-06-12T18:27:42.442Z"
   },
   {
    "duration": 73,
    "start_time": "2021-06-12T18:27:42.459Z"
   },
   {
    "duration": 18,
    "start_time": "2021-06-12T18:27:42.535Z"
   },
   {
    "duration": 562,
    "start_time": "2021-06-12T18:27:42.556Z"
   },
   {
    "duration": 11,
    "start_time": "2021-06-12T18:27:43.121Z"
   },
   {
    "duration": 16,
    "start_time": "2021-06-12T18:27:43.135Z"
   },
   {
    "duration": 26,
    "start_time": "2021-06-12T18:27:43.154Z"
   },
   {
    "duration": 48,
    "start_time": "2021-06-12T18:27:43.183Z"
   },
   {
    "duration": 171,
    "start_time": "2021-06-12T18:27:43.234Z"
   },
   {
    "duration": 26,
    "start_time": "2021-06-12T18:27:43.407Z"
   },
   {
    "duration": 568,
    "start_time": "2021-06-12T18:27:43.435Z"
   },
   {
    "duration": 27,
    "start_time": "2021-06-12T18:27:44.006Z"
   },
   {
    "duration": 68,
    "start_time": "2021-06-12T18:27:44.036Z"
   },
   {
    "duration": 35,
    "start_time": "2021-06-12T18:27:44.106Z"
   },
   {
    "duration": 11,
    "start_time": "2021-06-12T18:27:44.144Z"
   },
   {
    "duration": 8,
    "start_time": "2021-06-12T18:27:44.158Z"
   },
   {
    "duration": 71,
    "start_time": "2021-06-12T18:27:44.169Z"
   },
   {
    "duration": 22,
    "start_time": "2021-06-12T18:27:44.242Z"
   },
   {
    "duration": 15,
    "start_time": "2021-06-12T18:27:44.267Z"
   },
   {
    "duration": 57,
    "start_time": "2021-06-12T18:27:44.285Z"
   },
   {
    "duration": 14,
    "start_time": "2021-06-12T18:27:44.345Z"
   },
   {
    "duration": 25,
    "start_time": "2021-06-12T18:28:13.062Z"
   },
   {
    "duration": 1572,
    "start_time": "2021-06-12T18:28:23.793Z"
   },
   {
    "duration": 24,
    "start_time": "2021-06-12T18:28:25.368Z"
   },
   {
    "duration": 14,
    "start_time": "2021-06-12T18:28:25.395Z"
   },
   {
    "duration": 56,
    "start_time": "2021-06-12T18:28:25.412Z"
   },
   {
    "duration": 19,
    "start_time": "2021-06-12T18:28:25.470Z"
   },
   {
    "duration": 36,
    "start_time": "2021-06-12T18:28:25.491Z"
   },
   {
    "duration": 12,
    "start_time": "2021-06-12T18:28:25.529Z"
   },
   {
    "duration": 14,
    "start_time": "2021-06-12T18:28:25.545Z"
   },
   {
    "duration": 6,
    "start_time": "2021-06-12T18:28:25.562Z"
   },
   {
    "duration": 15,
    "start_time": "2021-06-12T18:28:25.570Z"
   },
   {
    "duration": 6,
    "start_time": "2021-06-12T18:28:25.625Z"
   },
   {
    "duration": 9,
    "start_time": "2021-06-12T18:28:25.633Z"
   },
   {
    "duration": 46,
    "start_time": "2021-06-12T18:28:25.644Z"
   },
   {
    "duration": 42,
    "start_time": "2021-06-12T18:28:25.693Z"
   },
   {
    "duration": 658,
    "start_time": "2021-06-12T18:28:25.738Z"
   },
   {
    "duration": 34,
    "start_time": "2021-06-12T18:28:26.399Z"
   },
   {
    "duration": 12,
    "start_time": "2021-06-12T18:28:26.436Z"
   },
   {
    "duration": 20,
    "start_time": "2021-06-12T18:28:26.451Z"
   },
   {
    "duration": 76,
    "start_time": "2021-06-12T18:28:26.474Z"
   },
   {
    "duration": 31,
    "start_time": "2021-06-12T18:28:26.552Z"
   },
   {
    "duration": 3831,
    "start_time": "2021-06-12T18:28:26.585Z"
   },
   {
    "duration": 43,
    "start_time": "2021-06-12T18:28:30.426Z"
   },
   {
    "duration": 25,
    "start_time": "2021-06-12T18:28:30.475Z"
   },
   {
    "duration": 3734,
    "start_time": "2021-06-12T18:28:30.527Z"
   },
   {
    "duration": 24,
    "start_time": "2021-06-12T18:28:34.263Z"
   },
   {
    "duration": 47,
    "start_time": "2021-06-12T18:28:34.289Z"
   },
   {
    "duration": 14,
    "start_time": "2021-06-12T18:28:34.338Z"
   },
   {
    "duration": 243,
    "start_time": "2021-06-12T18:28:34.354Z"
   },
   {
    "duration": 48,
    "start_time": "2021-06-12T18:28:34.600Z"
   },
   {
    "duration": 827,
    "start_time": "2021-06-12T18:28:34.650Z"
   },
   {
    "duration": 7,
    "start_time": "2021-06-12T18:28:35.479Z"
   },
   {
    "duration": 41,
    "start_time": "2021-06-12T18:28:35.488Z"
   },
   {
    "duration": 10,
    "start_time": "2021-06-12T18:28:35.532Z"
   },
   {
    "duration": 22,
    "start_time": "2021-06-12T18:28:35.545Z"
   },
   {
    "duration": 9,
    "start_time": "2021-06-12T18:28:35.569Z"
   },
   {
    "duration": 59,
    "start_time": "2021-06-12T18:28:35.581Z"
   },
   {
    "duration": 1552,
    "start_time": "2021-06-12T18:28:35.643Z"
   },
   {
    "duration": 37,
    "start_time": "2021-06-12T18:28:37.198Z"
   },
   {
    "duration": 1517,
    "start_time": "2021-06-12T18:28:37.238Z"
   },
   {
    "duration": 95,
    "start_time": "2021-06-12T18:28:38.757Z"
   },
   {
    "duration": 32,
    "start_time": "2021-06-12T18:28:38.854Z"
   },
   {
    "duration": 593,
    "start_time": "2021-06-12T18:28:38.889Z"
   },
   {
    "duration": 21,
    "start_time": "2021-06-12T18:28:39.485Z"
   },
   {
    "duration": 72,
    "start_time": "2021-06-12T18:28:39.509Z"
   },
   {
    "duration": 49,
    "start_time": "2021-06-12T18:28:39.584Z"
   },
   {
    "duration": 524,
    "start_time": "2021-06-12T18:28:39.635Z"
   },
   {
    "duration": 10,
    "start_time": "2021-06-12T18:28:40.162Z"
   },
   {
    "duration": 21,
    "start_time": "2021-06-12T18:28:40.175Z"
   },
   {
    "duration": 44,
    "start_time": "2021-06-12T18:28:40.198Z"
   },
   {
    "duration": 9,
    "start_time": "2021-06-12T18:28:40.245Z"
   },
   {
    "duration": 174,
    "start_time": "2021-06-12T18:28:40.256Z"
   },
   {
    "duration": 16,
    "start_time": "2021-06-12T18:28:40.433Z"
   },
   {
    "duration": 567,
    "start_time": "2021-06-12T18:28:40.452Z"
   },
   {
    "duration": 14,
    "start_time": "2021-06-12T18:28:41.026Z"
   },
   {
    "duration": 85,
    "start_time": "2021-06-12T18:28:41.042Z"
   },
   {
    "duration": 18,
    "start_time": "2021-06-12T18:28:41.129Z"
   },
   {
    "duration": 9,
    "start_time": "2021-06-12T18:28:41.149Z"
   },
   {
    "duration": 9,
    "start_time": "2021-06-12T18:28:41.160Z"
   },
   {
    "duration": 66,
    "start_time": "2021-06-12T18:28:41.171Z"
   },
   {
    "duration": 22,
    "start_time": "2021-06-12T18:28:41.240Z"
   },
   {
    "duration": 18,
    "start_time": "2021-06-12T18:28:41.264Z"
   },
   {
    "duration": 51,
    "start_time": "2021-06-12T18:28:41.284Z"
   },
   {
    "duration": 14,
    "start_time": "2021-06-12T18:28:41.337Z"
   },
   {
    "duration": 1546,
    "start_time": "2021-06-12T18:29:26.055Z"
   },
   {
    "duration": 24,
    "start_time": "2021-06-12T18:29:27.604Z"
   },
   {
    "duration": 16,
    "start_time": "2021-06-12T18:29:27.633Z"
   },
   {
    "duration": 74,
    "start_time": "2021-06-12T18:29:27.653Z"
   },
   {
    "duration": 21,
    "start_time": "2021-06-12T18:29:27.730Z"
   },
   {
    "duration": 14,
    "start_time": "2021-06-12T18:29:27.754Z"
   },
   {
    "duration": 13,
    "start_time": "2021-06-12T18:29:27.771Z"
   },
   {
    "duration": 49,
    "start_time": "2021-06-12T18:29:27.787Z"
   },
   {
    "duration": 6,
    "start_time": "2021-06-12T18:29:27.840Z"
   },
   {
    "duration": 14,
    "start_time": "2021-06-12T18:29:27.849Z"
   },
   {
    "duration": 5,
    "start_time": "2021-06-12T18:29:27.866Z"
   },
   {
    "duration": 51,
    "start_time": "2021-06-12T18:29:27.874Z"
   },
   {
    "duration": 46,
    "start_time": "2021-06-12T18:29:27.928Z"
   },
   {
    "duration": 10,
    "start_time": "2021-06-12T18:29:27.977Z"
   },
   {
    "duration": 677,
    "start_time": "2021-06-12T18:29:27.990Z"
   },
   {
    "duration": 17,
    "start_time": "2021-06-12T18:29:28.670Z"
   },
   {
    "duration": 10,
    "start_time": "2021-06-12T18:29:28.690Z"
   },
   {
    "duration": 39,
    "start_time": "2021-06-12T18:29:28.702Z"
   },
   {
    "duration": 36,
    "start_time": "2021-06-12T18:29:28.743Z"
   },
   {
    "duration": 66,
    "start_time": "2021-06-12T18:29:28.782Z"
   },
   {
    "duration": 4489,
    "start_time": "2021-06-12T18:29:28.851Z"
   },
   {
    "duration": 44,
    "start_time": "2021-06-12T18:29:33.342Z"
   },
   {
    "duration": 47,
    "start_time": "2021-06-12T18:29:33.392Z"
   },
   {
    "duration": 3729,
    "start_time": "2021-06-12T18:29:33.442Z"
   },
   {
    "duration": 25,
    "start_time": "2021-06-12T18:29:37.174Z"
   },
   {
    "duration": 41,
    "start_time": "2021-06-12T18:29:37.202Z"
   },
   {
    "duration": 16,
    "start_time": "2021-06-12T18:29:37.246Z"
   },
   {
    "duration": 263,
    "start_time": "2021-06-12T18:29:37.265Z"
   },
   {
    "duration": 38,
    "start_time": "2021-06-12T18:29:37.531Z"
   },
   {
    "duration": 819,
    "start_time": "2021-06-12T18:29:37.572Z"
   },
   {
    "duration": 6,
    "start_time": "2021-06-12T18:29:38.394Z"
   },
   {
    "duration": 38,
    "start_time": "2021-06-12T18:29:38.402Z"
   },
   {
    "duration": 9,
    "start_time": "2021-06-12T18:29:38.442Z"
   },
   {
    "duration": 22,
    "start_time": "2021-06-12T18:29:38.454Z"
   },
   {
    "duration": 9,
    "start_time": "2021-06-12T18:29:38.479Z"
   },
   {
    "duration": 59,
    "start_time": "2021-06-12T18:29:38.490Z"
   },
   {
    "duration": 1565,
    "start_time": "2021-06-12T18:29:38.551Z"
   },
   {
    "duration": 26,
    "start_time": "2021-06-12T18:29:40.124Z"
   },
   {
    "duration": 1512,
    "start_time": "2021-06-12T18:29:40.152Z"
   },
   {
    "duration": 99,
    "start_time": "2021-06-12T18:29:41.666Z"
   },
   {
    "duration": 32,
    "start_time": "2021-06-12T18:29:41.768Z"
   },
   {
    "duration": 566,
    "start_time": "2021-06-12T18:29:41.826Z"
   },
   {
    "duration": 33,
    "start_time": "2021-06-12T18:29:42.395Z"
   },
   {
    "duration": 61,
    "start_time": "2021-06-12T18:29:42.431Z"
   },
   {
    "duration": 41,
    "start_time": "2021-06-12T18:29:42.495Z"
   },
   {
    "duration": 533,
    "start_time": "2021-06-12T18:29:42.538Z"
   },
   {
    "duration": 9,
    "start_time": "2021-06-12T18:29:43.073Z"
   },
   {
    "duration": 10,
    "start_time": "2021-06-12T18:29:43.085Z"
   },
   {
    "duration": 45,
    "start_time": "2021-06-12T18:29:43.097Z"
   },
   {
    "duration": 8,
    "start_time": "2021-06-12T18:29:43.144Z"
   },
   {
    "duration": 165,
    "start_time": "2021-06-12T18:29:43.155Z"
   },
   {
    "duration": 15,
    "start_time": "2021-06-12T18:29:43.322Z"
   },
   {
    "duration": 566,
    "start_time": "2021-06-12T18:29:43.339Z"
   },
   {
    "duration": 23,
    "start_time": "2021-06-12T18:29:43.908Z"
   },
   {
    "duration": 61,
    "start_time": "2021-06-12T18:29:43.934Z"
   },
   {
    "duration": 41,
    "start_time": "2021-06-12T18:29:43.998Z"
   },
   {
    "duration": 9,
    "start_time": "2021-06-12T18:29:44.041Z"
   },
   {
    "duration": 11,
    "start_time": "2021-06-12T18:29:44.052Z"
   },
   {
    "duration": 28,
    "start_time": "2021-06-12T18:29:44.066Z"
   },
   {
    "duration": 23,
    "start_time": "2021-06-12T18:29:44.126Z"
   },
   {
    "duration": 15,
    "start_time": "2021-06-12T18:29:44.151Z"
   },
   {
    "duration": 58,
    "start_time": "2021-06-12T18:29:44.168Z"
   },
   {
    "duration": 16,
    "start_time": "2021-06-12T18:29:44.228Z"
   },
   {
    "duration": 1429,
    "start_time": "2021-08-27T12:12:34.668Z"
   },
   {
    "duration": 22,
    "start_time": "2021-08-27T12:12:36.100Z"
   },
   {
    "duration": 30,
    "start_time": "2021-08-27T12:12:36.125Z"
   },
   {
    "duration": 58,
    "start_time": "2021-08-27T12:12:36.158Z"
   },
   {
    "duration": 19,
    "start_time": "2021-08-27T12:12:36.219Z"
   },
   {
    "duration": 24,
    "start_time": "2021-08-27T12:12:36.240Z"
   },
   {
    "duration": 12,
    "start_time": "2021-08-27T12:12:36.266Z"
   },
   {
    "duration": 14,
    "start_time": "2021-08-27T12:12:36.281Z"
   },
   {
    "duration": 6,
    "start_time": "2021-08-27T12:12:36.298Z"
   },
   {
    "duration": 22,
    "start_time": "2021-08-27T12:12:36.306Z"
   },
   {
    "duration": 34,
    "start_time": "2021-08-27T12:12:36.330Z"
   },
   {
    "duration": 21,
    "start_time": "2021-08-27T12:12:36.367Z"
   },
   {
    "duration": 54,
    "start_time": "2021-08-27T12:12:36.390Z"
   },
   {
    "duration": 17,
    "start_time": "2021-08-27T12:12:36.447Z"
   },
   {
    "duration": 636,
    "start_time": "2021-08-27T12:12:36.466Z"
   },
   {
    "duration": 20,
    "start_time": "2021-08-27T12:12:37.104Z"
   },
   {
    "duration": 38,
    "start_time": "2021-08-27T12:12:37.127Z"
   },
   {
    "duration": 17,
    "start_time": "2021-08-27T12:12:37.167Z"
   },
   {
    "duration": 33,
    "start_time": "2021-08-27T12:12:37.186Z"
   },
   {
    "duration": 57,
    "start_time": "2021-08-27T12:12:37.222Z"
   },
   {
    "duration": 43,
    "start_time": "2021-08-27T12:12:51.274Z"
   },
   {
    "duration": 18,
    "start_time": "2021-08-27T12:12:51.320Z"
   },
   {
    "duration": 31,
    "start_time": "2021-08-27T12:12:51.340Z"
   },
   {
    "duration": 41,
    "start_time": "2021-08-27T12:12:51.374Z"
   },
   {
    "duration": 17,
    "start_time": "2021-08-27T12:12:51.418Z"
   },
   {
    "duration": 11,
    "start_time": "2021-08-27T12:12:51.461Z"
   },
   {
    "duration": 17,
    "start_time": "2021-08-27T12:12:51.474Z"
   },
   {
    "duration": 13,
    "start_time": "2021-08-27T12:12:51.493Z"
   },
   {
    "duration": 5,
    "start_time": "2021-08-27T12:12:51.516Z"
   },
   {
    "duration": 46,
    "start_time": "2021-08-27T12:12:51.524Z"
   },
   {
    "duration": 13,
    "start_time": "2021-08-27T12:12:51.573Z"
   },
   {
    "duration": 10,
    "start_time": "2021-08-27T12:12:51.588Z"
   },
   {
    "duration": 70,
    "start_time": "2021-08-27T12:12:51.600Z"
   },
   {
    "duration": 11,
    "start_time": "2021-08-27T12:12:51.673Z"
   },
   {
    "duration": 650,
    "start_time": "2021-08-27T12:12:51.687Z"
   },
   {
    "duration": 32,
    "start_time": "2021-08-27T12:12:52.340Z"
   },
   {
    "duration": 13,
    "start_time": "2021-08-27T12:12:52.375Z"
   },
   {
    "duration": 19,
    "start_time": "2021-08-27T12:12:52.391Z"
   },
   {
    "duration": 77,
    "start_time": "2021-08-27T12:12:52.413Z"
   },
   {
    "duration": 27,
    "start_time": "2021-08-27T12:12:52.493Z"
   },
   {
    "duration": 3561,
    "start_time": "2021-08-27T12:12:52.523Z"
   },
   {
    "duration": 45,
    "start_time": "2021-08-27T12:12:56.087Z"
   },
   {
    "duration": 45,
    "start_time": "2021-08-27T12:12:56.134Z"
   },
   {
    "duration": 3696,
    "start_time": "2021-08-27T12:12:56.182Z"
   },
   {
    "duration": 23,
    "start_time": "2021-08-27T12:12:59.880Z"
   },
   {
    "duration": 30,
    "start_time": "2021-08-27T12:12:59.906Z"
   },
   {
    "duration": 34,
    "start_time": "2021-08-27T12:12:59.938Z"
   },
   {
    "duration": 232,
    "start_time": "2021-08-27T12:12:59.974Z"
   },
   {
    "duration": 54,
    "start_time": "2021-08-27T12:13:00.209Z"
   },
   {
    "duration": 674,
    "start_time": "2021-08-27T12:13:00.266Z"
   },
   {
    "duration": 6,
    "start_time": "2021-08-27T12:13:00.943Z"
   },
   {
    "duration": 38,
    "start_time": "2021-08-27T12:13:00.951Z"
   },
   {
    "duration": 19,
    "start_time": "2021-08-27T12:13:00.992Z"
   },
   {
    "duration": 43,
    "start_time": "2021-08-27T12:13:01.013Z"
   },
   {
    "duration": 24,
    "start_time": "2021-08-27T12:13:01.059Z"
   },
   {
    "duration": 55,
    "start_time": "2021-08-27T12:13:01.086Z"
   },
   {
    "duration": 1578,
    "start_time": "2021-08-27T12:13:01.143Z"
   },
   {
    "duration": 39,
    "start_time": "2021-08-27T12:13:02.724Z"
   },
   {
    "duration": 1409,
    "start_time": "2021-08-27T12:13:02.765Z"
   },
   {
    "duration": 95,
    "start_time": "2021-08-27T12:13:04.177Z"
   },
   {
    "duration": 30,
    "start_time": "2021-08-27T12:13:04.275Z"
   },
   {
    "duration": 560,
    "start_time": "2021-08-27T12:13:04.307Z"
   },
   {
    "duration": 15,
    "start_time": "2021-08-27T12:13:04.870Z"
   },
   {
    "duration": 62,
    "start_time": "2021-08-27T12:13:04.887Z"
   },
   {
    "duration": 20,
    "start_time": "2021-08-27T12:13:04.951Z"
   },
   {
    "duration": 503,
    "start_time": "2021-08-27T12:13:04.973Z"
   },
   {
    "duration": 11,
    "start_time": "2021-08-27T12:13:05.479Z"
   },
   {
    "duration": 12,
    "start_time": "2021-08-27T12:13:05.492Z"
   },
   {
    "duration": 33,
    "start_time": "2021-08-27T12:13:05.506Z"
   },
   {
    "duration": 16,
    "start_time": "2021-08-27T12:13:05.562Z"
   },
   {
    "duration": 47,
    "start_time": "2021-08-27T12:13:05.580Z"
   },
   {
    "duration": 36,
    "start_time": "2021-08-27T12:13:05.630Z"
   },
   {
    "duration": 543,
    "start_time": "2021-08-27T12:13:05.669Z"
   },
   {
    "duration": 14,
    "start_time": "2021-08-27T12:13:06.214Z"
   },
   {
    "duration": 81,
    "start_time": "2021-08-27T12:13:06.231Z"
   },
   {
    "duration": 16,
    "start_time": "2021-08-27T12:13:06.315Z"
   },
   {
    "duration": 30,
    "start_time": "2021-08-27T12:13:06.334Z"
   },
   {
    "duration": 19,
    "start_time": "2021-08-27T12:13:06.367Z"
   },
   {
    "duration": 22,
    "start_time": "2021-08-27T12:13:06.390Z"
   },
   {
    "duration": 25,
    "start_time": "2021-08-27T12:13:06.414Z"
   },
   {
    "duration": 13,
    "start_time": "2021-08-27T12:13:06.462Z"
   },
   {
    "duration": 40,
    "start_time": "2021-08-27T12:13:06.477Z"
   },
   {
    "duration": 25,
    "start_time": "2021-08-27T12:13:06.520Z"
   }
  ],
  "kernelspec": {
   "display_name": "Python 3",
   "language": "python",
   "name": "python3"
  },
  "language_info": {
   "codemirror_mode": {
    "name": "ipython",
    "version": 3
   },
   "file_extension": ".py",
   "mimetype": "text/x-python",
   "name": "python",
   "nbconvert_exporter": "python",
   "pygments_lexer": "ipython3",
   "version": "3.7.10"
  },
  "toc": {
   "base_numbering": 1,
   "nav_menu": {},
   "number_sections": true,
   "sideBar": true,
   "skip_h1_title": true,
   "title_cell": "Содержание",
   "title_sidebar": "Contents",
   "toc_cell": true,
   "toc_position": {
    "height": "calc(100% - 180px)",
    "left": "10px",
    "top": "150px",
    "width": "311.797px"
   },
   "toc_section_display": true,
   "toc_window_display": true
  }
 },
 "nbformat": 4,
 "nbformat_minor": 4
}
