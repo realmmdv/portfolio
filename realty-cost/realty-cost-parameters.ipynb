{
 "cells": [
  {
   "cell_type": "markdown",
   "metadata": {
    "toc": true
   },
   "source": [
    "<h1>Содержание<span class=\"tocSkip\"></span></h1>\n",
    "<div class=\"toc\"><ul class=\"toc-item\"><li><span><a href=\"#Изучение-данных-из-файла\" data-toc-modified-id=\"Изучение-данных-из-файла-1\"><span class=\"toc-item-num\">1&nbsp;&nbsp;</span>Изучение данных из файла</a></span></li><li><span><a href=\"#Предобработка-данных\" data-toc-modified-id=\"Предобработка-данных-2\"><span class=\"toc-item-num\">2&nbsp;&nbsp;</span>Предобработка данных</a></span><ul class=\"toc-item\"><li><span><a href=\"#Обработка-пропущенных-значений\" data-toc-modified-id=\"Обработка-пропущенных-значений-2.1\"><span class=\"toc-item-num\">2.1&nbsp;&nbsp;</span>Обработка пропущенных значений</a></span></li><li><span><a href=\"#Замена-типов-данных\" data-toc-modified-id=\"Замена-типов-данных-2.2\"><span class=\"toc-item-num\">2.2&nbsp;&nbsp;</span>Замена типов данных</a></span></li></ul></li><li><span><a href=\"#Расчёты-и-добавление-результатов-в-таблицу\" data-toc-modified-id=\"Расчёты-и-добавление-результатов-в-таблицу-3\"><span class=\"toc-item-num\">3&nbsp;&nbsp;</span>Расчёты и добавление результатов в таблицу</a></span></li><li><span><a href=\"#Исследовательский-анализ-данных\" data-toc-modified-id=\"Исследовательский-анализ-данных-4\"><span class=\"toc-item-num\">4&nbsp;&nbsp;</span>Исследовательский анализ данных</a></span><ul class=\"toc-item\"><li><span><a href=\"#Изучить-следующие-параметры:-площадь,-цена,-число-комнат,-высота-потолка\" data-toc-modified-id=\"Изучить-следующие-параметры:-площадь,-цена,-число-комнат,-высота-потолка-4.1\"><span class=\"toc-item-num\">4.1&nbsp;&nbsp;</span>Изучить следующие параметры: площадь, цена, число комнат, высота потолка</a></span><ul class=\"toc-item\"><li><span><a href=\"#Площадь\" data-toc-modified-id=\"Площадь-4.1.1\"><span class=\"toc-item-num\">4.1.1&nbsp;&nbsp;</span>Площадь</a></span></li><li><span><a href=\"#Цена\" data-toc-modified-id=\"Цена-4.1.2\"><span class=\"toc-item-num\">4.1.2&nbsp;&nbsp;</span>Цена</a></span></li><li><span><a href=\"#Число-комнат\" data-toc-modified-id=\"Число-комнат-4.1.3\"><span class=\"toc-item-num\">4.1.3&nbsp;&nbsp;</span>Число комнат</a></span></li><li><span><a href=\"#Высота-потолков\" data-toc-modified-id=\"Высота-потолков-4.1.4\"><span class=\"toc-item-num\">4.1.4&nbsp;&nbsp;</span>Высота потолков</a></span></li></ul></li><li><span><a href=\"#Изучите-время-продажи-квартиры\" data-toc-modified-id=\"Изучите-время-продажи-квартиры-4.2\"><span class=\"toc-item-num\">4.2&nbsp;&nbsp;</span>Изучите время продажи квартиры</a></span></li><li><span><a href=\"#Уберите-редкие-и-выбивающиеся-значения\" data-toc-modified-id=\"Уберите-редкие-и-выбивающиеся-значения-4.3\"><span class=\"toc-item-num\">4.3&nbsp;&nbsp;</span>Уберите редкие и выбивающиеся значения</a></span></li><li><span><a href=\"#Какие-факторы-больше-всего-влияют-на-стоимость-квартиры\" data-toc-modified-id=\"Какие-факторы-больше-всего-влияют-на-стоимость-квартиры-4.4\"><span class=\"toc-item-num\">4.4&nbsp;&nbsp;</span>Какие факторы больше всего влияют на стоимость квартиры</a></span></li><li><span><a href=\"#Выберите-10-населённых-пунктов-с-наибольшим-числом-объявлений\" data-toc-modified-id=\"Выберите-10-населённых-пунктов-с-наибольшим-числом-объявлений-4.5\"><span class=\"toc-item-num\">4.5&nbsp;&nbsp;</span>Выберите 10 населённых пунктов с наибольшим числом объявлений</a></span></li><li><span><a href=\"#Расстояние-до-центра\" data-toc-modified-id=\"Расстояние-до-центра-4.6\"><span class=\"toc-item-num\">4.6&nbsp;&nbsp;</span>Расстояние до центра</a></span></li><li><span><a href=\"#Квартиры-в-центре\" data-toc-modified-id=\"Квартиры-в-центре-4.7\"><span class=\"toc-item-num\">4.7&nbsp;&nbsp;</span>Квартиры в центре</a></span></li></ul></li><li><span><a href=\"#Общий-вывод\" data-toc-modified-id=\"Общий-вывод-5\"><span class=\"toc-item-num\">5&nbsp;&nbsp;</span>Общий вывод</a></span></li></ul></div>"
   ]
  },
  {
   "cell_type": "markdown",
   "metadata": {},
   "source": [
    "# Исследование объявлений о продаже квартир\n",
    "\n",
    "Имея архив объявлений о продаже квартир в Санкт-Петербурге и ближайших к нему населённых пунктах за несколько лет, необходимо установить параметры сильнее всего влияющие на стоимость квартир. \n",
    "\n",
    "Это необходимо для построения в перспективе системы, которая сможет отслеживать аномалии и определять мошеннические объявления."
   ]
  },
  {
   "cell_type": "markdown",
   "metadata": {},
   "source": [
    "## Изучение данных из файла"
   ]
  },
  {
   "cell_type": "code",
   "execution_count": 1,
   "metadata": {},
   "outputs": [
    {
     "name": "stdout",
     "output_type": "stream",
     "text": [
      "<class 'pandas.core.frame.DataFrame'>\n",
      "RangeIndex: 23699 entries, 0 to 23698\n",
      "Data columns (total 22 columns):\n",
      "total_images            23699 non-null int64\n",
      "last_price              23699 non-null float64\n",
      "total_area              23699 non-null float64\n",
      "first_day_exposition    23699 non-null object\n",
      "rooms                   23699 non-null int64\n",
      "ceiling_height          14504 non-null float64\n",
      "floors_total            23613 non-null float64\n",
      "living_area             21796 non-null float64\n",
      "floor                   23699 non-null int64\n",
      "is_apartment            2775 non-null object\n",
      "studio                  23699 non-null bool\n",
      "open_plan               23699 non-null bool\n",
      "kitchen_area            21421 non-null float64\n",
      "balcony                 12180 non-null float64\n",
      "locality_name           23650 non-null object\n",
      "airports_nearest        18157 non-null float64\n",
      "cityCenters_nearest     18180 non-null float64\n",
      "parks_around3000        18181 non-null float64\n",
      "parks_nearest           8079 non-null float64\n",
      "ponds_around3000        18181 non-null float64\n",
      "ponds_nearest           9110 non-null float64\n",
      "days_exposition         20518 non-null float64\n",
      "dtypes: bool(2), float64(14), int64(3), object(3)\n",
      "memory usage: 3.7+ MB\n"
     ]
    },
    {
     "data": {
      "text/html": [
       "<div>\n",
       "<style scoped>\n",
       "    .dataframe tbody tr th:only-of-type {\n",
       "        vertical-align: middle;\n",
       "    }\n",
       "\n",
       "    .dataframe tbody tr th {\n",
       "        vertical-align: top;\n",
       "    }\n",
       "\n",
       "    .dataframe thead th {\n",
       "        text-align: right;\n",
       "    }\n",
       "</style>\n",
       "<table border=\"1\" class=\"dataframe\">\n",
       "  <thead>\n",
       "    <tr style=\"text-align: right;\">\n",
       "      <th></th>\n",
       "      <th>total_images</th>\n",
       "      <th>last_price</th>\n",
       "      <th>total_area</th>\n",
       "      <th>rooms</th>\n",
       "      <th>ceiling_height</th>\n",
       "      <th>floors_total</th>\n",
       "      <th>living_area</th>\n",
       "      <th>floor</th>\n",
       "      <th>kitchen_area</th>\n",
       "      <th>balcony</th>\n",
       "      <th>airports_nearest</th>\n",
       "      <th>cityCenters_nearest</th>\n",
       "      <th>parks_around3000</th>\n",
       "      <th>parks_nearest</th>\n",
       "      <th>ponds_around3000</th>\n",
       "      <th>ponds_nearest</th>\n",
       "      <th>days_exposition</th>\n",
       "    </tr>\n",
       "  </thead>\n",
       "  <tbody>\n",
       "    <tr>\n",
       "      <td>count</td>\n",
       "      <td>23699.000000</td>\n",
       "      <td>2.369900e+04</td>\n",
       "      <td>23699.000000</td>\n",
       "      <td>23699.000000</td>\n",
       "      <td>14504.000000</td>\n",
       "      <td>23613.000000</td>\n",
       "      <td>21796.000000</td>\n",
       "      <td>23699.000000</td>\n",
       "      <td>21421.000000</td>\n",
       "      <td>12180.000000</td>\n",
       "      <td>18157.000000</td>\n",
       "      <td>18180.000000</td>\n",
       "      <td>18181.000000</td>\n",
       "      <td>8079.000000</td>\n",
       "      <td>18181.000000</td>\n",
       "      <td>9110.000000</td>\n",
       "      <td>20518.000000</td>\n",
       "    </tr>\n",
       "    <tr>\n",
       "      <td>mean</td>\n",
       "      <td>9.858475</td>\n",
       "      <td>6.541549e+06</td>\n",
       "      <td>60.348651</td>\n",
       "      <td>2.070636</td>\n",
       "      <td>2.771499</td>\n",
       "      <td>10.673824</td>\n",
       "      <td>34.457852</td>\n",
       "      <td>5.892358</td>\n",
       "      <td>10.569807</td>\n",
       "      <td>1.150082</td>\n",
       "      <td>28793.672193</td>\n",
       "      <td>14191.277833</td>\n",
       "      <td>0.611408</td>\n",
       "      <td>490.804555</td>\n",
       "      <td>0.770255</td>\n",
       "      <td>517.980900</td>\n",
       "      <td>180.888634</td>\n",
       "    </tr>\n",
       "    <tr>\n",
       "      <td>std</td>\n",
       "      <td>5.682529</td>\n",
       "      <td>1.088701e+07</td>\n",
       "      <td>35.654083</td>\n",
       "      <td>1.078405</td>\n",
       "      <td>1.261056</td>\n",
       "      <td>6.597173</td>\n",
       "      <td>22.030445</td>\n",
       "      <td>4.885249</td>\n",
       "      <td>5.905438</td>\n",
       "      <td>1.071300</td>\n",
       "      <td>12630.880622</td>\n",
       "      <td>8608.386210</td>\n",
       "      <td>0.802074</td>\n",
       "      <td>342.317995</td>\n",
       "      <td>0.938346</td>\n",
       "      <td>277.720643</td>\n",
       "      <td>219.727988</td>\n",
       "    </tr>\n",
       "    <tr>\n",
       "      <td>min</td>\n",
       "      <td>0.000000</td>\n",
       "      <td>1.219000e+04</td>\n",
       "      <td>12.000000</td>\n",
       "      <td>0.000000</td>\n",
       "      <td>1.000000</td>\n",
       "      <td>1.000000</td>\n",
       "      <td>2.000000</td>\n",
       "      <td>1.000000</td>\n",
       "      <td>1.300000</td>\n",
       "      <td>0.000000</td>\n",
       "      <td>0.000000</td>\n",
       "      <td>181.000000</td>\n",
       "      <td>0.000000</td>\n",
       "      <td>1.000000</td>\n",
       "      <td>0.000000</td>\n",
       "      <td>13.000000</td>\n",
       "      <td>1.000000</td>\n",
       "    </tr>\n",
       "    <tr>\n",
       "      <td>25%</td>\n",
       "      <td>6.000000</td>\n",
       "      <td>3.400000e+06</td>\n",
       "      <td>40.000000</td>\n",
       "      <td>1.000000</td>\n",
       "      <td>2.520000</td>\n",
       "      <td>5.000000</td>\n",
       "      <td>18.600000</td>\n",
       "      <td>2.000000</td>\n",
       "      <td>7.000000</td>\n",
       "      <td>0.000000</td>\n",
       "      <td>18585.000000</td>\n",
       "      <td>9238.000000</td>\n",
       "      <td>0.000000</td>\n",
       "      <td>288.000000</td>\n",
       "      <td>0.000000</td>\n",
       "      <td>294.000000</td>\n",
       "      <td>45.000000</td>\n",
       "    </tr>\n",
       "    <tr>\n",
       "      <td>50%</td>\n",
       "      <td>9.000000</td>\n",
       "      <td>4.650000e+06</td>\n",
       "      <td>52.000000</td>\n",
       "      <td>2.000000</td>\n",
       "      <td>2.650000</td>\n",
       "      <td>9.000000</td>\n",
       "      <td>30.000000</td>\n",
       "      <td>4.000000</td>\n",
       "      <td>9.100000</td>\n",
       "      <td>1.000000</td>\n",
       "      <td>26726.000000</td>\n",
       "      <td>13098.500000</td>\n",
       "      <td>0.000000</td>\n",
       "      <td>455.000000</td>\n",
       "      <td>1.000000</td>\n",
       "      <td>502.000000</td>\n",
       "      <td>95.000000</td>\n",
       "    </tr>\n",
       "    <tr>\n",
       "      <td>75%</td>\n",
       "      <td>14.000000</td>\n",
       "      <td>6.800000e+06</td>\n",
       "      <td>69.900000</td>\n",
       "      <td>3.000000</td>\n",
       "      <td>2.800000</td>\n",
       "      <td>16.000000</td>\n",
       "      <td>42.300000</td>\n",
       "      <td>8.000000</td>\n",
       "      <td>12.000000</td>\n",
       "      <td>2.000000</td>\n",
       "      <td>37273.000000</td>\n",
       "      <td>16293.000000</td>\n",
       "      <td>1.000000</td>\n",
       "      <td>612.000000</td>\n",
       "      <td>1.000000</td>\n",
       "      <td>729.000000</td>\n",
       "      <td>232.000000</td>\n",
       "    </tr>\n",
       "    <tr>\n",
       "      <td>max</td>\n",
       "      <td>50.000000</td>\n",
       "      <td>7.630000e+08</td>\n",
       "      <td>900.000000</td>\n",
       "      <td>19.000000</td>\n",
       "      <td>100.000000</td>\n",
       "      <td>60.000000</td>\n",
       "      <td>409.700000</td>\n",
       "      <td>33.000000</td>\n",
       "      <td>112.000000</td>\n",
       "      <td>5.000000</td>\n",
       "      <td>84869.000000</td>\n",
       "      <td>65968.000000</td>\n",
       "      <td>3.000000</td>\n",
       "      <td>3190.000000</td>\n",
       "      <td>3.000000</td>\n",
       "      <td>1344.000000</td>\n",
       "      <td>1580.000000</td>\n",
       "    </tr>\n",
       "  </tbody>\n",
       "</table>\n",
       "</div>"
      ],
      "text/plain": [
       "       total_images    last_price    total_area         rooms  ceiling_height  \\\n",
       "count  23699.000000  2.369900e+04  23699.000000  23699.000000    14504.000000   \n",
       "mean       9.858475  6.541549e+06     60.348651      2.070636        2.771499   \n",
       "std        5.682529  1.088701e+07     35.654083      1.078405        1.261056   \n",
       "min        0.000000  1.219000e+04     12.000000      0.000000        1.000000   \n",
       "25%        6.000000  3.400000e+06     40.000000      1.000000        2.520000   \n",
       "50%        9.000000  4.650000e+06     52.000000      2.000000        2.650000   \n",
       "75%       14.000000  6.800000e+06     69.900000      3.000000        2.800000   \n",
       "max       50.000000  7.630000e+08    900.000000     19.000000      100.000000   \n",
       "\n",
       "       floors_total   living_area         floor  kitchen_area       balcony  \\\n",
       "count  23613.000000  21796.000000  23699.000000  21421.000000  12180.000000   \n",
       "mean      10.673824     34.457852      5.892358     10.569807      1.150082   \n",
       "std        6.597173     22.030445      4.885249      5.905438      1.071300   \n",
       "min        1.000000      2.000000      1.000000      1.300000      0.000000   \n",
       "25%        5.000000     18.600000      2.000000      7.000000      0.000000   \n",
       "50%        9.000000     30.000000      4.000000      9.100000      1.000000   \n",
       "75%       16.000000     42.300000      8.000000     12.000000      2.000000   \n",
       "max       60.000000    409.700000     33.000000    112.000000      5.000000   \n",
       "\n",
       "       airports_nearest  cityCenters_nearest  parks_around3000  parks_nearest  \\\n",
       "count      18157.000000         18180.000000      18181.000000    8079.000000   \n",
       "mean       28793.672193         14191.277833          0.611408     490.804555   \n",
       "std        12630.880622          8608.386210          0.802074     342.317995   \n",
       "min            0.000000           181.000000          0.000000       1.000000   \n",
       "25%        18585.000000          9238.000000          0.000000     288.000000   \n",
       "50%        26726.000000         13098.500000          0.000000     455.000000   \n",
       "75%        37273.000000         16293.000000          1.000000     612.000000   \n",
       "max        84869.000000         65968.000000          3.000000    3190.000000   \n",
       "\n",
       "       ponds_around3000  ponds_nearest  days_exposition  \n",
       "count      18181.000000    9110.000000     20518.000000  \n",
       "mean           0.770255     517.980900       180.888634  \n",
       "std            0.938346     277.720643       219.727988  \n",
       "min            0.000000      13.000000         1.000000  \n",
       "25%            0.000000     294.000000        45.000000  \n",
       "50%            1.000000     502.000000        95.000000  \n",
       "75%            1.000000     729.000000       232.000000  \n",
       "max            3.000000    1344.000000      1580.000000  "
      ]
     },
     "execution_count": 1,
     "metadata": {},
     "output_type": "execute_result"
    }
   ],
   "source": [
    "import pandas as pd\n",
    "import matplotlib.pyplot as plt\n",
    "data = pd.read_csv('/datasets/real_estate_data.csv', sep='\\t')\n",
    "data.info()\n",
    "data.describe()"
   ]
  },
  {
   "cell_type": "markdown",
   "metadata": {},
   "source": [
    "В исходной таблице 23699 строк и 22 столбца с разными типами данных: есть как и числовые (целые и дробные), так и текстовые и булевые типы. \n",
    "\n",
    "Каждый объект содержит данные двух видов: данные об объекте, размещенные пользователями и полученные автоматически на основе картографических данных (расстояние до центра, аэропорта и др.)\n",
    "\n",
    "Столбцы *ceiling_height, floors_total, living_area, is_apartment, kitchen_area, balcony, locality_name, airports_nearest, cityCenters_nearest, parks_around3000, parks_nearest, ponds_around3000, ponds_nearest, days_exposition* имеют пропущенные значения. Не все из них можно/стоит заполнять, например, в столбце *is_apartment*, логично предположить, что наличие всего 2775 значений говорит о том, что этот столбец заполняли только в случае, если квартира является апартаментами, а в остальных случаях ничего не указывали и заполнять эти данные чем-либо не совсем корректно. \n",
    "\n",
    "В ряде столбцов можно увидеть аномальные и выделяющиеся значения: например, 19 комнатная квартира или 100-метровые потолки в квартире. Квартира в 60-этажном доме выглядит нормальной, если речь идет о Лахта-центре или каком-нибудь небоскребе Москва-сити, но в Кронштадте таких зданий нет. В данном случае, скорее всего речь идет о 6-этажном доме и ошибке ввода данных. Похожая  ситуация с квартирой с высотой потолка 100 метров. Для апартаментов площадью 25 кв.м, потолки и стоимость 15 млн немного высоковаты. Такого рода данные будут влиять на остальные и их удобнее исключить, чем учитывать. "
   ]
  },
  {
   "cell_type": "markdown",
   "metadata": {},
   "source": [
    "## Предобработка данных"
   ]
  },
  {
   "cell_type": "markdown",
   "metadata": {},
   "source": [
    "### Обработка пропущенных значений"
   ]
  },
  {
   "cell_type": "code",
   "execution_count": 2,
   "metadata": {},
   "outputs": [
    {
     "data": {
      "text/plain": [
       "11519"
      ]
     },
     "metadata": {},
     "output_type": "display_data"
    },
    {
     "data": {
      "text/plain": [
       "False    23649\n",
       "True        50\n",
       "Name: is_apartment, dtype: int64"
      ]
     },
     "execution_count": 2,
     "metadata": {},
     "output_type": "execute_result"
    }
   ],
   "source": [
    "# столбец is_apartment \n",
    "display(data['balcony'].isna().sum()) # 20924‬ пропущенных значений\n",
    "data['is_apartment'] = data['is_apartment'].fillna(False)\n",
    "data['is_apartment'].value_counts() # проверяем все ли корректно"
   ]
  },
  {
   "cell_type": "code",
   "execution_count": 3,
   "metadata": {},
   "outputs": [
    {
     "data": {
      "text/plain": [
       "11519"
      ]
     },
     "metadata": {},
     "output_type": "display_data"
    },
    {
     "data": {
      "text/plain": [
       "0.0    15277\n",
       "1.0     4195\n",
       "2.0     3659\n",
       "5.0      304\n",
       "4.0      183\n",
       "3.0       81\n",
       "Name: balcony, dtype: int64"
      ]
     },
     "execution_count": 3,
     "metadata": {},
     "output_type": "execute_result"
    }
   ],
   "source": [
    "# столбец balcony \n",
    "display(data['balcony'].isna().sum()) # 11519‬ пропущенных значений\n",
    "data['balcony'] = data['balcony'].fillna(0) \n",
    "data['balcony'].value_counts() # проверяем все ли корректно"
   ]
  },
  {
   "cell_type": "code",
   "execution_count": 4,
   "metadata": {},
   "outputs": [
    {
     "data": {
      "text/plain": [
       "5518"
      ]
     },
     "metadata": {},
     "output_type": "display_data"
    },
    {
     "data": {
      "text/plain": [
       "5518"
      ]
     },
     "metadata": {},
     "output_type": "display_data"
    },
    {
     "data": {
      "text/plain": [
       "0.0    15624\n",
       "1.0     5681\n",
       "2.0     1747\n",
       "3.0      647\n",
       "Name: parks_around3000, dtype: int64"
      ]
     },
     "metadata": {},
     "output_type": "display_data"
    },
    {
     "data": {
      "text/plain": [
       "0.0    14589\n",
       "1.0     5717\n",
       "2.0     1892\n",
       "3.0     1501\n",
       "Name: ponds_around3000, dtype: int64"
      ]
     },
     "execution_count": 4,
     "metadata": {},
     "output_type": "execute_result"
    }
   ],
   "source": [
    "# столбцы parks_around3000 и ponds_around3000\n",
    "display(data['parks_around3000'].isna().sum()) # 5518 пропущенных значений\n",
    "display(data['ponds_around3000'].isna().sum()) # 5518 пропущенных значений\n",
    "data['parks_around3000'] = data['parks_around3000'].fillna(0)\n",
    "data['ponds_around3000'] = data['ponds_around3000'].fillna(0)\n",
    "display(data['parks_around3000'].value_counts())\n",
    "data['ponds_around3000'].value_counts()"
   ]
  },
  {
   "cell_type": "markdown",
   "metadata": {},
   "source": [
    "**Вывод**"
   ]
  },
  {
   "cell_type": "markdown",
   "metadata": {},
   "source": [
    "Столбец *is_apartment* логично заполнить 0, так как это булев тип и наличие всего 2775 значений, из которых только 50 True указывает на то, что апартаменты встречаются в данных довольно редко и, скорее всего, все пропущенные значения отрицательно, то есть равны False.\n",
    "\n",
    "Столбец *balcony*, как и указано в инструкции, логично заполнить 0 вместо пропущенных значений, так, мы делаем допущение, что если бы в квартире были балконы, об этом бы, скорее всего, сказали в объявлении. \n",
    "\n",
    "Столбцы *airports_nearest, cityCenters_nearest, parks_nearest, ponds_nearest* не совсем корректно заполнять какими-либо данными, так как информации о локации в исходной таблице нет, а использовать усредненные значения для определения расстояния тоже не совсем верно, поэтому пропуски в этих значениях логичнее оставить.\n",
    "\n",
    "В столбцах parks_around3000 и ponds_around3000 можно использовать нулевые значения, делая допущение аналогично столбцу с балконами, что если бы парки и водоемы были рядом, об этом было бы указано.\n",
    "\n",
    "Заполнить пропуски в столбцах *ceiling_height, floors_total, living_area, kitchen_area, locality_name, days_exposition* формально нечем, а использовать усредненные значения может быть не совсем корректно, поэтому разумнее всего, оставить здесь пропущенные значения. \n"
   ]
  },
  {
   "cell_type": "markdown",
   "metadata": {},
   "source": [
    "### Замена типов данных"
   ]
  },
  {
   "cell_type": "code",
   "execution_count": 5,
   "metadata": {},
   "outputs": [
    {
     "name": "stdout",
     "output_type": "stream",
     "text": [
      "<class 'pandas.core.frame.DataFrame'>\n",
      "RangeIndex: 23699 entries, 0 to 23698\n",
      "Data columns (total 22 columns):\n",
      "total_images            23699 non-null int64\n",
      "last_price              23699 non-null float64\n",
      "total_area              23699 non-null float64\n",
      "first_day_exposition    23699 non-null object\n",
      "rooms                   23699 non-null int64\n",
      "ceiling_height          14504 non-null float64\n",
      "floors_total            23613 non-null float64\n",
      "living_area             21796 non-null float64\n",
      "floor                   23699 non-null int64\n",
      "is_apartment            23699 non-null bool\n",
      "studio                  23699 non-null bool\n",
      "open_plan               23699 non-null bool\n",
      "kitchen_area            21421 non-null float64\n",
      "balcony                 23699 non-null float64\n",
      "locality_name           23650 non-null object\n",
      "airports_nearest        18157 non-null float64\n",
      "cityCenters_nearest     18180 non-null float64\n",
      "parks_around3000        23699 non-null float64\n",
      "parks_nearest           8079 non-null float64\n",
      "ponds_around3000        23699 non-null float64\n",
      "ponds_nearest           9110 non-null float64\n",
      "days_exposition         20518 non-null float64\n",
      "dtypes: bool(3), float64(14), int64(3), object(2)\n",
      "memory usage: 3.5+ MB\n"
     ]
    },
    {
     "data": {
      "text/html": [
       "<div>\n",
       "<style scoped>\n",
       "    .dataframe tbody tr th:only-of-type {\n",
       "        vertical-align: middle;\n",
       "    }\n",
       "\n",
       "    .dataframe tbody tr th {\n",
       "        vertical-align: top;\n",
       "    }\n",
       "\n",
       "    .dataframe thead th {\n",
       "        text-align: right;\n",
       "    }\n",
       "</style>\n",
       "<table border=\"1\" class=\"dataframe\">\n",
       "  <thead>\n",
       "    <tr style=\"text-align: right;\">\n",
       "      <th></th>\n",
       "      <th>total_images</th>\n",
       "      <th>last_price</th>\n",
       "      <th>total_area</th>\n",
       "      <th>first_day_exposition</th>\n",
       "      <th>rooms</th>\n",
       "      <th>ceiling_height</th>\n",
       "      <th>floors_total</th>\n",
       "      <th>living_area</th>\n",
       "      <th>floor</th>\n",
       "      <th>is_apartment</th>\n",
       "      <th>...</th>\n",
       "      <th>kitchen_area</th>\n",
       "      <th>balcony</th>\n",
       "      <th>locality_name</th>\n",
       "      <th>airports_nearest</th>\n",
       "      <th>cityCenters_nearest</th>\n",
       "      <th>parks_around3000</th>\n",
       "      <th>parks_nearest</th>\n",
       "      <th>ponds_around3000</th>\n",
       "      <th>ponds_nearest</th>\n",
       "      <th>days_exposition</th>\n",
       "    </tr>\n",
       "  </thead>\n",
       "  <tbody>\n",
       "    <tr>\n",
       "      <td>0</td>\n",
       "      <td>20</td>\n",
       "      <td>13000000.0</td>\n",
       "      <td>108.00</td>\n",
       "      <td>2019-03-07T00:00:00</td>\n",
       "      <td>3</td>\n",
       "      <td>2.70</td>\n",
       "      <td>16.0</td>\n",
       "      <td>51.00</td>\n",
       "      <td>8</td>\n",
       "      <td>False</td>\n",
       "      <td>...</td>\n",
       "      <td>25.00</td>\n",
       "      <td>0.0</td>\n",
       "      <td>Санкт-Петербург</td>\n",
       "      <td>18863.0</td>\n",
       "      <td>16028.0</td>\n",
       "      <td>1.0</td>\n",
       "      <td>482.0</td>\n",
       "      <td>2.0</td>\n",
       "      <td>755.0</td>\n",
       "      <td>NaN</td>\n",
       "    </tr>\n",
       "    <tr>\n",
       "      <td>1</td>\n",
       "      <td>7</td>\n",
       "      <td>3350000.0</td>\n",
       "      <td>40.40</td>\n",
       "      <td>2018-12-04T00:00:00</td>\n",
       "      <td>1</td>\n",
       "      <td>NaN</td>\n",
       "      <td>11.0</td>\n",
       "      <td>18.60</td>\n",
       "      <td>1</td>\n",
       "      <td>False</td>\n",
       "      <td>...</td>\n",
       "      <td>11.00</td>\n",
       "      <td>2.0</td>\n",
       "      <td>посёлок Шушары</td>\n",
       "      <td>12817.0</td>\n",
       "      <td>18603.0</td>\n",
       "      <td>0.0</td>\n",
       "      <td>NaN</td>\n",
       "      <td>0.0</td>\n",
       "      <td>NaN</td>\n",
       "      <td>81.0</td>\n",
       "    </tr>\n",
       "    <tr>\n",
       "      <td>2</td>\n",
       "      <td>10</td>\n",
       "      <td>5196000.0</td>\n",
       "      <td>56.00</td>\n",
       "      <td>2015-08-20T00:00:00</td>\n",
       "      <td>2</td>\n",
       "      <td>NaN</td>\n",
       "      <td>5.0</td>\n",
       "      <td>34.30</td>\n",
       "      <td>4</td>\n",
       "      <td>False</td>\n",
       "      <td>...</td>\n",
       "      <td>8.30</td>\n",
       "      <td>0.0</td>\n",
       "      <td>Санкт-Петербург</td>\n",
       "      <td>21741.0</td>\n",
       "      <td>13933.0</td>\n",
       "      <td>1.0</td>\n",
       "      <td>90.0</td>\n",
       "      <td>2.0</td>\n",
       "      <td>574.0</td>\n",
       "      <td>558.0</td>\n",
       "    </tr>\n",
       "    <tr>\n",
       "      <td>3</td>\n",
       "      <td>0</td>\n",
       "      <td>64900000.0</td>\n",
       "      <td>159.00</td>\n",
       "      <td>2015-07-24T00:00:00</td>\n",
       "      <td>3</td>\n",
       "      <td>NaN</td>\n",
       "      <td>14.0</td>\n",
       "      <td>NaN</td>\n",
       "      <td>9</td>\n",
       "      <td>False</td>\n",
       "      <td>...</td>\n",
       "      <td>NaN</td>\n",
       "      <td>0.0</td>\n",
       "      <td>Санкт-Петербург</td>\n",
       "      <td>28098.0</td>\n",
       "      <td>6800.0</td>\n",
       "      <td>2.0</td>\n",
       "      <td>84.0</td>\n",
       "      <td>3.0</td>\n",
       "      <td>234.0</td>\n",
       "      <td>424.0</td>\n",
       "    </tr>\n",
       "    <tr>\n",
       "      <td>4</td>\n",
       "      <td>2</td>\n",
       "      <td>10000000.0</td>\n",
       "      <td>100.00</td>\n",
       "      <td>2018-06-19T00:00:00</td>\n",
       "      <td>2</td>\n",
       "      <td>3.03</td>\n",
       "      <td>14.0</td>\n",
       "      <td>32.00</td>\n",
       "      <td>13</td>\n",
       "      <td>False</td>\n",
       "      <td>...</td>\n",
       "      <td>41.00</td>\n",
       "      <td>0.0</td>\n",
       "      <td>Санкт-Петербург</td>\n",
       "      <td>31856.0</td>\n",
       "      <td>8098.0</td>\n",
       "      <td>2.0</td>\n",
       "      <td>112.0</td>\n",
       "      <td>1.0</td>\n",
       "      <td>48.0</td>\n",
       "      <td>121.0</td>\n",
       "    </tr>\n",
       "    <tr>\n",
       "      <td>5</td>\n",
       "      <td>10</td>\n",
       "      <td>2890000.0</td>\n",
       "      <td>30.40</td>\n",
       "      <td>2018-09-10T00:00:00</td>\n",
       "      <td>1</td>\n",
       "      <td>NaN</td>\n",
       "      <td>12.0</td>\n",
       "      <td>14.40</td>\n",
       "      <td>5</td>\n",
       "      <td>False</td>\n",
       "      <td>...</td>\n",
       "      <td>9.10</td>\n",
       "      <td>0.0</td>\n",
       "      <td>городской посёлок Янино-1</td>\n",
       "      <td>NaN</td>\n",
       "      <td>NaN</td>\n",
       "      <td>0.0</td>\n",
       "      <td>NaN</td>\n",
       "      <td>0.0</td>\n",
       "      <td>NaN</td>\n",
       "      <td>55.0</td>\n",
       "    </tr>\n",
       "    <tr>\n",
       "      <td>6</td>\n",
       "      <td>6</td>\n",
       "      <td>3700000.0</td>\n",
       "      <td>37.30</td>\n",
       "      <td>2017-11-02T00:00:00</td>\n",
       "      <td>1</td>\n",
       "      <td>NaN</td>\n",
       "      <td>26.0</td>\n",
       "      <td>10.60</td>\n",
       "      <td>6</td>\n",
       "      <td>False</td>\n",
       "      <td>...</td>\n",
       "      <td>14.40</td>\n",
       "      <td>1.0</td>\n",
       "      <td>посёлок Парголово</td>\n",
       "      <td>52996.0</td>\n",
       "      <td>19143.0</td>\n",
       "      <td>0.0</td>\n",
       "      <td>NaN</td>\n",
       "      <td>0.0</td>\n",
       "      <td>NaN</td>\n",
       "      <td>155.0</td>\n",
       "    </tr>\n",
       "    <tr>\n",
       "      <td>7</td>\n",
       "      <td>5</td>\n",
       "      <td>7915000.0</td>\n",
       "      <td>71.60</td>\n",
       "      <td>2019-04-18T00:00:00</td>\n",
       "      <td>2</td>\n",
       "      <td>NaN</td>\n",
       "      <td>24.0</td>\n",
       "      <td>NaN</td>\n",
       "      <td>22</td>\n",
       "      <td>False</td>\n",
       "      <td>...</td>\n",
       "      <td>18.90</td>\n",
       "      <td>2.0</td>\n",
       "      <td>Санкт-Петербург</td>\n",
       "      <td>23982.0</td>\n",
       "      <td>11634.0</td>\n",
       "      <td>0.0</td>\n",
       "      <td>NaN</td>\n",
       "      <td>0.0</td>\n",
       "      <td>NaN</td>\n",
       "      <td>NaN</td>\n",
       "    </tr>\n",
       "    <tr>\n",
       "      <td>8</td>\n",
       "      <td>20</td>\n",
       "      <td>2900000.0</td>\n",
       "      <td>33.16</td>\n",
       "      <td>2018-05-23T00:00:00</td>\n",
       "      <td>1</td>\n",
       "      <td>NaN</td>\n",
       "      <td>27.0</td>\n",
       "      <td>15.43</td>\n",
       "      <td>26</td>\n",
       "      <td>False</td>\n",
       "      <td>...</td>\n",
       "      <td>8.81</td>\n",
       "      <td>0.0</td>\n",
       "      <td>посёлок Мурино</td>\n",
       "      <td>NaN</td>\n",
       "      <td>NaN</td>\n",
       "      <td>0.0</td>\n",
       "      <td>NaN</td>\n",
       "      <td>0.0</td>\n",
       "      <td>NaN</td>\n",
       "      <td>189.0</td>\n",
       "    </tr>\n",
       "    <tr>\n",
       "      <td>9</td>\n",
       "      <td>18</td>\n",
       "      <td>5400000.0</td>\n",
       "      <td>61.00</td>\n",
       "      <td>2017-02-26T00:00:00</td>\n",
       "      <td>3</td>\n",
       "      <td>2.50</td>\n",
       "      <td>9.0</td>\n",
       "      <td>43.60</td>\n",
       "      <td>7</td>\n",
       "      <td>False</td>\n",
       "      <td>...</td>\n",
       "      <td>6.50</td>\n",
       "      <td>2.0</td>\n",
       "      <td>Санкт-Петербург</td>\n",
       "      <td>50898.0</td>\n",
       "      <td>15008.0</td>\n",
       "      <td>0.0</td>\n",
       "      <td>NaN</td>\n",
       "      <td>0.0</td>\n",
       "      <td>NaN</td>\n",
       "      <td>289.0</td>\n",
       "    </tr>\n",
       "  </tbody>\n",
       "</table>\n",
       "<p>10 rows × 22 columns</p>\n",
       "</div>"
      ],
      "text/plain": [
       "   total_images  last_price  total_area first_day_exposition  rooms  \\\n",
       "0            20  13000000.0      108.00  2019-03-07T00:00:00      3   \n",
       "1             7   3350000.0       40.40  2018-12-04T00:00:00      1   \n",
       "2            10   5196000.0       56.00  2015-08-20T00:00:00      2   \n",
       "3             0  64900000.0      159.00  2015-07-24T00:00:00      3   \n",
       "4             2  10000000.0      100.00  2018-06-19T00:00:00      2   \n",
       "5            10   2890000.0       30.40  2018-09-10T00:00:00      1   \n",
       "6             6   3700000.0       37.30  2017-11-02T00:00:00      1   \n",
       "7             5   7915000.0       71.60  2019-04-18T00:00:00      2   \n",
       "8            20   2900000.0       33.16  2018-05-23T00:00:00      1   \n",
       "9            18   5400000.0       61.00  2017-02-26T00:00:00      3   \n",
       "\n",
       "   ceiling_height  floors_total  living_area  floor  is_apartment  ...  \\\n",
       "0            2.70          16.0        51.00      8         False  ...   \n",
       "1             NaN          11.0        18.60      1         False  ...   \n",
       "2             NaN           5.0        34.30      4         False  ...   \n",
       "3             NaN          14.0          NaN      9         False  ...   \n",
       "4            3.03          14.0        32.00     13         False  ...   \n",
       "5             NaN          12.0        14.40      5         False  ...   \n",
       "6             NaN          26.0        10.60      6         False  ...   \n",
       "7             NaN          24.0          NaN     22         False  ...   \n",
       "8             NaN          27.0        15.43     26         False  ...   \n",
       "9            2.50           9.0        43.60      7         False  ...   \n",
       "\n",
       "   kitchen_area  balcony              locality_name  airports_nearest  \\\n",
       "0         25.00      0.0            Санкт-Петербург           18863.0   \n",
       "1         11.00      2.0             посёлок Шушары           12817.0   \n",
       "2          8.30      0.0            Санкт-Петербург           21741.0   \n",
       "3           NaN      0.0            Санкт-Петербург           28098.0   \n",
       "4         41.00      0.0            Санкт-Петербург           31856.0   \n",
       "5          9.10      0.0  городской посёлок Янино-1               NaN   \n",
       "6         14.40      1.0          посёлок Парголово           52996.0   \n",
       "7         18.90      2.0            Санкт-Петербург           23982.0   \n",
       "8          8.81      0.0             посёлок Мурино               NaN   \n",
       "9          6.50      2.0            Санкт-Петербург           50898.0   \n",
       "\n",
       "  cityCenters_nearest  parks_around3000  parks_nearest  ponds_around3000  \\\n",
       "0             16028.0               1.0          482.0               2.0   \n",
       "1             18603.0               0.0            NaN               0.0   \n",
       "2             13933.0               1.0           90.0               2.0   \n",
       "3              6800.0               2.0           84.0               3.0   \n",
       "4              8098.0               2.0          112.0               1.0   \n",
       "5                 NaN               0.0            NaN               0.0   \n",
       "6             19143.0               0.0            NaN               0.0   \n",
       "7             11634.0               0.0            NaN               0.0   \n",
       "8                 NaN               0.0            NaN               0.0   \n",
       "9             15008.0               0.0            NaN               0.0   \n",
       "\n",
       "   ponds_nearest  days_exposition  \n",
       "0          755.0              NaN  \n",
       "1            NaN             81.0  \n",
       "2          574.0            558.0  \n",
       "3          234.0            424.0  \n",
       "4           48.0            121.0  \n",
       "5            NaN             55.0  \n",
       "6            NaN            155.0  \n",
       "7            NaN              NaN  \n",
       "8            NaN            189.0  \n",
       "9            NaN            289.0  \n",
       "\n",
       "[10 rows x 22 columns]"
      ]
     },
     "execution_count": 5,
     "metadata": {},
     "output_type": "execute_result"
    }
   ],
   "source": [
    "data.info()\n",
    "data.head(10)"
   ]
  },
  {
   "cell_type": "markdown",
   "metadata": {},
   "source": [
    "Cледующие столбцы имеют тип данных float, однако он избыточен для них и его можно поменять на int:\n",
    "\n",
    "- last_price \n",
    "- floors_total\n",
    "- balcony\n",
    "- airports_nearest\n",
    "- cityCenters_nearest\n",
    "- parks_around3000\n",
    "- parks_nearest\n",
    "- ponds_around3000\n",
    "- ponds_nearest\n",
    "- days_exposition"
   ]
  },
  {
   "cell_type": "code",
   "execution_count": 6,
   "metadata": {},
   "outputs": [],
   "source": [
    "# last_price \n",
    "data['last_price'] = data['last_price'].astype(int)\n",
    "# balcony\n",
    "data['balcony'] = data['balcony'].astype(int)\n",
    "# parks_around3000\n",
    "data['parks_around3000'] = data['parks_around3000'].astype(int)\n",
    "# ponds_around3000  \n",
    "data['ponds_around3000'] = data['ponds_around3000'].astype(int)\n",
    "\n",
    "# в этих столбцах нет пропусков, поэтому их можно быстро перевести методом astype"
   ]
  },
  {
   "cell_type": "code",
   "execution_count": 7,
   "metadata": {},
   "outputs": [],
   "source": [
    "data['living_area'] = pd.to_numeric(data['living_area'], errors='coerce', downcast='integer') # не удается сменить тип данных на int, об этом подробнее в выводах "
   ]
  },
  {
   "cell_type": "code",
   "execution_count": 8,
   "metadata": {},
   "outputs": [
    {
     "name": "stdout",
     "output_type": "stream",
     "text": [
      "<class 'pandas.core.frame.DataFrame'>\n",
      "RangeIndex: 23699 entries, 0 to 23698\n",
      "Data columns (total 22 columns):\n",
      "total_images            23699 non-null int64\n",
      "last_price              23699 non-null int64\n",
      "total_area              23699 non-null float64\n",
      "first_day_exposition    23699 non-null datetime64[ns]\n",
      "rooms                   23699 non-null int64\n",
      "ceiling_height          14504 non-null float64\n",
      "floors_total            23613 non-null float64\n",
      "living_area             21796 non-null float64\n",
      "floor                   23699 non-null int64\n",
      "is_apartment            23699 non-null bool\n",
      "studio                  23699 non-null bool\n",
      "open_plan               23699 non-null bool\n",
      "kitchen_area            21421 non-null float64\n",
      "balcony                 23699 non-null int64\n",
      "locality_name           23650 non-null object\n",
      "airports_nearest        18157 non-null float64\n",
      "cityCenters_nearest     18180 non-null float64\n",
      "parks_around3000        23699 non-null int64\n",
      "parks_nearest           8079 non-null float64\n",
      "ponds_around3000        23699 non-null int64\n",
      "ponds_nearest           9110 non-null float64\n",
      "days_exposition         20518 non-null float64\n",
      "dtypes: bool(3), datetime64[ns](1), float64(10), int64(7), object(1)\n",
      "memory usage: 3.5+ MB\n"
     ]
    }
   ],
   "source": [
    "# переводим столбец first_day_exposition из object в datetime\n",
    "data['first_day_exposition'] = pd.to_datetime(data.first_day_exposition)\n",
    "data.info() # проверяем получилось ли перевести данные"
   ]
  },
  {
   "cell_type": "markdown",
   "metadata": {},
   "source": [
    "**Вывод**"
   ]
  },
  {
   "cell_type": "markdown",
   "metadata": {},
   "source": [
    "Для удобства работы и визуальной \"чистоты\" в столбцах, там где дробные значения излишни, они были заменены на целочисленные. В столбцах без пропусков был заменен тип данных с float на int просто методом astype. \n",
    "\n",
    "При попытке заменить данные в столбцах с NaN оказалось невозможно сменить тип данных на int, в связи с тем, что NaN является float значением и в этих случаях необходимо эти пропуски предварительно заполнить. \n",
    "Однако для столбцов *airports_nearest, cityCenters_nearest, parks_nearest, ponds_nearest ceiling_height, floors_total, living_area, kitchen_area, locality_name, days_exposition* использовать усредненные данные или заполнять пропуски нулевыми значениями, выглядит нецелесообразно и может существенно повлиять на данные, поэтому на данном этапе типы данных в этих столбцах сохранены.\n",
    "\n",
    "В столбце 'first_day_exposition' текстовое указание дата переведено в формат даты datetime для дальнейшей работы (разделения на неделю, месяц, год)"
   ]
  },
  {
   "cell_type": "markdown",
   "metadata": {},
   "source": [
    "## Расчёты и добавление результатов в таблицу"
   ]
  },
  {
   "cell_type": "code",
   "execution_count": 9,
   "metadata": {},
   "outputs": [],
   "source": [
    "# создаем столбец для рассчета цены за кв.м\n",
    "data['price_per_square'] = data['last_price'] / data['total_area']\n",
    "# data['price_per_square'].round() # округляем\n",
    "data['price_per_square'] = data['price_per_square'].astype(int) # переводим в int"
   ]
  },
  {
   "cell_type": "code",
   "execution_count": 10,
   "metadata": {},
   "outputs": [],
   "source": [
    "# cоздаем столбцы с днем недели, месяцем и годом\n",
    "\n",
    "data['weekday'] = data['first_day_exposition'].dt.weekday\n",
    "data['month'] = data['first_day_exposition'].dt.month\n",
    "data['year'] = data['first_day_exposition'].dt.year"
   ]
  },
  {
   "cell_type": "code",
   "execution_count": 11,
   "metadata": {},
   "outputs": [],
   "source": [
    "# создаем столбец для определения этажей через функцию\n",
    "\n",
    "def floor_type(row):\n",
    "    floor = row['floor']\n",
    "    floors_total = row['floors_total']\n",
    "    try:\n",
    "        if floor == 1:\n",
    "            return 'первый'\n",
    "        if floor == floors_total and floor != 1:\n",
    "            return 'последний'\n",
    "        return 'другое'\n",
    "    except:\n",
    "        print('Не удалось обработать данные')\n",
    "\n",
    "data['floor_type'] = data.apply(floor_type, axis=1)"
   ]
  },
  {
   "cell_type": "code",
   "execution_count": 12,
   "metadata": {},
   "outputs": [
    {
     "data": {
      "image/png": "[encoded data removed]",
      "text/plain": [
       "<Figure size 432x288 with 1 Axes>"
      ]
     },
     "metadata": {
      "needs_background": "light"
     },
     "output_type": "display_data"
    }
   ],
   "source": [
    "# создаем столбец с соотношением жилой и общей площади\n",
    "\n",
    "data['living_ratio'] = data['living_area'] / data['total_area']\n",
    "data['living_ratio'].hist(bins=20);\n",
    "plt.xlabel('Отношение жилой площади к общей');"
   ]
  },
  {
   "cell_type": "code",
   "execution_count": 13,
   "metadata": {},
   "outputs": [
    {
     "data": {
      "image/png": "[encoded data removed]",
      "text/plain": [
       "<Figure size 432x288 with 1 Axes>"
      ]
     },
     "metadata": {
      "needs_background": "light"
     },
     "output_type": "display_data"
    }
   ],
   "source": [
    "# создаем столбец с отношением площади кухни к общей площади\n",
    "\n",
    "data['kitchen_ratio'] = data['kitchen_area'] / data['total_area']\n",
    "data['kitchen_ratio'].hist();\n",
    "plt.xlabel('Отношение площади кухни к общей');"
   ]
  },
  {
   "cell_type": "markdown",
   "metadata": {},
   "source": [
    "## Исследовательский анализ данных"
   ]
  },
  {
   "cell_type": "markdown",
   "metadata": {},
   "source": [
    "### Изучить следующие параметры: площадь, цена, число комнат, высота потолка"
   ]
  },
  {
   "cell_type": "markdown",
   "metadata": {},
   "source": [
    "#### Площадь"
   ]
  },
  {
   "cell_type": "code",
   "execution_count": 14,
   "metadata": {},
   "outputs": [
    {
     "data": {
      "text/plain": [
       "60.34865099793241"
      ]
     },
     "metadata": {},
     "output_type": "display_data"
    },
    {
     "data": {
      "text/plain": [
       "52.0"
      ]
     },
     "execution_count": 14,
     "metadata": {},
     "output_type": "execute_result"
    }
   ],
   "source": [
    "display(data['total_area'].mean())\n",
    "data['total_area'].median()"
   ]
  },
  {
   "cell_type": "code",
   "execution_count": 15,
   "metadata": {},
   "outputs": [
    {
     "data": {
      "image/png": "[encoded data removed]",
      "text/plain": [
       "<Figure size 432x288 with 1 Axes>"
      ]
     },
     "metadata": {
      "needs_background": "light"
     },
     "output_type": "display_data"
    }
   ],
   "source": [
    "data['total_area'].hist();\n",
    "plt.xlabel('Общая площадь в кв.м');\n",
    "plt.title('Площадь квартир');"
   ]
  },
  {
   "cell_type": "markdown",
   "metadata": {},
   "source": [
    "<a id='cell1'></a>"
   ]
  },
  {
   "cell_type": "code",
   "execution_count": 16,
   "metadata": {},
   "outputs": [
    {
     "data": {
      "image/png": "[encoded data removed]",
      "text/plain": [
       "<Figure size 432x288 with 1 Axes>"
      ]
     },
     "metadata": {
      "needs_background": "light"
     },
     "output_type": "display_data"
    }
   ],
   "source": [
    "data['total_area'].hist(range=(10,200), bins=20);\n",
    "plt.xlabel('Общая площадь в кв.м');\n",
    "plt.title('Площадь квартир без крайних значений');"
   ]
  },
  {
   "cell_type": "code",
   "execution_count": 17,
   "metadata": {},
   "outputs": [
    {
     "data": {
      "text/plain": [
       "27"
      ]
     },
     "metadata": {},
     "output_type": "display_data"
    },
    {
     "data": {
      "text/plain": [
       "61"
      ]
     },
     "execution_count": 17,
     "metadata": {},
     "output_type": "execute_result"
    }
   ],
   "source": [
    "display(len(data.query('total_area < 20')))\n",
    "len(data.query('total_area > 300'))"
   ]
  },
  {
   "cell_type": "markdown",
   "metadata": {},
   "source": [
    "Большая часть квартир имеет общую площадь в диапазоне между 25-75 кв.м., однако есть единичные случаи аномальных значений в 900 и менее 15 кв.м. Средняя площадь квартир 60, а медианная 52 кв.м, что и подтверждается на [гистограмме](#cell1) 'Площадь квартир без крайних значений'. Это связано с тем, что крайних значений достаточно мало: всего 27 объектов менее 20 кв.м и 61 — больше 300 кв.м. В обоих случаях эти доля этих значений меньше 0,3% от общей базы."
   ]
  },
  {
   "cell_type": "markdown",
   "metadata": {},
   "source": [
    "#### Цена"
   ]
  },
  {
   "cell_type": "code",
   "execution_count": 18,
   "metadata": {},
   "outputs": [
    {
     "name": "stdout",
     "output_type": "stream",
     "text": [
      "Средняя цена по всей базе: 6541549.0\n",
      "Медианная цена по всей базе: 4650000.0\n"
     ]
    }
   ],
   "source": [
    "print('Средняя цена по всей базе:',data['last_price'].mean().round())\n",
    "print('Медианная цена по всей базе:', data['last_price'].median())"
   ]
  },
  {
   "cell_type": "code",
   "execution_count": 19,
   "metadata": {},
   "outputs": [
    {
     "data": {
      "image/png": "[encoded data removed]",
      "text/plain": [
       "<Figure size 432x288 with 1 Axes>"
      ]
     },
     "metadata": {
      "needs_background": "light"
     },
     "output_type": "display_data"
    }
   ],
   "source": [
    "data['last_price'].hist();\n",
    "plt.xlabel('Цена в сотнях млн');\n",
    "plt.title('Стоимость квартир');\n",
    "\n",
    "# эта гистограмма нам ничего не говорит, поэтому построим другую"
   ]
  },
  {
   "cell_type": "markdown",
   "metadata": {},
   "source": [
    "<a id=cell2></a>"
   ]
  },
  {
   "cell_type": "code",
   "execution_count": 20,
   "metadata": {},
   "outputs": [
    {
     "data": {
      "image/png": "[encoded data removed]",
      "text/plain": [
       "<Figure size 504x288 with 1 Axes>"
      ]
     },
     "metadata": {
      "needs_background": "light"
     },
     "output_type": "display_data"
    }
   ],
   "source": [
    "data['last_price'].hist(range=(0,20000000), figsize=(7,4), bins=20);\n",
    "plt.xlabel('Цена в десятках млн');\n",
    "plt.title('Стоимость квартир без крайних значений');"
   ]
  },
  {
   "cell_type": "code",
   "execution_count": 21,
   "metadata": {},
   "outputs": [
    {
     "name": "stdout",
     "output_type": "stream",
     "text": [
      "Количество объектов дороже 10 млн: 2721\n",
      "Количество объектов дешевле 1 млн: 225\n"
     ]
    }
   ],
   "source": [
    "print('Количество объектов дороже 10 млн:', len(data.query('last_price > 10000000')))\n",
    "print('Количество объектов дешевле 1 млн:', len(data.query('last_price < 1000000')))"
   ]
  },
  {
   "cell_type": "code",
   "execution_count": 22,
   "metadata": {},
   "outputs": [
    {
     "name": "stdout",
     "output_type": "stream",
     "text": [
      "Самый дорогой объект в базе стоит 763000000\n",
      "Самый недорогой объект в базе стоит 12190\n"
     ]
    }
   ],
   "source": [
    "print('Самый дорогой объект в базе стоит', data['last_price'].max())\n",
    "print('Самый недорогой объект в базе стоит', data['last_price'].min())"
   ]
  },
  {
   "cell_type": "code",
   "execution_count": 23,
   "metadata": {},
   "outputs": [
    {
     "name": "stdout",
     "output_type": "stream",
     "text": [
      "Количество объектов в диапазоне от 10 до 100 млн: 2684\n",
      "Медианная стоимость этих объектов: 14200000.0\n",
      "Cредняя стоимость этих объектов: 18776347.0\n"
     ]
    }
   ],
   "source": [
    "    print('Количество объектов в диапазоне от 10 до 100 млн:', \n",
    "          len(data.query('last_price > 10000000 & last_price < 100000000'))\n",
    "         )\n",
    "    print('Медианная стоимость этих объектов:', \n",
    "          data.query('last_price > 10000000 & last_price < 100000000')['last_price'].median()\n",
    "         )\n",
    "    print('Cредняя стоимость этих объектов:', \n",
    "          data.query('last_price > 10000000 & last_price < 100000000')['last_price'].mean().round()\n",
    "         )"
   ]
  },
  {
   "cell_type": "code",
   "execution_count": 24,
   "metadata": {},
   "outputs": [
    {
     "data": {
      "image/png": "[encoded data removed]",
      "text/plain": [
       "<Figure size 432x288 with 1 Axes>"
      ]
     },
     "metadata": {
      "needs_background": "light"
     },
     "output_type": "display_data"
    }
   ],
   "source": [
    "# выводим гистограмму с объектами от 10 до 100 млн\n",
    "data.query('last_price > 10000000').hist('last_price', range=(10000000,100000000), bins=20); \n",
    "plt.xlabel('Цена в сотнях млн');\n",
    "plt.title('Объекты от 10 до 100 млн');"
   ]
  },
  {
   "cell_type": "markdown",
   "metadata": {},
   "source": [
    "Преобладающее большинство объектов стоит меньше 10 млн рублей. Это видно на [гистограмме](#cell2) \"Стоимость квартир без крайних значений\". Средняя цена объектов в базе — 6,5 млн рублей, медианная — 4,6 млн. Это также визуализировано на гистограммах выше.\n",
    "\n",
    "Количество объектов дороже 10 млн — 2721, а дешевле 1 млн — 225. В первом случае, речь идет о выборке, в которой больше 10% объектов, во втором о доле меньше 0,3%. \n",
    "\n",
    "Среди сегмента объектов дороже 10 млн рублей, практически все объекты находятся в диапазоне до 100 млн рублей. Только порядка 1,5% объектов (в сегменте от 10 млн) стоят свыше 100 млн. Среди крайне дорогих объектов можно выделить самый дорогой в базе: 763 млн рублей за 400 кв.м. \n",
    "\n",
    "В сегменте дорогих объектов (от 10 до 100 млн), большая часть из них (~95%) стоит до 40 млн рублей, средняя стоимость в этом сегменте 18,7 млн, медиана 14 млн, что видно на гистограмме \"Объекты от 10 до 100 млн\"."
   ]
  },
  {
   "cell_type": "markdown",
   "metadata": {},
   "source": [
    "#### Число комнат"
   ]
  },
  {
   "cell_type": "code",
   "execution_count": 25,
   "metadata": {},
   "outputs": [
    {
     "name": "stdout",
     "output_type": "stream",
     "text": [
      "Среднее количество комнат в объектах по всей базе: 2.07\n",
      "Медианное количество комнат в объектах по всей базе: 2.0\n",
      "Наибольшее количество комнат у одного объекта в базе: 19\n"
     ]
    }
   ],
   "source": [
    "print('Среднее количество комнат в объектах по всей базе:',data['rooms'].mean().round(2))\n",
    "print('Медианное количество комнат в объектах по всей базе:', data['rooms'].median())\n",
    "print('Наибольшее количество комнат у одного объекта в базе:', data['rooms'].max())"
   ]
  },
  {
   "cell_type": "markdown",
   "metadata": {},
   "source": [
    "<a id='cell3'></a>"
   ]
  },
  {
   "cell_type": "code",
   "execution_count": 26,
   "metadata": {},
   "outputs": [
    {
     "data": {
      "image/png": "[encoded data removed]",
      "text/plain": [
       "<Figure size 432x288 with 1 Axes>"
      ]
     },
     "metadata": {
      "needs_background": "light"
     },
     "output_type": "display_data"
    }
   ],
   "source": [
    "data['rooms'].hist();\n",
    "plt.xlabel('Количество комнат');\n",
    "plt.title('Количество комнат у объектов всей базы');"
   ]
  },
  {
   "cell_type": "markdown",
   "metadata": {},
   "source": [
    "<a id='cell4'></a>"
   ]
  },
  {
   "cell_type": "code",
   "execution_count": 27,
   "metadata": {},
   "outputs": [
    {
     "data": {
      "image/png": "[encoded data removed]",
      "text/plain": [
       "<Figure size 432x288 with 1 Axes>"
      ]
     },
     "metadata": {
      "needs_background": "light"
     },
     "output_type": "display_data"
    }
   ],
   "source": [
    "data['rooms'].hist(range=(0,5), bins=6);\n",
    "plt.xlabel('Количество комнат');\n",
    "plt.title('Количество комнат у объектов без крайних значений');"
   ]
  },
  {
   "cell_type": "code",
   "execution_count": 28,
   "metadata": {},
   "outputs": [
    {
     "name": "stdout",
     "output_type": "stream",
     "text": [
      "Количество объектов с 0 комнат: 197\n",
      "Количество объектов с 0 комнат, являющихся студиями: 138\n",
      "Количество объектов с 0 комнат, НЕ являющихся студиями: 59\n"
     ]
    }
   ],
   "source": [
    "print('Количество объектов с 0 комнат:', len(data.query('rooms == 0')))\n",
    "print('Количество объектов с 0 комнат, являющихся студиями:', len(data.query('rooms == 0 & studio == True')))\n",
    "print('Количество объектов с 0 комнат, НЕ являющихся студиями:', len(data.query('rooms == 0 & studio == False')))"
   ]
  },
  {
   "cell_type": "code",
   "execution_count": 29,
   "metadata": {},
   "outputs": [
    {
     "name": "stdout",
     "output_type": "stream",
     "text": [
      "Количество объектов c 1-3 комнатами: 21801\n",
      "Количество объектов с 4 и более комнатами: 1701\n"
     ]
    }
   ],
   "source": [
    "print('Количество объектов c 1-3 комнатами:', len(data.query('rooms >= 1 & rooms <= 3')))\n",
    "print('Количество объектов с 4 и более комнатами:', len(data.query('rooms > 3')))"
   ]
  },
  {
   "cell_type": "code",
   "execution_count": 30,
   "metadata": {},
   "outputs": [
    {
     "data": {
      "image/png": "[encoded data removed]",
      "text/plain": [
       "<Figure size 432x288 with 1 Axes>"
      ]
     },
     "metadata": {
      "needs_background": "light"
     },
     "output_type": "display_data"
    }
   ],
   "source": [
    "data.query('rooms > 3').hist('rooms');"
   ]
  },
  {
   "cell_type": "code",
   "execution_count": 31,
   "metadata": {
    "scrolled": false
   },
   "outputs": [
    {
     "name": "stdout",
     "output_type": "stream",
     "text": [
      "Количество квартир со свободной планировкой среди сегмента НЕ студий с 0 комнат: 59\n"
     ]
    }
   ],
   "source": [
    "print('Количество квартир со свободной планировкой среди сегмента НЕ студий с 0 комнат:', \n",
    "      len(data.query('rooms == 0 & studio == False & open_plan == True')))"
   ]
  },
  {
   "cell_type": "code",
   "execution_count": 32,
   "metadata": {},
   "outputs": [
    {
     "data": {
      "text/html": [
       "<div>\n",
       "<style scoped>\n",
       "    .dataframe tbody tr th:only-of-type {\n",
       "        vertical-align: middle;\n",
       "    }\n",
       "\n",
       "    .dataframe tbody tr th {\n",
       "        vertical-align: top;\n",
       "    }\n",
       "\n",
       "    .dataframe thead th {\n",
       "        text-align: right;\n",
       "    }\n",
       "</style>\n",
       "<table border=\"1\" class=\"dataframe\">\n",
       "  <thead>\n",
       "    <tr style=\"text-align: right;\">\n",
       "      <th></th>\n",
       "      <th>total_images</th>\n",
       "      <th>last_price</th>\n",
       "      <th>total_area</th>\n",
       "      <th>first_day_exposition</th>\n",
       "      <th>rooms</th>\n",
       "      <th>ceiling_height</th>\n",
       "      <th>floors_total</th>\n",
       "      <th>living_area</th>\n",
       "      <th>floor</th>\n",
       "      <th>is_apartment</th>\n",
       "      <th>...</th>\n",
       "      <th>ponds_around3000</th>\n",
       "      <th>ponds_nearest</th>\n",
       "      <th>days_exposition</th>\n",
       "      <th>price_per_square</th>\n",
       "      <th>weekday</th>\n",
       "      <th>month</th>\n",
       "      <th>year</th>\n",
       "      <th>floor_type</th>\n",
       "      <th>living_ratio</th>\n",
       "      <th>kitchen_ratio</th>\n",
       "    </tr>\n",
       "  </thead>\n",
       "  <tbody>\n",
       "    <tr>\n",
       "      <td>1379</td>\n",
       "      <td>3</td>\n",
       "      <td>6000000</td>\n",
       "      <td>44.2</td>\n",
       "      <td>2015-11-10</td>\n",
       "      <td>1</td>\n",
       "      <td>NaN</td>\n",
       "      <td>25.0</td>\n",
       "      <td>17.4</td>\n",
       "      <td>23</td>\n",
       "      <td>False</td>\n",
       "      <td>...</td>\n",
       "      <td>0</td>\n",
       "      <td>NaN</td>\n",
       "      <td>231.0</td>\n",
       "      <td>135746</td>\n",
       "      <td>1</td>\n",
       "      <td>11</td>\n",
       "      <td>2015</td>\n",
       "      <td>другое</td>\n",
       "      <td>0.393665</td>\n",
       "      <td>NaN</td>\n",
       "    </tr>\n",
       "    <tr>\n",
       "      <td>5668</td>\n",
       "      <td>9</td>\n",
       "      <td>3550000</td>\n",
       "      <td>36.7</td>\n",
       "      <td>2016-04-25</td>\n",
       "      <td>1</td>\n",
       "      <td>2.75</td>\n",
       "      <td>16.0</td>\n",
       "      <td>17.8</td>\n",
       "      <td>2</td>\n",
       "      <td>False</td>\n",
       "      <td>...</td>\n",
       "      <td>0</td>\n",
       "      <td>NaN</td>\n",
       "      <td>61.0</td>\n",
       "      <td>96730</td>\n",
       "      <td>0</td>\n",
       "      <td>4</td>\n",
       "      <td>2016</td>\n",
       "      <td>другое</td>\n",
       "      <td>0.485014</td>\n",
       "      <td>NaN</td>\n",
       "    </tr>\n",
       "    <tr>\n",
       "      <td>8861</td>\n",
       "      <td>13</td>\n",
       "      <td>5500000</td>\n",
       "      <td>64.5</td>\n",
       "      <td>2015-11-13</td>\n",
       "      <td>3</td>\n",
       "      <td>3.00</td>\n",
       "      <td>5.0</td>\n",
       "      <td>48.0</td>\n",
       "      <td>2</td>\n",
       "      <td>False</td>\n",
       "      <td>...</td>\n",
       "      <td>2</td>\n",
       "      <td>204.0</td>\n",
       "      <td>229.0</td>\n",
       "      <td>85271</td>\n",
       "      <td>4</td>\n",
       "      <td>11</td>\n",
       "      <td>2015</td>\n",
       "      <td>другое</td>\n",
       "      <td>0.744186</td>\n",
       "      <td>NaN</td>\n",
       "    </tr>\n",
       "    <tr>\n",
       "      <td>9063</td>\n",
       "      <td>6</td>\n",
       "      <td>3800000</td>\n",
       "      <td>39.0</td>\n",
       "      <td>2016-05-19</td>\n",
       "      <td>1</td>\n",
       "      <td>NaN</td>\n",
       "      <td>17.0</td>\n",
       "      <td>30.0</td>\n",
       "      <td>1</td>\n",
       "      <td>False</td>\n",
       "      <td>...</td>\n",
       "      <td>0</td>\n",
       "      <td>NaN</td>\n",
       "      <td>45.0</td>\n",
       "      <td>97435</td>\n",
       "      <td>3</td>\n",
       "      <td>5</td>\n",
       "      <td>2016</td>\n",
       "      <td>первый</td>\n",
       "      <td>0.769231</td>\n",
       "      <td>NaN</td>\n",
       "    </tr>\n",
       "    <tr>\n",
       "      <td>12760</td>\n",
       "      <td>0</td>\n",
       "      <td>3350000</td>\n",
       "      <td>51.0</td>\n",
       "      <td>2015-01-22</td>\n",
       "      <td>2</td>\n",
       "      <td>2.50</td>\n",
       "      <td>12.0</td>\n",
       "      <td>30.0</td>\n",
       "      <td>10</td>\n",
       "      <td>False</td>\n",
       "      <td>...</td>\n",
       "      <td>0</td>\n",
       "      <td>NaN</td>\n",
       "      <td>521.0</td>\n",
       "      <td>65686</td>\n",
       "      <td>3</td>\n",
       "      <td>1</td>\n",
       "      <td>2015</td>\n",
       "      <td>другое</td>\n",
       "      <td>0.588235</td>\n",
       "      <td>NaN</td>\n",
       "    </tr>\n",
       "    <tr>\n",
       "      <td>14017</td>\n",
       "      <td>13</td>\n",
       "      <td>3990000</td>\n",
       "      <td>59.0</td>\n",
       "      <td>2016-03-29</td>\n",
       "      <td>3</td>\n",
       "      <td>2.50</td>\n",
       "      <td>9.0</td>\n",
       "      <td>37.6</td>\n",
       "      <td>3</td>\n",
       "      <td>False</td>\n",
       "      <td>...</td>\n",
       "      <td>1</td>\n",
       "      <td>705.0</td>\n",
       "      <td>81.0</td>\n",
       "      <td>67627</td>\n",
       "      <td>1</td>\n",
       "      <td>3</td>\n",
       "      <td>2016</td>\n",
       "      <td>другое</td>\n",
       "      <td>0.637288</td>\n",
       "      <td>NaN</td>\n",
       "    </tr>\n",
       "    <tr>\n",
       "      <td>17783</td>\n",
       "      <td>3</td>\n",
       "      <td>48763000</td>\n",
       "      <td>157.0</td>\n",
       "      <td>2016-04-01</td>\n",
       "      <td>5</td>\n",
       "      <td>NaN</td>\n",
       "      <td>11.0</td>\n",
       "      <td>NaN</td>\n",
       "      <td>5</td>\n",
       "      <td>False</td>\n",
       "      <td>...</td>\n",
       "      <td>3</td>\n",
       "      <td>221.0</td>\n",
       "      <td>90.0</td>\n",
       "      <td>310592</td>\n",
       "      <td>4</td>\n",
       "      <td>4</td>\n",
       "      <td>2016</td>\n",
       "      <td>другое</td>\n",
       "      <td>NaN</td>\n",
       "      <td>NaN</td>\n",
       "    </tr>\n",
       "    <tr>\n",
       "      <td>19796</td>\n",
       "      <td>1</td>\n",
       "      <td>12000000</td>\n",
       "      <td>97.2</td>\n",
       "      <td>2016-04-05</td>\n",
       "      <td>4</td>\n",
       "      <td>3.35</td>\n",
       "      <td>5.0</td>\n",
       "      <td>71.3</td>\n",
       "      <td>2</td>\n",
       "      <td>False</td>\n",
       "      <td>...</td>\n",
       "      <td>0</td>\n",
       "      <td>NaN</td>\n",
       "      <td>89.0</td>\n",
       "      <td>123456</td>\n",
       "      <td>1</td>\n",
       "      <td>4</td>\n",
       "      <td>2016</td>\n",
       "      <td>другое</td>\n",
       "      <td>0.733539</td>\n",
       "      <td>NaN</td>\n",
       "    </tr>\n",
       "  </tbody>\n",
       "</table>\n",
       "<p>8 rows × 29 columns</p>\n",
       "</div>"
      ],
      "text/plain": [
       "       total_images  last_price  total_area first_day_exposition  rooms  \\\n",
       "1379              3     6000000        44.2           2015-11-10      1   \n",
       "5668              9     3550000        36.7           2016-04-25      1   \n",
       "8861             13     5500000        64.5           2015-11-13      3   \n",
       "9063              6     3800000        39.0           2016-05-19      1   \n",
       "12760             0     3350000        51.0           2015-01-22      2   \n",
       "14017            13     3990000        59.0           2016-03-29      3   \n",
       "17783             3    48763000       157.0           2016-04-01      5   \n",
       "19796             1    12000000        97.2           2016-04-05      4   \n",
       "\n",
       "       ceiling_height  floors_total  living_area  floor  is_apartment  ...  \\\n",
       "1379              NaN          25.0         17.4     23         False  ...   \n",
       "5668             2.75          16.0         17.8      2         False  ...   \n",
       "8861             3.00           5.0         48.0      2         False  ...   \n",
       "9063              NaN          17.0         30.0      1         False  ...   \n",
       "12760            2.50          12.0         30.0     10         False  ...   \n",
       "14017            2.50           9.0         37.6      3         False  ...   \n",
       "17783             NaN          11.0          NaN      5         False  ...   \n",
       "19796            3.35           5.0         71.3      2         False  ...   \n",
       "\n",
       "       ponds_around3000  ponds_nearest  days_exposition  price_per_square  \\\n",
       "1379                  0            NaN            231.0            135746   \n",
       "5668                  0            NaN             61.0             96730   \n",
       "8861                  2          204.0            229.0             85271   \n",
       "9063                  0            NaN             45.0             97435   \n",
       "12760                 0            NaN            521.0             65686   \n",
       "14017                 1          705.0             81.0             67627   \n",
       "17783                 3          221.0             90.0            310592   \n",
       "19796                 0            NaN             89.0            123456   \n",
       "\n",
       "      weekday  month  year  floor_type  living_ratio  kitchen_ratio  \n",
       "1379        1     11  2015      другое      0.393665            NaN  \n",
       "5668        0      4  2016      другое      0.485014            NaN  \n",
       "8861        4     11  2015      другое      0.744186            NaN  \n",
       "9063        3      5  2016      первый      0.769231            NaN  \n",
       "12760       3      1  2015      другое      0.588235            NaN  \n",
       "14017       1      3  2016      другое      0.637288            NaN  \n",
       "17783       4      4  2016      другое           NaN            NaN  \n",
       "19796       1      4  2016      другое      0.733539            NaN  \n",
       "\n",
       "[8 rows x 29 columns]"
      ]
     },
     "execution_count": 32,
     "metadata": {},
     "output_type": "execute_result"
    }
   ],
   "source": [
    "data.query('open_plan ==True & rooms !=0')"
   ]
  },
  {
   "cell_type": "markdown",
   "metadata": {},
   "source": [
    "Среднее и медианное количество комнат около 2, что также визуально заметно на [гистограмме](#cell3) \"Количество комнат у объектов по всей базе\".\n",
    "Большая часть объявлений имеет от 1 до 3 комнат, таких объектов 21801 (~92%). Еще 1701 объект (около 7%) — объекты с 4 комнатами и больше, и оставшиеся доли процента около 0,8% от общей базы,  то есть 197 объектов, это помещения, в которых формально 0 комнат. Это также видно на [гистограмме](#cell4) \"Количество комнат у объектов без крайних значений\"\n",
    "\n",
    "Однако не все из этих помещений являются студиями, так, 59 объявлений имеют нулевые значения в столбце *rooms* и отрицательные значения в столбце *studio*. Эти объекты являются помещениями со свободной планировкой. Таких в базе всего 67, у оставшихся 8 из них указано количество комнат от 1 до 5. Возможно, это связано с различиями в понимании термина \"свободная планировка\". Впрочем, в связи с тем, что таких объектов очень мало, они не повлияют на общую ситуацию по базе."
   ]
  },
  {
   "cell_type": "markdown",
   "metadata": {},
   "source": [
    "#### Высота потолков"
   ]
  },
  {
   "cell_type": "code",
   "execution_count": 33,
   "metadata": {},
   "outputs": [
    {
     "name": "stdout",
     "output_type": "stream",
     "text": [
      "Средняя высота потолков: 2.77\n",
      "Медианная высота потолков: 2.65\n"
     ]
    }
   ],
   "source": [
    "print('Средняя высота потолков:', data['ceiling_height'].mean().round(2))\n",
    "print('Медианная высота потолков:', data['ceiling_height'].median())"
   ]
  },
  {
   "cell_type": "code",
   "execution_count": 34,
   "metadata": {},
   "outputs": [
    {
     "name": "stdout",
     "output_type": "stream",
     "text": [
      "Максимальная высота потолков: 100.0\n",
      "Минимальная высота потолков: 1.0\n"
     ]
    }
   ],
   "source": [
    "print('Максимальная высота потолков:', data['ceiling_height'].max())\n",
    "print('Минимальная высота потолков:', data['ceiling_height'].min())"
   ]
  },
  {
   "cell_type": "code",
   "execution_count": 35,
   "metadata": {
    "scrolled": true
   },
   "outputs": [
    {
     "name": "stdout",
     "output_type": "stream",
     "text": [
      "Количество объектов с высотой потолка ниже 2.5 м: 73\n",
      "Количество объектов с высотой потолка выше 3.5 м: 304\n"
     ]
    }
   ],
   "source": [
    "print('Количество объектов с высотой потолка ниже 2.5 м:', \n",
    "\n",
    "      len(data.query('ceiling_height < 2.50')))\n",
    "\n",
    "print('Количество объектов с высотой потолка выше 3.5 м:', \n",
    "\n",
    "      len(data.query('ceiling_height > 3.5')))"
   ]
  },
  {
   "cell_type": "markdown",
   "metadata": {},
   "source": [
    "<a id='cell5'></a>"
   ]
  },
  {
   "cell_type": "code",
   "execution_count": 36,
   "metadata": {},
   "outputs": [
    {
     "data": {
      "image/png": "[encoded data removed]",
      "text/plain": [
       "<Figure size 432x288 with 1 Axes>"
      ]
     },
     "metadata": {
      "needs_background": "light"
     },
     "output_type": "display_data"
    }
   ],
   "source": [
    "# гистограмма по всей базе без ограничения диапазона визуально не репрезентабельна, поэтому строим сразу такую=)\n",
    "\n",
    "data['ceiling_height'].hist(range=(2.5,5));\n",
    "plt.xlabel('Высота потолков в метрах');\n",
    "plt.title('Высота потолков от 2.5 до 5 м');"
   ]
  },
  {
   "cell_type": "code",
   "execution_count": 37,
   "metadata": {},
   "outputs": [],
   "source": [
    "# создаем столбец, где категоризируем базу по высоте потолков\n",
    "\n",
    "def ceiling(row):\n",
    "    height = row['ceiling_height']\n",
    "    try:\n",
    "        if height < 2.5:\n",
    "            return 'низкие потолки'\n",
    "        if height >= 2.5 and height < 3:\n",
    "            return 'нормальные потолки'\n",
    "        if height >= 3 and height < 5:\n",
    "            return 'высокие потолки'\n",
    "        if height >= 5:\n",
    "            return 'очень высокие потолки'\n",
    "        return 'нет данных'\n",
    "    except:\n",
    "        print('Не удалось обработать данные')\n",
    "\n",
    "data['ceiling'] = data.apply(ceiling, axis=1)"
   ]
  },
  {
   "cell_type": "code",
   "execution_count": 38,
   "metadata": {},
   "outputs": [
    {
     "data": {
      "text/plain": [
       "нормальные потолки       49.748935\n",
       "нет данных               38.799105\n",
       "высокие потолки          10.987805\n",
       "низкие потолки            0.308030\n",
       "очень высокие потолки     0.156125\n",
       "Name: ceiling, dtype: float64"
      ]
     },
     "execution_count": 38,
     "metadata": {},
     "output_type": "execute_result"
    }
   ],
   "source": [
    "data['ceiling'].value_counts(normalize=True).mul(100) # распределение по высоте потолков в базе"
   ]
  },
  {
   "cell_type": "code",
   "execution_count": 39,
   "metadata": {},
   "outputs": [
    {
     "data": {
      "image/png": "[encoded data removed]",
      "text/plain": [
       "<Figure size 576x288 with 1 Axes>"
      ]
     },
     "metadata": {
      "needs_background": "light"
     },
     "output_type": "display_data"
    }
   ],
   "source": [
    "data['ceiling'].value_counts(normalize=True).mul(100).plot(\n",
    "    kind='barh',figsize=(8,4), \n",
    "    title='Распределение объектов по высоте потолков в %'\n",
    ");"
   ]
  },
  {
   "cell_type": "code",
   "execution_count": 40,
   "metadata": {},
   "outputs": [
    {
     "data": {
      "text/plain": [
       "нормальные потолки       11790\n",
       "нет данных                9195\n",
       "высокие потолки           2604\n",
       "низкие потолки              73\n",
       "очень высокие потолки       37\n",
       "Name: ceiling, dtype: int64"
      ]
     },
     "execution_count": 40,
     "metadata": {},
     "output_type": "execute_result"
    }
   ],
   "source": [
    "data['ceiling'].value_counts() # распределение по высоте потолков"
   ]
  },
  {
   "cell_type": "markdown",
   "metadata": {},
   "source": [
    "Средняя высота потолков по базе - 2.77, медианная 2.65, что в целом соответствует норме как для построек советского фонда, так и современных стандартных новостроек. Это также видно на [гистограмме](#cell5) \"Высота потолков от 2.5 до 5 м\" выше.  \n",
    "\n",
    "С крайними значениями все более запутанно: максимальная высота потолка в одном из объектов достигает 100 метров, а минимальная одного метра. Квартира с метровыми потолками не соответствует требованиям к жилью и вероятно в данных была допущена ошибка, но поскольку объектов с высотой потолка меньше 2 метров всего 3, а в высотой потолка ниже минимально допустимых 2.5 метров по законодательству РФ для жилых помещений всего 73, их доля в общей базы крайне мала и несущественна. Жилой объект со 100 метровыми потолками тоже крайне маловероятен, скорее всего и здесь допущена ошибка. \n",
    "\n",
    "Количество объектов с высокими потолками более 3.5 метров тоже невелико, их всего 304, что составляет чуть больше 2% от тех объектов, где высота потолков указана.\n",
    "\n",
    "У половины объявлений в таблице эти данные отсутствуют, поэтому речь идет только о 14504 объявлениях, в которых эти данные указаны. В целом, видя имеющийся разброс "
   ]
  },
  {
   "cell_type": "markdown",
   "metadata": {},
   "source": [
    "###### Вывод"
   ]
  },
  {
   "cell_type": "markdown",
   "metadata": {},
   "source": [
    "В ходе изучения параметров площади, цены, числа комнат и высоты было выявлены стандартные значения для каждого из параметров, встречающиеся наиболее часто. \n",
    "\n",
    "На экран выведены финальные версии гистограмм, наиболее ярко характеризующие стандартную ситуацию (все предварительные гистограммы удалены, так как их было слишком много).\n",
    "\n",
    "В выводах по каждому параметру подробно описана логика анализа этих параметров.  "
   ]
  },
  {
   "cell_type": "markdown",
   "metadata": {},
   "source": [
    "### Изучите время продажи квартиры"
   ]
  },
  {
   "cell_type": "code",
   "execution_count": 41,
   "metadata": {},
   "outputs": [
    {
     "data": {
      "image/png": "[encoded data removed]",
      "text/plain": [
       "<Figure size 504x360 with 1 Axes>"
      ]
     },
     "metadata": {
      "needs_background": "light"
     },
     "output_type": "display_data"
    }
   ],
   "source": [
    "data['days_exposition'].plot(kind='hist', title='Время продажи объектов', grid=True, figsize=(7,5));\n",
    "plt.xlabel('Длительность публикации объявления о продаже в днях');"
   ]
  },
  {
   "cell_type": "markdown",
   "metadata": {},
   "source": [
    "<a id='cell6'></a>"
   ]
  },
  {
   "cell_type": "code",
   "execution_count": 42,
   "metadata": {},
   "outputs": [
    {
     "data": {
      "image/png": "[encoded data removed]",
      "text/plain": [
       "<Figure size 504x360 with 1 Axes>"
      ]
     },
     "metadata": {
      "needs_background": "light"
     },
     "output_type": "display_data"
    }
   ],
   "source": [
    "data['days_exposition'].plot(\n",
    "    kind='hist', \n",
    "    title='Время продажи объектов (до 6 месяцев)', \n",
    "    grid=True, \n",
    "    figsize=(7,5),\n",
    "    range=(0, 180), \n",
    "    bins=30);\n",
    "\n",
    "plt.xlabel('Длительность публикации объявления о продаже в днях');"
   ]
  },
  {
   "cell_type": "code",
   "execution_count": 43,
   "metadata": {},
   "outputs": [
    {
     "data": {
      "text/plain": [
       "45.0      880\n",
       "60.0      538\n",
       "7.0       234\n",
       "30.0      208\n",
       "90.0      204\n",
       "         ... \n",
       "1110.0      1\n",
       "1049.0      1\n",
       "951.0       1\n",
       "693.0       1\n",
       "773.0       1\n",
       "Name: days_exposition, Length: 1141, dtype: int64"
      ]
     },
     "execution_count": 43,
     "metadata": {},
     "output_type": "execute_result"
    }
   ],
   "source": [
    "data['days_exposition'].value_counts()"
   ]
  },
  {
   "cell_type": "code",
   "execution_count": 44,
   "metadata": {},
   "outputs": [
    {
     "name": "stdout",
     "output_type": "stream",
     "text": [
      "Среднее количество дней публикации объявления: 180.89\n",
      "Медианное количество дней публикации объявления: 95.0\n",
      "Самый долгий срок публикации объявления: 1580.0 дней\n",
      "Самый короткий срок публикации объявления: 1.0 день\n"
     ]
    }
   ],
   "source": [
    "print('Среднее количество дней публикации объявления:', data['days_exposition'].mean().round(2))\n",
    "print('Медианное количество дней публикации объявления:', data['days_exposition'].median())\n",
    "print('Самый долгий срок публикации объявления:', data['days_exposition'].max(), 'дней')\n",
    "print('Самый короткий срок публикации объявления:', data['days_exposition'].min(), 'день')"
   ]
  },
  {
   "cell_type": "code",
   "execution_count": 45,
   "metadata": {},
   "outputs": [
    {
     "name": "stdout",
     "output_type": "stream",
     "text": [
      "Количество объявлений, снятых с публикации в течение 180 дней: 14016\n",
      "Количество объявлений, снятых с публикации позже 180 дней: 6502\n",
      "Доля объявлений, снятых с публикации в течение 180 дней 0.6831075153523736\n",
      "Доля объявлений, снятых с публикации позже 180 дней 0.3168924846476265\n",
      "Количество объявлений, снятых с публикации позже 1 года: 3061\n",
      "Доля объявлений, снятых с публикации позже 1 года 0.14918608051467006\n"
     ]
    }
   ],
   "source": [
    "print('Количество объявлений, снятых с публикации в течение 180 дней:', \n",
    "      len(data.query('days_exposition <= 180')\n",
    "         ))\n",
    "print('Количество объявлений, снятых с публикации позже 180 дней:', \n",
    "      len(data.query('days_exposition > 180')\n",
    "         ))\n",
    "print('Доля объявлений, снятых с публикации в течение 180 дней', \n",
    "      len(data.query('days_exposition <= 180')) / data['days_exposition'].count()\n",
    "     )\n",
    "print('Доля объявлений, снятых с публикации позже 180 дней', \n",
    "      len(data.query('days_exposition > 180')) / data['days_exposition'].count()\n",
    "     )\n",
    "print('Количество объявлений, снятых с публикации позже 1 года:', \n",
    "      len(data.query('days_exposition > 365')\n",
    "         ))\n",
    "print('Доля объявлений, снятых с публикации позже 1 года', \n",
    "      len(data.query('days_exposition > 365')) / data['days_exposition'].count()\n",
    "     )"
   ]
  },
  {
   "cell_type": "code",
   "execution_count": 46,
   "metadata": {},
   "outputs": [
    {
     "name": "stdout",
     "output_type": "stream",
     "text": [
      "Количество объявлений, снятых с публикации в течение 45 дней: 5093\n",
      "Доля объявлений, снятых с публикации в течение 45 дней 0.24822107417876987\n",
      "Количество объявлений, снятых с публикации в течение 30 дней: 3738\n",
      "Доля объявлений, снятых с публикации в течение 30 дней 0.1821814991714592\n",
      "Количество объявлений, снятых с публикации в течение 10 дней: 1257\n",
      "Доля объявлений, снятых с публикации в течение 10 дней 0.06126328102154206\n"
     ]
    }
   ],
   "source": [
    "print('Количество объявлений, снятых с публикации в течение 45 дней:', \n",
    "      len(data.query('days_exposition <= 45')\n",
    "         ))\n",
    "print('Доля объявлений, снятых с публикации в течение 45 дней', \n",
    "      len(data.query('days_exposition <= 45')) / data['days_exposition'].count()\n",
    "     )\n",
    "print('Количество объявлений, снятых с публикации в течение 30 дней:', \n",
    "      len(data.query('days_exposition <= 30')\n",
    "         ))\n",
    "print('Доля объявлений, снятых с публикации в течение 30 дней', \n",
    "      len(data.query('days_exposition <= 30')) / data['days_exposition'].count()\n",
    "     )\n",
    "print('Количество объявлений, снятых с публикации в течение 10 дней:', \n",
    "      len(data.query('days_exposition <= 10')\n",
    "         ))\n",
    "print('Доля объявлений, снятых с публикации в течение 10 дней', \n",
    "      len(data.query('days_exposition <= 10')) / data['days_exposition'].count()\n",
    "     )"
   ]
  },
  {
   "cell_type": "code",
   "execution_count": 47,
   "metadata": {},
   "outputs": [
    {
     "name": "stdout",
     "output_type": "stream",
     "text": [
      "-0.03 коэффициент корреляции между сроком продажи и количеством фотографий\n"
     ]
    }
   ],
   "source": [
    "# коэффициент корреляции между сроком продажи и количеством фотографий объявления\n",
    "\n",
    "print(data['days_exposition'].corr(data['total_images']).round(2),\n",
    "     'коэффициент корреляции между сроком продажи и количеством фотографий')"
   ]
  },
  {
   "cell_type": "markdown",
   "metadata": {},
   "source": [
    "По гистограмме \"Время продажи объектов\" мы видим, что большая часть квартир продается менее чем за 200 дней. На следующей [гистограмме](#cell6) \"Время продажи объектов (до 6 месяцев)\" можно увидеть несколько пиков снятия объявлений, выпадающих на определенные дни. Пики совпадают с 45, 60, 7, 30, 90 днем активности объявлений. Возможно, это связано с особенностями системы, где объявления снимаются с продажи спустя определенный срок и требуют периодического обновления/перепубликации со стороны продавца.\n",
    "\n",
    "Формально в условиях проекта не говорится о том, что столбец снятие объявления обязательно совмещается с продажей, однако мы можем сделать допущение, что это так. То есть, снятое в любой из дней объявление может объясняться только продажей, а не завершением срока публикации, например. В таком случае, даже объявления, снятые с публикации спустя 1 день или 1580 дней (самые крайние значения в базе), можно считать проданными.\n",
    "\n",
    "В этом столбце *days_exposition* есть отсутствующие значения, поэтому общее число объявлений без пропусков 20518.\n",
    "\n",
    "В среднем объявления снимаются с публикации спустя ровно полгода (180 дней). При этом, медианное количество дней публикации объявления ниже и составляет чуть более трех месяцев (95 дней). Объявлений, снятых с продажи в период вплоть до 6 месяцев всего 14016, что равно почти 70% от общего количества объявлений со сроком публикации. Объявлений, которые провисели дольше 180 дней 6502, около 30%.\n",
    "\n",
    "В среднем срок продажи квартиры до 120-150 дней можно считать нормальным. Об этом говорят также [исследования](https://realty.rbc.ru/news/60366a279a79472d65e9593a) сторонних организаций (хоть речь идет о другом регионе и вторичном рынке, для общего понимания эти данные можно использовать). В наших данных средний срок продажи 180 дней и это связано с относительно большим количеством слишком долгих значений (почти 15% объявлений, не проданных в течение года), однако медиана уже похожа на реальность и 95 дней, то есть, 3 месяца, похоже на логичный и адекватный средний срок.\n",
    "\n",
    "На сроки продажи квартиры могут влиять различные факторы, начиная от цены квартиры, заканчивая наличием и качеством фотографий квартиры в объявлении. С количеством фотографий и сроком продажи квартиры корреляцию обнаружить не удалось. \n",
    "\n",
    "Долгими уже можно называть объявлений, которые были проданы не ранее 6 месяцев; слишком долгими — не ранее года; аномально долгими — больше 2 лет. \n",
    "\n",
    "Аномально быстрыми можно назвать объекты, проданные в течение 10 дней (хотя есть и проданные за 1 день квартиры), таких в базе около 6%. Достаточно быстрыми также являются продажи в течение 30 дней, их порядка 18%. Наибольшее количество объявлений в исходной таблице, было закрыто спустя ровно 45 дней (таких объявлений 880), а срок в 1,5 месяца также можно назвать быстрыми на рынке Санкт-Петербурга, доля квартир, проданных в период до 45 дней составляет почти 25% от общего числа объявлений с наличием данных по времени продажи. \n"
   ]
  },
  {
   "cell_type": "markdown",
   "metadata": {},
   "source": [
    "### Уберите редкие и выбивающиеся значения"
   ]
  },
  {
   "cell_type": "code",
   "execution_count": 48,
   "metadata": {},
   "outputs": [
    {
     "data": {
      "text/html": [
       "<div>\n",
       "<style scoped>\n",
       "    .dataframe tbody tr th:only-of-type {\n",
       "        vertical-align: middle;\n",
       "    }\n",
       "\n",
       "    .dataframe tbody tr th {\n",
       "        vertical-align: top;\n",
       "    }\n",
       "\n",
       "    .dataframe thead th {\n",
       "        text-align: right;\n",
       "    }\n",
       "</style>\n",
       "<table border=\"1\" class=\"dataframe\">\n",
       "  <thead>\n",
       "    <tr style=\"text-align: right;\">\n",
       "      <th></th>\n",
       "      <th>total_images</th>\n",
       "      <th>last_price</th>\n",
       "      <th>total_area</th>\n",
       "      <th>rooms</th>\n",
       "      <th>ceiling_height</th>\n",
       "      <th>floors_total</th>\n",
       "      <th>living_area</th>\n",
       "      <th>floor</th>\n",
       "      <th>kitchen_area</th>\n",
       "      <th>balcony</th>\n",
       "      <th>...</th>\n",
       "      <th>parks_nearest</th>\n",
       "      <th>ponds_around3000</th>\n",
       "      <th>ponds_nearest</th>\n",
       "      <th>days_exposition</th>\n",
       "      <th>price_per_square</th>\n",
       "      <th>weekday</th>\n",
       "      <th>month</th>\n",
       "      <th>year</th>\n",
       "      <th>living_ratio</th>\n",
       "      <th>kitchen_ratio</th>\n",
       "    </tr>\n",
       "  </thead>\n",
       "  <tbody>\n",
       "    <tr>\n",
       "      <td>count</td>\n",
       "      <td>23699.000000</td>\n",
       "      <td>2.369900e+04</td>\n",
       "      <td>23699.000000</td>\n",
       "      <td>23699.000000</td>\n",
       "      <td>14504.000000</td>\n",
       "      <td>23613.000000</td>\n",
       "      <td>21796.000000</td>\n",
       "      <td>23699.000000</td>\n",
       "      <td>21421.000000</td>\n",
       "      <td>23699.000000</td>\n",
       "      <td>...</td>\n",
       "      <td>8079.000000</td>\n",
       "      <td>23699.000000</td>\n",
       "      <td>9110.000000</td>\n",
       "      <td>20518.000000</td>\n",
       "      <td>2.369900e+04</td>\n",
       "      <td>23699.000000</td>\n",
       "      <td>23699.000000</td>\n",
       "      <td>23699.000000</td>\n",
       "      <td>21796.000000</td>\n",
       "      <td>21421.000000</td>\n",
       "    </tr>\n",
       "    <tr>\n",
       "      <td>mean</td>\n",
       "      <td>9.858475</td>\n",
       "      <td>6.541549e+06</td>\n",
       "      <td>60.348651</td>\n",
       "      <td>2.070636</td>\n",
       "      <td>2.771499</td>\n",
       "      <td>10.673824</td>\n",
       "      <td>34.457852</td>\n",
       "      <td>5.892358</td>\n",
       "      <td>10.569807</td>\n",
       "      <td>0.591080</td>\n",
       "      <td>...</td>\n",
       "      <td>490.804555</td>\n",
       "      <td>0.590911</td>\n",
       "      <td>517.980900</td>\n",
       "      <td>180.888634</td>\n",
       "      <td>9.942121e+04</td>\n",
       "      <td>2.569307</td>\n",
       "      <td>6.400101</td>\n",
       "      <td>2017.367146</td>\n",
       "      <td>0.564766</td>\n",
       "      <td>0.187355</td>\n",
       "    </tr>\n",
       "    <tr>\n",
       "      <td>std</td>\n",
       "      <td>5.682529</td>\n",
       "      <td>1.088701e+07</td>\n",
       "      <td>35.654083</td>\n",
       "      <td>1.078405</td>\n",
       "      <td>1.261056</td>\n",
       "      <td>6.597173</td>\n",
       "      <td>22.030445</td>\n",
       "      <td>4.885249</td>\n",
       "      <td>5.905438</td>\n",
       "      <td>0.959298</td>\n",
       "      <td>...</td>\n",
       "      <td>342.317995</td>\n",
       "      <td>0.883999</td>\n",
       "      <td>277.720643</td>\n",
       "      <td>219.727988</td>\n",
       "      <td>5.030681e+04</td>\n",
       "      <td>1.789082</td>\n",
       "      <td>3.491561</td>\n",
       "      <td>1.039771</td>\n",
       "      <td>0.105368</td>\n",
       "      <td>0.072968</td>\n",
       "    </tr>\n",
       "    <tr>\n",
       "      <td>min</td>\n",
       "      <td>0.000000</td>\n",
       "      <td>1.219000e+04</td>\n",
       "      <td>12.000000</td>\n",
       "      <td>0.000000</td>\n",
       "      <td>1.000000</td>\n",
       "      <td>1.000000</td>\n",
       "      <td>2.000000</td>\n",
       "      <td>1.000000</td>\n",
       "      <td>1.300000</td>\n",
       "      <td>0.000000</td>\n",
       "      <td>...</td>\n",
       "      <td>1.000000</td>\n",
       "      <td>0.000000</td>\n",
       "      <td>13.000000</td>\n",
       "      <td>1.000000</td>\n",
       "      <td>1.110000e+02</td>\n",
       "      <td>0.000000</td>\n",
       "      <td>1.000000</td>\n",
       "      <td>2014.000000</td>\n",
       "      <td>0.021583</td>\n",
       "      <td>0.025381</td>\n",
       "    </tr>\n",
       "    <tr>\n",
       "      <td>25%</td>\n",
       "      <td>6.000000</td>\n",
       "      <td>3.400000e+06</td>\n",
       "      <td>40.000000</td>\n",
       "      <td>1.000000</td>\n",
       "      <td>2.520000</td>\n",
       "      <td>5.000000</td>\n",
       "      <td>18.600000</td>\n",
       "      <td>2.000000</td>\n",
       "      <td>7.000000</td>\n",
       "      <td>0.000000</td>\n",
       "      <td>...</td>\n",
       "      <td>288.000000</td>\n",
       "      <td>0.000000</td>\n",
       "      <td>294.000000</td>\n",
       "      <td>45.000000</td>\n",
       "      <td>7.658500e+04</td>\n",
       "      <td>1.000000</td>\n",
       "      <td>3.000000</td>\n",
       "      <td>2017.000000</td>\n",
       "      <td>0.495177</td>\n",
       "      <td>0.133333</td>\n",
       "    </tr>\n",
       "    <tr>\n",
       "      <td>50%</td>\n",
       "      <td>9.000000</td>\n",
       "      <td>4.650000e+06</td>\n",
       "      <td>52.000000</td>\n",
       "      <td>2.000000</td>\n",
       "      <td>2.650000</td>\n",
       "      <td>9.000000</td>\n",
       "      <td>30.000000</td>\n",
       "      <td>4.000000</td>\n",
       "      <td>9.100000</td>\n",
       "      <td>0.000000</td>\n",
       "      <td>...</td>\n",
       "      <td>455.000000</td>\n",
       "      <td>0.000000</td>\n",
       "      <td>502.000000</td>\n",
       "      <td>95.000000</td>\n",
       "      <td>9.500000e+04</td>\n",
       "      <td>3.000000</td>\n",
       "      <td>6.000000</td>\n",
       "      <td>2017.000000</td>\n",
       "      <td>0.567860</td>\n",
       "      <td>0.172414</td>\n",
       "    </tr>\n",
       "    <tr>\n",
       "      <td>75%</td>\n",
       "      <td>14.000000</td>\n",
       "      <td>6.800000e+06</td>\n",
       "      <td>69.900000</td>\n",
       "      <td>3.000000</td>\n",
       "      <td>2.800000</td>\n",
       "      <td>16.000000</td>\n",
       "      <td>42.300000</td>\n",
       "      <td>8.000000</td>\n",
       "      <td>12.000000</td>\n",
       "      <td>1.000000</td>\n",
       "      <td>...</td>\n",
       "      <td>612.000000</td>\n",
       "      <td>1.000000</td>\n",
       "      <td>729.000000</td>\n",
       "      <td>232.000000</td>\n",
       "      <td>1.142560e+05</td>\n",
       "      <td>4.000000</td>\n",
       "      <td>10.000000</td>\n",
       "      <td>2018.000000</td>\n",
       "      <td>0.637880</td>\n",
       "      <td>0.232416</td>\n",
       "    </tr>\n",
       "    <tr>\n",
       "      <td>max</td>\n",
       "      <td>50.000000</td>\n",
       "      <td>7.630000e+08</td>\n",
       "      <td>900.000000</td>\n",
       "      <td>19.000000</td>\n",
       "      <td>100.000000</td>\n",
       "      <td>60.000000</td>\n",
       "      <td>409.700000</td>\n",
       "      <td>33.000000</td>\n",
       "      <td>112.000000</td>\n",
       "      <td>5.000000</td>\n",
       "      <td>...</td>\n",
       "      <td>3190.000000</td>\n",
       "      <td>3.000000</td>\n",
       "      <td>1344.000000</td>\n",
       "      <td>1580.000000</td>\n",
       "      <td>1.907500e+06</td>\n",
       "      <td>6.000000</td>\n",
       "      <td>12.000000</td>\n",
       "      <td>2019.000000</td>\n",
       "      <td>1.000000</td>\n",
       "      <td>0.787879</td>\n",
       "    </tr>\n",
       "  </tbody>\n",
       "</table>\n",
       "<p>8 rows × 23 columns</p>\n",
       "</div>"
      ],
      "text/plain": [
       "       total_images    last_price    total_area         rooms  ceiling_height  \\\n",
       "count  23699.000000  2.369900e+04  23699.000000  23699.000000    14504.000000   \n",
       "mean       9.858475  6.541549e+06     60.348651      2.070636        2.771499   \n",
       "std        5.682529  1.088701e+07     35.654083      1.078405        1.261056   \n",
       "min        0.000000  1.219000e+04     12.000000      0.000000        1.000000   \n",
       "25%        6.000000  3.400000e+06     40.000000      1.000000        2.520000   \n",
       "50%        9.000000  4.650000e+06     52.000000      2.000000        2.650000   \n",
       "75%       14.000000  6.800000e+06     69.900000      3.000000        2.800000   \n",
       "max       50.000000  7.630000e+08    900.000000     19.000000      100.000000   \n",
       "\n",
       "       floors_total   living_area         floor  kitchen_area       balcony  \\\n",
       "count  23613.000000  21796.000000  23699.000000  21421.000000  23699.000000   \n",
       "mean      10.673824     34.457852      5.892358     10.569807      0.591080   \n",
       "std        6.597173     22.030445      4.885249      5.905438      0.959298   \n",
       "min        1.000000      2.000000      1.000000      1.300000      0.000000   \n",
       "25%        5.000000     18.600000      2.000000      7.000000      0.000000   \n",
       "50%        9.000000     30.000000      4.000000      9.100000      0.000000   \n",
       "75%       16.000000     42.300000      8.000000     12.000000      1.000000   \n",
       "max       60.000000    409.700000     33.000000    112.000000      5.000000   \n",
       "\n",
       "       ...  parks_nearest  ponds_around3000  ponds_nearest  days_exposition  \\\n",
       "count  ...    8079.000000      23699.000000    9110.000000     20518.000000   \n",
       "mean   ...     490.804555          0.590911     517.980900       180.888634   \n",
       "std    ...     342.317995          0.883999     277.720643       219.727988   \n",
       "min    ...       1.000000          0.000000      13.000000         1.000000   \n",
       "25%    ...     288.000000          0.000000     294.000000        45.000000   \n",
       "50%    ...     455.000000          0.000000     502.000000        95.000000   \n",
       "75%    ...     612.000000          1.000000     729.000000       232.000000   \n",
       "max    ...    3190.000000          3.000000    1344.000000      1580.000000   \n",
       "\n",
       "       price_per_square       weekday         month          year  \\\n",
       "count      2.369900e+04  23699.000000  23699.000000  23699.000000   \n",
       "mean       9.942121e+04      2.569307      6.400101   2017.367146   \n",
       "std        5.030681e+04      1.789082      3.491561      1.039771   \n",
       "min        1.110000e+02      0.000000      1.000000   2014.000000   \n",
       "25%        7.658500e+04      1.000000      3.000000   2017.000000   \n",
       "50%        9.500000e+04      3.000000      6.000000   2017.000000   \n",
       "75%        1.142560e+05      4.000000     10.000000   2018.000000   \n",
       "max        1.907500e+06      6.000000     12.000000   2019.000000   \n",
       "\n",
       "       living_ratio  kitchen_ratio  \n",
       "count  21796.000000   21421.000000  \n",
       "mean       0.564766       0.187355  \n",
       "std        0.105368       0.072968  \n",
       "min        0.021583       0.025381  \n",
       "25%        0.495177       0.133333  \n",
       "50%        0.567860       0.172414  \n",
       "75%        0.637880       0.232416  \n",
       "max        1.000000       0.787879  \n",
       "\n",
       "[8 rows x 23 columns]"
      ]
     },
     "execution_count": 48,
     "metadata": {},
     "output_type": "execute_result"
    }
   ],
   "source": [
    "data.describe()\n",
    "\n",
    "# даже здесь видно, что есть достаточно выбивающихся значений в столбцах last_price, total_area, rooms, ceiling_height и др."
   ]
  },
  {
   "cell_type": "code",
   "execution_count": 49,
   "metadata": {},
   "outputs": [
    {
     "name": "stdout",
     "output_type": "stream",
     "text": [
      "707 квартир дороже 20 млн\n",
      "\n",
      "95000.0 медианная цена за квадратный метр\n",
      "99421.21 средняя цена за квадратный метр\n",
      "4.65 млн медианная цена объекта\n",
      "6.54 млн средняя цена объекта\n",
      "\n",
      "94047.0 медианная цена за квадратный метр без дорогих квартир свыше 20 млн\n",
      "94799.88 средняя цена за квадратный метр без дорогих квартир свыше 20 млн\n",
      "4.55 млн медианная цена  объекта без дорогих квартир свыше 20 млн\n",
      "5.41 млн средняя цена объекта без дорогих квартир свыше 20 млн\n"
     ]
    }
   ],
   "source": [
    "# смотрим на количество квартир \"слишком\" дорогих квартир \n",
    "\n",
    "less20 = data.query('last_price < 20000000')\n",
    "print(len(data.query('last_price > 20000000')),'квартир дороже 20 млн') \n",
    "print()\n",
    "print(data['price_per_square'].median(), 'медианная цена за квадратный метр')\n",
    "print(data['price_per_square'].mean().round(2), 'средняя цена за квадратный метр')\n",
    "print((data['last_price'].median() / 1000000).round(2), 'млн медианная цена объекта')\n",
    "print((data['last_price'].mean()/ 1000000).round(2), 'млн средняя цена объекта')\n",
    "print()\n",
    "print(less20['price_per_square'].median(), 'медианная цена за квадратный метр без дорогих квартир свыше 20 млн')\n",
    "print(less20['price_per_square'].mean().round(2), 'средняя цена за квадратный метр без дорогих квартир свыше 20 млн')\n",
    "print((less20['last_price'].median() / 1000000).round(2),'млн медианная цена  объекта без дорогих квартир свыше 20 млн')\n",
    "print((less20['last_price'].mean() / 1000000).round(2),'млн средняя цена объекта без дорогих квартир свыше 20 млн')"
   ]
  },
  {
   "cell_type": "code",
   "execution_count": 50,
   "metadata": {},
   "outputs": [
    {
     "name": "stdout",
     "output_type": "stream",
     "text": [
      "225 квартир дешевле 1 млн\n",
      "\n",
      "95000.0 медианная цена за квадратный метр\n",
      "99421.21 средняя цена за квадратный метр\n",
      "4.65 млн медианная цена объекта\n",
      "6.54 млн средняя цена объекта\n",
      "\n",
      "95238.0 медианная цена за квадратный метр без дешевых квартир менее 1 млн\n",
      "100248.5 средняя цена за квадратный метр без дешевых квартир менее 1 млн\n",
      "4.67 млн медианная цена  объекта без дешевых квартир менее 1 млн\n",
      "6.6 млн средняя цена объекта без дешевых квартир менее 1 млн\n"
     ]
    }
   ],
   "source": [
    "# смотрим на количество квартир \"слишком\" дешевых квартир \n",
    "\n",
    "more1 = data.query('last_price > 1000000') \n",
    "print(len(data.query('last_price < 1000000')),'квартир дешевле 1 млн') \n",
    "print()\n",
    "print(data['price_per_square'].median(), 'медианная цена за квадратный метр')\n",
    "print(data['price_per_square'].mean().round(2), 'средняя цена за квадратный метр')\n",
    "print((data['last_price'].median() / 1000000).round(2), 'млн медианная цена объекта')\n",
    "print((data['last_price'].mean()/ 1000000).round(2), 'млн средняя цена объекта')\n",
    "print()\n",
    "print(more1['price_per_square'].median(), 'медианная цена за квадратный метр без дешевых квартир менее 1 млн')\n",
    "print(more1['price_per_square'].mean().round(2), 'средняя цена за квадратный метр без дешевых квартир менее 1 млн')\n",
    "print((more1['last_price'].median() / 1000000).round(2),'млн медианная цена  объекта без дешевых квартир менее 1 млн')\n",
    "print((more1['last_price'].mean() / 1000000).round(2),'млн средняя цена объекта без дешевых квартир менее 1 млн')"
   ]
  },
  {
   "cell_type": "code",
   "execution_count": 51,
   "metadata": {},
   "outputs": [],
   "source": [
    "balancedprice = data.query('last_price > 1000000 & last_price < 20000000') # создаем срез без крайних значений по ценам"
   ]
  },
  {
   "cell_type": "code",
   "execution_count": 52,
   "metadata": {},
   "outputs": [
    {
     "data": {
      "text/plain": [
       "Сланцы                                83\n",
       "Бокситогорск                          14\n",
       "Пикалёво                              11\n",
       "Ивангород                              5\n",
       "поселок городского типа Никольский     4\n",
       "Кириши                                 4\n",
       "Луга                                   4\n",
       "Выборг                                 4\n",
       "посёлок городского типа Кузнечное      3\n",
       "деревня Торошковичи                    3\n",
       "Name: locality_name, dtype: int64"
      ]
     },
     "execution_count": 52,
     "metadata": {},
     "output_type": "execute_result"
    }
   ],
   "source": [
    "data.query('last_price < 1000000')['locality_name'].value_counts().head(10) # самые частые локации для квартир дешевле 1 млн"
   ]
  },
  {
   "cell_type": "code",
   "execution_count": 53,
   "metadata": {},
   "outputs": [
    {
     "data": {
      "image/png": "[encoded data removed]",
      "text/plain": [
       "<Figure size 432x288 with 1 Axes>"
      ]
     },
     "metadata": {
      "needs_background": "light"
     },
     "output_type": "display_data"
    },
    {
     "data": {
      "image/png": "[encoded data removed]",
      "text/plain": [
       "<Figure size 432x288 with 1 Axes>"
      ]
     },
     "metadata": {
      "needs_background": "light"
     },
     "output_type": "display_data"
    }
   ],
   "source": [
    "data.hist('last_price', bins=5);\n",
    "plt.title('Цены на квартиры до удаления крайних значений');\n",
    "plt.xlabel('Цена в сотнях млн')\n",
    "balancedprice.hist('last_price');\n",
    "plt.title('Цены на квартиры после удаления крайних значений');\n",
    "plt.xlabel('Цена в десятках млн');"
   ]
  },
  {
   "cell_type": "markdown",
   "metadata": {},
   "source": [
    "Как видно на [гистограмме](#cell2) по ценам на объекты из предыдущего раздела большая часть квартир стоит от 3 до 5 млн рублей.\n",
    "В целом, если отсекать совсем крайние значения, можно не брать квартиры дороже 20 млн рублей, так как их в базе всего около 3%, но все-таки 3,5% относительно много, поэтому по возможности их хотелось бы сохранить. В целом удалять значения только по цене может быть и не стоит, так как аномальных значений мало и они не влияют на общую ситуацию. Так, если удалить все объекты свыше 20 млн рублей, то медианная цена за квадратный метр немного снизится с 95 до 94 тысяч и чуть более значительно выправится среднее — с 99 до 95 тысяч рублей. \n",
    "Средняя стоимость объектов изменилась на 1 млн рублей с 6,5 до 5,4 млн рублей, при этом медиана осталась практически такой же.\n",
    "\n",
    "Квартир, стоящих меньше 1 млн рублей всего 225. Такая цена не выглядит аномальной для Ленинградской области, где преимущественно находились эти объявления. В целом, если даже не отсекать эти значения, медианные цены не изменятся практически никак, а среднее будет немного скорректировано, но в данном случае, так как мы уже исключили слишком дорогие квартиры, то логично будет исключить и слишком дешевые.\n",
    "\n",
    "В итоге мы исключили 968 значений и гистограмму после удаления крайних значений уже можно не ограничивать вручную, она автоматически отображается читаемой."
   ]
  },
  {
   "cell_type": "code",
   "execution_count": 54,
   "metadata": {},
   "outputs": [
    {
     "name": "stdout",
     "output_type": "stream",
     "text": [
      "2 квартир выше 40 этажей\n",
      "11.0 средняя этажность по базе\n"
     ]
    }
   ],
   "source": [
    "print(len(balancedprice.query('floors_total > 40')), 'квартир выше 40 этажей')\n",
    "print(balancedprice['floors_total'].mean().round(), 'средняя этажность по базе')"
   ]
  },
  {
   "cell_type": "code",
   "execution_count": 55,
   "metadata": {},
   "outputs": [
    {
     "data": {
      "image/png": "[encoded data removed]",
      "text/plain": [
       "<Figure size 432x288 with 1 Axes>"
      ]
     },
     "metadata": {
      "needs_background": "light"
     },
     "output_type": "display_data"
    }
   ],
   "source": [
    "balancedprice['floors_total'].hist();\n",
    "plt.title('Этажность квартир');"
   ]
  },
  {
   "cell_type": "code",
   "execution_count": 56,
   "metadata": {},
   "outputs": [],
   "source": [
    "balancedpricefloor = balancedprice.query('floors_total < 40') # сохраняем обновленный срез"
   ]
  },
  {
   "cell_type": "markdown",
   "metadata": {},
   "source": [
    "C этажностью в целом все более просто, почти все квартиры продаются в домах до 30 этажей, однако есть несколько странных квартир, которые по описанию должны находится в небоскребах, однако в Петербурге и окрестностях нет жилых зданий больше 40 этажей. Выше 40 этажей всего лишь 2 квартиры, их можно исключить, так как данные по ним скорее всего ошибочные."
   ]
  },
  {
   "cell_type": "code",
   "execution_count": 57,
   "metadata": {},
   "outputs": [
    {
     "name": "stdout",
     "output_type": "stream",
     "text": [
      "2.65 медианная высота потолков\n",
      "2.77 средняя высота потолков\n"
     ]
    }
   ],
   "source": [
    "print(data['ceiling_height'].median(), 'медианная высота потолков')\n",
    "print((data['ceiling_height'].mean()).round(2), 'средняя высота потолков')"
   ]
  },
  {
   "cell_type": "code",
   "execution_count": 58,
   "metadata": {
    "scrolled": true
   },
   "outputs": [
    {
     "data": {
      "text/html": [
       "<div>\n",
       "<style scoped>\n",
       "    .dataframe tbody tr th:only-of-type {\n",
       "        vertical-align: middle;\n",
       "    }\n",
       "\n",
       "    .dataframe tbody tr th {\n",
       "        vertical-align: top;\n",
       "    }\n",
       "\n",
       "    .dataframe thead th {\n",
       "        text-align: right;\n",
       "    }\n",
       "</style>\n",
       "<table border=\"1\" class=\"dataframe\">\n",
       "  <thead>\n",
       "    <tr style=\"text-align: right;\">\n",
       "      <th></th>\n",
       "      <th>total_images</th>\n",
       "      <th>last_price</th>\n",
       "      <th>total_area</th>\n",
       "      <th>first_day_exposition</th>\n",
       "      <th>rooms</th>\n",
       "      <th>ceiling_height</th>\n",
       "      <th>floors_total</th>\n",
       "      <th>living_area</th>\n",
       "      <th>floor</th>\n",
       "      <th>is_apartment</th>\n",
       "      <th>...</th>\n",
       "      <th>ponds_nearest</th>\n",
       "      <th>days_exposition</th>\n",
       "      <th>price_per_square</th>\n",
       "      <th>weekday</th>\n",
       "      <th>month</th>\n",
       "      <th>year</th>\n",
       "      <th>floor_type</th>\n",
       "      <th>living_ratio</th>\n",
       "      <th>kitchen_ratio</th>\n",
       "      <th>ceiling</th>\n",
       "    </tr>\n",
       "  </thead>\n",
       "  <tbody>\n",
       "    <tr>\n",
       "      <td>355</td>\n",
       "      <td>17</td>\n",
       "      <td>3600000</td>\n",
       "      <td>55.20</td>\n",
       "      <td>2018-07-12</td>\n",
       "      <td>2</td>\n",
       "      <td>25.00</td>\n",
       "      <td>5.0</td>\n",
       "      <td>32.000000</td>\n",
       "      <td>2</td>\n",
       "      <td>False</td>\n",
       "      <td>...</td>\n",
       "      <td>NaN</td>\n",
       "      <td>259.0</td>\n",
       "      <td>65217</td>\n",
       "      <td>3</td>\n",
       "      <td>7</td>\n",
       "      <td>2018</td>\n",
       "      <td>другое</td>\n",
       "      <td>0.579710</td>\n",
       "      <td>NaN</td>\n",
       "      <td>очень высокие потолки</td>\n",
       "    </tr>\n",
       "    <tr>\n",
       "      <td>552</td>\n",
       "      <td>11</td>\n",
       "      <td>2999000</td>\n",
       "      <td>33.50</td>\n",
       "      <td>2017-03-30</td>\n",
       "      <td>1</td>\n",
       "      <td>2.00</td>\n",
       "      <td>15.0</td>\n",
       "      <td>17.500000</td>\n",
       "      <td>6</td>\n",
       "      <td>False</td>\n",
       "      <td>...</td>\n",
       "      <td>949.0</td>\n",
       "      <td>270.0</td>\n",
       "      <td>89522</td>\n",
       "      <td>3</td>\n",
       "      <td>3</td>\n",
       "      <td>2017</td>\n",
       "      <td>другое</td>\n",
       "      <td>0.522388</td>\n",
       "      <td>0.194030</td>\n",
       "      <td>низкие потолки</td>\n",
       "    </tr>\n",
       "    <tr>\n",
       "      <td>1582</td>\n",
       "      <td>4</td>\n",
       "      <td>4100000</td>\n",
       "      <td>45.60</td>\n",
       "      <td>2016-01-13</td>\n",
       "      <td>2</td>\n",
       "      <td>2.30</td>\n",
       "      <td>9.0</td>\n",
       "      <td>28.400000</td>\n",
       "      <td>8</td>\n",
       "      <td>False</td>\n",
       "      <td>...</td>\n",
       "      <td>525.0</td>\n",
       "      <td>329.0</td>\n",
       "      <td>89912</td>\n",
       "      <td>2</td>\n",
       "      <td>1</td>\n",
       "      <td>2016</td>\n",
       "      <td>другое</td>\n",
       "      <td>0.622807</td>\n",
       "      <td>0.153509</td>\n",
       "      <td>низкие потолки</td>\n",
       "    </tr>\n",
       "    <tr>\n",
       "      <td>2572</td>\n",
       "      <td>4</td>\n",
       "      <td>2400000</td>\n",
       "      <td>62.00</td>\n",
       "      <td>2018-12-27</td>\n",
       "      <td>3</td>\n",
       "      <td>2.00</td>\n",
       "      <td>5.0</td>\n",
       "      <td>40.000000</td>\n",
       "      <td>4</td>\n",
       "      <td>False</td>\n",
       "      <td>...</td>\n",
       "      <td>NaN</td>\n",
       "      <td>NaN</td>\n",
       "      <td>38709</td>\n",
       "      <td>3</td>\n",
       "      <td>12</td>\n",
       "      <td>2018</td>\n",
       "      <td>другое</td>\n",
       "      <td>0.645161</td>\n",
       "      <td>0.096774</td>\n",
       "      <td>низкие потолки</td>\n",
       "    </tr>\n",
       "    <tr>\n",
       "      <td>3148</td>\n",
       "      <td>14</td>\n",
       "      <td>2900000</td>\n",
       "      <td>75.00</td>\n",
       "      <td>2018-11-12</td>\n",
       "      <td>3</td>\n",
       "      <td>32.00</td>\n",
       "      <td>3.0</td>\n",
       "      <td>53.000000</td>\n",
       "      <td>2</td>\n",
       "      <td>False</td>\n",
       "      <td>...</td>\n",
       "      <td>NaN</td>\n",
       "      <td>NaN</td>\n",
       "      <td>38666</td>\n",
       "      <td>0</td>\n",
       "      <td>11</td>\n",
       "      <td>2018</td>\n",
       "      <td>другое</td>\n",
       "      <td>0.706667</td>\n",
       "      <td>0.106667</td>\n",
       "      <td>очень высокие потолки</td>\n",
       "    </tr>\n",
       "    <tr>\n",
       "      <td>3474</td>\n",
       "      <td>3</td>\n",
       "      <td>1400000</td>\n",
       "      <td>30.00</td>\n",
       "      <td>2018-03-16</td>\n",
       "      <td>1</td>\n",
       "      <td>8.00</td>\n",
       "      <td>5.0</td>\n",
       "      <td>15.300000</td>\n",
       "      <td>2</td>\n",
       "      <td>False</td>\n",
       "      <td>...</td>\n",
       "      <td>NaN</td>\n",
       "      <td>125.0</td>\n",
       "      <td>46666</td>\n",
       "      <td>4</td>\n",
       "      <td>3</td>\n",
       "      <td>2018</td>\n",
       "      <td>другое</td>\n",
       "      <td>0.510000</td>\n",
       "      <td>0.243333</td>\n",
       "      <td>очень высокие потолки</td>\n",
       "    </tr>\n",
       "    <tr>\n",
       "      <td>4212</td>\n",
       "      <td>1</td>\n",
       "      <td>2120000</td>\n",
       "      <td>35.43</td>\n",
       "      <td>2017-12-18</td>\n",
       "      <td>1</td>\n",
       "      <td>2.00</td>\n",
       "      <td>18.0</td>\n",
       "      <td>16.600000</td>\n",
       "      <td>9</td>\n",
       "      <td>False</td>\n",
       "      <td>...</td>\n",
       "      <td>NaN</td>\n",
       "      <td>36.0</td>\n",
       "      <td>59836</td>\n",
       "      <td>0</td>\n",
       "      <td>12</td>\n",
       "      <td>2017</td>\n",
       "      <td>другое</td>\n",
       "      <td>0.468529</td>\n",
       "      <td>0.248377</td>\n",
       "      <td>низкие потолки</td>\n",
       "    </tr>\n",
       "    <tr>\n",
       "      <td>4643</td>\n",
       "      <td>0</td>\n",
       "      <td>4300000</td>\n",
       "      <td>45.00</td>\n",
       "      <td>2018-02-01</td>\n",
       "      <td>2</td>\n",
       "      <td>25.00</td>\n",
       "      <td>9.0</td>\n",
       "      <td>30.000000</td>\n",
       "      <td>2</td>\n",
       "      <td>False</td>\n",
       "      <td>...</td>\n",
       "      <td>331.0</td>\n",
       "      <td>181.0</td>\n",
       "      <td>95555</td>\n",
       "      <td>3</td>\n",
       "      <td>2</td>\n",
       "      <td>2018</td>\n",
       "      <td>другое</td>\n",
       "      <td>0.666667</td>\n",
       "      <td>0.155556</td>\n",
       "      <td>очень высокие потолки</td>\n",
       "    </tr>\n",
       "    <tr>\n",
       "      <td>4876</td>\n",
       "      <td>7</td>\n",
       "      <td>3000000</td>\n",
       "      <td>25.00</td>\n",
       "      <td>2017-09-27</td>\n",
       "      <td>0</td>\n",
       "      <td>27.00</td>\n",
       "      <td>25.0</td>\n",
       "      <td>17.000000</td>\n",
       "      <td>17</td>\n",
       "      <td>False</td>\n",
       "      <td>...</td>\n",
       "      <td>NaN</td>\n",
       "      <td>28.0</td>\n",
       "      <td>120000</td>\n",
       "      <td>2</td>\n",
       "      <td>9</td>\n",
       "      <td>2017</td>\n",
       "      <td>другое</td>\n",
       "      <td>0.680000</td>\n",
       "      <td>NaN</td>\n",
       "      <td>очень высокие потолки</td>\n",
       "    </tr>\n",
       "    <tr>\n",
       "      <td>5076</td>\n",
       "      <td>0</td>\n",
       "      <td>3850000</td>\n",
       "      <td>30.50</td>\n",
       "      <td>2018-10-03</td>\n",
       "      <td>1</td>\n",
       "      <td>24.00</td>\n",
       "      <td>5.0</td>\n",
       "      <td>19.500000</td>\n",
       "      <td>1</td>\n",
       "      <td>True</td>\n",
       "      <td>...</td>\n",
       "      <td>578.0</td>\n",
       "      <td>7.0</td>\n",
       "      <td>126229</td>\n",
       "      <td>2</td>\n",
       "      <td>10</td>\n",
       "      <td>2018</td>\n",
       "      <td>первый</td>\n",
       "      <td>0.639344</td>\n",
       "      <td>0.180328</td>\n",
       "      <td>очень высокие потолки</td>\n",
       "    </tr>\n",
       "    <tr>\n",
       "      <td>5246</td>\n",
       "      <td>0</td>\n",
       "      <td>2500000</td>\n",
       "      <td>54.00</td>\n",
       "      <td>2017-10-13</td>\n",
       "      <td>2</td>\n",
       "      <td>27.00</td>\n",
       "      <td>5.0</td>\n",
       "      <td>30.000000</td>\n",
       "      <td>3</td>\n",
       "      <td>False</td>\n",
       "      <td>...</td>\n",
       "      <td>NaN</td>\n",
       "      <td>540.0</td>\n",
       "      <td>46296</td>\n",
       "      <td>4</td>\n",
       "      <td>10</td>\n",
       "      <td>2017</td>\n",
       "      <td>другое</td>\n",
       "      <td>0.555556</td>\n",
       "      <td>0.166667</td>\n",
       "      <td>очень высокие потолки</td>\n",
       "    </tr>\n",
       "    <tr>\n",
       "      <td>5498</td>\n",
       "      <td>17</td>\n",
       "      <td>2200000</td>\n",
       "      <td>56.00</td>\n",
       "      <td>2018-04-02</td>\n",
       "      <td>2</td>\n",
       "      <td>2.30</td>\n",
       "      <td>5.0</td>\n",
       "      <td>45.000000</td>\n",
       "      <td>1</td>\n",
       "      <td>False</td>\n",
       "      <td>...</td>\n",
       "      <td>NaN</td>\n",
       "      <td>55.0</td>\n",
       "      <td>39285</td>\n",
       "      <td>0</td>\n",
       "      <td>4</td>\n",
       "      <td>2018</td>\n",
       "      <td>первый</td>\n",
       "      <td>0.803571</td>\n",
       "      <td>0.160714</td>\n",
       "      <td>низкие потолки</td>\n",
       "    </tr>\n",
       "    <tr>\n",
       "      <td>5669</td>\n",
       "      <td>4</td>\n",
       "      <td>4400000</td>\n",
       "      <td>50.00</td>\n",
       "      <td>2017-08-08</td>\n",
       "      <td>2</td>\n",
       "      <td>26.00</td>\n",
       "      <td>9.0</td>\n",
       "      <td>21.300000</td>\n",
       "      <td>3</td>\n",
       "      <td>False</td>\n",
       "      <td>...</td>\n",
       "      <td>NaN</td>\n",
       "      <td>267.0</td>\n",
       "      <td>88000</td>\n",
       "      <td>1</td>\n",
       "      <td>8</td>\n",
       "      <td>2017</td>\n",
       "      <td>другое</td>\n",
       "      <td>0.426000</td>\n",
       "      <td>0.140000</td>\n",
       "      <td>очень высокие потолки</td>\n",
       "    </tr>\n",
       "    <tr>\n",
       "      <td>5712</td>\n",
       "      <td>5</td>\n",
       "      <td>1500000</td>\n",
       "      <td>42.80</td>\n",
       "      <td>2017-08-14</td>\n",
       "      <td>2</td>\n",
       "      <td>1.20</td>\n",
       "      <td>2.0</td>\n",
       "      <td>27.500000</td>\n",
       "      <td>1</td>\n",
       "      <td>False</td>\n",
       "      <td>...</td>\n",
       "      <td>NaN</td>\n",
       "      <td>248.0</td>\n",
       "      <td>35046</td>\n",
       "      <td>0</td>\n",
       "      <td>8</td>\n",
       "      <td>2017</td>\n",
       "      <td>первый</td>\n",
       "      <td>0.642523</td>\n",
       "      <td>0.121495</td>\n",
       "      <td>низкие потолки</td>\n",
       "    </tr>\n",
       "    <tr>\n",
       "      <td>5807</td>\n",
       "      <td>17</td>\n",
       "      <td>8150000</td>\n",
       "      <td>80.00</td>\n",
       "      <td>2019-01-09</td>\n",
       "      <td>2</td>\n",
       "      <td>27.00</td>\n",
       "      <td>36.0</td>\n",
       "      <td>41.000000</td>\n",
       "      <td>13</td>\n",
       "      <td>False</td>\n",
       "      <td>...</td>\n",
       "      <td>80.0</td>\n",
       "      <td>38.0</td>\n",
       "      <td>101875</td>\n",
       "      <td>2</td>\n",
       "      <td>1</td>\n",
       "      <td>2019</td>\n",
       "      <td>другое</td>\n",
       "      <td>0.512500</td>\n",
       "      <td>0.150000</td>\n",
       "      <td>очень высокие потолки</td>\n",
       "    </tr>\n",
       "    <tr>\n",
       "      <td>5850</td>\n",
       "      <td>9</td>\n",
       "      <td>1650000</td>\n",
       "      <td>35.50</td>\n",
       "      <td>2018-05-29</td>\n",
       "      <td>1</td>\n",
       "      <td>2.00</td>\n",
       "      <td>5.0</td>\n",
       "      <td>NaN</td>\n",
       "      <td>5</td>\n",
       "      <td>False</td>\n",
       "      <td>...</td>\n",
       "      <td>NaN</td>\n",
       "      <td>100.0</td>\n",
       "      <td>46478</td>\n",
       "      <td>1</td>\n",
       "      <td>5</td>\n",
       "      <td>2018</td>\n",
       "      <td>последний</td>\n",
       "      <td>NaN</td>\n",
       "      <td>NaN</td>\n",
       "      <td>низкие потолки</td>\n",
       "    </tr>\n",
       "    <tr>\n",
       "      <td>5863</td>\n",
       "      <td>20</td>\n",
       "      <td>5650000</td>\n",
       "      <td>45.00</td>\n",
       "      <td>2018-08-15</td>\n",
       "      <td>1</td>\n",
       "      <td>8.30</td>\n",
       "      <td>16.0</td>\n",
       "      <td>19.300000</td>\n",
       "      <td>14</td>\n",
       "      <td>False</td>\n",
       "      <td>...</td>\n",
       "      <td>613.0</td>\n",
       "      <td>14.0</td>\n",
       "      <td>125555</td>\n",
       "      <td>2</td>\n",
       "      <td>8</td>\n",
       "      <td>2018</td>\n",
       "      <td>другое</td>\n",
       "      <td>0.428889</td>\n",
       "      <td>0.184444</td>\n",
       "      <td>очень высокие потолки</td>\n",
       "    </tr>\n",
       "    <tr>\n",
       "      <td>6246</td>\n",
       "      <td>6</td>\n",
       "      <td>3300000</td>\n",
       "      <td>44.40</td>\n",
       "      <td>2019-03-25</td>\n",
       "      <td>2</td>\n",
       "      <td>25.00</td>\n",
       "      <td>5.0</td>\n",
       "      <td>31.300000</td>\n",
       "      <td>5</td>\n",
       "      <td>False</td>\n",
       "      <td>...</td>\n",
       "      <td>73.0</td>\n",
       "      <td>NaN</td>\n",
       "      <td>74324</td>\n",
       "      <td>0</td>\n",
       "      <td>3</td>\n",
       "      <td>2019</td>\n",
       "      <td>последний</td>\n",
       "      <td>0.704955</td>\n",
       "      <td>0.128378</td>\n",
       "      <td>очень высокие потолки</td>\n",
       "    </tr>\n",
       "    <tr>\n",
       "      <td>9379</td>\n",
       "      <td>5</td>\n",
       "      <td>3950000</td>\n",
       "      <td>42.00</td>\n",
       "      <td>2017-03-26</td>\n",
       "      <td>3</td>\n",
       "      <td>25.00</td>\n",
       "      <td>5.0</td>\n",
       "      <td>30.000000</td>\n",
       "      <td>2</td>\n",
       "      <td>False</td>\n",
       "      <td>...</td>\n",
       "      <td>NaN</td>\n",
       "      <td>NaN</td>\n",
       "      <td>94047</td>\n",
       "      <td>6</td>\n",
       "      <td>3</td>\n",
       "      <td>2017</td>\n",
       "      <td>другое</td>\n",
       "      <td>0.714286</td>\n",
       "      <td>0.123810</td>\n",
       "      <td>очень высокие потолки</td>\n",
       "    </tr>\n",
       "    <tr>\n",
       "      <td>10773</td>\n",
       "      <td>8</td>\n",
       "      <td>3800000</td>\n",
       "      <td>58.00</td>\n",
       "      <td>2017-10-13</td>\n",
       "      <td>2</td>\n",
       "      <td>27.00</td>\n",
       "      <td>10.0</td>\n",
       "      <td>30.100000</td>\n",
       "      <td>3</td>\n",
       "      <td>False</td>\n",
       "      <td>...</td>\n",
       "      <td>NaN</td>\n",
       "      <td>71.0</td>\n",
       "      <td>65517</td>\n",
       "      <td>4</td>\n",
       "      <td>10</td>\n",
       "      <td>2017</td>\n",
       "      <td>другое</td>\n",
       "      <td>0.518966</td>\n",
       "      <td>0.139655</td>\n",
       "      <td>очень высокие потолки</td>\n",
       "    </tr>\n",
       "    <tr>\n",
       "      <td>11285</td>\n",
       "      <td>0</td>\n",
       "      <td>1950000</td>\n",
       "      <td>37.00</td>\n",
       "      <td>2019-03-20</td>\n",
       "      <td>1</td>\n",
       "      <td>25.00</td>\n",
       "      <td>5.0</td>\n",
       "      <td>17.000000</td>\n",
       "      <td>4</td>\n",
       "      <td>False</td>\n",
       "      <td>...</td>\n",
       "      <td>NaN</td>\n",
       "      <td>18.0</td>\n",
       "      <td>52702</td>\n",
       "      <td>2</td>\n",
       "      <td>3</td>\n",
       "      <td>2019</td>\n",
       "      <td>другое</td>\n",
       "      <td>0.459459</td>\n",
       "      <td>0.243243</td>\n",
       "      <td>очень высокие потолки</td>\n",
       "    </tr>\n",
       "    <tr>\n",
       "      <td>11352</td>\n",
       "      <td>4</td>\n",
       "      <td>3300000</td>\n",
       "      <td>36.00</td>\n",
       "      <td>2017-06-18</td>\n",
       "      <td>1</td>\n",
       "      <td>2.00</td>\n",
       "      <td>17.0</td>\n",
       "      <td>15.200000</td>\n",
       "      <td>12</td>\n",
       "      <td>False</td>\n",
       "      <td>...</td>\n",
       "      <td>NaN</td>\n",
       "      <td>53.0</td>\n",
       "      <td>91666</td>\n",
       "      <td>6</td>\n",
       "      <td>6</td>\n",
       "      <td>2017</td>\n",
       "      <td>другое</td>\n",
       "      <td>0.422222</td>\n",
       "      <td>0.280556</td>\n",
       "      <td>низкие потолки</td>\n",
       "    </tr>\n",
       "    <tr>\n",
       "      <td>12628</td>\n",
       "      <td>14</td>\n",
       "      <td>3900000</td>\n",
       "      <td>50.00</td>\n",
       "      <td>2018-03-29</td>\n",
       "      <td>1</td>\n",
       "      <td>5.30</td>\n",
       "      <td>5.0</td>\n",
       "      <td>NaN</td>\n",
       "      <td>5</td>\n",
       "      <td>False</td>\n",
       "      <td>...</td>\n",
       "      <td>92.0</td>\n",
       "      <td>8.0</td>\n",
       "      <td>78000</td>\n",
       "      <td>3</td>\n",
       "      <td>3</td>\n",
       "      <td>2018</td>\n",
       "      <td>последний</td>\n",
       "      <td>NaN</td>\n",
       "      <td>NaN</td>\n",
       "      <td>очень высокие потолки</td>\n",
       "    </tr>\n",
       "    <tr>\n",
       "      <td>12755</td>\n",
       "      <td>2</td>\n",
       "      <td>1400000</td>\n",
       "      <td>22.50</td>\n",
       "      <td>2017-09-21</td>\n",
       "      <td>1</td>\n",
       "      <td>2.20</td>\n",
       "      <td>2.0</td>\n",
       "      <td>18.000000</td>\n",
       "      <td>2</td>\n",
       "      <td>False</td>\n",
       "      <td>...</td>\n",
       "      <td>NaN</td>\n",
       "      <td>45.0</td>\n",
       "      <td>62222</td>\n",
       "      <td>3</td>\n",
       "      <td>9</td>\n",
       "      <td>2017</td>\n",
       "      <td>последний</td>\n",
       "      <td>0.800000</td>\n",
       "      <td>0.200000</td>\n",
       "      <td>низкие потолки</td>\n",
       "    </tr>\n",
       "    <tr>\n",
       "      <td>14382</td>\n",
       "      <td>9</td>\n",
       "      <td>1700000</td>\n",
       "      <td>35.00</td>\n",
       "      <td>2015-12-04</td>\n",
       "      <td>1</td>\n",
       "      <td>25.00</td>\n",
       "      <td>5.0</td>\n",
       "      <td>20.000000</td>\n",
       "      <td>2</td>\n",
       "      <td>False</td>\n",
       "      <td>...</td>\n",
       "      <td>NaN</td>\n",
       "      <td>206.0</td>\n",
       "      <td>48571</td>\n",
       "      <td>4</td>\n",
       "      <td>12</td>\n",
       "      <td>2015</td>\n",
       "      <td>другое</td>\n",
       "      <td>0.571429</td>\n",
       "      <td>0.228571</td>\n",
       "      <td>очень высокие потолки</td>\n",
       "    </tr>\n",
       "    <tr>\n",
       "      <td>15061</td>\n",
       "      <td>19</td>\n",
       "      <td>5600000</td>\n",
       "      <td>56.40</td>\n",
       "      <td>2018-05-11</td>\n",
       "      <td>2</td>\n",
       "      <td>14.00</td>\n",
       "      <td>14.0</td>\n",
       "      <td>32.400000</td>\n",
       "      <td>5</td>\n",
       "      <td>False</td>\n",
       "      <td>...</td>\n",
       "      <td>NaN</td>\n",
       "      <td>315.0</td>\n",
       "      <td>99290</td>\n",
       "      <td>4</td>\n",
       "      <td>5</td>\n",
       "      <td>2018</td>\n",
       "      <td>другое</td>\n",
       "      <td>0.574468</td>\n",
       "      <td>0.161348</td>\n",
       "      <td>очень высокие потолки</td>\n",
       "    </tr>\n",
       "    <tr>\n",
       "      <td>15743</td>\n",
       "      <td>14</td>\n",
       "      <td>5600000</td>\n",
       "      <td>67.00</td>\n",
       "      <td>2016-11-11</td>\n",
       "      <td>3</td>\n",
       "      <td>8.00</td>\n",
       "      <td>16.0</td>\n",
       "      <td>41.000000</td>\n",
       "      <td>1</td>\n",
       "      <td>False</td>\n",
       "      <td>...</td>\n",
       "      <td>NaN</td>\n",
       "      <td>474.0</td>\n",
       "      <td>83582</td>\n",
       "      <td>4</td>\n",
       "      <td>11</td>\n",
       "      <td>2016</td>\n",
       "      <td>первый</td>\n",
       "      <td>0.611940</td>\n",
       "      <td>0.119403</td>\n",
       "      <td>очень высокие потолки</td>\n",
       "    </tr>\n",
       "    <tr>\n",
       "      <td>16446</td>\n",
       "      <td>6</td>\n",
       "      <td>12300000</td>\n",
       "      <td>88.30</td>\n",
       "      <td>2019-03-12</td>\n",
       "      <td>3</td>\n",
       "      <td>2.00</td>\n",
       "      <td>5.0</td>\n",
       "      <td>63.900000</td>\n",
       "      <td>2</td>\n",
       "      <td>False</td>\n",
       "      <td>...</td>\n",
       "      <td>154.0</td>\n",
       "      <td>NaN</td>\n",
       "      <td>139297</td>\n",
       "      <td>1</td>\n",
       "      <td>3</td>\n",
       "      <td>2019</td>\n",
       "      <td>другое</td>\n",
       "      <td>0.723669</td>\n",
       "      <td>0.135900</td>\n",
       "      <td>низкие потолки</td>\n",
       "    </tr>\n",
       "    <tr>\n",
       "      <td>16884</td>\n",
       "      <td>0</td>\n",
       "      <td>1500000</td>\n",
       "      <td>33.00</td>\n",
       "      <td>2018-10-03</td>\n",
       "      <td>1</td>\n",
       "      <td>2.00</td>\n",
       "      <td>5.0</td>\n",
       "      <td>20.000000</td>\n",
       "      <td>5</td>\n",
       "      <td>False</td>\n",
       "      <td>...</td>\n",
       "      <td>NaN</td>\n",
       "      <td>6.0</td>\n",
       "      <td>45454</td>\n",
       "      <td>2</td>\n",
       "      <td>10</td>\n",
       "      <td>2018</td>\n",
       "      <td>последний</td>\n",
       "      <td>0.606061</td>\n",
       "      <td>0.181818</td>\n",
       "      <td>низкие потолки</td>\n",
       "    </tr>\n",
       "    <tr>\n",
       "      <td>16934</td>\n",
       "      <td>5</td>\n",
       "      <td>4100000</td>\n",
       "      <td>40.00</td>\n",
       "      <td>2017-10-17</td>\n",
       "      <td>1</td>\n",
       "      <td>1.75</td>\n",
       "      <td>37.0</td>\n",
       "      <td>17.400000</td>\n",
       "      <td>5</td>\n",
       "      <td>False</td>\n",
       "      <td>...</td>\n",
       "      <td>80.0</td>\n",
       "      <td>71.0</td>\n",
       "      <td>102500</td>\n",
       "      <td>1</td>\n",
       "      <td>10</td>\n",
       "      <td>2017</td>\n",
       "      <td>другое</td>\n",
       "      <td>0.435000</td>\n",
       "      <td>0.208500</td>\n",
       "      <td>низкие потолки</td>\n",
       "    </tr>\n",
       "    <tr>\n",
       "      <td>17442</td>\n",
       "      <td>0</td>\n",
       "      <td>5350000</td>\n",
       "      <td>54.00</td>\n",
       "      <td>2015-06-16</td>\n",
       "      <td>2</td>\n",
       "      <td>8.00</td>\n",
       "      <td>5.0</td>\n",
       "      <td>29.000000</td>\n",
       "      <td>2</td>\n",
       "      <td>False</td>\n",
       "      <td>...</td>\n",
       "      <td>NaN</td>\n",
       "      <td>469.0</td>\n",
       "      <td>99074</td>\n",
       "      <td>1</td>\n",
       "      <td>6</td>\n",
       "      <td>2015</td>\n",
       "      <td>другое</td>\n",
       "      <td>0.537037</td>\n",
       "      <td>NaN</td>\n",
       "      <td>очень высокие потолки</td>\n",
       "    </tr>\n",
       "    <tr>\n",
       "      <td>17496</td>\n",
       "      <td>15</td>\n",
       "      <td>6700000</td>\n",
       "      <td>92.90</td>\n",
       "      <td>2019-02-19</td>\n",
       "      <td>3</td>\n",
       "      <td>20.00</td>\n",
       "      <td>17.0</td>\n",
       "      <td>53.200000</td>\n",
       "      <td>14</td>\n",
       "      <td>False</td>\n",
       "      <td>...</td>\n",
       "      <td>NaN</td>\n",
       "      <td>NaN</td>\n",
       "      <td>72120</td>\n",
       "      <td>1</td>\n",
       "      <td>2</td>\n",
       "      <td>2019</td>\n",
       "      <td>другое</td>\n",
       "      <td>0.572659</td>\n",
       "      <td>0.129171</td>\n",
       "      <td>очень высокие потолки</td>\n",
       "    </tr>\n",
       "    <tr>\n",
       "      <td>17762</td>\n",
       "      <td>20</td>\n",
       "      <td>2300000</td>\n",
       "      <td>54.30</td>\n",
       "      <td>2018-06-28</td>\n",
       "      <td>3</td>\n",
       "      <td>2.30</td>\n",
       "      <td>5.0</td>\n",
       "      <td>39.000000</td>\n",
       "      <td>2</td>\n",
       "      <td>False</td>\n",
       "      <td>...</td>\n",
       "      <td>NaN</td>\n",
       "      <td>189.0</td>\n",
       "      <td>42357</td>\n",
       "      <td>3</td>\n",
       "      <td>6</td>\n",
       "      <td>2018</td>\n",
       "      <td>другое</td>\n",
       "      <td>0.718232</td>\n",
       "      <td>0.097606</td>\n",
       "      <td>низкие потолки</td>\n",
       "    </tr>\n",
       "    <tr>\n",
       "      <td>17794</td>\n",
       "      <td>1</td>\n",
       "      <td>2300000</td>\n",
       "      <td>58.60</td>\n",
       "      <td>2016-05-12</td>\n",
       "      <td>3</td>\n",
       "      <td>2.25</td>\n",
       "      <td>5.0</td>\n",
       "      <td>44.100002</td>\n",
       "      <td>3</td>\n",
       "      <td>False</td>\n",
       "      <td>...</td>\n",
       "      <td>NaN</td>\n",
       "      <td>45.0</td>\n",
       "      <td>39249</td>\n",
       "      <td>3</td>\n",
       "      <td>5</td>\n",
       "      <td>2016</td>\n",
       "      <td>другое</td>\n",
       "      <td>0.752560</td>\n",
       "      <td>0.093857</td>\n",
       "      <td>низкие потолки</td>\n",
       "    </tr>\n",
       "    <tr>\n",
       "      <td>17857</td>\n",
       "      <td>1</td>\n",
       "      <td>3900000</td>\n",
       "      <td>56.00</td>\n",
       "      <td>2017-12-22</td>\n",
       "      <td>3</td>\n",
       "      <td>27.00</td>\n",
       "      <td>5.0</td>\n",
       "      <td>33.000000</td>\n",
       "      <td>4</td>\n",
       "      <td>False</td>\n",
       "      <td>...</td>\n",
       "      <td>NaN</td>\n",
       "      <td>73.0</td>\n",
       "      <td>69642</td>\n",
       "      <td>4</td>\n",
       "      <td>12</td>\n",
       "      <td>2017</td>\n",
       "      <td>другое</td>\n",
       "      <td>0.589286</td>\n",
       "      <td>NaN</td>\n",
       "      <td>очень высокие потолки</td>\n",
       "    </tr>\n",
       "    <tr>\n",
       "      <td>18545</td>\n",
       "      <td>6</td>\n",
       "      <td>3750000</td>\n",
       "      <td>43.00</td>\n",
       "      <td>2019-03-18</td>\n",
       "      <td>2</td>\n",
       "      <td>25.00</td>\n",
       "      <td>5.0</td>\n",
       "      <td>29.000000</td>\n",
       "      <td>3</td>\n",
       "      <td>False</td>\n",
       "      <td>...</td>\n",
       "      <td>NaN</td>\n",
       "      <td>12.0</td>\n",
       "      <td>87209</td>\n",
       "      <td>0</td>\n",
       "      <td>3</td>\n",
       "      <td>2019</td>\n",
       "      <td>другое</td>\n",
       "      <td>0.674419</td>\n",
       "      <td>NaN</td>\n",
       "      <td>очень высокие потолки</td>\n",
       "    </tr>\n",
       "    <tr>\n",
       "      <td>19098</td>\n",
       "      <td>7</td>\n",
       "      <td>2700000</td>\n",
       "      <td>56.00</td>\n",
       "      <td>2018-02-04</td>\n",
       "      <td>3</td>\n",
       "      <td>2.00</td>\n",
       "      <td>5.0</td>\n",
       "      <td>46.000000</td>\n",
       "      <td>1</td>\n",
       "      <td>False</td>\n",
       "      <td>...</td>\n",
       "      <td>NaN</td>\n",
       "      <td>282.0</td>\n",
       "      <td>48214</td>\n",
       "      <td>6</td>\n",
       "      <td>2</td>\n",
       "      <td>2018</td>\n",
       "      <td>первый</td>\n",
       "      <td>0.821429</td>\n",
       "      <td>0.107143</td>\n",
       "      <td>низкие потолки</td>\n",
       "    </tr>\n",
       "    <tr>\n",
       "      <td>19329</td>\n",
       "      <td>5</td>\n",
       "      <td>1700000</td>\n",
       "      <td>40.00</td>\n",
       "      <td>2018-07-15</td>\n",
       "      <td>2</td>\n",
       "      <td>2.00</td>\n",
       "      <td>9.0</td>\n",
       "      <td>NaN</td>\n",
       "      <td>8</td>\n",
       "      <td>False</td>\n",
       "      <td>...</td>\n",
       "      <td>NaN</td>\n",
       "      <td>45.0</td>\n",
       "      <td>42500</td>\n",
       "      <td>6</td>\n",
       "      <td>7</td>\n",
       "      <td>2018</td>\n",
       "      <td>другое</td>\n",
       "      <td>NaN</td>\n",
       "      <td>NaN</td>\n",
       "      <td>низкие потолки</td>\n",
       "    </tr>\n",
       "    <tr>\n",
       "      <td>20478</td>\n",
       "      <td>11</td>\n",
       "      <td>8000000</td>\n",
       "      <td>45.00</td>\n",
       "      <td>2017-07-18</td>\n",
       "      <td>1</td>\n",
       "      <td>27.00</td>\n",
       "      <td>4.0</td>\n",
       "      <td>22.000000</td>\n",
       "      <td>2</td>\n",
       "      <td>False</td>\n",
       "      <td>...</td>\n",
       "      <td>449.0</td>\n",
       "      <td>429.0</td>\n",
       "      <td>177777</td>\n",
       "      <td>1</td>\n",
       "      <td>7</td>\n",
       "      <td>2017</td>\n",
       "      <td>другое</td>\n",
       "      <td>0.488889</td>\n",
       "      <td>0.222222</td>\n",
       "      <td>очень высокие потолки</td>\n",
       "    </tr>\n",
       "    <tr>\n",
       "      <td>20507</td>\n",
       "      <td>12</td>\n",
       "      <td>5950000</td>\n",
       "      <td>60.00</td>\n",
       "      <td>2018-02-19</td>\n",
       "      <td>2</td>\n",
       "      <td>22.60</td>\n",
       "      <td>14.0</td>\n",
       "      <td>35.000000</td>\n",
       "      <td>11</td>\n",
       "      <td>False</td>\n",
       "      <td>...</td>\n",
       "      <td>NaN</td>\n",
       "      <td>40.0</td>\n",
       "      <td>99166</td>\n",
       "      <td>0</td>\n",
       "      <td>2</td>\n",
       "      <td>2018</td>\n",
       "      <td>другое</td>\n",
       "      <td>0.583333</td>\n",
       "      <td>0.216667</td>\n",
       "      <td>очень высокие потолки</td>\n",
       "    </tr>\n",
       "    <tr>\n",
       "      <td>20520</td>\n",
       "      <td>9</td>\n",
       "      <td>3600000</td>\n",
       "      <td>38.00</td>\n",
       "      <td>2018-07-05</td>\n",
       "      <td>1</td>\n",
       "      <td>2.00</td>\n",
       "      <td>12.0</td>\n",
       "      <td>15.000000</td>\n",
       "      <td>9</td>\n",
       "      <td>False</td>\n",
       "      <td>...</td>\n",
       "      <td>NaN</td>\n",
       "      <td>62.0</td>\n",
       "      <td>94736</td>\n",
       "      <td>3</td>\n",
       "      <td>7</td>\n",
       "      <td>2018</td>\n",
       "      <td>другое</td>\n",
       "      <td>0.394737</td>\n",
       "      <td>0.310526</td>\n",
       "      <td>низкие потолки</td>\n",
       "    </tr>\n",
       "    <tr>\n",
       "      <td>21227</td>\n",
       "      <td>0</td>\n",
       "      <td>8200000</td>\n",
       "      <td>71.00</td>\n",
       "      <td>2017-07-21</td>\n",
       "      <td>0</td>\n",
       "      <td>5.80</td>\n",
       "      <td>5.0</td>\n",
       "      <td>68.000000</td>\n",
       "      <td>5</td>\n",
       "      <td>False</td>\n",
       "      <td>...</td>\n",
       "      <td>366.0</td>\n",
       "      <td>30.0</td>\n",
       "      <td>115492</td>\n",
       "      <td>4</td>\n",
       "      <td>7</td>\n",
       "      <td>2017</td>\n",
       "      <td>последний</td>\n",
       "      <td>0.957746</td>\n",
       "      <td>NaN</td>\n",
       "      <td>очень высокие потолки</td>\n",
       "    </tr>\n",
       "    <tr>\n",
       "      <td>21377</td>\n",
       "      <td>19</td>\n",
       "      <td>4900000</td>\n",
       "      <td>42.00</td>\n",
       "      <td>2017-04-18</td>\n",
       "      <td>1</td>\n",
       "      <td>27.50</td>\n",
       "      <td>24.0</td>\n",
       "      <td>37.700000</td>\n",
       "      <td>19</td>\n",
       "      <td>False</td>\n",
       "      <td>...</td>\n",
       "      <td>NaN</td>\n",
       "      <td>61.0</td>\n",
       "      <td>116666</td>\n",
       "      <td>1</td>\n",
       "      <td>4</td>\n",
       "      <td>2017</td>\n",
       "      <td>другое</td>\n",
       "      <td>0.897619</td>\n",
       "      <td>0.261905</td>\n",
       "      <td>очень высокие потолки</td>\n",
       "    </tr>\n",
       "    <tr>\n",
       "      <td>21824</td>\n",
       "      <td>20</td>\n",
       "      <td>2450000</td>\n",
       "      <td>44.00</td>\n",
       "      <td>2019-02-12</td>\n",
       "      <td>2</td>\n",
       "      <td>27.00</td>\n",
       "      <td>2.0</td>\n",
       "      <td>38.000000</td>\n",
       "      <td>2</td>\n",
       "      <td>False</td>\n",
       "      <td>...</td>\n",
       "      <td>NaN</td>\n",
       "      <td>NaN</td>\n",
       "      <td>55681</td>\n",
       "      <td>1</td>\n",
       "      <td>2</td>\n",
       "      <td>2019</td>\n",
       "      <td>последний</td>\n",
       "      <td>0.863636</td>\n",
       "      <td>0.195455</td>\n",
       "      <td>очень высокие потолки</td>\n",
       "    </tr>\n",
       "    <tr>\n",
       "      <td>22309</td>\n",
       "      <td>20</td>\n",
       "      <td>5300000</td>\n",
       "      <td>45.00</td>\n",
       "      <td>2017-09-30</td>\n",
       "      <td>1</td>\n",
       "      <td>10.30</td>\n",
       "      <td>16.0</td>\n",
       "      <td>15.500000</td>\n",
       "      <td>15</td>\n",
       "      <td>False</td>\n",
       "      <td>...</td>\n",
       "      <td>450.0</td>\n",
       "      <td>136.0</td>\n",
       "      <td>117777</td>\n",
       "      <td>5</td>\n",
       "      <td>9</td>\n",
       "      <td>2017</td>\n",
       "      <td>другое</td>\n",
       "      <td>0.344444</td>\n",
       "      <td>NaN</td>\n",
       "      <td>очень высокие потолки</td>\n",
       "    </tr>\n",
       "    <tr>\n",
       "      <td>22336</td>\n",
       "      <td>19</td>\n",
       "      <td>9999000</td>\n",
       "      <td>92.40</td>\n",
       "      <td>2019-04-05</td>\n",
       "      <td>2</td>\n",
       "      <td>32.00</td>\n",
       "      <td>6.0</td>\n",
       "      <td>55.500000</td>\n",
       "      <td>5</td>\n",
       "      <td>False</td>\n",
       "      <td>...</td>\n",
       "      <td>511.0</td>\n",
       "      <td>NaN</td>\n",
       "      <td>108214</td>\n",
       "      <td>4</td>\n",
       "      <td>4</td>\n",
       "      <td>2019</td>\n",
       "      <td>другое</td>\n",
       "      <td>0.600649</td>\n",
       "      <td>0.178571</td>\n",
       "      <td>очень высокие потолки</td>\n",
       "    </tr>\n",
       "    <tr>\n",
       "      <td>22590</td>\n",
       "      <td>16</td>\n",
       "      <td>6000000</td>\n",
       "      <td>55.00</td>\n",
       "      <td>2018-10-31</td>\n",
       "      <td>2</td>\n",
       "      <td>1.00</td>\n",
       "      <td>12.0</td>\n",
       "      <td>32.400000</td>\n",
       "      <td>7</td>\n",
       "      <td>False</td>\n",
       "      <td>...</td>\n",
       "      <td>289.0</td>\n",
       "      <td>13.0</td>\n",
       "      <td>109090</td>\n",
       "      <td>2</td>\n",
       "      <td>10</td>\n",
       "      <td>2018</td>\n",
       "      <td>другое</td>\n",
       "      <td>0.589091</td>\n",
       "      <td>0.181818</td>\n",
       "      <td>низкие потолки</td>\n",
       "    </tr>\n",
       "    <tr>\n",
       "      <td>22869</td>\n",
       "      <td>0</td>\n",
       "      <td>15000000</td>\n",
       "      <td>25.00</td>\n",
       "      <td>2018-07-25</td>\n",
       "      <td>1</td>\n",
       "      <td>100.00</td>\n",
       "      <td>5.0</td>\n",
       "      <td>14.000000</td>\n",
       "      <td>5</td>\n",
       "      <td>True</td>\n",
       "      <td>...</td>\n",
       "      <td>30.0</td>\n",
       "      <td>19.0</td>\n",
       "      <td>600000</td>\n",
       "      <td>2</td>\n",
       "      <td>7</td>\n",
       "      <td>2018</td>\n",
       "      <td>последний</td>\n",
       "      <td>0.560000</td>\n",
       "      <td>0.440000</td>\n",
       "      <td>очень высокие потолки</td>\n",
       "    </tr>\n",
       "    <tr>\n",
       "      <td>22938</td>\n",
       "      <td>14</td>\n",
       "      <td>4000000</td>\n",
       "      <td>98.00</td>\n",
       "      <td>2018-03-15</td>\n",
       "      <td>4</td>\n",
       "      <td>27.00</td>\n",
       "      <td>2.0</td>\n",
       "      <td>73.000000</td>\n",
       "      <td>2</td>\n",
       "      <td>True</td>\n",
       "      <td>...</td>\n",
       "      <td>NaN</td>\n",
       "      <td>27.0</td>\n",
       "      <td>40816</td>\n",
       "      <td>3</td>\n",
       "      <td>3</td>\n",
       "      <td>2018</td>\n",
       "      <td>последний</td>\n",
       "      <td>0.744898</td>\n",
       "      <td>0.091837</td>\n",
       "      <td>очень высокие потолки</td>\n",
       "    </tr>\n",
       "    <tr>\n",
       "      <td>22960</td>\n",
       "      <td>17</td>\n",
       "      <td>2300000</td>\n",
       "      <td>53.60</td>\n",
       "      <td>2018-10-18</td>\n",
       "      <td>2</td>\n",
       "      <td>2.00</td>\n",
       "      <td>2.0</td>\n",
       "      <td>19.000000</td>\n",
       "      <td>1</td>\n",
       "      <td>False</td>\n",
       "      <td>...</td>\n",
       "      <td>NaN</td>\n",
       "      <td>NaN</td>\n",
       "      <td>42910</td>\n",
       "      <td>3</td>\n",
       "      <td>10</td>\n",
       "      <td>2018</td>\n",
       "      <td>первый</td>\n",
       "      <td>0.354478</td>\n",
       "      <td>0.186567</td>\n",
       "      <td>низкие потолки</td>\n",
       "    </tr>\n",
       "    <tr>\n",
       "      <td>23498</td>\n",
       "      <td>7</td>\n",
       "      <td>1600000</td>\n",
       "      <td>54.00</td>\n",
       "      <td>2016-12-26</td>\n",
       "      <td>2</td>\n",
       "      <td>2.30</td>\n",
       "      <td>1.0</td>\n",
       "      <td>33.000000</td>\n",
       "      <td>1</td>\n",
       "      <td>False</td>\n",
       "      <td>...</td>\n",
       "      <td>NaN</td>\n",
       "      <td>281.0</td>\n",
       "      <td>29629</td>\n",
       "      <td>0</td>\n",
       "      <td>12</td>\n",
       "      <td>2016</td>\n",
       "      <td>первый</td>\n",
       "      <td>0.611111</td>\n",
       "      <td>0.064815</td>\n",
       "      <td>низкие потолки</td>\n",
       "    </tr>\n",
       "  </tbody>\n",
       "</table>\n",
       "<p>51 rows × 30 columns</p>\n",
       "</div>"
      ],
      "text/plain": [
       "       total_images  last_price  total_area first_day_exposition  rooms  \\\n",
       "355              17     3600000       55.20           2018-07-12      2   \n",
       "552              11     2999000       33.50           2017-03-30      1   \n",
       "1582              4     4100000       45.60           2016-01-13      2   \n",
       "2572              4     2400000       62.00           2018-12-27      3   \n",
       "3148             14     2900000       75.00           2018-11-12      3   \n",
       "3474              3     1400000       30.00           2018-03-16      1   \n",
       "4212              1     2120000       35.43           2017-12-18      1   \n",
       "4643              0     4300000       45.00           2018-02-01      2   \n",
       "4876              7     3000000       25.00           2017-09-27      0   \n",
       "5076              0     3850000       30.50           2018-10-03      1   \n",
       "5246              0     2500000       54.00           2017-10-13      2   \n",
       "5498             17     2200000       56.00           2018-04-02      2   \n",
       "5669              4     4400000       50.00           2017-08-08      2   \n",
       "5712              5     1500000       42.80           2017-08-14      2   \n",
       "5807             17     8150000       80.00           2019-01-09      2   \n",
       "5850              9     1650000       35.50           2018-05-29      1   \n",
       "5863             20     5650000       45.00           2018-08-15      1   \n",
       "6246              6     3300000       44.40           2019-03-25      2   \n",
       "9379              5     3950000       42.00           2017-03-26      3   \n",
       "10773             8     3800000       58.00           2017-10-13      2   \n",
       "11285             0     1950000       37.00           2019-03-20      1   \n",
       "11352             4     3300000       36.00           2017-06-18      1   \n",
       "12628            14     3900000       50.00           2018-03-29      1   \n",
       "12755             2     1400000       22.50           2017-09-21      1   \n",
       "14382             9     1700000       35.00           2015-12-04      1   \n",
       "15061            19     5600000       56.40           2018-05-11      2   \n",
       "15743            14     5600000       67.00           2016-11-11      3   \n",
       "16446             6    12300000       88.30           2019-03-12      3   \n",
       "16884             0     1500000       33.00           2018-10-03      1   \n",
       "16934             5     4100000       40.00           2017-10-17      1   \n",
       "17442             0     5350000       54.00           2015-06-16      2   \n",
       "17496            15     6700000       92.90           2019-02-19      3   \n",
       "17762            20     2300000       54.30           2018-06-28      3   \n",
       "17794             1     2300000       58.60           2016-05-12      3   \n",
       "17857             1     3900000       56.00           2017-12-22      3   \n",
       "18545             6     3750000       43.00           2019-03-18      2   \n",
       "19098             7     2700000       56.00           2018-02-04      3   \n",
       "19329             5     1700000       40.00           2018-07-15      2   \n",
       "20478            11     8000000       45.00           2017-07-18      1   \n",
       "20507            12     5950000       60.00           2018-02-19      2   \n",
       "20520             9     3600000       38.00           2018-07-05      1   \n",
       "21227             0     8200000       71.00           2017-07-21      0   \n",
       "21377            19     4900000       42.00           2017-04-18      1   \n",
       "21824            20     2450000       44.00           2019-02-12      2   \n",
       "22309            20     5300000       45.00           2017-09-30      1   \n",
       "22336            19     9999000       92.40           2019-04-05      2   \n",
       "22590            16     6000000       55.00           2018-10-31      2   \n",
       "22869             0    15000000       25.00           2018-07-25      1   \n",
       "22938            14     4000000       98.00           2018-03-15      4   \n",
       "22960            17     2300000       53.60           2018-10-18      2   \n",
       "23498             7     1600000       54.00           2016-12-26      2   \n",
       "\n",
       "       ceiling_height  floors_total  living_area  floor  is_apartment  ...  \\\n",
       "355             25.00           5.0    32.000000      2         False  ...   \n",
       "552              2.00          15.0    17.500000      6         False  ...   \n",
       "1582             2.30           9.0    28.400000      8         False  ...   \n",
       "2572             2.00           5.0    40.000000      4         False  ...   \n",
       "3148            32.00           3.0    53.000000      2         False  ...   \n",
       "3474             8.00           5.0    15.300000      2         False  ...   \n",
       "4212             2.00          18.0    16.600000      9         False  ...   \n",
       "4643            25.00           9.0    30.000000      2         False  ...   \n",
       "4876            27.00          25.0    17.000000     17         False  ...   \n",
       "5076            24.00           5.0    19.500000      1          True  ...   \n",
       "5246            27.00           5.0    30.000000      3         False  ...   \n",
       "5498             2.30           5.0    45.000000      1         False  ...   \n",
       "5669            26.00           9.0    21.300000      3         False  ...   \n",
       "5712             1.20           2.0    27.500000      1         False  ...   \n",
       "5807            27.00          36.0    41.000000     13         False  ...   \n",
       "5850             2.00           5.0          NaN      5         False  ...   \n",
       "5863             8.30          16.0    19.300000     14         False  ...   \n",
       "6246            25.00           5.0    31.300000      5         False  ...   \n",
       "9379            25.00           5.0    30.000000      2         False  ...   \n",
       "10773           27.00          10.0    30.100000      3         False  ...   \n",
       "11285           25.00           5.0    17.000000      4         False  ...   \n",
       "11352            2.00          17.0    15.200000     12         False  ...   \n",
       "12628            5.30           5.0          NaN      5         False  ...   \n",
       "12755            2.20           2.0    18.000000      2         False  ...   \n",
       "14382           25.00           5.0    20.000000      2         False  ...   \n",
       "15061           14.00          14.0    32.400000      5         False  ...   \n",
       "15743            8.00          16.0    41.000000      1         False  ...   \n",
       "16446            2.00           5.0    63.900000      2         False  ...   \n",
       "16884            2.00           5.0    20.000000      5         False  ...   \n",
       "16934            1.75          37.0    17.400000      5         False  ...   \n",
       "17442            8.00           5.0    29.000000      2         False  ...   \n",
       "17496           20.00          17.0    53.200000     14         False  ...   \n",
       "17762            2.30           5.0    39.000000      2         False  ...   \n",
       "17794            2.25           5.0    44.100002      3         False  ...   \n",
       "17857           27.00           5.0    33.000000      4         False  ...   \n",
       "18545           25.00           5.0    29.000000      3         False  ...   \n",
       "19098            2.00           5.0    46.000000      1         False  ...   \n",
       "19329            2.00           9.0          NaN      8         False  ...   \n",
       "20478           27.00           4.0    22.000000      2         False  ...   \n",
       "20507           22.60          14.0    35.000000     11         False  ...   \n",
       "20520            2.00          12.0    15.000000      9         False  ...   \n",
       "21227            5.80           5.0    68.000000      5         False  ...   \n",
       "21377           27.50          24.0    37.700000     19         False  ...   \n",
       "21824           27.00           2.0    38.000000      2         False  ...   \n",
       "22309           10.30          16.0    15.500000     15         False  ...   \n",
       "22336           32.00           6.0    55.500000      5         False  ...   \n",
       "22590            1.00          12.0    32.400000      7         False  ...   \n",
       "22869          100.00           5.0    14.000000      5          True  ...   \n",
       "22938           27.00           2.0    73.000000      2          True  ...   \n",
       "22960            2.00           2.0    19.000000      1         False  ...   \n",
       "23498            2.30           1.0    33.000000      1         False  ...   \n",
       "\n",
       "       ponds_nearest  days_exposition  price_per_square  weekday month  year  \\\n",
       "355              NaN            259.0             65217        3     7  2018   \n",
       "552            949.0            270.0             89522        3     3  2017   \n",
       "1582           525.0            329.0             89912        2     1  2016   \n",
       "2572             NaN              NaN             38709        3    12  2018   \n",
       "3148             NaN              NaN             38666        0    11  2018   \n",
       "3474             NaN            125.0             46666        4     3  2018   \n",
       "4212             NaN             36.0             59836        0    12  2017   \n",
       "4643           331.0            181.0             95555        3     2  2018   \n",
       "4876             NaN             28.0            120000        2     9  2017   \n",
       "5076           578.0              7.0            126229        2    10  2018   \n",
       "5246             NaN            540.0             46296        4    10  2017   \n",
       "5498             NaN             55.0             39285        0     4  2018   \n",
       "5669             NaN            267.0             88000        1     8  2017   \n",
       "5712             NaN            248.0             35046        0     8  2017   \n",
       "5807            80.0             38.0            101875        2     1  2019   \n",
       "5850             NaN            100.0             46478        1     5  2018   \n",
       "5863           613.0             14.0            125555        2     8  2018   \n",
       "6246            73.0              NaN             74324        0     3  2019   \n",
       "9379             NaN              NaN             94047        6     3  2017   \n",
       "10773            NaN             71.0             65517        4    10  2017   \n",
       "11285            NaN             18.0             52702        2     3  2019   \n",
       "11352            NaN             53.0             91666        6     6  2017   \n",
       "12628           92.0              8.0             78000        3     3  2018   \n",
       "12755            NaN             45.0             62222        3     9  2017   \n",
       "14382            NaN            206.0             48571        4    12  2015   \n",
       "15061            NaN            315.0             99290        4     5  2018   \n",
       "15743            NaN            474.0             83582        4    11  2016   \n",
       "16446          154.0              NaN            139297        1     3  2019   \n",
       "16884            NaN              6.0             45454        2    10  2018   \n",
       "16934           80.0             71.0            102500        1    10  2017   \n",
       "17442            NaN            469.0             99074        1     6  2015   \n",
       "17496            NaN              NaN             72120        1     2  2019   \n",
       "17762            NaN            189.0             42357        3     6  2018   \n",
       "17794            NaN             45.0             39249        3     5  2016   \n",
       "17857            NaN             73.0             69642        4    12  2017   \n",
       "18545            NaN             12.0             87209        0     3  2019   \n",
       "19098            NaN            282.0             48214        6     2  2018   \n",
       "19329            NaN             45.0             42500        6     7  2018   \n",
       "20478          449.0            429.0            177777        1     7  2017   \n",
       "20507            NaN             40.0             99166        0     2  2018   \n",
       "20520            NaN             62.0             94736        3     7  2018   \n",
       "21227          366.0             30.0            115492        4     7  2017   \n",
       "21377            NaN             61.0            116666        1     4  2017   \n",
       "21824            NaN              NaN             55681        1     2  2019   \n",
       "22309          450.0            136.0            117777        5     9  2017   \n",
       "22336          511.0              NaN            108214        4     4  2019   \n",
       "22590          289.0             13.0            109090        2    10  2018   \n",
       "22869           30.0             19.0            600000        2     7  2018   \n",
       "22938            NaN             27.0             40816        3     3  2018   \n",
       "22960            NaN              NaN             42910        3    10  2018   \n",
       "23498            NaN            281.0             29629        0    12  2016   \n",
       "\n",
       "       floor_type  living_ratio  kitchen_ratio                ceiling  \n",
       "355        другое      0.579710            NaN  очень высокие потолки  \n",
       "552        другое      0.522388       0.194030         низкие потолки  \n",
       "1582       другое      0.622807       0.153509         низкие потолки  \n",
       "2572       другое      0.645161       0.096774         низкие потолки  \n",
       "3148       другое      0.706667       0.106667  очень высокие потолки  \n",
       "3474       другое      0.510000       0.243333  очень высокие потолки  \n",
       "4212       другое      0.468529       0.248377         низкие потолки  \n",
       "4643       другое      0.666667       0.155556  очень высокие потолки  \n",
       "4876       другое      0.680000            NaN  очень высокие потолки  \n",
       "5076       первый      0.639344       0.180328  очень высокие потолки  \n",
       "5246       другое      0.555556       0.166667  очень высокие потолки  \n",
       "5498       первый      0.803571       0.160714         низкие потолки  \n",
       "5669       другое      0.426000       0.140000  очень высокие потолки  \n",
       "5712       первый      0.642523       0.121495         низкие потолки  \n",
       "5807       другое      0.512500       0.150000  очень высокие потолки  \n",
       "5850    последний           NaN            NaN         низкие потолки  \n",
       "5863       другое      0.428889       0.184444  очень высокие потолки  \n",
       "6246    последний      0.704955       0.128378  очень высокие потолки  \n",
       "9379       другое      0.714286       0.123810  очень высокие потолки  \n",
       "10773      другое      0.518966       0.139655  очень высокие потолки  \n",
       "11285      другое      0.459459       0.243243  очень высокие потолки  \n",
       "11352      другое      0.422222       0.280556         низкие потолки  \n",
       "12628   последний           NaN            NaN  очень высокие потолки  \n",
       "12755   последний      0.800000       0.200000         низкие потолки  \n",
       "14382      другое      0.571429       0.228571  очень высокие потолки  \n",
       "15061      другое      0.574468       0.161348  очень высокие потолки  \n",
       "15743      первый      0.611940       0.119403  очень высокие потолки  \n",
       "16446      другое      0.723669       0.135900         низкие потолки  \n",
       "16884   последний      0.606061       0.181818         низкие потолки  \n",
       "16934      другое      0.435000       0.208500         низкие потолки  \n",
       "17442      другое      0.537037            NaN  очень высокие потолки  \n",
       "17496      другое      0.572659       0.129171  очень высокие потолки  \n",
       "17762      другое      0.718232       0.097606         низкие потолки  \n",
       "17794      другое      0.752560       0.093857         низкие потолки  \n",
       "17857      другое      0.589286            NaN  очень высокие потолки  \n",
       "18545      другое      0.674419            NaN  очень высокие потолки  \n",
       "19098      первый      0.821429       0.107143         низкие потолки  \n",
       "19329      другое           NaN            NaN         низкие потолки  \n",
       "20478      другое      0.488889       0.222222  очень высокие потолки  \n",
       "20507      другое      0.583333       0.216667  очень высокие потолки  \n",
       "20520      другое      0.394737       0.310526         низкие потолки  \n",
       "21227   последний      0.957746            NaN  очень высокие потолки  \n",
       "21377      другое      0.897619       0.261905  очень высокие потолки  \n",
       "21824   последний      0.863636       0.195455  очень высокие потолки  \n",
       "22309      другое      0.344444            NaN  очень высокие потолки  \n",
       "22336      другое      0.600649       0.178571  очень высокие потолки  \n",
       "22590      другое      0.589091       0.181818         низкие потолки  \n",
       "22869   последний      0.560000       0.440000  очень высокие потолки  \n",
       "22938   последний      0.744898       0.091837  очень высокие потолки  \n",
       "22960      первый      0.354478       0.186567         низкие потолки  \n",
       "23498      первый      0.611111       0.064815         низкие потолки  \n",
       "\n",
       "[51 rows x 30 columns]"
      ]
     },
     "execution_count": 58,
     "metadata": {},
     "output_type": "execute_result"
    }
   ],
   "source": [
    "# смотрим на выбивающиеся значения исходя из гистограмм и функции в предыдущем разделе\n",
    "balancedpricefloor.query('ceiling_height > 5 or ceiling_height <= 2.3') "
   ]
  },
  {
   "cell_type": "code",
   "execution_count": 59,
   "metadata": {},
   "outputs": [
    {
     "data": {
      "text/plain": [
       "нормальные потолки       11790\n",
       "нет данных                9195\n",
       "высокие потолки           2604\n",
       "низкие потолки              73\n",
       "очень высокие потолки       37\n",
       "Name: ceiling, dtype: int64"
      ]
     },
     "execution_count": 59,
     "metadata": {},
     "output_type": "execute_result"
    }
   ],
   "source": [
    "data['ceiling'].value_counts() \n",
    "\n",
    "# распределение по высоте потолков на основе функции из предыдущего раздела, где:\n",
    "# ниже 2.5 м - низкие потолки\n",
    "# выше 2,5 и ниже 3 - нормальные потолки'\n",
    "# выше 3 и ниже 5 - 'высокие потолки'\n",
    "# выше 5 очень высокие потолки"
   ]
  },
  {
   "cell_type": "code",
   "execution_count": 60,
   "metadata": {
    "scrolled": true
   },
   "outputs": [
    {
     "data": {
      "text/html": [
       "<div>\n",
       "<style scoped>\n",
       "    .dataframe tbody tr th:only-of-type {\n",
       "        vertical-align: middle;\n",
       "    }\n",
       "\n",
       "    .dataframe tbody tr th {\n",
       "        vertical-align: top;\n",
       "    }\n",
       "\n",
       "    .dataframe thead th {\n",
       "        text-align: right;\n",
       "    }\n",
       "</style>\n",
       "<table border=\"1\" class=\"dataframe\">\n",
       "  <thead>\n",
       "    <tr style=\"text-align: right;\">\n",
       "      <th></th>\n",
       "      <th>total_images</th>\n",
       "      <th>last_price</th>\n",
       "      <th>total_area</th>\n",
       "      <th>first_day_exposition</th>\n",
       "      <th>rooms</th>\n",
       "      <th>ceiling_height</th>\n",
       "      <th>floors_total</th>\n",
       "      <th>living_area</th>\n",
       "      <th>floor</th>\n",
       "      <th>is_apartment</th>\n",
       "      <th>...</th>\n",
       "      <th>ponds_nearest</th>\n",
       "      <th>days_exposition</th>\n",
       "      <th>price_per_square</th>\n",
       "      <th>weekday</th>\n",
       "      <th>month</th>\n",
       "      <th>year</th>\n",
       "      <th>floor_type</th>\n",
       "      <th>living_ratio</th>\n",
       "      <th>kitchen_ratio</th>\n",
       "      <th>ceiling</th>\n",
       "    </tr>\n",
       "  </thead>\n",
       "  <tbody>\n",
       "    <tr>\n",
       "      <td>3148</td>\n",
       "      <td>14</td>\n",
       "      <td>2900000</td>\n",
       "      <td>75.0</td>\n",
       "      <td>2018-11-12</td>\n",
       "      <td>3</td>\n",
       "      <td>32.0</td>\n",
       "      <td>3.0</td>\n",
       "      <td>53.0</td>\n",
       "      <td>2</td>\n",
       "      <td>False</td>\n",
       "      <td>...</td>\n",
       "      <td>NaN</td>\n",
       "      <td>NaN</td>\n",
       "      <td>38666</td>\n",
       "      <td>0</td>\n",
       "      <td>11</td>\n",
       "      <td>2018</td>\n",
       "      <td>другое</td>\n",
       "      <td>0.706667</td>\n",
       "      <td>0.106667</td>\n",
       "      <td>очень высокие потолки</td>\n",
       "    </tr>\n",
       "    <tr>\n",
       "      <td>21824</td>\n",
       "      <td>20</td>\n",
       "      <td>2450000</td>\n",
       "      <td>44.0</td>\n",
       "      <td>2019-02-12</td>\n",
       "      <td>2</td>\n",
       "      <td>27.0</td>\n",
       "      <td>2.0</td>\n",
       "      <td>38.0</td>\n",
       "      <td>2</td>\n",
       "      <td>False</td>\n",
       "      <td>...</td>\n",
       "      <td>NaN</td>\n",
       "      <td>NaN</td>\n",
       "      <td>55681</td>\n",
       "      <td>1</td>\n",
       "      <td>2</td>\n",
       "      <td>2019</td>\n",
       "      <td>последний</td>\n",
       "      <td>0.863636</td>\n",
       "      <td>0.195455</td>\n",
       "      <td>очень высокие потолки</td>\n",
       "    </tr>\n",
       "    <tr>\n",
       "      <td>22938</td>\n",
       "      <td>14</td>\n",
       "      <td>4000000</td>\n",
       "      <td>98.0</td>\n",
       "      <td>2018-03-15</td>\n",
       "      <td>4</td>\n",
       "      <td>27.0</td>\n",
       "      <td>2.0</td>\n",
       "      <td>73.0</td>\n",
       "      <td>2</td>\n",
       "      <td>True</td>\n",
       "      <td>...</td>\n",
       "      <td>NaN</td>\n",
       "      <td>27.0</td>\n",
       "      <td>40816</td>\n",
       "      <td>3</td>\n",
       "      <td>3</td>\n",
       "      <td>2018</td>\n",
       "      <td>последний</td>\n",
       "      <td>0.744898</td>\n",
       "      <td>0.091837</td>\n",
       "      <td>очень высокие потолки</td>\n",
       "    </tr>\n",
       "  </tbody>\n",
       "</table>\n",
       "<p>3 rows × 30 columns</p>\n",
       "</div>"
      ],
      "text/plain": [
       "       total_images  last_price  total_area first_day_exposition  rooms  \\\n",
       "3148             14     2900000        75.0           2018-11-12      3   \n",
       "21824            20     2450000        44.0           2019-02-12      2   \n",
       "22938            14     4000000        98.0           2018-03-15      4   \n",
       "\n",
       "       ceiling_height  floors_total  living_area  floor  is_apartment  ...  \\\n",
       "3148             32.0           3.0         53.0      2         False  ...   \n",
       "21824            27.0           2.0         38.0      2         False  ...   \n",
       "22938            27.0           2.0         73.0      2          True  ...   \n",
       "\n",
       "       ponds_nearest  days_exposition  price_per_square  weekday month  year  \\\n",
       "3148             NaN              NaN             38666        0    11  2018   \n",
       "21824            NaN              NaN             55681        1     2  2019   \n",
       "22938            NaN             27.0             40816        3     3  2018   \n",
       "\n",
       "       floor_type  living_ratio  kitchen_ratio                ceiling  \n",
       "3148       другое      0.706667       0.106667  очень высокие потолки  \n",
       "21824   последний      0.863636       0.195455  очень высокие потолки  \n",
       "22938   последний      0.744898       0.091837  очень высокие потолки  \n",
       "\n",
       "[3 rows x 30 columns]"
      ]
     },
     "execution_count": 60,
     "metadata": {},
     "output_type": "execute_result"
    }
   ],
   "source": [
    "# смотрим на возможные частные дома, случайно попавшие в базу\n",
    "balancedpricefloor.query('ceiling_height > 5 & floors_total < 4')"
   ]
  },
  {
   "cell_type": "code",
   "execution_count": 61,
   "metadata": {},
   "outputs": [],
   "source": [
    "balancedpricefloorceiling = balancedpricefloor.query('ceiling_height >= 2.30 or ceiling_height < 5')"
   ]
  },
  {
   "cell_type": "code",
   "execution_count": 62,
   "metadata": {
    "scrolled": true
   },
   "outputs": [
    {
     "data": {
      "text/plain": [
       "22598"
      ]
     },
     "execution_count": 62,
     "metadata": {},
     "output_type": "execute_result"
    }
   ],
   "source": [
    "# так как у нас есть пропущенные значения, то код выше исключит из базы также все строки с NaN, \n",
    "# чтобы этого избежать, ставим в условие также учет пропусков \n",
    "\n",
    "balancedpricefloorceiling = balancedpricefloor.query(\n",
    "    'ceiling_height >= 2.30 & ceiling_height < 5 | ceiling_height.isna()')\n",
    "\n",
    "len(balancedpricefloorceiling) # проверяем все ли ок"
   ]
  },
  {
   "cell_type": "code",
   "execution_count": 63,
   "metadata": {},
   "outputs": [
    {
     "name": "stdout",
     "output_type": "stream",
     "text": [
      "2.65 медианная высота потолков после очистки\n",
      "2.71 средняя высота потолков после очистки\n"
     ]
    }
   ],
   "source": [
    "print(balancedpricefloorceiling['ceiling_height'].median(), 'медианная высота потолков после очистки')\n",
    "print((balancedpricefloorceiling['ceiling_height'].mean()).round(2), 'средняя высота потолков после очистки')"
   ]
  },
  {
   "cell_type": "markdown",
   "metadata": {},
   "source": [
    "Согласно строительным нормам потолки в жилых помещениях не могут быть ниже 2.5 м. В исходной базе 73 объявления с такой высотой. Мы можем сделать допущение, что некоторые объявления были указаны с потолками после ремонта и установки покрытия на полу или на потолке, что уменьшает высоту и не исключать объявления в промежутке между 2.30 и 2.50 м.\n",
    "\n",
    "В исходной базе также есть квартиры с потолками выше 5 метров, что маловероятно для жилой застройки, однако это могли бы быть частные дома, попавшие в список домов . В таком случае, у них вряд ли будет выше 3 этажей всего, а в столбце *floor* должен быть указан первый, однако таких объявлений в базе нет, а высота потолков 24-27 метров все же, вероятнее, всего 240 и 270 см ошибочно записанные или конвертированные, но мы не можем быть в этом уверены и даже если допустим, что это так, то объяснить наличие потолков высотой около метра, а также 8, 10 или 100 метровых потолков очень сложно. Поэтому эти значения можно удалить. \n",
    "\n",
    "Таким образом, мы удалили 47 значений и снизили среднюю высоту потолка на 6 см, медиана осталась неизменной."
   ]
  },
  {
   "cell_type": "code",
   "execution_count": 64,
   "metadata": {},
   "outputs": [
    {
     "name": "stdout",
     "output_type": "stream",
     "text": [
      "2.0 медианное количество комнат\n",
      "2.1 среднее количество комнат\n"
     ]
    },
    {
     "data": {
      "image/png": "[encoded data removed]",
      "text/plain": [
       "<Figure size 432x288 with 1 Axes>"
      ]
     },
     "metadata": {
      "needs_background": "light"
     },
     "output_type": "display_data"
    }
   ],
   "source": [
    "print(data['rooms'].median(), 'медианное количество комнат')\n",
    "print((data['rooms'].mean()).round(1), 'среднее количество комнат')\n",
    "\n",
    "data['rooms'].hist();\n",
    "plt.xlabel('Количество комнат');\n",
    "plt.title('Количество комнат у объектов исходной базы');"
   ]
  },
  {
   "cell_type": "code",
   "execution_count": 65,
   "metadata": {
    "scrolled": true
   },
   "outputs": [
    {
     "name": "stdout",
     "output_type": "stream",
     "text": [
      "31 квартира с 8 комнатами и выше в исходной базе\n",
      "9 квартир с 8 комнатами и выше после предыдущих удалений\n"
     ]
    }
   ],
   "source": [
    "print(len(data.query('rooms > 7')), 'квартира с 8 комнатами и выше в исходной базе')\n",
    "print(len(balancedpricefloorceiling.query('rooms > 7')), 'квартир с 8 комнатами и выше после предыдущих удалений')"
   ]
  },
  {
   "cell_type": "markdown",
   "metadata": {},
   "source": [
    "В среднем по базе квартиры с 2 комнатами (аналогично по медиане). На гистограмме выше это подтверждается. В исходной базе были квартиры с более чем 15 комнатами, однако мы их удалили на предыдущих стадиях очистки редких и аномальных значений.\n",
    "\n",
    "На данный момент в базе всего 87 квартир с более чем 5 комнатами. Да, таких объявлений немного и их удаление не окажет существенного влияния на базу, как и в предыдущих случаях, однако в данном случае, общая площадь и цены этих квартир выглядят вполне адекватно, поэтому признать их аномалиями сложно и можно не удалять из базы."
   ]
  },
  {
   "cell_type": "code",
   "execution_count": 66,
   "metadata": {},
   "outputs": [
    {
     "name": "stdout",
     "output_type": "stream",
     "text": [
      "56.84 средняя площадь\n",
      "51.0 медианная площадь\n"
     ]
    }
   ],
   "source": [
    "print(balancedpricefloorceiling['total_area'].mean().round(2), 'средняя площадь')\n",
    "print(balancedpricefloorceiling['total_area'].median().round(2), 'медианная площадь')"
   ]
  },
  {
   "cell_type": "markdown",
   "metadata": {},
   "source": [
    "<a id=cell7></a>"
   ]
  },
  {
   "cell_type": "code",
   "execution_count": 67,
   "metadata": {},
   "outputs": [
    {
     "data": {
      "image/png": "[encoded data removed]",
      "text/plain": [
       "<Figure size 432x288 with 1 Axes>"
      ]
     },
     "metadata": {
      "needs_background": "light"
     },
     "output_type": "display_data"
    }
   ],
   "source": [
    "balancedpricefloorceiling['total_area'].hist();\n",
    "plt.title('Площадь квартир');\n",
    "plt.xlabel('Площадь в кв.м');"
   ]
  },
  {
   "cell_type": "code",
   "execution_count": 68,
   "metadata": {},
   "outputs": [],
   "source": [
    "balancedpricefloorceilingarea = balancedpricefloorceiling.query('total_area < 200')"
   ]
  },
  {
   "cell_type": "markdown",
   "metadata": {},
   "source": [
    "Площадь квартиры в среднем 57 кв.м., медиана 51 кв.м. Это уже немного отличается от того, чтобы было изначально в базе и рассматривалось в предыдущем разделе 4.1.\n",
    "[Гистограмма](#cell7) выше показывает, что большинство квартир находятся в пределах 100 кв.м. Есть всего 41 квартира более 200 квадратных метров и в среднем эти квартиры не выглядят странно и не влияют практически никак на среднее, однако они визуально мешают на некоторых графиках и гистограммах, поэтому их можно убрать, чтобы они не мешали. "
   ]
  },
  {
   "cell_type": "code",
   "execution_count": 69,
   "metadata": {},
   "outputs": [
    {
     "name": "stdout",
     "output_type": "stream",
     "text": [
      "0.59 cреднее количество балконов\n"
     ]
    }
   ],
   "source": [
    "print(data['balcony'].mean().round(2), 'cреднее количество балконов') # медиана 0, так как во многих объявлениях нет балконов"
   ]
  },
  {
   "cell_type": "code",
   "execution_count": 70,
   "metadata": {},
   "outputs": [
    {
     "data": {
      "image/png": "[encoded data removed]",
      "text/plain": [
       "<Figure size 432x288 with 1 Axes>"
      ]
     },
     "metadata": {
      "needs_background": "light"
     },
     "output_type": "display_data"
    }
   ],
   "source": [
    "data['balcony'].hist();\n",
    "\n",
    "# по гистограмме видим, что в большинстве квартир нет балконов, а там где есть не бывает больше 5"
   ]
  },
  {
   "cell_type": "code",
   "execution_count": 71,
   "metadata": {},
   "outputs": [
    {
     "name": "stdout",
     "output_type": "stream",
     "text": [
      "487 квартир с 4 балконами и больше в исходной таблице\n",
      "451 квартира с 4 балконами и больше после удаления крайних значений\n"
     ]
    }
   ],
   "source": [
    "# смотри на квартир с 4-5 балконами\n",
    "\n",
    "print(len(data.query('balcony > 3')), 'квартир с 4 балконами и больше в исходной таблице')\n",
    "print(len(balancedpricefloorceilingarea.query('balcony > 3')), 'квартира с 4 балконами и больше после удаления крайних значений')"
   ]
  },
  {
   "cell_type": "code",
   "execution_count": 72,
   "metadata": {},
   "outputs": [
    {
     "data": {
      "text/plain": [
       "7932     30.20\n",
       "16553    33.50\n",
       "13648    35.00\n",
       "11586    35.95\n",
       "654      36.00\n",
       "11441    36.80\n",
       "20879    36.95\n",
       "20888    37.00\n",
       "22519    38.13\n",
       "3238     40.00\n",
       "Name: total_area, dtype: float64"
      ]
     },
     "execution_count": 72,
     "metadata": {},
     "output_type": "execute_result"
    }
   ],
   "source": [
    "balancedpricefloorceilingarea.query('balcony > 3')['total_area'].sort_values().head(10) \n",
    "# мы видим, что есть определенное количество квартир с 4 балконами при малой общей площади"
   ]
  },
  {
   "cell_type": "code",
   "execution_count": 73,
   "metadata": {},
   "outputs": [
    {
     "name": "stdout",
     "output_type": "stream",
     "text": [
      "0.52 cреднее количество балконов после удаления\n"
     ]
    }
   ],
   "source": [
    "balanced = balancedpricefloorceilingarea.query('balcony < 4')\n",
    "print(balanced['balcony'].mean().round(2), 'cреднее количество балконов после удаления')"
   ]
  },
  {
   "cell_type": "markdown",
   "metadata": {},
   "source": [
    "В большинство квартир нет балконов и это не вызывает удивления. Однако странным является наличие относительно большого количества квартир с 4 балконами и больше, при этом общая площадь этих квартир нередко достаточно мала и они состоят из 1 или 2 комнат. Это нетипичная планировка и в целом вызывает подозрения. \n",
    "На популярных ресурсах с объявлениями по продаже квартир не удалось обнаружить квартир с 4 или 5 балконами похожие квартиры, поэтому их, наверное, правильнее не учитывать. Среднее количество балконов снизилось с 0.59 до 0.52. "
   ]
  },
  {
   "cell_type": "code",
   "execution_count": 74,
   "metadata": {},
   "outputs": [
    {
     "data": {
      "image/png": "[encoded data removed]",
      "text/plain": [
       "<Figure size 432x288 with 1 Axes>"
      ]
     },
     "metadata": {
      "needs_background": "light"
     },
     "output_type": "display_data"
    }
   ],
   "source": [
    "# для интереса смотрим на соотношение цен на квартиры по площади и не видим каких-то значимых выбросов\n",
    "balanced.plot(kind='scatter', y='total_area', x='last_price', alpha=0.2);"
   ]
  },
  {
   "cell_type": "code",
   "execution_count": 75,
   "metadata": {},
   "outputs": [
    {
     "data": {
      "image/png": "[encoded data removed]",
      "text/plain": [
       "<Figure size 576x432 with 1 Axes>"
      ]
     },
     "metadata": {
      "needs_background": "light"
     },
     "output_type": "display_data"
    }
   ],
   "source": [
    "# также смотрим на распределение по общей и жилой площади \n",
    "# и видим нормальную связь этих показателей без большого количества аномалий\n",
    "# чем больше площадь, тем больше жилая площадь\n",
    "\n",
    "balanced.plot(\n",
    "    kind='scatter', y='total_area', x='living_area', \n",
    "    title='Распределение квартир по общей и жилой площади',\n",
    "    figsize=(8,6), grid=True, alpha=0.2\n",
    ");"
   ]
  },
  {
   "cell_type": "markdown",
   "metadata": {},
   "source": [
    "### Какие факторы больше всего влияют на стоимость квартиры"
   ]
  },
  {
   "cell_type": "code",
   "execution_count": 76,
   "metadata": {},
   "outputs": [
    {
     "name": "stdout",
     "output_type": "stream",
     "text": [
      "<class 'pandas.core.frame.DataFrame'>\n",
      "Int64Index: 22104 entries, 0 to 23698\n",
      "Data columns (total 30 columns):\n",
      "total_images            22104 non-null int64\n",
      "last_price              22104 non-null int64\n",
      "total_area              22104 non-null float64\n",
      "first_day_exposition    22104 non-null datetime64[ns]\n",
      "rooms                   22104 non-null int64\n",
      "ceiling_height          13486 non-null float64\n",
      "floors_total            22104 non-null float64\n",
      "living_area             20404 non-null float64\n",
      "floor                   22104 non-null int64\n",
      "is_apartment            22104 non-null bool\n",
      "studio                  22104 non-null bool\n",
      "open_plan               22104 non-null bool\n",
      "kitchen_area            20029 non-null float64\n",
      "balcony                 22104 non-null int64\n",
      "locality_name           22058 non-null object\n",
      "airports_nearest        16958 non-null float64\n",
      "cityCenters_nearest     16975 non-null float64\n",
      "parks_around3000        22104 non-null int64\n",
      "parks_nearest           7325 non-null float64\n",
      "ponds_around3000        22104 non-null int64\n",
      "ponds_nearest           8335 non-null float64\n",
      "days_exposition         19284 non-null float64\n",
      "price_per_square        22104 non-null int64\n",
      "weekday                 22104 non-null int64\n",
      "month                   22104 non-null int64\n",
      "year                    22104 non-null int64\n",
      "floor_type              22104 non-null object\n",
      "living_ratio            20404 non-null float64\n",
      "kitchen_ratio           20029 non-null float64\n",
      "ceiling                 22104 non-null object\n",
      "dtypes: bool(3), datetime64[ns](1), float64(12), int64(11), object(3)\n",
      "memory usage: 4.8+ MB\n"
     ]
    }
   ],
   "source": [
    "balanced.info()"
   ]
  },
  {
   "cell_type": "code",
   "execution_count": 77,
   "metadata": {},
   "outputs": [],
   "source": [
    "# cоздаем новую таблицу только с нужными столбцами для анализа\n",
    "\n",
    "columns = balanced[['total_area', 'rooms','last_price',\n",
    "        'price_per_square','floor_type', 'floor', 'cityCenters_nearest',\n",
    "        'weekday','month','year','ceiling_height', 'living_ratio', \n",
    "        'kitchen_ratio', 'parks_around3000', 'ponds_around3000', 'locality_name']]\n",
    "forcorr = columns.copy()\n",
    "forcorr = forcorr.reset_index()"
   ]
  },
  {
   "cell_type": "code",
   "execution_count": 78,
   "metadata": {},
   "outputs": [],
   "source": [
    "# для удобства чтения чисел сохраняем их в более удобном формате\n",
    "\n",
    "forcorr['last_price'] = forcorr['last_price'] / 1000000\n",
    "forcorr['cityCenters_nearest'] = (forcorr['cityCenters_nearest'] / 1000).round()\n",
    "forcorr['living_ratio'] = forcorr['living_ratio'] * 100\n",
    "forcorr['kitchen_ratio'] = forcorr['kitchen_ratio'] * 100"
   ]
  },
  {
   "cell_type": "code",
   "execution_count": 79,
   "metadata": {
    "scrolled": true
   },
   "outputs": [
    {
     "name": "stdout",
     "output_type": "stream",
     "text": [
      "0.07\n"
     ]
    },
    {
     "data": {
      "text/html": [
       "<div>\n",
       "<style scoped>\n",
       "    .dataframe tbody tr th:only-of-type {\n",
       "        vertical-align: middle;\n",
       "    }\n",
       "\n",
       "    .dataframe tbody tr th {\n",
       "        vertical-align: top;\n",
       "    }\n",
       "\n",
       "    .dataframe thead th {\n",
       "        text-align: right;\n",
       "    }\n",
       "</style>\n",
       "<table border=\"1\" class=\"dataframe\">\n",
       "  <thead>\n",
       "    <tr style=\"text-align: right;\">\n",
       "      <th></th>\n",
       "      <th>count</th>\n",
       "      <th>mean</th>\n",
       "    </tr>\n",
       "    <tr>\n",
       "      <th>floor_type</th>\n",
       "      <th></th>\n",
       "      <th></th>\n",
       "    </tr>\n",
       "  </thead>\n",
       "  <tbody>\n",
       "    <tr>\n",
       "      <td>другое</td>\n",
       "      <td>16299</td>\n",
       "      <td>5.60</td>\n",
       "    </tr>\n",
       "    <tr>\n",
       "      <td>первый</td>\n",
       "      <td>2763</td>\n",
       "      <td>4.47</td>\n",
       "    </tr>\n",
       "    <tr>\n",
       "      <td>последний</td>\n",
       "      <td>3042</td>\n",
       "      <td>5.15</td>\n",
       "    </tr>\n",
       "  </tbody>\n",
       "</table>\n",
       "</div>"
      ],
      "text/plain": [
       "            count  mean\n",
       "floor_type             \n",
       "другое      16299  5.60\n",
       "первый       2763  4.47\n",
       "последний    3042  5.15"
      ]
     },
     "execution_count": 79,
     "metadata": {},
     "output_type": "execute_result"
    }
   ],
   "source": [
    "# коэффициент корреляции между ценой и этажом\n",
    "\n",
    "print(forcorr['last_price'].corr(forcorr['floor']).round(2))\n",
    "\n",
    "# количество и среднее в соотношении этаж-цена\n",
    "forcorr.groupby('floor_type')['last_price'].agg(['count', 'mean']).round(2)"
   ]
  },
  {
   "cell_type": "code",
   "execution_count": 80,
   "metadata": {},
   "outputs": [
    {
     "name": "stdout",
     "output_type": "stream",
     "text": [
      "0.51 коэффициент корреляции между ценой и высотой потолков\n"
     ]
    }
   ],
   "source": [
    "# коэффициент корреляции между ценой и высотой потолков\n",
    "\n",
    "print(forcorr['last_price'].corr(forcorr['ceiling_height']).round(2),\n",
    "     'коэффициент корреляции между ценой и высотой потолков')"
   ]
  },
  {
   "cell_type": "code",
   "execution_count": 81,
   "metadata": {},
   "outputs": [
    {
     "name": "stdout",
     "output_type": "stream",
     "text": [
      "0.65 коэффициент корреляции между ценой и площадью исходной таблицы\n",
      "0.36 коэффициент корреляции между ценой и кол-вом комнат исходной таблицы\n"
     ]
    }
   ],
   "source": [
    "# коэффициент корреляции между ценой и площадью/кол-вом комнат исходной таблицы\n",
    "\n",
    "print(data['last_price'].corr(data['total_area']).round(2),\n",
    "     'коэффициент корреляции между ценой и площадью исходной таблицы')\n",
    "print(data['last_price'].corr(data['rooms']).round(2),\n",
    "     'коэффициент корреляции между ценой и кол-вом комнат исходной таблицы')"
   ]
  },
  {
   "cell_type": "code",
   "execution_count": 82,
   "metadata": {},
   "outputs": [
    {
     "name": "stdout",
     "output_type": "stream",
     "text": [
      "-0.36 коэффициент корреляции между ценой и удаленностью от центра\n",
      "-0.391 коэффициент корреляции между ценой за кв.м и удаленностью от центра\n"
     ]
    }
   ],
   "source": [
    "# коэффициент корреляции между ценой и удаленностью от центра\n",
    "\n",
    "print(forcorr['last_price'].corr(forcorr['cityCenters_nearest']).round(2),\n",
    "      'коэффициент корреляции между ценой и удаленностью от центра')\n",
    "print(forcorr['price_per_square'].corr(forcorr['cityCenters_nearest']).round(3),\n",
    "      'коэффициент корреляции между ценой за кв.м и удаленностью от центра'\n",
    "     )                                        "
   ]
  },
  {
   "cell_type": "code",
   "execution_count": 83,
   "metadata": {
    "scrolled": true
   },
   "outputs": [
    {
     "data": {
      "text/html": [
       "<div>\n",
       "<style scoped>\n",
       "    .dataframe tbody tr th:only-of-type {\n",
       "        vertical-align: middle;\n",
       "    }\n",
       "\n",
       "    .dataframe tbody tr th {\n",
       "        vertical-align: top;\n",
       "    }\n",
       "\n",
       "    .dataframe thead th {\n",
       "        text-align: right;\n",
       "    }\n",
       "</style>\n",
       "<table border=\"1\" class=\"dataframe\">\n",
       "  <thead>\n",
       "    <tr style=\"text-align: right;\">\n",
       "      <th></th>\n",
       "      <th>count</th>\n",
       "      <th>mean</th>\n",
       "    </tr>\n",
       "    <tr>\n",
       "      <th>weekday</th>\n",
       "      <th></th>\n",
       "      <th></th>\n",
       "    </tr>\n",
       "  </thead>\n",
       "  <tbody>\n",
       "    <tr>\n",
       "      <td>0</td>\n",
       "      <td>3357</td>\n",
       "      <td>5.37</td>\n",
       "    </tr>\n",
       "    <tr>\n",
       "      <td>1</td>\n",
       "      <td>3944</td>\n",
       "      <td>5.48</td>\n",
       "    </tr>\n",
       "    <tr>\n",
       "      <td>2</td>\n",
       "      <td>3702</td>\n",
       "      <td>5.46</td>\n",
       "    </tr>\n",
       "    <tr>\n",
       "      <td>3</td>\n",
       "      <td>3984</td>\n",
       "      <td>5.47</td>\n",
       "    </tr>\n",
       "    <tr>\n",
       "      <td>4</td>\n",
       "      <td>3752</td>\n",
       "      <td>5.34</td>\n",
       "    </tr>\n",
       "    <tr>\n",
       "      <td>5</td>\n",
       "      <td>1788</td>\n",
       "      <td>5.26</td>\n",
       "    </tr>\n",
       "    <tr>\n",
       "      <td>6</td>\n",
       "      <td>1577</td>\n",
       "      <td>5.23</td>\n",
       "    </tr>\n",
       "  </tbody>\n",
       "</table>\n",
       "</div>"
      ],
      "text/plain": [
       "         count  mean\n",
       "weekday             \n",
       "0         3357  5.37\n",
       "1         3944  5.48\n",
       "2         3702  5.46\n",
       "3         3984  5.47\n",
       "4         3752  5.34\n",
       "5         1788  5.26\n",
       "6         1577  5.23"
      ]
     },
     "execution_count": 83,
     "metadata": {},
     "output_type": "execute_result"
    }
   ],
   "source": [
    "# количество и среднее в соотношении день публикации-цена\n",
    "forcorr.groupby('weekday')['last_price'].agg(['count', 'mean']).round(2)"
   ]
  },
  {
   "cell_type": "code",
   "execution_count": 84,
   "metadata": {},
   "outputs": [
    {
     "data": {
      "text/html": [
       "<div>\n",
       "<style scoped>\n",
       "    .dataframe tbody tr th:only-of-type {\n",
       "        vertical-align: middle;\n",
       "    }\n",
       "\n",
       "    .dataframe tbody tr th {\n",
       "        vertical-align: top;\n",
       "    }\n",
       "\n",
       "    .dataframe thead th {\n",
       "        text-align: right;\n",
       "    }\n",
       "</style>\n",
       "<table border=\"1\" class=\"dataframe\">\n",
       "  <thead>\n",
       "    <tr style=\"text-align: right;\">\n",
       "      <th></th>\n",
       "      <th>count</th>\n",
       "      <th>mean</th>\n",
       "    </tr>\n",
       "    <tr>\n",
       "      <th>month</th>\n",
       "      <th></th>\n",
       "      <th></th>\n",
       "    </tr>\n",
       "  </thead>\n",
       "  <tbody>\n",
       "    <tr>\n",
       "      <td>1</td>\n",
       "      <td>1380</td>\n",
       "      <td>5.37</td>\n",
       "    </tr>\n",
       "    <tr>\n",
       "      <td>2</td>\n",
       "      <td>2458</td>\n",
       "      <td>5.38</td>\n",
       "    </tr>\n",
       "    <tr>\n",
       "      <td>3</td>\n",
       "      <td>2431</td>\n",
       "      <td>5.41</td>\n",
       "    </tr>\n",
       "    <tr>\n",
       "      <td>4</td>\n",
       "      <td>2217</td>\n",
       "      <td>5.49</td>\n",
       "    </tr>\n",
       "    <tr>\n",
       "      <td>5</td>\n",
       "      <td>1188</td>\n",
       "      <td>5.39</td>\n",
       "    </tr>\n",
       "    <tr>\n",
       "      <td>6</td>\n",
       "      <td>1633</td>\n",
       "      <td>5.17</td>\n",
       "    </tr>\n",
       "    <tr>\n",
       "      <td>7</td>\n",
       "      <td>1577</td>\n",
       "      <td>5.39</td>\n",
       "    </tr>\n",
       "    <tr>\n",
       "      <td>8</td>\n",
       "      <td>1635</td>\n",
       "      <td>5.39</td>\n",
       "    </tr>\n",
       "    <tr>\n",
       "      <td>9</td>\n",
       "      <td>1848</td>\n",
       "      <td>5.57</td>\n",
       "    </tr>\n",
       "    <tr>\n",
       "      <td>10</td>\n",
       "      <td>2001</td>\n",
       "      <td>5.37</td>\n",
       "    </tr>\n",
       "    <tr>\n",
       "      <td>11</td>\n",
       "      <td>2205</td>\n",
       "      <td>5.39</td>\n",
       "    </tr>\n",
       "    <tr>\n",
       "      <td>12</td>\n",
       "      <td>1531</td>\n",
       "      <td>5.40</td>\n",
       "    </tr>\n",
       "  </tbody>\n",
       "</table>\n",
       "</div>"
      ],
      "text/plain": [
       "       count  mean\n",
       "month             \n",
       "1       1380  5.37\n",
       "2       2458  5.38\n",
       "3       2431  5.41\n",
       "4       2217  5.49\n",
       "5       1188  5.39\n",
       "6       1633  5.17\n",
       "7       1577  5.39\n",
       "8       1635  5.39\n",
       "9       1848  5.57\n",
       "10      2001  5.37\n",
       "11      2205  5.39\n",
       "12      1531  5.40"
      ]
     },
     "execution_count": 84,
     "metadata": {},
     "output_type": "execute_result"
    }
   ],
   "source": [
    "# количество и среднее в соотношении месяц публикации-цена\n",
    "forcorr.groupby('month')['last_price'].agg(['count', 'mean']).round(2)"
   ]
  },
  {
   "cell_type": "code",
   "execution_count": 85,
   "metadata": {},
   "outputs": [
    {
     "data": {
      "text/html": [
       "<div>\n",
       "<style scoped>\n",
       "    .dataframe tbody tr th:only-of-type {\n",
       "        vertical-align: middle;\n",
       "    }\n",
       "\n",
       "    .dataframe tbody tr th {\n",
       "        vertical-align: top;\n",
       "    }\n",
       "\n",
       "    .dataframe thead th {\n",
       "        text-align: right;\n",
       "    }\n",
       "</style>\n",
       "<table border=\"1\" class=\"dataframe\">\n",
       "  <thead>\n",
       "    <tr style=\"text-align: right;\">\n",
       "      <th></th>\n",
       "      <th>count</th>\n",
       "      <th>mean</th>\n",
       "    </tr>\n",
       "    <tr>\n",
       "      <th>year</th>\n",
       "      <th></th>\n",
       "      <th></th>\n",
       "    </tr>\n",
       "  </thead>\n",
       "  <tbody>\n",
       "    <tr>\n",
       "      <td>2014</td>\n",
       "      <td>113</td>\n",
       "      <td>7.95</td>\n",
       "    </tr>\n",
       "    <tr>\n",
       "      <td>2015</td>\n",
       "      <td>1083</td>\n",
       "      <td>6.10</td>\n",
       "    </tr>\n",
       "    <tr>\n",
       "      <td>2016</td>\n",
       "      <td>2596</td>\n",
       "      <td>5.40</td>\n",
       "    </tr>\n",
       "    <tr>\n",
       "      <td>2017</td>\n",
       "      <td>7651</td>\n",
       "      <td>5.28</td>\n",
       "    </tr>\n",
       "    <tr>\n",
       "      <td>2018</td>\n",
       "      <td>7984</td>\n",
       "      <td>5.28</td>\n",
       "    </tr>\n",
       "    <tr>\n",
       "      <td>2019</td>\n",
       "      <td>2677</td>\n",
       "      <td>5.70</td>\n",
       "    </tr>\n",
       "  </tbody>\n",
       "</table>\n",
       "</div>"
      ],
      "text/plain": [
       "      count  mean\n",
       "year             \n",
       "2014    113  7.95\n",
       "2015   1083  6.10\n",
       "2016   2596  5.40\n",
       "2017   7651  5.28\n",
       "2018   7984  5.28\n",
       "2019   2677  5.70"
      ]
     },
     "execution_count": 85,
     "metadata": {},
     "output_type": "execute_result"
    }
   ],
   "source": [
    "# количество и среднее в соотношении год публикации-цена\n",
    "forcorr.groupby('year')['last_price'].agg(['count', 'mean']).round(2)"
   ]
  },
  {
   "cell_type": "code",
   "execution_count": 86,
   "metadata": {},
   "outputs": [
    {
     "name": "stdout",
     "output_type": "stream",
     "text": [
      "            last_price     rooms  total_area\n",
      "last_price    1.000000  0.504598    0.774986\n",
      "rooms         0.504598  1.000000    0.799788\n",
      "total_area    0.774986  0.799788    1.000000\n"
     ]
    }
   ],
   "source": [
    "# коэффициенты корреляции между ценой и площадью/кол-вом комнат обработанной таблицы\n",
    "\n",
    "forcorrmatrix = forcorr.pivot_table(\n",
    "    index='index', \n",
    "    values=['last_price','rooms', 'total_area'], \n",
    "    aggfunc='mean')\n",
    "\n",
    "print(forcorrmatrix.corr())"
   ]
  },
  {
   "cell_type": "code",
   "execution_count": 87,
   "metadata": {},
   "outputs": [
    {
     "name": "stdout",
     "output_type": "stream",
     "text": [
      "               kitchen_ratio  last_price  living_ratio\n",
      "kitchen_ratio       1.000000   -0.118640     -0.739563\n",
      "last_price         -0.118640    1.000000      0.030131\n",
      "living_ratio       -0.739563    0.030131      1.000000\n"
     ]
    }
   ],
   "source": [
    "# коэффициенты корреляции между ценой и соотношением площадей\n",
    "\n",
    "forcorrratio = forcorr.pivot_table(\n",
    "    index='index', \n",
    "    values=['last_price', 'living_ratio','kitchen_ratio'], \n",
    "    aggfunc='mean')\n",
    "\n",
    "print(forcorrratio.corr())"
   ]
  },
  {
   "cell_type": "code",
   "execution_count": 88,
   "metadata": {},
   "outputs": [
    {
     "name": "stdout",
     "output_type": "stream",
     "text": [
      "                  last_price  parks_around3000  ponds_around3000\n",
      "last_price          1.000000          0.274624          0.295751\n",
      "parks_around3000    0.274624          1.000000          0.380433\n",
      "ponds_around3000    0.295751          0.380433          1.000000\n"
     ]
    }
   ],
   "source": [
    "# смотрим на корреляцию цены и удаленности от центра наличия парков и водоемов поблизости \n",
    "\n",
    "forcorrplace = forcorr.pivot_table(\n",
    "    index='index', \n",
    "    values=['last_price','parks_around3000','ponds_around3000'], \n",
    "    aggfunc='mean')\n",
    "\n",
    "print(forcorrplace.corr())"
   ]
  },
  {
   "cell_type": "code",
   "execution_count": 89,
   "metadata": {},
   "outputs": [
    {
     "name": "stdout",
     "output_type": "stream",
     "text": [
      "                  parks_around3000  ponds_around3000  price_per_square\n",
      "parks_around3000          1.000000          0.380433          0.275241\n",
      "ponds_around3000          0.380433          1.000000          0.292592\n",
      "price_per_square          0.275241          0.292592          1.000000\n"
     ]
    }
   ],
   "source": [
    "# смотрим тоже самое только для цен за квадратный метр\n",
    "\n",
    "forcorrplacesquare = forcorr.pivot_table(\n",
    "    index='index', \n",
    "    values=['price_per_square','parks_around3000','ponds_around3000'], \n",
    "    aggfunc='mean')\n",
    "\n",
    "print(forcorrplacesquare.corr())"
   ]
  },
  {
   "cell_type": "code",
   "execution_count": 90,
   "metadata": {
    "scrolled": true
   },
   "outputs": [
    {
     "data": {
      "image/png": "[encoded data removed]",
      "text/plain": [
       "<Figure size 720x720 with 9 Axes>"
      ]
     },
     "metadata": {
      "needs_background": "light"
     },
     "output_type": "display_data"
    }
   ],
   "source": [
    "pd.plotting.scatter_matrix(forcorrmatrix, figsize=(10, 10));"
   ]
  },
  {
   "cell_type": "markdown",
   "metadata": {},
   "source": [
    "Корреляции и матрицы рассеяния показывают, что цены на квартиры в большей степени зависят от общей площади. В свою очередь, достаточно отчетливая связь у между собой у показателей площади и количества комнат. \n",
    "\n",
    "Мы также убедились в том, что после очистки данных корреляции стали прослеживаться отчетливее. Так, коэффициент зависимости цены от площади и количества комнат вырос с 0.65 и 0.36 до 0.77 и 0.50, соответственно. \n",
    "\n",
    "Большая часть квартир находятся не на первом или последнем этаже и существенной разницы между этажом и ценой обнаружить не удалось. Хотя квартиры на первом этаже стоят все же в среднем ниже на 10% последнего этажа (в количестве они приблизительно равны). \n",
    "\n",
    "День недели, месяц и год практически не влияют на стоимость квартир, однако по количеству можно сказать, что чаще всего публикуются объявления в будние дни, а в субботы и воскресенье количество несколько снижается. Самыми активными месяцами для публикации стали февраль, март и ноябрь. Большинство объявлений в базе опубликованы в 17-18 году с захватом 16 и 19, но небольшее количество объявлений были опубликованы в 14 и 15 годах.\n",
    "\n",
    "Сильных различий в уровне корреляции для цен на квартиры и цен за квадратный метр нет, однако минимальные различия все же есть. Зачастую у показателя цены за квадратный метр коэффициент корреляции немного выше, чем у простой цены. Это может быть связано с тем, что цена за квадратный метр не совсем \"чистый\" показатель и уже включает в себя третий фактор — площадь квартиры. \n",
    "\n",
    "Ключевыми показателями, оказывающими влияния на стоимость квартиры являются общая площадь, высота потолков и количество комнат. Все остальные показатели не так существенно коррелируют друг с другом. Хоть и корреляция не выявила сильной взаимосвязи между ценой и удаленностью от центра, посмотрев на данные с разных сторон в следующих пунктах, можно будет увидеть и это влияние. "
   ]
  },
  {
   "cell_type": "markdown",
   "metadata": {},
   "source": [
    "### Выберите 10 населённых пунктов с наибольшим числом объявлений"
   ]
  },
  {
   "cell_type": "code",
   "execution_count": 91,
   "metadata": {},
   "outputs": [
    {
     "data": {
      "text/plain": [
       "Санкт-Петербург      15721\n",
       "посёлок Мурино         522\n",
       "посёлок Шушары         440\n",
       "Всеволожск             398\n",
       "Пушкин                 369\n",
       "Колпино                338\n",
       "посёлок Парголово      327\n",
       "Гатчина                307\n",
       "деревня Кудрово        299\n",
       "Выборг                 237\n",
       "Name: locality_name, dtype: int64"
      ]
     },
     "execution_count": 91,
     "metadata": {},
     "output_type": "execute_result"
    }
   ],
   "source": [
    "data['locality_name'].value_counts().head(10) # топ 10 населенных пунктов по количеству объявлений в исходной базе"
   ]
  },
  {
   "cell_type": "code",
   "execution_count": 92,
   "metadata": {},
   "outputs": [
    {
     "data": {
      "text/plain": [
       "Санкт-Петербург      14587\n",
       "посёлок Мурино         506\n",
       "посёлок Шушары         430\n",
       "Всеволожск             383\n",
       "Пушкин                 351\n",
       "Колпино                328\n",
       "посёлок Парголово      326\n",
       "Гатчина                294\n",
       "деревня Кудрово        294\n",
       "Выборг                 230\n",
       "Name: locality_name, dtype: int64"
      ]
     },
     "execution_count": 92,
     "metadata": {},
     "output_type": "execute_result"
    }
   ],
   "source": [
    "balanced['locality_name'].value_counts().head(10) # топ 10 населенных пунктов по количеству объявлений в обработанной базе"
   ]
  },
  {
   "cell_type": "code",
   "execution_count": 93,
   "metadata": {},
   "outputs": [],
   "source": [
    "# сохраняем первые 10 населенных пунктов по числу объявлений в переменную  \n",
    "s = balanced['locality_name'].value_counts().head(10).reset_index(name='count')\n",
    "\n",
    "# создаем новую таблицу, в которой объединяем большую таблицу с только что созданной по населенным пунктам\n",
    "top10 = balanced.merge(s.rename(columns={'index': 'locality_name'}), on='locality_name')"
   ]
  },
  {
   "cell_type": "code",
   "execution_count": 94,
   "metadata": {},
   "outputs": [
    {
     "data": {
      "text/html": [
       "<div>\n",
       "<style scoped>\n",
       "    .dataframe tbody tr th:only-of-type {\n",
       "        vertical-align: middle;\n",
       "    }\n",
       "\n",
       "    .dataframe tbody tr th {\n",
       "        vertical-align: top;\n",
       "    }\n",
       "\n",
       "    .dataframe thead th {\n",
       "        text-align: right;\n",
       "    }\n",
       "</style>\n",
       "<table border=\"1\" class=\"dataframe\">\n",
       "  <thead>\n",
       "    <tr style=\"text-align: right;\">\n",
       "      <th></th>\n",
       "      <th>locality_name</th>\n",
       "      <th>count</th>\n",
       "      <th>price_per_square</th>\n",
       "    </tr>\n",
       "  </thead>\n",
       "  <tbody>\n",
       "    <tr>\n",
       "      <td>0</td>\n",
       "      <td>Санкт-Петербург</td>\n",
       "      <td>14587</td>\n",
       "      <td>108555.05</td>\n",
       "    </tr>\n",
       "    <tr>\n",
       "      <td>1</td>\n",
       "      <td>Пушкин</td>\n",
       "      <td>351</td>\n",
       "      <td>101926.40</td>\n",
       "    </tr>\n",
       "    <tr>\n",
       "      <td>2</td>\n",
       "      <td>деревня Кудрово</td>\n",
       "      <td>294</td>\n",
       "      <td>92706.44</td>\n",
       "    </tr>\n",
       "    <tr>\n",
       "      <td>3</td>\n",
       "      <td>посёлок Парголово</td>\n",
       "      <td>326</td>\n",
       "      <td>90331.84</td>\n",
       "    </tr>\n",
       "    <tr>\n",
       "      <td>4</td>\n",
       "      <td>посёлок Мурино</td>\n",
       "      <td>506</td>\n",
       "      <td>85747.05</td>\n",
       "    </tr>\n",
       "    <tr>\n",
       "      <td>5</td>\n",
       "      <td>посёлок Шушары</td>\n",
       "      <td>430</td>\n",
       "      <td>78714.43</td>\n",
       "    </tr>\n",
       "    <tr>\n",
       "      <td>6</td>\n",
       "      <td>Колпино</td>\n",
       "      <td>328</td>\n",
       "      <td>75179.22</td>\n",
       "    </tr>\n",
       "    <tr>\n",
       "      <td>7</td>\n",
       "      <td>Гатчина</td>\n",
       "      <td>294</td>\n",
       "      <td>68848.29</td>\n",
       "    </tr>\n",
       "    <tr>\n",
       "      <td>8</td>\n",
       "      <td>Всеволожск</td>\n",
       "      <td>383</td>\n",
       "      <td>67327.41</td>\n",
       "    </tr>\n",
       "    <tr>\n",
       "      <td>9</td>\n",
       "      <td>Выборг</td>\n",
       "      <td>230</td>\n",
       "      <td>58843.05</td>\n",
       "    </tr>\n",
       "  </tbody>\n",
       "</table>\n",
       "</div>"
      ],
      "text/plain": [
       "       locality_name  count  price_per_square\n",
       "0    Санкт-Петербург  14587         108555.05\n",
       "1             Пушкин    351         101926.40\n",
       "2    деревня Кудрово    294          92706.44\n",
       "3  посёлок Парголово    326          90331.84\n",
       "4     посёлок Мурино    506          85747.05\n",
       "5     посёлок Шушары    430          78714.43\n",
       "6            Колпино    328          75179.22\n",
       "7            Гатчина    294          68848.29\n",
       "8         Всеволожск    383          67327.41\n",
       "9             Выборг    230          58843.05"
      ]
     },
     "execution_count": 94,
     "metadata": {},
     "output_type": "execute_result"
    }
   ],
   "source": [
    "# используем groupby по количеству объявлений по городам по столбцу с ценой за кв.м и сортируем по цене за кв.м\n",
    "\n",
    "top10persquare = (\n",
    "    top10.groupby(['locality_name', 'count'])['price_per_square'].mean()\n",
    "        .reset_index()\n",
    "        .sort_values('price_per_square', ascending=False)\n",
    "        .reset_index(drop=True)\n",
    "        .round(2)\n",
    ")\n",
    "top10persquare"
   ]
  },
  {
   "cell_type": "code",
   "execution_count": 95,
   "metadata": {},
   "outputs": [
    {
     "data": {
      "text/html": [
       "<div>\n",
       "<style scoped>\n",
       "    .dataframe tbody tr th:only-of-type {\n",
       "        vertical-align: middle;\n",
       "    }\n",
       "\n",
       "    .dataframe tbody tr th {\n",
       "        vertical-align: top;\n",
       "    }\n",
       "\n",
       "    .dataframe thead th {\n",
       "        text-align: right;\n",
       "    }\n",
       "</style>\n",
       "<table border=\"1\" class=\"dataframe\">\n",
       "  <thead>\n",
       "    <tr style=\"text-align: right;\">\n",
       "      <th></th>\n",
       "      <th>locality_name</th>\n",
       "      <th>count</th>\n",
       "      <th>last_price</th>\n",
       "    </tr>\n",
       "  </thead>\n",
       "  <tbody>\n",
       "    <tr>\n",
       "      <td>0</td>\n",
       "      <td>Санкт-Петербург</td>\n",
       "      <td>14587</td>\n",
       "      <td>6357369.66</td>\n",
       "    </tr>\n",
       "    <tr>\n",
       "      <td>1</td>\n",
       "      <td>Пушкин</td>\n",
       "      <td>351</td>\n",
       "      <td>5811478.53</td>\n",
       "    </tr>\n",
       "    <tr>\n",
       "      <td>2</td>\n",
       "      <td>посёлок Парголово</td>\n",
       "      <td>326</td>\n",
       "      <td>4477608.77</td>\n",
       "    </tr>\n",
       "    <tr>\n",
       "      <td>3</td>\n",
       "      <td>деревня Кудрово</td>\n",
       "      <td>294</td>\n",
       "      <td>4223300.07</td>\n",
       "    </tr>\n",
       "    <tr>\n",
       "      <td>4</td>\n",
       "      <td>посёлок Шушары</td>\n",
       "      <td>430</td>\n",
       "      <td>4078851.16</td>\n",
       "    </tr>\n",
       "    <tr>\n",
       "      <td>5</td>\n",
       "      <td>Колпино</td>\n",
       "      <td>328</td>\n",
       "      <td>3813244.65</td>\n",
       "    </tr>\n",
       "    <tr>\n",
       "      <td>6</td>\n",
       "      <td>Всеволожск</td>\n",
       "      <td>383</td>\n",
       "      <td>3704935.47</td>\n",
       "    </tr>\n",
       "    <tr>\n",
       "      <td>7</td>\n",
       "      <td>посёлок Мурино</td>\n",
       "      <td>506</td>\n",
       "      <td>3651513.20</td>\n",
       "    </tr>\n",
       "    <tr>\n",
       "      <td>8</td>\n",
       "      <td>Гатчина</td>\n",
       "      <td>294</td>\n",
       "      <td>3440712.11</td>\n",
       "    </tr>\n",
       "    <tr>\n",
       "      <td>9</td>\n",
       "      <td>Выборг</td>\n",
       "      <td>230</td>\n",
       "      <td>3304795.65</td>\n",
       "    </tr>\n",
       "  </tbody>\n",
       "</table>\n",
       "</div>"
      ],
      "text/plain": [
       "       locality_name  count  last_price\n",
       "0    Санкт-Петербург  14587  6357369.66\n",
       "1             Пушкин    351  5811478.53\n",
       "2  посёлок Парголово    326  4477608.77\n",
       "3    деревня Кудрово    294  4223300.07\n",
       "4     посёлок Шушары    430  4078851.16\n",
       "5            Колпино    328  3813244.65\n",
       "6         Всеволожск    383  3704935.47\n",
       "7     посёлок Мурино    506  3651513.20\n",
       "8            Гатчина    294  3440712.11\n",
       "9             Выборг    230  3304795.65"
      ]
     },
     "execution_count": 95,
     "metadata": {},
     "output_type": "execute_result"
    }
   ],
   "source": [
    "# используем groupby по количеству объявлений по городам по столбцу с ценой в млн и сортируем по цене объекта\n",
    "top10price = (\n",
    "    top10.groupby(['locality_name', 'count'])['last_price'].mean()\n",
    "        .reset_index()\n",
    "        .sort_values('last_price', ascending=False)\n",
    "        .reset_index(drop=True)\n",
    "        .round(2)\n",
    ")\n",
    "top10price"
   ]
  },
  {
   "cell_type": "code",
   "execution_count": 96,
   "metadata": {
    "scrolled": true
   },
   "outputs": [
    {
     "name": "stdout",
     "output_type": "stream",
     "text": [
      "383 объявлений в Всеволожск \n",
      "230 объявлений в Выборг \n",
      "294 объявлений в Гатчина \n",
      "328 объявлений в Колпино \n",
      "351 объявлений в Пушкин \n",
      "14587 объявлений в Санкт-Петербург \n",
      "294 объявлений в деревня Кудрово \n",
      "506 объявлений в посёлок Мурино \n",
      "326 объявлений в посёлок Парголово \n",
      "430 объявлений в посёлок Шушары \n"
     ]
    },
    {
     "data": {
      "image/png": "[encoded data removed]",
      "text/plain": [
       "<Figure size 504x360 with 1 Axes>"
      ]
     },
     "metadata": {
      "needs_background": "light"
     },
     "output_type": "display_data"
    },
    {
     "data": {
      "image/png": "[encoded data removed]",
      "text/plain": [
       "<Figure size 504x360 with 1 Axes>"
      ]
     },
     "metadata": {
      "needs_background": "light"
     },
     "output_type": "display_data"
    },
    {
     "data": {
      "image/png": "[encoded data removed]",
      "text/plain": [
       "<Figure size 504x360 with 1 Axes>"
      ]
     },
     "metadata": {
      "needs_background": "light"
     },
     "output_type": "display_data"
    },
    {
     "data": {
      "image/png": "[encoded data removed]",
      "text/plain": [
       "<Figure size 504x360 with 1 Axes>"
      ]
     },
     "metadata": {
      "needs_background": "light"
     },
     "output_type": "display_data"
    },
    {
     "data": {
      "image/png": "[encoded data removed]",
      "text/plain": [
       "<Figure size 504x360 with 1 Axes>"
      ]
     },
     "metadata": {
      "needs_background": "light"
     },
     "output_type": "display_data"
    },
    {
     "data": {
      "image/png": "[encoded data removed]",
      "text/plain": [
       "<Figure size 504x360 with 1 Axes>"
      ]
     },
     "metadata": {
      "needs_background": "light"
     },
     "output_type": "display_data"
    },
    {
     "data": {
      "image/png": "[encoded data removed]",
      "text/plain": [
       "<Figure size 504x360 with 1 Axes>"
      ]
     },
     "metadata": {
      "needs_background": "light"
     },
     "output_type": "display_data"
    },
    {
     "data": {
      "image/png": "[encoded data removed]",
      "text/plain": [
       "<Figure size 504x360 with 1 Axes>"
      ]
     },
     "metadata": {
      "needs_background": "light"
     },
     "output_type": "display_data"
    },
    {
     "data": {
      "image/png": "[encoded data removed]",
      "text/plain": [
       "<Figure size 504x360 with 1 Axes>"
      ]
     },
     "metadata": {
      "needs_background": "light"
     },
     "output_type": "display_data"
    },
    {
     "data": {
      "image/png": "[encoded data removed]",
      "text/plain": [
       "<Figure size 504x360 with 1 Axes>"
      ]
     },
     "metadata": {
      "needs_background": "light"
     },
     "output_type": "display_data"
    }
   ],
   "source": [
    "# строим гистограммы по каждому из топ 10 населенных пунктов\n",
    "\n",
    "for locality, top10data in top10.groupby('locality_name'):\n",
    "    print('{} объявлений в {} '.format(len(top10data), locality));\n",
    "    top10data.plot(kind='hist',y='last_price', title=locality, figsize=(7, 5), grid=True); "
   ]
  },
  {
   "cell_type": "markdown",
   "metadata": {},
   "source": [
    "В данном столбце в исходной таблице отсутствуют значения у 49 объявлений, в обработанной у 46, что составляет 0,2% от всей базы, поэтому эти значимого влияния на результаты они не окажут.\n",
    "\n",
    "В топ 10 населенных пунктов с наибольшим числом объявлений помимо самого Петербурга, попали ближайшие к городу поселки и города, в большинстве из которых ведется активная массовая застройка новых кварталов. Среди них: \n",
    "\n",
    "- посёлок Мурино\n",
    "- посёлок Шушары\n",
    "- Всеволожск\n",
    "- Пушкин\n",
    "- Колпино\n",
    "- посёлок Парголово\n",
    "- Гатчина\n",
    "- деревня Кудрово\n",
    "- Выборг\n",
    "\n",
    "Как видно на гистограммах выше, в целом во всех населенных пунктах большинство квартир продается в диапазоне 3-4 млн рублей, а в Петербурге и Пушкине 5-6 млн.\n",
    "\n",
    "Очевидно, что в Петербурге самая дорогая недвижимость среди указанных населенных пунктов, однако ближайшие конкуренты отстают совсем немного. Так, средняя стоимость кв.м. в городе Пушкине немногим меньше Санкт-Петербурга, 102 тысячи за квадратный метр против 109. Из всех населенных пунктов в топ 10, в Пушкине самое дорогое жилье. При этом Пушкин занимает второе место среди этих населенных пунктов и по средней стоимости квартир, значительно опережая по этому показателю Парголово. \n",
    "\n",
    "Абсолютным лидером в плане низкой стоимости жилья как за квадратный метр, так и полностью за квартиру является город Выборг, занимающий 10 строчку в обоих списках. Квадратный метр жилой площади в Выборге стоит почти на 10 тысяч рублей дешевле, чем у следующего по списку населенного пункта. \n",
    "\n",
    "Однако говорить о существенной разнице между ценой за кв.м и общей стоимостью квартир нельзя: в обоих случаях 1 место отличается от 10 примерно в 2 раза, а начиная с третьего (из-за стабильно более высоких значений в Петербурге и Пушкине) разница между 3 и 10 местом в среднем около 1,5 раз. \n"
   ]
  },
  {
   "cell_type": "markdown",
   "metadata": {},
   "source": [
    "### Расстояние до центра"
   ]
  },
  {
   "cell_type": "code",
   "execution_count": 97,
   "metadata": {},
   "outputs": [
    {
     "name": "stdout",
     "output_type": "stream",
     "text": [
      "Количество объявлений в Санкт-Петербурге: 14587\n"
     ]
    }
   ],
   "source": [
    "# сохраняем таблицу только со строками с Санкт-Петербургом\n",
    "spb = forcorr.query('locality_name == \"Санкт-Петербург\"')\n",
    "print('Количество объявлений в Санкт-Петербурге:', len(spb))"
   ]
  },
  {
   "cell_type": "code",
   "execution_count": 98,
   "metadata": {},
   "outputs": [],
   "source": [
    "originaldf = data\n",
    "originaldf['cityCenters_nearest'] = (data['cityCenters_nearest'] / 1000).round() \n",
    "originaldf['last_price'] = (data['last_price'] / 1000000).round(2)\n",
    "\n",
    "# создаем копию оригинальной таблицы (чтобы не портить исходные данные) и обрабатываем нужные столбцы, \n",
    "# чтобы показать разницу между исходной базой и обработанной в следующих пунктах"
   ]
  },
  {
   "cell_type": "code",
   "execution_count": 99,
   "metadata": {},
   "outputs": [],
   "source": [
    "originaldfspb = originaldf.query('locality_name == \"Санкт-Петербург\"') # срез по Петербургу из оригинальной(полной) таблицы"
   ]
  },
  {
   "cell_type": "code",
   "execution_count": 100,
   "metadata": {},
   "outputs": [
    {
     "data": {
      "text/html": [
       "<div>\n",
       "<style scoped>\n",
       "    .dataframe tbody tr th:only-of-type {\n",
       "        vertical-align: middle;\n",
       "    }\n",
       "\n",
       "    .dataframe tbody tr th {\n",
       "        vertical-align: top;\n",
       "    }\n",
       "\n",
       "    .dataframe thead th {\n",
       "        text-align: right;\n",
       "    }\n",
       "</style>\n",
       "<table border=\"1\" class=\"dataframe\">\n",
       "  <thead>\n",
       "    <tr style=\"text-align: right;\">\n",
       "      <th></th>\n",
       "      <th>mean</th>\n",
       "      <th>median</th>\n",
       "      <th>count</th>\n",
       "    </tr>\n",
       "    <tr>\n",
       "      <th>cityCenters_nearest</th>\n",
       "      <th></th>\n",
       "      <th></th>\n",
       "      <th></th>\n",
       "    </tr>\n",
       "  </thead>\n",
       "  <tbody>\n",
       "    <tr>\n",
       "      <td>0.0</td>\n",
       "      <td>10.20</td>\n",
       "      <td>10.29</td>\n",
       "      <td>14</td>\n",
       "    </tr>\n",
       "    <tr>\n",
       "      <td>1.0</td>\n",
       "      <td>10.46</td>\n",
       "      <td>9.88</td>\n",
       "      <td>152</td>\n",
       "    </tr>\n",
       "    <tr>\n",
       "      <td>2.0</td>\n",
       "      <td>9.84</td>\n",
       "      <td>9.10</td>\n",
       "      <td>249</td>\n",
       "    </tr>\n",
       "    <tr>\n",
       "      <td>3.0</td>\n",
       "      <td>9.02</td>\n",
       "      <td>8.04</td>\n",
       "      <td>318</td>\n",
       "    </tr>\n",
       "    <tr>\n",
       "      <td>4.0</td>\n",
       "      <td>9.24</td>\n",
       "      <td>8.50</td>\n",
       "      <td>602</td>\n",
       "    </tr>\n",
       "    <tr>\n",
       "      <td>5.0</td>\n",
       "      <td>9.22</td>\n",
       "      <td>8.40</td>\n",
       "      <td>752</td>\n",
       "    </tr>\n",
       "    <tr>\n",
       "      <td>6.0</td>\n",
       "      <td>8.43</td>\n",
       "      <td>7.73</td>\n",
       "      <td>498</td>\n",
       "    </tr>\n",
       "    <tr>\n",
       "      <td>7.0</td>\n",
       "      <td>7.87</td>\n",
       "      <td>6.70</td>\n",
       "      <td>332</td>\n",
       "    </tr>\n",
       "    <tr>\n",
       "      <td>8.0</td>\n",
       "      <td>7.77</td>\n",
       "      <td>6.85</td>\n",
       "      <td>535</td>\n",
       "    </tr>\n",
       "    <tr>\n",
       "      <td>9.0</td>\n",
       "      <td>6.35</td>\n",
       "      <td>5.20</td>\n",
       "      <td>561</td>\n",
       "    </tr>\n",
       "  </tbody>\n",
       "</table>\n",
       "</div>"
      ],
      "text/plain": [
       "                      mean  median  count\n",
       "cityCenters_nearest                      \n",
       "0.0                  10.20   10.29     14\n",
       "1.0                  10.46    9.88    152\n",
       "2.0                   9.84    9.10    249\n",
       "3.0                   9.02    8.04    318\n",
       "4.0                   9.24    8.50    602\n",
       "5.0                   9.22    8.40    752\n",
       "6.0                   8.43    7.73    498\n",
       "7.0                   7.87    6.70    332\n",
       "8.0                   7.77    6.85    535\n",
       "9.0                   6.35    5.20    561"
      ]
     },
     "execution_count": 100,
     "metadata": {},
     "output_type": "execute_result"
    }
   ],
   "source": [
    "spb.groupby('cityCenters_nearest')['last_price'].agg(\n",
    "    ['mean', 'median', 'count']\n",
    "    ).round(2).head(10)\n",
    "\n",
    "# группируем каждый километр по средней/медианной цене (полностью не вывожу, занимает слишком много места)"
   ]
  },
  {
   "cell_type": "code",
   "execution_count": 101,
   "metadata": {},
   "outputs": [
    {
     "data": {
      "image/png": "[encoded data removed]",
      "text/plain": [
       "<Figure size 936x504 with 1 Axes>"
      ]
     },
     "metadata": {
      "needs_background": "light"
     },
     "output_type": "display_data"
    }
   ],
   "source": [
    "originaldfspb.groupby('cityCenters_nearest')['last_price'].agg(['mean', 'median']).round().plot(\n",
    "    kind='bar', figsize=(13,7), \n",
    "    grid=True, \n",
    "    title='Зависимость цены от расстояния до центра в исходной таблице',\n",
    ");\n",
    "\n",
    "plt.ylabel('Стоимость квартиры в млн');\n",
    "plt.xlabel('Расстояние от центра в км');"
   ]
  },
  {
   "cell_type": "code",
   "execution_count": 102,
   "metadata": {},
   "outputs": [
    {
     "data": {
      "image/png": "[encoded data removed]",
      "text/plain": [
       "<Figure size 936x504 with 1 Axes>"
      ]
     },
     "metadata": {
      "needs_background": "light"
     },
     "output_type": "display_data"
    }
   ],
   "source": [
    "spb.groupby('cityCenters_nearest')['last_price'].agg(['mean', 'median']).round().plot(\n",
    "    kind='bar', figsize=(13,7), \n",
    "    grid=True, \n",
    "    title='Зависимость цены от расстояния до центра',\n",
    ");\n",
    "\n",
    "plt.ylabel('Стоимость квартиры в млн');\n",
    "plt.xlabel('Расстояние от центра в км');"
   ]
  },
  {
   "cell_type": "markdown",
   "metadata": {},
   "source": [
    "В Санкт-Петербурге всего в базе 14587 объявлений (в исходной таблице 15721), больше 65% от всей базы.\n",
    "\n",
    "Рассстояние до центра отсутствует у 5129 объектов в исходной базе, однако по выборке объявлений в Санкт-Петербурге — только у 46 строк, поэтому в данном случае пропуски не окажут значительного влияния на результаты. \n",
    "\n",
    "Все объекты в Санкт-Петербурге распределились в пределах от 0 км от центра (то есть, непосредственно в центре) до 29 км от него.\n",
    "\n",
    "Мы видим два графика: исходную базу и обработанную. Исходная база содержит более резкие переходы и явные скачки, в обработанной базе нет такого количества явно выделяющихся значений, хотя из базы было убрано в общей сумме порядка 1000 с небольшим строк (менее 5% от исходной).  \n",
    "\n",
    "График \"Зависимость цены от расстояния до центра\" выше показывает, что можно выделить две зоны, в которых средняя цена повышается: первая зона находится в 2 км от центра, где средняя стоимость жилья составляет порядка 10 млн рублей (18 млн в исходной таблице), а уже после него начиная с 3 км стоимость снижается до 9 млн (15 млн в исходной таблице) максимум вплоть до второй зоны — 8 км от центра. \n",
    "\n",
    "Хотя в исходных данных график показывает наличие небольшого парадокса: средняя стоимость объектов на удаленности 3 км от центра ниже, чем в 4,5,6 и 7 км. Это выглядит удивительно, однако может быть связано как с количеством объявлений (их почти вдвое меньше, чем объявлений следующего километра и поэтому больше подвержено выбросам и аномальным значениям, т.е. менее надежно), так и, например, с наличием в радиусе 3 км от центра какой-либо \"серой\" зоны, которая влияет на стоимость объектов и на количество объявлений. После обработки это выделяющееся значение выровнилось. \n",
    "\n",
    "После 7 км от центра средняя цена также существенно снижается — с 15 до 10 млн рублей и дальше уже снижается более равномерно. Опять же в обработанной таблице эта грань проходит на 8 км и все равно менее заметна.\n",
    "\n",
    "С медианной ценой ситуация немного отличается, по ней в целом более равномерное распределение, однако общая тенденция повторяется. Если смотреть только на медиану, то объектами в центре можно считать только квартиры в 0 км от центра, потому что все остальные уже значительно дешевле: 18 млн против 11,4 у квартир в 1 км от центра по исходным данным, а в обработанных центр выделить вообще очень сложно \n",
    "\n",
    "Несколько выделяются объявления в 27 км от центра, их стоимость значительно (приблизительно 1,5-2 раза больше соседних километров), однако это связано с тем, что в этом столбце всего 2 объявления и говорить о какой-то значимости нельзя. При этом эти объявления сохранились и в обработанной таблице, поэтому этот пик сохранился на обоих графиках.\n",
    "\n",
    "В целом можно говорить о том, что цены на жилье снижаются в зависимости от удаления от центра. При этом самое большое количество объявлений на зону с 10 по 16 км от центра и это можно связать со спальными районами и большими жилыми массивами в этих зонах. Судя по графику обработанной таблицы, стоимость квартир в среднем составляет 5-6 млн и вырастает ближе к центру до 8-10 миллионов в среднем. "
   ]
  },
  {
   "cell_type": "markdown",
   "metadata": {},
   "source": [
    "### Квартиры в центре"
   ]
  },
  {
   "cell_type": "markdown",
   "metadata": {},
   "source": [
    "<a id=cell8 ></a>"
   ]
  },
  {
   "cell_type": "code",
   "execution_count": 103,
   "metadata": {},
   "outputs": [
    {
     "data": {
      "text/html": [
       "<div>\n",
       "<style scoped>\n",
       "    .dataframe tbody tr th:only-of-type {\n",
       "        vertical-align: middle;\n",
       "    }\n",
       "\n",
       "    .dataframe tbody tr th {\n",
       "        vertical-align: top;\n",
       "    }\n",
       "\n",
       "    .dataframe thead tr th {\n",
       "        text-align: left;\n",
       "    }\n",
       "\n",
       "    .dataframe thead tr:last-of-type th {\n",
       "        text-align: right;\n",
       "    }\n",
       "</style>\n",
       "<table border=\"1\" class=\"dataframe\">\n",
       "  <thead>\n",
       "    <tr>\n",
       "      <th></th>\n",
       "      <th colspan=\"3\" halign=\"left\">ceiling_height</th>\n",
       "      <th colspan=\"2\" halign=\"left\">last_price</th>\n",
       "      <th>rooms</th>\n",
       "      <th colspan=\"2\" halign=\"left\">total_area</th>\n",
       "    </tr>\n",
       "    <tr>\n",
       "      <th></th>\n",
       "      <th>len</th>\n",
       "      <th>mean</th>\n",
       "      <th>median</th>\n",
       "      <th>mean</th>\n",
       "      <th>median</th>\n",
       "      <th>mean</th>\n",
       "      <th>mean</th>\n",
       "      <th>median</th>\n",
       "    </tr>\n",
       "    <tr>\n",
       "      <th>cityCenters_nearest</th>\n",
       "      <th></th>\n",
       "      <th></th>\n",
       "      <th></th>\n",
       "      <th></th>\n",
       "      <th></th>\n",
       "      <th></th>\n",
       "      <th></th>\n",
       "      <th></th>\n",
       "    </tr>\n",
       "  </thead>\n",
       "  <tbody>\n",
       "    <tr>\n",
       "      <td>0.0</td>\n",
       "      <td>14.0</td>\n",
       "      <td>3.54</td>\n",
       "      <td>3.50</td>\n",
       "      <td>10.20</td>\n",
       "      <td>10.29</td>\n",
       "      <td>2.79</td>\n",
       "      <td>93.51</td>\n",
       "      <td>97.45</td>\n",
       "    </tr>\n",
       "    <tr>\n",
       "      <td>1.0</td>\n",
       "      <td>152.0</td>\n",
       "      <td>3.17</td>\n",
       "      <td>3.16</td>\n",
       "      <td>10.46</td>\n",
       "      <td>9.88</td>\n",
       "      <td>2.96</td>\n",
       "      <td>83.84</td>\n",
       "      <td>81.00</td>\n",
       "    </tr>\n",
       "    <tr>\n",
       "      <td>2.0</td>\n",
       "      <td>249.0</td>\n",
       "      <td>3.21</td>\n",
       "      <td>3.20</td>\n",
       "      <td>9.84</td>\n",
       "      <td>9.10</td>\n",
       "      <td>2.88</td>\n",
       "      <td>84.88</td>\n",
       "      <td>78.70</td>\n",
       "    </tr>\n",
       "  </tbody>\n",
       "</table>\n",
       "</div>"
      ],
      "text/plain": [
       "                    ceiling_height              last_price        rooms  \\\n",
       "                               len  mean median       mean median  mean   \n",
       "cityCenters_nearest                                                       \n",
       "0.0                           14.0  3.54   3.50      10.20  10.29  2.79   \n",
       "1.0                          152.0  3.17   3.16      10.46   9.88  2.96   \n",
       "2.0                          249.0  3.21   3.20       9.84   9.10  2.88   \n",
       "\n",
       "                    total_area         \n",
       "                          mean median  \n",
       "cityCenters_nearest                    \n",
       "0.0                      93.51  97.45  \n",
       "1.0                      83.84  81.00  \n",
       "2.0                      84.88  78.70  "
      ]
     },
     "execution_count": 103,
     "metadata": {},
     "output_type": "execute_result"
    }
   ],
   "source": [
    "center = spb.query('cityCenters_nearest < 3')\n",
    "center.pivot_table(\n",
    "    index='cityCenters_nearest', \n",
    "    values=['total_area','last_price', 'rooms', 'ceiling_height'], \n",
    "    aggfunc={'total_area':['mean', 'median'], 'last_price': ['mean', 'median'], \n",
    "             'rooms': 'mean', 'ceiling_height':['mean', 'median', len]}\n",
    "    ).round(2)\n",
    "\n",
    "# строим сводную таблицу и смотрим на средние/медианные показатели в центре "
   ]
  },
  {
   "cell_type": "code",
   "execution_count": 104,
   "metadata": {},
   "outputs": [
    {
     "data": {
      "text/html": [
       "<div>\n",
       "<style scoped>\n",
       "    .dataframe tbody tr th:only-of-type {\n",
       "        vertical-align: middle;\n",
       "    }\n",
       "\n",
       "    .dataframe tbody tr th {\n",
       "        vertical-align: top;\n",
       "    }\n",
       "\n",
       "    .dataframe thead tr th {\n",
       "        text-align: left;\n",
       "    }\n",
       "\n",
       "    .dataframe thead tr:last-of-type th {\n",
       "        text-align: right;\n",
       "    }\n",
       "</style>\n",
       "<table border=\"1\" class=\"dataframe\">\n",
       "  <thead>\n",
       "    <tr>\n",
       "      <th></th>\n",
       "      <th colspan=\"3\" halign=\"left\">ceiling_height</th>\n",
       "      <th colspan=\"2\" halign=\"left\">last_price</th>\n",
       "      <th>rooms</th>\n",
       "      <th colspan=\"2\" halign=\"left\">total_area</th>\n",
       "    </tr>\n",
       "    <tr>\n",
       "      <th></th>\n",
       "      <th>len</th>\n",
       "      <th>mean</th>\n",
       "      <th>median</th>\n",
       "      <th>mean</th>\n",
       "      <th>median</th>\n",
       "      <th>mean</th>\n",
       "      <th>mean</th>\n",
       "      <th>median</th>\n",
       "    </tr>\n",
       "    <tr>\n",
       "      <th>cityCenters_nearest</th>\n",
       "      <th></th>\n",
       "      <th></th>\n",
       "      <th></th>\n",
       "      <th></th>\n",
       "      <th></th>\n",
       "      <th></th>\n",
       "      <th></th>\n",
       "      <th></th>\n",
       "    </tr>\n",
       "  </thead>\n",
       "  <tbody>\n",
       "    <tr>\n",
       "      <td>0.0</td>\n",
       "      <td>27.0</td>\n",
       "      <td>3.44</td>\n",
       "      <td>3.35</td>\n",
       "      <td>31.45</td>\n",
       "      <td>17.9</td>\n",
       "      <td>3.07</td>\n",
       "      <td>117.26</td>\n",
       "      <td>100.0</td>\n",
       "    </tr>\n",
       "    <tr>\n",
       "      <td>1.0</td>\n",
       "      <td>192.0</td>\n",
       "      <td>3.22</td>\n",
       "      <td>3.20</td>\n",
       "      <td>21.21</td>\n",
       "      <td>11.4</td>\n",
       "      <td>3.27</td>\n",
       "      <td>105.00</td>\n",
       "      <td>87.0</td>\n",
       "    </tr>\n",
       "    <tr>\n",
       "      <td>2.0</td>\n",
       "      <td>310.0</td>\n",
       "      <td>3.24</td>\n",
       "      <td>3.20</td>\n",
       "      <td>17.79</td>\n",
       "      <td>10.0</td>\n",
       "      <td>3.15</td>\n",
       "      <td>102.50</td>\n",
       "      <td>87.4</td>\n",
       "    </tr>\n",
       "  </tbody>\n",
       "</table>\n",
       "</div>"
      ],
      "text/plain": [
       "                    ceiling_height              last_price        rooms  \\\n",
       "                               len  mean median       mean median  mean   \n",
       "cityCenters_nearest                                                       \n",
       "0.0                           27.0  3.44   3.35      31.45   17.9  3.07   \n",
       "1.0                          192.0  3.22   3.20      21.21   11.4  3.27   \n",
       "2.0                          310.0  3.24   3.20      17.79   10.0  3.15   \n",
       "\n",
       "                    total_area         \n",
       "                          mean median  \n",
       "cityCenters_nearest                    \n",
       "0.0                     117.26  100.0  \n",
       "1.0                     105.00   87.0  \n",
       "2.0                     102.50   87.4  "
      ]
     },
     "execution_count": 104,
     "metadata": {},
     "output_type": "execute_result"
    }
   ],
   "source": [
    "originalcenter = originaldfspb.query('cityCenters_nearest < 3')\n",
    "originalcenter.pivot_table(\n",
    "    index='cityCenters_nearest', \n",
    "    values=['total_area','last_price', 'rooms', 'ceiling_height', 'total_images'], \n",
    "    aggfunc={'total_area':['mean', 'median'], 'last_price': ['mean', 'median'], \n",
    "             'rooms': 'mean', 'ceiling_height':['mean', 'median', len]}\n",
    "    ).round(2)\n",
    "\n",
    "# строим сводную таблицу и смотрим на средние/медианные показатели в центре в исходной таблице"
   ]
  },
  {
   "cell_type": "code",
   "execution_count": 105,
   "metadata": {},
   "outputs": [
    {
     "name": "stdout",
     "output_type": "stream",
     "text": [
      "415 объявлений в зоне до 2 км от центра\n"
     ]
    }
   ],
   "source": [
    "print(len(center), 'объявлений в зоне до 2 км от центра') # подсчитаем общее количество объявлений в зоне"
   ]
  },
  {
   "cell_type": "code",
   "execution_count": 106,
   "metadata": {},
   "outputs": [
    {
     "name": "stdout",
     "output_type": "stream",
     "text": [
      "0.13\n"
     ]
    }
   ],
   "source": [
    "# коэффициент корреляции между ценой и этажом\n",
    "\n",
    "print(center['last_price'].corr(center['floor']).round(2))"
   ]
  },
  {
   "cell_type": "code",
   "execution_count": 107,
   "metadata": {},
   "outputs": [
    {
     "data": {
      "text/html": [
       "<div>\n",
       "<style scoped>\n",
       "    .dataframe tbody tr th:only-of-type {\n",
       "        vertical-align: middle;\n",
       "    }\n",
       "\n",
       "    .dataframe tbody tr th {\n",
       "        vertical-align: top;\n",
       "    }\n",
       "\n",
       "    .dataframe thead th {\n",
       "        text-align: right;\n",
       "    }\n",
       "</style>\n",
       "<table border=\"1\" class=\"dataframe\">\n",
       "  <thead>\n",
       "    <tr style=\"text-align: right;\">\n",
       "      <th></th>\n",
       "      <th>count</th>\n",
       "      <th>mean</th>\n",
       "    </tr>\n",
       "    <tr>\n",
       "      <th>floor_type</th>\n",
       "      <th></th>\n",
       "      <th></th>\n",
       "    </tr>\n",
       "  </thead>\n",
       "  <tbody>\n",
       "    <tr>\n",
       "      <td>другое</td>\n",
       "      <td>249</td>\n",
       "      <td>10.65</td>\n",
       "    </tr>\n",
       "    <tr>\n",
       "      <td>первый</td>\n",
       "      <td>61</td>\n",
       "      <td>7.99</td>\n",
       "    </tr>\n",
       "    <tr>\n",
       "      <td>последний</td>\n",
       "      <td>105</td>\n",
       "      <td>9.93</td>\n",
       "    </tr>\n",
       "  </tbody>\n",
       "</table>\n",
       "</div>"
      ],
      "text/plain": [
       "            count   mean\n",
       "floor_type              \n",
       "другое        249  10.65\n",
       "первый         61   7.99\n",
       "последний     105   9.93"
      ]
     },
     "execution_count": 107,
     "metadata": {},
     "output_type": "execute_result"
    }
   ],
   "source": [
    "# количество и среднее в соотношении этаж-цена\n",
    "center.groupby('floor_type')['last_price'].agg(['count', 'mean']).round(2)"
   ]
  },
  {
   "cell_type": "code",
   "execution_count": 108,
   "metadata": {},
   "outputs": [
    {
     "name": "stdout",
     "output_type": "stream",
     "text": [
      "            last_price     rooms  total_area\n",
      "last_price    1.000000  0.435394    0.639409\n",
      "rooms         0.435394  1.000000    0.778036\n",
      "total_area    0.639409  0.778036    1.000000\n"
     ]
    }
   ],
   "source": [
    "# коэффициент корреляции между ценой и площадью/кол-вом комнат\n",
    "\n",
    "centercorrmatrix = center.pivot_table(\n",
    "    index='index', \n",
    "    values=['last_price','rooms', 'total_area'], \n",
    "    aggfunc='mean')\n",
    "\n",
    "print(centercorrmatrix.corr())"
   ]
  },
  {
   "cell_type": "code",
   "execution_count": 109,
   "metadata": {},
   "outputs": [
    {
     "name": "stdout",
     "output_type": "stream",
     "text": [
      "0.29 коэффициент корреляции между ценой и высотой потолков\n"
     ]
    }
   ],
   "source": [
    "# коэффициент корреляции между ценой и высотой потолков\n",
    "\n",
    "print(center['last_price'].corr(center['ceiling_height']).round(2),\n",
    "     'коэффициент корреляции между ценой и высотой потолков')"
   ]
  },
  {
   "cell_type": "code",
   "execution_count": 110,
   "metadata": {},
   "outputs": [
    {
     "name": "stdout",
     "output_type": "stream",
     "text": [
      "               kitchen_ratio  last_price  living_ratio\n",
      "kitchen_ratio       1.000000   -0.083081     -0.646795\n",
      "last_price         -0.083081    1.000000      0.065912\n",
      "living_ratio       -0.646795    0.065912      1.000000\n"
     ]
    }
   ],
   "source": [
    "# коэффициент корреляции между ценой и соотношением площадей\n",
    "\n",
    "centercorrratio = center.pivot_table(\n",
    "    index='index', \n",
    "    values=['living_ratio','kitchen_ratio','last_price'], \n",
    "    aggfunc='mean')\n",
    "\n",
    "print(centercorrratio.corr())"
   ]
  },
  {
   "cell_type": "code",
   "execution_count": 111,
   "metadata": {},
   "outputs": [
    {
     "name": "stdout",
     "output_type": "stream",
     "text": [
      "                  last_price  parks_around3000  ponds_around3000\n",
      "last_price          1.000000          0.007488         -0.074435\n",
      "parks_around3000    0.007488          1.000000          0.312819\n",
      "ponds_around3000   -0.074435          0.312819          1.000000\n"
     ]
    }
   ],
   "source": [
    "# смотрим на корреляцию цены и удаленности от центра наличия парков и водоемов поблизости \n",
    "\n",
    "centercorrplace = center.pivot_table(\n",
    "    index='index', \n",
    "    values=['last_price','parks_around3000','ponds_around3000'], \n",
    "    aggfunc='mean')\n",
    "\n",
    "print(centercorrplace.corr())"
   ]
  },
  {
   "cell_type": "code",
   "execution_count": 112,
   "metadata": {},
   "outputs": [
    {
     "name": "stdout",
     "output_type": "stream",
     "text": [
      "                  parks_around3000  ponds_around3000  price_per_square\n",
      "parks_around3000          1.000000          0.312819          0.011193\n",
      "ponds_around3000          0.312819          1.000000         -0.034926\n",
      "price_per_square          0.011193         -0.034926          1.000000\n"
     ]
    }
   ],
   "source": [
    "# смотрим тоже самое только для цен за квадратный метр\n",
    "\n",
    "centercorrplacesquare = center.pivot_table(\n",
    "    index='index', \n",
    "    values=['price_per_square','parks_around3000','ponds_around3000'], \n",
    "    aggfunc='mean')\n",
    "\n",
    "print(centercorrplacesquare.corr())"
   ]
  },
  {
   "cell_type": "markdown",
   "metadata": {},
   "source": [
    "В качестве центральной, возьмем зону в Петербурге не далее 2 км от центра. Всего объявлений в этой зоне 415. В самом центре Петербурга всего 14 объявлений (в исходной таблице было почти вдвое больше 27), поэтому о каких-то тенденциях говорить трудно, однако в этой зоне хоть и в среднем самые высокие потолки, но не самые высокие цены. В зоне 1 км от центра квартиры стоят в среднем дороже и в ней больше объявлений, но это напрямую связано с предварительной очисткой выделяющихся данных: в этой зоне были самые дорогие квартиры и именно эта зона сократилась почти вдвое, а в отличие от других зон этой выборки, где сокращение было менее значимым.\n",
    "\n",
    "Как можно увидеть в [сводных таблицах](#cell8) по исходным и обработанным данные, медианные значения показали себя значительно ровнее и действительно не подтверглись существенным изменениям, чего не сказать про среднее: средняя стоимость квартиры в центре города изначально была 31 млн рублей, а после \"очистки\" — 10 млн и практически сравнялась с соседними зонами. \n",
    "\n",
    "Для квартир в центре коэффициент корреляция между ценой и площадью, а также количеством комнат ниже, чем для общей выборки. При этом связь количества комнат с площадью между собой сохраняется на аналогичном уровне с общей выборкой. Вероятно, частично снижение корреляции можно связать с меньшим размером самой базы и от этого менее репрезентативными выводами. С другой стороны, в целом жилой недвижимости в центре меньше, чем в спальных районах и районах массовой застройки, поэтому структура данных в целом, вряд ли, изменится и в последующие годы.\n",
    "\n",
    "В центральной зоне больше чувствуется разница между первым этажом и остальными. Цены на квартиры на первом этаже в среднем на 20%, против 10% в общих данных. Цены другие этажи и на последний практически равны, как и в общей выборке.\n",
    "\n",
    "В целом можно сказать, что для квартир в центре актуальны все те же взаимосвязи, что и для других квартир."
   ]
  },
  {
   "cell_type": "markdown",
   "metadata": {},
   "source": [
    "## Общий вывод"
   ]
  },
  {
   "cell_type": "markdown",
   "metadata": {},
   "source": [
    "В ходе исследования база данных из 23699 строк была подвергнута небольшой очистке данных, были удалены около 1500 редкие и аномальных значений, что равно доле около 6%, однако даже эти изменения в каких-то ряде аспектов значительно сказались на данных.\n",
    "\n",
    "Так, средние цены, высота потолков, количество комнат и цена после обработки существенно сократились из-за удаления немногочисленных аномалий. \n",
    "При этом высота потолков, например, для квартир в центре имеет меньший коэффициент корреляции, чем для остальных квартир. Разница почти вдвое: 0.29 против 0.51. Меньшее влияние на квартиры в центральной зоне оказывает и общая площадь, хоть и является основным фактором.\n",
    "\n",
    "Также стоит понимать, что на результаты могут влиять не только те параметры, которые собраны и указаны в исходных данных, но и иные данные, которых нет в таблице или внешние факторы в виде, например, финансового кризиса или повышения/понижения ипотечных ставок, ключевой ставки и т.д. Квартира может быть в центре, у нее много фотографий, все данные соответствуют указанным, а цена на уровне рыночной, однако объект может долго не продаваться, например, из-за проблем с документами или плохими соседями, которые отпугивают покупателей. Все эти частности могут оказать существенное влияние на отдельные объявления или небольшие категории и выборки данных, однако более крупные выборки должны быть более устойчивы к таким моментам.\n",
    "\n",
    "Поэтому, в целом, проанализировав исходные данные, можно сделать вывод, что стоимость квартиры зависит от самого очевидного и наиболее важного параметра: общей площади и расположения. Очевидно, что квартира в самом центре Петербурга в среднем будет стоить на 30-40% дороже, чем в спальном районе, а в исключительных случаях разница может достигать и десятикратных значений. Не менее логично, что недвижимость в Петербурге будет сама по себе дороже при одинаковых показателях, чем в населенных пунктах в области, если речь не идет о каком-то загородном элитном жилье.\n",
    "\n",
    "Также ощутимое влияние на стоимость объектов оказывает высота потолков и количество комнат. Все остальные параметры нельзя с уверенностью назвать ключевыми или оказывающими значимое влияние на цену для объектов базы в среднем. "
   ]
  }
 ],
 "metadata": {
  "kernelspec": {
   "display_name": "Python 3",
   "language": "python",
   "name": "python3"
  },
  "language_info": {
   "codemirror_mode": {
    "name": "ipython",
    "version": 3
   },
   "file_extension": ".py",
   "mimetype": "text/x-python",
   "name": "python",
   "nbconvert_exporter": "python",
   "pygments_lexer": "ipython3",
   "version": "3.7.10"
  },
  "toc": {
   "base_numbering": 1,
   "nav_menu": {},
   "number_sections": true,
   "sideBar": true,
   "skip_h1_title": true,
   "title_cell": "Содержание",
   "title_sidebar": "Contents",
   "toc_cell": true,
   "toc_position": {
    "height": "calc(100% - 180px)",
    "left": "10px",
    "top": "150px",
    "width": "320.797px"
   },
   "toc_section_display": true,
   "toc_window_display": false
  }
 },
 "nbformat": 4,
 "nbformat_minor": 2
}
