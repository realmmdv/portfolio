{
 "cells": [
  {
   "cell_type": "markdown",
   "metadata": {},
   "source": [
    "# Содержание\n",
    "\n",
    "1.[Вступление](#cell1)\n",
    "\n",
    "2.[Подготовка данных](#cell2)\n",
    "- 2.1 [Замена типов](#cell21)\n",
    "- 2.2 [Обработка ошибок](#cell22)\n",
    "\n",
    "3.[Анализ данных](#cell3)\n",
    "\n",
    "4.[Проверка гипотез](#cell4) \n",
    "\n",
    "5.[Выводы](#cell5)"
   ]
  },
  {
   "cell_type": "markdown",
   "metadata": {},
   "source": [
    "## Описание проекта"
   ]
  },
  {
   "cell_type": "markdown",
   "metadata": {},
   "source": [
    "Имея данные 500 пользователей сотового оператора об использовании различных услуг и сервисов в 2018 году, необходимо провести анализ двух актуальных тарифов и определить какой тариф более выгоден. Это необходимо для коррекции рекламного бюджета. \n",
    "\n",
    "Оператор предлагает два тарифа: Smart за 550 рублей в месяц и тариф Ultra за 1950 рублей. Тарифы отличаются по количеству минут, сообщений и интернет-трафику, включенному в пакет, а также по стоимости дополнительных услуг. В более дорогом тарифе больше минут, сообщений и трафика и ниже цены на услуги связи вне пакетов.\n",
    "\n",
    "Необходимо также проверить следующие гипотезы:\n",
    "- средняя выручка пользователей тарифов различается\n",
    "- средняя выручка пользователей из Москвы отличается от выручки пользователей из других регионов"
   ]
  },
  {
   "cell_type": "markdown",
   "metadata": {},
   "source": [
    "## 1. Вступление\n",
    "<a id='cell1'></a> "
   ]
  },
  {
   "cell_type": "code",
   "execution_count": 4,
   "metadata": {},
   "outputs": [],
   "source": [
    "from scipy import stats as st\n",
    "import numpy as np\n",
    "import pandas as pd\n",
    "import matplotlib.pyplot as plt\n",
    "import seaborn as sns\n",
    "\n",
    "calls = pd.read_csv('calls.csv')\n",
    "internet = pd.read_csv('internet.csv', index_col=0) # чтобы удалить безымянный столбец с повторными индексами\n",
    "messages = pd.read_csv('messages.csv')\n",
    "tariffs = pd.read_csv('tariffs.csv')\n",
    "users = pd.read_csv('users.csv')"
   ]
  },
  {
   "cell_type": "code",
   "execution_count": 5,
   "metadata": {},
   "outputs": [
    {
     "data": {
      "text/plain": [
       "(202607, 4)"
      ]
     },
     "execution_count": 5,
     "metadata": {},
     "output_type": "execute_result"
    }
   ],
   "source": [
    "calls.shape"
   ]
  },
  {
   "cell_type": "code",
   "execution_count": 6,
   "metadata": {},
   "outputs": [
    {
     "name": "stdout",
     "output_type": "stream",
     "text": [
      "<class 'pandas.core.frame.DataFrame'>\n",
      "RangeIndex: 202607 entries, 0 to 202606\n",
      "Data columns (total 4 columns):\n",
      "id           202607 non-null object\n",
      "call_date    202607 non-null object\n",
      "duration     202607 non-null float64\n",
      "user_id      202607 non-null int64\n",
      "dtypes: float64(1), int64(1), object(2)\n",
      "memory usage: 6.2+ MB\n"
     ]
    },
    {
     "data": {
      "text/plain": [
       "None"
      ]
     },
     "metadata": {},
     "output_type": "display_data"
    },
    {
     "name": "stdout",
     "output_type": "stream",
     "text": [
      "<class 'pandas.core.frame.DataFrame'>\n",
      "Int64Index: 149396 entries, 0 to 149395\n",
      "Data columns (total 4 columns):\n",
      "id              149396 non-null object\n",
      "mb_used         149396 non-null float64\n",
      "session_date    149396 non-null object\n",
      "user_id         149396 non-null int64\n",
      "dtypes: float64(1), int64(1), object(2)\n",
      "memory usage: 5.7+ MB\n"
     ]
    },
    {
     "data": {
      "text/plain": [
       "None"
      ]
     },
     "metadata": {},
     "output_type": "display_data"
    },
    {
     "name": "stdout",
     "output_type": "stream",
     "text": [
      "<class 'pandas.core.frame.DataFrame'>\n",
      "RangeIndex: 123036 entries, 0 to 123035\n",
      "Data columns (total 3 columns):\n",
      "id              123036 non-null object\n",
      "message_date    123036 non-null object\n",
      "user_id         123036 non-null int64\n",
      "dtypes: int64(1), object(2)\n",
      "memory usage: 2.8+ MB\n"
     ]
    },
    {
     "data": {
      "text/plain": [
       "None"
      ]
     },
     "metadata": {},
     "output_type": "display_data"
    },
    {
     "name": "stdout",
     "output_type": "stream",
     "text": [
      "<class 'pandas.core.frame.DataFrame'>\n",
      "RangeIndex: 2 entries, 0 to 1\n",
      "Data columns (total 8 columns):\n",
      "messages_included        2 non-null int64\n",
      "mb_per_month_included    2 non-null int64\n",
      "minutes_included         2 non-null int64\n",
      "rub_monthly_fee          2 non-null int64\n",
      "rub_per_gb               2 non-null int64\n",
      "rub_per_message          2 non-null int64\n",
      "rub_per_minute           2 non-null int64\n",
      "tariff_name              2 non-null object\n",
      "dtypes: int64(7), object(1)\n",
      "memory usage: 256.0+ bytes\n"
     ]
    },
    {
     "data": {
      "text/plain": [
       "None"
      ]
     },
     "metadata": {},
     "output_type": "display_data"
    },
    {
     "name": "stdout",
     "output_type": "stream",
     "text": [
      "<class 'pandas.core.frame.DataFrame'>\n",
      "RangeIndex: 500 entries, 0 to 499\n",
      "Data columns (total 8 columns):\n",
      "user_id       500 non-null int64\n",
      "age           500 non-null int64\n",
      "churn_date    38 non-null object\n",
      "city          500 non-null object\n",
      "first_name    500 non-null object\n",
      "last_name     500 non-null object\n",
      "reg_date      500 non-null object\n",
      "tariff        500 non-null object\n",
      "dtypes: int64(2), object(6)\n",
      "memory usage: 31.4+ KB\n"
     ]
    }
   ],
   "source": [
    "display(calls.info())\n",
    "display(internet.info())\n",
    "display(messages.info())\n",
    "display(tariffs.info())\n",
    "users.info()"
   ]
  },
  {
   "cell_type": "code",
   "execution_count": 7,
   "metadata": {},
   "outputs": [
    {
     "data": {
      "text/html": [
       "<div>\n",
       "<style scoped>\n",
       "    .dataframe tbody tr th:only-of-type {\n",
       "        vertical-align: middle;\n",
       "    }\n",
       "\n",
       "    .dataframe tbody tr th {\n",
       "        vertical-align: top;\n",
       "    }\n",
       "\n",
       "    .dataframe thead th {\n",
       "        text-align: right;\n",
       "    }\n",
       "</style>\n",
       "<table border=\"1\" class=\"dataframe\">\n",
       "  <thead>\n",
       "    <tr style=\"text-align: right;\">\n",
       "      <th></th>\n",
       "      <th>duration</th>\n",
       "      <th>user_id</th>\n",
       "    </tr>\n",
       "  </thead>\n",
       "  <tbody>\n",
       "    <tr>\n",
       "      <td>count</td>\n",
       "      <td>202607.000000</td>\n",
       "      <td>202607.000000</td>\n",
       "    </tr>\n",
       "    <tr>\n",
       "      <td>mean</td>\n",
       "      <td>6.755887</td>\n",
       "      <td>1253.940619</td>\n",
       "    </tr>\n",
       "    <tr>\n",
       "      <td>std</td>\n",
       "      <td>5.843365</td>\n",
       "      <td>144.722751</td>\n",
       "    </tr>\n",
       "    <tr>\n",
       "      <td>min</td>\n",
       "      <td>0.000000</td>\n",
       "      <td>1000.000000</td>\n",
       "    </tr>\n",
       "    <tr>\n",
       "      <td>25%</td>\n",
       "      <td>1.300000</td>\n",
       "      <td>1126.000000</td>\n",
       "    </tr>\n",
       "    <tr>\n",
       "      <td>50%</td>\n",
       "      <td>6.000000</td>\n",
       "      <td>1260.000000</td>\n",
       "    </tr>\n",
       "    <tr>\n",
       "      <td>75%</td>\n",
       "      <td>10.700000</td>\n",
       "      <td>1379.000000</td>\n",
       "    </tr>\n",
       "    <tr>\n",
       "      <td>max</td>\n",
       "      <td>38.000000</td>\n",
       "      <td>1499.000000</td>\n",
       "    </tr>\n",
       "  </tbody>\n",
       "</table>\n",
       "</div>"
      ],
      "text/plain": [
       "            duration        user_id\n",
       "count  202607.000000  202607.000000\n",
       "mean        6.755887    1253.940619\n",
       "std         5.843365     144.722751\n",
       "min         0.000000    1000.000000\n",
       "25%         1.300000    1126.000000\n",
       "50%         6.000000    1260.000000\n",
       "75%        10.700000    1379.000000\n",
       "max        38.000000    1499.000000"
      ]
     },
     "metadata": {},
     "output_type": "display_data"
    },
    {
     "data": {
      "text/html": [
       "<div>\n",
       "<style scoped>\n",
       "    .dataframe tbody tr th:only-of-type {\n",
       "        vertical-align: middle;\n",
       "    }\n",
       "\n",
       "    .dataframe tbody tr th {\n",
       "        vertical-align: top;\n",
       "    }\n",
       "\n",
       "    .dataframe thead th {\n",
       "        text-align: right;\n",
       "    }\n",
       "</style>\n",
       "<table border=\"1\" class=\"dataframe\">\n",
       "  <thead>\n",
       "    <tr style=\"text-align: right;\">\n",
       "      <th></th>\n",
       "      <th>mb_used</th>\n",
       "      <th>user_id</th>\n",
       "    </tr>\n",
       "  </thead>\n",
       "  <tbody>\n",
       "    <tr>\n",
       "      <td>count</td>\n",
       "      <td>149396.000000</td>\n",
       "      <td>149396.000000</td>\n",
       "    </tr>\n",
       "    <tr>\n",
       "      <td>mean</td>\n",
       "      <td>370.192426</td>\n",
       "      <td>1252.099842</td>\n",
       "    </tr>\n",
       "    <tr>\n",
       "      <td>std</td>\n",
       "      <td>278.300951</td>\n",
       "      <td>144.050823</td>\n",
       "    </tr>\n",
       "    <tr>\n",
       "      <td>min</td>\n",
       "      <td>0.000000</td>\n",
       "      <td>1000.000000</td>\n",
       "    </tr>\n",
       "    <tr>\n",
       "      <td>25%</td>\n",
       "      <td>138.187500</td>\n",
       "      <td>1130.000000</td>\n",
       "    </tr>\n",
       "    <tr>\n",
       "      <td>50%</td>\n",
       "      <td>348.015000</td>\n",
       "      <td>1251.000000</td>\n",
       "    </tr>\n",
       "    <tr>\n",
       "      <td>75%</td>\n",
       "      <td>559.552500</td>\n",
       "      <td>1380.000000</td>\n",
       "    </tr>\n",
       "    <tr>\n",
       "      <td>max</td>\n",
       "      <td>1724.830000</td>\n",
       "      <td>1499.000000</td>\n",
       "    </tr>\n",
       "  </tbody>\n",
       "</table>\n",
       "</div>"
      ],
      "text/plain": [
       "             mb_used        user_id\n",
       "count  149396.000000  149396.000000\n",
       "mean      370.192426    1252.099842\n",
       "std       278.300951     144.050823\n",
       "min         0.000000    1000.000000\n",
       "25%       138.187500    1130.000000\n",
       "50%       348.015000    1251.000000\n",
       "75%       559.552500    1380.000000\n",
       "max      1724.830000    1499.000000"
      ]
     },
     "metadata": {},
     "output_type": "display_data"
    },
    {
     "data": {
      "text/html": [
       "<div>\n",
       "<style scoped>\n",
       "    .dataframe tbody tr th:only-of-type {\n",
       "        vertical-align: middle;\n",
       "    }\n",
       "\n",
       "    .dataframe tbody tr th {\n",
       "        vertical-align: top;\n",
       "    }\n",
       "\n",
       "    .dataframe thead th {\n",
       "        text-align: right;\n",
       "    }\n",
       "</style>\n",
       "<table border=\"1\" class=\"dataframe\">\n",
       "  <thead>\n",
       "    <tr style=\"text-align: right;\">\n",
       "      <th></th>\n",
       "      <th>user_id</th>\n",
       "    </tr>\n",
       "  </thead>\n",
       "  <tbody>\n",
       "    <tr>\n",
       "      <td>count</td>\n",
       "      <td>123036.000000</td>\n",
       "    </tr>\n",
       "    <tr>\n",
       "      <td>mean</td>\n",
       "      <td>1256.989410</td>\n",
       "    </tr>\n",
       "    <tr>\n",
       "      <td>std</td>\n",
       "      <td>143.523967</td>\n",
       "    </tr>\n",
       "    <tr>\n",
       "      <td>min</td>\n",
       "      <td>1000.000000</td>\n",
       "    </tr>\n",
       "    <tr>\n",
       "      <td>25%</td>\n",
       "      <td>1134.000000</td>\n",
       "    </tr>\n",
       "    <tr>\n",
       "      <td>50%</td>\n",
       "      <td>1271.000000</td>\n",
       "    </tr>\n",
       "    <tr>\n",
       "      <td>75%</td>\n",
       "      <td>1381.000000</td>\n",
       "    </tr>\n",
       "    <tr>\n",
       "      <td>max</td>\n",
       "      <td>1499.000000</td>\n",
       "    </tr>\n",
       "  </tbody>\n",
       "</table>\n",
       "</div>"
      ],
      "text/plain": [
       "             user_id\n",
       "count  123036.000000\n",
       "mean     1256.989410\n",
       "std       143.523967\n",
       "min      1000.000000\n",
       "25%      1134.000000\n",
       "50%      1271.000000\n",
       "75%      1381.000000\n",
       "max      1499.000000"
      ]
     },
     "metadata": {},
     "output_type": "display_data"
    },
    {
     "data": {
      "text/html": [
       "<div>\n",
       "<style scoped>\n",
       "    .dataframe tbody tr th:only-of-type {\n",
       "        vertical-align: middle;\n",
       "    }\n",
       "\n",
       "    .dataframe tbody tr th {\n",
       "        vertical-align: top;\n",
       "    }\n",
       "\n",
       "    .dataframe thead th {\n",
       "        text-align: right;\n",
       "    }\n",
       "</style>\n",
       "<table border=\"1\" class=\"dataframe\">\n",
       "  <thead>\n",
       "    <tr style=\"text-align: right;\">\n",
       "      <th></th>\n",
       "      <th>messages_included</th>\n",
       "      <th>mb_per_month_included</th>\n",
       "      <th>minutes_included</th>\n",
       "      <th>rub_monthly_fee</th>\n",
       "      <th>rub_per_gb</th>\n",
       "      <th>rub_per_message</th>\n",
       "      <th>rub_per_minute</th>\n",
       "    </tr>\n",
       "  </thead>\n",
       "  <tbody>\n",
       "    <tr>\n",
       "      <td>count</td>\n",
       "      <td>2.000000</td>\n",
       "      <td>2.000000</td>\n",
       "      <td>2.000000</td>\n",
       "      <td>2.000000</td>\n",
       "      <td>2.000000</td>\n",
       "      <td>2.000000</td>\n",
       "      <td>2.000000</td>\n",
       "    </tr>\n",
       "    <tr>\n",
       "      <td>mean</td>\n",
       "      <td>525.000000</td>\n",
       "      <td>23040.000000</td>\n",
       "      <td>1750.000000</td>\n",
       "      <td>1250.000000</td>\n",
       "      <td>175.000000</td>\n",
       "      <td>2.000000</td>\n",
       "      <td>2.000000</td>\n",
       "    </tr>\n",
       "    <tr>\n",
       "      <td>std</td>\n",
       "      <td>671.751442</td>\n",
       "      <td>10861.160159</td>\n",
       "      <td>1767.766953</td>\n",
       "      <td>989.949494</td>\n",
       "      <td>35.355339</td>\n",
       "      <td>1.414214</td>\n",
       "      <td>1.414214</td>\n",
       "    </tr>\n",
       "    <tr>\n",
       "      <td>min</td>\n",
       "      <td>50.000000</td>\n",
       "      <td>15360.000000</td>\n",
       "      <td>500.000000</td>\n",
       "      <td>550.000000</td>\n",
       "      <td>150.000000</td>\n",
       "      <td>1.000000</td>\n",
       "      <td>1.000000</td>\n",
       "    </tr>\n",
       "    <tr>\n",
       "      <td>25%</td>\n",
       "      <td>287.500000</td>\n",
       "      <td>19200.000000</td>\n",
       "      <td>1125.000000</td>\n",
       "      <td>900.000000</td>\n",
       "      <td>162.500000</td>\n",
       "      <td>1.500000</td>\n",
       "      <td>1.500000</td>\n",
       "    </tr>\n",
       "    <tr>\n",
       "      <td>50%</td>\n",
       "      <td>525.000000</td>\n",
       "      <td>23040.000000</td>\n",
       "      <td>1750.000000</td>\n",
       "      <td>1250.000000</td>\n",
       "      <td>175.000000</td>\n",
       "      <td>2.000000</td>\n",
       "      <td>2.000000</td>\n",
       "    </tr>\n",
       "    <tr>\n",
       "      <td>75%</td>\n",
       "      <td>762.500000</td>\n",
       "      <td>26880.000000</td>\n",
       "      <td>2375.000000</td>\n",
       "      <td>1600.000000</td>\n",
       "      <td>187.500000</td>\n",
       "      <td>2.500000</td>\n",
       "      <td>2.500000</td>\n",
       "    </tr>\n",
       "    <tr>\n",
       "      <td>max</td>\n",
       "      <td>1000.000000</td>\n",
       "      <td>30720.000000</td>\n",
       "      <td>3000.000000</td>\n",
       "      <td>1950.000000</td>\n",
       "      <td>200.000000</td>\n",
       "      <td>3.000000</td>\n",
       "      <td>3.000000</td>\n",
       "    </tr>\n",
       "  </tbody>\n",
       "</table>\n",
       "</div>"
      ],
      "text/plain": [
       "       messages_included  mb_per_month_included  minutes_included  \\\n",
       "count           2.000000               2.000000          2.000000   \n",
       "mean          525.000000           23040.000000       1750.000000   \n",
       "std           671.751442           10861.160159       1767.766953   \n",
       "min            50.000000           15360.000000        500.000000   \n",
       "25%           287.500000           19200.000000       1125.000000   \n",
       "50%           525.000000           23040.000000       1750.000000   \n",
       "75%           762.500000           26880.000000       2375.000000   \n",
       "max          1000.000000           30720.000000       3000.000000   \n",
       "\n",
       "       rub_monthly_fee  rub_per_gb  rub_per_message  rub_per_minute  \n",
       "count         2.000000    2.000000         2.000000        2.000000  \n",
       "mean       1250.000000  175.000000         2.000000        2.000000  \n",
       "std         989.949494   35.355339         1.414214        1.414214  \n",
       "min         550.000000  150.000000         1.000000        1.000000  \n",
       "25%         900.000000  162.500000         1.500000        1.500000  \n",
       "50%        1250.000000  175.000000         2.000000        2.000000  \n",
       "75%        1600.000000  187.500000         2.500000        2.500000  \n",
       "max        1950.000000  200.000000         3.000000        3.000000  "
      ]
     },
     "metadata": {},
     "output_type": "display_data"
    },
    {
     "data": {
      "text/html": [
       "<div>\n",
       "<style scoped>\n",
       "    .dataframe tbody tr th:only-of-type {\n",
       "        vertical-align: middle;\n",
       "    }\n",
       "\n",
       "    .dataframe tbody tr th {\n",
       "        vertical-align: top;\n",
       "    }\n",
       "\n",
       "    .dataframe thead th {\n",
       "        text-align: right;\n",
       "    }\n",
       "</style>\n",
       "<table border=\"1\" class=\"dataframe\">\n",
       "  <thead>\n",
       "    <tr style=\"text-align: right;\">\n",
       "      <th></th>\n",
       "      <th>user_id</th>\n",
       "      <th>age</th>\n",
       "    </tr>\n",
       "  </thead>\n",
       "  <tbody>\n",
       "    <tr>\n",
       "      <td>count</td>\n",
       "      <td>500.000000</td>\n",
       "      <td>500.00000</td>\n",
       "    </tr>\n",
       "    <tr>\n",
       "      <td>mean</td>\n",
       "      <td>1249.500000</td>\n",
       "      <td>46.58800</td>\n",
       "    </tr>\n",
       "    <tr>\n",
       "      <td>std</td>\n",
       "      <td>144.481833</td>\n",
       "      <td>16.66763</td>\n",
       "    </tr>\n",
       "    <tr>\n",
       "      <td>min</td>\n",
       "      <td>1000.000000</td>\n",
       "      <td>18.00000</td>\n",
       "    </tr>\n",
       "    <tr>\n",
       "      <td>25%</td>\n",
       "      <td>1124.750000</td>\n",
       "      <td>32.00000</td>\n",
       "    </tr>\n",
       "    <tr>\n",
       "      <td>50%</td>\n",
       "      <td>1249.500000</td>\n",
       "      <td>46.00000</td>\n",
       "    </tr>\n",
       "    <tr>\n",
       "      <td>75%</td>\n",
       "      <td>1374.250000</td>\n",
       "      <td>62.00000</td>\n",
       "    </tr>\n",
       "    <tr>\n",
       "      <td>max</td>\n",
       "      <td>1499.000000</td>\n",
       "      <td>75.00000</td>\n",
       "    </tr>\n",
       "  </tbody>\n",
       "</table>\n",
       "</div>"
      ],
      "text/plain": [
       "           user_id        age\n",
       "count   500.000000  500.00000\n",
       "mean   1249.500000   46.58800\n",
       "std     144.481833   16.66763\n",
       "min    1000.000000   18.00000\n",
       "25%    1124.750000   32.00000\n",
       "50%    1249.500000   46.00000\n",
       "75%    1374.250000   62.00000\n",
       "max    1499.000000   75.00000"
      ]
     },
     "execution_count": 7,
     "metadata": {},
     "output_type": "execute_result"
    }
   ],
   "source": [
    "display(calls.describe())\n",
    "display(internet.describe())\n",
    "display(messages.describe())\n",
    "display(tariffs.describe())\n",
    "users.describe()"
   ]
  },
  {
   "cell_type": "markdown",
   "metadata": {},
   "source": [
    "Всего мы имеем 5 датасетов. В целом во всех наборах по отдельности отсутствуют пропущенные значения, однако, естественно, при объединении данных у ряда пользователей будут такие значения появятся: количество звонков, сообщений и выходов в интернет у всех разное.\n",
    "\n",
    "Все столбцы с датами в формате object, их необходимо будет перевести в соответствующий формат. В наборе *internet* есть безымянный столбец с индексом, дублирующий index датафрейма, поэтому его можно удалить.\n",
    "\n",
    "В наборе *users* есть столбец *churn_date*, в котором формально есть пропуски, однако они объясняются действующей на момент выгрузки данных подпиской, поэтому это не совсем пропуски."
   ]
  },
  {
   "cell_type": "markdown",
   "metadata": {},
   "source": [
    "## Подготовка данных\n",
    "<a id='cell2'></a> "
   ]
  },
  {
   "cell_type": "markdown",
   "metadata": {},
   "source": [
    "### 2.1 Замена типов\n",
    "<a id='cell21'></a> "
   ]
  },
  {
   "cell_type": "code",
   "execution_count": 8,
   "metadata": {},
   "outputs": [],
   "source": [
    "# переводим столбцы с датами во всех таблицах в формат datetime\n",
    "calls['call_date'] = pd.to_datetime(calls.call_date)\n",
    "internet['session_date'] = pd.to_datetime(internet.session_date)\n",
    "messages['message_date'] = pd.to_datetime(messages.message_date)\n",
    "users['churn_date'] = pd.to_datetime(users.churn_date)\n",
    "users['reg_date'] = pd.to_datetime(users.reg_date)"
   ]
  },
  {
   "cell_type": "code",
   "execution_count": 9,
   "metadata": {},
   "outputs": [],
   "source": [
    "# создаем столбцы с месяцем\n",
    "calls['month'] = calls['call_date'].dt.month\n",
    "internet['month'] = internet['session_date'].dt.month\n",
    "messages['month'] = messages['message_date'].dt.month"
   ]
  },
  {
   "cell_type": "code",
   "execution_count": 10,
   "metadata": {},
   "outputs": [],
   "source": [
    "# округляем данные по звонкам и переводим в целочисленный формат \n",
    "calls['duration'] = calls['duration'].apply(np.ceil).astype(int)"
   ]
  },
  {
   "cell_type": "code",
   "execution_count": 11,
   "metadata": {},
   "outputs": [],
   "source": [
    "# округляем данные по интернет-трафику и переводим в целочисленный формат \n",
    "internet['mb_used'] = internet['mb_used'].apply(np.ceil).astype(int)"
   ]
  },
  {
   "cell_type": "code",
   "execution_count": 12,
   "metadata": {},
   "outputs": [
    {
     "name": "stdout",
     "output_type": "stream",
     "text": [
      "<class 'pandas.core.frame.DataFrame'>\n",
      "RangeIndex: 202607 entries, 0 to 202606\n",
      "Data columns (total 5 columns):\n",
      "id           202607 non-null object\n",
      "call_date    202607 non-null datetime64[ns]\n",
      "duration     202607 non-null int32\n",
      "user_id      202607 non-null int64\n",
      "month        202607 non-null int64\n",
      "dtypes: datetime64[ns](1), int32(1), int64(2), object(1)\n",
      "memory usage: 7.0+ MB\n"
     ]
    }
   ],
   "source": [
    "calls.info() # просто проверяем все ли ок с типами"
   ]
  },
  {
   "cell_type": "markdown",
   "metadata": {},
   "source": [
    "### 2.2. Обработка ошибок\n",
    "<a id='cell22'></a> "
   ]
  },
  {
   "cell_type": "code",
   "execution_count": 13,
   "metadata": {},
   "outputs": [
    {
     "name": "stdout",
     "output_type": "stream",
     "text": [
      "Количество строк с 0 минут в таблице: 39613\n",
      "19.55 % от общей базы\n"
     ]
    }
   ],
   "source": [
    "# смотрим сколько всего строк с нулевой длительностью звонков\n",
    "print('Количество строк с 0 минут в таблице:', calls.query('duration == 0')['id'].count())\n",
    "print((calls.query('duration == 0')['id'].count() / len(calls) * 100).round(2), '% от общей базы')"
   ]
  },
  {
   "cell_type": "code",
   "execution_count": 14,
   "metadata": {},
   "outputs": [
    {
     "name": "stdout",
     "output_type": "stream",
     "text": [
      "Среднее время звонка: 7.16 мин\n",
      "Среднее время звонка без звонков 0 мин: 8.9 мин\n"
     ]
    }
   ],
   "source": [
    "# cравниваем среднее время звонка без них нулевых звонков и с ними\n",
    "print('Среднее время звонка:', round(calls['duration'].mean(), 2), 'мин')\n",
    "print('Среднее время звонка без звонков 0 мин:', round(calls.query('duration != 0')['duration'].mean(), 2), 'мин')"
   ]
  },
  {
   "cell_type": "markdown",
   "metadata": {},
   "source": [
    "Всего звонков с длительностью 0 минут в таблице около 40 тысяч, что составляет около 20% всех данных по звонкам. \n",
    "\n",
    "Так как речь идет об исходящих звонках, то есть вероятность, что это звонки меньше 60 секунд, округленные в меньшую сторону, однако имея базовое представление о работе операторов связи в это верится с трудом. Это также могут быть неотвеченные звонки, то есть, те звонки, где абонент не дозвонился по номеру или просто плохие данные.\n",
    "\n",
    "Также в таблице *internet* был обнаружен дублирующий безымянный столбец с индексами, который был удален в самом первом блоке при чтении, чтобы не мешать в дальнейшем.\n",
    "\n",
    "Других ошибок в данных найти не удалось, все выглядит адекватно на первый взгляд."
   ]
  },
  {
   "cell_type": "markdown",
   "metadata": {},
   "source": [
    "### 2.3. Новые столбцы\n",
    "<a id='cell23'></a>"
   ]
  },
  {
   "cell_type": "markdown",
   "metadata": {},
   "source": [
    "#### Звонки"
   ]
  },
  {
   "cell_type": "code",
   "execution_count": 15,
   "metadata": {},
   "outputs": [
    {
     "data": {
      "text/html": [
       "<div>\n",
       "<style scoped>\n",
       "    .dataframe tbody tr th:only-of-type {\n",
       "        vertical-align: middle;\n",
       "    }\n",
       "\n",
       "    .dataframe tbody tr th {\n",
       "        vertical-align: top;\n",
       "    }\n",
       "\n",
       "    .dataframe thead th {\n",
       "        text-align: right;\n",
       "    }\n",
       "</style>\n",
       "<table border=\"1\" class=\"dataframe\">\n",
       "  <thead>\n",
       "    <tr style=\"text-align: right;\">\n",
       "      <th></th>\n",
       "      <th></th>\n",
       "      <th>count</th>\n",
       "      <th>sum</th>\n",
       "    </tr>\n",
       "    <tr>\n",
       "      <th>user_id</th>\n",
       "      <th>month</th>\n",
       "      <th></th>\n",
       "      <th></th>\n",
       "    </tr>\n",
       "  </thead>\n",
       "  <tbody>\n",
       "    <tr>\n",
       "      <td rowspan=\"5\" valign=\"top\">1000</td>\n",
       "      <td>5</td>\n",
       "      <td>22</td>\n",
       "      <td>159</td>\n",
       "    </tr>\n",
       "    <tr>\n",
       "      <td>6</td>\n",
       "      <td>43</td>\n",
       "      <td>172</td>\n",
       "    </tr>\n",
       "    <tr>\n",
       "      <td>7</td>\n",
       "      <td>47</td>\n",
       "      <td>340</td>\n",
       "    </tr>\n",
       "    <tr>\n",
       "      <td>8</td>\n",
       "      <td>52</td>\n",
       "      <td>408</td>\n",
       "    </tr>\n",
       "    <tr>\n",
       "      <td>9</td>\n",
       "      <td>58</td>\n",
       "      <td>466</td>\n",
       "    </tr>\n",
       "    <tr>\n",
       "      <td>...</td>\n",
       "      <td>...</td>\n",
       "      <td>...</td>\n",
       "      <td>...</td>\n",
       "    </tr>\n",
       "    <tr>\n",
       "      <td>1498</td>\n",
       "      <td>10</td>\n",
       "      <td>41</td>\n",
       "      <td>247</td>\n",
       "    </tr>\n",
       "    <tr>\n",
       "      <td rowspan=\"4\" valign=\"top\">1499</td>\n",
       "      <td>9</td>\n",
       "      <td>9</td>\n",
       "      <td>70</td>\n",
       "    </tr>\n",
       "    <tr>\n",
       "      <td>10</td>\n",
       "      <td>68</td>\n",
       "      <td>449</td>\n",
       "    </tr>\n",
       "    <tr>\n",
       "      <td>11</td>\n",
       "      <td>74</td>\n",
       "      <td>612</td>\n",
       "    </tr>\n",
       "    <tr>\n",
       "      <td>12</td>\n",
       "      <td>69</td>\n",
       "      <td>492</td>\n",
       "    </tr>\n",
       "  </tbody>\n",
       "</table>\n",
       "<p>3174 rows × 2 columns</p>\n",
       "</div>"
      ],
      "text/plain": [
       "               count  sum\n",
       "user_id month            \n",
       "1000    5         22  159\n",
       "        6         43  172\n",
       "        7         47  340\n",
       "        8         52  408\n",
       "        9         58  466\n",
       "...              ...  ...\n",
       "1498    10        41  247\n",
       "1499    9          9   70\n",
       "        10        68  449\n",
       "        11        74  612\n",
       "        12        69  492\n",
       "\n",
       "[3174 rows x 2 columns]"
      ]
     },
     "execution_count": 15,
     "metadata": {},
     "output_type": "execute_result"
    }
   ],
   "source": [
    "# группируем по юзерам и месяцам, чтобы просто посмотреть\n",
    "calls.groupby(['user_id','month'])['duration'].agg(['count','sum'])"
   ]
  },
  {
   "cell_type": "code",
   "execution_count": 16,
   "metadata": {},
   "outputs": [],
   "source": [
    "# сбрасываем индекс, чтобы получить одноуровневую таблицу\n",
    "calls_per_user_by_month = calls.groupby([\"user_id\",\"month\"])['duration'].agg(['count', 'sum']).reset_index()"
   ]
  },
  {
   "cell_type": "code",
   "execution_count": 17,
   "metadata": {},
   "outputs": [],
   "source": [
    "# переименовываем столбцы, чтобы в дальнейшем не путать их с другими такими же\n",
    "calls_per_user_by_month = calls_per_user_by_month.rename({'count':'call_count', 'sum':'call_sum'}, axis=1)"
   ]
  },
  {
   "cell_type": "code",
   "execution_count": 18,
   "metadata": {
    "scrolled": false
   },
   "outputs": [
    {
     "data": {
      "text/html": [
       "<div>\n",
       "<style scoped>\n",
       "    .dataframe tbody tr th:only-of-type {\n",
       "        vertical-align: middle;\n",
       "    }\n",
       "\n",
       "    .dataframe tbody tr th {\n",
       "        vertical-align: top;\n",
       "    }\n",
       "\n",
       "    .dataframe thead th {\n",
       "        text-align: right;\n",
       "    }\n",
       "</style>\n",
       "<table border=\"1\" class=\"dataframe\">\n",
       "  <thead>\n",
       "    <tr style=\"text-align: right;\">\n",
       "      <th></th>\n",
       "      <th>user_id</th>\n",
       "      <th>month</th>\n",
       "      <th>call_count</th>\n",
       "      <th>call_sum</th>\n",
       "    </tr>\n",
       "  </thead>\n",
       "  <tbody>\n",
       "    <tr>\n",
       "      <td>0</td>\n",
       "      <td>1000</td>\n",
       "      <td>5</td>\n",
       "      <td>22</td>\n",
       "      <td>159</td>\n",
       "    </tr>\n",
       "    <tr>\n",
       "      <td>1</td>\n",
       "      <td>1000</td>\n",
       "      <td>6</td>\n",
       "      <td>43</td>\n",
       "      <td>172</td>\n",
       "    </tr>\n",
       "    <tr>\n",
       "      <td>2</td>\n",
       "      <td>1000</td>\n",
       "      <td>7</td>\n",
       "      <td>47</td>\n",
       "      <td>340</td>\n",
       "    </tr>\n",
       "    <tr>\n",
       "      <td>3</td>\n",
       "      <td>1000</td>\n",
       "      <td>8</td>\n",
       "      <td>52</td>\n",
       "      <td>408</td>\n",
       "    </tr>\n",
       "    <tr>\n",
       "      <td>4</td>\n",
       "      <td>1000</td>\n",
       "      <td>9</td>\n",
       "      <td>58</td>\n",
       "      <td>466</td>\n",
       "    </tr>\n",
       "  </tbody>\n",
       "</table>\n",
       "</div>"
      ],
      "text/plain": [
       "   user_id  month  call_count  call_sum\n",
       "0     1000      5          22       159\n",
       "1     1000      6          43       172\n",
       "2     1000      7          47       340\n",
       "3     1000      8          52       408\n",
       "4     1000      9          58       466"
      ]
     },
     "execution_count": 18,
     "metadata": {},
     "output_type": "execute_result"
    }
   ],
   "source": [
    "calls_per_user_by_month.head(5)"
   ]
  },
  {
   "cell_type": "markdown",
   "metadata": {},
   "source": [
    "#### Интернет"
   ]
  },
  {
   "cell_type": "code",
   "execution_count": 19,
   "metadata": {},
   "outputs": [
    {
     "data": {
      "text/html": [
       "<div>\n",
       "<style scoped>\n",
       "    .dataframe tbody tr th:only-of-type {\n",
       "        vertical-align: middle;\n",
       "    }\n",
       "\n",
       "    .dataframe tbody tr th {\n",
       "        vertical-align: top;\n",
       "    }\n",
       "\n",
       "    .dataframe thead th {\n",
       "        text-align: right;\n",
       "    }\n",
       "</style>\n",
       "<table border=\"1\" class=\"dataframe\">\n",
       "  <thead>\n",
       "    <tr style=\"text-align: right;\">\n",
       "      <th></th>\n",
       "      <th></th>\n",
       "      <th>sum</th>\n",
       "      <th>count</th>\n",
       "    </tr>\n",
       "    <tr>\n",
       "      <th>user_id</th>\n",
       "      <th>month</th>\n",
       "      <th></th>\n",
       "      <th></th>\n",
       "    </tr>\n",
       "  </thead>\n",
       "  <tbody>\n",
       "    <tr>\n",
       "      <td rowspan=\"5\" valign=\"top\">1000</td>\n",
       "      <td>5</td>\n",
       "      <td>2256</td>\n",
       "      <td>5</td>\n",
       "    </tr>\n",
       "    <tr>\n",
       "      <td>6</td>\n",
       "      <td>23257</td>\n",
       "      <td>49</td>\n",
       "    </tr>\n",
       "    <tr>\n",
       "      <td>7</td>\n",
       "      <td>14016</td>\n",
       "      <td>29</td>\n",
       "    </tr>\n",
       "    <tr>\n",
       "      <td>8</td>\n",
       "      <td>14070</td>\n",
       "      <td>29</td>\n",
       "    </tr>\n",
       "    <tr>\n",
       "      <td>9</td>\n",
       "      <td>14581</td>\n",
       "      <td>27</td>\n",
       "    </tr>\n",
       "    <tr>\n",
       "      <td>...</td>\n",
       "      <td>...</td>\n",
       "      <td>...</td>\n",
       "      <td>...</td>\n",
       "    </tr>\n",
       "    <tr>\n",
       "      <td>1498</td>\n",
       "      <td>10</td>\n",
       "      <td>20604</td>\n",
       "      <td>59</td>\n",
       "    </tr>\n",
       "    <tr>\n",
       "      <td rowspan=\"4\" valign=\"top\">1499</td>\n",
       "      <td>9</td>\n",
       "      <td>1848</td>\n",
       "      <td>5</td>\n",
       "    </tr>\n",
       "    <tr>\n",
       "      <td>10</td>\n",
       "      <td>17809</td>\n",
       "      <td>58</td>\n",
       "    </tr>\n",
       "    <tr>\n",
       "      <td>11</td>\n",
       "      <td>17984</td>\n",
       "      <td>49</td>\n",
       "    </tr>\n",
       "    <tr>\n",
       "      <td>12</td>\n",
       "      <td>13077</td>\n",
       "      <td>45</td>\n",
       "    </tr>\n",
       "  </tbody>\n",
       "</table>\n",
       "<p>3203 rows × 2 columns</p>\n",
       "</div>"
      ],
      "text/plain": [
       "                 sum  count\n",
       "user_id month              \n",
       "1000    5       2256      5\n",
       "        6      23257     49\n",
       "        7      14016     29\n",
       "        8      14070     29\n",
       "        9      14581     27\n",
       "...              ...    ...\n",
       "1498    10     20604     59\n",
       "1499    9       1848      5\n",
       "        10     17809     58\n",
       "        11     17984     49\n",
       "        12     13077     45\n",
       "\n",
       "[3203 rows x 2 columns]"
      ]
     },
     "execution_count": 19,
     "metadata": {},
     "output_type": "execute_result"
    }
   ],
   "source": [
    "internet.groupby(['user_id','month'])['mb_used'].agg(['sum','count'])"
   ]
  },
  {
   "cell_type": "code",
   "execution_count": 20,
   "metadata": {},
   "outputs": [],
   "source": [
    "# сбрасываем индекс, чтобы получить одноуровневую таблицу\n",
    "int_per_user_by_month = internet.groupby([\"user_id\",\"month\"])['mb_used'].agg(['count', 'sum']).reset_index()"
   ]
  },
  {
   "cell_type": "code",
   "execution_count": 21,
   "metadata": {},
   "outputs": [],
   "source": [
    "# переименовываем столбцы, чтобы в дальнейшем не путать их с другими такими же\n",
    "int_per_user_by_month = int_per_user_by_month.rename({'count':'internet_count', 'sum':'mb_sum'}, axis=1)"
   ]
  },
  {
   "cell_type": "markdown",
   "metadata": {},
   "source": [
    "#### Сообщения"
   ]
  },
  {
   "cell_type": "code",
   "execution_count": 22,
   "metadata": {},
   "outputs": [
    {
     "data": {
      "text/plain": [
       "user_id  month\n",
       "1000     5        22\n",
       "         6        60\n",
       "         7        75\n",
       "         8        81\n",
       "         9        57\n",
       "                  ..\n",
       "1498     10       42\n",
       "1499     9        11\n",
       "         10       48\n",
       "         11       59\n",
       "         12       66\n",
       "Name: id, Length: 2717, dtype: int64"
      ]
     },
     "execution_count": 22,
     "metadata": {},
     "output_type": "execute_result"
    }
   ],
   "source": [
    "messages.groupby(['user_id','month'])['id'].count()"
   ]
  },
  {
   "cell_type": "code",
   "execution_count": 23,
   "metadata": {},
   "outputs": [],
   "source": [
    "# сбрасываем индекс, чтобы получить одноуровневую таблицу и сразу переименовываем\n",
    "mess_per_user_by_month = messages.groupby(['user_id','month'])['id'].count().reset_index().rename(\n",
    "    {'id':'message_count'}, \n",
    "    axis=1)"
   ]
  },
  {
   "cell_type": "markdown",
   "metadata": {},
   "source": [
    "#### Выручка с пользователей"
   ]
  },
  {
   "cell_type": "code",
   "execution_count": 21,
   "metadata": {},
   "outputs": [],
   "source": [
    "# объединяем таблицы в одну для дальнейших рассчетов и удобства анализа\n",
    "\n",
    "merged = calls_per_user_by_month.merge(int_per_user_by_month,on=['user_id','month'], \n",
    "   how='outer').merge(mess_per_user_by_month,\n",
    "   on=['user_id', 'month'], how='outer')"
   ]
  },
  {
   "cell_type": "code",
   "execution_count": 22,
   "metadata": {},
   "outputs": [],
   "source": [
    "merged = merged.merge(users, on=['user_id'], how='outer') # объединяем с таблицей по юзерам, чтобы получить полные данные"
   ]
  },
  {
   "cell_type": "code",
   "execution_count": 23,
   "metadata": {},
   "outputs": [
    {
     "data": {
      "text/html": [
       "<div>\n",
       "<style scoped>\n",
       "    .dataframe tbody tr th:only-of-type {\n",
       "        vertical-align: middle;\n",
       "    }\n",
       "\n",
       "    .dataframe tbody tr th {\n",
       "        vertical-align: top;\n",
       "    }\n",
       "\n",
       "    .dataframe thead th {\n",
       "        text-align: right;\n",
       "    }\n",
       "</style>\n",
       "<table border=\"1\" class=\"dataframe\">\n",
       "  <thead>\n",
       "    <tr style=\"text-align: right;\">\n",
       "      <th></th>\n",
       "      <th>messages_included</th>\n",
       "      <th>mb_per_month_included</th>\n",
       "      <th>minutes_included</th>\n",
       "      <th>rub_monthly_fee</th>\n",
       "      <th>rub_per_gb</th>\n",
       "      <th>rub_per_message</th>\n",
       "      <th>rub_per_minute</th>\n",
       "      <th>tariff_name</th>\n",
       "    </tr>\n",
       "  </thead>\n",
       "  <tbody>\n",
       "    <tr>\n",
       "      <th>0</th>\n",
       "      <td>50</td>\n",
       "      <td>15360</td>\n",
       "      <td>500</td>\n",
       "      <td>550</td>\n",
       "      <td>200</td>\n",
       "      <td>3</td>\n",
       "      <td>3</td>\n",
       "      <td>smart</td>\n",
       "    </tr>\n",
       "    <tr>\n",
       "      <th>1</th>\n",
       "      <td>1000</td>\n",
       "      <td>30720</td>\n",
       "      <td>3000</td>\n",
       "      <td>1950</td>\n",
       "      <td>150</td>\n",
       "      <td>1</td>\n",
       "      <td>1</td>\n",
       "      <td>ultra</td>\n",
       "    </tr>\n",
       "  </tbody>\n",
       "</table>\n",
       "</div>"
      ],
      "text/plain": [
       "   messages_included  mb_per_month_included  minutes_included  \\\n",
       "0                 50                  15360               500   \n",
       "1               1000                  30720              3000   \n",
       "\n",
       "   rub_monthly_fee  rub_per_gb  rub_per_message  rub_per_minute tariff_name  \n",
       "0              550         200                3               3       smart  \n",
       "1             1950         150                1               1       ultra  "
      ]
     },
     "metadata": {},
     "output_type": "display_data"
    },
    {
     "data": {
      "text/html": [
       "<div>\n",
       "<style scoped>\n",
       "    .dataframe tbody tr th:only-of-type {\n",
       "        vertical-align: middle;\n",
       "    }\n",
       "\n",
       "    .dataframe tbody tr th {\n",
       "        vertical-align: top;\n",
       "    }\n",
       "\n",
       "    .dataframe thead th {\n",
       "        text-align: right;\n",
       "    }\n",
       "</style>\n",
       "<table border=\"1\" class=\"dataframe\">\n",
       "  <thead>\n",
       "    <tr style=\"text-align: right;\">\n",
       "      <th></th>\n",
       "      <th>user_id</th>\n",
       "      <th>month</th>\n",
       "      <th>call_count</th>\n",
       "      <th>call_sum</th>\n",
       "      <th>internet_count</th>\n",
       "      <th>mb_sum</th>\n",
       "      <th>message_count</th>\n",
       "      <th>age</th>\n",
       "      <th>churn_date</th>\n",
       "      <th>city</th>\n",
       "      <th>first_name</th>\n",
       "      <th>last_name</th>\n",
       "      <th>reg_date</th>\n",
       "      <th>tariff</th>\n",
       "    </tr>\n",
       "  </thead>\n",
       "  <tbody>\n",
       "  </tbody>\n",
       "</table>\n",
       "</div>"
      ],
      "text/plain": [
       "Empty DataFrame\n",
       "Columns: [user_id, month, call_count, call_sum, internet_count, mb_sum, message_count, age, churn_date, city, first_name, last_name, reg_date, tariff]\n",
       "Index: []"
      ]
     },
     "execution_count": 23,
     "metadata": {},
     "output_type": "execute_result"
    }
   ],
   "source": [
    "display(tariffs)\n",
    "merged[(merged['tariff'] == 'ultra') & (merged['call_sum']) > 3000]"
   ]
  },
  {
   "cell_type": "code",
   "execution_count": 24,
   "metadata": {},
   "outputs": [],
   "source": [
    "# создаем столбец для учета выручки по звонкам через функцию\n",
    "# стоимость самих тарифов включаем в эту функцию (дальше ее уже добавлять не будем) \n",
    "\n",
    "def calls_revenue(row):\n",
    "    call_sum = row['call_sum']\n",
    "    tariff = row['tariff']\n",
    "    smart = 550\n",
    "    smart_calls = 500\n",
    "    ultra = 1950\n",
    "    ultra_calls = 3000\n",
    "    \n",
    "    try:\n",
    "        if tariff == 'smart' and call_sum > smart_calls:\n",
    "            return (call_sum - smart_calls) * 3 + smart  # учитываем стоимость тарифа\n",
    "        if tariff == 'ultra':   # абонентов со звонками больше лимита нет, поэтому тут берем всех\n",
    "            return ultra    # учитываем стоимость тарифа\n",
    "        return smart   # учитываем стоимость тарифа\n",
    "    except:\n",
    "        print('Не удалось обработать данные')\n",
    "\n",
    "        \n",
    "merged['calls_revenue'] = merged.apply(calls_revenue, axis=1)"
   ]
  },
  {
   "cell_type": "code",
   "execution_count": 25,
   "metadata": {},
   "outputs": [],
   "source": [
    "# создаем столбец для учета выручки по интернет-трафику через функцию\n",
    "# 1 Гб равен 1024 Мб  \n",
    "\n",
    "def internet_revenue(row):\n",
    "    mb_sum = row['mb_sum']\n",
    "    tariff = row['tariff']\n",
    "    smart = 550\n",
    "    smart_int = 15 * 1024\n",
    "    smart_1gb = 200\n",
    "    ultra = 1950\n",
    "    ultra_int = 30 * 1024\n",
    "    ultra_1gb = 150\n",
    "    \n",
    "    if tariff == 'smart' and mb_sum > smart_int:\n",
    "        return ((mb_sum - smart_int) // 1024 + 1) * smart_1gb\n",
    "    if tariff == 'ultra' and mb_sum > ultra_int:\n",
    "        return ((mb_sum - ultra_int) // 1024 + 1) * ultra_1gb\n",
    "    if tariff == 'smart' and mb_sum <= smart_int:\n",
    "         return 0\n",
    "    return 0\n",
    "        \n",
    "merged['internet_revenue'] = merged.apply(internet_revenue, axis=1)"
   ]
  },
  {
   "cell_type": "code",
   "execution_count": 26,
   "metadata": {},
   "outputs": [],
   "source": [
    "# создаем столбец для учета выручки по интернет-трафику через функцию\n",
    "\n",
    "def message_revenue(row):\n",
    "    message_count = row['message_count']\n",
    "    tariff = row['tariff']\n",
    "    smart = 550\n",
    "    smart_messages = 50\n",
    "    ultra = 1950\n",
    "    ultra_messages = 1000\n",
    "    \n",
    "    try:\n",
    "        if tariff == 'smart' and message_count > smart_messages:\n",
    "            return (message_count - smart_messages) * 3\n",
    "        if tariff == 'ultra':\n",
    "            return 0\n",
    "        return 0  \n",
    "    except:\n",
    "        print('Не удалось обработать данные')\n",
    "\n",
    "        \n",
    "merged['message_revenue'] = merged.apply(message_revenue, axis=1)"
   ]
  },
  {
   "cell_type": "code",
   "execution_count": 27,
   "metadata": {},
   "outputs": [],
   "source": [
    "# суммируем доходы за звонки, интернет и сообщения\n",
    "merged['total_revenue'] = merged['calls_revenue'] + merged['internet_revenue'] + merged['message_revenue']"
   ]
  },
  {
   "cell_type": "code",
   "execution_count": 28,
   "metadata": {},
   "outputs": [
    {
     "name": "stdout",
     "output_type": "stream",
     "text": [
      "<class 'pandas.core.frame.DataFrame'>\n",
      "Int64Index: 3216 entries, 0 to 3215\n",
      "Data columns (total 18 columns):\n",
      " #   Column            Non-Null Count  Dtype         \n",
      "---  ------            --------------  -----         \n",
      " 0   user_id           3216 non-null   int64         \n",
      " 1   month             3214 non-null   float64       \n",
      " 2   call_count        3174 non-null   float64       \n",
      " 3   call_sum          3174 non-null   float64       \n",
      " 4   internet_count    3203 non-null   float64       \n",
      " 5   mb_sum            3203 non-null   float64       \n",
      " 6   message_count     2717 non-null   float64       \n",
      " 7   age               3216 non-null   int64         \n",
      " 8   churn_date        189 non-null    datetime64[ns]\n",
      " 9   city              3216 non-null   object        \n",
      " 10  first_name        3216 non-null   object        \n",
      " 11  last_name         3216 non-null   object        \n",
      " 12  reg_date          3216 non-null   datetime64[ns]\n",
      " 13  tariff            3216 non-null   object        \n",
      " 14  calls_revenue     3216 non-null   float64       \n",
      " 15  internet_revenue  3216 non-null   float64       \n",
      " 16  message_revenue   3216 non-null   float64       \n",
      " 17  total_revenue     3216 non-null   float64       \n",
      "dtypes: datetime64[ns](2), float64(10), int64(2), object(4)\n",
      "memory usage: 477.4+ KB\n"
     ]
    }
   ],
   "source": [
    "merged.info()"
   ]
  },
  {
   "cell_type": "code",
   "execution_count": 29,
   "metadata": {},
   "outputs": [],
   "source": [
    "# меняем формат на целочисленный для новых столбцов с доходами для удобства\n",
    "\n",
    "merged['total_revenue'] = merged['total_revenue'].astype(int)\n",
    "merged['calls_revenue'] = merged['calls_revenue'].astype(int)\n",
    "merged['internet_revenue'] = merged['internet_revenue'].astype(int)\n",
    "merged['message_revenue'] = merged['message_revenue'].astype(int)"
   ]
  },
  {
   "cell_type": "code",
   "execution_count": 30,
   "metadata": {},
   "outputs": [
    {
     "data": {
      "text/plain": [
       "500"
      ]
     },
     "execution_count": 30,
     "metadata": {},
     "output_type": "execute_result"
    }
   ],
   "source": [
    "merged['user_id'].nunique() # проверяем, что все уникальные пользователи на месте"
   ]
  },
  {
   "cell_type": "markdown",
   "metadata": {},
   "source": [
    "## 3. Анализ данных\n",
    "<a id='cell3'></a>"
   ]
  },
  {
   "cell_type": "code",
   "execution_count": 31,
   "metadata": {},
   "outputs": [
    {
     "data": {
      "image/png": "[encoded data removed]",
      "text/plain": [
       "<Figure size 432x288 with 1 Axes>"
      ]
     },
     "metadata": {
      "needs_background": "light"
     },
     "output_type": "display_data"
    }
   ],
   "source": [
    "users['tariff'].value_counts().plot(kind='barh', grid=True, title='Распределение клиентов по тарифам');"
   ]
  },
  {
   "cell_type": "code",
   "execution_count": 32,
   "metadata": {},
   "outputs": [],
   "source": [
    "# создаем таблицу с разбивкой по пользователям с нужными данными\n",
    "usersinfo = merged.pivot_table(index=['user_id', 'tariff'], values = ['total_revenue', 'month', 'call_sum', 'mb_sum', \n",
    "                   'message_count'],\n",
    "                   aggfunc={'month': 'count', 'total_revenue': 'sum', \n",
    "                   'call_sum': 'sum', 'mb_sum': 'sum', 'message_count': 'sum'}).reset_index().rename({\n",
    "                   'month': 'month_active'}, axis=1)\n",
    "\n",
    "# меняем типы данных для визуальной чистоты \n",
    "\n",
    "usersinfo['call_sum'] = usersinfo['call_sum'].astype(int)\n",
    "usersinfo['mb_sum'] = usersinfo['mb_sum'].astype(int)\n",
    "usersinfo['message_count'] = usersinfo['message_count'].astype(int)"
   ]
  },
  {
   "cell_type": "code",
   "execution_count": 33,
   "metadata": {},
   "outputs": [
    {
     "data": {
      "text/html": [
       "<div>\n",
       "<style scoped>\n",
       "    .dataframe tbody tr th:only-of-type {\n",
       "        vertical-align: middle;\n",
       "    }\n",
       "\n",
       "    .dataframe tbody tr th {\n",
       "        vertical-align: top;\n",
       "    }\n",
       "\n",
       "    .dataframe thead th {\n",
       "        text-align: right;\n",
       "    }\n",
       "</style>\n",
       "<table border=\"1\" class=\"dataframe\">\n",
       "  <thead>\n",
       "    <tr style=\"text-align: right;\">\n",
       "      <th></th>\n",
       "      <th>user_id</th>\n",
       "      <th>tariff</th>\n",
       "      <th>call_sum</th>\n",
       "      <th>mb_sum</th>\n",
       "      <th>message_count</th>\n",
       "      <th>month_active</th>\n",
       "      <th>total_revenue</th>\n",
       "    </tr>\n",
       "  </thead>\n",
       "  <tbody>\n",
       "    <tr>\n",
       "      <th>0</th>\n",
       "      <td>1000</td>\n",
       "      <td>ultra</td>\n",
       "      <td>2566</td>\n",
       "      <td>107492</td>\n",
       "      <td>496</td>\n",
       "      <td>8</td>\n",
       "      <td>15600</td>\n",
       "    </tr>\n",
       "    <tr>\n",
       "      <th>1</th>\n",
       "      <td>1001</td>\n",
       "      <td>smart</td>\n",
       "      <td>844</td>\n",
       "      <td>32505</td>\n",
       "      <td>0</td>\n",
       "      <td>2</td>\n",
       "      <td>1900</td>\n",
       "    </tr>\n",
       "    <tr>\n",
       "      <th>2</th>\n",
       "      <td>1002</td>\n",
       "      <td>smart</td>\n",
       "      <td>1517</td>\n",
       "      <td>116183</td>\n",
       "      <td>70</td>\n",
       "      <td>7</td>\n",
       "      <td>7250</td>\n",
       "    </tr>\n",
       "    <tr>\n",
       "      <th>3</th>\n",
       "      <td>1003</td>\n",
       "      <td>ultra</td>\n",
       "      <td>3822</td>\n",
       "      <td>57329</td>\n",
       "      <td>380</td>\n",
       "      <td>5</td>\n",
       "      <td>9750</td>\n",
       "    </tr>\n",
       "    <tr>\n",
       "      <th>4</th>\n",
       "      <td>1004</td>\n",
       "      <td>ultra</td>\n",
       "      <td>987</td>\n",
       "      <td>149172</td>\n",
       "      <td>1192</td>\n",
       "      <td>8</td>\n",
       "      <td>15600</td>\n",
       "    </tr>\n",
       "  </tbody>\n",
       "</table>\n",
       "</div>"
      ],
      "text/plain": [
       "   user_id tariff  call_sum  mb_sum  message_count  month_active  \\\n",
       "0     1000  ultra      2566  107492            496             8   \n",
       "1     1001  smart       844   32505              0             2   \n",
       "2     1002  smart      1517  116183             70             7   \n",
       "3     1003  ultra      3822   57329            380             5   \n",
       "4     1004  ultra       987  149172           1192             8   \n",
       "\n",
       "   total_revenue  \n",
       "0          15600  \n",
       "1           1900  \n",
       "2           7250  \n",
       "3           9750  \n",
       "4          15600  "
      ]
     },
     "execution_count": 33,
     "metadata": {},
     "output_type": "execute_result"
    }
   ],
   "source": [
    "usersinfo.head()"
   ]
  },
  {
   "cell_type": "code",
   "execution_count": 34,
   "metadata": {},
   "outputs": [],
   "source": [
    "# создаем срезы с юзерами по тарифам\n",
    "smartusers = merged.query('tariff == \"smart\"')\n",
    "ultrausers = merged.query('tariff == \"ultra\"')"
   ]
  },
  {
   "cell_type": "code",
   "execution_count": 35,
   "metadata": {},
   "outputs": [
    {
     "name": "stdout",
     "output_type": "stream",
     "text": [
      "1037.0 медианный доход в месяц с абонента тарифа Smart\n",
      "1950.0 медианный доход в месяц с абонента тарифа Ultra\n"
     ]
    }
   ],
   "source": [
    "print(smartusers['total_revenue'].median(), 'медианный доход в месяц с абонента тарифа Smart')\n",
    "print(ultrausers['total_revenue'].median(), 'медианный доход в месяц с абонента тарифа Ultra')"
   ]
  },
  {
   "cell_type": "code",
   "execution_count": 36,
   "metadata": {},
   "outputs": [
    {
     "name": "stdout",
     "output_type": "stream",
     "text": [
      "487.0 медианный доход в месяц с абонента тарифа Smart без учета аб/платы\n",
      "0.0 медианный доход в месяц с абонента тарифа Ultra без учета аб/платы\n"
     ]
    }
   ],
   "source": [
    "print(smartusers['total_revenue'].median() - 550, 'медианный доход в месяц с абонента тарифа Smart без учета аб/платы')\n",
    "print(ultrausers['total_revenue'].median() - 1950, 'медианный доход в месяц с абонента тарифа Ultra без учета аб/платы')"
   ]
  },
  {
   "cell_type": "code",
   "execution_count": 37,
   "metadata": {},
   "outputs": [
    {
     "name": "stdout",
     "output_type": "stream",
     "text": [
      "7287.0 медианный годовой доход с абонента тарифа Smart\n",
      "13650.0 медианный годовой доход с абонента тарифа Ultra\n"
     ]
    }
   ],
   "source": [
    "print(usersinfo.query('tariff == \"smart\"')['total_revenue'].median(), 'медианный годовой доход с абонента тарифа Smart')\n",
    "print(usersinfo.query('tariff == \"ultra\"')['total_revenue'].median(), 'медианный годовой доход с абонента тарифа Ultra')"
   ]
  },
  {
   "cell_type": "code",
   "execution_count": 38,
   "metadata": {},
   "outputs": [
    {
     "data": {
      "image/png": "[encoded data removed]",
      "text/plain": [
       "<Figure size 504x360 with 1 Axes>"
      ]
     },
     "metadata": {
      "needs_background": "light"
     },
     "output_type": "display_data"
    }
   ],
   "source": [
    "smartusers.groupby('user_id')['call_sum'].sum().hist( bins=15, figsize=(7,5), legend=True);\n",
    "\n",
    "ultrausers.groupby('user_id')['call_sum'].sum().plot(kind='hist', bins=15, figsize=(7,5), grid=True);\n",
    "plt.title('Количество минут звонков за год');\n",
    "plt.ylabel('Количество абонентов');\n",
    "plt.legend(['Smart', 'Ultra']);"
   ]
  },
  {
   "cell_type": "code",
   "execution_count": 74,
   "metadata": {
    "collapsed": true
   },
   "outputs": [
    {
     "name": "stdout",
     "output_type": "stream",
     "text": [
      "# This file may be used to create an environment using:\n",
      "# $ conda create --name <env> --file <this file>\n",
      "# platform: linux-64\n",
      "_libgcc_mutex=0.1=conda_forge\n",
      "_openmp_mutex=4.5=0_gnu\n",
      "absl-py=0.11.0=pypi_0\n",
      "alembic=1.4.2=pyh9f0ad1d_0\n",
      "astor=0.8.1=pypi_0\n",
      "async_generator=1.10=py_0\n",
      "attrs=19.1.0=pypi_0\n",
      "backcall=0.2.0=pyh9f0ad1d_0\n",
      "beautifulsoup4=4.8.0=pypi_0\n",
      "bleach=3.1.5=pyh9f0ad1d_0\n",
      "blinker=1.4=py_1\n",
      "blis=0.7.4=pypi_0\n",
      "boto3=1.17.7=pypi_0\n",
      "botocore=1.20.7=pypi_0\n",
      "brotlipy=0.7.0=py37hb5d75c8_1001\n",
      "ca-certificates=2020.12.5=ha878542_0\n",
      "cached-property=1.5.2=pypi_0\n",
      "cachetools=4.2.1=pypi_0\n",
      "catalogue=1.0.0=pypi_0\n",
      "catboost=0.20.2=pypi_0\n",
      "certifi=2020.12.5=py37h89c1867_1\n",
      "certipy=0.1.3=py_0\n",
      "cffi=1.14.4=py37h11fe52a_0\n",
      "chardet=3.0.4=py37he5f6b98_1008\n",
      "click=7.1.2=pypi_0\n",
      "combo=0.1.2=pypi_0\n",
      "conda=4.9.2=py37h89c1867_0\n",
      "conda-package-handling=1.7.2=py37hb5d75c8_0\n",
      "configurable-http-proxy=4.2.1=node13_he01fd0c_0\n",
      "cryptography=3.2.1=py37hc72a4ac_0\n",
      "cycler=0.10.0=pypi_0\n",
      "cymem=2.0.5=pypi_0\n",
      "dawg-python=0.7.2=pypi_0\n",
      "decorator=4.4.2=py_0\n",
      "defusedxml=0.6.0=py_0\n",
      "docopt=0.6.2=pypi_0\n",
      "entrypoints=0.3=pypi_0\n",
      "filelock=3.0.12=pypi_0\n",
      "findspark=1.3.0=pypi_0\n",
      "future=0.18.2=pypi_0\n",
      "fuzzywuzzy=0.18.0=pypi_0\n",
      "gast=0.2.2=pypi_0\n",
      "gensim=3.8.1=pypi_0\n",
      "google-auth=1.26.1=pypi_0\n",
      "google-auth-oauthlib=0.4.2=pypi_0\n",
      "google-pasta=0.2.0=pypi_0\n",
      "grpcio=1.35.0=pypi_0\n",
      "gspread=3.1.0=pypi_0\n",
      "h5py=3.1.0=pypi_0\n",
      "holidays=0.9.12=pypi_0\n",
      "icu=64.2=he1b5a44_1\n",
      "idna=2.8=pypi_0\n",
      "importlib-metadata=1.7.0=pypi_0\n",
      "importlib_metadata=1.7.0=0\n",
      "ipykernel=5.4.3=pypi_0\n",
      "ipython=7.20.0=pypi_0\n",
      "ipython_genutils=0.2.0=py_1\n",
      "ipywidgets=7.2.0=pypi_0\n",
      "jedi=0.18.0=pypi_0\n",
      "jinja2=2.11.2=pyh9f0ad1d_0\n",
      "jmespath=0.10.0=pypi_0\n",
      "joblib=1.0.1=pypi_0\n",
      "json5=0.9.4=pyh9f0ad1d_0\n",
      "jsonschema=3.2.0=pypi_0\n",
      "jupyter=1.0.0=pypi_0\n",
      "jupyter-client=5.3.4=pypi_0\n",
      "jupyter-console=6.2.0=pypi_0\n",
      "jupyter-contrib-core=0.3.3=pypi_0\n",
      "jupyter-contrib-nbextensions=0.5.1=pypi_0\n",
      "jupyter-core=4.6.2=pypi_0\n",
      "jupyter-highlight-selected-word=0.2.0=pypi_0\n",
      "jupyter-latex-envs=1.4.6=pypi_0\n",
      "jupyter-nbextensions-configurator=0.4.1=pypi_0\n",
      "jupyter_core=4.6.3=py38h32f6830_1\n",
      "jupyter_telemetry=0.0.5=py_0\n",
      "jupyterhub=1.1.0=pypi_0\n",
      "jupyterhub-base=1.1.0=py38_2\n",
      "jupyterlab=2.1.5=py_0\n",
      "jupyterlab_pygments=0.1.2=pyh9f0ad1d_0\n",
      "jupyterlab_server=1.2.0=py_0\n",
      "keras-applications=1.0.8=pypi_0\n",
      "keras-preprocessing=1.1.2=pypi_0\n",
      "kiwisolver=1.3.1=pypi_0\n",
      "krb5=1.17.1=hfafb76e_1\n",
      "ld_impl_linux-64=2.34=h53a641e_7\n",
      "libcurl=7.71.1=hcdd3856_1\n",
      "libedit=3.1.20191231=h46ee950_1\n",
      "libffi=3.2.1=he1b5a44_1007\n",
      "libgcc-ng=9.2.0=h24d8f2e_2\n",
      "libgomp=9.2.0=h24d8f2e_2\n",
      "libsodium=1.0.17=h516909a_0\n",
      "libssh2=1.9.0=hab1572f_3\n",
      "libstdcxx-ng=9.2.0=hdf63c60_2\n",
      "libuv=1.34.0=h516909a_0\n",
      "lightgbm=2.3.1=pypi_0\n",
      "llvmlite=0.35.0=pypi_0\n",
      "lxml=4.4.1=pypi_0\n",
      "mako=1.1.0=py_0\n",
      "markdown=3.3.3=pypi_0\n",
      "markupsafe=1.1.1=pypi_0\n",
      "matplotlib=3.1.0=pypi_0\n",
      "mistune=0.8.4=pypi_0\n",
      "murmurhash=1.0.5=pypi_0\n",
      "nbclient=0.5.2=pyhd8ed1ab_0\n",
      "nbconvert=5.5.0=pypi_0\n",
      "nbformat=4.4.0=pypi_0\n",
      "nbgrader=0.6.1=pypi_0\n",
      "ncurses=6.1=hf484d3e_1002\n",
      "nest-asyncio=1.4.3=pyhd8ed1ab_0\n",
      "nltk=3.4.1=pypi_0\n",
      "nodejs=13.13.0=hf5d1a2b_0\n",
      "notebook=6.0.3=pypi_0\n",
      "numba=0.52.0=pypi_0\n",
      "numpy=1.19.5=pypi_0\n",
      "oauthlib=3.0.1=py_0\n",
      "openssl=1.1.1h=h516909a_0\n",
      "opt-einsum=3.3.0=pypi_0\n",
      "packaging=20.4=pyh9f0ad1d_0\n",
      "pamela=1.0.0=py_0\n",
      "pandas=0.25.1=pypi_0\n",
      "pandoc=2.10=0\n",
      "pandocfilters=1.4.2=py_1\n",
      "parso=0.8.1=pypi_0\n",
      "patsy=0.5.1=pypi_0\n",
      "pexpect=4.8.0=pypi_0\n",
      "pickleshare=0.7.5=pypi_0\n",
      "pillow=7.0.0=pypi_0\n",
      "pip=20.1.1=py_1\n",
      "plac=1.1.3=pypi_0\n",
      "plotly=4.1.0=pypi_0\n",
      "preshed=3.0.5=pypi_0\n",
      "prometheus_client=0.8.0=pyh9f0ad1d_0\n",
      "prompt-toolkit=3.0.5=py_1\n",
      "protobuf=3.14.0=pypi_0\n",
      "psutil=5.8.0=pypi_0\n",
      "psycopg2-binary=2.8.4=pypi_0\n",
      "ptyprocess=0.6.0=py_1001\n",
      "py4j=0.10.7=pypi_0\n",
      "pyasn1=0.4.8=pypi_0\n",
      "pyasn1-modules=0.2.8=pypi_0\n",
      "pycosat=0.6.3=py37hb5d75c8_1005\n",
      "pycparser=2.20=pyh9f0ad1d_2\n",
      "pycurl=7.43.0.6=pypi_0\n",
      "pygments=2.6.1=py_0\n",
      "pyjwt=1.7.1=py_0\n",
      "pymorphy2=0.8=pypi_0\n",
      "pymorphy2-dicts=2.4.393442.3710985=pypi_0\n",
      "pymystem3=0.2.0=pypi_0\n",
      "pyod=0.7.8.2=pypi_0\n",
      "pyopenssl=19.1.0=py_1\n",
      "pyparsing=2.4.7=pyh9f0ad1d_0\n",
      "pyrsistent=0.17.3=pypi_0\n",
      "pysocks=1.7.1=py37h89c1867_3\n",
      "python=3.7.8=h6f2ec95_1_cpython\n",
      "python-dateutil=2.8.1=py_0\n",
      "python-editor=1.0.4=py_0\n",
      "python-graphviz=0.16=pypi_0\n",
      "python-json-logger=0.1.11=py_0\n",
      "python_abi=3.7=1_cp37m\n",
      "pytz=2021.1=pypi_0\n",
      "pyyaml=5.4.1=pypi_0\n",
      "pyzmq=19.0.1=pypi_0\n",
      "qtconsole=5.0.2=pypi_0\n",
      "qtpy=1.9.0=pypi_0\n",
      "readline=8.0=h46ee950_1\n",
      "regex=2020.11.13=pypi_0\n",
      "requests=2.22.0=pypi_0\n",
      "requests-oauthlib=1.3.0=pypi_0\n",
      "retrying=1.3.3=pypi_0\n",
      "rsa=4.7=pypi_0\n",
      "ruamel=1.0=py37h89c1867_4\n",
      "ruamel-yaml=0.16.5=pypi_0\n",
      "ruamel.yaml=0.16.6=py38h1e0a361_1\n",
      "ruamel.yaml.clib=0.2.0=py38h1e0a361_1\n",
      "ruamel_yaml=0.15.80=py37hb5d75c8_1003\n",
      "s3transfer=0.3.4=pypi_0\n",
      "sacremoses=0.0.43=pypi_0\n",
      "scikit-learn=0.21.2=pypi_0\n",
      "scipy=1.4.1=pypi_0\n",
      "seaborn=0.9.0=pypi_0\n",
      "send2trash=1.5.0=py_0\n",
      "sentencepiece=0.1.95=pypi_0\n",
      "setuptools=49.6.0=py37h89c1867_3\n",
      "six=1.15.0=pyh9f0ad1d_0\n",
      "smart-open=4.2.0=pypi_0\n",
      "soupsieve=2.2=pypi_0\n",
      "spacy=2.3.4=pypi_0\n",
      "sqlalchemy=1.3.11=pypi_0\n",
      "sqlite=3.32.3=hcee41ef_1\n",
      "srsly=1.0.5=pypi_0\n",
      "statsmodels=0.10.1=pypi_0\n",
      "suod=0.0.6=pypi_0\n",
      "tensorboard=2.1.1=pypi_0\n",
      "tensorflow=2.1.0=pypi_0\n",
      "tensorflow-estimator=2.1.0=pypi_0\n",
      "termcolor=1.1.0=pypi_0\n",
      "terminado=0.9.2=pypi_0\n",
      "testpath=0.4.4=py_0\n",
      "thinc=7.4.5=pypi_0\n",
      "tini=0.18.0=h14c3975_1001\n",
      "tk=8.6.10=hed695b0_0\n",
      "tokenizers=0.5.0=pypi_0\n",
      "torch=1.5.1=pypi_0\n",
      "tornado=6.1=pypi_0\n",
      "tqdm=4.47.0=pyh9f0ad1d_0\n",
      "traitlets=5.0.5=pypi_0\n",
      "transformers=2.5.0=pypi_0\n",
      "urllib3=1.25.9=py_0\n",
      "wasabi=0.8.2=pypi_0\n",
      "wcwidth=0.2.5=pyh9f0ad1d_0\n",
      "webencodings=0.5.1=py_1\n",
      "werkzeug=1.0.1=pypi_0\n",
      "wheel=0.34.2=py_1\n",
      "widgetsnbextension=3.2.1=pypi_0\n",
      "wrapt=1.12.1=pypi_0\n",
      "xgboost=0.90=pypi_0\n",
      "xlrd=1.2.0=pypi_0\n",
      "xmltodict=0.12.0=pypi_0\n",
      "xz=5.2.5=h516909a_1\n",
      "yaml=0.2.5=h516909a_0\n",
      "zeromq=4.3.2=he1b5a44_2\n",
      "zipp=3.1.0=py_0\n",
      "zlib=1.2.11=h516909a_1006\n"
     ]
    }
   ],
   "source": [
    "! conda list -e"
   ]
  },
  {
   "cell_type": "code",
   "execution_count": 39,
   "metadata": {},
   "outputs": [
    {
     "data": {
      "image/png": "[encoded data removed]",
      "text/plain": [
       "<Figure size 504x360 with 1 Axes>"
      ]
     },
     "metadata": {
      "needs_background": "light"
     },
     "output_type": "display_data"
    }
   ],
   "source": [
    "(smartusers.groupby('user_id')['mb_sum'].sum() / 1024).hist( bins=15, figsize=(7,5), legend=True);\n",
    "\n",
    "(ultrausers.groupby('user_id')['mb_sum'].sum() / 1024).plot(kind='hist', bins=15, figsize=(7,5), grid=True);\n",
    "plt.title('Трафик за год в Гб');\n",
    "plt.ylabel('Количество абонентов');\n",
    "plt.legend(['Smart', 'Ultra']);"
   ]
  },
  {
   "cell_type": "code",
   "execution_count": 40,
   "metadata": {},
   "outputs": [
    {
     "data": {
      "image/png": "[encoded data removed]",
      "text/plain": [
       "<Figure size 504x360 with 1 Axes>"
      ]
     },
     "metadata": {
      "needs_background": "light"
     },
     "output_type": "display_data"
    }
   ],
   "source": [
    "smartusers.groupby('user_id')['message_count'].sum().hist(bins=15, figsize=(7,5), legend=True);\n",
    "\n",
    "ultrausers.groupby('user_id')['message_count'].sum().plot(kind='hist', bins=15, figsize=(7,5), grid=True);\n",
    "plt.title('Количество сообщений за год');\n",
    "plt.ylabel('Количество абонентов');\n",
    "plt.legend(['Smart', 'Ultra']);"
   ]
  },
  {
   "cell_type": "code",
   "execution_count": 41,
   "metadata": {},
   "outputs": [
    {
     "data": {
      "image/png": "[encoded data removed]",
      "text/plain": [
       "<Figure size 504x360 with 1 Axes>"
      ]
     },
     "metadata": {
      "needs_background": "light"
     },
     "output_type": "display_data"
    }
   ],
   "source": [
    "smartusers.groupby('user_id')['total_revenue'].sum().hist(bins=15, figsize=(7,5));\n",
    "\n",
    "ultrausers.groupby('user_id')['total_revenue'].sum().plot(kind='hist', bins=15, figsize=(7,5), grid=True);\n",
    "plt.title('Выручка за год');\n",
    "plt.ylabel('Количество абонентов');\n",
    "plt.legend(['Ultra', 'Smart']);"
   ]
  },
  {
   "cell_type": "markdown",
   "metadata": {},
   "source": [
    "<a id='cell301'></a> "
   ]
  },
  {
   "cell_type": "code",
   "execution_count": 42,
   "metadata": {},
   "outputs": [
    {
     "data": {
      "text/html": [
       "<div>\n",
       "<style scoped>\n",
       "    .dataframe tbody tr th:only-of-type {\n",
       "        vertical-align: middle;\n",
       "    }\n",
       "\n",
       "    .dataframe tbody tr th {\n",
       "        vertical-align: top;\n",
       "    }\n",
       "\n",
       "    .dataframe thead th {\n",
       "        text-align: right;\n",
       "    }\n",
       "</style>\n",
       "<table border=\"1\" class=\"dataframe\">\n",
       "  <thead>\n",
       "    <tr style=\"text-align: right;\">\n",
       "      <th></th>\n",
       "      <th></th>\n",
       "      <th>total_revenue</th>\n",
       "    </tr>\n",
       "    <tr>\n",
       "      <th>user_id</th>\n",
       "      <th>tariff</th>\n",
       "      <th></th>\n",
       "    </tr>\n",
       "  </thead>\n",
       "  <tbody>\n",
       "    <tr>\n",
       "      <th>1240</th>\n",
       "      <th>ultra</th>\n",
       "      <td>32400</td>\n",
       "    </tr>\n",
       "    <tr>\n",
       "      <th>1496</th>\n",
       "      <th>smart</th>\n",
       "      <td>28551</td>\n",
       "    </tr>\n",
       "    <tr>\n",
       "      <th>1185</th>\n",
       "      <th>ultra</th>\n",
       "      <td>28200</td>\n",
       "    </tr>\n",
       "    <tr>\n",
       "      <th>1385</th>\n",
       "      <th>ultra</th>\n",
       "      <td>28050</td>\n",
       "    </tr>\n",
       "    <tr>\n",
       "      <th>1180</th>\n",
       "      <th>ultra</th>\n",
       "      <td>26550</td>\n",
       "    </tr>\n",
       "    <tr>\n",
       "      <th>1292</th>\n",
       "      <th>ultra</th>\n",
       "      <td>26400</td>\n",
       "    </tr>\n",
       "    <tr>\n",
       "      <th>1227</th>\n",
       "      <th>smart</th>\n",
       "      <td>26179</td>\n",
       "    </tr>\n",
       "    <tr>\n",
       "      <th>1072</th>\n",
       "      <th>smart</th>\n",
       "      <td>26117</td>\n",
       "    </tr>\n",
       "    <tr>\n",
       "      <th>1168</th>\n",
       "      <th>ultra</th>\n",
       "      <td>25350</td>\n",
       "    </tr>\n",
       "    <tr>\n",
       "      <th>1172</th>\n",
       "      <th>smart</th>\n",
       "      <td>24434</td>\n",
       "    </tr>\n",
       "    <tr>\n",
       "      <th>1126</th>\n",
       "      <th>ultra</th>\n",
       "      <td>23850</td>\n",
       "    </tr>\n",
       "    <tr>\n",
       "      <th>1255</th>\n",
       "      <th>ultra</th>\n",
       "      <td>23700</td>\n",
       "    </tr>\n",
       "    <tr>\n",
       "      <th>1381</th>\n",
       "      <th>ultra</th>\n",
       "      <td>23700</td>\n",
       "    </tr>\n",
       "    <tr>\n",
       "      <th>1375</th>\n",
       "      <th>ultra</th>\n",
       "      <td>23400</td>\n",
       "    </tr>\n",
       "    <tr>\n",
       "      <th>1396</th>\n",
       "      <th>ultra</th>\n",
       "      <td>23400</td>\n",
       "    </tr>\n",
       "  </tbody>\n",
       "</table>\n",
       "</div>"
      ],
      "text/plain": [
       "                total_revenue\n",
       "user_id tariff               \n",
       "1240    ultra           32400\n",
       "1496    smart           28551\n",
       "1185    ultra           28200\n",
       "1385    ultra           28050\n",
       "1180    ultra           26550\n",
       "1292    ultra           26400\n",
       "1227    smart           26179\n",
       "1072    smart           26117\n",
       "1168    ultra           25350\n",
       "1172    smart           24434\n",
       "1126    ultra           23850\n",
       "1255    ultra           23700\n",
       "1381    ultra           23700\n",
       "1375    ultra           23400\n",
       "1396    ultra           23400"
      ]
     },
     "execution_count": 42,
     "metadata": {},
     "output_type": "execute_result"
    }
   ],
   "source": [
    "# юзеры с самым большим уровнем выручки за год\n",
    "merged.groupby(['user_id', 'tariff'])[['total_revenue']].sum().sort_values('total_revenue', ascending=False).head(15)"
   ]
  },
  {
   "cell_type": "code",
   "execution_count": 43,
   "metadata": {},
   "outputs": [
    {
     "name": "stdout",
     "output_type": "stream",
     "text": [
      "2.04 млн общая выручка с абонентов тарифа Ultra\n",
      "2.89 млн общая выручка с абонентов тарифа Smart\n"
     ]
    }
   ],
   "source": [
    "print((merged.query('tariff == \"ultra\"')['total_revenue'].sum() /1000000).round(2),'млн общая выручка с абонентов тарифа Ultra')\n",
    "print((merged.query('tariff == \"smart\"')['total_revenue'].sum() /1000000).round(2),'млн общая выручка с абонентов тарифа Smart')"
   ]
  },
  {
   "cell_type": "code",
   "execution_count": 44,
   "metadata": {},
   "outputs": [],
   "source": [
    "# создаем таблицу для рассчетов стандартного отклонения и дисперсии\n",
    "userstats = merged.pivot_table(index=['user_id', 'tariff'], values=['call_sum', 'mb_sum', 'message_count']).reset_index()"
   ]
  },
  {
   "cell_type": "code",
   "execution_count": 45,
   "metadata": {},
   "outputs": [
    {
     "name": "stdout",
     "output_type": "stream",
     "text": [
      "Стандартное отклонение для абонентов тарифа Smart\n"
     ]
    },
    {
     "data": {
      "text/plain": [
       "user_id           145.033439\n",
       "call_sum          143.473707\n",
       "mb_sum           3581.630188\n",
       "message_count      24.849738\n",
       "dtype: float64"
      ]
     },
     "metadata": {},
     "output_type": "display_data"
    },
    {
     "name": "stdout",
     "output_type": "stream",
     "text": [
      "Стандартное отклонение для абонентов тарифа Ultra\n"
     ]
    },
    {
     "data": {
      "text/plain": [
       "user_id           143.031861\n",
       "call_sum          268.338363\n",
       "mb_sum           8178.259984\n",
       "message_count      43.390612\n",
       "dtype: float64"
      ]
     },
     "metadata": {},
     "output_type": "display_data"
    }
   ],
   "source": [
    "smartstats = userstats.query('tariff == \"smart\"')\n",
    "ultrastats = userstats.query('tariff == \"ultra\"')\n",
    "\n",
    "print('Стандартное отклонение для абонентов тарифа Smart')\n",
    "display(np.std(smartstats, ddof=1))\n",
    "print('Стандартное отклонение для абонентов тарифа Ultra')\n",
    "display(np.std(ultrastats, ddof=1))"
   ]
  },
  {
   "cell_type": "code",
   "execution_count": 46,
   "metadata": {},
   "outputs": [
    {
     "name": "stdout",
     "output_type": "stream",
     "text": [
      "Дисперсия для абонентов тарифа Smart\n"
     ]
    },
    {
     "data": {
      "text/plain": [
       "user_id          2.103470e+04\n",
       "call_sum         2.058470e+04\n",
       "mb_sum           1.282807e+07\n",
       "message_count    6.175095e+02\n",
       "dtype: float64"
      ]
     },
     "metadata": {},
     "output_type": "display_data"
    },
    {
     "name": "stdout",
     "output_type": "stream",
     "text": [
      "Дисперсия для абонентов тарифа Ultra\n"
     ]
    },
    {
     "data": {
      "text/plain": [
       "user_id          2.045811e+04\n",
       "call_sum         7.200548e+04\n",
       "mb_sum           6.688394e+07\n",
       "message_count    1.882745e+03\n",
       "dtype: float64"
      ]
     },
     "metadata": {},
     "output_type": "display_data"
    }
   ],
   "source": [
    "print('Дисперсия для абонентов тарифа Smart')\n",
    "display(np.var(smartstats, ddof=1))\n",
    "print('Дисперсия для абонентов тарифа Ultra')\n",
    "display(np.var(ultrastats, ddof=1))"
   ]
  },
  {
   "cell_type": "code",
   "execution_count": 47,
   "metadata": {},
   "outputs": [],
   "source": [
    "# мини-функция для правила 3 сигм\n",
    "\n",
    "def std_counter(column):\n",
    "    minus3std = column.mean() - 3 * column.std()\n",
    "    plus3std = column.mean() + 3 * column.std()\n",
    "    return minus3std, plus3std"
   ]
  },
  {
   "cell_type": "code",
   "execution_count": 48,
   "metadata": {},
   "outputs": [
    {
     "name": "stdout",
     "output_type": "stream",
     "text": [
      "Значения от -3 до +3 сигм абонентов тарифа Ultra\n",
      "================================================\n",
      "(-375.3261575456112, 1466.228365747504) — по длительности звонков\n",
      "(-10169.403982797001, 49542.938341771354) — по интернет-трафику\n",
      "(-76.63207280317309, 198.95408538178944) — по количеству сообщений\n"
     ]
    }
   ],
   "source": [
    "print('Значения от -3 до +3 сигм абонентов тарифа Ultra')\n",
    "print('================================================')\n",
    "print(std_counter(ultrausers['call_sum']),'— по длительности звонков')\n",
    "print(std_counter(ultrausers['mb_sum']),'— по интернет-трафику')\n",
    "print(std_counter(ultrausers['message_count']),'— по количеству сообщений')"
   ]
  },
  {
   "cell_type": "code",
   "execution_count": 49,
   "metadata": {},
   "outputs": [
    {
     "name": "stdout",
     "output_type": "stream",
     "text": [
      "Значения от -3 до +3 сигм абонентов тарифа Smart\n",
      "================================================\n",
      "(-148.91387541053132, 987.0398313259609) — по длительности звонков\n",
      "(-1370.0007943518285, 33842.94603672167) — по интернет-трафику\n",
      "(-41.64740520770307, 119.08028762185499) — по количеству сообщений\n"
     ]
    }
   ],
   "source": [
    "print('Значения от -3 до +3 сигм абонентов тарифа Smart')\n",
    "print('================================================')\n",
    "print(std_counter(smartusers['call_sum']),'— по длительности звонков')\n",
    "print(std_counter(smartusers['mb_sum']),'— по интернет-трафику')\n",
    "print(std_counter(smartusers['message_count']),'— по количеству сообщений')"
   ]
  },
  {
   "cell_type": "markdown",
   "metadata": {},
   "source": [
    "<a id='cell302'></a>"
   ]
  },
  {
   "cell_type": "code",
   "execution_count": 50,
   "metadata": {},
   "outputs": [
    {
     "data": {
      "image/png": "[encoded data removed]",
      "text/plain": [
       "<Figure size 432x288 with 1 Axes>"
      ]
     },
     "metadata": {
      "needs_background": "light"
     },
     "output_type": "display_data"
    }
   ],
   "source": [
    "# графики плотности по звонкам для обоих тарифов\n",
    "\n",
    "smartusers['call_sum'].plot.kde();\n",
    "ultrausers['call_sum'].plot.kde();\n",
    "\n",
    "plt.legend(prop={'size': 12}, labels=['Smart', 'Ultra'], title = 'Тариф' )\n",
    "plt.title('График плотности по длительности звонков для обоих тарифов')\n",
    "plt.xlabel('Длительность звонков (мин)')\n",
    "plt.ylabel('Плотность');"
   ]
  },
  {
   "cell_type": "code",
   "execution_count": 51,
   "metadata": {},
   "outputs": [
    {
     "data": {
      "image/png": "[encoded data removed]",
      "text/plain": [
       "<Figure size 432x288 with 1 Axes>"
      ]
     },
     "metadata": {
      "needs_background": "light"
     },
     "output_type": "display_data"
    }
   ],
   "source": [
    "# графики плотности по трафику для обоих тарифов\n",
    "\n",
    "smartusers['mb_sum'].plot.kde();\n",
    "ultrausers['mb_sum'].plot.kde();\n",
    "\n",
    "plt.legend(prop={'size': 12}, labels=['Smart', 'Ultra'], title = 'Тариф' )\n",
    "plt.title('График плотности по трафику для обоих тарифов')\n",
    "plt.xlabel('Интернет-трафик (Мб)')\n",
    "plt.ylabel('Плотность');"
   ]
  },
  {
   "cell_type": "code",
   "execution_count": 52,
   "metadata": {},
   "outputs": [
    {
     "data": {
      "image/png": "[encoded data removed]",
      "text/plain": [
       "<Figure size 432x288 with 1 Axes>"
      ]
     },
     "metadata": {
      "needs_background": "light"
     },
     "output_type": "display_data"
    }
   ],
   "source": [
    "# графики плотности по сообщениям для обоих тарифов\n",
    "\n",
    "smartusers['message_count'].plot.kde();\n",
    "ultrausers['message_count'].plot.kde();\n",
    "\n",
    "plt.legend(prop={'size': 12}, labels=['Smart', 'Ultra'], title = 'Тариф' )\n",
    "plt.title('График плотности по кол-ву сообщений для обоих тарифов')\n",
    "plt.xlabel('Количество сообщений')\n",
    "plt.ylabel('Плотность');"
   ]
  },
  {
   "cell_type": "code",
   "execution_count": 53,
   "metadata": {},
   "outputs": [],
   "source": [
    "# функция для фильтрации выбросов\n",
    "\n",
    "def outliers(df, column, graphic=0, x = 7, y = 7):\n",
    "    q1 = df[column].quantile(0.25)\n",
    "    q3 = df[column].quantile(0.75)\n",
    "    iqr = q3 - q1\n",
    "    iqr_test = (df[column] >= (q1 - 1.5 * iqr)) & (df[column] <= (q3 + 1.5 * iqr))\n",
    "    if graphic == 1:\n",
    "        return df.loc[iqr_test].boxplot([column], figsize=(x,y))\n",
    "    else:\n",
    "        return df.loc[iqr_test]"
   ]
  },
  {
   "cell_type": "code",
   "execution_count": 54,
   "metadata": {},
   "outputs": [
    {
     "data": {
      "image/png": "[encoded data removed]",
      "text/plain": [
       "<Figure size 504x504 with 1 Axes>"
      ]
     },
     "metadata": {
      "needs_background": "light"
     },
     "output_type": "display_data"
    }
   ],
   "source": [
    "# боксплот с выбросами для примера\n",
    "merged.boxplot('call_sum', figsize=(7,7));\n",
    "plt.title('Звонки с выбросами');"
   ]
  },
  {
   "cell_type": "code",
   "execution_count": 55,
   "metadata": {},
   "outputs": [
    {
     "data": {
      "image/png": "[encoded data removed]",
      "text/plain": [
       "<Figure size 504x504 with 1 Axes>"
      ]
     },
     "metadata": {
      "needs_background": "light"
     },
     "output_type": "display_data"
    }
   ],
   "source": [
    "# боксплот после функции \n",
    "outliers(merged, 'call_sum', 1); \n",
    "plt.title('Звонки после функции');"
   ]
  },
  {
   "cell_type": "code",
   "execution_count": 56,
   "metadata": {},
   "outputs": [
    {
     "data": {
      "image/png": "[encoded data removed]",
      "text/plain": [
       "<Figure size 504x504 with 1 Axes>"
      ]
     },
     "metadata": {
      "needs_background": "light"
     },
     "output_type": "display_data"
    }
   ],
   "source": [
    "merged.boxplot('mb_sum', figsize=(7,7));\n",
    "plt.title('Трафик с выбросами');"
   ]
  },
  {
   "cell_type": "code",
   "execution_count": 57,
   "metadata": {},
   "outputs": [
    {
     "data": {
      "image/png": "[encoded data removed]",
      "text/plain": [
       "<Figure size 504x504 with 1 Axes>"
      ]
     },
     "metadata": {
      "needs_background": "light"
     },
     "output_type": "display_data"
    }
   ],
   "source": [
    "outliers(merged, 'mb_sum', 1); \n",
    "plt.title('Трафик после обработки');"
   ]
  },
  {
   "cell_type": "code",
   "execution_count": 58,
   "metadata": {},
   "outputs": [
    {
     "data": {
      "image/png": "[encoded data removed]",
      "text/plain": [
       "<Figure size 504x504 with 1 Axes>"
      ]
     },
     "metadata": {
      "needs_background": "light"
     },
     "output_type": "display_data"
    }
   ],
   "source": [
    "merged.boxplot('mb_sum', figsize=(7,7));\n",
    "plt.title('Сообщения с выбросами');"
   ]
  },
  {
   "cell_type": "code",
   "execution_count": 59,
   "metadata": {},
   "outputs": [
    {
     "data": {
      "image/png": "[encoded data removed]",
      "text/plain": [
       "<Figure size 504x504 with 1 Axes>"
      ]
     },
     "metadata": {
      "needs_background": "light"
     },
     "output_type": "display_data"
    }
   ],
   "source": [
    "outliers(merged, 'message_count', 1); \n",
    "plt.title('Сообщения после обработки');"
   ]
  },
  {
   "cell_type": "code",
   "execution_count": 60,
   "metadata": {},
   "outputs": [
    {
     "data": {
      "image/png": "[encoded data removed]",
      "text/plain": [
       "<Figure size 504x504 with 1 Axes>"
      ]
     },
     "metadata": {
      "needs_background": "light"
     },
     "output_type": "display_data"
    }
   ],
   "source": [
    "# диаграмма размаха для обоих тарифов\n",
    "usersinfo.boxplot('total_revenue', by='tariff', figsize=(7,7));"
   ]
  },
  {
   "cell_type": "code",
   "execution_count": 61,
   "metadata": {},
   "outputs": [
    {
     "data": {
      "text/html": [
       "<div>\n",
       "<style scoped>\n",
       "    .dataframe tbody tr th:only-of-type {\n",
       "        vertical-align: middle;\n",
       "    }\n",
       "\n",
       "    .dataframe tbody tr th {\n",
       "        vertical-align: top;\n",
       "    }\n",
       "\n",
       "    .dataframe thead th {\n",
       "        text-align: right;\n",
       "    }\n",
       "</style>\n",
       "<table border=\"1\" class=\"dataframe\">\n",
       "  <thead>\n",
       "    <tr style=\"text-align: right;\">\n",
       "      <th></th>\n",
       "      <th>user_id</th>\n",
       "      <th>month</th>\n",
       "      <th>call_count</th>\n",
       "      <th>call_sum</th>\n",
       "      <th>internet_count</th>\n",
       "      <th>mb_sum</th>\n",
       "      <th>message_count</th>\n",
       "      <th>age</th>\n",
       "      <th>churn_date</th>\n",
       "      <th>city</th>\n",
       "      <th>first_name</th>\n",
       "      <th>last_name</th>\n",
       "      <th>reg_date</th>\n",
       "      <th>tariff</th>\n",
       "      <th>calls_revenue</th>\n",
       "      <th>internet_revenue</th>\n",
       "      <th>message_revenue</th>\n",
       "      <th>total_revenue</th>\n",
       "    </tr>\n",
       "  </thead>\n",
       "  <tbody>\n",
       "    <tr>\n",
       "      <th>0</th>\n",
       "      <td>1000</td>\n",
       "      <td>5.0</td>\n",
       "      <td>22.0</td>\n",
       "      <td>159.0</td>\n",
       "      <td>5.0</td>\n",
       "      <td>2256.0</td>\n",
       "      <td>22.0</td>\n",
       "      <td>52</td>\n",
       "      <td>NaT</td>\n",
       "      <td>Краснодар</td>\n",
       "      <td>Рафаил</td>\n",
       "      <td>Верещагин</td>\n",
       "      <td>2018-05-25</td>\n",
       "      <td>ultra</td>\n",
       "      <td>1950</td>\n",
       "      <td>0</td>\n",
       "      <td>0</td>\n",
       "      <td>1950</td>\n",
       "    </tr>\n",
       "    <tr>\n",
       "      <th>1</th>\n",
       "      <td>1000</td>\n",
       "      <td>6.0</td>\n",
       "      <td>43.0</td>\n",
       "      <td>172.0</td>\n",
       "      <td>49.0</td>\n",
       "      <td>23257.0</td>\n",
       "      <td>60.0</td>\n",
       "      <td>52</td>\n",
       "      <td>NaT</td>\n",
       "      <td>Краснодар</td>\n",
       "      <td>Рафаил</td>\n",
       "      <td>Верещагин</td>\n",
       "      <td>2018-05-25</td>\n",
       "      <td>ultra</td>\n",
       "      <td>1950</td>\n",
       "      <td>0</td>\n",
       "      <td>0</td>\n",
       "      <td>1950</td>\n",
       "    </tr>\n",
       "    <tr>\n",
       "      <th>2</th>\n",
       "      <td>1000</td>\n",
       "      <td>7.0</td>\n",
       "      <td>47.0</td>\n",
       "      <td>340.0</td>\n",
       "      <td>29.0</td>\n",
       "      <td>14016.0</td>\n",
       "      <td>75.0</td>\n",
       "      <td>52</td>\n",
       "      <td>NaT</td>\n",
       "      <td>Краснодар</td>\n",
       "      <td>Рафаил</td>\n",
       "      <td>Верещагин</td>\n",
       "      <td>2018-05-25</td>\n",
       "      <td>ultra</td>\n",
       "      <td>1950</td>\n",
       "      <td>0</td>\n",
       "      <td>0</td>\n",
       "      <td>1950</td>\n",
       "    </tr>\n",
       "    <tr>\n",
       "      <th>3</th>\n",
       "      <td>1000</td>\n",
       "      <td>8.0</td>\n",
       "      <td>52.0</td>\n",
       "      <td>408.0</td>\n",
       "      <td>29.0</td>\n",
       "      <td>14070.0</td>\n",
       "      <td>81.0</td>\n",
       "      <td>52</td>\n",
       "      <td>NaT</td>\n",
       "      <td>Краснодар</td>\n",
       "      <td>Рафаил</td>\n",
       "      <td>Верещагин</td>\n",
       "      <td>2018-05-25</td>\n",
       "      <td>ultra</td>\n",
       "      <td>1950</td>\n",
       "      <td>0</td>\n",
       "      <td>0</td>\n",
       "      <td>1950</td>\n",
       "    </tr>\n",
       "    <tr>\n",
       "      <th>4</th>\n",
       "      <td>1000</td>\n",
       "      <td>9.0</td>\n",
       "      <td>58.0</td>\n",
       "      <td>466.0</td>\n",
       "      <td>27.0</td>\n",
       "      <td>14581.0</td>\n",
       "      <td>57.0</td>\n",
       "      <td>52</td>\n",
       "      <td>NaT</td>\n",
       "      <td>Краснодар</td>\n",
       "      <td>Рафаил</td>\n",
       "      <td>Верещагин</td>\n",
       "      <td>2018-05-25</td>\n",
       "      <td>ultra</td>\n",
       "      <td>1950</td>\n",
       "      <td>0</td>\n",
       "      <td>0</td>\n",
       "      <td>1950</td>\n",
       "    </tr>\n",
       "    <tr>\n",
       "      <th>...</th>\n",
       "      <td>...</td>\n",
       "      <td>...</td>\n",
       "      <td>...</td>\n",
       "      <td>...</td>\n",
       "      <td>...</td>\n",
       "      <td>...</td>\n",
       "      <td>...</td>\n",
       "      <td>...</td>\n",
       "      <td>...</td>\n",
       "      <td>...</td>\n",
       "      <td>...</td>\n",
       "      <td>...</td>\n",
       "      <td>...</td>\n",
       "      <td>...</td>\n",
       "      <td>...</td>\n",
       "      <td>...</td>\n",
       "      <td>...</td>\n",
       "      <td>...</td>\n",
       "    </tr>\n",
       "    <tr>\n",
       "      <th>3211</th>\n",
       "      <td>1489</td>\n",
       "      <td>10.0</td>\n",
       "      <td>NaN</td>\n",
       "      <td>NaN</td>\n",
       "      <td>63.0</td>\n",
       "      <td>19588.0</td>\n",
       "      <td>21.0</td>\n",
       "      <td>35</td>\n",
       "      <td>NaT</td>\n",
       "      <td>Санкт-Петербург</td>\n",
       "      <td>Павел</td>\n",
       "      <td>Гончаров</td>\n",
       "      <td>2018-08-15</td>\n",
       "      <td>smart</td>\n",
       "      <td>550</td>\n",
       "      <td>1000</td>\n",
       "      <td>0</td>\n",
       "      <td>1550</td>\n",
       "    </tr>\n",
       "    <tr>\n",
       "      <th>3212</th>\n",
       "      <td>1489</td>\n",
       "      <td>11.0</td>\n",
       "      <td>NaN</td>\n",
       "      <td>NaN</td>\n",
       "      <td>55.0</td>\n",
       "      <td>17516.0</td>\n",
       "      <td>20.0</td>\n",
       "      <td>35</td>\n",
       "      <td>NaT</td>\n",
       "      <td>Санкт-Петербург</td>\n",
       "      <td>Павел</td>\n",
       "      <td>Гончаров</td>\n",
       "      <td>2018-08-15</td>\n",
       "      <td>smart</td>\n",
       "      <td>550</td>\n",
       "      <td>600</td>\n",
       "      <td>0</td>\n",
       "      <td>1150</td>\n",
       "    </tr>\n",
       "    <tr>\n",
       "      <th>3213</th>\n",
       "      <td>1489</td>\n",
       "      <td>12.0</td>\n",
       "      <td>NaN</td>\n",
       "      <td>NaN</td>\n",
       "      <td>51.0</td>\n",
       "      <td>17341.0</td>\n",
       "      <td>35.0</td>\n",
       "      <td>35</td>\n",
       "      <td>NaT</td>\n",
       "      <td>Санкт-Петербург</td>\n",
       "      <td>Павел</td>\n",
       "      <td>Гончаров</td>\n",
       "      <td>2018-08-15</td>\n",
       "      <td>smart</td>\n",
       "      <td>550</td>\n",
       "      <td>400</td>\n",
       "      <td>0</td>\n",
       "      <td>950</td>\n",
       "    </tr>\n",
       "    <tr>\n",
       "      <th>3214</th>\n",
       "      <td>1128</td>\n",
       "      <td>NaN</td>\n",
       "      <td>NaN</td>\n",
       "      <td>NaN</td>\n",
       "      <td>NaN</td>\n",
       "      <td>NaN</td>\n",
       "      <td>NaN</td>\n",
       "      <td>51</td>\n",
       "      <td>2018-12-23</td>\n",
       "      <td>Волжский</td>\n",
       "      <td>Ксения</td>\n",
       "      <td>Агаева</td>\n",
       "      <td>2018-12-15</td>\n",
       "      <td>ultra</td>\n",
       "      <td>1950</td>\n",
       "      <td>0</td>\n",
       "      <td>0</td>\n",
       "      <td>1950</td>\n",
       "    </tr>\n",
       "    <tr>\n",
       "      <th>3215</th>\n",
       "      <td>1371</td>\n",
       "      <td>NaN</td>\n",
       "      <td>NaN</td>\n",
       "      <td>NaN</td>\n",
       "      <td>NaN</td>\n",
       "      <td>NaN</td>\n",
       "      <td>NaN</td>\n",
       "      <td>50</td>\n",
       "      <td>2018-12-30</td>\n",
       "      <td>Омск</td>\n",
       "      <td>Ириней</td>\n",
       "      <td>Трофимов</td>\n",
       "      <td>2018-12-25</td>\n",
       "      <td>smart</td>\n",
       "      <td>550</td>\n",
       "      <td>0</td>\n",
       "      <td>0</td>\n",
       "      <td>550</td>\n",
       "    </tr>\n",
       "  </tbody>\n",
       "</table>\n",
       "<p>3216 rows × 18 columns</p>\n",
       "</div>"
      ],
      "text/plain": [
       "      user_id  month  call_count  call_sum  internet_count   mb_sum  \\\n",
       "0        1000    5.0        22.0     159.0             5.0   2256.0   \n",
       "1        1000    6.0        43.0     172.0            49.0  23257.0   \n",
       "2        1000    7.0        47.0     340.0            29.0  14016.0   \n",
       "3        1000    8.0        52.0     408.0            29.0  14070.0   \n",
       "4        1000    9.0        58.0     466.0            27.0  14581.0   \n",
       "...       ...    ...         ...       ...             ...      ...   \n",
       "3211     1489   10.0         NaN       NaN            63.0  19588.0   \n",
       "3212     1489   11.0         NaN       NaN            55.0  17516.0   \n",
       "3213     1489   12.0         NaN       NaN            51.0  17341.0   \n",
       "3214     1128    NaN         NaN       NaN             NaN      NaN   \n",
       "3215     1371    NaN         NaN       NaN             NaN      NaN   \n",
       "\n",
       "      message_count  age churn_date             city first_name  last_name  \\\n",
       "0              22.0   52        NaT        Краснодар     Рафаил  Верещагин   \n",
       "1              60.0   52        NaT        Краснодар     Рафаил  Верещагин   \n",
       "2              75.0   52        NaT        Краснодар     Рафаил  Верещагин   \n",
       "3              81.0   52        NaT        Краснодар     Рафаил  Верещагин   \n",
       "4              57.0   52        NaT        Краснодар     Рафаил  Верещагин   \n",
       "...             ...  ...        ...              ...        ...        ...   \n",
       "3211           21.0   35        NaT  Санкт-Петербург      Павел   Гончаров   \n",
       "3212           20.0   35        NaT  Санкт-Петербург      Павел   Гончаров   \n",
       "3213           35.0   35        NaT  Санкт-Петербург      Павел   Гончаров   \n",
       "3214            NaN   51 2018-12-23         Волжский     Ксения     Агаева   \n",
       "3215            NaN   50 2018-12-30             Омск     Ириней   Трофимов   \n",
       "\n",
       "       reg_date tariff  calls_revenue  internet_revenue  message_revenue  \\\n",
       "0    2018-05-25  ultra           1950                 0                0   \n",
       "1    2018-05-25  ultra           1950                 0                0   \n",
       "2    2018-05-25  ultra           1950                 0                0   \n",
       "3    2018-05-25  ultra           1950                 0                0   \n",
       "4    2018-05-25  ultra           1950                 0                0   \n",
       "...         ...    ...            ...               ...              ...   \n",
       "3211 2018-08-15  smart            550              1000                0   \n",
       "3212 2018-08-15  smart            550               600                0   \n",
       "3213 2018-08-15  smart            550               400                0   \n",
       "3214 2018-12-15  ultra           1950                 0                0   \n",
       "3215 2018-12-25  smart            550                 0                0   \n",
       "\n",
       "      total_revenue  \n",
       "0              1950  \n",
       "1              1950  \n",
       "2              1950  \n",
       "3              1950  \n",
       "4              1950  \n",
       "...             ...  \n",
       "3211           1550  \n",
       "3212           1150  \n",
       "3213            950  \n",
       "3214           1950  \n",
       "3215            550  \n",
       "\n",
       "[3216 rows x 18 columns]"
      ]
     },
     "execution_count": 61,
     "metadata": {},
     "output_type": "execute_result"
    }
   ],
   "source": [
    "tariffs = tariffs.rename({'tariff_name':'tariff'}, axis=1)\n",
    "merged"
   ]
  },
  {
   "cell_type": "code",
   "execution_count": 62,
   "metadata": {},
   "outputs": [],
   "source": [
    "# # объединяем таблицу с данными по тарифами с таблицей с пользователями\n",
    "tariffs = tariffs.rename({'tariff_name':'tariff'}, axis=1)\n",
    "tariff_stats = merged.merge(tariffs, on='tariff', how='outer')"
   ]
  },
  {
   "cell_type": "code",
   "execution_count": 63,
   "metadata": {},
   "outputs": [],
   "source": [
    "# создадим новые столбцы с долями использования пакетов звонков, интернета и смс \n",
    "\n",
    "tariff_stats['usedcalls_share'] = tariff_stats['call_sum'] / tariff_stats['minutes_included'] * 100\n",
    "tariff_stats['usedmb_share'] = tariff_stats['mb_sum'] / tariff_stats['mb_per_month_included'] * 100\n",
    "tariff_stats['usedmsg_share'] = tariff_stats['message_count'] / tariff_stats['messages_included'] * 100"
   ]
  },
  {
   "cell_type": "code",
   "execution_count": 64,
   "metadata": {},
   "outputs": [
    {
     "data": {
      "text/plain": [
       "495"
      ]
     },
     "execution_count": 64,
     "metadata": {},
     "output_type": "execute_result"
    }
   ],
   "source": [
    "# количество пользователей в базе, которые не используют хотя бы один пакет полностью \n",
    "tariff_stats.query('usedcalls_share < 100 | usedmb_share < 100 | usedmsg_share < 100')['user_id'].nunique()"
   ]
  },
  {
   "cell_type": "code",
   "execution_count": 65,
   "metadata": {},
   "outputs": [
    {
     "data": {
      "text/html": [
       "<div>\n",
       "<style scoped>\n",
       "    .dataframe tbody tr th:only-of-type {\n",
       "        vertical-align: middle;\n",
       "    }\n",
       "\n",
       "    .dataframe tbody tr th {\n",
       "        vertical-align: top;\n",
       "    }\n",
       "\n",
       "    .dataframe thead th {\n",
       "        text-align: right;\n",
       "    }\n",
       "</style>\n",
       "<table border=\"1\" class=\"dataframe\">\n",
       "  <thead>\n",
       "    <tr style=\"text-align: right;\">\n",
       "      <th></th>\n",
       "      <th>user_id</th>\n",
       "    </tr>\n",
       "    <tr>\n",
       "      <th>tariff</th>\n",
       "      <th></th>\n",
       "    </tr>\n",
       "  </thead>\n",
       "  <tbody>\n",
       "    <tr>\n",
       "      <th>smart</th>\n",
       "      <td>347</td>\n",
       "    </tr>\n",
       "    <tr>\n",
       "      <th>ultra</th>\n",
       "      <td>148</td>\n",
       "    </tr>\n",
       "  </tbody>\n",
       "</table>\n",
       "</div>"
      ],
      "text/plain": [
       "        user_id\n",
       "tariff         \n",
       "smart       347\n",
       "ultra       148"
      ]
     },
     "execution_count": 65,
     "metadata": {},
     "output_type": "execute_result"
    }
   ],
   "source": [
    "# количество пользователей тарифов, не использующих хотя бы один пакет на 100%\n",
    "\n",
    "notused = tariff_stats.query('usedcalls_share < 100 | usedmb_share < 100 | usedmsg_share < 100')\n",
    "notused.groupby('tariff')[['user_id']].nunique()"
   ]
  },
  {
   "cell_type": "code",
   "execution_count": 66,
   "metadata": {},
   "outputs": [
    {
     "name": "stdout",
     "output_type": "stream",
     "text": [
      "Пользователи, не использовавшие пакет минут: 473\n",
      "Пользователи, не использовавшие пакет интернета: 460\n",
      "Пользователи, не использовавшие пакет сообщений: 396\n"
     ]
    }
   ],
   "source": [
    "print('Пользователи, не использовавшие пакет минут:', tariff_stats.query('usedcalls_share < 100')['user_id'].nunique())\n",
    "print('Пользователи, не использовавшие пакет интернета:', tariff_stats.query('usedmb_share < 100')['user_id'].nunique()) \n",
    "print('Пользователи, не использовавшие пакет сообщений:', tariff_stats.query('usedmsg_share < 100')['user_id'].nunique())"
   ]
  },
  {
   "cell_type": "markdown",
   "metadata": {},
   "source": [
    "Всего в базе 500 пользователей, из них: 351 абоненты тарифа Smart, 149 - тарифа Ultra. Несмотря на значительно меньшую абонентскую базу, засчет высокой стоимости абонентской платы пользователи тарифа Ultra принесли 40% от общей выручки, чуть больше 2 млн рублей. Абоненты тарифа Smart потратили 2.89 млн рублей, то есть, 60% от общей выручки, соответственно.\n",
    "\n",
    "При этом большая часть выручки от пользователей тарифа Ultra приходится именно на абонентскую плату. Медианный доход месячный доход без учета абонентской платы составил 0 рублей. Преобладающее большинство пользователей тарифа Ultra не выходят за рамки предоставляемых пакетов и не тратят дополнительно. Однако среди [топ-15 клиентов](#cell301) с самыми высокими расходами на связь, большую часть занимают абоненты тарифа Ultra (11 мест), при это начиная с 13 места и выше суммы уже превышают максимально возможную годовую выручку только с абонентской платы (23400 рублей). \n",
    "\n",
    "Почти все пользователи обоих тарифов не расходуют хотя бы один пакет, включенный в абонетскую плату на 100%. Большая часть пользователей не использует пакеты минут и сообщений полностью. Чуть лучше ситуация с пакетов СМС, однако и там большая часть пакетов остается неизрасходованной.\n",
    "\n",
    "Таким образом, 1 абонент тарифа Ultra приносит оператору столько же денег сколько почти 2 клиента тарифа Smart.\n",
    "\n",
    "На [графиках плотности](#cell302) видно, что в целом данные по пользователям распределены нормально. Для обоих тарифов данные по отправленным сообщениям немного больше скошены вправо, особенно это заметно для тарифа Ultra.\n",
    "\n"
   ]
  },
  {
   "cell_type": "markdown",
   "metadata": {},
   "source": [
    "## 4. Проверка гипотез\n",
    "<a id='cell4'></a> "
   ]
  },
  {
   "cell_type": "code",
   "execution_count": 67,
   "metadata": {},
   "outputs": [
    {
     "name": "stdout",
     "output_type": "stream",
     "text": [
      "8223.65 : cредняя выручка с абонентов тарифа Smart за год\n",
      "13704.36 : cредняя выручка с абонентов тарифа Ultra за год\n",
      "7887.43 : cредняя выручка с абонентов тарифа Smart за год после обработки\n",
      "13704.36 : cредняя выручка с абонентов тарифа Ultra за год после обработки\n"
     ]
    }
   ],
   "source": [
    "# сохраняем нужные срезы юзеров по тарифам и общей выручке для удобства рассчетов\n",
    "\n",
    "s = usersinfo.query('tariff == \"smart\"')['total_revenue']\n",
    "u = usersinfo.query('tariff == \"ultra\"')['total_revenue']\n",
    "s_clean = outliers(usersinfo.query('tariff == \"smart\"'), 'total_revenue')['total_revenue']\n",
    "u_clean = outliers(usersinfo.query('tariff == \"ultra\"'), 'total_revenue')['total_revenue']\n",
    "\n",
    "# для понимания выводим средние данные по выручке \n",
    "\n",
    "print(round(s.mean(), 2),': cредняя выручка с абонентов тарифа Smart за год')\n",
    "print(round(u.mean(), 2),': cредняя выручка с абонентов тарифа Ultra за год')\n",
    "print(round(s_clean.mean(), 2),': cредняя выручка с абонентов тарифа Smart за год после обработки')\n",
    "print(round(u_clean.mean(), 2),': cредняя выручка с абонентов тарифа Ultra за год после обработки')"
   ]
  },
  {
   "cell_type": "markdown",
   "metadata": {},
   "source": [
    "<a id='cell401'></a>"
   ]
  },
  {
   "cell_type": "code",
   "execution_count": 68,
   "metadata": {},
   "outputs": [
    {
     "name": "stdout",
     "output_type": "stream",
     "text": [
      "p-значение:  1.886955871960231e-17\n",
      "Отвергаем нулевую гипотезу\n",
      "\n",
      "p-значение:  5.2997453596577345e-19\n",
      "Отвергаем нулевую гипотезу\n"
     ]
    }
   ],
   "source": [
    "# t-test первой гипотезы на одной выборке\n",
    "\n",
    "our_value = 8223.65 # средняя выручка с абонента тарифа Smart за год(с ней будем сравнивать нашу выборку юзеров тарифа Ultra)\n",
    "our_value_clean = 7887.43 # средняя выручка с абонента тарифа Smart за год после удаления выбросов\n",
    "alpha = 0.05\n",
    "\n",
    "results = st.ttest_1samp(u, our_value) \n",
    "results_clean = st.ttest_1samp(u_clean, our_value_clean)\n",
    "\n",
    "print('p-значение: ', results.pvalue)\n",
    "if results.pvalue < alpha:\n",
    "    print(\"Отвергаем нулевую гипотезу\")\n",
    "else:\n",
    "    print(\"Не получилось отвергнуть нулевую гипотезу\")\n",
    "print()    \n",
    "print('p-значение: ', results_clean.pvalue)\n",
    "\n",
    "if results_clean.pvalue < alpha:\n",
    "    print(\"Отвергаем нулевую гипотезу\")\n",
    "else:\n",
    "    print(\"Не получилось отвергнуть нулевую гипотезу\")    "
   ]
  },
  {
   "cell_type": "code",
   "execution_count": 69,
   "metadata": {},
   "outputs": [
    {
     "name": "stdout",
     "output_type": "stream",
     "text": [
      "p-значение:  1.037647934216547e-19\n",
      "Отвергаем нулевую гипотезу\n",
      "\n",
      "p-значение:  1.0452682189443917e-23\n",
      "Отвергаем нулевую гипотезу\n"
     ]
    }
   ],
   "source": [
    "# t-test первой гипотезы на двух выборках между собой\n",
    "\n",
    "alpha = 0.05\n",
    "\n",
    "resultsind = st.ttest_ind(s, u) \n",
    "resultsind_clean = st.ttest_ind(s_clean, u_clean) \n",
    "\n",
    "print('p-значение: ', resultsind.pvalue)\n",
    "if resultsind.pvalue < alpha:\n",
    "    print(\"Отвергаем нулевую гипотезу\")\n",
    "else:\n",
    "    print(\"Не получилось отвергнуть нулевую гипотезу\")  \n",
    "print()    \n",
    "print('p-значение: ', resultsind_clean.pvalue)\n",
    "\n",
    "if resultsind_clean.pvalue < alpha:\n",
    "    print(\"Отвергаем нулевую гипотезу\")\n",
    "else:\n",
    "    print(\"Не получилось отвергнуть нулевую гипотезу\")      "
   ]
  },
  {
   "cell_type": "code",
   "execution_count": 70,
   "metadata": {},
   "outputs": [],
   "source": [
    "# создаем таблицу с разбивкой по пользователям и городам с нужными данными\n",
    "forcity = merged.pivot_table(index=['user_id', 'city'], values = ['total_revenue', 'month', 'call_sum', 'mb_sum', \n",
    "                   'message_count'], aggfunc={'month': 'count', 'total_revenue': 'sum', \n",
    "                   'call_sum': 'sum', 'mb_sum': 'sum', 'message_count': 'sum'}).reset_index()\n",
    "\n",
    "# меняем типы данных для визуальной чистоты\n",
    "forcity['call_sum'] = forcity['call_sum'].astype(int)\n",
    "forcity['mb_sum'] = forcity['mb_sum'].astype(int)\n",
    "forcity['message_count'] = forcity['message_count'].astype(int)"
   ]
  },
  {
   "cell_type": "code",
   "execution_count": 71,
   "metadata": {},
   "outputs": [
    {
     "name": "stdout",
     "output_type": "stream",
     "text": [
      "9571.13 : cредняя выручка с абонентов из Москвы за год\n",
      "9927.45 : cредняя выручка с абонентов из других регионов за год\n",
      "9382.57 : cредняя выручка с абонентов из Москвы за год после удаления выбросов\n",
      "9824.46 : cредняя выручка с абонентов из других регионов за год после удаления выбросов\n"
     ]
    }
   ],
   "source": [
    "# создаем срезы юзеров Москва/регионы для проверки второй гипотезы\n",
    "\n",
    "msk = forcity.query('city == \"Москва\"')['total_revenue']\n",
    "others = forcity.query('city != \"Москва\"')['total_revenue']\n",
    "msk_clean = outliers(forcity.query('city == \"Москва\"'), 'total_revenue')['total_revenue']\n",
    "others_clean = outliers(forcity.query('city != \"Москва\"'), 'total_revenue')['total_revenue']\n",
    "\n",
    "print(round(msk.mean(), 2),': cредняя выручка с абонентов из Москвы за год')\n",
    "print(round(others.mean(), 2),': cредняя выручка с абонентов из других регионов за год')\n",
    "print(round(msk_clean.mean(), 2),': cредняя выручка с абонентов из Москвы за год после удаления выбросов')\n",
    "print(round(others_clean.mean(), 2),': cредняя выручка с абонентов из других регионов за год после удаления выбросов')"
   ]
  },
  {
   "cell_type": "code",
   "execution_count": 72,
   "metadata": {},
   "outputs": [
    {
     "name": "stdout",
     "output_type": "stream",
     "text": [
      "p-значение:  0.26311124667429653\n",
      "Не получилось отвергнуть нулевую гипотезу\n",
      "\n",
      "p-значение:  0.15615449481314544\n",
      "Не получилось отвергнуть нулевую гипотезу\n"
     ]
    }
   ],
   "source": [
    "# t-test второй гипотезы на одной выборке\n",
    "\n",
    "mean_value = 9571.13 # средняя выручка с абонентов из Москвы за год(с ней будем сравнивать нашу выборку юзеров из регионов)\n",
    "mean_value_clean = 9382.57\n",
    "alpha = 0.05\n",
    "\n",
    "results_msk = st.ttest_1samp(others, mean_value) \n",
    "print('p-значение: ', results_msk.pvalue)\n",
    "if results_msk.pvalue < alpha:\n",
    "    print(\"Отвергаем нулевую гипотезу\")\n",
    "else:\n",
    "    print(\"Не получилось отвергнуть нулевую гипотезу\")\n",
    "print()    \n",
    "results_msk_clean = st.ttest_1samp(others_clean, mean_value_clean) \n",
    "print('p-значение: ', results_msk_clean.pvalue)\n",
    "\n",
    "if results_msk_clean.pvalue < alpha:\n",
    "    print(\"Отвергаем нулевую гипотезу\")\n",
    "else:\n",
    "    print(\"Не получилось отвергнуть нулевую гипотезу\")    "
   ]
  },
  {
   "cell_type": "code",
   "execution_count": 73,
   "metadata": {},
   "outputs": [
    {
     "name": "stdout",
     "output_type": "stream",
     "text": [
      "p-значение:  0.6212812931717919\n",
      "Не получилось отвергнуть нулевую гипотезу\n",
      "\n",
      "p-значение:  0.5309357043877707\n",
      "Не получилось отвергнуть нулевую гипотезу\n"
     ]
    }
   ],
   "source": [
    "# t-test второй гипотезы на двух выборках между собой\n",
    "\n",
    "alpha = 0.05\n",
    "\n",
    "resultsind_msk = st.ttest_ind(msk, others)\n",
    "resultsind_msk_clean = st.ttest_ind(msk_clean, others_clean)\n",
    "\n",
    "print('p-значение: ', resultsind_msk.pvalue)\n",
    "if resultsind_msk.pvalue < alpha:\n",
    "    print(\"Отвергаем нулевую гипотезу\")\n",
    "else:\n",
    "    print(\"Не получилось отвергнуть нулевую гипотезу\")\n",
    "print()\n",
    "\n",
    "print('p-значение: ', resultsind_msk_clean.pvalue)\n",
    "\n",
    "if resultsind_msk_clean.pvalue < alpha:\n",
    "    print(\"Отвергаем нулевую гипотезу\")\n",
    "else:\n",
    "    print(\"Не получилось отвергнуть нулевую гипотезу\")"
   ]
  },
  {
   "cell_type": "markdown",
   "metadata": {},
   "source": [
    "В описании проекта указана необходимость проверить две гипотезы: \n",
    "- средняя выручка пользователей тарифов «Ультра» и «Смарт» различается\n",
    "- средняя выручка пользователей из Москвы отличается от выручки пользователей из других регионов\n",
    "\n",
    "Для первой мы можем сформулировать нулевую гипотезу: **средняя выручка абонентов тарифов Ultra и Smart одинакова** (альтернативная гипотеза уже сформулирована).\n",
    "\n",
    "Для второй же, нулевая гипотеза звучит так: **средняя выручка пользователей из Москвы и пользователей из других регионов одинакова и не различается** (опять же альтернативная гипотеза уже сформулирована).\n",
    "\n",
    "Обе альтернативные гипотезы двухсторонние, оставил их как есть и не стал менять.\n",
    "\n",
    "В данном случае, нам подходит t-test для проверки гипотезы о равенстве среднего двух генеральных совокупностей по взятым из них выборкам. Также был проведен t-test по одной выборке, где в качестве ожидаемого значения установлено среднее значение выручки абонентов одного из тарифов.  \n",
    "\n",
    "После удаления выбросов результаты существенно не изменились. P-value, конечно, незначительно изменились, однако на гипотезах это не сказалось и средние значения изменились минимально.\n",
    "\n",
    "По результатам обоих тестов первой [гипотезы](#cell401) получены p-value, позволяющие однозначно опровергнуть нулевую гипотезу. Средние и медианные значения выручки также демонстрируют, что средняя выручка различается существенно. Мы видим, что выручка у пользователей тарифа Ultra почти в 2 раза больше. \n",
    "\n",
    "Результаты обоих тестов по второй [гипотезе](#cell402) показывают противоположный результат: у нас нет поводов отвергать нулевую гипотезу, то есть, средняя выручка абонентов из Москвы и других регионов, скорее всего, мало отличается. "
   ]
  },
  {
   "cell_type": "markdown",
   "metadata": {},
   "source": [
    "## 5. Общий вывод\n",
    "<a id='cell5'></a> "
   ]
  },
  {
   "cell_type": "markdown",
   "metadata": {},
   "source": [
    "По результатам проведенного анализа ответить на вопрос какой тариф лучше все еще сложно, но сказать какой тариф приносит больше денег легко. \n",
    "\n",
    "Данные 500 пользователей показывают, что если судить строго по суммам, то больше денег оператору приносит тариф Smart, 2.89 млн рублей против 2.03. Проблема заключается в том, что абонентов тарифа Ultra существенно меньше, а денег выручка каждого из абонентов больше, чем у пользователей тарифа Smart почти в два раза. \n",
    "\n",
    "Более того, у абонентов обоих тарифов достаточно разные сценарии использования связи: у тарифа Ultra пакеты предоставляют большее количество возможностей для абонентов и они, в свою очередь, могут меньше тратить на допуслуги. 50% клиентов тарифа Ultra не тратят ничего кроме ежемесячной абонентской платы, тогда как абоненты Smart в среднем тратят на связь сумму даже большую, чем абонентская плата ~ 700 рублей (медиана чуть ниже этой суммы, около 450 рублей).\n",
    "\n",
    "Средний чек на мобильную связь в 2019 году в России составлял чуть менее 400 рублей, согласно [данным](https://rg.ru/2019/09/11/skolko-rossiiane-tratiat-na-bytovye-uslugi.html) Яндекс.Деньги. Данные в нынешнем исследовании показывают гораздо более высокий средний чек.\n",
    "\n",
    "Проверка гипотез, предлагаемых в описании проекта показала разные результаты: гипотеза о том, что средняя выручка у абонентов разных тарифов различается не была отвергнута и разница действительно присутствует, а гипотеза о разнице выручки в Москве и остальных регионах оказалась не очень состоятельной, данные это не подтверждают.\n",
    "\n",
    "Мы не можем утверждать, что ситуация в точности повторится для всей базы клиентов оператора, однако имеющаяся выборка показывает, что один абонент тарифа Ultra выгоднее, чем один абонент тарифа Smart почти в 2 раза. Однако высокая стоимость абонентской платы (более чем в 3 раза от тарифа Smart), может выступать ограничением для роста клиентской базы этого тарифа. \n",
    "\n",
    "Большая часть объема пакетов тарифа Ultra не используется абонентами, медианы звонков, интернет-трафика и СМС в разы ниже лимитов. При этом, если наиболее близко к лимитам использование мобильного интернета. Звонки почти в 6 раз меньше лимита, в среднем каждый абонент не использует больше 2,5 тысяч минут каждый месяц и расходует в 16 раз меньше смс сообщений, чем включено в пакет.\n",
    "\n",
    "97% пользователей не расходуют на 100% хотя бы один из предоставляемых им в рамках тарифа пакетов, причес ситуация полностью идентичная для обоих тарифов. \n",
    "\n",
    "Возможно, снижение стоимости абонентской платы Ultra засчет уменьшения объемов предоставляемых пакетов позволит привлечь больше клиентов, при этом увеличив у них расход на допуслуги. Альтернативой может стать введение промежуточного тарифа, который сможет привлечь значительную клиентскую базу, представая в наиболее выгодном свете в сравнении с двумя нынешними тарифами. \n",
    "\n",
    "В результате исследования, однозначное утверждать, что какой-либо тариф лучше другого нельзя, однако имеющиеся данные показывают, что приоритетом может стать именно тариф Ultra как тариф-флагман с точки зрения иерархии компании и, в целом, статуса, и его оптимизация для привлечения большего количества клиентов."
   ]
  }
 ],
 "metadata": {
  "kernelspec": {
   "display_name": "Python 3",
   "language": "python",
   "name": "python3"
  },
  "language_info": {
   "codemirror_mode": {
    "name": "ipython",
    "version": 3
   },
   "file_extension": ".py",
   "mimetype": "text/x-python",
   "name": "python",
   "nbconvert_exporter": "python",
   "pygments_lexer": "ipython3",
   "version": "3.7.10"
  },
  "toc": {
   "base_numbering": 1,
   "nav_menu": {},
   "number_sections": false,
   "sideBar": true,
   "skip_h1_title": false,
   "title_cell": "Table of Contents",
   "title_sidebar": "Contents",
   "toc_cell": false,
   "toc_position": {
    "height": "calc(100% - 180px)",
    "left": "10px",
    "top": "150px",
    "width": "236.391px"
   },
   "toc_section_display": true,
   "toc_window_display": true
  }
 },
 "nbformat": 4,
 "nbformat_minor": 4
}
