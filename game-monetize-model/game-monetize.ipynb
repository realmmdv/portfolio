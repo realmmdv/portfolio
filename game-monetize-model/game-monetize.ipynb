{
 "cells": [
  {
   "cell_type": "markdown",
   "id": "593ef9fe",
   "metadata": {
    "toc": true
   },
   "source": [
    "<h1>Содержание<span class=\"tocSkip\"></span></h1>\n",
    "<div class=\"toc\"><ul class=\"toc-item\"><li><span><a href=\"#Описание-проекта\" data-toc-modified-id=\"Описание-проекта-1\"><span class=\"toc-item-num\">1&nbsp;&nbsp;</span>Описание проекта</a></span></li><li><span><a href=\"#Предобработка-данных\" data-toc-modified-id=\"Предобработка-данных-2\"><span class=\"toc-item-num\">2&nbsp;&nbsp;</span>Предобработка данных</a></span></li><li><span><a href=\"#Исследовательский-анализ-данных\" data-toc-modified-id=\"Исследовательский-анализ-данных-3\"><span class=\"toc-item-num\">3&nbsp;&nbsp;</span>Исследовательский анализ данных</a></span><ul class=\"toc-item\"><li><span><a href=\"#Данные-по-пользователям-по-типам-событий\" data-toc-modified-id=\"Данные-по-пользователям-по-типам-событий-3.1\"><span class=\"toc-item-num\">3.1&nbsp;&nbsp;</span>Данные по пользователям по типам событий</a></span></li><li><span><a href=\"#Данные-по-пользователям-по-типу-построенных-объектов\" data-toc-modified-id=\"Данные-по-пользователям-по-типу-построенных-объектов-3.2\"><span class=\"toc-item-num\">3.2&nbsp;&nbsp;</span>Данные по пользователям по типу построенных объектов</a></span></li><li><span><a href=\"#Даты-событий:-наиболее-и-наименее-пиковые-дни\" data-toc-modified-id=\"Даты-событий:-наиболее-и-наименее-пиковые-дни-3.3\"><span class=\"toc-item-num\">3.3&nbsp;&nbsp;</span>Даты событий: наиболее и наименее пиковые дни</a></span></li></ul></li><li><span><a href=\"#Влияние-типа-источника-на-вероятность-завершения-первого-уровня\" data-toc-modified-id=\"Влияние-типа-источника-на-вероятность-завершения-первого-уровня-4\"><span class=\"toc-item-num\">4&nbsp;&nbsp;</span>Влияние типа источника на вероятность завершения первого уровня</a></span></li><li><span><a href=\"#Среднее-время-прохождения-при-разных-сценариях\" data-toc-modified-id=\"Среднее-время-прохождения-при-разных-сценариях-5\"><span class=\"toc-item-num\">5&nbsp;&nbsp;</span>Среднее время прохождения при разных сценариях</a></span></li><li><span><a href=\"#Оптимальная-модель-монетизации\" data-toc-modified-id=\"Оптимальная-модель-монетизации-6\"><span class=\"toc-item-num\">6&nbsp;&nbsp;</span>Оптимальная модель монетизации</a></span></li><li><span><a href=\"#Выводы\" data-toc-modified-id=\"Выводы-7\"><span class=\"toc-item-num\">7&nbsp;&nbsp;</span>Выводы</a></span></li></ul></div>"
   ]
  },
  {
   "cell_type": "markdown",
   "id": "934cd834",
   "metadata": {},
   "source": [
    "# Дополнительные материалы\n",
    "\n",
    "1. [Презентация](https://drive.google.com/file/d/15AqeQ1WLkemcVlLMIGLqJJ--mQDnahG8/view)\n",
    "2. [Дашборд](https://public.tableau.com/app/profile/el7854/viz/_16345036384940/Dashboard1)"
   ]
  },
  {
   "cell_type": "markdown",
   "id": "a0d7a982",
   "metadata": {},
   "source": [
    "## Описание проекта"
   ]
  },
  {
   "cell_type": "markdown",
   "id": "38bdbda4",
   "metadata": {},
   "source": [
    "Основная задача — предложить оптимальное количество и время для показа рекламы (далее - модель монетизации), чтобы окупить пользователей первого уровня. Задачи заработать как можно больше на рекламы перед заказчиком не стоит, необходим вариант с минимальным количеством рекламы для сокращения потенциального оттока из-за рекламы.\n",
    "\n",
    "В основном датасете содержатся данные первых пользователей приложения — игроков, которые начали пользоваться приложением в период с 4 по 10 мая включительно. \n",
    "В двух дополнительных датасетах представлены данные о пользователях и источниках их привлечения, а также сведения о расходах на маркетинг по источникам. Данных по оттоку пользователей в датасетах нет.\n",
    "\n",
    "В проекте все суммы указаны в долларах, так как стоимость показа рекламы рассчитывается в этой валюте."
   ]
  },
  {
   "cell_type": "markdown",
   "id": "7accb16c",
   "metadata": {},
   "source": [
    "## Предобработка данных"
   ]
  },
  {
   "cell_type": "code",
   "execution_count": 1,
   "id": "1af5d068",
   "metadata": {},
   "outputs": [],
   "source": [
    "import pandas as pd\n",
    "import matplotlib.pyplot as plt\n",
    "import seaborn as sns\n",
    "import datetime as dt\n",
    "from scipy import stats as st\n",
    "from statsmodels.stats.proportion import proportions_ztest\n",
    "from operator import attrgetter\n",
    "# чтобы убрать ошибку FutureWarning\n",
    "from pandas.plotting import register_matplotlib_converters\n",
    "register_matplotlib_converters()"
   ]
  },
  {
   "cell_type": "code",
   "execution_count": 2,
   "id": "2d6da480",
   "metadata": {},
   "outputs": [],
   "source": [
    "ads = pd.read_csv('ad_costs.csv')\n",
    "sources = pd.read_csv('user_source.csv')\n",
    "actions = pd.read_csv('game_actions.csv')"
   ]
  },
  {
   "cell_type": "code",
   "execution_count": 3,
   "id": "2f87849e",
   "metadata": {},
   "outputs": [
    {
     "name": "stdout",
     "output_type": "stream",
     "text": [
      "ads дубликаты и пропущенные значения: 0 0\n"
     ]
    },
    {
     "data": {
      "text/html": [
       "<div>\n",
       "<style scoped>\n",
       "    .dataframe tbody tr th:only-of-type {\n",
       "        vertical-align: middle;\n",
       "    }\n",
       "\n",
       "    .dataframe tbody tr th {\n",
       "        vertical-align: top;\n",
       "    }\n",
       "\n",
       "    .dataframe thead th {\n",
       "        text-align: right;\n",
       "    }\n",
       "</style>\n",
       "<table border=\"1\" class=\"dataframe\">\n",
       "  <thead>\n",
       "    <tr style=\"text-align: right;\">\n",
       "      <th></th>\n",
       "      <th>source</th>\n",
       "      <th>day</th>\n",
       "      <th>cost</th>\n",
       "    </tr>\n",
       "  </thead>\n",
       "  <tbody>\n",
       "    <tr>\n",
       "      <td>0</td>\n",
       "      <td>facebook_ads</td>\n",
       "      <td>2020-05-03</td>\n",
       "      <td>935.882786</td>\n",
       "    </tr>\n",
       "    <tr>\n",
       "      <td>1</td>\n",
       "      <td>facebook_ads</td>\n",
       "      <td>2020-05-04</td>\n",
       "      <td>548.354480</td>\n",
       "    </tr>\n",
       "    <tr>\n",
       "      <td>2</td>\n",
       "      <td>facebook_ads</td>\n",
       "      <td>2020-05-05</td>\n",
       "      <td>260.185754</td>\n",
       "    </tr>\n",
       "    <tr>\n",
       "      <td>3</td>\n",
       "      <td>facebook_ads</td>\n",
       "      <td>2020-05-06</td>\n",
       "      <td>177.982200</td>\n",
       "    </tr>\n",
       "    <tr>\n",
       "      <td>4</td>\n",
       "      <td>facebook_ads</td>\n",
       "      <td>2020-05-07</td>\n",
       "      <td>111.766796</td>\n",
       "    </tr>\n",
       "  </tbody>\n",
       "</table>\n",
       "</div>"
      ],
      "text/plain": [
       "         source         day        cost\n",
       "0  facebook_ads  2020-05-03  935.882786\n",
       "1  facebook_ads  2020-05-04  548.354480\n",
       "2  facebook_ads  2020-05-05  260.185754\n",
       "3  facebook_ads  2020-05-06  177.982200\n",
       "4  facebook_ads  2020-05-07  111.766796"
      ]
     },
     "metadata": {},
     "output_type": "display_data"
    },
    {
     "name": "stdout",
     "output_type": "stream",
     "text": [
      "<class 'pandas.core.frame.DataFrame'>\n",
      "RangeIndex: 28 entries, 0 to 27\n",
      "Data columns (total 3 columns):\n",
      "source    28 non-null object\n",
      "day       28 non-null object\n",
      "cost      28 non-null float64\n",
      "dtypes: float64(1), object(2)\n",
      "memory usage: 800.0+ bytes\n"
     ]
    },
    {
     "data": {
      "text/plain": [
       "None"
      ]
     },
     "metadata": {},
     "output_type": "display_data"
    },
    {
     "data": {
      "text/html": [
       "<div>\n",
       "<style scoped>\n",
       "    .dataframe tbody tr th:only-of-type {\n",
       "        vertical-align: middle;\n",
       "    }\n",
       "\n",
       "    .dataframe tbody tr th {\n",
       "        vertical-align: top;\n",
       "    }\n",
       "\n",
       "    .dataframe thead th {\n",
       "        text-align: right;\n",
       "    }\n",
       "</style>\n",
       "<table border=\"1\" class=\"dataframe\">\n",
       "  <thead>\n",
       "    <tr style=\"text-align: right;\">\n",
       "      <th></th>\n",
       "      <th>cost</th>\n",
       "    </tr>\n",
       "  </thead>\n",
       "  <tbody>\n",
       "    <tr>\n",
       "      <td>count</td>\n",
       "      <td>28.000000</td>\n",
       "    </tr>\n",
       "    <tr>\n",
       "      <td>mean</td>\n",
       "      <td>271.556321</td>\n",
       "    </tr>\n",
       "    <tr>\n",
       "      <td>std</td>\n",
       "      <td>286.867650</td>\n",
       "    </tr>\n",
       "    <tr>\n",
       "      <td>min</td>\n",
       "      <td>23.314669</td>\n",
       "    </tr>\n",
       "    <tr>\n",
       "      <td>25%</td>\n",
       "      <td>66.747365</td>\n",
       "    </tr>\n",
       "    <tr>\n",
       "      <td>50%</td>\n",
       "      <td>160.056443</td>\n",
       "    </tr>\n",
       "    <tr>\n",
       "      <td>75%</td>\n",
       "      <td>349.034473</td>\n",
       "    </tr>\n",
       "    <tr>\n",
       "      <td>max</td>\n",
       "      <td>969.139394</td>\n",
       "    </tr>\n",
       "  </tbody>\n",
       "</table>\n",
       "</div>"
      ],
      "text/plain": [
       "             cost\n",
       "count   28.000000\n",
       "mean   271.556321\n",
       "std    286.867650\n",
       "min     23.314669\n",
       "25%     66.747365\n",
       "50%    160.056443\n",
       "75%    349.034473\n",
       "max    969.139394"
      ]
     },
     "metadata": {},
     "output_type": "display_data"
    }
   ],
   "source": [
    "print(\"ads дубликаты и пропущенные значения:\", ads.duplicated().sum(), ads.isnull().sum().sum())\n",
    "display(ads.head())\n",
    "display(ads.info())\n",
    "display(ads.describe())"
   ]
  },
  {
   "cell_type": "code",
   "execution_count": 4,
   "id": "60b317fb",
   "metadata": {},
   "outputs": [
    {
     "name": "stdout",
     "output_type": "stream",
     "text": [
      "sources дубликаты и пропущенные значения: 0 0\n"
     ]
    },
    {
     "data": {
      "text/html": [
       "<div>\n",
       "<style scoped>\n",
       "    .dataframe tbody tr th:only-of-type {\n",
       "        vertical-align: middle;\n",
       "    }\n",
       "\n",
       "    .dataframe tbody tr th {\n",
       "        vertical-align: top;\n",
       "    }\n",
       "\n",
       "    .dataframe thead th {\n",
       "        text-align: right;\n",
       "    }\n",
       "</style>\n",
       "<table border=\"1\" class=\"dataframe\">\n",
       "  <thead>\n",
       "    <tr style=\"text-align: right;\">\n",
       "      <th></th>\n",
       "      <th>user_id</th>\n",
       "      <th>source</th>\n",
       "    </tr>\n",
       "  </thead>\n",
       "  <tbody>\n",
       "    <tr>\n",
       "      <td>0</td>\n",
       "      <td>0001f83c-c6ac-4621-b7f0-8a28b283ac30</td>\n",
       "      <td>facebook_ads</td>\n",
       "    </tr>\n",
       "    <tr>\n",
       "      <td>1</td>\n",
       "      <td>00151b4f-ba38-44a8-a650-d7cf130a0105</td>\n",
       "      <td>yandex_direct</td>\n",
       "    </tr>\n",
       "    <tr>\n",
       "      <td>2</td>\n",
       "      <td>001aaea6-3d14-43f1-8ca8-7f48820f17aa</td>\n",
       "      <td>youtube_channel_reklama</td>\n",
       "    </tr>\n",
       "    <tr>\n",
       "      <td>3</td>\n",
       "      <td>001d39dc-366c-4021-9604-6a3b9ff01e25</td>\n",
       "      <td>instagram_new_adverts</td>\n",
       "    </tr>\n",
       "    <tr>\n",
       "      <td>4</td>\n",
       "      <td>002f508f-67b6-479f-814b-b05f00d4e995</td>\n",
       "      <td>facebook_ads</td>\n",
       "    </tr>\n",
       "  </tbody>\n",
       "</table>\n",
       "</div>"
      ],
      "text/plain": [
       "                                user_id                   source\n",
       "0  0001f83c-c6ac-4621-b7f0-8a28b283ac30             facebook_ads\n",
       "1  00151b4f-ba38-44a8-a650-d7cf130a0105            yandex_direct\n",
       "2  001aaea6-3d14-43f1-8ca8-7f48820f17aa  youtube_channel_reklama\n",
       "3  001d39dc-366c-4021-9604-6a3b9ff01e25    instagram_new_adverts\n",
       "4  002f508f-67b6-479f-814b-b05f00d4e995             facebook_ads"
      ]
     },
     "metadata": {},
     "output_type": "display_data"
    },
    {
     "name": "stdout",
     "output_type": "stream",
     "text": [
      "<class 'pandas.core.frame.DataFrame'>\n",
      "RangeIndex: 13576 entries, 0 to 13575\n",
      "Data columns (total 2 columns):\n",
      "user_id    13576 non-null object\n",
      "source     13576 non-null object\n",
      "dtypes: object(2)\n",
      "memory usage: 212.2+ KB\n"
     ]
    },
    {
     "data": {
      "text/plain": [
       "None"
      ]
     },
     "metadata": {},
     "output_type": "display_data"
    },
    {
     "data": {
      "text/html": [
       "<div>\n",
       "<style scoped>\n",
       "    .dataframe tbody tr th:only-of-type {\n",
       "        vertical-align: middle;\n",
       "    }\n",
       "\n",
       "    .dataframe tbody tr th {\n",
       "        vertical-align: top;\n",
       "    }\n",
       "\n",
       "    .dataframe thead th {\n",
       "        text-align: right;\n",
       "    }\n",
       "</style>\n",
       "<table border=\"1\" class=\"dataframe\">\n",
       "  <thead>\n",
       "    <tr style=\"text-align: right;\">\n",
       "      <th></th>\n",
       "      <th>user_id</th>\n",
       "      <th>source</th>\n",
       "    </tr>\n",
       "  </thead>\n",
       "  <tbody>\n",
       "    <tr>\n",
       "      <td>count</td>\n",
       "      <td>13576</td>\n",
       "      <td>13576</td>\n",
       "    </tr>\n",
       "    <tr>\n",
       "      <td>unique</td>\n",
       "      <td>13576</td>\n",
       "      <td>4</td>\n",
       "    </tr>\n",
       "    <tr>\n",
       "      <td>top</td>\n",
       "      <td>4b0059c7-e85d-4141-8d8a-48b24d61b97f</td>\n",
       "      <td>yandex_direct</td>\n",
       "    </tr>\n",
       "    <tr>\n",
       "      <td>freq</td>\n",
       "      <td>1</td>\n",
       "      <td>4817</td>\n",
       "    </tr>\n",
       "  </tbody>\n",
       "</table>\n",
       "</div>"
      ],
      "text/plain": [
       "                                     user_id         source\n",
       "count                                  13576          13576\n",
       "unique                                 13576              4\n",
       "top     4b0059c7-e85d-4141-8d8a-48b24d61b97f  yandex_direct\n",
       "freq                                       1           4817"
      ]
     },
     "metadata": {},
     "output_type": "display_data"
    }
   ],
   "source": [
    "print(\"sources дубликаты и пропущенные значения:\", sources.duplicated().sum(), sources.isnull().sum().sum())\n",
    "display(sources.head())\n",
    "display(sources.info())\n",
    "display(sources.describe())"
   ]
  },
  {
   "cell_type": "code",
   "execution_count": 5,
   "id": "a7eda856",
   "metadata": {},
   "outputs": [
    {
     "name": "stdout",
     "output_type": "stream",
     "text": [
      "actions дубликаты и пропущенные значения: 1 141457\n"
     ]
    },
    {
     "data": {
      "text/html": [
       "<div>\n",
       "<style scoped>\n",
       "    .dataframe tbody tr th:only-of-type {\n",
       "        vertical-align: middle;\n",
       "    }\n",
       "\n",
       "    .dataframe tbody tr th {\n",
       "        vertical-align: top;\n",
       "    }\n",
       "\n",
       "    .dataframe thead th {\n",
       "        text-align: right;\n",
       "    }\n",
       "</style>\n",
       "<table border=\"1\" class=\"dataframe\">\n",
       "  <thead>\n",
       "    <tr style=\"text-align: right;\">\n",
       "      <th></th>\n",
       "      <th>event_datetime</th>\n",
       "      <th>event</th>\n",
       "      <th>building_type</th>\n",
       "      <th>user_id</th>\n",
       "      <th>project_type</th>\n",
       "    </tr>\n",
       "  </thead>\n",
       "  <tbody>\n",
       "    <tr>\n",
       "      <td>0</td>\n",
       "      <td>2020-05-04 00:00:01</td>\n",
       "      <td>building</td>\n",
       "      <td>assembly_shop</td>\n",
       "      <td>55e92310-cb8e-4754-b622-597e124b03de</td>\n",
       "      <td>NaN</td>\n",
       "    </tr>\n",
       "    <tr>\n",
       "      <td>1</td>\n",
       "      <td>2020-05-04 00:00:03</td>\n",
       "      <td>building</td>\n",
       "      <td>assembly_shop</td>\n",
       "      <td>c07b1c10-f477-44dc-81dc-ec82254b1347</td>\n",
       "      <td>NaN</td>\n",
       "    </tr>\n",
       "    <tr>\n",
       "      <td>2</td>\n",
       "      <td>2020-05-04 00:00:16</td>\n",
       "      <td>building</td>\n",
       "      <td>assembly_shop</td>\n",
       "      <td>6edd42cc-e753-4ff6-a947-2107cd560710</td>\n",
       "      <td>NaN</td>\n",
       "    </tr>\n",
       "    <tr>\n",
       "      <td>3</td>\n",
       "      <td>2020-05-04 00:00:16</td>\n",
       "      <td>building</td>\n",
       "      <td>assembly_shop</td>\n",
       "      <td>92c69003-d60a-444a-827f-8cc51bf6bf4c</td>\n",
       "      <td>NaN</td>\n",
       "    </tr>\n",
       "    <tr>\n",
       "      <td>4</td>\n",
       "      <td>2020-05-04 00:00:35</td>\n",
       "      <td>building</td>\n",
       "      <td>assembly_shop</td>\n",
       "      <td>cdc6bb92-0ccb-4490-9866-ef142f09139d</td>\n",
       "      <td>NaN</td>\n",
       "    </tr>\n",
       "  </tbody>\n",
       "</table>\n",
       "</div>"
      ],
      "text/plain": [
       "        event_datetime     event  building_type  \\\n",
       "0  2020-05-04 00:00:01  building  assembly_shop   \n",
       "1  2020-05-04 00:00:03  building  assembly_shop   \n",
       "2  2020-05-04 00:00:16  building  assembly_shop   \n",
       "3  2020-05-04 00:00:16  building  assembly_shop   \n",
       "4  2020-05-04 00:00:35  building  assembly_shop   \n",
       "\n",
       "                                user_id project_type  \n",
       "0  55e92310-cb8e-4754-b622-597e124b03de          NaN  \n",
       "1  c07b1c10-f477-44dc-81dc-ec82254b1347          NaN  \n",
       "2  6edd42cc-e753-4ff6-a947-2107cd560710          NaN  \n",
       "3  92c69003-d60a-444a-827f-8cc51bf6bf4c          NaN  \n",
       "4  cdc6bb92-0ccb-4490-9866-ef142f09139d          NaN  "
      ]
     },
     "metadata": {},
     "output_type": "display_data"
    },
    {
     "name": "stdout",
     "output_type": "stream",
     "text": [
      "<class 'pandas.core.frame.DataFrame'>\n",
      "RangeIndex: 135640 entries, 0 to 135639\n",
      "Data columns (total 5 columns):\n",
      "event_datetime    135640 non-null object\n",
      "event             135640 non-null object\n",
      "building_type     127957 non-null object\n",
      "user_id           135640 non-null object\n",
      "project_type      1866 non-null object\n",
      "dtypes: object(5)\n",
      "memory usage: 5.2+ MB\n"
     ]
    },
    {
     "data": {
      "text/plain": [
       "None"
      ]
     },
     "metadata": {},
     "output_type": "display_data"
    },
    {
     "data": {
      "text/html": [
       "<div>\n",
       "<style scoped>\n",
       "    .dataframe tbody tr th:only-of-type {\n",
       "        vertical-align: middle;\n",
       "    }\n",
       "\n",
       "    .dataframe tbody tr th {\n",
       "        vertical-align: top;\n",
       "    }\n",
       "\n",
       "    .dataframe thead th {\n",
       "        text-align: right;\n",
       "    }\n",
       "</style>\n",
       "<table border=\"1\" class=\"dataframe\">\n",
       "  <thead>\n",
       "    <tr style=\"text-align: right;\">\n",
       "      <th></th>\n",
       "      <th>event_datetime</th>\n",
       "      <th>event</th>\n",
       "      <th>building_type</th>\n",
       "      <th>user_id</th>\n",
       "      <th>project_type</th>\n",
       "    </tr>\n",
       "  </thead>\n",
       "  <tbody>\n",
       "    <tr>\n",
       "      <td>count</td>\n",
       "      <td>135640</td>\n",
       "      <td>135640</td>\n",
       "      <td>127957</td>\n",
       "      <td>135640</td>\n",
       "      <td>1866</td>\n",
       "    </tr>\n",
       "    <tr>\n",
       "      <td>unique</td>\n",
       "      <td>128790</td>\n",
       "      <td>3</td>\n",
       "      <td>3</td>\n",
       "      <td>13576</td>\n",
       "      <td>1</td>\n",
       "    </tr>\n",
       "    <tr>\n",
       "      <td>top</td>\n",
       "      <td>2020-05-07 17:57:40</td>\n",
       "      <td>building</td>\n",
       "      <td>spaceport</td>\n",
       "      <td>d6aca06a-cd75-4cd8-b8cd-240a3c163884</td>\n",
       "      <td>satellite_orbital_assembly</td>\n",
       "    </tr>\n",
       "    <tr>\n",
       "      <td>freq</td>\n",
       "      <td>4</td>\n",
       "      <td>127957</td>\n",
       "      <td>59325</td>\n",
       "      <td>22</td>\n",
       "      <td>1866</td>\n",
       "    </tr>\n",
       "  </tbody>\n",
       "</table>\n",
       "</div>"
      ],
      "text/plain": [
       "             event_datetime     event building_type  \\\n",
       "count                135640    135640        127957   \n",
       "unique               128790         3             3   \n",
       "top     2020-05-07 17:57:40  building     spaceport   \n",
       "freq                      4    127957         59325   \n",
       "\n",
       "                                     user_id                project_type  \n",
       "count                                 135640                        1866  \n",
       "unique                                 13576                           1  \n",
       "top     d6aca06a-cd75-4cd8-b8cd-240a3c163884  satellite_orbital_assembly  \n",
       "freq                                      22                        1866  "
      ]
     },
     "metadata": {},
     "output_type": "display_data"
    }
   ],
   "source": [
    "print(\"actions дубликаты и пропущенные значения:\", actions.duplicated().sum(), actions.isnull().sum().sum())\n",
    "display(actions.head())\n",
    "display(actions.info())\n",
    "display(actions.describe())"
   ]
  },
  {
   "cell_type": "markdown",
   "id": "1f481ce3",
   "metadata": {},
   "source": [
    "В датасетах с данными по рекламе и источникам нет пропущенных значений и дубликатов. Набор ad_cost состоит из 28 строк и 3 столбцов и содержит данные по расходам на привлечение пользователей по каждому источнику за период с 3 по 9 мая 2020 года. Датасет user_source состоит из 13576 строк и 2 столбцов с данными о пользователях и источнике, из которого они пришли.\n",
    "\n",
    "Основной датасет с данными о событиях, совершенных в мобильной игре «Космические братья» гораздо объемнее: он содержит 135460 строк и 5 столбцов. В нем также есть пропущенные значения в столбцах *building type*, *project_type*, однако это логично и объясняется тем, что не все события связаны со строительством или выполнением проектов, поэтому исключать или заполнять эти данные мы не будем."
   ]
  },
  {
   "cell_type": "code",
   "execution_count": 6,
   "id": "365321ce",
   "metadata": {},
   "outputs": [],
   "source": [
    "# переведем дату в корректный формат\n",
    "actions['event_datetime'] = pd.to_datetime(actions['event_datetime'])"
   ]
  },
  {
   "cell_type": "markdown",
   "id": "56c5434d",
   "metadata": {},
   "source": [
    "## Исследовательский анализ данных"
   ]
  },
  {
   "cell_type": "markdown",
   "id": "434a3c1c",
   "metadata": {},
   "source": [
    "### Данные по пользователям по типам событий"
   ]
  },
  {
   "cell_type": "code",
   "execution_count": 7,
   "id": "5bdf8774",
   "metadata": {},
   "outputs": [
    {
     "data": {
      "text/html": [
       "<div>\n",
       "<style scoped>\n",
       "    .dataframe tbody tr th:only-of-type {\n",
       "        vertical-align: middle;\n",
       "    }\n",
       "\n",
       "    .dataframe tbody tr th {\n",
       "        vertical-align: top;\n",
       "    }\n",
       "\n",
       "    .dataframe thead th {\n",
       "        text-align: right;\n",
       "    }\n",
       "</style>\n",
       "<table border=\"1\" class=\"dataframe\">\n",
       "  <thead>\n",
       "    <tr style=\"text-align: right;\">\n",
       "      <th></th>\n",
       "      <th>user_id</th>\n",
       "    </tr>\n",
       "    <tr>\n",
       "      <th>event</th>\n",
       "      <th></th>\n",
       "    </tr>\n",
       "  </thead>\n",
       "  <tbody>\n",
       "    <tr>\n",
       "      <td>building</td>\n",
       "      <td>127957</td>\n",
       "    </tr>\n",
       "    <tr>\n",
       "      <td>finished_stage_1</td>\n",
       "      <td>5817</td>\n",
       "    </tr>\n",
       "    <tr>\n",
       "      <td>project</td>\n",
       "      <td>1866</td>\n",
       "    </tr>\n",
       "  </tbody>\n",
       "</table>\n",
       "</div>"
      ],
      "text/plain": [
       "                  user_id\n",
       "event                    \n",
       "building           127957\n",
       "finished_stage_1     5817\n",
       "project              1866"
      ]
     },
     "execution_count": 7,
     "metadata": {},
     "output_type": "execute_result"
    }
   ],
   "source": [
    "# посчитаем количество действий пользователей по каждому событию \n",
    "actions.groupby('event').agg({'user_id':'count'})"
   ]
  },
  {
   "cell_type": "code",
   "execution_count": 8,
   "id": "8a29fd1e",
   "metadata": {},
   "outputs": [
    {
     "data": {
      "image/png": "[encoded data removed]",
      "text/plain": [
       "<Figure size 720x432 with 1 Axes>"
      ]
     },
     "metadata": {
      "needs_background": "light"
     },
     "output_type": "display_data"
    }
   ],
   "source": [
    "color = ['orange','blue','green']\n",
    "actions.groupby('event').agg({'user_id':'count'}).plot(\n",
    "    kind='bar', rot=0, y=0, color=color,\n",
    "    figsize=(10,6), grid=True, legend=False);\n",
    "plt.title('Количество действий пользователей по типам событий')\n",
    "plt.xlabel('Тип события');\n",
    "plt.ylabel('Количество действий');"
   ]
  },
  {
   "cell_type": "code",
   "execution_count": 9,
   "id": "06409f92",
   "metadata": {},
   "outputs": [
    {
     "data": {
      "text/html": [
       "<div>\n",
       "<style scoped>\n",
       "    .dataframe tbody tr th:only-of-type {\n",
       "        vertical-align: middle;\n",
       "    }\n",
       "\n",
       "    .dataframe tbody tr th {\n",
       "        vertical-align: top;\n",
       "    }\n",
       "\n",
       "    .dataframe thead th {\n",
       "        text-align: right;\n",
       "    }\n",
       "</style>\n",
       "<table border=\"1\" class=\"dataframe\">\n",
       "  <thead>\n",
       "    <tr style=\"text-align: right;\">\n",
       "      <th></th>\n",
       "      <th>user_id</th>\n",
       "    </tr>\n",
       "    <tr>\n",
       "      <th>event</th>\n",
       "      <th></th>\n",
       "    </tr>\n",
       "  </thead>\n",
       "  <tbody>\n",
       "    <tr>\n",
       "      <td>building</td>\n",
       "      <td>13576</td>\n",
       "    </tr>\n",
       "    <tr>\n",
       "      <td>finished_stage_1</td>\n",
       "      <td>5817</td>\n",
       "    </tr>\n",
       "    <tr>\n",
       "      <td>project</td>\n",
       "      <td>1866</td>\n",
       "    </tr>\n",
       "  </tbody>\n",
       "</table>\n",
       "</div>"
      ],
      "text/plain": [
       "                  user_id\n",
       "event                    \n",
       "building            13576\n",
       "finished_stage_1     5817\n",
       "project              1866"
      ]
     },
     "execution_count": 9,
     "metadata": {},
     "output_type": "execute_result"
    }
   ],
   "source": [
    "# также проверим уникальных пользователей по каждому событию\n",
    "actions.groupby('event').agg({'user_id':'nunique'})"
   ]
  },
  {
   "cell_type": "markdown",
   "id": "e5e41091",
   "metadata": {},
   "source": [
    "Как видно на графике выше количество событий building в десятки раз больше, чем событий finisihed_stage_1 и project. Посмотрев на количество уникальных пользователей по каждому типу события, можно заметить, что строительством занимались все пользователи в базе (в среднем по 9 раз за первый уровень), тогда как количество выполненных проектов и завершений уровня не изменилось. \n",
    "\n",
    "Это объясняется различиями в логике событий в структуре игры: строительство — это действие, которое встречается не неоднократно на протяжении уровня (а в целом и всей игры) и может повторяться много раз (каждый игрок может строить множество зданий), тогда как завершение первого уровня и завершение проекта может произойти только один раз для каждого игрока. "
   ]
  },
  {
   "cell_type": "markdown",
   "id": "2e113966",
   "metadata": {},
   "source": [
    "### Данные по пользователям по типу построенных объектов"
   ]
  },
  {
   "cell_type": "code",
   "execution_count": 10,
   "id": "e1df9c6e",
   "metadata": {},
   "outputs": [
    {
     "data": {
      "image/png": "[encoded data removed]",
      "text/plain": [
       "<Figure size 720x432 with 1 Axes>"
      ]
     },
     "metadata": {
      "needs_background": "light"
     },
     "output_type": "display_data"
    }
   ],
   "source": [
    "# посмотрим на пользователей по типу построенных объектов\n",
    "actions.groupby('building_type')['user_id'].agg(\n",
    "    ['count', 'nunique']).sort_values('count', ascending=False).plot(\n",
    "    kind='bar', grid=True,\n",
    "    figsize=(10,6), rot=0);\n",
    "\n",
    "plt.title('Типы построек по популярности')\n",
    "plt.xlabel('Тип постройки');\n",
    "plt.ylabel('Количество действий');"
   ]
  },
  {
   "cell_type": "code",
   "execution_count": 11,
   "id": "df7adb6a",
   "metadata": {},
   "outputs": [
    {
     "name": "stdout",
     "output_type": "stream",
     "text": [
      "127957 зданий всего построено на первом уровне\n"
     ]
    }
   ],
   "source": [
    "print(actions.groupby('building_type')['user_id'].count().sum(), \n",
    "      'зданий всего построено на первом уровне')"
   ]
  },
  {
   "cell_type": "markdown",
   "id": "5cb9c555",
   "metadata": {},
   "source": [
    "Всего на первом уровне три типа объекта для строительства: сборочный цех, исследовательский центр и космический порт.\n",
    "Чаще всего пользователи строили здание порта и сборочного цеха, реже всего исследовательский центр. При этом если посмотреть на количество уникальных пользователей построивших каждый из объектов, то видно, что в этом случае разница между типами построек уже не так велика. Вероятно, это связано с тем, что порт и цех строятся многократно в игре для ускорения прогресса, а исследовательский центр однократно.\n",
    "\n",
    "Всего в игре построено 127957 зданий. "
   ]
  },
  {
   "cell_type": "markdown",
   "id": "9d3c54e1",
   "metadata": {},
   "source": [
    "###  Даты событий: наиболее и наименее пиковые дни"
   ]
  },
  {
   "cell_type": "code",
   "execution_count": 12,
   "id": "e71abf70",
   "metadata": {},
   "outputs": [
    {
     "data": {
      "text/plain": [
       "Timestamp('2020-05-04 00:00:01')"
      ]
     },
     "metadata": {},
     "output_type": "display_data"
    },
    {
     "data": {
      "text/plain": [
       "Timestamp('2020-06-05 12:32:49')"
      ]
     },
     "metadata": {},
     "output_type": "display_data"
    }
   ],
   "source": [
    "# проверим период активности пользователей в базе \n",
    "# посмотрим на самую первую и последнюю даты событий\n",
    "display(actions['event_datetime'].min())\n",
    "display(actions['event_datetime'].max())"
   ]
  },
  {
   "cell_type": "code",
   "execution_count": 13,
   "id": "1e6a27b1",
   "metadata": {
    "scrolled": false
   },
   "outputs": [
    {
     "data": {
      "image/png": "[encoded data removed]",
      "text/plain": [
       "<Figure size 864x360 with 1 Axes>"
      ]
     },
     "metadata": {
      "needs_background": "light"
     },
     "output_type": "display_data"
    }
   ],
   "source": [
    "# посчитаем уникальных пользователей по дням и выведем графики\n",
    "actions_metrics = actions.set_index(['event_datetime'])\n",
    "\n",
    "dau = actions_metrics.resample('D').user_id.nunique()\n",
    "\n",
    "dau.plot(figsize=(12,5), legend=False, grid=True, title='Динамика DAU за весь период');\n",
    "plt.xlabel('Дата в промежутке 04.05-05.06')\n",
    "plt.ylabel('DAU');"
   ]
  },
  {
   "cell_type": "code",
   "execution_count": 14,
   "id": "cc6eeb8d",
   "metadata": {},
   "outputs": [
    {
     "data": {
      "text/html": [
       "<div>\n",
       "<style scoped>\n",
       "    .dataframe tbody tr th:only-of-type {\n",
       "        vertical-align: middle;\n",
       "    }\n",
       "\n",
       "    .dataframe tbody tr th {\n",
       "        vertical-align: top;\n",
       "    }\n",
       "\n",
       "    .dataframe thead th {\n",
       "        text-align: right;\n",
       "    }\n",
       "</style>\n",
       "<table border=\"1\" class=\"dataframe\">\n",
       "  <thead>\n",
       "    <tr style=\"text-align: right;\">\n",
       "      <th></th>\n",
       "      <th>day</th>\n",
       "      <th>cost</th>\n",
       "    </tr>\n",
       "  </thead>\n",
       "  <tbody>\n",
       "    <tr>\n",
       "      <td>0</td>\n",
       "      <td>2020-05-03</td>\n",
       "      <td>3302.45</td>\n",
       "    </tr>\n",
       "    <tr>\n",
       "      <td>1</td>\n",
       "      <td>2020-05-04</td>\n",
       "      <td>1865.00</td>\n",
       "    </tr>\n",
       "    <tr>\n",
       "      <td>2</td>\n",
       "      <td>2020-05-05</td>\n",
       "      <td>1029.43</td>\n",
       "    </tr>\n",
       "    <tr>\n",
       "      <td>3</td>\n",
       "      <td>2020-05-06</td>\n",
       "      <td>620.48</td>\n",
       "    </tr>\n",
       "    <tr>\n",
       "      <td>4</td>\n",
       "      <td>2020-05-07</td>\n",
       "      <td>391.85</td>\n",
       "    </tr>\n",
       "    <tr>\n",
       "      <td>5</td>\n",
       "      <td>2020-05-08</td>\n",
       "      <td>242.77</td>\n",
       "    </tr>\n",
       "    <tr>\n",
       "      <td>6</td>\n",
       "      <td>2020-05-09</td>\n",
       "      <td>151.59</td>\n",
       "    </tr>\n",
       "  </tbody>\n",
       "</table>\n",
       "</div>"
      ],
      "text/plain": [
       "          day     cost\n",
       "0  2020-05-03  3302.45\n",
       "1  2020-05-04  1865.00\n",
       "2  2020-05-05  1029.43\n",
       "3  2020-05-06   620.48\n",
       "4  2020-05-07   391.85\n",
       "5  2020-05-08   242.77\n",
       "6  2020-05-09   151.59"
      ]
     },
     "execution_count": 14,
     "metadata": {},
     "output_type": "execute_result"
    }
   ],
   "source": [
    "# посмотрим на расходы на привлечение по дням \n",
    "ads.groupby('day')[['cost']].sum().round(2).reset_index()"
   ]
  },
  {
   "cell_type": "markdown",
   "id": "df4b947c",
   "metadata": {},
   "source": [
    "На графике DAU видно, что пиковое количество уникальных пользователей пришлось на первую неделю. Значение активных пользователей росло в первую неделю и достигла максимума 10 мая со значением около 10 тысяч активных пользователей. Начиная с 11 мая значение только снижалось и к концу рассматриваемого периода практически достигло нуля.\n",
    "\n",
    "Наиболее активный период расходов на привлечение пользователей пришелся на первые 3 дня с 3 по 5 мая: следовательно с 4 по 7 мы должны были наблюдать наибольшее число установок. Однако пик пришелся на 10 мая и это может быть связано с тем, что в РФ эти даты праздничные (у людей просто больше времени на развлечения, а 9-10 мая также еще и выходные). Соответственно, некоторые пользователи могли скачать приложение раньше, но зашли именно в 9-10 мая. "
   ]
  },
  {
   "cell_type": "code",
   "execution_count": 15,
   "id": "66000cd0",
   "metadata": {},
   "outputs": [],
   "source": [
    "actions['session_date'] = actions['event_datetime'].dt.date\n",
    "\n",
    "actions_new = actions.groupby('session_date').agg({'user_id':['count', 'nunique']})\n",
    "actions_new.columns = ['n_sessions', 'n_users']\n",
    "actions_new['sess_per_user'] = (actions_new['n_sessions'] / actions_new['n_users']).round(2)"
   ]
  },
  {
   "cell_type": "code",
   "execution_count": 16,
   "id": "32af4b83",
   "metadata": {},
   "outputs": [
    {
     "name": "stdout",
     "output_type": "stream",
     "text": [
      "1.33 — среднее количество событий в день на одного пользователя\n"
     ]
    }
   ],
   "source": [
    "print(round(actions_new['sess_per_user'].mean(), 2),\n",
    "  '— среднее количество событий в день на одного пользователя')"
   ]
  },
  {
   "cell_type": "code",
   "execution_count": 17,
   "id": "f9258bc4",
   "metadata": {},
   "outputs": [
    {
     "data": {
      "image/png": "[encoded data removed]",
      "text/plain": [
       "<Figure size 1080x576 with 1 Axes>"
      ]
     },
     "metadata": {
      "needs_background": "light"
     },
     "output_type": "display_data"
    }
   ],
   "source": [
    "actions_new['sess_per_user'].plot(figsize=(15,8), grid=True);\n",
    "plt.title('Среднее количество событий в день на одного пользователя', fontsize=15)\n",
    "plt.xlabel('Дата', fontsize=15)\n",
    "plt.ylabel('Событий в день в среднем', fontsize=15);"
   ]
  },
  {
   "cell_type": "markdown",
   "id": "81c544a7",
   "metadata": {},
   "source": [
    "Среднее количество событий в день также достигло наивысшего значения 10 мая (около 1.6 сессий), далее резко упало до уровня ниже 1.4 события в день. Однако, в отличие от показателя уникальных активных пользователей до конца периода повышалось и понижалось несколько раз. В среднем, большую часть месяца значение находилась в пределах показателя 1.2-1.3 события в день."
   ]
  },
  {
   "cell_type": "code",
   "execution_count": 18,
   "id": "9719459f",
   "metadata": {},
   "outputs": [],
   "source": [
    "# сделаем когортный анализ пользователей  \n",
    "actions['session_day'] = actions['event_datetime'].dt.to_period('D')\n",
    "actions['cohort'] = actions.groupby('user_id')['event_datetime'].transform('min').dt.to_period('D') \n",
    "actions_cohort = actions.groupby(['cohort', 'session_day']).agg(\n",
    "    n_customers=('user_id', 'nunique')).reset_index(drop=False)\n",
    "\n",
    "actions_cohort['date_diff'] = (actions_cohort['session_day'] - actions_cohort['cohort']).apply(attrgetter('n'))"
   ]
  },
  {
   "cell_type": "code",
   "execution_count": 19,
   "id": "6b6be689",
   "metadata": {},
   "outputs": [],
   "source": [
    "# подготовим сводную таблицу и посчитаем размеры когорьы \n",
    "cohort_pivot = actions_cohort.pivot_table(index='cohort',\n",
    "                                     columns='date_diff',\n",
    "                                     values='n_customers')\n",
    "\n",
    "cohort_size = cohort_pivot.iloc[:,0]\n",
    "retention = cohort_pivot.divide(cohort_size, axis = 0)"
   ]
  },
  {
   "cell_type": "code",
   "execution_count": 20,
   "id": "48b978e6",
   "metadata": {},
   "outputs": [
    {
     "data": {
      "text/plain": [
       "cohort\n",
       "2020-05-04    5860.0\n",
       "2020-05-05    3361.0\n",
       "2020-05-06    1847.0\n",
       "2020-05-07    1109.0\n",
       "2020-05-08     688.0\n",
       "2020-05-09     440.0\n",
       "2020-05-10     271.0\n",
       "Freq: D, Name: 0, dtype: float64"
      ]
     },
     "execution_count": 20,
     "metadata": {},
     "output_type": "execute_result"
    }
   ],
   "source": [
    "# посмотрим на количество игроков в когортах\n",
    "cohort_size"
   ]
  },
  {
   "cell_type": "markdown",
   "id": "9796495f",
   "metadata": {},
   "source": [
    "<a id='cell23'><a/>"
   ]
  },
  {
   "cell_type": "code",
   "execution_count": 21,
   "id": "1c5c19fb",
   "metadata": {
    "scrolled": false
   },
   "outputs": [
    {
     "data": {
      "image/png": "[encoded data removed]",
      "text/plain": [
       "<Figure size 1440x720 with 2 Axes>"
      ]
     },
     "metadata": {
      "needs_background": "light"
     },
     "output_type": "display_data"
    }
   ],
   "source": [
    "# построим хитмэп с retention по когортам\n",
    "plt.figure(figsize=(20, 10))\n",
    "sns.heatmap(retention.iloc[:, :22], \n",
    "            annot=True, fmt='.1%', linewidths=1, linecolor='gray', vmax=0.8);\n",
    "plt.title('Retention за 3 недели', fontsize=16)\n",
    "plt.ylabel('Когорта')\n",
    "plt.xlabel('Возраст когорты');"
   ]
  },
  {
   "cell_type": "code",
   "execution_count": 22,
   "id": "792d58bd",
   "metadata": {},
   "outputs": [
    {
     "name": "stdout",
     "output_type": "stream",
     "text": [
      "Retention 7-го дня — 41.0%\n",
      "Retention 10-го дня — 27.5%\n",
      "Retention 14-го дня — 11.3%\n",
      "Retention 21-го дня — 1.1%\n"
     ]
    }
   ],
   "source": [
    "print('Retention 7-го дня — {:.1%}'.format(retention.mean(axis=0)[7]))\n",
    "print('Retention 10-го дня — {:.1%}'.format(retention.mean(axis=0)[10]))\n",
    "print('Retention 14-го дня — {:.1%}'.format(retention.mean(axis=0)[14]))\n",
    "print('Retention 21-го дня — {:.1%}'.format(retention.mean(axis=0)[21]))"
   ]
  },
  {
   "cell_type": "markdown",
   "id": "6b7b95f7",
   "metadata": {},
   "source": [
    "На хитмэпе выше построен Retention за 3 недели для лучшей читаемости (четыре недели визуально плохо читаемы) и после 21 дня значения практически не меняются и колеблются около 0-0.5%. \n",
    "Хитмэп демонстрирует, что у пользователей самых поздних когорт retention хуже, чем у первых. \n",
    "\n",
    "Также стоит отметить, что несмотря на в среднем двукратное снижение на следующий день после первого дня (дня первой сессии, считаем его 0 днем в данном случае), в последующие несколько дней retention растет. У первой когорты пользователей, впервые вошедших в игру 4 мая лучший показатель retention на 6 день, у когорты от 5 мая — на 5 день, от 4 мая — на 4. В целом самая первая когорта и ее пиковый показатель 71% являются лучшим среди всех когорт. \n",
    "\n",
    "Хотелось бы верить в то, что такие высокие показатели 4 мая как-то связаны с днем \"Звездных войн\" и праздников May the 4th поклонников вселенной, однако более вероятна связь с активной рекламной кампанией накануне. 3 мая расходы на привлечение были самыми высокими за все время."
   ]
  },
  {
   "cell_type": "markdown",
   "id": "0d7b70ed",
   "metadata": {},
   "source": [
    "## Влияние типа источника на вероятность завершения первого уровня"
   ]
  },
  {
   "cell_type": "code",
   "execution_count": 23,
   "id": "781e0400",
   "metadata": {},
   "outputs": [
    {
     "data": {
      "text/html": [
       "<div>\n",
       "<style scoped>\n",
       "    .dataframe tbody tr th:only-of-type {\n",
       "        vertical-align: middle;\n",
       "    }\n",
       "\n",
       "    .dataframe tbody tr th {\n",
       "        vertical-align: top;\n",
       "    }\n",
       "\n",
       "    .dataframe thead th {\n",
       "        text-align: right;\n",
       "    }\n",
       "</style>\n",
       "<table border=\"1\" class=\"dataframe\">\n",
       "  <thead>\n",
       "    <tr style=\"text-align: right;\">\n",
       "      <th></th>\n",
       "      <th>source</th>\n",
       "      <th>mean</th>\n",
       "      <th>sum</th>\n",
       "    </tr>\n",
       "  </thead>\n",
       "  <tbody>\n",
       "    <tr>\n",
       "      <td>0</td>\n",
       "      <td>facebook_ads</td>\n",
       "      <td>305.84</td>\n",
       "      <td>2140.90</td>\n",
       "    </tr>\n",
       "    <tr>\n",
       "      <td>1</td>\n",
       "      <td>instagram_new_adverts</td>\n",
       "      <td>308.78</td>\n",
       "      <td>2161.44</td>\n",
       "    </tr>\n",
       "    <tr>\n",
       "      <td>2</td>\n",
       "      <td>yandex_direct</td>\n",
       "      <td>319.02</td>\n",
       "      <td>2233.11</td>\n",
       "    </tr>\n",
       "    <tr>\n",
       "      <td>3</td>\n",
       "      <td>youtube_channel_reklama</td>\n",
       "      <td>152.59</td>\n",
       "      <td>1068.12</td>\n",
       "    </tr>\n",
       "  </tbody>\n",
       "</table>\n",
       "</div>"
      ],
      "text/plain": [
       "                    source    mean      sum\n",
       "0             facebook_ads  305.84  2140.90\n",
       "1    instagram_new_adverts  308.78  2161.44\n",
       "2            yandex_direct  319.02  2233.11\n",
       "3  youtube_channel_reklama  152.59  1068.12"
      ]
     },
     "execution_count": 23,
     "metadata": {},
     "output_type": "execute_result"
    }
   ],
   "source": [
    "# посчитаем расходы на рекламу по источникам\n",
    "ads_cost = ads.groupby('source')['cost'].agg(['mean', 'sum']).reset_index().round(2)\n",
    "ads_cost"
   ]
  },
  {
   "cell_type": "code",
   "execution_count": 24,
   "id": "0c0f9c32",
   "metadata": {},
   "outputs": [
    {
     "data": {
      "text/html": [
       "<div>\n",
       "<style scoped>\n",
       "    .dataframe tbody tr th:only-of-type {\n",
       "        vertical-align: middle;\n",
       "    }\n",
       "\n",
       "    .dataframe tbody tr th {\n",
       "        vertical-align: top;\n",
       "    }\n",
       "\n",
       "    .dataframe thead th {\n",
       "        text-align: right;\n",
       "    }\n",
       "</style>\n",
       "<table border=\"1\" class=\"dataframe\">\n",
       "  <thead>\n",
       "    <tr style=\"text-align: right;\">\n",
       "      <th></th>\n",
       "      <th>source</th>\n",
       "      <th>user_id</th>\n",
       "    </tr>\n",
       "  </thead>\n",
       "  <tbody>\n",
       "    <tr>\n",
       "      <td>2</td>\n",
       "      <td>yandex_direct</td>\n",
       "      <td>4817</td>\n",
       "    </tr>\n",
       "    <tr>\n",
       "      <td>1</td>\n",
       "      <td>instagram_new_adverts</td>\n",
       "      <td>3347</td>\n",
       "    </tr>\n",
       "    <tr>\n",
       "      <td>0</td>\n",
       "      <td>facebook_ads</td>\n",
       "      <td>2726</td>\n",
       "    </tr>\n",
       "    <tr>\n",
       "      <td>3</td>\n",
       "      <td>youtube_channel_reklama</td>\n",
       "      <td>2686</td>\n",
       "    </tr>\n",
       "  </tbody>\n",
       "</table>\n",
       "</div>"
      ],
      "text/plain": [
       "                    source  user_id\n",
       "2            yandex_direct     4817\n",
       "1    instagram_new_adverts     3347\n",
       "0             facebook_ads     2726\n",
       "3  youtube_channel_reklama     2686"
      ]
     },
     "execution_count": 24,
     "metadata": {},
     "output_type": "execute_result"
    }
   ],
   "source": [
    "# посчитаем количество людей по каждому источнику\n",
    "user_sources = sources.groupby('source').count().reset_index()\n",
    "user_sources.sort_values('user_id', ascending=False)"
   ]
  },
  {
   "cell_type": "code",
   "execution_count": 25,
   "id": "282ad200",
   "metadata": {},
   "outputs": [],
   "source": [
    "# объединим таблицы с расходами и количеством пользователей \n",
    "# для рассчета САС\n",
    "\n",
    "costs_sources = user_sources.merge(ads_cost)\n",
    "costs_sources.columns = ['source', 'n_users', 'avg_cost', 'sum_cost']"
   ]
  },
  {
   "cell_type": "code",
   "execution_count": 26,
   "id": "3a2d7bfd",
   "metadata": {},
   "outputs": [
    {
     "data": {
      "text/html": [
       "<div>\n",
       "<style scoped>\n",
       "    .dataframe tbody tr th:only-of-type {\n",
       "        vertical-align: middle;\n",
       "    }\n",
       "\n",
       "    .dataframe tbody tr th {\n",
       "        vertical-align: top;\n",
       "    }\n",
       "\n",
       "    .dataframe thead th {\n",
       "        text-align: right;\n",
       "    }\n",
       "</style>\n",
       "<table border=\"1\" class=\"dataframe\">\n",
       "  <thead>\n",
       "    <tr style=\"text-align: right;\">\n",
       "      <th></th>\n",
       "      <th>n_users</th>\n",
       "      <th>avg_cost</th>\n",
       "      <th>sum_cost</th>\n",
       "      <th>cac</th>\n",
       "    </tr>\n",
       "    <tr>\n",
       "      <th>source</th>\n",
       "      <th></th>\n",
       "      <th></th>\n",
       "      <th></th>\n",
       "      <th></th>\n",
       "    </tr>\n",
       "  </thead>\n",
       "  <tbody>\n",
       "    <tr>\n",
       "      <td>facebook_ads</td>\n",
       "      <td>2726</td>\n",
       "      <td>305.84</td>\n",
       "      <td>2140.90</td>\n",
       "      <td>0.79</td>\n",
       "    </tr>\n",
       "    <tr>\n",
       "      <td>instagram_new_adverts</td>\n",
       "      <td>3347</td>\n",
       "      <td>308.78</td>\n",
       "      <td>2161.44</td>\n",
       "      <td>0.65</td>\n",
       "    </tr>\n",
       "    <tr>\n",
       "      <td>yandex_direct</td>\n",
       "      <td>4817</td>\n",
       "      <td>319.02</td>\n",
       "      <td>2233.11</td>\n",
       "      <td>0.46</td>\n",
       "    </tr>\n",
       "    <tr>\n",
       "      <td>youtube_channel_reklama</td>\n",
       "      <td>2686</td>\n",
       "      <td>152.59</td>\n",
       "      <td>1068.12</td>\n",
       "      <td>0.40</td>\n",
       "    </tr>\n",
       "  </tbody>\n",
       "</table>\n",
       "</div>"
      ],
      "text/plain": [
       "                         n_users  avg_cost  sum_cost   cac\n",
       "source                                                    \n",
       "facebook_ads                2726    305.84   2140.90  0.79\n",
       "instagram_new_adverts       3347    308.78   2161.44  0.65\n",
       "yandex_direct               4817    319.02   2233.11  0.46\n",
       "youtube_channel_reklama     2686    152.59   1068.12  0.40"
      ]
     },
     "execution_count": 26,
     "metadata": {},
     "output_type": "execute_result"
    }
   ],
   "source": [
    "# посчитаем стоимость привлечения одного пользователя по каждому источнику\n",
    "costs_sources['cac'] = (\n",
    "    costs_sources['sum_cost'] / costs_sources['n_users']).round(2)\n",
    "costs_sources = costs_sources.set_index('source')\n",
    "costs_sources"
   ]
  },
  {
   "cell_type": "code",
   "execution_count": 27,
   "id": "cf6f4d6c",
   "metadata": {},
   "outputs": [
    {
     "data": {
      "image/png": "[encoded data removed]",
      "text/plain": [
       "<Figure size 720x432 with 1 Axes>"
      ]
     },
     "metadata": {
      "needs_background": "light"
     },
     "output_type": "display_data"
    }
   ],
   "source": [
    "costs_sources['cac'].sort_values(ascending=False).plot(\n",
    "        kind='bar', rot=0, \n",
    "        figsize=(10,6), grid=True, \n",
    "        legend=False)\n",
    "plt.title('САС по источнику', fontsize=14)\n",
    "plt.xlabel('Источник', fontsize=12)\n",
    "plt.ylabel('САС, у.е', fontsize=12);"
   ]
  },
  {
   "cell_type": "code",
   "execution_count": 28,
   "id": "827c41d3",
   "metadata": {},
   "outputs": [
    {
     "name": "stdout",
     "output_type": "stream",
     "text": [
      "Средний САС по всем источникам — 0.57\n"
     ]
    }
   ],
   "source": [
    "print('Средний САС по всем источникам — {:.2}'.format(\n",
    "    costs_sources['cac'].mean()))"
   ]
  },
  {
   "cell_type": "code",
   "execution_count": 29,
   "id": "5c590037",
   "metadata": {},
   "outputs": [
    {
     "data": {
      "text/html": [
       "<div>\n",
       "<style scoped>\n",
       "    .dataframe tbody tr th:only-of-type {\n",
       "        vertical-align: middle;\n",
       "    }\n",
       "\n",
       "    .dataframe tbody tr th {\n",
       "        vertical-align: top;\n",
       "    }\n",
       "\n",
       "    .dataframe thead th {\n",
       "        text-align: right;\n",
       "    }\n",
       "</style>\n",
       "<table border=\"1\" class=\"dataframe\">\n",
       "  <thead>\n",
       "    <tr style=\"text-align: right;\">\n",
       "      <th></th>\n",
       "      <th>event_datetime</th>\n",
       "      <th>event</th>\n",
       "      <th>building_type</th>\n",
       "      <th>user_id</th>\n",
       "      <th>project_type</th>\n",
       "      <th>session_date</th>\n",
       "      <th>session_day</th>\n",
       "      <th>cohort</th>\n",
       "      <th>source</th>\n",
       "    </tr>\n",
       "  </thead>\n",
       "  <tbody>\n",
       "    <tr>\n",
       "      <td>0</td>\n",
       "      <td>2020-05-04 00:00:01</td>\n",
       "      <td>building</td>\n",
       "      <td>assembly_shop</td>\n",
       "      <td>55e92310-cb8e-4754-b622-597e124b03de</td>\n",
       "      <td>NaN</td>\n",
       "      <td>2020-05-04</td>\n",
       "      <td>2020-05-04</td>\n",
       "      <td>2020-05-04</td>\n",
       "      <td>youtube_channel_reklama</td>\n",
       "    </tr>\n",
       "    <tr>\n",
       "      <td>1</td>\n",
       "      <td>2020-05-05 05:20:15</td>\n",
       "      <td>building</td>\n",
       "      <td>assembly_shop</td>\n",
       "      <td>55e92310-cb8e-4754-b622-597e124b03de</td>\n",
       "      <td>NaN</td>\n",
       "      <td>2020-05-05</td>\n",
       "      <td>2020-05-05</td>\n",
       "      <td>2020-05-04</td>\n",
       "      <td>youtube_channel_reklama</td>\n",
       "    </tr>\n",
       "    <tr>\n",
       "      <td>2</td>\n",
       "      <td>2020-05-05 19:24:02</td>\n",
       "      <td>building</td>\n",
       "      <td>assembly_shop</td>\n",
       "      <td>55e92310-cb8e-4754-b622-597e124b03de</td>\n",
       "      <td>NaN</td>\n",
       "      <td>2020-05-05</td>\n",
       "      <td>2020-05-05</td>\n",
       "      <td>2020-05-04</td>\n",
       "      <td>youtube_channel_reklama</td>\n",
       "    </tr>\n",
       "    <tr>\n",
       "      <td>3</td>\n",
       "      <td>2020-05-05 20:59:19</td>\n",
       "      <td>building</td>\n",
       "      <td>assembly_shop</td>\n",
       "      <td>55e92310-cb8e-4754-b622-597e124b03de</td>\n",
       "      <td>NaN</td>\n",
       "      <td>2020-05-05</td>\n",
       "      <td>2020-05-05</td>\n",
       "      <td>2020-05-04</td>\n",
       "      <td>youtube_channel_reklama</td>\n",
       "    </tr>\n",
       "    <tr>\n",
       "      <td>4</td>\n",
       "      <td>2020-05-06 00:52:56</td>\n",
       "      <td>building</td>\n",
       "      <td>assembly_shop</td>\n",
       "      <td>55e92310-cb8e-4754-b622-597e124b03de</td>\n",
       "      <td>NaN</td>\n",
       "      <td>2020-05-06</td>\n",
       "      <td>2020-05-06</td>\n",
       "      <td>2020-05-04</td>\n",
       "      <td>youtube_channel_reklama</td>\n",
       "    </tr>\n",
       "  </tbody>\n",
       "</table>\n",
       "</div>"
      ],
      "text/plain": [
       "       event_datetime     event  building_type  \\\n",
       "0 2020-05-04 00:00:01  building  assembly_shop   \n",
       "1 2020-05-05 05:20:15  building  assembly_shop   \n",
       "2 2020-05-05 19:24:02  building  assembly_shop   \n",
       "3 2020-05-05 20:59:19  building  assembly_shop   \n",
       "4 2020-05-06 00:52:56  building  assembly_shop   \n",
       "\n",
       "                                user_id project_type session_date session_day  \\\n",
       "0  55e92310-cb8e-4754-b622-597e124b03de          NaN   2020-05-04  2020-05-04   \n",
       "1  55e92310-cb8e-4754-b622-597e124b03de          NaN   2020-05-05  2020-05-05   \n",
       "2  55e92310-cb8e-4754-b622-597e124b03de          NaN   2020-05-05  2020-05-05   \n",
       "3  55e92310-cb8e-4754-b622-597e124b03de          NaN   2020-05-05  2020-05-05   \n",
       "4  55e92310-cb8e-4754-b622-597e124b03de          NaN   2020-05-06  2020-05-06   \n",
       "\n",
       "       cohort                   source  \n",
       "0  2020-05-04  youtube_channel_reklama  \n",
       "1  2020-05-04  youtube_channel_reklama  \n",
       "2  2020-05-04  youtube_channel_reklama  \n",
       "3  2020-05-04  youtube_channel_reklama  \n",
       "4  2020-05-04  youtube_channel_reklama  "
      ]
     },
     "execution_count": 29,
     "metadata": {},
     "output_type": "execute_result"
    }
   ],
   "source": [
    "# объединим таблицу с пользователями и источниками\n",
    "actions_sources = actions.merge(sources, on='user_id')\n",
    "actions_sources.head()"
   ]
  },
  {
   "cell_type": "code",
   "execution_count": 30,
   "id": "f27465b4",
   "metadata": {},
   "outputs": [],
   "source": [
    "# сделаем срез пользователей без учета события \"строительство\"\n",
    "notbuilding = actions_sources.query('event != \"building\"')"
   ]
  },
  {
   "cell_type": "code",
   "execution_count": 31,
   "id": "120a9697",
   "metadata": {},
   "outputs": [
    {
     "data": {
      "text/html": [
       "<div>\n",
       "<style scoped>\n",
       "    .dataframe tbody tr th:only-of-type {\n",
       "        vertical-align: middle;\n",
       "    }\n",
       "\n",
       "    .dataframe tbody tr th {\n",
       "        vertical-align: top;\n",
       "    }\n",
       "\n",
       "    .dataframe thead th {\n",
       "        text-align: right;\n",
       "    }\n",
       "</style>\n",
       "<table border=\"1\" class=\"dataframe\">\n",
       "  <thead>\n",
       "    <tr style=\"text-align: right;\">\n",
       "      <th></th>\n",
       "      <th>user_id</th>\n",
       "      <th>event</th>\n",
       "    </tr>\n",
       "  </thead>\n",
       "  <tbody>\n",
       "    <tr>\n",
       "      <td>0</td>\n",
       "      <td>001d39dc-366c-4021-9604-6a3b9ff01e25</td>\n",
       "      <td>1</td>\n",
       "    </tr>\n",
       "    <tr>\n",
       "      <td>1</td>\n",
       "      <td>003ee7e8-6356-4286-a715-62f22a18d2a1</td>\n",
       "      <td>1</td>\n",
       "    </tr>\n",
       "    <tr>\n",
       "      <td>2</td>\n",
       "      <td>004074f8-251a-4776-922c-8348dca1a2f6</td>\n",
       "      <td>1</td>\n",
       "    </tr>\n",
       "    <tr>\n",
       "      <td>3</td>\n",
       "      <td>00464e5e-28ed-4be6-bf44-517ef7b3937b</td>\n",
       "      <td>1</td>\n",
       "    </tr>\n",
       "    <tr>\n",
       "      <td>4</td>\n",
       "      <td>0056c007-c082-43cc-bdef-afc49bca4cb9</td>\n",
       "      <td>1</td>\n",
       "    </tr>\n",
       "    <tr>\n",
       "      <td>...</td>\n",
       "      <td>...</td>\n",
       "      <td>...</td>\n",
       "    </tr>\n",
       "    <tr>\n",
       "      <td>5812</td>\n",
       "      <td>ffd002f3-3545-423e-8dba-0c6a2d48a3aa</td>\n",
       "      <td>1</td>\n",
       "    </tr>\n",
       "    <tr>\n",
       "      <td>5813</td>\n",
       "      <td>ffe810f4-1a1f-464b-924d-6f120b0cb8df</td>\n",
       "      <td>1</td>\n",
       "    </tr>\n",
       "    <tr>\n",
       "      <td>5814</td>\n",
       "      <td>ffef4fed-164c-40e1-bde1-3980f76d0fb5</td>\n",
       "      <td>1</td>\n",
       "    </tr>\n",
       "    <tr>\n",
       "      <td>5815</td>\n",
       "      <td>fffb626c-5ab6-47c9-8113-2062a2f18494</td>\n",
       "      <td>1</td>\n",
       "    </tr>\n",
       "    <tr>\n",
       "      <td>5816</td>\n",
       "      <td>ffff69cc-fec1-4fd3-9f98-93be1112a6b8</td>\n",
       "      <td>2</td>\n",
       "    </tr>\n",
       "  </tbody>\n",
       "</table>\n",
       "<p>5817 rows × 2 columns</p>\n",
       "</div>"
      ],
      "text/plain": [
       "                                   user_id  event\n",
       "0     001d39dc-366c-4021-9604-6a3b9ff01e25      1\n",
       "1     003ee7e8-6356-4286-a715-62f22a18d2a1      1\n",
       "2     004074f8-251a-4776-922c-8348dca1a2f6      1\n",
       "3     00464e5e-28ed-4be6-bf44-517ef7b3937b      1\n",
       "4     0056c007-c082-43cc-bdef-afc49bca4cb9      1\n",
       "...                                    ...    ...\n",
       "5812  ffd002f3-3545-423e-8dba-0c6a2d48a3aa      1\n",
       "5813  ffe810f4-1a1f-464b-924d-6f120b0cb8df      1\n",
       "5814  ffef4fed-164c-40e1-bde1-3980f76d0fb5      1\n",
       "5815  fffb626c-5ab6-47c9-8113-2062a2f18494      1\n",
       "5816  ffff69cc-fec1-4fd3-9f98-93be1112a6b8      2\n",
       "\n",
       "[5817 rows x 2 columns]"
      ]
     },
     "execution_count": 31,
     "metadata": {},
     "output_type": "execute_result"
    }
   ],
   "source": [
    "# построим сводную таблицу по пользователям и количеству событий\n",
    "# для дальнейшей категоризации пользователей \n",
    "notbuilding_events = notbuilding.pivot_table(\n",
    "        index='user_id',\n",
    "        values='event',\n",
    "        aggfunc='count').reset_index()\n",
    "notbuilding_events"
   ]
  },
  {
   "cell_type": "code",
   "execution_count": 32,
   "id": "1e04dc9a",
   "metadata": {},
   "outputs": [],
   "source": [
    "def game_type(row):\n",
    "    '''\n",
    "    Категоризация пользователей по типу прохождения первого уровня \n",
    "    \n",
    "    Функция делит пользователей на две группы: тех, кто прошел уровень\n",
    "    через победу над врагом (pvp) и тех, кто прошел уровень завершением \n",
    "    проекта (pve). \n",
    "    Так как одно один и тот же пользователь не может построить\n",
    "    два проекта или дважды завершить первый уровень, то наличие двух событий\n",
    "    (цифры 2 в поле event в сводной) в таблице notbuilding_events \n",
    "    подразумевает завершение проекта. Соответственно, одно событие означает\n",
    "    то, что пользователь завершил уровень иным способом, а в данном случае\n",
    "    победой над врагом.\n",
    "    '''\n",
    "    event = row['event']\n",
    "    if event == 1:\n",
    "        return 'pvp'\n",
    "    if event == 2:\n",
    "        return 'pve'\n",
    "    return 'другое'\n",
    "\n",
    "notbuilding_events['gamer_type'] = notbuilding_events.apply(game_type, axis=1)"
   ]
  },
  {
   "cell_type": "code",
   "execution_count": 33,
   "id": "6320abc0",
   "metadata": {},
   "outputs": [
    {
     "data": {
      "text/plain": [
       "pvp    3951\n",
       "pve    1866\n",
       "Name: gamer_type, dtype: int64"
      ]
     },
     "metadata": {},
     "output_type": "display_data"
    },
    {
     "data": {
      "text/plain": [
       "pvp    67.92\n",
       "pve    32.08\n",
       "Name: gamer_type, dtype: float64"
      ]
     },
     "execution_count": 33,
     "metadata": {},
     "output_type": "execute_result"
    }
   ],
   "source": [
    "# посмотрим на соотношение пользователей \n",
    "display(notbuilding_events['gamer_type'].value_counts())\n",
    "notbuilding_events['gamer_type'].value_counts(normalize=True).mul(100).round(2)"
   ]
  },
  {
   "cell_type": "markdown",
   "id": "912dcaa1",
   "metadata": {},
   "source": [
    "<a id='cell3'></a>    \n",
    "Всего в базе 5817 пользователей, завершивших первый уровень. 3951 (68%) из них прошли уровень благодаря победе над врагом, тогда как 1866 (32%) завершили уровень посредством строительства проекта. У одного из сценариев игры достаточно существенный перевес и что самое важное, этот вариант игры подразумевает агрессивный стиль, что может приводить к меньшему количеству строительства. \n",
    "\n",
    "Учитывая то, что экран выбора постройки является основой для планируемой модели монетизации, этот аспект игры стоит более внимательно изучить в следуюших пунктах. Вероятно, что показ рекламы только на экране выбора постройки не самый оптимальный  вариант."
   ]
  },
  {
   "cell_type": "code",
   "execution_count": 34,
   "id": "6346cb69",
   "metadata": {},
   "outputs": [],
   "source": [
    "notbuilding_events = notbuilding_events.drop('event', axis=1)"
   ]
  },
  {
   "cell_type": "code",
   "execution_count": 35,
   "id": "06427aa7",
   "metadata": {},
   "outputs": [
    {
     "data": {
      "text/html": [
       "<div>\n",
       "<style scoped>\n",
       "    .dataframe tbody tr th:only-of-type {\n",
       "        vertical-align: middle;\n",
       "    }\n",
       "\n",
       "    .dataframe tbody tr th {\n",
       "        vertical-align: top;\n",
       "    }\n",
       "\n",
       "    .dataframe thead th {\n",
       "        text-align: right;\n",
       "    }\n",
       "</style>\n",
       "<table border=\"1\" class=\"dataframe\">\n",
       "  <thead>\n",
       "    <tr style=\"text-align: right;\">\n",
       "      <th></th>\n",
       "      <th>event_datetime</th>\n",
       "      <th>event</th>\n",
       "      <th>building_type</th>\n",
       "      <th>user_id</th>\n",
       "      <th>project_type</th>\n",
       "      <th>session_date</th>\n",
       "      <th>session_day</th>\n",
       "      <th>cohort</th>\n",
       "      <th>source</th>\n",
       "      <th>gamer_type</th>\n",
       "    </tr>\n",
       "  </thead>\n",
       "  <tbody>\n",
       "    <tr>\n",
       "      <td>0</td>\n",
       "      <td>2020-05-04 00:00:01</td>\n",
       "      <td>building</td>\n",
       "      <td>assembly_shop</td>\n",
       "      <td>55e92310-cb8e-4754-b622-597e124b03de</td>\n",
       "      <td>NaN</td>\n",
       "      <td>2020-05-04</td>\n",
       "      <td>2020-05-04</td>\n",
       "      <td>2020-05-04</td>\n",
       "      <td>youtube_channel_reklama</td>\n",
       "      <td>NaN</td>\n",
       "    </tr>\n",
       "    <tr>\n",
       "      <td>1</td>\n",
       "      <td>2020-05-05 05:20:15</td>\n",
       "      <td>building</td>\n",
       "      <td>assembly_shop</td>\n",
       "      <td>55e92310-cb8e-4754-b622-597e124b03de</td>\n",
       "      <td>NaN</td>\n",
       "      <td>2020-05-05</td>\n",
       "      <td>2020-05-05</td>\n",
       "      <td>2020-05-04</td>\n",
       "      <td>youtube_channel_reklama</td>\n",
       "      <td>NaN</td>\n",
       "    </tr>\n",
       "    <tr>\n",
       "      <td>2</td>\n",
       "      <td>2020-05-05 19:24:02</td>\n",
       "      <td>building</td>\n",
       "      <td>assembly_shop</td>\n",
       "      <td>55e92310-cb8e-4754-b622-597e124b03de</td>\n",
       "      <td>NaN</td>\n",
       "      <td>2020-05-05</td>\n",
       "      <td>2020-05-05</td>\n",
       "      <td>2020-05-04</td>\n",
       "      <td>youtube_channel_reklama</td>\n",
       "      <td>NaN</td>\n",
       "    </tr>\n",
       "    <tr>\n",
       "      <td>3</td>\n",
       "      <td>2020-05-05 20:59:19</td>\n",
       "      <td>building</td>\n",
       "      <td>assembly_shop</td>\n",
       "      <td>55e92310-cb8e-4754-b622-597e124b03de</td>\n",
       "      <td>NaN</td>\n",
       "      <td>2020-05-05</td>\n",
       "      <td>2020-05-05</td>\n",
       "      <td>2020-05-04</td>\n",
       "      <td>youtube_channel_reklama</td>\n",
       "      <td>NaN</td>\n",
       "    </tr>\n",
       "    <tr>\n",
       "      <td>4</td>\n",
       "      <td>2020-05-06 00:52:56</td>\n",
       "      <td>building</td>\n",
       "      <td>assembly_shop</td>\n",
       "      <td>55e92310-cb8e-4754-b622-597e124b03de</td>\n",
       "      <td>NaN</td>\n",
       "      <td>2020-05-06</td>\n",
       "      <td>2020-05-06</td>\n",
       "      <td>2020-05-04</td>\n",
       "      <td>youtube_channel_reklama</td>\n",
       "      <td>NaN</td>\n",
       "    </tr>\n",
       "  </tbody>\n",
       "</table>\n",
       "</div>"
      ],
      "text/plain": [
       "       event_datetime     event  building_type  \\\n",
       "0 2020-05-04 00:00:01  building  assembly_shop   \n",
       "1 2020-05-05 05:20:15  building  assembly_shop   \n",
       "2 2020-05-05 19:24:02  building  assembly_shop   \n",
       "3 2020-05-05 20:59:19  building  assembly_shop   \n",
       "4 2020-05-06 00:52:56  building  assembly_shop   \n",
       "\n",
       "                                user_id project_type session_date session_day  \\\n",
       "0  55e92310-cb8e-4754-b622-597e124b03de          NaN   2020-05-04  2020-05-04   \n",
       "1  55e92310-cb8e-4754-b622-597e124b03de          NaN   2020-05-05  2020-05-05   \n",
       "2  55e92310-cb8e-4754-b622-597e124b03de          NaN   2020-05-05  2020-05-05   \n",
       "3  55e92310-cb8e-4754-b622-597e124b03de          NaN   2020-05-05  2020-05-05   \n",
       "4  55e92310-cb8e-4754-b622-597e124b03de          NaN   2020-05-06  2020-05-06   \n",
       "\n",
       "       cohort                   source gamer_type  \n",
       "0  2020-05-04  youtube_channel_reklama        NaN  \n",
       "1  2020-05-04  youtube_channel_reklama        NaN  \n",
       "2  2020-05-04  youtube_channel_reklama        NaN  \n",
       "3  2020-05-04  youtube_channel_reklama        NaN  \n",
       "4  2020-05-04  youtube_channel_reklama        NaN  "
      ]
     },
     "execution_count": 35,
     "metadata": {},
     "output_type": "execute_result"
    }
   ],
   "source": [
    "# объединим таблицы с юзерами и источниками с данными по типу прохождения\n",
    "actions_sources_gamertypes = actions_sources.merge(notbuilding_events, how='left', on='user_id')\n",
    "actions_sources_gamertypes.head()"
   ]
  },
  {
   "cell_type": "code",
   "execution_count": 36,
   "id": "5d832b71",
   "metadata": {},
   "outputs": [
    {
     "data": {
      "text/plain": [
       "NaN    67171\n",
       "pvp    41136\n",
       "pve    27333\n",
       "Name: gamer_type, dtype: int64"
      ]
     },
     "execution_count": 36,
     "metadata": {},
     "output_type": "execute_result"
    }
   ],
   "source": [
    "actions_sources_gamertypes['gamer_type'].value_counts(dropna=False)"
   ]
  },
  {
   "cell_type": "code",
   "execution_count": 37,
   "id": "8bd3fe5d",
   "metadata": {},
   "outputs": [
    {
     "data": {
      "text/plain": [
       "7759"
      ]
     },
     "execution_count": 37,
     "metadata": {},
     "output_type": "execute_result"
    }
   ],
   "source": [
    "# посчитаем количество строк с NaN для проверки\n",
    "# должно быть 7759, т.к. всего юзеров 13756 и 5817 из них завершили уровень\n",
    "actions_sources_gamertypes.query('gamer_type != gamer_type')['user_id'].nunique()"
   ]
  },
  {
   "cell_type": "code",
   "execution_count": 38,
   "id": "b082977e",
   "metadata": {},
   "outputs": [
    {
     "data": {
      "text/plain": [
       "not_finished    67171\n",
       "pvp             41136\n",
       "pve             27333\n",
       "Name: gamer_type, dtype: int64"
      ]
     },
     "execution_count": 38,
     "metadata": {},
     "output_type": "execute_result"
    }
   ],
   "source": [
    "# все строки с NaN это строки с юзерами, которые не завершили уровень\n",
    "# заполним их соответствующим значением\n",
    "actions_sources_gamertypes['gamer_type'].fillna('not_finished', inplace=True)\n",
    "actions_sources_gamertypes['gamer_type'].value_counts()"
   ]
  },
  {
   "cell_type": "code",
   "execution_count": 39,
   "id": "2f8b10ec",
   "metadata": {},
   "outputs": [
    {
     "data": {
      "text/html": [
       "<div>\n",
       "<style scoped>\n",
       "    .dataframe tbody tr th:only-of-type {\n",
       "        vertical-align: middle;\n",
       "    }\n",
       "\n",
       "    .dataframe tbody tr th {\n",
       "        vertical-align: top;\n",
       "    }\n",
       "\n",
       "    .dataframe thead th {\n",
       "        text-align: right;\n",
       "    }\n",
       "</style>\n",
       "<table border=\"1\" class=\"dataframe\">\n",
       "  <thead>\n",
       "    <tr style=\"text-align: right;\">\n",
       "      <th></th>\n",
       "      <th>source</th>\n",
       "      <th>n_users_finished</th>\n",
       "    </tr>\n",
       "  </thead>\n",
       "  <tbody>\n",
       "    <tr>\n",
       "      <td>0</td>\n",
       "      <td>facebook_ads</td>\n",
       "      <td>1150</td>\n",
       "    </tr>\n",
       "    <tr>\n",
       "      <td>1</td>\n",
       "      <td>instagram_new_adverts</td>\n",
       "      <td>1466</td>\n",
       "    </tr>\n",
       "    <tr>\n",
       "      <td>2</td>\n",
       "      <td>yandex_direct</td>\n",
       "      <td>2042</td>\n",
       "    </tr>\n",
       "    <tr>\n",
       "      <td>3</td>\n",
       "      <td>youtube_channel_reklama</td>\n",
       "      <td>1159</td>\n",
       "    </tr>\n",
       "  </tbody>\n",
       "</table>\n",
       "</div>"
      ],
      "text/plain": [
       "                    source  n_users_finished\n",
       "0             facebook_ads              1150\n",
       "1    instagram_new_adverts              1466\n",
       "2            yandex_direct              2042\n",
       "3  youtube_channel_reklama              1159"
      ]
     },
     "execution_count": 39,
     "metadata": {},
     "output_type": "execute_result"
    }
   ],
   "source": [
    "# посчитаем количество клиентов завершивших первый уровень по источникам\n",
    "users_finished = actions_sources_gamertypes.query(\n",
    "    'gamer_type != \"not_finished\"').groupby(\n",
    "    'source')[['user_id']].agg('nunique').rename(\n",
    "    {'user_id':'n_users_finished'}, axis=1).reset_index()\n",
    "users_finished"
   ]
  },
  {
   "cell_type": "code",
   "execution_count": 40,
   "id": "5b1ed8b5",
   "metadata": {},
   "outputs": [],
   "source": [
    "costs_sources.reset_index(inplace=True)\n",
    "merged_users_sources = users_finished.merge(costs_sources)"
   ]
  },
  {
   "cell_type": "code",
   "execution_count": 41,
   "id": "b1994c6f",
   "metadata": {},
   "outputs": [
    {
     "data": {
      "text/html": [
       "<div>\n",
       "<style scoped>\n",
       "    .dataframe tbody tr th:only-of-type {\n",
       "        vertical-align: middle;\n",
       "    }\n",
       "\n",
       "    .dataframe tbody tr th {\n",
       "        vertical-align: top;\n",
       "    }\n",
       "\n",
       "    .dataframe thead th {\n",
       "        text-align: right;\n",
       "    }\n",
       "</style>\n",
       "<table border=\"1\" class=\"dataframe\">\n",
       "  <thead>\n",
       "    <tr style=\"text-align: right;\">\n",
       "      <th></th>\n",
       "      <th>source</th>\n",
       "      <th>n_users_finished</th>\n",
       "      <th>n_users</th>\n",
       "      <th>avg_cost</th>\n",
       "      <th>sum_cost</th>\n",
       "      <th>cac</th>\n",
       "      <th>%_finished</th>\n",
       "    </tr>\n",
       "  </thead>\n",
       "  <tbody>\n",
       "    <tr>\n",
       "      <td>0</td>\n",
       "      <td>facebook_ads</td>\n",
       "      <td>1150</td>\n",
       "      <td>2726</td>\n",
       "      <td>305.84</td>\n",
       "      <td>2140.90</td>\n",
       "      <td>0.79</td>\n",
       "      <td>42.19</td>\n",
       "    </tr>\n",
       "    <tr>\n",
       "      <td>1</td>\n",
       "      <td>instagram_new_adverts</td>\n",
       "      <td>1466</td>\n",
       "      <td>3347</td>\n",
       "      <td>308.78</td>\n",
       "      <td>2161.44</td>\n",
       "      <td>0.65</td>\n",
       "      <td>43.80</td>\n",
       "    </tr>\n",
       "    <tr>\n",
       "      <td>2</td>\n",
       "      <td>yandex_direct</td>\n",
       "      <td>2042</td>\n",
       "      <td>4817</td>\n",
       "      <td>319.02</td>\n",
       "      <td>2233.11</td>\n",
       "      <td>0.46</td>\n",
       "      <td>42.39</td>\n",
       "    </tr>\n",
       "    <tr>\n",
       "      <td>3</td>\n",
       "      <td>youtube_channel_reklama</td>\n",
       "      <td>1159</td>\n",
       "      <td>2686</td>\n",
       "      <td>152.59</td>\n",
       "      <td>1068.12</td>\n",
       "      <td>0.40</td>\n",
       "      <td>43.15</td>\n",
       "    </tr>\n",
       "  </tbody>\n",
       "</table>\n",
       "</div>"
      ],
      "text/plain": [
       "                    source  n_users_finished  n_users  avg_cost  sum_cost  \\\n",
       "0             facebook_ads              1150     2726    305.84   2140.90   \n",
       "1    instagram_new_adverts              1466     3347    308.78   2161.44   \n",
       "2            yandex_direct              2042     4817    319.02   2233.11   \n",
       "3  youtube_channel_reklama              1159     2686    152.59   1068.12   \n",
       "\n",
       "    cac  %_finished  \n",
       "0  0.79       42.19  \n",
       "1  0.65       43.80  \n",
       "2  0.46       42.39  \n",
       "3  0.40       43.15  "
      ]
     },
     "execution_count": 41,
     "metadata": {},
     "output_type": "execute_result"
    }
   ],
   "source": [
    "# сравним проценты завершивших первый уровень юзеров по источникам\n",
    "merged_users_sources['%_finished'] = (\n",
    "    merged_users_sources['n_users_finished'] / \n",
    "    merged_users_sources['n_users'] * 100).round(2)\n",
    "\n",
    "merged_users_sources"
   ]
  },
  {
   "cell_type": "markdown",
   "id": "86724ae3",
   "metadata": {},
   "source": [
    "Процент завершивших первый уровень клиентов по источникам удивительным образом практически не отличается. \n",
    "У всех источников доля завершивших первый уровень отличается не более чем на 1.6%. Гипотеза о различии в доле завершивших первый уровень пока не выглядит состоятельной. "
   ]
  },
  {
   "cell_type": "code",
   "execution_count": 42,
   "id": "c07a48e5",
   "metadata": {},
   "outputs": [
    {
     "data": {
      "text/plain": [
       "not_finished    67171\n",
       "pvp             41136\n",
       "pve             27333\n",
       "Name: gamer_type, dtype: int64"
      ]
     },
     "execution_count": 42,
     "metadata": {},
     "output_type": "execute_result"
    }
   ],
   "source": [
    "actions_sources_gamertypes['gamer_type'].value_counts()"
   ]
  },
  {
   "cell_type": "code",
   "execution_count": 43,
   "id": "f2e6f2b7",
   "metadata": {},
   "outputs": [
    {
     "data": {
      "text/html": [
       "<div>\n",
       "<style scoped>\n",
       "    .dataframe tbody tr th:only-of-type {\n",
       "        vertical-align: middle;\n",
       "    }\n",
       "\n",
       "    .dataframe tbody tr th {\n",
       "        vertical-align: top;\n",
       "    }\n",
       "\n",
       "    .dataframe thead th {\n",
       "        text-align: right;\n",
       "    }\n",
       "</style>\n",
       "<table border=\"1\" class=\"dataframe\">\n",
       "  <thead>\n",
       "    <tr style=\"text-align: right;\">\n",
       "      <th></th>\n",
       "      <th>source</th>\n",
       "      <th>n_users_finished</th>\n",
       "      <th>n_users</th>\n",
       "      <th>avg_cost</th>\n",
       "      <th>sum_cost</th>\n",
       "      <th>cac</th>\n",
       "      <th>%_finished</th>\n",
       "    </tr>\n",
       "  </thead>\n",
       "  <tbody>\n",
       "    <tr>\n",
       "      <td>0</td>\n",
       "      <td>facebook_ads</td>\n",
       "      <td>1150</td>\n",
       "      <td>2726</td>\n",
       "      <td>305.84</td>\n",
       "      <td>2140.90</td>\n",
       "      <td>0.79</td>\n",
       "      <td>42.19</td>\n",
       "    </tr>\n",
       "    <tr>\n",
       "      <td>1</td>\n",
       "      <td>instagram_new_adverts</td>\n",
       "      <td>1466</td>\n",
       "      <td>3347</td>\n",
       "      <td>308.78</td>\n",
       "      <td>2161.44</td>\n",
       "      <td>0.65</td>\n",
       "      <td>43.80</td>\n",
       "    </tr>\n",
       "    <tr>\n",
       "      <td>2</td>\n",
       "      <td>yandex_direct</td>\n",
       "      <td>2042</td>\n",
       "      <td>4817</td>\n",
       "      <td>319.02</td>\n",
       "      <td>2233.11</td>\n",
       "      <td>0.46</td>\n",
       "      <td>42.39</td>\n",
       "    </tr>\n",
       "    <tr>\n",
       "      <td>3</td>\n",
       "      <td>youtube_channel_reklama</td>\n",
       "      <td>1159</td>\n",
       "      <td>2686</td>\n",
       "      <td>152.59</td>\n",
       "      <td>1068.12</td>\n",
       "      <td>0.40</td>\n",
       "      <td>43.15</td>\n",
       "    </tr>\n",
       "  </tbody>\n",
       "</table>\n",
       "</div>"
      ],
      "text/plain": [
       "                    source  n_users_finished  n_users  avg_cost  sum_cost  \\\n",
       "0             facebook_ads              1150     2726    305.84   2140.90   \n",
       "1    instagram_new_adverts              1466     3347    308.78   2161.44   \n",
       "2            yandex_direct              2042     4817    319.02   2233.11   \n",
       "3  youtube_channel_reklama              1159     2686    152.59   1068.12   \n",
       "\n",
       "    cac  %_finished  \n",
       "0  0.79       42.19  \n",
       "1  0.65       43.80  \n",
       "2  0.46       42.39  \n",
       "3  0.40       43.15  "
      ]
     },
     "execution_count": 43,
     "metadata": {},
     "output_type": "execute_result"
    }
   ],
   "source": [
    "merged_users_sources"
   ]
  },
  {
   "cell_type": "markdown",
   "id": "16c14b63",
   "metadata": {},
   "source": [
    "Проверим гипотезу о влиянии источника (в нашем случае YouTube) на долю пользователей, завершивших первый уровень. Есть предположение, что так как стоимость привлечения пользователей из YouTube в среднем ниже, аудитория, пришедшая оттуда будет больше заинтересована и с большей вероятностью завершит игру.\n",
    "\n",
    "Таким образом, нулевая гипотеза $H_0$ будет звучать так:\n",
    " `доля пользователей, завершивших первый уровень в YouTube и в каждом другом источнике будет равна`\n",
    " \n",
    "Альтернативная гипотеза $H_1$: `доля пользователей, завершивших первый уровень в YouTube и в каждом другом источнике различается`\n",
    "\n",
    "Проверим данные по YouTube с каждым другим источником."
   ]
  },
  {
   "cell_type": "code",
   "execution_count": 44,
   "id": "6f96a35f",
   "metadata": {},
   "outputs": [
    {
     "name": "stdout",
     "output_type": "stream",
     "text": [
      "0.47374\n",
      "Не получилось отвергнуть нулевую гипотезу\n"
     ]
    }
   ],
   "source": [
    "# YouTube vs Facebook\n",
    "\n",
    "# возьмем кол-во юзеров, завершивших уровень по обоим источникам\n",
    "count = (merged_users_sources.loc[3, 'n_users_finished'], merged_users_sources.loc[0, 'n_users_finished'])\n",
    "# возьмем кол-во пользователей в каждой из групп\n",
    "nobs = (merged_users_sources.loc[3, 'n_users'], merged_users_sources.loc[0, 'n_users'])\n",
    "alpha = .05\n",
    "stat, pvalue = proportions_ztest(count, nobs)\n",
    "print(round(pvalue, 5))\n",
    "\n",
    "if pvalue < alpha:\n",
    "    print(\"Отвергаем нулевую гипотезу\")\n",
    "else:\n",
    "    print(\"Не получилось отвергнуть нулевую гипотезу\")"
   ]
  },
  {
   "cell_type": "code",
   "execution_count": 45,
   "id": "c4051138",
   "metadata": {},
   "outputs": [
    {
     "name": "stdout",
     "output_type": "stream",
     "text": [
      "0.61237\n",
      "Не получилось отвергнуть нулевую гипотезу\n"
     ]
    }
   ],
   "source": [
    "# YouTube vs Instagram\n",
    "count = (merged_users_sources.loc[3, 'n_users_finished'], merged_users_sources.loc[1, 'n_users_finished'])\n",
    "nobs = (merged_users_sources.loc[3, 'n_users'], merged_users_sources.loc[1, 'n_users'])\n",
    "alpha = .05\n",
    "stat, pvalue = proportions_ztest(count, nobs)\n",
    "print(round(pvalue, 5))\n",
    "\n",
    "if pvalue < alpha:\n",
    "    print(\"Отвергаем нулевую гипотезу\")\n",
    "else:\n",
    "    print(\"Не получилось отвергнуть нулевую гипотезу\")"
   ]
  },
  {
   "cell_type": "code",
   "execution_count": 46,
   "id": "064141fe",
   "metadata": {},
   "outputs": [
    {
     "name": "stdout",
     "output_type": "stream",
     "text": [
      "0.52442\n",
      "Не получилось отвергнуть нулевую гипотезу\n"
     ]
    }
   ],
   "source": [
    "# YouTube vs Yandex Direct\n",
    "count = (merged_users_sources.loc[3, 'n_users_finished'], merged_users_sources.loc[2, 'n_users_finished'])\n",
    "nobs = (merged_users_sources.loc[3, 'n_users'], merged_users_sources.loc[2, 'n_users'])\n",
    "alpha = .05\n",
    "stat, pvalue = proportions_ztest(count, nobs)\n",
    "print(round(pvalue, 5))\n",
    "\n",
    "if pvalue < alpha:\n",
    "    print(\"Отвергаем нулевую гипотезу\")\n",
    "else:\n",
    "    print(\"Не получилось отвергнуть нулевую гипотезу\")"
   ]
  },
  {
   "cell_type": "markdown",
   "id": "b91e3e8c",
   "metadata": {},
   "source": [
    "Результаты Z-test подтвердили, что с большой вероятностью никаких различий в доле игроков, завершивших первый уровень в зависимости от источника нет. Оснований для опровержения нулевой гипотезы нет. \n",
    "Предположение, что пользователи из YouTube будут активнее играть и с большей вероятностью завершат уровень оказалось неверным."
   ]
  },
  {
   "cell_type": "markdown",
   "id": "e33b118f",
   "metadata": {},
   "source": [
    "## Среднее время прохождения при разных сценариях"
   ]
  },
  {
   "cell_type": "code",
   "execution_count": 47,
   "id": "746a0e2d",
   "metadata": {},
   "outputs": [],
   "source": [
    "# сделаем срез только по пользователям, которые завершили уровень \n",
    "finished = actions_sources_gamertypes.query('gamer_type != \"not_finished\"').drop(['session_day', 'session_date'], axis=1)\n",
    "not_finished = actions_sources_gamertypes.query('gamer_type == \"not_finished\"').drop(['session_day', 'session_date'], axis=1)"
   ]
  },
  {
   "cell_type": "code",
   "execution_count": 48,
   "id": "d079a33b",
   "metadata": {},
   "outputs": [
    {
     "data": {
      "text/html": [
       "<div>\n",
       "<style scoped>\n",
       "    .dataframe tbody tr th:only-of-type {\n",
       "        vertical-align: middle;\n",
       "    }\n",
       "\n",
       "    .dataframe tbody tr th {\n",
       "        vertical-align: top;\n",
       "    }\n",
       "\n",
       "    .dataframe thead tr th {\n",
       "        text-align: left;\n",
       "    }\n",
       "\n",
       "    .dataframe thead tr:last-of-type th {\n",
       "        text-align: right;\n",
       "    }\n",
       "</style>\n",
       "<table border=\"1\" class=\"dataframe\">\n",
       "  <thead>\n",
       "    <tr>\n",
       "      <th></th>\n",
       "      <th colspan=\"2\" halign=\"left\">event_datetime</th>\n",
       "      <th colspan=\"2\" halign=\"left\">event</th>\n",
       "    </tr>\n",
       "    <tr>\n",
       "      <th></th>\n",
       "      <th>min</th>\n",
       "      <th>max</th>\n",
       "      <th>min</th>\n",
       "      <th>max</th>\n",
       "    </tr>\n",
       "    <tr>\n",
       "      <th>user_id</th>\n",
       "      <th></th>\n",
       "      <th></th>\n",
       "      <th></th>\n",
       "      <th></th>\n",
       "    </tr>\n",
       "  </thead>\n",
       "  <tbody>\n",
       "    <tr>\n",
       "      <td>001d39dc-366c-4021-9604-6a3b9ff01e25</td>\n",
       "      <td>2020-05-05 21:02:05</td>\n",
       "      <td>2020-05-12 07:40:47</td>\n",
       "      <td>building</td>\n",
       "      <td>finished_stage_1</td>\n",
       "    </tr>\n",
       "    <tr>\n",
       "      <td>003ee7e8-6356-4286-a715-62f22a18d2a1</td>\n",
       "      <td>2020-05-05 08:31:04</td>\n",
       "      <td>2020-05-17 21:47:49</td>\n",
       "      <td>building</td>\n",
       "      <td>finished_stage_1</td>\n",
       "    </tr>\n",
       "    <tr>\n",
       "      <td>004074f8-251a-4776-922c-8348dca1a2f6</td>\n",
       "      <td>2020-05-04 01:07:35</td>\n",
       "      <td>2020-05-16 19:57:40</td>\n",
       "      <td>building</td>\n",
       "      <td>finished_stage_1</td>\n",
       "    </tr>\n",
       "    <tr>\n",
       "      <td>00464e5e-28ed-4be6-bf44-517ef7b3937b</td>\n",
       "      <td>2020-05-04 08:35:29</td>\n",
       "      <td>2020-05-15 16:02:01</td>\n",
       "      <td>building</td>\n",
       "      <td>finished_stage_1</td>\n",
       "    </tr>\n",
       "    <tr>\n",
       "      <td>0056c007-c082-43cc-bdef-afc49bca4cb9</td>\n",
       "      <td>2020-05-10 11:49:47</td>\n",
       "      <td>2020-05-16 13:48:39</td>\n",
       "      <td>building</td>\n",
       "      <td>finished_stage_1</td>\n",
       "    </tr>\n",
       "    <tr>\n",
       "      <td>...</td>\n",
       "      <td>...</td>\n",
       "      <td>...</td>\n",
       "      <td>...</td>\n",
       "      <td>...</td>\n",
       "    </tr>\n",
       "    <tr>\n",
       "      <td>ffd002f3-3545-423e-8dba-0c6a2d48a3aa</td>\n",
       "      <td>2020-05-06 06:34:18</td>\n",
       "      <td>2020-05-19 04:03:24</td>\n",
       "      <td>building</td>\n",
       "      <td>finished_stage_1</td>\n",
       "    </tr>\n",
       "    <tr>\n",
       "      <td>ffe810f4-1a1f-464b-924d-6f120b0cb8df</td>\n",
       "      <td>2020-05-04 17:46:05</td>\n",
       "      <td>2020-05-18 02:03:36</td>\n",
       "      <td>building</td>\n",
       "      <td>finished_stage_1</td>\n",
       "    </tr>\n",
       "    <tr>\n",
       "      <td>ffef4fed-164c-40e1-bde1-3980f76d0fb5</td>\n",
       "      <td>2020-05-04 01:58:59</td>\n",
       "      <td>2020-05-11 22:15:54</td>\n",
       "      <td>building</td>\n",
       "      <td>finished_stage_1</td>\n",
       "    </tr>\n",
       "    <tr>\n",
       "      <td>fffb626c-5ab6-47c9-8113-2062a2f18494</td>\n",
       "      <td>2020-05-04 02:05:09</td>\n",
       "      <td>2020-05-12 13:01:52</td>\n",
       "      <td>building</td>\n",
       "      <td>finished_stage_1</td>\n",
       "    </tr>\n",
       "    <tr>\n",
       "      <td>ffff69cc-fec1-4fd3-9f98-93be1112a6b8</td>\n",
       "      <td>2020-05-08 06:57:30</td>\n",
       "      <td>2020-05-25 14:05:51</td>\n",
       "      <td>building</td>\n",
       "      <td>project</td>\n",
       "    </tr>\n",
       "  </tbody>\n",
       "</table>\n",
       "<p>5817 rows × 4 columns</p>\n",
       "</div>"
      ],
      "text/plain": [
       "                                          event_datetime                      \\\n",
       "                                                     min                 max   \n",
       "user_id                                                                        \n",
       "001d39dc-366c-4021-9604-6a3b9ff01e25 2020-05-05 21:02:05 2020-05-12 07:40:47   \n",
       "003ee7e8-6356-4286-a715-62f22a18d2a1 2020-05-05 08:31:04 2020-05-17 21:47:49   \n",
       "004074f8-251a-4776-922c-8348dca1a2f6 2020-05-04 01:07:35 2020-05-16 19:57:40   \n",
       "00464e5e-28ed-4be6-bf44-517ef7b3937b 2020-05-04 08:35:29 2020-05-15 16:02:01   \n",
       "0056c007-c082-43cc-bdef-afc49bca4cb9 2020-05-10 11:49:47 2020-05-16 13:48:39   \n",
       "...                                                  ...                 ...   \n",
       "ffd002f3-3545-423e-8dba-0c6a2d48a3aa 2020-05-06 06:34:18 2020-05-19 04:03:24   \n",
       "ffe810f4-1a1f-464b-924d-6f120b0cb8df 2020-05-04 17:46:05 2020-05-18 02:03:36   \n",
       "ffef4fed-164c-40e1-bde1-3980f76d0fb5 2020-05-04 01:58:59 2020-05-11 22:15:54   \n",
       "fffb626c-5ab6-47c9-8113-2062a2f18494 2020-05-04 02:05:09 2020-05-12 13:01:52   \n",
       "ffff69cc-fec1-4fd3-9f98-93be1112a6b8 2020-05-08 06:57:30 2020-05-25 14:05:51   \n",
       "\n",
       "                                         event                    \n",
       "                                           min               max  \n",
       "user_id                                                           \n",
       "001d39dc-366c-4021-9604-6a3b9ff01e25  building  finished_stage_1  \n",
       "003ee7e8-6356-4286-a715-62f22a18d2a1  building  finished_stage_1  \n",
       "004074f8-251a-4776-922c-8348dca1a2f6  building  finished_stage_1  \n",
       "00464e5e-28ed-4be6-bf44-517ef7b3937b  building  finished_stage_1  \n",
       "0056c007-c082-43cc-bdef-afc49bca4cb9  building  finished_stage_1  \n",
       "...                                        ...               ...  \n",
       "ffd002f3-3545-423e-8dba-0c6a2d48a3aa  building  finished_stage_1  \n",
       "ffe810f4-1a1f-464b-924d-6f120b0cb8df  building  finished_stage_1  \n",
       "ffef4fed-164c-40e1-bde1-3980f76d0fb5  building  finished_stage_1  \n",
       "fffb626c-5ab6-47c9-8113-2062a2f18494  building  finished_stage_1  \n",
       "ffff69cc-fec1-4fd3-9f98-93be1112a6b8  building           project  \n",
       "\n",
       "[5817 rows x 4 columns]"
      ]
     },
     "execution_count": 48,
     "metadata": {},
     "output_type": "execute_result"
    }
   ],
   "source": [
    "# сгруппируем по пользователям и событиям, чтобы посчитать время прохождения\n",
    "fin_time = finished.groupby('user_id')[['event_datetime', 'event']].agg(['min', 'max'])\n",
    "fin_time"
   ]
  },
  {
   "cell_type": "code",
   "execution_count": 49,
   "id": "831ecc9d",
   "metadata": {},
   "outputs": [
    {
     "data": {
      "text/html": [
       "<div>\n",
       "<style scoped>\n",
       "    .dataframe tbody tr th:only-of-type {\n",
       "        vertical-align: middle;\n",
       "    }\n",
       "\n",
       "    .dataframe tbody tr th {\n",
       "        vertical-align: top;\n",
       "    }\n",
       "\n",
       "    .dataframe thead th {\n",
       "        text-align: right;\n",
       "    }\n",
       "</style>\n",
       "<table border=\"1\" class=\"dataframe\">\n",
       "  <thead>\n",
       "    <tr style=\"text-align: right;\">\n",
       "      <th></th>\n",
       "      <th>user_id</th>\n",
       "      <th>start_ts</th>\n",
       "      <th>end_ts</th>\n",
       "      <th>first_event</th>\n",
       "      <th>last_event</th>\n",
       "    </tr>\n",
       "  </thead>\n",
       "  <tbody>\n",
       "    <tr>\n",
       "      <td>0</td>\n",
       "      <td>001d39dc-366c-4021-9604-6a3b9ff01e25</td>\n",
       "      <td>2020-05-05 21:02:05</td>\n",
       "      <td>2020-05-12 07:40:47</td>\n",
       "      <td>building</td>\n",
       "      <td>finished_stage_1</td>\n",
       "    </tr>\n",
       "    <tr>\n",
       "      <td>1</td>\n",
       "      <td>003ee7e8-6356-4286-a715-62f22a18d2a1</td>\n",
       "      <td>2020-05-05 08:31:04</td>\n",
       "      <td>2020-05-17 21:47:49</td>\n",
       "      <td>building</td>\n",
       "      <td>finished_stage_1</td>\n",
       "    </tr>\n",
       "    <tr>\n",
       "      <td>2</td>\n",
       "      <td>004074f8-251a-4776-922c-8348dca1a2f6</td>\n",
       "      <td>2020-05-04 01:07:35</td>\n",
       "      <td>2020-05-16 19:57:40</td>\n",
       "      <td>building</td>\n",
       "      <td>finished_stage_1</td>\n",
       "    </tr>\n",
       "    <tr>\n",
       "      <td>3</td>\n",
       "      <td>00464e5e-28ed-4be6-bf44-517ef7b3937b</td>\n",
       "      <td>2020-05-04 08:35:29</td>\n",
       "      <td>2020-05-15 16:02:01</td>\n",
       "      <td>building</td>\n",
       "      <td>finished_stage_1</td>\n",
       "    </tr>\n",
       "    <tr>\n",
       "      <td>4</td>\n",
       "      <td>0056c007-c082-43cc-bdef-afc49bca4cb9</td>\n",
       "      <td>2020-05-10 11:49:47</td>\n",
       "      <td>2020-05-16 13:48:39</td>\n",
       "      <td>building</td>\n",
       "      <td>finished_stage_1</td>\n",
       "    </tr>\n",
       "    <tr>\n",
       "      <td>...</td>\n",
       "      <td>...</td>\n",
       "      <td>...</td>\n",
       "      <td>...</td>\n",
       "      <td>...</td>\n",
       "      <td>...</td>\n",
       "    </tr>\n",
       "    <tr>\n",
       "      <td>5812</td>\n",
       "      <td>ffd002f3-3545-423e-8dba-0c6a2d48a3aa</td>\n",
       "      <td>2020-05-06 06:34:18</td>\n",
       "      <td>2020-05-19 04:03:24</td>\n",
       "      <td>building</td>\n",
       "      <td>finished_stage_1</td>\n",
       "    </tr>\n",
       "    <tr>\n",
       "      <td>5813</td>\n",
       "      <td>ffe810f4-1a1f-464b-924d-6f120b0cb8df</td>\n",
       "      <td>2020-05-04 17:46:05</td>\n",
       "      <td>2020-05-18 02:03:36</td>\n",
       "      <td>building</td>\n",
       "      <td>finished_stage_1</td>\n",
       "    </tr>\n",
       "    <tr>\n",
       "      <td>5814</td>\n",
       "      <td>ffef4fed-164c-40e1-bde1-3980f76d0fb5</td>\n",
       "      <td>2020-05-04 01:58:59</td>\n",
       "      <td>2020-05-11 22:15:54</td>\n",
       "      <td>building</td>\n",
       "      <td>finished_stage_1</td>\n",
       "    </tr>\n",
       "    <tr>\n",
       "      <td>5815</td>\n",
       "      <td>fffb626c-5ab6-47c9-8113-2062a2f18494</td>\n",
       "      <td>2020-05-04 02:05:09</td>\n",
       "      <td>2020-05-12 13:01:52</td>\n",
       "      <td>building</td>\n",
       "      <td>finished_stage_1</td>\n",
       "    </tr>\n",
       "    <tr>\n",
       "      <td>5816</td>\n",
       "      <td>ffff69cc-fec1-4fd3-9f98-93be1112a6b8</td>\n",
       "      <td>2020-05-08 06:57:30</td>\n",
       "      <td>2020-05-25 14:05:51</td>\n",
       "      <td>building</td>\n",
       "      <td>project</td>\n",
       "    </tr>\n",
       "  </tbody>\n",
       "</table>\n",
       "<p>5817 rows × 5 columns</p>\n",
       "</div>"
      ],
      "text/plain": [
       "                                   user_id            start_ts  \\\n",
       "0     001d39dc-366c-4021-9604-6a3b9ff01e25 2020-05-05 21:02:05   \n",
       "1     003ee7e8-6356-4286-a715-62f22a18d2a1 2020-05-05 08:31:04   \n",
       "2     004074f8-251a-4776-922c-8348dca1a2f6 2020-05-04 01:07:35   \n",
       "3     00464e5e-28ed-4be6-bf44-517ef7b3937b 2020-05-04 08:35:29   \n",
       "4     0056c007-c082-43cc-bdef-afc49bca4cb9 2020-05-10 11:49:47   \n",
       "...                                    ...                 ...   \n",
       "5812  ffd002f3-3545-423e-8dba-0c6a2d48a3aa 2020-05-06 06:34:18   \n",
       "5813  ffe810f4-1a1f-464b-924d-6f120b0cb8df 2020-05-04 17:46:05   \n",
       "5814  ffef4fed-164c-40e1-bde1-3980f76d0fb5 2020-05-04 01:58:59   \n",
       "5815  fffb626c-5ab6-47c9-8113-2062a2f18494 2020-05-04 02:05:09   \n",
       "5816  ffff69cc-fec1-4fd3-9f98-93be1112a6b8 2020-05-08 06:57:30   \n",
       "\n",
       "                  end_ts first_event        last_event  \n",
       "0    2020-05-12 07:40:47    building  finished_stage_1  \n",
       "1    2020-05-17 21:47:49    building  finished_stage_1  \n",
       "2    2020-05-16 19:57:40    building  finished_stage_1  \n",
       "3    2020-05-15 16:02:01    building  finished_stage_1  \n",
       "4    2020-05-16 13:48:39    building  finished_stage_1  \n",
       "...                  ...         ...               ...  \n",
       "5812 2020-05-19 04:03:24    building  finished_stage_1  \n",
       "5813 2020-05-18 02:03:36    building  finished_stage_1  \n",
       "5814 2020-05-11 22:15:54    building  finished_stage_1  \n",
       "5815 2020-05-12 13:01:52    building  finished_stage_1  \n",
       "5816 2020-05-25 14:05:51    building           project  \n",
       "\n",
       "[5817 rows x 5 columns]"
      ]
     },
     "execution_count": 49,
     "metadata": {},
     "output_type": "execute_result"
    }
   ],
   "source": [
    "# избавимся от мульти-индекса и переименуем столбцы\n",
    "fin_time.columns = fin_time.columns.droplevel(0)\n",
    "fin_time.reset_index(inplace=True)\n",
    "fin_time.columns = ['user_id', 'start_ts', 'end_ts', 'first_event', 'last_event']\n",
    "fin_time"
   ]
  },
  {
   "cell_type": "code",
   "execution_count": 50,
   "id": "994615df",
   "metadata": {},
   "outputs": [
    {
     "data": {
      "text/plain": [
       "building    5817\n",
       "Name: first_event, dtype: int64"
      ]
     },
     "execution_count": 50,
     "metadata": {},
     "output_type": "execute_result"
    }
   ],
   "source": [
    "# проверим корректность первого события для надежности\n",
    "# у всех юзеров должно быть событие \"строительство\", так как начинать игру\n",
    "# с проекта или завершения уровня нельзя\n",
    "fin_time['first_event'].value_counts()"
   ]
  },
  {
   "cell_type": "code",
   "execution_count": 51,
   "id": "c42ed200",
   "metadata": {},
   "outputs": [
    {
     "data": {
      "text/plain": [
       "finished_stage_1    3951\n",
       "project             1866\n",
       "Name: last_event, dtype: int64"
      ]
     },
     "execution_count": 51,
     "metadata": {},
     "output_type": "execute_result"
    }
   ],
   "source": [
    "# посмотрим на соотношение пользователей по последнему событию\n",
    "# 3951 завершили уровень без постройки проекта (то есть победой над врагом)\n",
    "# 1866 построили проект\n",
    "fin_time['last_event'].value_counts()"
   ]
  },
  {
   "cell_type": "code",
   "execution_count": 52,
   "id": "45cef466",
   "metadata": {},
   "outputs": [],
   "source": [
    "# сделаем срезы, в которых сохраним обе группы игроков\n",
    "project = fin_time.query('last_event == \"project\"').drop(['first_event', 'last_event'], axis=1)\n",
    "battle = fin_time.query('last_event == \"finished_stage_1\"').drop(['first_event', 'last_event'], axis=1)"
   ]
  },
  {
   "cell_type": "code",
   "execution_count": 53,
   "id": "99965e60",
   "metadata": {},
   "outputs": [],
   "source": [
    "# посчитаем время для прохождения уровня для обеих групп в минутах\n",
    "project['level_time'] = (\n",
    "    project['end_ts'] - project['start_ts']).astype(\n",
    "    'timedelta64[m]').astype(int)\n",
    "\n",
    "battle['level_time'] = (\n",
    "    battle['end_ts'] - battle['start_ts']).astype(\n",
    "    'timedelta64[m]').astype(int)"
   ]
  },
  {
   "cell_type": "code",
   "execution_count": 54,
   "id": "1ac7618a",
   "metadata": {},
   "outputs": [
    {
     "data": {
      "text/html": [
       "<div>\n",
       "<style scoped>\n",
       "    .dataframe tbody tr th:only-of-type {\n",
       "        vertical-align: middle;\n",
       "    }\n",
       "\n",
       "    .dataframe tbody tr th {\n",
       "        vertical-align: top;\n",
       "    }\n",
       "\n",
       "    .dataframe thead th {\n",
       "        text-align: right;\n",
       "    }\n",
       "</style>\n",
       "<table border=\"1\" class=\"dataframe\">\n",
       "  <thead>\n",
       "    <tr style=\"text-align: right;\">\n",
       "      <th></th>\n",
       "      <th>user_id</th>\n",
       "      <th>start_ts</th>\n",
       "      <th>end_ts</th>\n",
       "      <th>level_time</th>\n",
       "    </tr>\n",
       "  </thead>\n",
       "  <tbody>\n",
       "    <tr>\n",
       "      <td>7</td>\n",
       "      <td>006380d6-67a6-45de-ab1e-6eb54ad8dbe8</td>\n",
       "      <td>2020-05-04 16:43:39</td>\n",
       "      <td>2020-05-16 11:22:33</td>\n",
       "      <td>16958</td>\n",
       "    </tr>\n",
       "    <tr>\n",
       "      <td>12</td>\n",
       "      <td>00be7371-fa79-4fbd-b8e7-8ba32e3f8f82</td>\n",
       "      <td>2020-05-08 21:57:44</td>\n",
       "      <td>2020-05-24 19:05:12</td>\n",
       "      <td>22867</td>\n",
       "    </tr>\n",
       "    <tr>\n",
       "      <td>13</td>\n",
       "      <td>00c2b9f2-2615-439c-aed0-6974e4c6c1c1</td>\n",
       "      <td>2020-05-07 10:26:09</td>\n",
       "      <td>2020-05-27 11:38:47</td>\n",
       "      <td>28872</td>\n",
       "    </tr>\n",
       "    <tr>\n",
       "      <td>15</td>\n",
       "      <td>00de2809-403e-4476-a2f7-ca1b11700190</td>\n",
       "      <td>2020-05-04 07:48:50</td>\n",
       "      <td>2020-05-18 09:34:10</td>\n",
       "      <td>20265</td>\n",
       "    </tr>\n",
       "    <tr>\n",
       "      <td>16</td>\n",
       "      <td>00e83261-5fd4-4939-9616-802b5a0202c6</td>\n",
       "      <td>2020-05-05 15:49:57</td>\n",
       "      <td>2020-05-20 09:35:04</td>\n",
       "      <td>21225</td>\n",
       "    </tr>\n",
       "  </tbody>\n",
       "</table>\n",
       "</div>"
      ],
      "text/plain": [
       "                                 user_id            start_ts  \\\n",
       "7   006380d6-67a6-45de-ab1e-6eb54ad8dbe8 2020-05-04 16:43:39   \n",
       "12  00be7371-fa79-4fbd-b8e7-8ba32e3f8f82 2020-05-08 21:57:44   \n",
       "13  00c2b9f2-2615-439c-aed0-6974e4c6c1c1 2020-05-07 10:26:09   \n",
       "15  00de2809-403e-4476-a2f7-ca1b11700190 2020-05-04 07:48:50   \n",
       "16  00e83261-5fd4-4939-9616-802b5a0202c6 2020-05-05 15:49:57   \n",
       "\n",
       "                end_ts  level_time  \n",
       "7  2020-05-16 11:22:33       16958  \n",
       "12 2020-05-24 19:05:12       22867  \n",
       "13 2020-05-27 11:38:47       28872  \n",
       "15 2020-05-18 09:34:10       20265  \n",
       "16 2020-05-20 09:35:04       21225  "
      ]
     },
     "metadata": {},
     "output_type": "display_data"
    },
    {
     "data": {
      "text/html": [
       "<div>\n",
       "<style scoped>\n",
       "    .dataframe tbody tr th:only-of-type {\n",
       "        vertical-align: middle;\n",
       "    }\n",
       "\n",
       "    .dataframe tbody tr th {\n",
       "        vertical-align: top;\n",
       "    }\n",
       "\n",
       "    .dataframe thead th {\n",
       "        text-align: right;\n",
       "    }\n",
       "</style>\n",
       "<table border=\"1\" class=\"dataframe\">\n",
       "  <thead>\n",
       "    <tr style=\"text-align: right;\">\n",
       "      <th></th>\n",
       "      <th>user_id</th>\n",
       "      <th>start_ts</th>\n",
       "      <th>end_ts</th>\n",
       "      <th>level_time</th>\n",
       "    </tr>\n",
       "  </thead>\n",
       "  <tbody>\n",
       "    <tr>\n",
       "      <td>0</td>\n",
       "      <td>001d39dc-366c-4021-9604-6a3b9ff01e25</td>\n",
       "      <td>2020-05-05 21:02:05</td>\n",
       "      <td>2020-05-12 07:40:47</td>\n",
       "      <td>9278</td>\n",
       "    </tr>\n",
       "    <tr>\n",
       "      <td>1</td>\n",
       "      <td>003ee7e8-6356-4286-a715-62f22a18d2a1</td>\n",
       "      <td>2020-05-05 08:31:04</td>\n",
       "      <td>2020-05-17 21:47:49</td>\n",
       "      <td>18076</td>\n",
       "    </tr>\n",
       "    <tr>\n",
       "      <td>2</td>\n",
       "      <td>004074f8-251a-4776-922c-8348dca1a2f6</td>\n",
       "      <td>2020-05-04 01:07:35</td>\n",
       "      <td>2020-05-16 19:57:40</td>\n",
       "      <td>18410</td>\n",
       "    </tr>\n",
       "    <tr>\n",
       "      <td>3</td>\n",
       "      <td>00464e5e-28ed-4be6-bf44-517ef7b3937b</td>\n",
       "      <td>2020-05-04 08:35:29</td>\n",
       "      <td>2020-05-15 16:02:01</td>\n",
       "      <td>16286</td>\n",
       "    </tr>\n",
       "    <tr>\n",
       "      <td>4</td>\n",
       "      <td>0056c007-c082-43cc-bdef-afc49bca4cb9</td>\n",
       "      <td>2020-05-10 11:49:47</td>\n",
       "      <td>2020-05-16 13:48:39</td>\n",
       "      <td>8758</td>\n",
       "    </tr>\n",
       "  </tbody>\n",
       "</table>\n",
       "</div>"
      ],
      "text/plain": [
       "                                user_id            start_ts  \\\n",
       "0  001d39dc-366c-4021-9604-6a3b9ff01e25 2020-05-05 21:02:05   \n",
       "1  003ee7e8-6356-4286-a715-62f22a18d2a1 2020-05-05 08:31:04   \n",
       "2  004074f8-251a-4776-922c-8348dca1a2f6 2020-05-04 01:07:35   \n",
       "3  00464e5e-28ed-4be6-bf44-517ef7b3937b 2020-05-04 08:35:29   \n",
       "4  0056c007-c082-43cc-bdef-afc49bca4cb9 2020-05-10 11:49:47   \n",
       "\n",
       "               end_ts  level_time  \n",
       "0 2020-05-12 07:40:47        9278  \n",
       "1 2020-05-17 21:47:49       18076  \n",
       "2 2020-05-16 19:57:40       18410  \n",
       "3 2020-05-15 16:02:01       16286  \n",
       "4 2020-05-16 13:48:39        8758  "
      ]
     },
     "execution_count": 54,
     "metadata": {},
     "output_type": "execute_result"
    }
   ],
   "source": [
    "display(project.head())\n",
    "battle.head()"
   ]
  },
  {
   "cell_type": "code",
   "execution_count": 55,
   "id": "2047f1f5",
   "metadata": {},
   "outputs": [
    {
     "data": {
      "image/png": "[encoded data removed]",
      "text/plain": [
       "<Figure size 432x288 with 1 Axes>"
      ]
     },
     "metadata": {
      "needs_background": "light"
     },
     "output_type": "display_data"
    }
   ],
   "source": [
    "project['level_time'].hist();"
   ]
  },
  {
   "cell_type": "code",
   "execution_count": 56,
   "id": "861f8c53",
   "metadata": {},
   "outputs": [
    {
     "data": {
      "image/png": "[encoded data removed]",
      "text/plain": [
       "<Figure size 432x288 with 1 Axes>"
      ]
     },
     "metadata": {
      "needs_background": "light"
     },
     "output_type": "display_data"
    }
   ],
   "source": [
    "battle['level_time'].hist();"
   ]
  },
  {
   "cell_type": "markdown",
   "id": "6a061731",
   "metadata": {},
   "source": [
    "В обеих группах пик распределения находится в районе 15-20 тысяч минут. \n",
    "Распределения по обеим группам нельзя назвать нормальными. Проверим показатели обеих группы на \"нормальность\" тестом Шапиро-Уилка. "
   ]
  },
  {
   "cell_type": "code",
   "execution_count": 57,
   "id": "a37dbfe3",
   "metadata": {},
   "outputs": [
    {
     "name": "stdout",
     "output_type": "stream",
     "text": [
      "p-значение:  3.409758361508915e-20\n",
      "Отвергаем нулевую гипотезу: распределение не нормально\n"
     ]
    }
   ],
   "source": [
    "alpha = 0.05 \n",
    "\n",
    "results = st.shapiro(project['level_time'])\n",
    "p_value = results[1] \n",
    "\n",
    "print('p-значение: ', p_value)\n",
    "\n",
    "if p_value < alpha:\n",
    "    print('Отвергаем нулевую гипотезу: распределение не нормально')\n",
    "else:\n",
    "    print('Не получилось отвергнуть нулевую гипотезу, распределение нормально') "
   ]
  },
  {
   "cell_type": "code",
   "execution_count": 58,
   "id": "02e155a0",
   "metadata": {},
   "outputs": [
    {
     "name": "stdout",
     "output_type": "stream",
     "text": [
      "p-значение:  1.7377198666599465e-21\n",
      "Отвергаем нулевую гипотезу: распределение не нормально\n"
     ]
    }
   ],
   "source": [
    "alpha = 0.05 \n",
    "\n",
    "results = st.shapiro(battle['level_time'])\n",
    "p_value = results[1] \n",
    "\n",
    "print('p-значение: ', p_value)\n",
    "\n",
    "if p_value < alpha:\n",
    "    print('Отвергаем нулевую гипотезу: распределение не нормально')\n",
    "else:\n",
    "    print('Не получилось отвергнуть нулевую гипотезу, распределение нормально') "
   ]
  },
  {
   "cell_type": "markdown",
   "id": "98e3f6c2",
   "metadata": {},
   "source": [
    "Согласно тесту, оба распределения не нормальны, поэтому избавимся от выбросов."
   ]
  },
  {
   "cell_type": "code",
   "execution_count": 59,
   "id": "40d1d8cb",
   "metadata": {},
   "outputs": [],
   "source": [
    "def outliers(df, column, graphic=0, x = 7, y = 7):\n",
    "    '''\n",
    "    Функция для фильтрации выбросов для дальнейшего использования\n",
    "    в статистическом тесте\n",
    "    '''\n",
    "    \n",
    "    q1 = df[column].quantile(0.25)\n",
    "    q3 = df[column].quantile(0.75)\n",
    "    iqr = q3 - q1\n",
    "    iqr_test = (df[column] >= (q1 - 1.5 * iqr)) & (df[column] <= (q3 + 1.5 * iqr))\n",
    "    if graphic == 1:\n",
    "        return df.loc[iqr_test].boxplot([column], figsize=(x,y))\n",
    "    else:\n",
    "        return df.loc[iqr_test]"
   ]
  },
  {
   "cell_type": "code",
   "execution_count": 60,
   "id": "bf492bf2",
   "metadata": {},
   "outputs": [
    {
     "data": {
      "image/png": "[encoded data removed]",
      "text/plain": [
       "<Figure size 504x504 with 1 Axes>"
      ]
     },
     "metadata": {
      "needs_background": "light"
     },
     "output_type": "display_data"
    }
   ],
   "source": [
    "# боксплот с выбросами для группы игроков, построивших проект\n",
    "project.boxplot('level_time', figsize=(7,7));\n",
    "plt.title('Распределение времени прохождения уровня');"
   ]
  },
  {
   "cell_type": "code",
   "execution_count": 61,
   "id": "f487b118",
   "metadata": {},
   "outputs": [
    {
     "data": {
      "image/png": "[encoded data removed]",
      "text/plain": [
       "<Figure size 504x504 with 1 Axes>"
      ]
     },
     "metadata": {
      "needs_background": "light"
     },
     "output_type": "display_data"
    }
   ],
   "source": [
    "# боксплот после функции \n",
    "outliers(project, 'level_time', 1); \n",
    "plt.title('Распределение времени прохождения уровня после функции');"
   ]
  },
  {
   "cell_type": "code",
   "execution_count": 62,
   "id": "89c765b6",
   "metadata": {},
   "outputs": [
    {
     "data": {
      "image/png": "[encoded data removed]",
      "text/plain": [
       "<Figure size 504x504 with 1 Axes>"
      ]
     },
     "metadata": {
      "needs_background": "light"
     },
     "output_type": "display_data"
    }
   ],
   "source": [
    "# боксплот с выбросами для игроков, победивших врага\n",
    "battle.boxplot('level_time', figsize=(7,7));\n",
    "plt.title('Распределение времени прохождения уровня');"
   ]
  },
  {
   "cell_type": "code",
   "execution_count": 63,
   "id": "751f6506",
   "metadata": {},
   "outputs": [
    {
     "data": {
      "image/png": "[encoded data removed]",
      "text/plain": [
       "<Figure size 504x504 with 1 Axes>"
      ]
     },
     "metadata": {
      "needs_background": "light"
     },
     "output_type": "display_data"
    }
   ],
   "source": [
    "# боксплот после функции \n",
    "outliers(battle, 'level_time', 1); \n",
    "plt.title('Распределение времени прохождения уровня после функции');"
   ]
  },
  {
   "cell_type": "code",
   "execution_count": 64,
   "id": "da184d06",
   "metadata": {},
   "outputs": [
    {
     "name": "stdout",
     "output_type": "stream",
     "text": [
      "19380.33 — cреднее время прохождения пользователей PVE, мин\n",
      "15989.92 — cреднее время прохождения пользователей PVP, мин\n",
      "\n",
      "18765.5 — медианное время прохождения пользователей PVE, мин\n",
      "15541.0 — медианное время прохождения пользователей PVP, мин\n"
     ]
    }
   ],
   "source": [
    "# для понимания выведем средние данные\n",
    "print(round(project['level_time'].mean(), 2),'— cреднее время прохождения пользователей PVE, мин')\n",
    "print(round(battle['level_time'].mean(), 2),'— cреднее время прохождения пользователей PVP, мин')\n",
    "print()\n",
    "print(round(project['level_time'].median(), 2),'— медианное время прохождения пользователей PVE, мин')\n",
    "print(round(battle['level_time'].median(), 2),'— медианное время прохождения пользователей PVP, мин')"
   ]
  },
  {
   "cell_type": "markdown",
   "id": "3ec8df18",
   "metadata": {},
   "source": [
    "**Нулевая гипотеза ($H_0$)** звучит следующим образом:\n",
    "    *`время прохождения у игроков, которые заканчивают уровень через реализацию проекта, и игроков, которые заканчивают уровень победой над другим игроком одинаково`.*\n",
    "\n",
    "**Альтернативная гипотеза $H_1$**:\n",
    "    *`время прохождения у игроков, которые заканчивают уровень через реализацию проекта, и игроков, которые заканчивают уровень победой над другим игроком различается`.*"
   ]
  },
  {
   "cell_type": "code",
   "execution_count": 65,
   "id": "98394485",
   "metadata": {},
   "outputs": [
    {
     "data": {
      "image/png": "[encoded data removed]",
      "text/plain": [
       "<Figure size 432x288 with 1 Axes>"
      ]
     },
     "metadata": {
      "needs_background": "light"
     },
     "output_type": "display_data"
    }
   ],
   "source": [
    "# распределение очищенных данных\n",
    "outliers(battle, 'level_time').hist();"
   ]
  },
  {
   "cell_type": "code",
   "execution_count": 66,
   "id": "269a29bd",
   "metadata": {},
   "outputs": [
    {
     "data": {
      "image/png": "[encoded data removed]",
      "text/plain": [
       "<Figure size 432x288 with 1 Axes>"
      ]
     },
     "metadata": {
      "needs_background": "light"
     },
     "output_type": "display_data"
    }
   ],
   "source": [
    "outliers(project, 'level_time').hist();"
   ]
  },
  {
   "cell_type": "code",
   "execution_count": 67,
   "id": "fa125d9a",
   "metadata": {},
   "outputs": [
    {
     "name": "stdout",
     "output_type": "stream",
     "text": [
      "p-значение: 5.713141274991641e-107\n",
      "Отвергаем нулевую гипотезу\n",
      "\n",
      "p-значение:  2.112237703449074e-124\n",
      "Отвергаем нулевую гипотезу\n"
     ]
    }
   ],
   "source": [
    "# t-test гипотезы при исходных данных и при \"очищенных\"\n",
    "\n",
    "alpha = 0.05\n",
    "\n",
    "results = st.ttest_ind(project['level_time'], battle['level_time'], equal_var=False) \n",
    "results_clean = st.ttest_ind(outliers(project, 'level_time')['level_time'], \n",
    "                             outliers(battle, 'level_time')['level_time'], \n",
    "                             equal_var=False) \n",
    "\n",
    "print('p-значение:', results.pvalue)\n",
    "if results.pvalue < alpha:\n",
    "    print(\"Отвергаем нулевую гипотезу\")\n",
    "else:\n",
    "    print(\"Не получилось отвергнуть нулевую гипотезу\")\n",
    "print()    \n",
    "print('p-значение: ', results_clean.pvalue)\n",
    "\n",
    "if results_clean.pvalue < alpha:\n",
    "    print(\"Отвергаем нулевую гипотезу\")\n",
    "else:\n",
    "    print(\"Не получилось отвергнуть нулевую гипотезу\")       "
   ]
  },
  {
   "cell_type": "markdown",
   "id": "060b1479",
   "metadata": {},
   "source": [
    "По итогам теста p-value показывает очень маленькие значения, поэтому у нас есть основания опровергнуть нулевую гипотезу. Очистка данных от выбросов не повлияла на общую ситуацию: значения p-value изменились, однако поводов принять нулевую гипотезу не появилось.\n",
    "\n",
    "Таким образом, время прохождения первого уровня игроками разных типов скорее разные, чем одинаковые. Об этом говорят и средние, и медианные значения времени прохождения. \n",
    "\n",
    "Игроки, прошедшие уровень посредством строительства объекта тратили в среднем больше 13 дней на прохождение, тогда как игроки, победившие врага около 11 дней. У нас нет данных по длительности каждой игровой сессии, однако имея предварительные данные по строительству, можно предположить, что пользователи в среднем строят не больше 1-2 раз раз в день. Это позволит показывать рекламу относительно редко, чтобы выйти на окупаемость. Так, например, 1-2 рекламы в день на протяжении 10 дней, не будут ощущаться также, как 3-4 рекламы в день на протяжении 5 дней. Изучим этот вопрос в следующем пункте."
   ]
  },
  {
   "cell_type": "markdown",
   "id": "e6d75c41",
   "metadata": {},
   "source": [
    "## Оптимальная модель монетизации"
   ]
  },
  {
   "cell_type": "markdown",
   "id": "4641015b",
   "metadata": {},
   "source": [
    "В [исследовании](https://www.sostav.ru/publication/mobile-ads-research-gpmd-hyper-part2-46596.html) эффективности рекламы в игровом мобильном приложении от октября 2020 компании GfK Rus упоминается высокий уровень раздражения большим количеством рекламных роликов в рамках одной игровой сессии (длительностью 24 минуты). Логичное предположение о том, что рост количества рекламы ведет к росту раздражения от нее подтверждается в исследовании."
   ]
  },
  {
   "cell_type": "markdown",
   "id": "3f6c28e0",
   "metadata": {},
   "source": [
    "![Раздражение от рекламы](https://i.imgur.com/IuZUvk8.png)"
   ]
  },
  {
   "cell_type": "markdown",
   "id": "fb7d717c",
   "metadata": {},
   "source": [
    "Чтобы по возможности снизить уровень раздражения у пользователей от рекламы можно использовать не простой показ рекламы, а видео с вознаграждением. В нашем случае, вероятно стоит обратить внимание и сделать основной упор именно на этот вид рекламы, так как этот формат меньше раздражает игрока и дает взамен какие-то полезные игровые ресурсы (предметы, ускорение строительства и т.д.). В отчете [In-game advertising the right way](https://images.response.unity3d.com/Web/Unity/%7B149b1a2e-f137-4a49-8f76-5760b58d5258%7D_UnityAds_SurveyWhitepaper_FINAL.pdf), подготовленным компанией Unity Ads (подразделением компании Unity)  отмечается, что 71% опрошенных пользователей предпочитают рекламные видео в игре платным приложениям и внутриигровым покупкам.\n",
    "\n",
    "Однако полностью полагаться на этот формат \"вслепую\" крайне сложно, так как мы не можем гарантировать, что пользователь выберет вознаграждение и захочет посмотреть рекламу, а тестовых данных, на которые можно было бы ориентироваться в нашей игре нет. Поэтому в качестве оптимального варианта по форматам возможно совмещение нескольких форматов, среди которых: баннеры с видео, видео с вознаграждением и нативные форматы внутри игры. \n",
    "\n",
    "В том же отчете In-game advertising the right way отмечается, что 62% опрошенных игроков мобильных игр регулярно по собственной инициативе выбирают просмотр видео с вознаграждением. При этом, 52% разработчиков мобильных игр отмечают, что видео с вознаграждением являются для них самым выгодным форматом, приносящим больше всего выручки.  \n",
    "\n",
    "Необходимо отметить, что в данном случае я не учитываю и не предлагаю нативные форматы рекламы (возможность  и внутриигровые покупки — отличные инструменты, однако их реализация требует более комплексного планирования и реализации в рамках игровых механик и структуры игры, поэтому здесь я их осознанно не рассматривал."
   ]
  },
  {
   "cell_type": "code",
   "execution_count": 68,
   "id": "d3a68e84",
   "metadata": {},
   "outputs": [],
   "source": [
    "# сделаем срезы обеих групп пользователей с полными данными и всеми столбцами\n",
    "pvp = actions_sources_gamertypes.query('gamer_type == \"pvp\"')\n",
    "pve = actions_sources_gamertypes.query('gamer_type == \"pve\"')\n",
    "# для тех, кто не завершил, ранее уже была создана таблица not_finished"
   ]
  },
  {
   "cell_type": "markdown",
   "id": "4816775e",
   "metadata": {},
   "source": [
    "Ранее в [пункте 3](#cell3) я предполагал, что агрессивная игра через победу над врагом может быть связаны с более низким объемом строительства, что может негативно сказаться на монетизации. Проверим это предположение."
   ]
  },
  {
   "cell_type": "code",
   "execution_count": 69,
   "id": "8db826b6",
   "metadata": {},
   "outputs": [
    {
     "name": "stdout",
     "output_type": "stream",
     "text": [
      "PVP\t event\n",
      "building            37185\n",
      "finished_stage_1     3951\n",
      "Name: user_id, dtype: int64 \n",
      "\n",
      "PVE\t event\n",
      "building            23601\n",
      "finished_stage_1     1866\n",
      "project              1866\n",
      "Name: user_id, dtype: int64 \n",
      "\n",
      "Не завершили\t event\n",
      "building    67171\n",
      "Name: user_id, dtype: int64\n"
     ]
    }
   ],
   "source": [
    "# посмотрим на соотношение количества событий building в группах\n",
    "print('PVP\\t', pvp.groupby('event')['user_id'].count(), '\\n')\n",
    "print('PVE\\t', pve.groupby('event')['user_id'].count(), '\\n')\n",
    "print('Не завершили\\t', not_finished.groupby('event')['user_id'].count())"
   ]
  },
  {
   "cell_type": "markdown",
   "id": "06121fb5",
   "metadata": {},
   "source": [
    "Как видно по количеству событий building, предположение о малом объеме строительства у игроков в PVP формате оказалось неверным. Наоборот, количество построек среди группы PVP игроков даже больше — 37 тысяч против 23. Конечно, здесь важно сделать поправку на неравное количество пользователей в каждой из групп, поэтому для большй наглядности можно проверить количество построек на одного пользователя в среднем. "
   ]
  },
  {
   "cell_type": "code",
   "execution_count": 70,
   "id": "b681c877",
   "metadata": {},
   "outputs": [
    {
     "name": "stdout",
     "output_type": "stream",
     "text": [
      "9.41 зданий в среднем построено PVP игроками\n",
      "12.65 зданий в среднем построено PVE игроками\n",
      "8.66 зданий в среднем построено игроками, не завершившими первый уровень\n"
     ]
    }
   ],
   "source": [
    "print(pvp.groupby('user_id')['building_type'].count().mean().round(2), \n",
    "      'зданий в среднем построено PVP игроками')\n",
    "print(pve.groupby('user_id')['building_type'].count().mean().round(2),\n",
    "      'зданий в среднем построено PVE игроками')\n",
    "print(not_finished.groupby('user_id')['building_type'].count().mean().round(2),\n",
    "    'зданий в среднем построено игроками, не завершившими первый уровень')"
   ]
  },
  {
   "cell_type": "code",
   "execution_count": 71,
   "id": "72d868ae",
   "metadata": {},
   "outputs": [
    {
     "name": "stdout",
     "output_type": "stream",
     "text": [
      "14094.49 минут в среднем между первой и последней постройкой для не завершивших уровень\n"
     ]
    }
   ],
   "source": [
    "# посчитаем сколько времени проходит между первой \n",
    "# и последней постройкой для игроков, не завершивших уровень\n",
    "not_fin_time = not_finished.groupby('user_id')['event_datetime'].agg(\n",
    "    ['min', 'max']).reset_index()\n",
    "not_fin_time['play_time'] = (\n",
    "    not_fin_time['max'] - not_fin_time['min']).astype(\n",
    "    'timedelta64[m]').astype(int)\n",
    "print(not_fin_time['play_time'].mean().round(2), \n",
    "      'минут в среднем между первой и последней постройкой для не завершивших уровень')"
   ]
  },
  {
   "cell_type": "markdown",
   "id": "03398944",
   "metadata": {},
   "source": [
    "Как мы выяснили, проверив гипотезу о времени прохождения ранее, среднее время прохождения первого уровня у игроков PVP и PVE достаточно заметно отличается. PVP игроки раньше заканчивают уровень (в среднем за 11 дней), соответственно, успевают меньше построить. Игроки PVE формата наоборот играют дольше (за 13 дней), поэтому успевают построить в среднем на 3 здания больше. Игроки, не завершившие уровень в среднем играют чуть меньше 10 дней, поэтому они успевают построить еще меньше зданий. \n",
    "В группах PVP игроков и тех, кто не завершил первый уровень минимальное количество построек составляет 1-2, тогда как максимальное — 19-20. В группе с PVE игроками минимальное количество построек равно 10, а максимальное — 20.\n",
    "\n",
    "В среднем можно сделать вывод о том, что игроки всех групп в среднем строят меньше 1 здания в день. В этом случае одним из логичных вариантов будет показ рекламы не только на экране выбора постройки, но и на экранах заказа юнитов, апгрейда юнитов и зданий, экране исследовательского центра. Это касается рекламы в формате видео с вознаграждением, так как она дает бонусы и минимально раздражает игроков. Что касается стандартной рекламы (в данном случае текстовой или анимированной рекламы не на весь экран), то ее лучше разместить на одном-двух экранах, чтобы не мешать игрокам и не увеличивать отток. Это как раз может быть экран выбора постройки (текстовая реклама в какой-то части экрана не должна мешать процессу выбора постройки) и любой другой экран, подразумевающий некоторое время на изучение экрана: например, выбор юнита для строительства или апгрейда — в таком случае будет больше вероятности, что игрок увидит рекламу, но не будет раздражен, так как будет занят выбором.    "
   ]
  },
  {
   "cell_type": "code",
   "execution_count": 72,
   "id": "83cd10a7",
   "metadata": {},
   "outputs": [
    {
     "data": {
      "text/html": [
       "<div>\n",
       "<style scoped>\n",
       "    .dataframe tbody tr th:only-of-type {\n",
       "        vertical-align: middle;\n",
       "    }\n",
       "\n",
       "    .dataframe tbody tr th {\n",
       "        vertical-align: top;\n",
       "    }\n",
       "\n",
       "    .dataframe thead th {\n",
       "        text-align: right;\n",
       "    }\n",
       "</style>\n",
       "<table border=\"1\" class=\"dataframe\">\n",
       "  <thead>\n",
       "    <tr style=\"text-align: right;\">\n",
       "      <th></th>\n",
       "      <th>source</th>\n",
       "      <th>n_users</th>\n",
       "      <th>avg_cost</th>\n",
       "      <th>sum_cost</th>\n",
       "      <th>cac</th>\n",
       "    </tr>\n",
       "  </thead>\n",
       "  <tbody>\n",
       "    <tr>\n",
       "      <td>0</td>\n",
       "      <td>facebook_ads</td>\n",
       "      <td>2726</td>\n",
       "      <td>305.84</td>\n",
       "      <td>2140.90</td>\n",
       "      <td>0.79</td>\n",
       "    </tr>\n",
       "    <tr>\n",
       "      <td>1</td>\n",
       "      <td>instagram_new_adverts</td>\n",
       "      <td>3347</td>\n",
       "      <td>308.78</td>\n",
       "      <td>2161.44</td>\n",
       "      <td>0.65</td>\n",
       "    </tr>\n",
       "    <tr>\n",
       "      <td>2</td>\n",
       "      <td>yandex_direct</td>\n",
       "      <td>4817</td>\n",
       "      <td>319.02</td>\n",
       "      <td>2233.11</td>\n",
       "      <td>0.46</td>\n",
       "    </tr>\n",
       "    <tr>\n",
       "      <td>3</td>\n",
       "      <td>youtube_channel_reklama</td>\n",
       "      <td>2686</td>\n",
       "      <td>152.59</td>\n",
       "      <td>1068.12</td>\n",
       "      <td>0.40</td>\n",
       "    </tr>\n",
       "  </tbody>\n",
       "</table>\n",
       "</div>"
      ],
      "text/plain": [
       "                    source  n_users  avg_cost  sum_cost   cac\n",
       "0             facebook_ads     2726    305.84   2140.90  0.79\n",
       "1    instagram_new_adverts     3347    308.78   2161.44  0.65\n",
       "2            yandex_direct     4817    319.02   2233.11  0.46\n",
       "3  youtube_channel_reklama     2686    152.59   1068.12  0.40"
      ]
     },
     "execution_count": 72,
     "metadata": {},
     "output_type": "execute_result"
    }
   ],
   "source": [
    "# вспомним таблицу с расходами на привлечение по источникам\n",
    "costs_sources"
   ]
  },
  {
   "cell_type": "code",
   "execution_count": 73,
   "id": "9289e087",
   "metadata": {},
   "outputs": [
    {
     "name": "stdout",
     "output_type": "stream",
     "text": [
      "0.575 — средний САС по всем источникам\n",
      "7603.6 — общие расходы на рекламу\n"
     ]
    }
   ],
   "source": [
    "# посчитаем средний САС и по всем источникам и общие расходы\n",
    "print(costs_sources['cac'].mean(), '— средний САС по всем источникам')\n",
    "print(costs_sources['sum_cost'].sum().round(1), '— общие расходы на рекламу')"
   ]
  },
  {
   "cell_type": "markdown",
   "id": "90614b1e",
   "metadata": {},
   "source": [
    "Самым дешевым источником с точки зрения стоимости привлечения пользователей является YouTube, в котором САС в два раза меньше рекламы в Facebook: 0.40 против 0.79. Вторым наиболее выгодным источником является Яндекс Директ, где САС составляет 0.46, а пользователи из Instagram стоят 0.65 — как что-то среднее между дорогим Facebook и дешевым YouTube. Общий средний САС по всем источникам составляет 0.575, то есть порядка 58 центов. Общие расходы на рекламу по всем источникам составили $7604.\n",
    "\n",
    "Таким образом, чтобы просто окупить всех пользователей за первый уровень, при стоимости одного показа рекламы 0.07 (7 центов) нам необходимо показать рекламу около 109 тысяч раз. В среднем пользователь играет около 10 дней, но мы возьмем запас и будем считать 7 дней, чтобы учесть большую часть игроков, которые бросают играть раньше 10 дней. В [пункте](#cell23) с рассчетом Retention мы обнаружили, что на 7 день в игру в среднем по всем когортам возвращается чуть более 40% игроков. \n",
    "\n",
    "Исходя из этих условий, можно использовать несколько **моделей монетизации**:\n",
    "\n",
    "1. Сделать упор полностью на рекламных баннерах и не использовать видео с вознаграждением.\n",
    " - используем формулу: **`кол-во юзеров * стоимость одного показа * (среднее кол-во построек - 1)`**\n",
    "\n",
    "Здесь вычитаем -1 для того, чтобы не показывать рекламу на первой постройке, чтобы не загружать пользователя рекламой сразу). Это даст выручку приблизительно в $8600, что даже позволит выйти в плюс и превысить расходы более чем на 10%.\n",
    "    \n",
    "  ***\n",
    "    \n",
    "2. Использовать рекламные баннеры только на экране выбора постройки, а также предлагать видео с вознаграждениями на каждом этапе строительства юнитов, апрегрейда построек и юнитов, исследования, после боев и т.д. \n",
    " - используем формулу: **`кол-во юзеров * стоимость одного показа * (среднее кол-во построек / 2 - 1) + кол-во юзеров * 0.3% * стоимость одного показа * 20.`**\n",
    " \n",
    " Здесь мы используем в два раза меньше баннеров на экране постройки и также не показываем рекламу при первой постройке, а во второй части формулы подразумеваем, что реворд-видео будут просматривать только в 30% случаев, а предлагаться такие видео будут 20 раз за все время прохождения уровня. Я осознанно использовал тут нижние планки для показателей, чтобы сохранить запас. В целом за уровень длительностью около 10 дней строительств зданий, юнитов, битв и апгрейдов должно быть больше 20 раз, а согласно статистике реворд-видео просматривает 50-60% пользователей, а не 30%, но здесь я заложил подушку на случай дополнительного оттока и других возможных неординарных случаев. Более того, сокращенное количество баннеров на экране строительства также связано с тем, что выбирая реворд-видео игроки скорее всего ускорят прохождение уровня и смогут справиться раньше чем за 7-10 дней, соответственно, увидят меньше баннерной рекламы на экране постройки и больше реворд-предложений видео.\n",
    " \n",
    " При этой модели, мы сможем получить выручку $9600, что также позволит выйти в плюс и превысит расходы на привлечение на более чем на 25%. Эта модель выглядит более предпочтительно, так как включает себя несколько рекламных форматов, что само по себе должно положительно повлиять на отношение пользователей (игрокам будет позже надоедать такая реклама), а также это реворд-видео позволят удерживать пользователей дольше благодаря предлагаемым бонусам. "
   ]
  },
  {
   "cell_type": "code",
   "execution_count": 74,
   "id": "bf947580",
   "metadata": {},
   "outputs": [],
   "source": [
    "ad_price = 0.07\n",
    "total_ads_cost = 7604\n",
    "avg_buildings = 10\n",
    "users = 13756"
   ]
  },
  {
   "cell_type": "code",
   "execution_count": 75,
   "id": "09e5e2d2",
   "metadata": {},
   "outputs": [
    {
     "data": {
      "text/plain": [
       "8666.28"
      ]
     },
     "execution_count": 75,
     "metadata": {},
     "output_type": "execute_result"
    }
   ],
   "source": [
    "# первый вариант монетизации: баннеры\n",
    "users * ad_price * (avg_buildings - 1)"
   ]
  },
  {
   "cell_type": "code",
   "execution_count": 76,
   "id": "21dc2b66",
   "metadata": {},
   "outputs": [
    {
     "data": {
      "text/plain": [
       "9629.2"
      ]
     },
     "execution_count": 76,
     "metadata": {},
     "output_type": "execute_result"
    }
   ],
   "source": [
    "# второй вариант монетизации: баннеры и реворд-видео \n",
    "(users * ad_price * (avg_buildings / 2 - 1)) + ((users * 0.3) * ad_price * 20) "
   ]
  },
  {
   "cell_type": "markdown",
   "id": "53ca6ac1",
   "metadata": {},
   "source": [
    "## Выводы"
   ]
  },
  {
   "cell_type": "markdown",
   "id": "33bcfb7f",
   "metadata": {},
   "source": [
    "В ходе исследования было обнаружено, что около 40% пользователей (5817 игроков), скачавшие игру в период с 4 по 10 мая 2020 года завершили первый уровень. Это неплохой показатель, учитывая довольно долгую длительность прохождения —  около 10 дней в среднем. \n",
    "\n",
    "Большая часть игроков, прошедших уровень, выбрали вариант с агрессивным стилем игры через победу над другими игроками (68%), тогда как победу через строительства проекта выбрали 32% игроков. \n",
    "\n",
    "Оставшаяся часть пользователей не завершила уровень, однако играла в среднем также около 10 дней. Быстрее всего прошли уровень игроки-воины: у них прохождение первого уровня занимало в среднем около 11 дней. У игроков-строителей длительность прохождения выше — порядка 13 дней. Соответственно, гипотеза о различии в среднего времени прохождения у игроков разных сценариев оказалась верной. Это подтвердил и статистический тест.\n",
    "\n",
    "Retention rate пользователей на следующий день после регистрации тоже достаточно высокий и составляет около 50%. Более того, к 6 дню retention в среднем даже растет и доходит до пиковых значений, только потом начиная снижаться. Самыми крупными и активными когортами стали пользователи, зарегистрированные в приложении 4-5 мая — их больше 9 тысяч, что составляет почти 70% от всех игроков в базе и их retention лучший среди всех когорт. Особенно это касается когорты игроков от 4 мая: их retention rate на 6 день достигает 71%, что является очень хорошим показателем. \n",
    "\n",
    "Гипотеза о том, что пользователи, пришедшие из YouTube будут активнее лучше настроены на игру и больше в ней заинтересованы не оправдалась. Доли пользователей из всех источников, прошедших игру практически не отличаются и находятся в диапазоне 42-43%. \n",
    "\n",
    "Тем не менее, отличия в расходах на привлечение пользователей имеются. Самым дорогим источником привлечения является Facebook, где САС составляет порядка 0.8 центов, в то время как САС Youtube в два раза меньше и равен 0.4 центам. Яндекс Директ и Инстаграм находятся между этими источниками. В качестве одного из вариантов дальнейшей маркетинговой работы, можно рассмотреть увеличение расходов на YouTube засчет сокращения доли Facebook, при этом все источники рекомендуется сохранить, так как по вовлечению в игру они показывают неплохие результаты.\n",
    "\n",
    "Для сохранения большего количества пользователей в игре, то есть, для минимизации оттока, возможно стоит обратить внимание на разные форматы рекламы, чтобы снизить раздражение у пользователей. Например, использовать формат видео с вознагражданием и ускорять скорость постройки, тем самым привлекая пользователя строить еще, далее предлагать ему вариант с рекламой и вознаграждением снова, и так далее. Поэтому в вопросе выбора модели монетизации, предпочтительным вариантом выглядит модель совмещения текстовых баннеров на некоторых экранах постройки, а также упор на видео с вознаграждениями для максимального вовлечения пользователей, а также снижения раздражения от общего количества рекламы. По предложенным рассчетам эта модель также позволит выйти в плюс более чем на 25%, однако при необходимости в дальнейшем количество рекламы и цифры можно будет скорректировать, чтобы еще больше снизить отток и, в целом, возможно будет подправить модель под требования заказчика. "
   ]
  }
 ],
 "metadata": {
  "ExecuteTimeLog": [
   {
    "duration": 2029,
    "start_time": "2021-10-17T14:06:41.452Z"
   },
   {
    "duration": 5170,
    "start_time": "2021-10-17T14:06:43.484Z"
   },
   {
    "duration": 134,
    "start_time": "2021-10-17T14:06:48.526Z"
   },
   {
    "duration": 132,
    "start_time": "2021-10-17T14:06:48.529Z"
   },
   {
    "duration": 129,
    "start_time": "2021-10-17T14:06:48.533Z"
   },
   {
    "duration": 129,
    "start_time": "2021-10-17T14:06:48.535Z"
   },
   {
    "duration": 127,
    "start_time": "2021-10-17T14:06:48.538Z"
   },
   {
    "duration": 125,
    "start_time": "2021-10-17T14:06:48.541Z"
   },
   {
    "duration": 123,
    "start_time": "2021-10-17T14:06:48.544Z"
   },
   {
    "duration": 123,
    "start_time": "2021-10-17T14:06:48.546Z"
   },
   {
    "duration": 120,
    "start_time": "2021-10-17T14:06:48.550Z"
   },
   {
    "duration": 119,
    "start_time": "2021-10-17T14:06:48.552Z"
   },
   {
    "duration": 117,
    "start_time": "2021-10-17T14:06:48.556Z"
   },
   {
    "duration": 116,
    "start_time": "2021-10-17T14:06:48.558Z"
   },
   {
    "duration": 115,
    "start_time": "2021-10-17T14:06:48.560Z"
   },
   {
    "duration": 115,
    "start_time": "2021-10-17T14:06:48.561Z"
   },
   {
    "duration": 115,
    "start_time": "2021-10-17T14:06:48.563Z"
   },
   {
    "duration": 114,
    "start_time": "2021-10-17T14:06:48.565Z"
   },
   {
    "duration": 112,
    "start_time": "2021-10-17T14:06:48.568Z"
   },
   {
    "duration": 112,
    "start_time": "2021-10-17T14:06:48.570Z"
   },
   {
    "duration": 111,
    "start_time": "2021-10-17T14:06:48.572Z"
   },
   {
    "duration": 110,
    "start_time": "2021-10-17T14:06:48.574Z"
   },
   {
    "duration": 109,
    "start_time": "2021-10-17T14:06:48.576Z"
   },
   {
    "duration": 109,
    "start_time": "2021-10-17T14:06:48.578Z"
   },
   {
    "duration": 108,
    "start_time": "2021-10-17T14:06:48.580Z"
   },
   {
    "duration": 107,
    "start_time": "2021-10-17T14:06:48.582Z"
   },
   {
    "duration": 107,
    "start_time": "2021-10-17T14:06:48.584Z"
   },
   {
    "duration": 106,
    "start_time": "2021-10-17T14:06:48.586Z"
   },
   {
    "duration": 105,
    "start_time": "2021-10-17T14:06:48.588Z"
   },
   {
    "duration": 104,
    "start_time": "2021-10-17T14:06:48.590Z"
   },
   {
    "duration": 103,
    "start_time": "2021-10-17T14:06:48.592Z"
   },
   {
    "duration": 106,
    "start_time": "2021-10-17T14:06:48.594Z"
   },
   {
    "duration": 107,
    "start_time": "2021-10-17T14:06:48.596Z"
   },
   {
    "duration": 106,
    "start_time": "2021-10-17T14:06:48.599Z"
   },
   {
    "duration": 107,
    "start_time": "2021-10-17T14:06:48.601Z"
   },
   {
    "duration": 101,
    "start_time": "2021-10-17T14:06:48.609Z"
   },
   {
    "duration": 101,
    "start_time": "2021-10-17T14:06:48.611Z"
   },
   {
    "duration": 101,
    "start_time": "2021-10-17T14:06:48.613Z"
   },
   {
    "duration": 98,
    "start_time": "2021-10-17T14:06:48.619Z"
   },
   {
    "duration": 97,
    "start_time": "2021-10-17T14:06:48.621Z"
   },
   {
    "duration": 97,
    "start_time": "2021-10-17T14:06:48.623Z"
   },
   {
    "duration": 96,
    "start_time": "2021-10-17T14:06:48.625Z"
   },
   {
    "duration": 95,
    "start_time": "2021-10-17T14:06:48.627Z"
   },
   {
    "duration": 96,
    "start_time": "2021-10-17T14:06:48.628Z"
   },
   {
    "duration": 96,
    "start_time": "2021-10-17T14:06:48.630Z"
   },
   {
    "duration": 94,
    "start_time": "2021-10-17T14:06:48.633Z"
   },
   {
    "duration": 87,
    "start_time": "2021-10-17T14:06:48.641Z"
   },
   {
    "duration": 80,
    "start_time": "2021-10-17T14:06:48.650Z"
   },
   {
    "duration": 79,
    "start_time": "2021-10-17T14:06:48.652Z"
   },
   {
    "duration": 80,
    "start_time": "2021-10-17T14:06:48.653Z"
   },
   {
    "duration": 79,
    "start_time": "2021-10-17T14:06:48.655Z"
   },
   {
    "duration": 61,
    "start_time": "2021-10-17T14:06:48.674Z"
   },
   {
    "duration": 61,
    "start_time": "2021-10-17T14:06:48.676Z"
   },
   {
    "duration": -42,
    "start_time": "2021-10-17T14:06:48.780Z"
   },
   {
    "duration": -72,
    "start_time": "2021-10-17T14:06:48.812Z"
   },
   {
    "duration": -89,
    "start_time": "2021-10-17T14:06:48.890Z"
   },
   {
    "duration": -116,
    "start_time": "2021-10-17T14:06:48.919Z"
   },
   {
    "duration": -130,
    "start_time": "2021-10-17T14:06:48.934Z"
   },
   {
    "duration": -130,
    "start_time": "2021-10-17T14:06:48.936Z"
   },
   {
    "duration": -127,
    "start_time": "2021-10-17T14:06:48.937Z"
   },
   {
    "duration": -126,
    "start_time": "2021-10-17T14:06:48.939Z"
   },
   {
    "duration": -125,
    "start_time": "2021-10-17T14:06:48.941Z"
   },
   {
    "duration": -124,
    "start_time": "2021-10-17T14:06:48.943Z"
   },
   {
    "duration": -125,
    "start_time": "2021-10-17T14:06:48.945Z"
   },
   {
    "duration": -125,
    "start_time": "2021-10-17T14:06:48.947Z"
   },
   {
    "duration": -126,
    "start_time": "2021-10-17T14:06:48.949Z"
   },
   {
    "duration": -125,
    "start_time": "2021-10-17T14:06:48.950Z"
   },
   {
    "duration": -126,
    "start_time": "2021-10-17T14:06:48.952Z"
   },
   {
    "duration": -127,
    "start_time": "2021-10-17T14:06:48.954Z"
   },
   {
    "duration": -127,
    "start_time": "2021-10-17T14:06:48.956Z"
   },
   {
    "duration": -127,
    "start_time": "2021-10-17T14:06:48.957Z"
   },
   {
    "duration": -128,
    "start_time": "2021-10-17T14:06:48.959Z"
   },
   {
    "duration": -133,
    "start_time": "2021-10-17T14:06:48.966Z"
   },
   {
    "duration": -134,
    "start_time": "2021-10-17T14:06:48.968Z"
   },
   {
    "duration": -135,
    "start_time": "2021-10-17T14:06:48.970Z"
   },
   {
    "duration": 2387,
    "start_time": "2021-10-17T14:07:54.960Z"
   },
   {
    "duration": 2423,
    "start_time": "2021-10-17T14:08:33.627Z"
   },
   {
    "duration": 321,
    "start_time": "2021-10-17T14:08:48.773Z"
   },
   {
    "duration": 2226,
    "start_time": "2021-10-17T14:08:58.194Z"
   },
   {
    "duration": 350,
    "start_time": "2021-10-17T14:09:00.424Z"
   },
   {
    "duration": 51,
    "start_time": "2021-10-17T14:09:00.777Z"
   },
   {
    "duration": 96,
    "start_time": "2021-10-17T14:09:00.831Z"
   },
   {
    "duration": 548,
    "start_time": "2021-10-17T14:09:00.931Z"
   },
   {
    "duration": 66,
    "start_time": "2021-10-17T14:09:01.482Z"
   },
   {
    "duration": 11,
    "start_time": "2021-10-17T14:09:01.551Z"
   },
   {
    "duration": 65,
    "start_time": "2021-10-17T14:09:01.565Z"
   },
   {
    "duration": 373,
    "start_time": "2021-10-17T14:09:01.636Z"
   },
   {
    "duration": 193,
    "start_time": "2021-10-17T14:09:02.014Z"
   },
   {
    "duration": 673,
    "start_time": "2021-10-17T14:09:02.210Z"
   },
   {
    "duration": 40,
    "start_time": "2021-10-17T14:09:02.886Z"
   },
   {
    "duration": 17,
    "start_time": "2021-10-17T14:09:02.929Z"
   },
   {
    "duration": 22,
    "start_time": "2021-10-17T14:09:02.948Z"
   },
   {
    "duration": 699,
    "start_time": "2021-10-17T14:09:02.972Z"
   },
   {
    "duration": 312,
    "start_time": "2021-10-17T14:09:03.675Z"
   },
   {
    "duration": 16,
    "start_time": "2021-10-17T14:09:03.989Z"
   },
   {
    "duration": 537,
    "start_time": "2021-10-17T14:09:04.009Z"
   },
   {
    "duration": 296,
    "start_time": "2021-10-17T14:09:04.549Z"
   },
   {
    "duration": 32,
    "start_time": "2021-10-17T14:09:04.848Z"
   },
   {
    "duration": 28,
    "start_time": "2021-10-17T14:09:04.882Z"
   },
   {
    "duration": 1734,
    "start_time": "2021-10-17T14:09:04.914Z"
   },
   {
    "duration": 9,
    "start_time": "2021-10-17T14:09:06.650Z"
   },
   {
    "duration": 41,
    "start_time": "2021-10-17T14:09:06.661Z"
   },
   {
    "duration": 22,
    "start_time": "2021-10-17T14:09:06.706Z"
   },
   {
    "duration": 11,
    "start_time": "2021-10-17T14:09:06.730Z"
   },
   {
    "duration": 21,
    "start_time": "2021-10-17T14:09:06.882Z"
   },
   {
    "duration": 390,
    "start_time": "2021-10-17T14:09:06.908Z"
   },
   {
    "duration": 8,
    "start_time": "2021-10-17T14:09:07.302Z"
   },
   {
    "duration": 135,
    "start_time": "2021-10-17T14:09:07.314Z"
   },
   {
    "duration": 67,
    "start_time": "2021-10-17T14:09:07.452Z"
   },
   {
    "duration": 32,
    "start_time": "2021-10-17T14:09:07.522Z"
   },
   {
    "duration": 153,
    "start_time": "2021-10-17T14:09:07.557Z"
   },
   {
    "duration": 17,
    "start_time": "2021-10-17T14:09:07.714Z"
   },
   {
    "duration": 7,
    "start_time": "2021-10-17T14:09:07.734Z"
   },
   {
    "duration": 145,
    "start_time": "2021-10-17T14:09:07.744Z"
   },
   {
    "duration": 28,
    "start_time": "2021-10-17T14:09:07.892Z"
   },
   {
    "duration": 105,
    "start_time": "2021-10-17T14:09:07.922Z"
   },
   {
    "duration": 27,
    "start_time": "2021-10-17T14:09:08.029Z"
   },
   {
    "duration": 121,
    "start_time": "2021-10-17T14:09:08.059Z"
   },
   {
    "duration": 10,
    "start_time": "2021-10-17T14:09:08.182Z"
   },
   {
    "duration": 29,
    "start_time": "2021-10-17T14:09:08.199Z"
   },
   {
    "duration": 26,
    "start_time": "2021-10-17T14:09:08.231Z"
   },
   {
    "duration": 18,
    "start_time": "2021-10-17T14:09:08.259Z"
   },
   {
    "duration": 24,
    "start_time": "2021-10-17T14:09:08.279Z"
   },
   {
    "duration": 22,
    "start_time": "2021-10-17T14:09:08.306Z"
   },
   {
    "duration": 12,
    "start_time": "2021-10-17T14:09:08.331Z"
   },
   {
    "duration": 82,
    "start_time": "2021-10-17T14:09:08.346Z"
   },
   {
    "duration": 2353,
    "start_time": "2021-10-17T14:09:08.431Z"
   },
   {
    "duration": 36,
    "start_time": "2021-10-17T14:09:10.787Z"
   },
   {
    "duration": 9,
    "start_time": "2021-10-17T14:09:10.825Z"
   },
   {
    "duration": 16,
    "start_time": "2021-10-17T14:09:10.836Z"
   },
   {
    "duration": 50,
    "start_time": "2021-10-17T14:09:10.854Z"
   },
   {
    "duration": 12,
    "start_time": "2021-10-17T14:09:10.908Z"
   },
   {
    "duration": 23,
    "start_time": "2021-10-17T14:09:10.922Z"
   },
   {
    "duration": 327,
    "start_time": "2021-10-17T14:09:10.948Z"
   },
   {
    "duration": 301,
    "start_time": "2021-10-17T14:09:11.277Z"
   },
   {
    "duration": 7,
    "start_time": "2021-10-17T14:09:11.581Z"
   },
   {
    "duration": 9,
    "start_time": "2021-10-17T14:09:11.602Z"
   },
   {
    "duration": 10,
    "start_time": "2021-10-17T14:09:11.613Z"
   },
   {
    "duration": 326,
    "start_time": "2021-10-17T14:09:11.626Z"
   },
   {
    "duration": 285,
    "start_time": "2021-10-17T14:09:11.954Z"
   },
   {
    "duration": 296,
    "start_time": "2021-10-17T14:09:12.242Z"
   },
   {
    "duration": 297,
    "start_time": "2021-10-17T14:09:12.541Z"
   },
   {
    "duration": 10,
    "start_time": "2021-10-17T14:09:12.840Z"
   },
   {
    "duration": 21,
    "start_time": "2021-10-17T14:09:12.853Z"
   },
   {
    "duration": 38,
    "start_time": "2021-10-17T14:09:12.902Z"
   },
   {
    "duration": 59,
    "start_time": "2021-10-17T14:09:12.942Z"
   },
   {
    "duration": 52,
    "start_time": "2021-10-17T14:09:13.004Z"
   },
   {
    "duration": 67,
    "start_time": "2021-10-17T14:09:13.058Z"
   },
   {
    "duration": 10,
    "start_time": "2021-10-17T14:09:13.128Z"
   },
   {
    "duration": 10,
    "start_time": "2021-10-17T14:09:13.141Z"
   },
   {
    "duration": 5,
    "start_time": "2021-10-17T14:09:13.153Z"
   },
   {
    "duration": 7,
    "start_time": "2021-10-17T14:09:13.161Z"
   },
   {
    "duration": 8,
    "start_time": "2021-10-17T14:09:13.202Z"
   },
   {
    "duration": 2258,
    "start_time": "2021-10-17T14:53:43.286Z"
   },
   {
    "duration": 2634,
    "start_time": "2021-10-17T14:53:45.547Z"
   },
   {
    "duration": 133,
    "start_time": "2021-10-17T14:53:48.054Z"
   },
   {
    "duration": 129,
    "start_time": "2021-10-17T14:53:48.059Z"
   },
   {
    "duration": 129,
    "start_time": "2021-10-17T14:53:48.061Z"
   },
   {
    "duration": 128,
    "start_time": "2021-10-17T14:53:48.064Z"
   },
   {
    "duration": 126,
    "start_time": "2021-10-17T14:53:48.067Z"
   },
   {
    "duration": 125,
    "start_time": "2021-10-17T14:53:48.069Z"
   },
   {
    "duration": 124,
    "start_time": "2021-10-17T14:53:48.072Z"
   },
   {
    "duration": 123,
    "start_time": "2021-10-17T14:53:48.074Z"
   },
   {
    "duration": 123,
    "start_time": "2021-10-17T14:53:48.076Z"
   },
   {
    "duration": 121,
    "start_time": "2021-10-17T14:53:48.079Z"
   },
   {
    "duration": 120,
    "start_time": "2021-10-17T14:53:48.081Z"
   },
   {
    "duration": 119,
    "start_time": "2021-10-17T14:53:48.084Z"
   },
   {
    "duration": 112,
    "start_time": "2021-10-17T14:53:48.092Z"
   },
   {
    "duration": 112,
    "start_time": "2021-10-17T14:53:48.094Z"
   },
   {
    "duration": 110,
    "start_time": "2021-10-17T14:53:48.097Z"
   },
   {
    "duration": 109,
    "start_time": "2021-10-17T14:53:48.099Z"
   },
   {
    "duration": 109,
    "start_time": "2021-10-17T14:53:48.101Z"
   },
   {
    "duration": 108,
    "start_time": "2021-10-17T14:53:48.103Z"
   },
   {
    "duration": 108,
    "start_time": "2021-10-17T14:53:48.105Z"
   },
   {
    "duration": 107,
    "start_time": "2021-10-17T14:53:48.107Z"
   },
   {
    "duration": 106,
    "start_time": "2021-10-17T14:53:48.110Z"
   },
   {
    "duration": 105,
    "start_time": "2021-10-17T14:53:48.112Z"
   },
   {
    "duration": 103,
    "start_time": "2021-10-17T14:53:48.115Z"
   },
   {
    "duration": 99,
    "start_time": "2021-10-17T14:53:48.121Z"
   },
   {
    "duration": 97,
    "start_time": "2021-10-17T14:53:48.124Z"
   },
   {
    "duration": 95,
    "start_time": "2021-10-17T14:53:48.127Z"
   },
   {
    "duration": 95,
    "start_time": "2021-10-17T14:53:48.129Z"
   },
   {
    "duration": 94,
    "start_time": "2021-10-17T14:53:48.131Z"
   },
   {
    "duration": 93,
    "start_time": "2021-10-17T14:53:48.133Z"
   },
   {
    "duration": 93,
    "start_time": "2021-10-17T14:53:48.135Z"
   },
   {
    "duration": 92,
    "start_time": "2021-10-17T14:53:48.137Z"
   },
   {
    "duration": 87,
    "start_time": "2021-10-17T14:53:48.143Z"
   },
   {
    "duration": 86,
    "start_time": "2021-10-17T14:53:48.145Z"
   },
   {
    "duration": 86,
    "start_time": "2021-10-17T14:53:48.147Z"
   },
   {
    "duration": 85,
    "start_time": "2021-10-17T14:53:48.149Z"
   },
   {
    "duration": 84,
    "start_time": "2021-10-17T14:53:48.151Z"
   },
   {
    "duration": 84,
    "start_time": "2021-10-17T14:53:48.153Z"
   },
   {
    "duration": 83,
    "start_time": "2021-10-17T14:53:48.155Z"
   },
   {
    "duration": 82,
    "start_time": "2021-10-17T14:53:48.157Z"
   },
   {
    "duration": 81,
    "start_time": "2021-10-17T14:53:48.159Z"
   },
   {
    "duration": 80,
    "start_time": "2021-10-17T14:53:48.161Z"
   },
   {
    "duration": 79,
    "start_time": "2021-10-17T14:53:48.163Z"
   },
   {
    "duration": 11,
    "start_time": "2021-10-17T14:53:48.288Z"
   },
   {
    "duration": -109,
    "start_time": "2021-10-17T14:53:48.410Z"
   },
   {
    "duration": -191,
    "start_time": "2021-10-17T14:53:48.494Z"
   },
   {
    "duration": -212,
    "start_time": "2021-10-17T14:53:48.516Z"
   },
   {
    "duration": -214,
    "start_time": "2021-10-17T14:53:48.519Z"
   },
   {
    "duration": -213,
    "start_time": "2021-10-17T14:53:48.520Z"
   },
   {
    "duration": -215,
    "start_time": "2021-10-17T14:53:48.523Z"
   },
   {
    "duration": -216,
    "start_time": "2021-10-17T14:53:48.525Z"
   },
   {
    "duration": -217,
    "start_time": "2021-10-17T14:53:48.527Z"
   },
   {
    "duration": -218,
    "start_time": "2021-10-17T14:53:48.529Z"
   },
   {
    "duration": -218,
    "start_time": "2021-10-17T14:53:48.531Z"
   },
   {
    "duration": -219,
    "start_time": "2021-10-17T14:53:48.533Z"
   },
   {
    "duration": -219,
    "start_time": "2021-10-17T14:53:48.534Z"
   },
   {
    "duration": -220,
    "start_time": "2021-10-17T14:53:48.536Z"
   },
   {
    "duration": -221,
    "start_time": "2021-10-17T14:53:48.538Z"
   },
   {
    "duration": -221,
    "start_time": "2021-10-17T14:53:48.540Z"
   },
   {
    "duration": -222,
    "start_time": "2021-10-17T14:53:48.542Z"
   },
   {
    "duration": -223,
    "start_time": "2021-10-17T14:53:48.544Z"
   },
   {
    "duration": -224,
    "start_time": "2021-10-17T14:53:48.546Z"
   },
   {
    "duration": -224,
    "start_time": "2021-10-17T14:53:48.548Z"
   },
   {
    "duration": -225,
    "start_time": "2021-10-17T14:53:48.550Z"
   },
   {
    "duration": -226,
    "start_time": "2021-10-17T14:53:48.552Z"
   },
   {
    "duration": -226,
    "start_time": "2021-10-17T14:53:48.554Z"
   },
   {
    "duration": -227,
    "start_time": "2021-10-17T14:53:48.556Z"
   },
   {
    "duration": -229,
    "start_time": "2021-10-17T14:53:48.559Z"
   },
   {
    "duration": -230,
    "start_time": "2021-10-17T14:53:48.561Z"
   },
   {
    "duration": -231,
    "start_time": "2021-10-17T14:53:48.563Z"
   },
   {
    "duration": -230,
    "start_time": "2021-10-17T14:53:48.564Z"
   },
   {
    "duration": -231,
    "start_time": "2021-10-17T14:53:48.566Z"
   },
   {
    "duration": -232,
    "start_time": "2021-10-17T14:53:48.568Z"
   },
   {
    "duration": -233,
    "start_time": "2021-10-17T14:53:48.570Z"
   },
   {
    "duration": 643,
    "start_time": "2021-10-17T16:34:33.370Z"
   },
   {
    "duration": 1782,
    "start_time": "2021-10-17T16:34:38.074Z"
   },
   {
    "duration": 233,
    "start_time": "2021-10-17T16:34:40.562Z"
   },
   {
    "duration": 4,
    "start_time": "2021-10-17T16:34:44.813Z"
   },
   {
    "duration": 257,
    "start_time": "2021-10-17T16:34:44.819Z"
   },
   {
    "duration": 32,
    "start_time": "2021-10-17T16:34:45.080Z"
   },
   {
    "duration": 71,
    "start_time": "2021-10-17T16:34:45.114Z"
   },
   {
    "duration": 443,
    "start_time": "2021-10-17T16:34:45.187Z"
   },
   {
    "duration": 53,
    "start_time": "2021-10-17T16:34:45.632Z"
   },
   {
    "duration": 6,
    "start_time": "2021-10-17T16:34:45.687Z"
   },
   {
    "duration": 19,
    "start_time": "2021-10-17T16:34:45.696Z"
   },
   {
    "duration": 229,
    "start_time": "2021-10-17T16:34:45.717Z"
   },
   {
    "duration": 134,
    "start_time": "2021-10-17T16:34:45.948Z"
   },
   {
    "duration": 315,
    "start_time": "2021-10-17T16:34:46.084Z"
   },
   {
    "duration": 16,
    "start_time": "2021-10-17T16:34:46.401Z"
   },
   {
    "duration": 9,
    "start_time": "2021-10-17T16:34:46.419Z"
   },
   {
    "duration": 13,
    "start_time": "2021-10-17T16:34:46.429Z"
   },
   {
    "duration": 407,
    "start_time": "2021-10-17T16:34:46.444Z"
   },
   {
    "duration": 187,
    "start_time": "2021-10-17T16:34:46.853Z"
   },
   {
    "duration": 4,
    "start_time": "2021-10-17T16:34:47.042Z"
   },
   {
    "duration": 298,
    "start_time": "2021-10-17T16:34:47.048Z"
   },
   {
    "duration": 261,
    "start_time": "2021-10-17T16:34:47.348Z"
   },
   {
    "duration": 18,
    "start_time": "2021-10-17T16:34:47.611Z"
   },
   {
    "duration": 15,
    "start_time": "2021-10-17T16:34:47.630Z"
   },
   {
    "duration": 1000,
    "start_time": "2021-10-17T16:34:47.647Z"
   },
   {
    "duration": 6,
    "start_time": "2021-10-17T16:34:48.651Z"
   },
   {
    "duration": 25,
    "start_time": "2021-10-17T16:34:48.659Z"
   },
   {
    "duration": 14,
    "start_time": "2021-10-17T16:34:48.686Z"
   },
   {
    "duration": 101,
    "start_time": "2021-10-17T16:34:48.702Z"
   },
   {
    "duration": 10,
    "start_time": "2021-10-17T16:34:48.806Z"
   },
   {
    "duration": 218,
    "start_time": "2021-10-17T16:34:48.818Z"
   },
   {
    "duration": 3,
    "start_time": "2021-10-17T16:34:49.038Z"
   },
   {
    "duration": 57,
    "start_time": "2021-10-17T16:34:49.043Z"
   },
   {
    "duration": 34,
    "start_time": "2021-10-17T16:34:49.102Z"
   },
   {
    "duration": 21,
    "start_time": "2021-10-17T16:34:49.138Z"
   },
   {
    "duration": 61,
    "start_time": "2021-10-17T16:34:49.177Z"
   },
   {
    "duration": 10,
    "start_time": "2021-10-17T16:34:49.240Z"
   },
   {
    "duration": 4,
    "start_time": "2021-10-17T16:34:49.252Z"
   },
   {
    "duration": 100,
    "start_time": "2021-10-17T16:34:49.281Z"
   },
   {
    "duration": 20,
    "start_time": "2021-10-17T16:34:49.384Z"
   },
   {
    "duration": 100,
    "start_time": "2021-10-17T16:34:49.407Z"
   },
   {
    "duration": 42,
    "start_time": "2021-10-17T16:34:49.509Z"
   },
   {
    "duration": 119,
    "start_time": "2021-10-17T16:34:49.554Z"
   },
   {
    "duration": 15,
    "start_time": "2021-10-17T16:34:49.681Z"
   },
   {
    "duration": 21,
    "start_time": "2021-10-17T16:34:49.698Z"
   },
   {
    "duration": 26,
    "start_time": "2021-10-17T16:34:49.721Z"
   },
   {
    "duration": 10,
    "start_time": "2021-10-17T16:34:49.749Z"
   },
   {
    "duration": 7,
    "start_time": "2021-10-17T16:34:49.760Z"
   },
   {
    "duration": 11,
    "start_time": "2021-10-17T16:34:49.768Z"
   },
   {
    "duration": 6,
    "start_time": "2021-10-17T16:34:49.781Z"
   },
   {
    "duration": 37,
    "start_time": "2021-10-17T16:34:49.789Z"
   },
   {
    "duration": 1150,
    "start_time": "2021-10-17T16:34:49.828Z"
   },
   {
    "duration": 15,
    "start_time": "2021-10-17T16:34:50.988Z"
   },
   {
    "duration": 10,
    "start_time": "2021-10-17T16:34:51.005Z"
   },
   {
    "duration": 8,
    "start_time": "2021-10-17T16:34:51.017Z"
   },
   {
    "duration": 10,
    "start_time": "2021-10-17T16:34:51.026Z"
   },
   {
    "duration": 12,
    "start_time": "2021-10-17T16:34:51.038Z"
   },
   {
    "duration": 33,
    "start_time": "2021-10-17T16:34:51.051Z"
   },
   {
    "duration": 165,
    "start_time": "2021-10-17T16:34:51.086Z"
   },
   {
    "duration": 169,
    "start_time": "2021-10-17T16:34:51.252Z"
   },
   {
    "duration": 5,
    "start_time": "2021-10-17T16:34:51.423Z"
   },
   {
    "duration": 7,
    "start_time": "2021-10-17T16:34:51.430Z"
   },
   {
    "duration": 4,
    "start_time": "2021-10-17T16:34:51.439Z"
   },
   {
    "duration": 177,
    "start_time": "2021-10-17T16:34:51.444Z"
   },
   {
    "duration": 162,
    "start_time": "2021-10-17T16:34:51.623Z"
   },
   {
    "duration": 162,
    "start_time": "2021-10-17T16:34:51.787Z"
   },
   {
    "duration": 167,
    "start_time": "2021-10-17T16:34:51.951Z"
   },
   {
    "duration": 7,
    "start_time": "2021-10-17T16:34:52.119Z"
   },
   {
    "duration": 17,
    "start_time": "2021-10-17T16:34:52.127Z"
   },
   {
    "duration": 39,
    "start_time": "2021-10-17T16:34:52.146Z"
   },
   {
    "duration": 23,
    "start_time": "2021-10-17T16:34:52.189Z"
   },
   {
    "duration": 32,
    "start_time": "2021-10-17T16:34:52.214Z"
   },
   {
    "duration": 40,
    "start_time": "2021-10-17T16:34:52.248Z"
   },
   {
    "duration": 7,
    "start_time": "2021-10-17T16:34:52.290Z"
   },
   {
    "duration": 8,
    "start_time": "2021-10-17T16:34:52.299Z"
   },
   {
    "duration": 3,
    "start_time": "2021-10-17T16:34:52.309Z"
   },
   {
    "duration": 7,
    "start_time": "2021-10-17T16:34:52.314Z"
   },
   {
    "duration": 5,
    "start_time": "2021-10-17T16:34:52.323Z"
   },
   {
    "duration": 9,
    "start_time": "2021-10-17T16:36:07.326Z"
   },
   {
    "duration": 9,
    "start_time": "2021-10-17T16:36:15.331Z"
   },
   {
    "duration": 16,
    "start_time": "2021-10-17T16:36:20.114Z"
   },
   {
    "duration": 9,
    "start_time": "2021-10-17T16:39:24.856Z"
   },
   {
    "duration": 9,
    "start_time": "2021-10-17T16:53:32.695Z"
   },
   {
    "duration": 6,
    "start_time": "2021-10-17T16:53:45.501Z"
   },
   {
    "duration": 135,
    "start_time": "2021-10-17T16:54:20.368Z"
   },
   {
    "duration": 130,
    "start_time": "2021-10-17T16:54:27.126Z"
   },
   {
    "duration": 6,
    "start_time": "2021-10-17T16:55:48.094Z"
   },
   {
    "duration": 6,
    "start_time": "2021-10-17T16:55:58.864Z"
   },
   {
    "duration": 10,
    "start_time": "2021-10-17T16:56:02.919Z"
   },
   {
    "duration": 11,
    "start_time": "2021-10-17T16:56:14.938Z"
   },
   {
    "duration": 9,
    "start_time": "2021-10-17T17:05:25.206Z"
   },
   {
    "duration": 167,
    "start_time": "2021-10-17T17:07:33.815Z"
   },
   {
    "duration": 426,
    "start_time": "2021-10-17T17:19:16.568Z"
   },
   {
    "duration": 177,
    "start_time": "2021-10-17T17:19:24.347Z"
   },
   {
    "duration": 168,
    "start_time": "2021-10-17T17:19:40.304Z"
   },
   {
    "duration": 174,
    "start_time": "2021-10-17T17:21:46.275Z"
   },
   {
    "duration": 170,
    "start_time": "2021-10-17T17:21:49.814Z"
   },
   {
    "duration": 251,
    "start_time": "2021-10-17T17:22:34.449Z"
   },
   {
    "duration": 265,
    "start_time": "2021-10-17T17:59:33.011Z"
   },
   {
    "duration": 66,
    "start_time": "2021-10-17T18:00:27.215Z"
   },
   {
    "duration": 131,
    "start_time": "2021-10-17T18:00:41.328Z"
   },
   {
    "duration": 154,
    "start_time": "2021-10-17T18:00:43.808Z"
   },
   {
    "duration": 1539,
    "start_time": "2021-10-17T18:02:30.137Z"
   },
   {
    "duration": 1465,
    "start_time": "2021-10-17T18:02:45.436Z"
   },
   {
    "duration": 111,
    "start_time": "2021-10-17T18:03:04.265Z"
   },
   {
    "duration": 111,
    "start_time": "2021-10-17T18:03:06.837Z"
   },
   {
    "duration": 141,
    "start_time": "2021-10-17T18:03:12.651Z"
   },
   {
    "duration": 153,
    "start_time": "2021-10-17T18:03:21.202Z"
   },
   {
    "duration": 149,
    "start_time": "2021-10-17T18:03:35.086Z"
   },
   {
    "duration": 147,
    "start_time": "2021-10-17T18:04:04.195Z"
   },
   {
    "duration": 1452,
    "start_time": "2021-10-17T22:09:12.544Z"
   },
   {
    "duration": 217,
    "start_time": "2021-10-17T22:09:13.998Z"
   },
   {
    "duration": 24,
    "start_time": "2021-10-17T22:09:14.217Z"
   },
   {
    "duration": 51,
    "start_time": "2021-10-17T22:09:14.243Z"
   },
   {
    "duration": 303,
    "start_time": "2021-10-17T22:09:14.295Z"
   },
   {
    "duration": 26,
    "start_time": "2021-10-17T22:09:14.599Z"
   },
   {
    "duration": 18,
    "start_time": "2021-10-17T22:09:14.627Z"
   },
   {
    "duration": 199,
    "start_time": "2021-10-17T22:09:14.647Z"
   },
   {
    "duration": 113,
    "start_time": "2021-10-17T22:09:14.848Z"
   },
   {
    "duration": 305,
    "start_time": "2021-10-17T22:09:14.963Z"
   },
   {
    "duration": 15,
    "start_time": "2021-10-17T22:09:15.270Z"
   },
   {
    "duration": 6,
    "start_time": "2021-10-17T22:09:15.287Z"
   },
   {
    "duration": 386,
    "start_time": "2021-10-17T22:09:15.294Z"
   },
   {
    "duration": 11,
    "start_time": "2021-10-17T22:09:15.681Z"
   },
   {
    "duration": 188,
    "start_time": "2021-10-17T22:09:15.693Z"
   },
   {
    "duration": 3,
    "start_time": "2021-10-17T22:09:15.882Z"
   },
   {
    "duration": 276,
    "start_time": "2021-10-17T22:09:15.886Z"
   },
   {
    "duration": 182,
    "start_time": "2021-10-17T22:09:16.164Z"
   },
   {
    "duration": 19,
    "start_time": "2021-10-17T22:09:16.347Z"
   },
   {
    "duration": 4,
    "start_time": "2021-10-17T22:09:16.376Z"
   },
   {
    "duration": 971,
    "start_time": "2021-10-17T22:09:16.382Z"
   },
   {
    "duration": 6,
    "start_time": "2021-10-17T22:09:17.355Z"
   },
   {
    "duration": 12,
    "start_time": "2021-10-17T22:09:17.378Z"
   },
   {
    "duration": 15,
    "start_time": "2021-10-17T22:09:17.393Z"
   },
   {
    "duration": 109,
    "start_time": "2021-10-17T22:09:17.410Z"
   },
   {
    "duration": 13,
    "start_time": "2021-10-17T22:09:17.521Z"
   },
   {
    "duration": 192,
    "start_time": "2021-10-17T22:09:17.535Z"
   },
   {
    "duration": 4,
    "start_time": "2021-10-17T22:09:17.728Z"
   },
   {
    "duration": 66,
    "start_time": "2021-10-17T22:09:17.733Z"
   },
   {
    "duration": 37,
    "start_time": "2021-10-17T22:09:17.800Z"
   },
   {
    "duration": 20,
    "start_time": "2021-10-17T22:09:17.839Z"
   },
   {
    "duration": 74,
    "start_time": "2021-10-17T22:09:17.861Z"
   },
   {
    "duration": 10,
    "start_time": "2021-10-17T22:09:17.936Z"
   },
   {
    "duration": 4,
    "start_time": "2021-10-17T22:09:17.947Z"
   },
   {
    "duration": 83,
    "start_time": "2021-10-17T22:09:17.953Z"
   },
   {
    "duration": 14,
    "start_time": "2021-10-17T22:09:18.037Z"
   },
   {
    "duration": 74,
    "start_time": "2021-10-17T22:09:18.052Z"
   },
   {
    "duration": 20,
    "start_time": "2021-10-17T22:09:18.127Z"
   },
   {
    "duration": 72,
    "start_time": "2021-10-17T22:09:18.149Z"
   },
   {
    "duration": 7,
    "start_time": "2021-10-17T22:09:18.223Z"
   },
   {
    "duration": 14,
    "start_time": "2021-10-17T22:09:18.231Z"
   },
   {
    "duration": 15,
    "start_time": "2021-10-17T22:09:18.247Z"
   },
   {
    "duration": 8,
    "start_time": "2021-10-17T22:09:18.277Z"
   },
   {
    "duration": 7,
    "start_time": "2021-10-17T22:09:18.286Z"
   },
   {
    "duration": 10,
    "start_time": "2021-10-17T22:09:18.294Z"
   },
   {
    "duration": 6,
    "start_time": "2021-10-17T22:09:18.306Z"
   },
   {
    "duration": 39,
    "start_time": "2021-10-17T22:09:18.313Z"
   },
   {
    "duration": 851,
    "start_time": "2021-10-17T22:09:18.376Z"
   },
   {
    "duration": 13,
    "start_time": "2021-10-17T22:09:19.229Z"
   },
   {
    "duration": 11,
    "start_time": "2021-10-17T22:09:19.243Z"
   },
   {
    "duration": 7,
    "start_time": "2021-10-17T22:09:19.256Z"
   },
   {
    "duration": 9,
    "start_time": "2021-10-17T22:09:19.277Z"
   },
   {
    "duration": 5,
    "start_time": "2021-10-17T22:09:19.288Z"
   },
   {
    "duration": 14,
    "start_time": "2021-10-17T22:09:19.295Z"
   },
   {
    "duration": 172,
    "start_time": "2021-10-17T22:09:19.310Z"
   },
   {
    "duration": 158,
    "start_time": "2021-10-17T22:09:19.483Z"
   },
   {
    "duration": 4,
    "start_time": "2021-10-17T22:09:19.642Z"
   },
   {
    "duration": 7,
    "start_time": "2021-10-17T22:09:19.648Z"
   },
   {
    "duration": 4,
    "start_time": "2021-10-17T22:09:19.656Z"
   },
   {
    "duration": 155,
    "start_time": "2021-10-17T22:09:19.677Z"
   },
   {
    "duration": 149,
    "start_time": "2021-10-17T22:09:19.834Z"
   },
   {
    "duration": 158,
    "start_time": "2021-10-17T22:09:19.985Z"
   },
   {
    "duration": 266,
    "start_time": "2021-10-17T22:09:20.146Z"
   },
   {
    "duration": 6,
    "start_time": "2021-10-17T22:09:20.414Z"
   },
   {
    "duration": 186,
    "start_time": "2021-10-17T22:09:20.422Z"
   },
   {
    "duration": 167,
    "start_time": "2021-10-17T22:09:20.609Z"
   },
   {
    "duration": 15,
    "start_time": "2021-10-17T22:09:20.778Z"
   },
   {
    "duration": 25,
    "start_time": "2021-10-17T22:09:20.799Z"
   },
   {
    "duration": 22,
    "start_time": "2021-10-17T22:09:20.826Z"
   },
   {
    "duration": 57,
    "start_time": "2021-10-17T22:09:20.850Z"
   },
   {
    "duration": 22,
    "start_time": "2021-10-17T22:09:20.909Z"
   },
   {
    "duration": 7,
    "start_time": "2021-10-17T22:09:20.933Z"
   },
   {
    "duration": 6,
    "start_time": "2021-10-17T22:09:20.942Z"
   },
   {
    "duration": 29,
    "start_time": "2021-10-17T22:09:20.949Z"
   },
   {
    "duration": 7,
    "start_time": "2021-10-17T22:09:20.979Z"
   },
   {
    "duration": 5,
    "start_time": "2021-10-17T22:09:20.987Z"
   },
   {
    "duration": 6,
    "start_time": "2021-10-18T05:54:55.061Z"
   },
   {
    "duration": 397,
    "start_time": "2021-10-18T05:54:55.385Z"
   },
   {
    "duration": -97,
    "start_time": "2021-10-18T05:54:55.881Z"
   },
   {
    "duration": 1769,
    "start_time": "2021-10-18T05:55:00.664Z"
   },
   {
    "duration": 244,
    "start_time": "2021-10-18T05:55:02.435Z"
   },
   {
    "duration": 28,
    "start_time": "2021-10-18T05:55:02.681Z"
   },
   {
    "duration": 66,
    "start_time": "2021-10-18T05:55:02.711Z"
   },
   {
    "duration": 379,
    "start_time": "2021-10-18T05:55:02.778Z"
   },
   {
    "duration": 43,
    "start_time": "2021-10-18T05:55:03.163Z"
   },
   {
    "duration": 20,
    "start_time": "2021-10-18T05:55:03.208Z"
   },
   {
    "duration": 211,
    "start_time": "2021-10-18T05:55:03.230Z"
   },
   {
    "duration": 130,
    "start_time": "2021-10-18T05:55:03.444Z"
   },
   {
    "duration": 336,
    "start_time": "2021-10-18T05:55:03.576Z"
   },
   {
    "duration": 19,
    "start_time": "2021-10-18T05:55:03.913Z"
   },
   {
    "duration": 8,
    "start_time": "2021-10-18T05:55:03.934Z"
   },
   {
    "duration": 416,
    "start_time": "2021-10-18T05:55:03.963Z"
   },
   {
    "duration": 12,
    "start_time": "2021-10-18T05:55:04.381Z"
   },
   {
    "duration": 204,
    "start_time": "2021-10-18T05:55:04.395Z"
   },
   {
    "duration": 4,
    "start_time": "2021-10-18T05:55:04.600Z"
   },
   {
    "duration": 303,
    "start_time": "2021-10-18T05:55:04.605Z"
   },
   {
    "duration": 194,
    "start_time": "2021-10-18T05:55:04.909Z"
   },
   {
    "duration": 19,
    "start_time": "2021-10-18T05:55:05.105Z"
   },
   {
    "duration": 7,
    "start_time": "2021-10-18T05:55:05.126Z"
   },
   {
    "duration": 1030,
    "start_time": "2021-10-18T05:55:05.134Z"
   },
   {
    "duration": 7,
    "start_time": "2021-10-18T05:55:06.166Z"
   },
   {
    "duration": 15,
    "start_time": "2021-10-18T05:55:06.177Z"
   },
   {
    "duration": 15,
    "start_time": "2021-10-18T05:55:06.195Z"
   },
   {
    "duration": 132,
    "start_time": "2021-10-18T05:55:06.212Z"
   },
   {
    "duration": 21,
    "start_time": "2021-10-18T05:55:06.346Z"
   },
   {
    "duration": 206,
    "start_time": "2021-10-18T05:55:06.368Z"
   },
   {
    "duration": 4,
    "start_time": "2021-10-18T05:55:06.576Z"
   },
   {
    "duration": 57,
    "start_time": "2021-10-18T05:55:06.581Z"
   },
   {
    "duration": 62,
    "start_time": "2021-10-18T05:55:06.639Z"
   },
   {
    "duration": 22,
    "start_time": "2021-10-18T05:55:06.703Z"
   },
   {
    "duration": 80,
    "start_time": "2021-10-18T05:55:06.727Z"
   },
   {
    "duration": 11,
    "start_time": "2021-10-18T05:55:06.809Z"
   },
   {
    "duration": 8,
    "start_time": "2021-10-18T05:55:06.821Z"
   },
   {
    "duration": 85,
    "start_time": "2021-10-18T05:55:06.831Z"
   },
   {
    "duration": 15,
    "start_time": "2021-10-18T05:55:06.919Z"
   },
   {
    "duration": 76,
    "start_time": "2021-10-18T05:55:06.936Z"
   },
   {
    "duration": 23,
    "start_time": "2021-10-18T05:55:07.014Z"
   },
   {
    "duration": 79,
    "start_time": "2021-10-18T05:55:07.039Z"
   },
   {
    "duration": 7,
    "start_time": "2021-10-18T05:55:07.120Z"
   },
   {
    "duration": 19,
    "start_time": "2021-10-18T05:55:07.129Z"
   },
   {
    "duration": 28,
    "start_time": "2021-10-18T05:55:07.150Z"
   },
   {
    "duration": 11,
    "start_time": "2021-10-18T05:55:07.179Z"
   },
   {
    "duration": 6,
    "start_time": "2021-10-18T05:55:07.192Z"
   },
   {
    "duration": 13,
    "start_time": "2021-10-18T05:55:07.199Z"
   },
   {
    "duration": 6,
    "start_time": "2021-10-18T05:55:07.214Z"
   },
   {
    "duration": 67,
    "start_time": "2021-10-18T05:55:07.221Z"
   },
   {
    "duration": 931,
    "start_time": "2021-10-18T05:55:07.289Z"
   },
   {
    "duration": 16,
    "start_time": "2021-10-18T05:55:08.222Z"
   },
   {
    "duration": 26,
    "start_time": "2021-10-18T05:55:08.240Z"
   },
   {
    "duration": 8,
    "start_time": "2021-10-18T05:55:08.268Z"
   },
   {
    "duration": 12,
    "start_time": "2021-10-18T05:55:08.278Z"
   },
   {
    "duration": 6,
    "start_time": "2021-10-18T05:55:08.292Z"
   },
   {
    "duration": 18,
    "start_time": "2021-10-18T05:55:08.300Z"
   },
   {
    "duration": 206,
    "start_time": "2021-10-18T05:55:08.320Z"
   },
   {
    "duration": 175,
    "start_time": "2021-10-18T05:55:08.528Z"
   },
   {
    "duration": 4,
    "start_time": "2021-10-18T05:55:08.705Z"
   },
   {
    "duration": 6,
    "start_time": "2021-10-18T05:55:08.711Z"
   },
   {
    "duration": 6,
    "start_time": "2021-10-18T05:55:08.719Z"
   },
   {
    "duration": 184,
    "start_time": "2021-10-18T05:55:08.727Z"
   },
   {
    "duration": 176,
    "start_time": "2021-10-18T05:55:08.913Z"
   },
   {
    "duration": 179,
    "start_time": "2021-10-18T05:55:09.091Z"
   },
   {
    "duration": 166,
    "start_time": "2021-10-18T05:55:09.272Z"
   },
   {
    "duration": 6,
    "start_time": "2021-10-18T05:55:09.440Z"
   },
   {
    "duration": 18,
    "start_time": "2021-10-18T05:55:09.448Z"
   },
   {
    "duration": 197,
    "start_time": "2021-10-18T05:55:09.468Z"
   },
   {
    "duration": 185,
    "start_time": "2021-10-18T05:55:09.667Z"
   },
   {
    "duration": 21,
    "start_time": "2021-10-18T05:55:09.857Z"
   },
   {
    "duration": 25,
    "start_time": "2021-10-18T05:55:09.880Z"
   },
   {
    "duration": 22,
    "start_time": "2021-10-18T05:55:09.907Z"
   },
   {
    "duration": 59,
    "start_time": "2021-10-18T05:55:09.930Z"
   },
   {
    "duration": 25,
    "start_time": "2021-10-18T05:55:09.991Z"
   },
   {
    "duration": 8,
    "start_time": "2021-10-18T05:55:10.018Z"
   },
   {
    "duration": 13,
    "start_time": "2021-10-18T05:55:10.028Z"
   },
   {
    "duration": 20,
    "start_time": "2021-10-18T05:55:10.043Z"
   },
   {
    "duration": 14,
    "start_time": "2021-10-18T05:55:10.065Z"
   },
   {
    "duration": 10,
    "start_time": "2021-10-18T05:55:10.080Z"
   },
   {
    "duration": 6,
    "start_time": "2021-10-18T05:55:52.435Z"
   },
   {
    "duration": 155,
    "start_time": "2021-10-18T05:56:46.459Z"
   },
   {
    "duration": 158,
    "start_time": "2021-10-18T05:57:07.162Z"
   },
   {
    "duration": 526,
    "start_time": "2021-10-18T05:57:45.546Z"
   },
   {
    "duration": 96,
    "start_time": "2021-10-18T05:57:51.866Z"
   },
   {
    "duration": 413,
    "start_time": "2021-10-18T05:57:53.514Z"
   },
   {
    "duration": 868,
    "start_time": "2021-10-18T05:57:55.842Z"
   },
   {
    "duration": 547,
    "start_time": "2021-10-18T05:58:15.882Z"
   },
   {
    "duration": 571,
    "start_time": "2021-10-18T05:58:35.274Z"
   },
   {
    "duration": 21,
    "start_time": "2021-10-18T05:59:10.082Z"
   },
   {
    "duration": 1528,
    "start_time": "2021-10-18T06:04:42.814Z"
   },
   {
    "duration": 239,
    "start_time": "2021-10-18T06:04:44.344Z"
   },
   {
    "duration": 26,
    "start_time": "2021-10-18T06:04:44.585Z"
   },
   {
    "duration": 57,
    "start_time": "2021-10-18T06:04:44.613Z"
   },
   {
    "duration": 371,
    "start_time": "2021-10-18T06:04:44.672Z"
   },
   {
    "duration": 50,
    "start_time": "2021-10-18T06:04:45.045Z"
   },
   {
    "duration": 22,
    "start_time": "2021-10-18T06:04:45.097Z"
   },
   {
    "duration": 212,
    "start_time": "2021-10-18T06:04:45.123Z"
   },
   {
    "duration": 131,
    "start_time": "2021-10-18T06:04:45.338Z"
   },
   {
    "duration": 339,
    "start_time": "2021-10-18T06:04:45.471Z"
   },
   {
    "duration": 17,
    "start_time": "2021-10-18T06:04:45.811Z"
   },
   {
    "duration": 6,
    "start_time": "2021-10-18T06:04:45.830Z"
   },
   {
    "duration": 405,
    "start_time": "2021-10-18T06:04:45.838Z"
   },
   {
    "duration": 23,
    "start_time": "2021-10-18T06:04:46.244Z"
   },
   {
    "duration": 195,
    "start_time": "2021-10-18T06:04:46.268Z"
   },
   {
    "duration": 3,
    "start_time": "2021-10-18T06:04:46.465Z"
   },
   {
    "duration": 297,
    "start_time": "2021-10-18T06:04:46.470Z"
   },
   {
    "duration": 195,
    "start_time": "2021-10-18T06:04:46.768Z"
   },
   {
    "duration": 21,
    "start_time": "2021-10-18T06:04:46.965Z"
   },
   {
    "duration": 5,
    "start_time": "2021-10-18T06:04:46.988Z"
   },
   {
    "duration": 978,
    "start_time": "2021-10-18T06:04:46.995Z"
   },
   {
    "duration": 6,
    "start_time": "2021-10-18T06:04:47.975Z"
   },
   {
    "duration": 15,
    "start_time": "2021-10-18T06:04:47.985Z"
   },
   {
    "duration": 12,
    "start_time": "2021-10-18T06:04:48.003Z"
   },
   {
    "duration": 131,
    "start_time": "2021-10-18T06:04:48.017Z"
   },
   {
    "duration": 18,
    "start_time": "2021-10-18T06:04:48.150Z"
   },
   {
    "duration": 202,
    "start_time": "2021-10-18T06:04:48.170Z"
   },
   {
    "duration": 4,
    "start_time": "2021-10-18T06:04:48.374Z"
   },
   {
    "duration": 57,
    "start_time": "2021-10-18T06:04:48.379Z"
   },
   {
    "duration": 58,
    "start_time": "2021-10-18T06:04:48.438Z"
   },
   {
    "duration": 24,
    "start_time": "2021-10-18T06:04:48.498Z"
   },
   {
    "duration": 81,
    "start_time": "2021-10-18T06:04:48.524Z"
   },
   {
    "duration": 10,
    "start_time": "2021-10-18T06:04:48.607Z"
   },
   {
    "duration": 4,
    "start_time": "2021-10-18T06:04:48.619Z"
   },
   {
    "duration": 90,
    "start_time": "2021-10-18T06:04:48.625Z"
   },
   {
    "duration": 13,
    "start_time": "2021-10-18T06:04:48.717Z"
   },
   {
    "duration": 73,
    "start_time": "2021-10-18T06:04:48.732Z"
   },
   {
    "duration": 21,
    "start_time": "2021-10-18T06:04:48.806Z"
   },
   {
    "duration": 78,
    "start_time": "2021-10-18T06:04:48.828Z"
   },
   {
    "duration": 7,
    "start_time": "2021-10-18T06:04:48.908Z"
   },
   {
    "duration": 14,
    "start_time": "2021-10-18T06:04:48.916Z"
   },
   {
    "duration": 16,
    "start_time": "2021-10-18T06:04:48.932Z"
   },
   {
    "duration": 8,
    "start_time": "2021-10-18T06:04:48.964Z"
   },
   {
    "duration": 7,
    "start_time": "2021-10-18T06:04:48.974Z"
   },
   {
    "duration": 9,
    "start_time": "2021-10-18T06:04:48.983Z"
   },
   {
    "duration": 6,
    "start_time": "2021-10-18T06:04:48.994Z"
   },
   {
    "duration": 67,
    "start_time": "2021-10-18T06:04:49.002Z"
   },
   {
    "duration": 908,
    "start_time": "2021-10-18T06:04:49.071Z"
   },
   {
    "duration": 17,
    "start_time": "2021-10-18T06:04:49.981Z"
   },
   {
    "duration": 11,
    "start_time": "2021-10-18T06:04:50.000Z"
   },
   {
    "duration": 15,
    "start_time": "2021-10-18T06:04:50.013Z"
   },
   {
    "duration": 19,
    "start_time": "2021-10-18T06:04:50.030Z"
   },
   {
    "duration": 20,
    "start_time": "2021-10-18T06:04:50.051Z"
   },
   {
    "duration": 18,
    "start_time": "2021-10-18T06:04:50.073Z"
   },
   {
    "duration": 181,
    "start_time": "2021-10-18T06:04:50.093Z"
   },
   {
    "duration": 170,
    "start_time": "2021-10-18T06:04:50.276Z"
   },
   {
    "duration": 4,
    "start_time": "2021-10-18T06:04:50.448Z"
   },
   {
    "duration": 19,
    "start_time": "2021-10-18T06:04:50.454Z"
   },
   {
    "duration": 16,
    "start_time": "2021-10-18T06:04:50.479Z"
   },
   {
    "duration": 169,
    "start_time": "2021-10-18T06:04:50.497Z"
   },
   {
    "duration": 171,
    "start_time": "2021-10-18T06:04:50.667Z"
   },
   {
    "duration": 160,
    "start_time": "2021-10-18T06:04:50.840Z"
   },
   {
    "duration": 168,
    "start_time": "2021-10-18T06:04:51.001Z"
   },
   {
    "duration": 7,
    "start_time": "2021-10-18T06:04:51.171Z"
   },
   {
    "duration": 197,
    "start_time": "2021-10-18T06:04:51.180Z"
   },
   {
    "duration": 186,
    "start_time": "2021-10-18T06:04:51.379Z"
   },
   {
    "duration": 15,
    "start_time": "2021-10-18T06:04:51.566Z"
   },
   {
    "duration": 35,
    "start_time": "2021-10-18T06:04:51.586Z"
   },
   {
    "duration": 23,
    "start_time": "2021-10-18T06:04:51.623Z"
   },
   {
    "duration": 47,
    "start_time": "2021-10-18T06:04:51.648Z"
   },
   {
    "duration": 24,
    "start_time": "2021-10-18T06:04:51.697Z"
   },
   {
    "duration": 13,
    "start_time": "2021-10-18T06:04:51.723Z"
   },
   {
    "duration": 28,
    "start_time": "2021-10-18T06:04:51.737Z"
   },
   {
    "duration": 17,
    "start_time": "2021-10-18T06:04:51.767Z"
   },
   {
    "duration": 24,
    "start_time": "2021-10-18T06:04:51.786Z"
   },
   {
    "duration": 20,
    "start_time": "2021-10-18T06:04:51.812Z"
   }
  ],
  "kernelspec": {
   "display_name": "Python 3",
   "language": "python",
   "name": "python3"
  },
  "language_info": {
   "codemirror_mode": {
    "name": "ipython",
    "version": 3
   },
   "file_extension": ".py",
   "mimetype": "text/x-python",
   "name": "python",
   "nbconvert_exporter": "python",
   "pygments_lexer": "ipython3",
   "version": "3.7.10"
  },
  "toc": {
   "base_numbering": 1,
   "nav_menu": {},
   "number_sections": true,
   "sideBar": true,
   "skip_h1_title": true,
   "title_cell": "Содержание",
   "title_sidebar": "Contents",
   "toc_cell": true,
   "toc_position": {
    "height": "calc(100% - 180px)",
    "left": "10px",
    "top": "150px",
    "width": "275.638px"
   },
   "toc_section_display": true,
   "toc_window_display": true
  }
 },
 "nbformat": 4,
 "nbformat_minor": 5
}
