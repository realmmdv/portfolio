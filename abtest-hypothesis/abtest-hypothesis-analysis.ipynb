{
 "cells": [
  {
   "cell_type": "markdown",
   "metadata": {
    "toc": true
   },
   "source": [
    "<h1>Содержание<span class=\"tocSkip\"></span></h1>\n",
    "<div class=\"toc\"><ul class=\"toc-item\"><li><span><a href=\"#Приоритизация-гипотез\" data-toc-modified-id=\"Приоритизация-гипотез-1\"><span class=\"toc-item-num\">1&nbsp;&nbsp;</span>Приоритизация гипотез</a></span><ul class=\"toc-item\"><li><span><a href=\"#Импорт-и-предварительный-анализ\" data-toc-modified-id=\"Импорт-и-предварительный-анализ-1.1\"><span class=\"toc-item-num\">1.1&nbsp;&nbsp;</span>Импорт и предварительный анализ</a></span></li><li><span><a href=\"#Применение-фреймворков-ICE-и-RICE-для-приоритизации-гипотез\" data-toc-modified-id=\"Применение-фреймворков-ICE-и-RICE-для-приоритизации-гипотез-1.2\"><span class=\"toc-item-num\">1.2&nbsp;&nbsp;</span>Применение фреймворков ICE и RICE для приоритизации гипотез</a></span></li></ul></li><li><span><a href=\"#Анализ-A/B-теста\" data-toc-modified-id=\"Анализ-A/B-теста-2\"><span class=\"toc-item-num\">2&nbsp;&nbsp;</span>Анализ A/B-теста</a></span><ul class=\"toc-item\"><li><span><a href=\"#Кумулятивные-графики-по-группам\" data-toc-modified-id=\"Кумулятивные-графики-по-группам-2.1\"><span class=\"toc-item-num\">2.1&nbsp;&nbsp;</span>Кумулятивные графики по группам</a></span><ul class=\"toc-item\"><li><span><a href=\"#Кумулятивная-выручка\" data-toc-modified-id=\"Кумулятивная-выручка-2.1.1\"><span class=\"toc-item-num\">2.1.1&nbsp;&nbsp;</span>Кумулятивная выручка</a></span></li><li><span><a href=\"#Кумулятивный-средний-чек\" data-toc-modified-id=\"Кумулятивный-средний-чек-2.1.2\"><span class=\"toc-item-num\">2.1.2&nbsp;&nbsp;</span>Кумулятивный средний чек</a></span></li><li><span><a href=\"#Относительное-изменение-кумулятивного-среднего-чека-группы-B-к-группе-A\" data-toc-modified-id=\"Относительное-изменение-кумулятивного-среднего-чека-группы-B-к-группе-A-2.1.3\"><span class=\"toc-item-num\">2.1.3&nbsp;&nbsp;</span>Относительное изменение кумулятивного среднего чека группы B к группе A</a></span></li><li><span><a href=\"#Кумулятивная-конверсия\" data-toc-modified-id=\"Кумулятивная-конверсия-2.1.4\"><span class=\"toc-item-num\">2.1.4&nbsp;&nbsp;</span>Кумулятивная конверсия</a></span></li><li><span><a href=\"#Относительное-изменение-кумулятивной-конверсии-группы-B-к-группе-A\" data-toc-modified-id=\"Относительное-изменение-кумулятивной-конверсии-группы-B-к-группе-A-2.1.5\"><span class=\"toc-item-num\">2.1.5&nbsp;&nbsp;</span>Относительное изменение кумулятивной конверсии группы B к группе A</a></span></li></ul></li><li><span><a href=\"#Анализ-выбросов.-Точечные-диаграммы-и-перцентили\" data-toc-modified-id=\"Анализ-выбросов.-Точечные-диаграммы-и-перцентили-2.2\"><span class=\"toc-item-num\">2.2&nbsp;&nbsp;</span>Анализ выбросов. Точечные диаграммы и перцентили</a></span><ul class=\"toc-item\"><li><span><a href=\"#Точечный-график-и-перцентили-количества-заказов-по-пользователям\" data-toc-modified-id=\"Точечный-график-и-перцентили-количества-заказов-по-пользователям-2.2.1\"><span class=\"toc-item-num\">2.2.1&nbsp;&nbsp;</span>Точечный график и перцентили количества заказов по пользователям</a></span></li><li><span><a href=\"#Точечный-график-и-перцентили-стоимостей-заказов\" data-toc-modified-id=\"Точечный-график-и-перцентили-стоимостей-заказов-2.2.2\"><span class=\"toc-item-num\">2.2.2&nbsp;&nbsp;</span>Точечный график и перцентили стоимостей заказов</a></span></li></ul></li><li><span><a href=\"#Статистическая-значимость-различий-между-группами\" data-toc-modified-id=\"Статистическая-значимость-различий-между-группами-2.3\"><span class=\"toc-item-num\">2.3&nbsp;&nbsp;</span>Статистическая значимость различий между группами</a></span><ul class=\"toc-item\"><li><span><a href=\"#Статистическая-значимость-различий-в-конверсии-между-группами-по-«сырым»-данным\" data-toc-modified-id=\"Статистическая-значимость-различий-в-конверсии-между-группами-по-«сырым»-данным-2.3.1\"><span class=\"toc-item-num\">2.3.1&nbsp;&nbsp;</span>Статистическая значимость различий в конверсии между группами по «сырым» данным</a></span></li><li><span><a href=\"#Статистическая-значимость-различий-в-среднем-чеке-заказа-между-группами-по-«сырым»-данным\" data-toc-modified-id=\"Статистическая-значимость-различий-в-среднем-чеке-заказа-между-группами-по-«сырым»-данным-2.3.2\"><span class=\"toc-item-num\">2.3.2&nbsp;&nbsp;</span>Статистическая значимость различий в среднем чеке заказа между группами по «сырым» данным</a></span></li><li><span><a href=\"#Статистическая-значимость-различий-в-конверсии-между-группами-по-«очищенным»-данным\" data-toc-modified-id=\"Статистическая-значимость-различий-в-конверсии-между-группами-по-«очищенным»-данным-2.3.3\"><span class=\"toc-item-num\">2.3.3&nbsp;&nbsp;</span>Статистическая значимость различий в конверсии между группами по «очищенным» данным</a></span></li><li><span><a href=\"#Статистическая-значимость-различий-в-среднем-чеке-заказа-между-группами-по-«очищенным»-данным\" data-toc-modified-id=\"Статистическая-значимость-различий-в-среднем-чеке-заказа-между-группами-по-«очищенным»-данным-2.3.4\"><span class=\"toc-item-num\">2.3.4&nbsp;&nbsp;</span>Статистическая значимость различий в среднем чеке заказа между группами по «очищенным» данным</a></span></li></ul></li></ul></li><li><span><a href=\"#Выводы\" data-toc-modified-id=\"Выводы-3\"><span class=\"toc-item-num\">3&nbsp;&nbsp;</span>Выводы</a></span></li></ul></div>"
   ]
  },
  {
   "cell_type": "markdown",
   "metadata": {},
   "source": [
    "# Описание проекта"
   ]
  },
  {
   "cell_type": "markdown",
   "metadata": {},
   "source": [
    "**Основная задача: приоритизировать гипотезы и проверить результаты A/B-теста**. \n",
    "\n",
    "**Часть 1. Приоритизация гипотез**.\n",
    "\n",
    "В файле /datasets/hypothesis.csv 9 гипотез по увеличению выручки интернет-магазина с указанными параметрами Reach, Impact, Confidence, Effort.\n",
    "\n",
    "Основные задачи:\n",
    "- Применить фреймворк ICE для приоритизации гипотез\n",
    "- Применить фреймворк RICE для приоритизации гипотез\n",
    "- Сопоставить результаты приоритизация по фреймворку RICE и ICE\n",
    "\n",
    "**Часть 2. Анализ A/B-теста**\n",
    "\n",
    "В файлах /datasets/orders.csv и /datasets/visitors.csv представлены сведения по заказах и пользователях. Необходимо проанализировать результаты А/B теста и проверить гипотезы."
   ]
  },
  {
   "cell_type": "markdown",
   "metadata": {},
   "source": [
    "## Приоритизация гипотез"
   ]
  },
  {
   "cell_type": "markdown",
   "metadata": {},
   "source": [
    "### Импорт и предварительный анализ"
   ]
  },
  {
   "cell_type": "code",
   "execution_count": 1,
   "metadata": {},
   "outputs": [],
   "source": [
    "import pandas as pd\n",
    "import scipy.stats as stats \n",
    "import numpy as np\n",
    "import matplotlib.pyplot as plt\n",
    "import seaborn as sns\n",
    "import datetime as dt\n",
    "from pandas.plotting import register_matplotlib_converters\n",
    "register_matplotlib_converters()"
   ]
  },
  {
   "cell_type": "code",
   "execution_count": 3,
   "metadata": {},
   "outputs": [],
   "source": [
    "hypothesis = pd.read_csv('/datasets/hypothesis.csv')\n",
    "orders = pd.read_csv('/datasets/orders.csv')\n",
    "visitors = pd.read_csv('/datasets/visitors.csv')"
   ]
  },
  {
   "cell_type": "code",
   "execution_count": 4,
   "metadata": {},
   "outputs": [
    {
     "data": {
      "text/html": [
       "<div>\n",
       "<style scoped>\n",
       "    .dataframe tbody tr th:only-of-type {\n",
       "        vertical-align: middle;\n",
       "    }\n",
       "\n",
       "    .dataframe tbody tr th {\n",
       "        vertical-align: top;\n",
       "    }\n",
       "\n",
       "    .dataframe thead th {\n",
       "        text-align: right;\n",
       "    }\n",
       "</style>\n",
       "<table border=\"1\" class=\"dataframe\">\n",
       "  <thead>\n",
       "    <tr style=\"text-align: right;\">\n",
       "      <th></th>\n",
       "      <th>Hypothesis</th>\n",
       "      <th>Reach</th>\n",
       "      <th>Impact</th>\n",
       "      <th>Confidence</th>\n",
       "      <th>Efforts</th>\n",
       "    </tr>\n",
       "  </thead>\n",
       "  <tbody>\n",
       "    <tr>\n",
       "      <td>0</td>\n",
       "      <td>Добавить два новых канала привлечения трафика,...</td>\n",
       "      <td>3</td>\n",
       "      <td>10</td>\n",
       "      <td>8</td>\n",
       "      <td>6</td>\n",
       "    </tr>\n",
       "    <tr>\n",
       "      <td>1</td>\n",
       "      <td>Запустить собственную службу доставки, что сок...</td>\n",
       "      <td>2</td>\n",
       "      <td>5</td>\n",
       "      <td>4</td>\n",
       "      <td>10</td>\n",
       "    </tr>\n",
       "    <tr>\n",
       "      <td>2</td>\n",
       "      <td>Добавить блоки рекомендаций товаров на сайт ин...</td>\n",
       "      <td>8</td>\n",
       "      <td>3</td>\n",
       "      <td>7</td>\n",
       "      <td>3</td>\n",
       "    </tr>\n",
       "    <tr>\n",
       "      <td>3</td>\n",
       "      <td>Изменить структура категорий, что увеличит кон...</td>\n",
       "      <td>8</td>\n",
       "      <td>3</td>\n",
       "      <td>3</td>\n",
       "      <td>8</td>\n",
       "    </tr>\n",
       "    <tr>\n",
       "      <td>4</td>\n",
       "      <td>Изменить цвет фона главной страницы, чтобы уве...</td>\n",
       "      <td>3</td>\n",
       "      <td>1</td>\n",
       "      <td>1</td>\n",
       "      <td>1</td>\n",
       "    </tr>\n",
       "  </tbody>\n",
       "</table>\n",
       "</div>"
      ],
      "text/plain": [
       "                                          Hypothesis  Reach  Impact  \\\n",
       "0  Добавить два новых канала привлечения трафика,...      3      10   \n",
       "1  Запустить собственную службу доставки, что сок...      2       5   \n",
       "2  Добавить блоки рекомендаций товаров на сайт ин...      8       3   \n",
       "3  Изменить структура категорий, что увеличит кон...      8       3   \n",
       "4  Изменить цвет фона главной страницы, чтобы уве...      3       1   \n",
       "\n",
       "   Confidence  Efforts  \n",
       "0           8        6  \n",
       "1           4       10  \n",
       "2           7        3  \n",
       "3           3        8  \n",
       "4           1        1  "
      ]
     },
     "metadata": {},
     "output_type": "display_data"
    },
    {
     "name": "stdout",
     "output_type": "stream",
     "text": [
      "<class 'pandas.core.frame.DataFrame'>\n",
      "RangeIndex: 9 entries, 0 to 8\n",
      "Data columns (total 5 columns):\n",
      "Hypothesis    9 non-null object\n",
      "Reach         9 non-null int64\n",
      "Impact        9 non-null int64\n",
      "Confidence    9 non-null int64\n",
      "Efforts       9 non-null int64\n",
      "dtypes: int64(4), object(1)\n",
      "memory usage: 488.0+ bytes\n"
     ]
    },
    {
     "data": {
      "text/plain": [
       "None"
      ]
     },
     "metadata": {},
     "output_type": "display_data"
    }
   ],
   "source": [
    "display(hypothesis.head())\n",
    "display(hypothesis.info())"
   ]
  },
  {
   "cell_type": "code",
   "execution_count": 5,
   "metadata": {},
   "outputs": [
    {
     "name": "stdout",
     "output_type": "stream",
     "text": [
      "orders дубликаты и пропущенные значения: 0 0\n"
     ]
    },
    {
     "data": {
      "text/html": [
       "<div>\n",
       "<style scoped>\n",
       "    .dataframe tbody tr th:only-of-type {\n",
       "        vertical-align: middle;\n",
       "    }\n",
       "\n",
       "    .dataframe tbody tr th {\n",
       "        vertical-align: top;\n",
       "    }\n",
       "\n",
       "    .dataframe thead th {\n",
       "        text-align: right;\n",
       "    }\n",
       "</style>\n",
       "<table border=\"1\" class=\"dataframe\">\n",
       "  <thead>\n",
       "    <tr style=\"text-align: right;\">\n",
       "      <th></th>\n",
       "      <th>transactionId</th>\n",
       "      <th>visitorId</th>\n",
       "      <th>date</th>\n",
       "      <th>revenue</th>\n",
       "      <th>group</th>\n",
       "    </tr>\n",
       "  </thead>\n",
       "  <tbody>\n",
       "    <tr>\n",
       "      <td>0</td>\n",
       "      <td>3667963787</td>\n",
       "      <td>3312258926</td>\n",
       "      <td>2019-08-15</td>\n",
       "      <td>1650</td>\n",
       "      <td>B</td>\n",
       "    </tr>\n",
       "    <tr>\n",
       "      <td>1</td>\n",
       "      <td>2804400009</td>\n",
       "      <td>3642806036</td>\n",
       "      <td>2019-08-15</td>\n",
       "      <td>730</td>\n",
       "      <td>B</td>\n",
       "    </tr>\n",
       "    <tr>\n",
       "      <td>2</td>\n",
       "      <td>2961555356</td>\n",
       "      <td>4069496402</td>\n",
       "      <td>2019-08-15</td>\n",
       "      <td>400</td>\n",
       "      <td>A</td>\n",
       "    </tr>\n",
       "    <tr>\n",
       "      <td>3</td>\n",
       "      <td>3797467345</td>\n",
       "      <td>1196621759</td>\n",
       "      <td>2019-08-15</td>\n",
       "      <td>9759</td>\n",
       "      <td>B</td>\n",
       "    </tr>\n",
       "    <tr>\n",
       "      <td>4</td>\n",
       "      <td>2282983706</td>\n",
       "      <td>2322279887</td>\n",
       "      <td>2019-08-15</td>\n",
       "      <td>2308</td>\n",
       "      <td>B</td>\n",
       "    </tr>\n",
       "  </tbody>\n",
       "</table>\n",
       "</div>"
      ],
      "text/plain": [
       "   transactionId   visitorId        date  revenue group\n",
       "0     3667963787  3312258926  2019-08-15     1650     B\n",
       "1     2804400009  3642806036  2019-08-15      730     B\n",
       "2     2961555356  4069496402  2019-08-15      400     A\n",
       "3     3797467345  1196621759  2019-08-15     9759     B\n",
       "4     2282983706  2322279887  2019-08-15     2308     B"
      ]
     },
     "metadata": {},
     "output_type": "display_data"
    },
    {
     "name": "stdout",
     "output_type": "stream",
     "text": [
      "<class 'pandas.core.frame.DataFrame'>\n",
      "RangeIndex: 1197 entries, 0 to 1196\n",
      "Data columns (total 5 columns):\n",
      "transactionId    1197 non-null int64\n",
      "visitorId        1197 non-null int64\n",
      "date             1197 non-null object\n",
      "revenue          1197 non-null int64\n",
      "group            1197 non-null object\n",
      "dtypes: int64(3), object(2)\n",
      "memory usage: 46.9+ KB\n"
     ]
    },
    {
     "data": {
      "text/plain": [
       "None"
      ]
     },
     "metadata": {},
     "output_type": "display_data"
    },
    {
     "data": {
      "text/html": [
       "<div>\n",
       "<style scoped>\n",
       "    .dataframe tbody tr th:only-of-type {\n",
       "        vertical-align: middle;\n",
       "    }\n",
       "\n",
       "    .dataframe tbody tr th {\n",
       "        vertical-align: top;\n",
       "    }\n",
       "\n",
       "    .dataframe thead th {\n",
       "        text-align: right;\n",
       "    }\n",
       "</style>\n",
       "<table border=\"1\" class=\"dataframe\">\n",
       "  <thead>\n",
       "    <tr style=\"text-align: right;\">\n",
       "      <th></th>\n",
       "      <th>transactionId</th>\n",
       "      <th>visitorId</th>\n",
       "      <th>revenue</th>\n",
       "    </tr>\n",
       "  </thead>\n",
       "  <tbody>\n",
       "    <tr>\n",
       "      <td>count</td>\n",
       "      <td>1.197000e+03</td>\n",
       "      <td>1.197000e+03</td>\n",
       "      <td>1.197000e+03</td>\n",
       "    </tr>\n",
       "    <tr>\n",
       "      <td>mean</td>\n",
       "      <td>2.155621e+09</td>\n",
       "      <td>2.165960e+09</td>\n",
       "      <td>8.348006e+03</td>\n",
       "    </tr>\n",
       "    <tr>\n",
       "      <td>std</td>\n",
       "      <td>1.229085e+09</td>\n",
       "      <td>1.236014e+09</td>\n",
       "      <td>3.919113e+04</td>\n",
       "    </tr>\n",
       "    <tr>\n",
       "      <td>min</td>\n",
       "      <td>1.062393e+06</td>\n",
       "      <td>5.114589e+06</td>\n",
       "      <td>5.000000e+01</td>\n",
       "    </tr>\n",
       "    <tr>\n",
       "      <td>25%</td>\n",
       "      <td>1.166776e+09</td>\n",
       "      <td>1.111826e+09</td>\n",
       "      <td>1.220000e+03</td>\n",
       "    </tr>\n",
       "    <tr>\n",
       "      <td>50%</td>\n",
       "      <td>2.145194e+09</td>\n",
       "      <td>2.217985e+09</td>\n",
       "      <td>2.978000e+03</td>\n",
       "    </tr>\n",
       "    <tr>\n",
       "      <td>75%</td>\n",
       "      <td>3.237740e+09</td>\n",
       "      <td>3.177606e+09</td>\n",
       "      <td>8.290000e+03</td>\n",
       "    </tr>\n",
       "    <tr>\n",
       "      <td>max</td>\n",
       "      <td>4.293856e+09</td>\n",
       "      <td>4.283872e+09</td>\n",
       "      <td>1.294500e+06</td>\n",
       "    </tr>\n",
       "  </tbody>\n",
       "</table>\n",
       "</div>"
      ],
      "text/plain": [
       "       transactionId     visitorId       revenue\n",
       "count   1.197000e+03  1.197000e+03  1.197000e+03\n",
       "mean    2.155621e+09  2.165960e+09  8.348006e+03\n",
       "std     1.229085e+09  1.236014e+09  3.919113e+04\n",
       "min     1.062393e+06  5.114589e+06  5.000000e+01\n",
       "25%     1.166776e+09  1.111826e+09  1.220000e+03\n",
       "50%     2.145194e+09  2.217985e+09  2.978000e+03\n",
       "75%     3.237740e+09  3.177606e+09  8.290000e+03\n",
       "max     4.293856e+09  4.283872e+09  1.294500e+06"
      ]
     },
     "metadata": {},
     "output_type": "display_data"
    }
   ],
   "source": [
    "print(\"orders дубликаты и пропущенные значения:\", orders.duplicated().sum(), orders.isnull().sum().sum())\n",
    "display(orders.head())\n",
    "display(orders.info())\n",
    "display(orders.describe())"
   ]
  },
  {
   "cell_type": "code",
   "execution_count": 6,
   "metadata": {
    "scrolled": false
   },
   "outputs": [
    {
     "name": "stdout",
     "output_type": "stream",
     "text": [
      "visitors дубликаты и пропущенные значения: 0 0\n"
     ]
    },
    {
     "data": {
      "text/html": [
       "<div>\n",
       "<style scoped>\n",
       "    .dataframe tbody tr th:only-of-type {\n",
       "        vertical-align: middle;\n",
       "    }\n",
       "\n",
       "    .dataframe tbody tr th {\n",
       "        vertical-align: top;\n",
       "    }\n",
       "\n",
       "    .dataframe thead th {\n",
       "        text-align: right;\n",
       "    }\n",
       "</style>\n",
       "<table border=\"1\" class=\"dataframe\">\n",
       "  <thead>\n",
       "    <tr style=\"text-align: right;\">\n",
       "      <th></th>\n",
       "      <th>date</th>\n",
       "      <th>group</th>\n",
       "      <th>visitors</th>\n",
       "    </tr>\n",
       "  </thead>\n",
       "  <tbody>\n",
       "    <tr>\n",
       "      <td>0</td>\n",
       "      <td>2019-08-01</td>\n",
       "      <td>A</td>\n",
       "      <td>719</td>\n",
       "    </tr>\n",
       "    <tr>\n",
       "      <td>1</td>\n",
       "      <td>2019-08-02</td>\n",
       "      <td>A</td>\n",
       "      <td>619</td>\n",
       "    </tr>\n",
       "    <tr>\n",
       "      <td>2</td>\n",
       "      <td>2019-08-03</td>\n",
       "      <td>A</td>\n",
       "      <td>507</td>\n",
       "    </tr>\n",
       "    <tr>\n",
       "      <td>3</td>\n",
       "      <td>2019-08-04</td>\n",
       "      <td>A</td>\n",
       "      <td>717</td>\n",
       "    </tr>\n",
       "    <tr>\n",
       "      <td>4</td>\n",
       "      <td>2019-08-05</td>\n",
       "      <td>A</td>\n",
       "      <td>756</td>\n",
       "    </tr>\n",
       "  </tbody>\n",
       "</table>\n",
       "</div>"
      ],
      "text/plain": [
       "         date group  visitors\n",
       "0  2019-08-01     A       719\n",
       "1  2019-08-02     A       619\n",
       "2  2019-08-03     A       507\n",
       "3  2019-08-04     A       717\n",
       "4  2019-08-05     A       756"
      ]
     },
     "metadata": {},
     "output_type": "display_data"
    },
    {
     "name": "stdout",
     "output_type": "stream",
     "text": [
      "<class 'pandas.core.frame.DataFrame'>\n",
      "RangeIndex: 62 entries, 0 to 61\n",
      "Data columns (total 3 columns):\n",
      "date        62 non-null object\n",
      "group       62 non-null object\n",
      "visitors    62 non-null int64\n",
      "dtypes: int64(1), object(2)\n",
      "memory usage: 1.6+ KB\n"
     ]
    },
    {
     "data": {
      "text/plain": [
       "None"
      ]
     },
     "metadata": {},
     "output_type": "display_data"
    },
    {
     "data": {
      "text/html": [
       "<div>\n",
       "<style scoped>\n",
       "    .dataframe tbody tr th:only-of-type {\n",
       "        vertical-align: middle;\n",
       "    }\n",
       "\n",
       "    .dataframe tbody tr th {\n",
       "        vertical-align: top;\n",
       "    }\n",
       "\n",
       "    .dataframe thead th {\n",
       "        text-align: right;\n",
       "    }\n",
       "</style>\n",
       "<table border=\"1\" class=\"dataframe\">\n",
       "  <thead>\n",
       "    <tr style=\"text-align: right;\">\n",
       "      <th></th>\n",
       "      <th>visitors</th>\n",
       "    </tr>\n",
       "  </thead>\n",
       "  <tbody>\n",
       "    <tr>\n",
       "      <td>count</td>\n",
       "      <td>62.000000</td>\n",
       "    </tr>\n",
       "    <tr>\n",
       "      <td>mean</td>\n",
       "      <td>607.290323</td>\n",
       "    </tr>\n",
       "    <tr>\n",
       "      <td>std</td>\n",
       "      <td>114.400560</td>\n",
       "    </tr>\n",
       "    <tr>\n",
       "      <td>min</td>\n",
       "      <td>361.000000</td>\n",
       "    </tr>\n",
       "    <tr>\n",
       "      <td>25%</td>\n",
       "      <td>534.000000</td>\n",
       "    </tr>\n",
       "    <tr>\n",
       "      <td>50%</td>\n",
       "      <td>624.500000</td>\n",
       "    </tr>\n",
       "    <tr>\n",
       "      <td>75%</td>\n",
       "      <td>710.500000</td>\n",
       "    </tr>\n",
       "    <tr>\n",
       "      <td>max</td>\n",
       "      <td>770.000000</td>\n",
       "    </tr>\n",
       "  </tbody>\n",
       "</table>\n",
       "</div>"
      ],
      "text/plain": [
       "         visitors\n",
       "count   62.000000\n",
       "mean   607.290323\n",
       "std    114.400560\n",
       "min    361.000000\n",
       "25%    534.000000\n",
       "50%    624.500000\n",
       "75%    710.500000\n",
       "max    770.000000"
      ]
     },
     "metadata": {},
     "output_type": "display_data"
    }
   ],
   "source": [
    "print(\"visitors дубликаты и пропущенные значения:\", visitors.duplicated().sum(), visitors.isnull().sum().sum())\n",
    "display(visitors.head())\n",
    "display(visitors.info())\n",
    "display(visitors.describe())"
   ]
  },
  {
   "cell_type": "code",
   "execution_count": 7,
   "metadata": {},
   "outputs": [],
   "source": [
    "# приведем столбцы hypothesis к нижнему регистру\n",
    "\n",
    "hypothesis.columns = hypothesis.columns.str.lower()\n",
    "\n",
    "# меняем типы данных для столбцов с датами\n",
    "\n",
    "orders['date'] = pd.to_datetime(orders['date'])\n",
    "visitors['date'] = pd.to_datetime(visitors['date'])"
   ]
  },
  {
   "cell_type": "markdown",
   "metadata": {},
   "source": [
    "Таблица с гипотезами содержит всего 9 строк и 5 столбцов с параметрами RICE, в таблице visitors 62 строки и 3 столбца с данными по посетителям по дням, а таблица orders cамая большая — в ней почти 1200 строк и 5 стобцов с данными по заказам. \n",
    "\n",
    "В двух таблицах были данные с датами в формате object, для дальнейшей работы для них был изменен тип данных на datetime. В таблице *hypothesis* названия столбцов начинаются с заглавной буквы; для удобства работы приведем их к нижнему регистру.\n",
    "\n",
    "Дубликатов и пропущенных значений нет."
   ]
  },
  {
   "cell_type": "code",
   "execution_count": 8,
   "metadata": {},
   "outputs": [
    {
     "data": {
      "text/html": [
       "<div>\n",
       "<style scoped>\n",
       "    .dataframe tbody tr th:only-of-type {\n",
       "        vertical-align: middle;\n",
       "    }\n",
       "\n",
       "    .dataframe tbody tr th {\n",
       "        vertical-align: top;\n",
       "    }\n",
       "\n",
       "    .dataframe thead th {\n",
       "        text-align: right;\n",
       "    }\n",
       "</style>\n",
       "<table border=\"1\" class=\"dataframe\">\n",
       "  <thead>\n",
       "    <tr style=\"text-align: right;\">\n",
       "      <th></th>\n",
       "      <th>visitors</th>\n",
       "    </tr>\n",
       "    <tr>\n",
       "      <th>group</th>\n",
       "      <th></th>\n",
       "    </tr>\n",
       "  </thead>\n",
       "  <tbody>\n",
       "    <tr>\n",
       "      <td>A</td>\n",
       "      <td>18736</td>\n",
       "    </tr>\n",
       "    <tr>\n",
       "      <td>B</td>\n",
       "      <td>18916</td>\n",
       "    </tr>\n",
       "  </tbody>\n",
       "</table>\n",
       "</div>"
      ],
      "text/plain": [
       "       visitors\n",
       "group          \n",
       "A         18736\n",
       "B         18916"
      ]
     },
     "execution_count": 8,
     "metadata": {},
     "output_type": "execute_result"
    }
   ],
   "source": [
    "# посмотрим на количество пользователей в каждой группе\n",
    "visitors.groupby('group').agg({'visitors':'sum'})"
   ]
  },
  {
   "cell_type": "code",
   "execution_count": 9,
   "metadata": {},
   "outputs": [
    {
     "data": {
      "text/html": [
       "<div>\n",
       "<style scoped>\n",
       "    .dataframe tbody tr th:only-of-type {\n",
       "        vertical-align: middle;\n",
       "    }\n",
       "\n",
       "    .dataframe tbody tr th {\n",
       "        vertical-align: top;\n",
       "    }\n",
       "\n",
       "    .dataframe thead th {\n",
       "        text-align: right;\n",
       "    }\n",
       "</style>\n",
       "<table border=\"1\" class=\"dataframe\">\n",
       "  <thead>\n",
       "    <tr style=\"text-align: right;\">\n",
       "      <th></th>\n",
       "      <th>visitorId</th>\n",
       "    </tr>\n",
       "    <tr>\n",
       "      <th>group</th>\n",
       "      <th></th>\n",
       "    </tr>\n",
       "  </thead>\n",
       "  <tbody>\n",
       "    <tr>\n",
       "      <td>A</td>\n",
       "      <td>503</td>\n",
       "    </tr>\n",
       "    <tr>\n",
       "      <td>B</td>\n",
       "      <td>586</td>\n",
       "    </tr>\n",
       "  </tbody>\n",
       "</table>\n",
       "</div>"
      ],
      "text/plain": [
       "       visitorId\n",
       "group           \n",
       "A            503\n",
       "B            586"
      ]
     },
     "execution_count": 9,
     "metadata": {},
     "output_type": "execute_result"
    }
   ],
   "source": [
    "# посмотрим на количество заказавших в каждой группе\n",
    "orders.groupby('group').agg({'visitorId':'nunique'})"
   ]
  },
  {
   "cell_type": "code",
   "execution_count": 10,
   "metadata": {},
   "outputs": [
    {
     "data": {
      "text/plain": [
       "1031"
      ]
     },
     "execution_count": 10,
     "metadata": {},
     "output_type": "execute_result"
    }
   ],
   "source": [
    "orders['visitorId'].nunique()"
   ]
  },
  {
   "cell_type": "code",
   "execution_count": 11,
   "metadata": {},
   "outputs": [
    {
     "data": {
      "text/html": [
       "<div>\n",
       "<style scoped>\n",
       "    .dataframe tbody tr th:only-of-type {\n",
       "        vertical-align: middle;\n",
       "    }\n",
       "\n",
       "    .dataframe tbody tr th {\n",
       "        vertical-align: top;\n",
       "    }\n",
       "\n",
       "    .dataframe thead th {\n",
       "        text-align: right;\n",
       "    }\n",
       "</style>\n",
       "<table border=\"1\" class=\"dataframe\">\n",
       "  <thead>\n",
       "    <tr style=\"text-align: right;\">\n",
       "      <th></th>\n",
       "      <th>group</th>\n",
       "    </tr>\n",
       "    <tr>\n",
       "      <th>visitorId</th>\n",
       "      <th></th>\n",
       "    </tr>\n",
       "  </thead>\n",
       "  <tbody>\n",
       "    <tr>\n",
       "      <td>2654030115</td>\n",
       "      <td>2</td>\n",
       "    </tr>\n",
       "    <tr>\n",
       "      <td>3891541246</td>\n",
       "      <td>2</td>\n",
       "    </tr>\n",
       "    <tr>\n",
       "      <td>3941795274</td>\n",
       "      <td>2</td>\n",
       "    </tr>\n",
       "    <tr>\n",
       "      <td>1404934699</td>\n",
       "      <td>2</td>\n",
       "    </tr>\n",
       "    <tr>\n",
       "      <td>351125977</td>\n",
       "      <td>2</td>\n",
       "    </tr>\n",
       "  </tbody>\n",
       "</table>\n",
       "</div>"
      ],
      "text/plain": [
       "            group\n",
       "visitorId        \n",
       "2654030115      2\n",
       "3891541246      2\n",
       "3941795274      2\n",
       "1404934699      2\n",
       "351125977       2"
      ]
     },
     "execution_count": 11,
     "metadata": {},
     "output_type": "execute_result"
    }
   ],
   "source": [
    "# проверим есть ли пользователи, которые делали заказы и попали в обе группы \n",
    "orders.groupby('visitorId').agg({'group':'nunique'}).sort_values('group', ascending=False).head()"
   ]
  },
  {
   "cell_type": "code",
   "execution_count": 12,
   "metadata": {},
   "outputs": [
    {
     "data": {
      "text/plain": [
       "58"
      ]
     },
     "execution_count": 12,
     "metadata": {},
     "output_type": "execute_result"
    }
   ],
   "source": [
    "# сохраним группировку отдельно, чтобы посчитать количество пользователей, попавших в обе группы\n",
    "doubleGroupUsers = orders.groupby('visitorId', as_index=False).agg({'group':'nunique'})\n",
    "doubleGroupUsers[doubleGroupUsers['group'] > 1]['visitorId'].count()"
   ]
  },
  {
   "cell_type": "code",
   "execution_count": 13,
   "metadata": {},
   "outputs": [
    {
     "data": {
      "text/html": [
       "<div>\n",
       "<style scoped>\n",
       "    .dataframe tbody tr th:only-of-type {\n",
       "        vertical-align: middle;\n",
       "    }\n",
       "\n",
       "    .dataframe tbody tr th {\n",
       "        vertical-align: top;\n",
       "    }\n",
       "\n",
       "    .dataframe thead th {\n",
       "        text-align: right;\n",
       "    }\n",
       "</style>\n",
       "<table border=\"1\" class=\"dataframe\">\n",
       "  <thead>\n",
       "    <tr style=\"text-align: right;\">\n",
       "      <th></th>\n",
       "      <th>visitorId</th>\n",
       "    </tr>\n",
       "  </thead>\n",
       "  <tbody>\n",
       "    <tr>\n",
       "      <td>0</td>\n",
       "      <td>8300375</td>\n",
       "    </tr>\n",
       "    <tr>\n",
       "      <td>1</td>\n",
       "      <td>199603092</td>\n",
       "    </tr>\n",
       "    <tr>\n",
       "      <td>2</td>\n",
       "      <td>232979603</td>\n",
       "    </tr>\n",
       "    <tr>\n",
       "      <td>3</td>\n",
       "      <td>237748145</td>\n",
       "    </tr>\n",
       "    <tr>\n",
       "      <td>4</td>\n",
       "      <td>276558944</td>\n",
       "    </tr>\n",
       "  </tbody>\n",
       "</table>\n",
       "</div>"
      ],
      "text/plain": [
       "   visitorId\n",
       "0    8300375\n",
       "1  199603092\n",
       "2  232979603\n",
       "3  237748145\n",
       "4  276558944"
      ]
     },
     "execution_count": 13,
     "metadata": {},
     "output_type": "execute_result"
    }
   ],
   "source": [
    "# сохраним пользователей, попавших в две группы списков \n",
    "doubleGroupUsers = doubleGroupUsers.query('group > 1').reset_index()\n",
    "doubleGroupUsers.drop(['index', 'group'], axis=1, inplace=True)\n",
    "doubleGroupUsers.head()"
   ]
  },
  {
   "cell_type": "code",
   "execution_count": 14,
   "metadata": {},
   "outputs": [],
   "source": [
    "# переведем DataFrame в Series, чтобы использовать срез по нужным пользователям\n",
    "doubleGroupUsersList = pd.Series(doubleGroupUsers['visitorId'])"
   ]
  },
  {
   "cell_type": "code",
   "execution_count": 15,
   "metadata": {},
   "outputs": [
    {
     "data": {
      "text/html": [
       "<div>\n",
       "<style scoped>\n",
       "    .dataframe tbody tr th:only-of-type {\n",
       "        vertical-align: middle;\n",
       "    }\n",
       "\n",
       "    .dataframe tbody tr th {\n",
       "        vertical-align: top;\n",
       "    }\n",
       "\n",
       "    .dataframe thead th {\n",
       "        text-align: right;\n",
       "    }\n",
       "</style>\n",
       "<table border=\"1\" class=\"dataframe\">\n",
       "  <thead>\n",
       "    <tr style=\"text-align: right;\">\n",
       "      <th></th>\n",
       "      <th>transactionId</th>\n",
       "      <th>visitorId</th>\n",
       "      <th>date</th>\n",
       "      <th>revenue</th>\n",
       "      <th>group</th>\n",
       "    </tr>\n",
       "  </thead>\n",
       "  <tbody>\n",
       "    <tr>\n",
       "      <td>0</td>\n",
       "      <td>3667963787</td>\n",
       "      <td>3312258926</td>\n",
       "      <td>2019-08-15</td>\n",
       "      <td>1650</td>\n",
       "      <td>B</td>\n",
       "    </tr>\n",
       "    <tr>\n",
       "      <td>1</td>\n",
       "      <td>2804400009</td>\n",
       "      <td>3642806036</td>\n",
       "      <td>2019-08-15</td>\n",
       "      <td>730</td>\n",
       "      <td>B</td>\n",
       "    </tr>\n",
       "    <tr>\n",
       "      <td>3</td>\n",
       "      <td>3797467345</td>\n",
       "      <td>1196621759</td>\n",
       "      <td>2019-08-15</td>\n",
       "      <td>9759</td>\n",
       "      <td>B</td>\n",
       "    </tr>\n",
       "    <tr>\n",
       "      <td>4</td>\n",
       "      <td>2282983706</td>\n",
       "      <td>2322279887</td>\n",
       "      <td>2019-08-15</td>\n",
       "      <td>2308</td>\n",
       "      <td>B</td>\n",
       "    </tr>\n",
       "    <tr>\n",
       "      <td>5</td>\n",
       "      <td>182168103</td>\n",
       "      <td>935554773</td>\n",
       "      <td>2019-08-15</td>\n",
       "      <td>2210</td>\n",
       "      <td>B</td>\n",
       "    </tr>\n",
       "    <tr>\n",
       "      <td>...</td>\n",
       "      <td>...</td>\n",
       "      <td>...</td>\n",
       "      <td>...</td>\n",
       "      <td>...</td>\n",
       "      <td>...</td>\n",
       "    </tr>\n",
       "    <tr>\n",
       "      <td>1191</td>\n",
       "      <td>3592955527</td>\n",
       "      <td>608641596</td>\n",
       "      <td>2019-08-14</td>\n",
       "      <td>16490</td>\n",
       "      <td>B</td>\n",
       "    </tr>\n",
       "    <tr>\n",
       "      <td>1192</td>\n",
       "      <td>2662137336</td>\n",
       "      <td>3733762160</td>\n",
       "      <td>2019-08-14</td>\n",
       "      <td>6490</td>\n",
       "      <td>B</td>\n",
       "    </tr>\n",
       "    <tr>\n",
       "      <td>1193</td>\n",
       "      <td>2203539145</td>\n",
       "      <td>370388673</td>\n",
       "      <td>2019-08-14</td>\n",
       "      <td>3190</td>\n",
       "      <td>A</td>\n",
       "    </tr>\n",
       "    <tr>\n",
       "      <td>1194</td>\n",
       "      <td>1807773912</td>\n",
       "      <td>573423106</td>\n",
       "      <td>2019-08-14</td>\n",
       "      <td>10550</td>\n",
       "      <td>A</td>\n",
       "    </tr>\n",
       "    <tr>\n",
       "      <td>1196</td>\n",
       "      <td>3936777065</td>\n",
       "      <td>2108080724</td>\n",
       "      <td>2019-08-15</td>\n",
       "      <td>202740</td>\n",
       "      <td>B</td>\n",
       "    </tr>\n",
       "  </tbody>\n",
       "</table>\n",
       "<p>1016 rows × 5 columns</p>\n",
       "</div>"
      ],
      "text/plain": [
       "      transactionId   visitorId       date  revenue group\n",
       "0        3667963787  3312258926 2019-08-15     1650     B\n",
       "1        2804400009  3642806036 2019-08-15      730     B\n",
       "3        3797467345  1196621759 2019-08-15     9759     B\n",
       "4        2282983706  2322279887 2019-08-15     2308     B\n",
       "5         182168103   935554773 2019-08-15     2210     B\n",
       "...             ...         ...        ...      ...   ...\n",
       "1191     3592955527   608641596 2019-08-14    16490     B\n",
       "1192     2662137336  3733762160 2019-08-14     6490     B\n",
       "1193     2203539145   370388673 2019-08-14     3190     A\n",
       "1194     1807773912   573423106 2019-08-14    10550     A\n",
       "1196     3936777065  2108080724 2019-08-15   202740     B\n",
       "\n",
       "[1016 rows x 5 columns]"
      ]
     },
     "execution_count": 15,
     "metadata": {},
     "output_type": "execute_result"
    }
   ],
   "source": [
    "# сохраним список пользователей, которые были только в одной группе\n",
    "cleanOrders = orders.query('visitorId not in @doubleGroupUsersList')\n",
    "cleanOrders"
   ]
  },
  {
   "cell_type": "markdown",
   "metadata": {},
   "source": [
    "В ходе предварительного анализа были найдены 58 пользователей, которые попали в обе группы, что составляет приблизительно 5% от общей базы пользователей, совершавших заказы. В некоторых пунктах ниже, я проведу сравнения между исходными данными и данными без пользователей, попавших и в группу А, и в группе В, чтобы сопоставить показатели."
   ]
  },
  {
   "cell_type": "markdown",
   "metadata": {},
   "source": [
    "### Применение фреймворков ICE и RICE для приоритизации гипотез"
   ]
  },
  {
   "cell_type": "code",
   "execution_count": 16,
   "metadata": {},
   "outputs": [],
   "source": [
    "# чтобы названия гипотез помещались увеличим ширину колонок\n",
    "pd.options.display.max_colwidth = 110"
   ]
  },
  {
   "cell_type": "code",
   "execution_count": 17,
   "metadata": {},
   "outputs": [
    {
     "data": {
      "text/html": [
       "<div>\n",
       "<style scoped>\n",
       "    .dataframe tbody tr th:only-of-type {\n",
       "        vertical-align: middle;\n",
       "    }\n",
       "\n",
       "    .dataframe tbody tr th {\n",
       "        vertical-align: top;\n",
       "    }\n",
       "\n",
       "    .dataframe thead th {\n",
       "        text-align: right;\n",
       "    }\n",
       "</style>\n",
       "<table border=\"1\" class=\"dataframe\">\n",
       "  <thead>\n",
       "    <tr style=\"text-align: right;\">\n",
       "      <th></th>\n",
       "      <th>hypothesis</th>\n",
       "      <th>ICE</th>\n",
       "    </tr>\n",
       "  </thead>\n",
       "  <tbody>\n",
       "    <tr>\n",
       "      <td>8</td>\n",
       "      <td>Запустить акцию, дающую скидку на товар в день рождения</td>\n",
       "      <td>16.20</td>\n",
       "    </tr>\n",
       "    <tr>\n",
       "      <td>0</td>\n",
       "      <td>Добавить два новых канала привлечения трафика, что позволит привлекать на 30% больше пользователей</td>\n",
       "      <td>13.33</td>\n",
       "    </tr>\n",
       "    <tr>\n",
       "      <td>7</td>\n",
       "      <td>Добавить форму подписки на все основные страницы, чтобы собрать базу клиентов для email-рассылок</td>\n",
       "      <td>11.20</td>\n",
       "    </tr>\n",
       "    <tr>\n",
       "      <td>6</td>\n",
       "      <td>Показать на главной странице баннеры с актуальными акциями и распродажами, чтобы увеличить конверсию</td>\n",
       "      <td>8.00</td>\n",
       "    </tr>\n",
       "    <tr>\n",
       "      <td>2</td>\n",
       "      <td>Добавить блоки рекомендаций товаров на сайт интернет магазина, чтобы повысить конверсию и средний чек заказа</td>\n",
       "      <td>7.00</td>\n",
       "    </tr>\n",
       "    <tr>\n",
       "      <td>1</td>\n",
       "      <td>Запустить собственную службу доставки, что сократит срок доставки заказов</td>\n",
       "      <td>2.00</td>\n",
       "    </tr>\n",
       "    <tr>\n",
       "      <td>5</td>\n",
       "      <td>Добавить страницу отзывов клиентов о магазине, что позволит увеличить количество заказов</td>\n",
       "      <td>1.33</td>\n",
       "    </tr>\n",
       "    <tr>\n",
       "      <td>3</td>\n",
       "      <td>Изменить структура категорий, что увеличит конверсию, т.к. пользователи быстрее найдут нужный товар</td>\n",
       "      <td>1.12</td>\n",
       "    </tr>\n",
       "    <tr>\n",
       "      <td>4</td>\n",
       "      <td>Изменить цвет фона главной страницы, чтобы увеличить вовлеченность пользователей</td>\n",
       "      <td>1.00</td>\n",
       "    </tr>\n",
       "  </tbody>\n",
       "</table>\n",
       "</div>"
      ],
      "text/plain": [
       "                                                                                                     hypothesis  \\\n",
       "8                                                       Запустить акцию, дающую скидку на товар в день рождения   \n",
       "0            Добавить два новых канала привлечения трафика, что позволит привлекать на 30% больше пользователей   \n",
       "7              Добавить форму подписки на все основные страницы, чтобы собрать базу клиентов для email-рассылок   \n",
       "6          Показать на главной странице баннеры с актуальными акциями и распродажами, чтобы увеличить конверсию   \n",
       "2  Добавить блоки рекомендаций товаров на сайт интернет магазина, чтобы повысить конверсию и средний чек заказа   \n",
       "1                                     Запустить собственную службу доставки, что сократит срок доставки заказов   \n",
       "5                      Добавить страницу отзывов клиентов о магазине, что позволит увеличить количество заказов   \n",
       "3           Изменить структура категорий, что увеличит конверсию, т.к. пользователи быстрее найдут нужный товар   \n",
       "4                              Изменить цвет фона главной страницы, чтобы увеличить вовлеченность пользователей   \n",
       "\n",
       "     ICE  \n",
       "8  16.20  \n",
       "0  13.33  \n",
       "7  11.20  \n",
       "6   8.00  \n",
       "2   7.00  \n",
       "1   2.00  \n",
       "5   1.33  \n",
       "3   1.12  \n",
       "4   1.00  "
      ]
     },
     "execution_count": 17,
     "metadata": {},
     "output_type": "execute_result"
    }
   ],
   "source": [
    "# приоритизируем гипотезы через фреймворк ICE\n",
    "\n",
    "hypothesis['ICE'] = hypothesis['impact'] * hypothesis['confidence'] / hypothesis['efforts']\n",
    "\n",
    "hypothesis[['hypothesis', 'ICE']].sort_values('ICE', ascending=False).round(2)"
   ]
  },
  {
   "cell_type": "code",
   "execution_count": 18,
   "metadata": {},
   "outputs": [
    {
     "data": {
      "text/html": [
       "<div>\n",
       "<style scoped>\n",
       "    .dataframe tbody tr th:only-of-type {\n",
       "        vertical-align: middle;\n",
       "    }\n",
       "\n",
       "    .dataframe tbody tr th {\n",
       "        vertical-align: top;\n",
       "    }\n",
       "\n",
       "    .dataframe thead th {\n",
       "        text-align: right;\n",
       "    }\n",
       "</style>\n",
       "<table border=\"1\" class=\"dataframe\">\n",
       "  <thead>\n",
       "    <tr style=\"text-align: right;\">\n",
       "      <th></th>\n",
       "      <th>hypothesis</th>\n",
       "      <th>RICE</th>\n",
       "    </tr>\n",
       "  </thead>\n",
       "  <tbody>\n",
       "    <tr>\n",
       "      <td>7</td>\n",
       "      <td>Добавить форму подписки на все основные страницы, чтобы собрать базу клиентов для email-рассылок</td>\n",
       "      <td>112.0</td>\n",
       "    </tr>\n",
       "    <tr>\n",
       "      <td>2</td>\n",
       "      <td>Добавить блоки рекомендаций товаров на сайт интернет магазина, чтобы повысить конверсию и средний чек заказа</td>\n",
       "      <td>56.0</td>\n",
       "    </tr>\n",
       "    <tr>\n",
       "      <td>0</td>\n",
       "      <td>Добавить два новых канала привлечения трафика, что позволит привлекать на 30% больше пользователей</td>\n",
       "      <td>40.0</td>\n",
       "    </tr>\n",
       "    <tr>\n",
       "      <td>6</td>\n",
       "      <td>Показать на главной странице баннеры с актуальными акциями и распродажами, чтобы увеличить конверсию</td>\n",
       "      <td>40.0</td>\n",
       "    </tr>\n",
       "    <tr>\n",
       "      <td>8</td>\n",
       "      <td>Запустить акцию, дающую скидку на товар в день рождения</td>\n",
       "      <td>16.2</td>\n",
       "    </tr>\n",
       "    <tr>\n",
       "      <td>3</td>\n",
       "      <td>Изменить структура категорий, что увеличит конверсию, т.к. пользователи быстрее найдут нужный товар</td>\n",
       "      <td>9.0</td>\n",
       "    </tr>\n",
       "    <tr>\n",
       "      <td>1</td>\n",
       "      <td>Запустить собственную службу доставки, что сократит срок доставки заказов</td>\n",
       "      <td>4.0</td>\n",
       "    </tr>\n",
       "    <tr>\n",
       "      <td>5</td>\n",
       "      <td>Добавить страницу отзывов клиентов о магазине, что позволит увеличить количество заказов</td>\n",
       "      <td>4.0</td>\n",
       "    </tr>\n",
       "    <tr>\n",
       "      <td>4</td>\n",
       "      <td>Изменить цвет фона главной страницы, чтобы увеличить вовлеченность пользователей</td>\n",
       "      <td>3.0</td>\n",
       "    </tr>\n",
       "  </tbody>\n",
       "</table>\n",
       "</div>"
      ],
      "text/plain": [
       "                                                                                                     hypothesis  \\\n",
       "7              Добавить форму подписки на все основные страницы, чтобы собрать базу клиентов для email-рассылок   \n",
       "2  Добавить блоки рекомендаций товаров на сайт интернет магазина, чтобы повысить конверсию и средний чек заказа   \n",
       "0            Добавить два новых канала привлечения трафика, что позволит привлекать на 30% больше пользователей   \n",
       "6          Показать на главной странице баннеры с актуальными акциями и распродажами, чтобы увеличить конверсию   \n",
       "8                                                       Запустить акцию, дающую скидку на товар в день рождения   \n",
       "3           Изменить структура категорий, что увеличит конверсию, т.к. пользователи быстрее найдут нужный товар   \n",
       "1                                     Запустить собственную службу доставки, что сократит срок доставки заказов   \n",
       "5                      Добавить страницу отзывов клиентов о магазине, что позволит увеличить количество заказов   \n",
       "4                              Изменить цвет фона главной страницы, чтобы увеличить вовлеченность пользователей   \n",
       "\n",
       "    RICE  \n",
       "7  112.0  \n",
       "2   56.0  \n",
       "0   40.0  \n",
       "6   40.0  \n",
       "8   16.2  \n",
       "3    9.0  \n",
       "1    4.0  \n",
       "5    4.0  \n",
       "4    3.0  "
      ]
     },
     "execution_count": 18,
     "metadata": {},
     "output_type": "execute_result"
    }
   ],
   "source": [
    "# приоритизируем гипотезы через фреймворк RICE\n",
    "\n",
    "hypothesis['RICE'] = hypothesis['reach'] * hypothesis['impact'] * hypothesis['confidence'] / hypothesis['efforts']\n",
    "\n",
    "hypothesis[['hypothesis', 'RICE']].sort_values('RICE', ascending=False).round(2)"
   ]
  },
  {
   "cell_type": "code",
   "execution_count": 19,
   "metadata": {},
   "outputs": [
    {
     "data": {
      "text/html": [
       "<div>\n",
       "<style scoped>\n",
       "    .dataframe tbody tr th:only-of-type {\n",
       "        vertical-align: middle;\n",
       "    }\n",
       "\n",
       "    .dataframe tbody tr th {\n",
       "        vertical-align: top;\n",
       "    }\n",
       "\n",
       "    .dataframe thead th {\n",
       "        text-align: right;\n",
       "    }\n",
       "</style>\n",
       "<table border=\"1\" class=\"dataframe\">\n",
       "  <thead>\n",
       "    <tr style=\"text-align: right;\">\n",
       "      <th></th>\n",
       "      <th>hypothesis</th>\n",
       "      <th>reach</th>\n",
       "      <th>impact</th>\n",
       "      <th>confidence</th>\n",
       "      <th>efforts</th>\n",
       "      <th>ICE</th>\n",
       "      <th>RICE</th>\n",
       "    </tr>\n",
       "  </thead>\n",
       "  <tbody>\n",
       "    <tr>\n",
       "      <td>0</td>\n",
       "      <td>Добавить два новых канала привлечения трафика, что позволит привлекать на 30% больше пользователей</td>\n",
       "      <td>3</td>\n",
       "      <td>10</td>\n",
       "      <td>8</td>\n",
       "      <td>6</td>\n",
       "      <td>13.333333</td>\n",
       "      <td>40.0</td>\n",
       "    </tr>\n",
       "    <tr>\n",
       "      <td>1</td>\n",
       "      <td>Запустить собственную службу доставки, что сократит срок доставки заказов</td>\n",
       "      <td>2</td>\n",
       "      <td>5</td>\n",
       "      <td>4</td>\n",
       "      <td>10</td>\n",
       "      <td>2.000000</td>\n",
       "      <td>4.0</td>\n",
       "    </tr>\n",
       "    <tr>\n",
       "      <td>2</td>\n",
       "      <td>Добавить блоки рекомендаций товаров на сайт интернет магазина, чтобы повысить конверсию и средний чек заказа</td>\n",
       "      <td>8</td>\n",
       "      <td>3</td>\n",
       "      <td>7</td>\n",
       "      <td>3</td>\n",
       "      <td>7.000000</td>\n",
       "      <td>56.0</td>\n",
       "    </tr>\n",
       "    <tr>\n",
       "      <td>3</td>\n",
       "      <td>Изменить структура категорий, что увеличит конверсию, т.к. пользователи быстрее найдут нужный товар</td>\n",
       "      <td>8</td>\n",
       "      <td>3</td>\n",
       "      <td>3</td>\n",
       "      <td>8</td>\n",
       "      <td>1.125000</td>\n",
       "      <td>9.0</td>\n",
       "    </tr>\n",
       "    <tr>\n",
       "      <td>4</td>\n",
       "      <td>Изменить цвет фона главной страницы, чтобы увеличить вовлеченность пользователей</td>\n",
       "      <td>3</td>\n",
       "      <td>1</td>\n",
       "      <td>1</td>\n",
       "      <td>1</td>\n",
       "      <td>1.000000</td>\n",
       "      <td>3.0</td>\n",
       "    </tr>\n",
       "    <tr>\n",
       "      <td>5</td>\n",
       "      <td>Добавить страницу отзывов клиентов о магазине, что позволит увеличить количество заказов</td>\n",
       "      <td>3</td>\n",
       "      <td>2</td>\n",
       "      <td>2</td>\n",
       "      <td>3</td>\n",
       "      <td>1.333333</td>\n",
       "      <td>4.0</td>\n",
       "    </tr>\n",
       "    <tr>\n",
       "      <td>6</td>\n",
       "      <td>Показать на главной странице баннеры с актуальными акциями и распродажами, чтобы увеличить конверсию</td>\n",
       "      <td>5</td>\n",
       "      <td>3</td>\n",
       "      <td>8</td>\n",
       "      <td>3</td>\n",
       "      <td>8.000000</td>\n",
       "      <td>40.0</td>\n",
       "    </tr>\n",
       "    <tr>\n",
       "      <td>7</td>\n",
       "      <td>Добавить форму подписки на все основные страницы, чтобы собрать базу клиентов для email-рассылок</td>\n",
       "      <td>10</td>\n",
       "      <td>7</td>\n",
       "      <td>8</td>\n",
       "      <td>5</td>\n",
       "      <td>11.200000</td>\n",
       "      <td>112.0</td>\n",
       "    </tr>\n",
       "    <tr>\n",
       "      <td>8</td>\n",
       "      <td>Запустить акцию, дающую скидку на товар в день рождения</td>\n",
       "      <td>1</td>\n",
       "      <td>9</td>\n",
       "      <td>9</td>\n",
       "      <td>5</td>\n",
       "      <td>16.200000</td>\n",
       "      <td>16.2</td>\n",
       "    </tr>\n",
       "  </tbody>\n",
       "</table>\n",
       "</div>"
      ],
      "text/plain": [
       "                                                                                                     hypothesis  \\\n",
       "0            Добавить два новых канала привлечения трафика, что позволит привлекать на 30% больше пользователей   \n",
       "1                                     Запустить собственную службу доставки, что сократит срок доставки заказов   \n",
       "2  Добавить блоки рекомендаций товаров на сайт интернет магазина, чтобы повысить конверсию и средний чек заказа   \n",
       "3           Изменить структура категорий, что увеличит конверсию, т.к. пользователи быстрее найдут нужный товар   \n",
       "4                              Изменить цвет фона главной страницы, чтобы увеличить вовлеченность пользователей   \n",
       "5                      Добавить страницу отзывов клиентов о магазине, что позволит увеличить количество заказов   \n",
       "6          Показать на главной странице баннеры с актуальными акциями и распродажами, чтобы увеличить конверсию   \n",
       "7              Добавить форму подписки на все основные страницы, чтобы собрать базу клиентов для email-рассылок   \n",
       "8                                                       Запустить акцию, дающую скидку на товар в день рождения   \n",
       "\n",
       "   reach  impact  confidence  efforts        ICE   RICE  \n",
       "0      3      10           8        6  13.333333   40.0  \n",
       "1      2       5           4       10   2.000000    4.0  \n",
       "2      8       3           7        3   7.000000   56.0  \n",
       "3      8       3           3        8   1.125000    9.0  \n",
       "4      3       1           1        1   1.000000    3.0  \n",
       "5      3       2           2        3   1.333333    4.0  \n",
       "6      5       3           8        3   8.000000   40.0  \n",
       "7     10       7           8        5  11.200000  112.0  \n",
       "8      1       9           9        5  16.200000   16.2  "
      ]
     },
     "execution_count": 19,
     "metadata": {},
     "output_type": "execute_result"
    }
   ],
   "source": [
    "hypothesis"
   ]
  },
  {
   "cell_type": "markdown",
   "metadata": {},
   "source": [
    "Приоритизация гипотез посредством фреймворков ICE и RICE показала схожие результаты, но разных лидеров: самыми перспективными гипотезами в обоих случаях являются гипотезы 0 и 7, занимающие вторые и третьи места, однако первое место отличается. При оценке ICE самой перспективной стала гипотеза гипотеза 8 с небольшим, но ощутимым отрывом от второго и третьего места, однако в случае с RICE эта же гипотеза оказалась в середине таблицы на 5 месте, почти в 10 раз отставая от лидера.\n",
    "\n",
    "Это связано с разницей в показателе охвата (Reach): для гипотезы 8 этот показатель имеет самую минимальную оценку — 1 балл, для гипотезы 7 наоборот максимальную — 10 баллов. Это также объясняет значительный отрыв первого места по фреймворку RICE со 112 баллами от остальных гипотез — такого высокого показателя охвата нет больше ни у одной гипотезы, а у большинства гипотез оценка reach составляет от 1 до 5 баллов. "
   ]
  },
  {
   "cell_type": "markdown",
   "metadata": {},
   "source": [
    "## Анализ A/B-теста"
   ]
  },
  {
   "cell_type": "markdown",
   "metadata": {},
   "source": [
    "Задача проанализировать A/B-тест:\n",
    "\n",
    "Постройте график кумулятивной выручки по группам. Сделайте выводы и предположения.\n",
    "\n",
    "Постройте график кумулятивного среднего чека по группам. Сделайте выводы и предположения.\n",
    "\n",
    "Постройте график относительного изменения кумулятивного среднего чека группы B к группе A. Сделайте выводы и предположения.\n",
    "\n",
    "Постройте график кумулятивной конверсии по группам. Сделайте выводы и предположения.\n",
    "\n",
    "Постройте график относительного изменения кумулятивной конверсии группы B к группе A. Сделайте выводы и предположения.\n",
    "\n",
    "Постройте точечный график количества заказов по пользователям. Сделайте выводы и предположения.\n",
    "\n",
    "Посчитайте 95-й и 99-й перцентили количества заказов на пользователя. Выберите границу для определения аномальных пользователей.\n",
    "\n",
    "Постройте точечный график стоимостей заказов. Сделайте выводы и предположения.\n",
    "\n",
    "Посчитайте 95-й и 99-й перцентили стоимости заказов. Выберите границу для определения аномальных заказов.\n",
    "\n",
    "Посчитайте статистическую значимость различий в конверсии между группами по «сырым» данным. Сделайте выводы и предположения.\n",
    "\n",
    "Посчитайте статистическую значимость различий в среднем чеке заказа между группами по «сырым» данным. Сделайте выводы и предположения.\n",
    "\n",
    "Посчитайте статистическую значимость различий в конверсии между группами по «очищенным» данным. Сделайте выводы и предположения.\n",
    "\n",
    "Посчитайте статистическую значимость различий в среднем чеке заказа между группами по «очищенным» данным. Сделайте выводы и предположения.\n",
    "\n",
    "Примите решение по результатам теста и объясните его. Варианты решений: 1. Остановить тест, зафиксировать победу одной из групп. 2. Остановить тест, зафиксировать отсутствие различий между группами. 3. Продолжить тест."
   ]
  },
  {
   "cell_type": "code",
   "execution_count": 20,
   "metadata": {},
   "outputs": [
    {
     "data": {
      "text/plain": [
       "count                    1197\n",
       "unique                     31\n",
       "top       2019-08-05 00:00:00\n",
       "freq                       48\n",
       "first     2019-08-01 00:00:00\n",
       "last      2019-08-31 00:00:00\n",
       "Name: date, dtype: object"
      ]
     },
     "metadata": {},
     "output_type": "display_data"
    },
    {
     "data": {
      "text/plain": [
       "count                      62\n",
       "unique                     31\n",
       "top       2019-08-02 00:00:00\n",
       "freq                        2\n",
       "first     2019-08-01 00:00:00\n",
       "last      2019-08-31 00:00:00\n",
       "Name: date, dtype: object"
      ]
     },
     "metadata": {},
     "output_type": "display_data"
    }
   ],
   "source": [
    "# посмотрим на период, по которому представлены данные\n",
    "display(orders['date'].describe())\n",
    "display(visitors['date'].describe())"
   ]
  },
  {
   "cell_type": "code",
   "execution_count": 21,
   "metadata": {},
   "outputs": [
    {
     "data": {
      "text/html": [
       "<div>\n",
       "<style scoped>\n",
       "    .dataframe tbody tr th:only-of-type {\n",
       "        vertical-align: middle;\n",
       "    }\n",
       "\n",
       "    .dataframe tbody tr th {\n",
       "        vertical-align: top;\n",
       "    }\n",
       "\n",
       "    .dataframe thead th {\n",
       "        text-align: right;\n",
       "    }\n",
       "</style>\n",
       "<table border=\"1\" class=\"dataframe\">\n",
       "  <thead>\n",
       "    <tr style=\"text-align: right;\">\n",
       "      <th></th>\n",
       "      <th>transactionId</th>\n",
       "      <th>visitorId</th>\n",
       "      <th>date</th>\n",
       "      <th>revenue</th>\n",
       "      <th>group</th>\n",
       "    </tr>\n",
       "  </thead>\n",
       "  <tbody>\n",
       "    <tr>\n",
       "      <td>0</td>\n",
       "      <td>3667963787</td>\n",
       "      <td>3312258926</td>\n",
       "      <td>2019-08-15</td>\n",
       "      <td>1650</td>\n",
       "      <td>B</td>\n",
       "    </tr>\n",
       "    <tr>\n",
       "      <td>1</td>\n",
       "      <td>2804400009</td>\n",
       "      <td>3642806036</td>\n",
       "      <td>2019-08-15</td>\n",
       "      <td>730</td>\n",
       "      <td>B</td>\n",
       "    </tr>\n",
       "    <tr>\n",
       "      <td>2</td>\n",
       "      <td>2961555356</td>\n",
       "      <td>4069496402</td>\n",
       "      <td>2019-08-15</td>\n",
       "      <td>400</td>\n",
       "      <td>A</td>\n",
       "    </tr>\n",
       "    <tr>\n",
       "      <td>3</td>\n",
       "      <td>3797467345</td>\n",
       "      <td>1196621759</td>\n",
       "      <td>2019-08-15</td>\n",
       "      <td>9759</td>\n",
       "      <td>B</td>\n",
       "    </tr>\n",
       "    <tr>\n",
       "      <td>4</td>\n",
       "      <td>2282983706</td>\n",
       "      <td>2322279887</td>\n",
       "      <td>2019-08-15</td>\n",
       "      <td>2308</td>\n",
       "      <td>B</td>\n",
       "    </tr>\n",
       "  </tbody>\n",
       "</table>\n",
       "</div>"
      ],
      "text/plain": [
       "   transactionId   visitorId       date  revenue group\n",
       "0     3667963787  3312258926 2019-08-15     1650     B\n",
       "1     2804400009  3642806036 2019-08-15      730     B\n",
       "2     2961555356  4069496402 2019-08-15      400     A\n",
       "3     3797467345  1196621759 2019-08-15     9759     B\n",
       "4     2282983706  2322279887 2019-08-15     2308     B"
      ]
     },
     "execution_count": 21,
     "metadata": {},
     "output_type": "execute_result"
    }
   ],
   "source": [
    "orders.head()"
   ]
  },
  {
   "cell_type": "code",
   "execution_count": 22,
   "metadata": {},
   "outputs": [
    {
     "data": {
      "text/html": [
       "<div>\n",
       "<style scoped>\n",
       "    .dataframe tbody tr th:only-of-type {\n",
       "        vertical-align: middle;\n",
       "    }\n",
       "\n",
       "    .dataframe tbody tr th {\n",
       "        vertical-align: top;\n",
       "    }\n",
       "\n",
       "    .dataframe thead th {\n",
       "        text-align: right;\n",
       "    }\n",
       "</style>\n",
       "<table border=\"1\" class=\"dataframe\">\n",
       "  <thead>\n",
       "    <tr style=\"text-align: right;\">\n",
       "      <th></th>\n",
       "      <th>date</th>\n",
       "      <th>group</th>\n",
       "      <th>visitors</th>\n",
       "    </tr>\n",
       "  </thead>\n",
       "  <tbody>\n",
       "    <tr>\n",
       "      <td>0</td>\n",
       "      <td>2019-08-01</td>\n",
       "      <td>A</td>\n",
       "      <td>719</td>\n",
       "    </tr>\n",
       "    <tr>\n",
       "      <td>1</td>\n",
       "      <td>2019-08-02</td>\n",
       "      <td>A</td>\n",
       "      <td>619</td>\n",
       "    </tr>\n",
       "    <tr>\n",
       "      <td>2</td>\n",
       "      <td>2019-08-03</td>\n",
       "      <td>A</td>\n",
       "      <td>507</td>\n",
       "    </tr>\n",
       "    <tr>\n",
       "      <td>3</td>\n",
       "      <td>2019-08-04</td>\n",
       "      <td>A</td>\n",
       "      <td>717</td>\n",
       "    </tr>\n",
       "    <tr>\n",
       "      <td>4</td>\n",
       "      <td>2019-08-05</td>\n",
       "      <td>A</td>\n",
       "      <td>756</td>\n",
       "    </tr>\n",
       "  </tbody>\n",
       "</table>\n",
       "</div>"
      ],
      "text/plain": [
       "        date group  visitors\n",
       "0 2019-08-01     A       719\n",
       "1 2019-08-02     A       619\n",
       "2 2019-08-03     A       507\n",
       "3 2019-08-04     A       717\n",
       "4 2019-08-05     A       756"
      ]
     },
     "execution_count": 22,
     "metadata": {},
     "output_type": "execute_result"
    }
   ],
   "source": [
    "visitors.head()"
   ]
  },
  {
   "cell_type": "markdown",
   "metadata": {},
   "source": [
    "### Кумулятивные графики по группам"
   ]
  },
  {
   "cell_type": "markdown",
   "metadata": {},
   "source": [
    "#### Кумулятивная выручка"
   ]
  },
  {
   "cell_type": "code",
   "execution_count": 23,
   "metadata": {},
   "outputs": [],
   "source": [
    "# создаем таблицу с данными по днями и группам\n",
    "\n",
    "datesGroups = orders[['date','group']].drop_duplicates() "
   ]
  },
  {
   "cell_type": "code",
   "execution_count": 24,
   "metadata": {},
   "outputs": [],
   "source": [
    "# посчитаем количество уникальных заказов и юзеров агрегированно и накопительно по дням\n",
    "\n",
    "ordersAggregated = datesGroups.apply(lambda x: \n",
    "    orders[np.logical_and(\n",
    "        orders['date'] <= x['date'], \n",
    "        orders['group'] == x['group'])].agg(\n",
    "        {'date': 'max','group': 'max',\n",
    "         'transactionId': pd.Series.nunique,\n",
    "         'visitorId': pd.Series.nunique,\n",
    "         'revenue': 'sum'}), axis=1,\n",
    "            ).sort_values(by=['date', 'group'])"
   ]
  },
  {
   "cell_type": "code",
   "execution_count": 25,
   "metadata": {},
   "outputs": [],
   "source": [
    "# аналогично посчитаем количество посетителей агрегированно и накопительно по дням\n",
    "\n",
    "visitorsAggregated = datesGroups.apply(lambda x: \n",
    "    visitors[np.logical_and(\n",
    "        visitors['date'] <= x['date'], \n",
    "        visitors['group'] == x['group'])].agg(\n",
    "        {'date': 'max','group': 'max',\n",
    "         'visitors': 'sum'}), axis=1,\n",
    "            ).sort_values(by=['date', 'group'])"
   ]
  },
  {
   "cell_type": "code",
   "execution_count": 26,
   "metadata": {},
   "outputs": [
    {
     "data": {
      "text/html": [
       "<div>\n",
       "<style scoped>\n",
       "    .dataframe tbody tr th:only-of-type {\n",
       "        vertical-align: middle;\n",
       "    }\n",
       "\n",
       "    .dataframe tbody tr th {\n",
       "        vertical-align: top;\n",
       "    }\n",
       "\n",
       "    .dataframe thead th {\n",
       "        text-align: right;\n",
       "    }\n",
       "</style>\n",
       "<table border=\"1\" class=\"dataframe\">\n",
       "  <thead>\n",
       "    <tr style=\"text-align: right;\">\n",
       "      <th></th>\n",
       "      <th>date</th>\n",
       "      <th>group</th>\n",
       "      <th>transactionId</th>\n",
       "      <th>visitorId</th>\n",
       "      <th>revenue</th>\n",
       "    </tr>\n",
       "  </thead>\n",
       "  <tbody>\n",
       "    <tr>\n",
       "      <td>55</td>\n",
       "      <td>2019-08-01</td>\n",
       "      <td>A</td>\n",
       "      <td>24</td>\n",
       "      <td>20</td>\n",
       "      <td>148579</td>\n",
       "    </tr>\n",
       "    <tr>\n",
       "      <td>66</td>\n",
       "      <td>2019-08-01</td>\n",
       "      <td>B</td>\n",
       "      <td>21</td>\n",
       "      <td>20</td>\n",
       "      <td>101217</td>\n",
       "    </tr>\n",
       "    <tr>\n",
       "      <td>175</td>\n",
       "      <td>2019-08-02</td>\n",
       "      <td>A</td>\n",
       "      <td>44</td>\n",
       "      <td>38</td>\n",
       "      <td>242401</td>\n",
       "    </tr>\n",
       "    <tr>\n",
       "      <td>173</td>\n",
       "      <td>2019-08-02</td>\n",
       "      <td>B</td>\n",
       "      <td>45</td>\n",
       "      <td>43</td>\n",
       "      <td>266748</td>\n",
       "    </tr>\n",
       "    <tr>\n",
       "      <td>291</td>\n",
       "      <td>2019-08-03</td>\n",
       "      <td>A</td>\n",
       "      <td>68</td>\n",
       "      <td>62</td>\n",
       "      <td>354874</td>\n",
       "    </tr>\n",
       "  </tbody>\n",
       "</table>\n",
       "</div>"
      ],
      "text/plain": [
       "          date group  transactionId  visitorId  revenue\n",
       "55  2019-08-01     A             24         20   148579\n",
       "66  2019-08-01     B             21         20   101217\n",
       "175 2019-08-02     A             44         38   242401\n",
       "173 2019-08-02     B             45         43   266748\n",
       "291 2019-08-03     A             68         62   354874"
      ]
     },
     "metadata": {},
     "output_type": "display_data"
    },
    {
     "data": {
      "text/html": [
       "<div>\n",
       "<style scoped>\n",
       "    .dataframe tbody tr th:only-of-type {\n",
       "        vertical-align: middle;\n",
       "    }\n",
       "\n",
       "    .dataframe tbody tr th {\n",
       "        vertical-align: top;\n",
       "    }\n",
       "\n",
       "    .dataframe thead th {\n",
       "        text-align: right;\n",
       "    }\n",
       "</style>\n",
       "<table border=\"1\" class=\"dataframe\">\n",
       "  <thead>\n",
       "    <tr style=\"text-align: right;\">\n",
       "      <th></th>\n",
       "      <th>date</th>\n",
       "      <th>group</th>\n",
       "      <th>visitors</th>\n",
       "    </tr>\n",
       "  </thead>\n",
       "  <tbody>\n",
       "    <tr>\n",
       "      <td>55</td>\n",
       "      <td>2019-08-01</td>\n",
       "      <td>A</td>\n",
       "      <td>719</td>\n",
       "    </tr>\n",
       "    <tr>\n",
       "      <td>66</td>\n",
       "      <td>2019-08-01</td>\n",
       "      <td>B</td>\n",
       "      <td>713</td>\n",
       "    </tr>\n",
       "    <tr>\n",
       "      <td>175</td>\n",
       "      <td>2019-08-02</td>\n",
       "      <td>A</td>\n",
       "      <td>1338</td>\n",
       "    </tr>\n",
       "    <tr>\n",
       "      <td>173</td>\n",
       "      <td>2019-08-02</td>\n",
       "      <td>B</td>\n",
       "      <td>1294</td>\n",
       "    </tr>\n",
       "    <tr>\n",
       "      <td>291</td>\n",
       "      <td>2019-08-03</td>\n",
       "      <td>A</td>\n",
       "      <td>1845</td>\n",
       "    </tr>\n",
       "  </tbody>\n",
       "</table>\n",
       "</div>"
      ],
      "text/plain": [
       "          date group  visitors\n",
       "55  2019-08-01     A       719\n",
       "66  2019-08-01     B       713\n",
       "175 2019-08-02     A      1338\n",
       "173 2019-08-02     B      1294\n",
       "291 2019-08-03     A      1845"
      ]
     },
     "metadata": {},
     "output_type": "display_data"
    }
   ],
   "source": [
    "display(ordersAggregated.head())\n",
    "display(visitorsAggregated.head())"
   ]
  },
  {
   "cell_type": "code",
   "execution_count": 27,
   "metadata": {},
   "outputs": [
    {
     "data": {
      "text/html": [
       "<div>\n",
       "<style scoped>\n",
       "    .dataframe tbody tr th:only-of-type {\n",
       "        vertical-align: middle;\n",
       "    }\n",
       "\n",
       "    .dataframe tbody tr th {\n",
       "        vertical-align: top;\n",
       "    }\n",
       "\n",
       "    .dataframe thead th {\n",
       "        text-align: right;\n",
       "    }\n",
       "</style>\n",
       "<table border=\"1\" class=\"dataframe\">\n",
       "  <thead>\n",
       "    <tr style=\"text-align: right;\">\n",
       "      <th></th>\n",
       "      <th>date</th>\n",
       "      <th>group</th>\n",
       "      <th>orders</th>\n",
       "      <th>buyers</th>\n",
       "      <th>revenue</th>\n",
       "      <th>visitors</th>\n",
       "    </tr>\n",
       "  </thead>\n",
       "  <tbody>\n",
       "    <tr>\n",
       "      <td>0</td>\n",
       "      <td>2019-08-01</td>\n",
       "      <td>A</td>\n",
       "      <td>24</td>\n",
       "      <td>20</td>\n",
       "      <td>148579</td>\n",
       "      <td>719</td>\n",
       "    </tr>\n",
       "    <tr>\n",
       "      <td>1</td>\n",
       "      <td>2019-08-01</td>\n",
       "      <td>B</td>\n",
       "      <td>21</td>\n",
       "      <td>20</td>\n",
       "      <td>101217</td>\n",
       "      <td>713</td>\n",
       "    </tr>\n",
       "    <tr>\n",
       "      <td>2</td>\n",
       "      <td>2019-08-02</td>\n",
       "      <td>A</td>\n",
       "      <td>44</td>\n",
       "      <td>38</td>\n",
       "      <td>242401</td>\n",
       "      <td>1338</td>\n",
       "    </tr>\n",
       "    <tr>\n",
       "      <td>3</td>\n",
       "      <td>2019-08-02</td>\n",
       "      <td>B</td>\n",
       "      <td>45</td>\n",
       "      <td>43</td>\n",
       "      <td>266748</td>\n",
       "      <td>1294</td>\n",
       "    </tr>\n",
       "    <tr>\n",
       "      <td>4</td>\n",
       "      <td>2019-08-03</td>\n",
       "      <td>A</td>\n",
       "      <td>68</td>\n",
       "      <td>62</td>\n",
       "      <td>354874</td>\n",
       "      <td>1845</td>\n",
       "    </tr>\n",
       "    <tr>\n",
       "      <td>...</td>\n",
       "      <td>...</td>\n",
       "      <td>...</td>\n",
       "      <td>...</td>\n",
       "      <td>...</td>\n",
       "      <td>...</td>\n",
       "      <td>...</td>\n",
       "    </tr>\n",
       "    <tr>\n",
       "      <td>57</td>\n",
       "      <td>2019-08-29</td>\n",
       "      <td>B</td>\n",
       "      <td>596</td>\n",
       "      <td>544</td>\n",
       "      <td>5559398</td>\n",
       "      <td>17708</td>\n",
       "    </tr>\n",
       "    <tr>\n",
       "      <td>58</td>\n",
       "      <td>2019-08-30</td>\n",
       "      <td>A</td>\n",
       "      <td>545</td>\n",
       "      <td>493</td>\n",
       "      <td>4022970</td>\n",
       "      <td>18037</td>\n",
       "    </tr>\n",
       "    <tr>\n",
       "      <td>59</td>\n",
       "      <td>2019-08-30</td>\n",
       "      <td>B</td>\n",
       "      <td>620</td>\n",
       "      <td>567</td>\n",
       "      <td>5774631</td>\n",
       "      <td>18198</td>\n",
       "    </tr>\n",
       "    <tr>\n",
       "      <td>60</td>\n",
       "      <td>2019-08-31</td>\n",
       "      <td>A</td>\n",
       "      <td>557</td>\n",
       "      <td>503</td>\n",
       "      <td>4084803</td>\n",
       "      <td>18736</td>\n",
       "    </tr>\n",
       "    <tr>\n",
       "      <td>61</td>\n",
       "      <td>2019-08-31</td>\n",
       "      <td>B</td>\n",
       "      <td>640</td>\n",
       "      <td>586</td>\n",
       "      <td>5907760</td>\n",
       "      <td>18916</td>\n",
       "    </tr>\n",
       "  </tbody>\n",
       "</table>\n",
       "<p>62 rows × 6 columns</p>\n",
       "</div>"
      ],
      "text/plain": [
       "         date group  orders  buyers  revenue  visitors\n",
       "0  2019-08-01     A      24      20   148579       719\n",
       "1  2019-08-01     B      21      20   101217       713\n",
       "2  2019-08-02     A      44      38   242401      1338\n",
       "3  2019-08-02     B      45      43   266748      1294\n",
       "4  2019-08-03     A      68      62   354874      1845\n",
       "..        ...   ...     ...     ...      ...       ...\n",
       "57 2019-08-29     B     596     544  5559398     17708\n",
       "58 2019-08-30     A     545     493  4022970     18037\n",
       "59 2019-08-30     B     620     567  5774631     18198\n",
       "60 2019-08-31     A     557     503  4084803     18736\n",
       "61 2019-08-31     B     640     586  5907760     18916\n",
       "\n",
       "[62 rows x 6 columns]"
      ]
     },
     "execution_count": 27,
     "metadata": {},
     "output_type": "execute_result"
    }
   ],
   "source": [
    "# объединяем две таблицы в одну с данными по заказам и посетителям агрегрированно по дням и группам\n",
    "\n",
    "cumulativeData = ordersAggregated.merge(visitorsAggregated, on=['date', 'group'])\n",
    "cumulativeData.columns = ['date', 'group', 'orders', 'buyers', 'revenue', 'visitors']\n",
    "cumulativeData"
   ]
  },
  {
   "cell_type": "code",
   "execution_count": 28,
   "metadata": {},
   "outputs": [],
   "source": [
    "# таблицы с накопительными заказами и выручкой по дням для группы А и В\n",
    "cumulativeRevenueA = cumulativeData[cumulativeData['group']=='A'][['date','revenue', 'orders']]\n",
    "cumulativeRevenueB = cumulativeData[cumulativeData['group']=='B'][['date','revenue', 'orders']]"
   ]
  },
  {
   "cell_type": "code",
   "execution_count": 29,
   "metadata": {},
   "outputs": [
    {
     "data": {
      "image/png": "[encoded data removed]",
      "text/plain": [
       "<Figure size 720x504 with 1 Axes>"
      ]
     },
     "metadata": {
      "needs_background": "light"
     },
     "output_type": "display_data"
    }
   ],
   "source": [
    "# график выручки для группы А и В\n",
    "plt.figure(figsize=(10,7))\n",
    "plt.plot(cumulativeRevenueA['date'], cumulativeRevenueA['revenue'], label='A')\n",
    "plt.plot(cumulativeRevenueB['date'], cumulativeRevenueB['revenue'], label='B')\n",
    "plt.legend();"
   ]
  },
  {
   "cell_type": "markdown",
   "metadata": {},
   "source": [
    "У обеих групп выручка плавно растет в течение исследуемого периода. При этом, у группы В есть одна точка значительного и резкого роста 18 августа. У группы А такого резкого роста нет и в целом графики выручки двух групп практически не пересекаются, кроме начального периода и середины августа (13 числа). Все остальное время график выручки группы В обходит группу А. "
   ]
  },
  {
   "cell_type": "markdown",
   "metadata": {},
   "source": [
    "#### Кумулятивный средний чек"
   ]
  },
  {
   "cell_type": "code",
   "execution_count": 30,
   "metadata": {},
   "outputs": [
    {
     "data": {
      "image/png": "[encoded data removed]",
      "text/plain": [
       "<Figure size 720x504 with 1 Axes>"
      ]
     },
     "metadata": {
      "needs_background": "light"
     },
     "output_type": "display_data"
    }
   ],
   "source": [
    "# график среднего чека для обеих групп\n",
    "plt.figure(figsize=(10,7))\n",
    "plt.plot(cumulativeRevenueA['date'], cumulativeRevenueA['revenue'] / cumulativeRevenueA['orders'], label='A')\n",
    "plt.plot(cumulativeRevenueB['date'], cumulativeRevenueB['revenue'] / cumulativeRevenueB['orders'], label='B')\n",
    "plt.legend();"
   ]
  },
  {
   "cell_type": "markdown",
   "metadata": {},
   "source": [
    "Средний чек имеет более неоднородную динамику у каждой группы в своей мере, однако можно заметить, что ближе к концу исследуемого периода у обеих групп графики количество и амплитуда скачков снижается и они относительно выравниваются. \n",
    "Как и по выручке, группа В значительно опережает группу А по среднему чеку. При этом тот самый пик 18 августа здесь виден еще лучше: средний чек вырос с 7 до 10 тысяч за один день, однако дальше не опускался так резко, что существенно снижает вероятность того, что это был временный взрывной рост числа заказов или случайное совпадение с несколькими дорогими заказами в эту дату. "
   ]
  },
  {
   "cell_type": "markdown",
   "metadata": {},
   "source": [
    "#### Относительное изменение кумулятивного среднего чека группы B к группе A"
   ]
  },
  {
   "cell_type": "code",
   "execution_count": 31,
   "metadata": {},
   "outputs": [],
   "source": [
    "# объединим таблицы по обеим группам в одну\n",
    "mergedCumulativeRevenue = cumulativeRevenueA.merge(cumulativeRevenueB, on='date', how='left', suffixes=['A', 'B'])"
   ]
  },
  {
   "cell_type": "code",
   "execution_count": 32,
   "metadata": {},
   "outputs": [
    {
     "data": {
      "image/png": "[encoded data removed]",
      "text/plain": [
       "<Figure size 720x504 with 1 Axes>"
      ]
     },
     "metadata": {
      "needs_background": "light"
     },
     "output_type": "display_data"
    }
   ],
   "source": [
    "# построим график отношения среднего чека группы В к группе А\n",
    "plt.figure(figsize=(10,7))\n",
    "plt.plot(\n",
    "    mergedCumulativeRevenue['date'], \n",
    "    (mergedCumulativeRevenue['revenueB'] / mergedCumulativeRevenue['ordersB']) \n",
    "    / (mergedCumulativeRevenue['revenueA'] / mergedCumulativeRevenue['ordersA']) - 1)\n",
    "plt.axhline(y=0, color='black', linestyle='--');"
   ]
  },
  {
   "cell_type": "markdown",
   "metadata": {},
   "source": [
    "На графике снова видно несколько пиков и резких падений, однако также повторяется и пик группы В 18 августа и общее превосходство группы В по среднему чеку. Группа А опережала группу В по среднему чеку только в начале месяца и несколько дней в середине."
   ]
  },
  {
   "cell_type": "markdown",
   "metadata": {},
   "source": [
    "#### Кумулятивная конверсия"
   ]
  },
  {
   "cell_type": "code",
   "execution_count": 33,
   "metadata": {},
   "outputs": [],
   "source": [
    "# считаем конверсию для обеих групп\n",
    "cumulativeData['conversion'] = cumulativeData['orders'] / cumulativeData['visitors']\n",
    "\n",
    "# сохраняем данные по группе А и В\n",
    "cumulativeDataA = cumulativeData[cumulativeData['group']=='A']\n",
    "cumulativeDataB = cumulativeData[cumulativeData['group']=='B']"
   ]
  },
  {
   "cell_type": "code",
   "execution_count": 34,
   "metadata": {},
   "outputs": [
    {
     "data": {
      "image/png": "[encoded data removed]",
      "text/plain": [
       "<Figure size 720x504 with 1 Axes>"
      ]
     },
     "metadata": {
      "needs_background": "light"
     },
     "output_type": "display_data"
    }
   ],
   "source": [
    "# строим графики\n",
    "plt.figure(figsize=(10,7))\n",
    "plt.plot(cumulativeDataA['date'], cumulativeDataA['conversion'], label='A')\n",
    "plt.plot(cumulativeDataB['date'], cumulativeDataB['conversion'], label='B')\n",
    "plt.legend()\n",
    "plt.axis([\"2019-08-01\", '2019-08-31', 0, 0.05]);"
   ]
  },
  {
   "cell_type": "markdown",
   "metadata": {},
   "source": [
    "В целом обе группы стартовали приблизительно одинаково, однако если группа А началось с более высокого показателя, а к концу периода конверсия снизилась и выровнилась, то у группы В наоборот, после первого пика и падения последовал плавный рост и дальнейшая стабилизация. Показатели обеих групп выровнялись после 10-х чисел августа и до конца периода уже не менялись существенно."
   ]
  },
  {
   "cell_type": "markdown",
   "metadata": {},
   "source": [
    "#### Относительное изменение кумулятивной конверсии группы B к группе A"
   ]
  },
  {
   "cell_type": "code",
   "execution_count": 35,
   "metadata": {},
   "outputs": [],
   "source": [
    "# объединяем столбцы с датой и конверсией таблицы с конверсиями по группам в один датафрейм\n",
    "mergedCumulativeConversions = cumulativeDataA[['date','conversion']].merge(\n",
    "    cumulativeDataB[['date','conversion']], \n",
    "    on='date', how='left', \n",
    "    suffixes=['A', 'B'])"
   ]
  },
  {
   "cell_type": "code",
   "execution_count": 36,
   "metadata": {},
   "outputs": [
    {
     "data": {
      "image/png": "[encoded data removed]",
      "text/plain": [
       "<Figure size 720x504 with 1 Axes>"
      ]
     },
     "metadata": {
      "needs_background": "light"
     },
     "output_type": "display_data"
    }
   ],
   "source": [
    "# строим график относительного изменения конверсии\n",
    "plt.figure(figsize=(10,7))\n",
    "plt.axhline(y=0, color='black', linestyle='--')\n",
    "plt.axhline(y=0.10, color='grey', linestyle='--')\n",
    "plt.plot(mergedCumulativeConversions['date'], \n",
    "         mergedCumulativeConversions['conversionB'] / mergedCumulativeConversions['conversionA'] - 1, \n",
    "         label=\"Относительное измнение кумулятивной конверсии группы B к группе A\")\n",
    "plt.legend()\n",
    "plt.axis(['2019-08-01', '2019-08-31', -0.25, 0.25]);"
   ]
  },
  {
   "cell_type": "markdown",
   "metadata": {},
   "source": [
    "По графику видно, что конверсия группы В краткосрочно вырвалась вперед в самом начале месяца, а затем резко упала, но сразу же начала расти и через пару дней стала превосходить конверсию группы А, больше не опускалась ниже 10% прироста к показателям группы А. Согласно графику подтвердить стабильность отношения конверсии сложно, так как до конца периода наблюдаются волны и скачки в обоих направлениях. При этом необходимо отметить, что в последние дни августа конверсия вновь стала расти."
   ]
  },
  {
   "cell_type": "markdown",
   "metadata": {},
   "source": [
    "### Анализ выбросов. Точечные диаграммы и перцентили"
   ]
  },
  {
   "cell_type": "markdown",
   "metadata": {},
   "source": [
    "#### Точечный график и перцентили количества заказов по пользователям"
   ]
  },
  {
   "cell_type": "code",
   "execution_count": 37,
   "metadata": {},
   "outputs": [
    {
     "data": {
      "text/html": [
       "<div>\n",
       "<style scoped>\n",
       "    .dataframe tbody tr th:only-of-type {\n",
       "        vertical-align: middle;\n",
       "    }\n",
       "\n",
       "    .dataframe tbody tr th {\n",
       "        vertical-align: top;\n",
       "    }\n",
       "\n",
       "    .dataframe thead th {\n",
       "        text-align: right;\n",
       "    }\n",
       "</style>\n",
       "<table border=\"1\" class=\"dataframe\">\n",
       "  <thead>\n",
       "    <tr style=\"text-align: right;\">\n",
       "      <th></th>\n",
       "      <th>visitorId</th>\n",
       "      <th>orders</th>\n",
       "    </tr>\n",
       "  </thead>\n",
       "  <tbody>\n",
       "    <tr>\n",
       "      <td>1023</td>\n",
       "      <td>4256040402</td>\n",
       "      <td>11</td>\n",
       "    </tr>\n",
       "    <tr>\n",
       "      <td>591</td>\n",
       "      <td>2458001652</td>\n",
       "      <td>11</td>\n",
       "    </tr>\n",
       "    <tr>\n",
       "      <td>569</td>\n",
       "      <td>2378935119</td>\n",
       "      <td>9</td>\n",
       "    </tr>\n",
       "    <tr>\n",
       "      <td>487</td>\n",
       "      <td>2038680547</td>\n",
       "      <td>8</td>\n",
       "    </tr>\n",
       "    <tr>\n",
       "      <td>44</td>\n",
       "      <td>199603092</td>\n",
       "      <td>5</td>\n",
       "    </tr>\n",
       "  </tbody>\n",
       "</table>\n",
       "</div>"
      ],
      "text/plain": [
       "       visitorId  orders\n",
       "1023  4256040402      11\n",
       "591   2458001652      11\n",
       "569   2378935119       9\n",
       "487   2038680547       8\n",
       "44     199603092       5"
      ]
     },
     "execution_count": 37,
     "metadata": {},
     "output_type": "execute_result"
    }
   ],
   "source": [
    "# сгруппируем юзеров по количеству заказов\n",
    "\n",
    "ordersByUsers = (\n",
    "    orders.drop(['group', 'revenue', 'date'], axis=1)\n",
    "    .groupby('visitorId', as_index=False)\n",
    "    .agg({'transactionId': pd.Series.nunique}))\n",
    "\n",
    "ordersByUsers.columns = ['visitorId', 'orders']\n",
    "\n",
    "ordersByUsers.sort_values('orders', ascending=False).head(5)"
   ]
  },
  {
   "cell_type": "code",
   "execution_count": 38,
   "metadata": {},
   "outputs": [
    {
     "data": {
      "text/html": [
       "<div>\n",
       "<style scoped>\n",
       "    .dataframe tbody tr th:only-of-type {\n",
       "        vertical-align: middle;\n",
       "    }\n",
       "\n",
       "    .dataframe tbody tr th {\n",
       "        vertical-align: top;\n",
       "    }\n",
       "\n",
       "    .dataframe thead th {\n",
       "        text-align: right;\n",
       "    }\n",
       "</style>\n",
       "<table border=\"1\" class=\"dataframe\">\n",
       "  <thead>\n",
       "    <tr style=\"text-align: right;\">\n",
       "      <th></th>\n",
       "      <th>visitorId</th>\n",
       "      <th>orders</th>\n",
       "    </tr>\n",
       "  </thead>\n",
       "  <tbody>\n",
       "    <tr>\n",
       "      <td>908</td>\n",
       "      <td>3967698036</td>\n",
       "      <td>3</td>\n",
       "    </tr>\n",
       "    <tr>\n",
       "      <td>55</td>\n",
       "      <td>249864742</td>\n",
       "      <td>3</td>\n",
       "    </tr>\n",
       "    <tr>\n",
       "      <td>478</td>\n",
       "      <td>2108163459</td>\n",
       "      <td>3</td>\n",
       "    </tr>\n",
       "    <tr>\n",
       "      <td>687</td>\n",
       "      <td>2988190573</td>\n",
       "      <td>3</td>\n",
       "    </tr>\n",
       "    <tr>\n",
       "      <td>890</td>\n",
       "      <td>3908431265</td>\n",
       "      <td>3</td>\n",
       "    </tr>\n",
       "  </tbody>\n",
       "</table>\n",
       "</div>"
      ],
      "text/plain": [
       "      visitorId  orders\n",
       "908  3967698036       3\n",
       "55    249864742       3\n",
       "478  2108163459       3\n",
       "687  2988190573       3\n",
       "890  3908431265       3"
      ]
     },
     "execution_count": 38,
     "metadata": {},
     "output_type": "execute_result"
    }
   ],
   "source": [
    "# аналогичная группировка только без учета пользователей, которые попали в обе выборки\n",
    "\n",
    "cleanOrdersByUsers = (\n",
    "    cleanOrders.drop(['group', 'revenue', 'date'], axis=1)\n",
    "    .groupby('visitorId', as_index=False)\n",
    "    .agg({'transactionId': pd.Series.nunique}))\n",
    "\n",
    "cleanOrdersByUsers.columns = ['visitorId', 'orders']\n",
    "\n",
    "cleanOrdersByUsers.sort_values('orders', ascending=False).head(5)"
   ]
  },
  {
   "cell_type": "code",
   "execution_count": 39,
   "metadata": {},
   "outputs": [
    {
     "data": {
      "image/png": "[encoded data removed]",
      "text/plain": [
       "<Figure size 432x288 with 1 Axes>"
      ]
     },
     "metadata": {
      "needs_background": "light"
     },
     "output_type": "display_data"
    }
   ],
   "source": [
    "# диаграмма по количеству заказов на юзера\n",
    "\n",
    "x_values = pd.Series(range(0, len(ordersByUsers)))\n",
    "plt.scatter(x_values, ordersByUsers['orders']);"
   ]
  },
  {
   "cell_type": "code",
   "execution_count": 40,
   "metadata": {},
   "outputs": [
    {
     "data": {
      "image/png": "[encoded data removed]",
      "text/plain": [
       "<Figure size 432x288 with 1 Axes>"
      ]
     },
     "metadata": {
      "needs_background": "light"
     },
     "output_type": "display_data"
    }
   ],
   "source": [
    "# диаграмма по количеству заказов на юзера\n",
    "\n",
    "x_values = pd.Series(range(0, len(cleanOrdersByUsers)))\n",
    "plt.scatter(x_values, cleanOrdersByUsers['orders']);"
   ]
  },
  {
   "cell_type": "markdown",
   "metadata": {},
   "source": [
    "У большинства пользователей всего один заказ за период, однако достаточно много пользователей с 2-3 заказами в месяц, а также есть пользователи с 4 заказами и более. У двоих пользователей по 11 заказов, что является максимальным количеством за исследуемый период.\n",
    "\n",
    "При этом в чистых данных, где были удалены 58 юзеров, которые попали в обе группы, совсем другие данные и пользователей, сделавших более 3 заказов нет вовсе. "
   ]
  },
  {
   "cell_type": "code",
   "execution_count": 41,
   "metadata": {},
   "outputs": [
    {
     "name": "stdout",
     "output_type": "stream",
     "text": [
      "[2. 4.]\n"
     ]
    }
   ],
   "source": [
    "# посчитаем 95 и 99 перцентили количества заказов\n",
    "print(np.percentile(ordersByUsers['orders'], [95, 99]))"
   ]
  },
  {
   "cell_type": "code",
   "execution_count": 42,
   "metadata": {},
   "outputs": [
    {
     "name": "stdout",
     "output_type": "stream",
     "text": [
      "[1. 2.]\n"
     ]
    }
   ],
   "source": [
    "# посчитаем 95 и 99 перцентили количества заказов без пользователей в двух выборках\n",
    "print(np.percentile(cleanOrdersByUsers['orders'], [95, 99]))"
   ]
  },
  {
   "cell_type": "markdown",
   "metadata": {},
   "source": [
    "95 и 99 перцентитель равен 2 и 4. Следовательно 95% пользователей оформляло не более 2 заказов, и только 1% пользователей заказали за исследуемый период 4 раза и более. Таким образом, аномальными в данном случае, логично считать пользователей совершивших от 3 заказов в месяц, то есть, отсечь 5% пользователей от общего числа.\n",
    "\n",
    "Перцентили в данных без \"двойных\" пользователей в два раза ниже, 1 и 2 для 95 и 99, соответственно."
   ]
  },
  {
   "cell_type": "markdown",
   "metadata": {},
   "source": [
    "#### Точечный график и перцентили стоимостей заказов"
   ]
  },
  {
   "cell_type": "code",
   "execution_count": 43,
   "metadata": {},
   "outputs": [
    {
     "data": {
      "image/png": "[encoded data removed]",
      "text/plain": [
       "<Figure size 432x288 with 1 Axes>"
      ]
     },
     "metadata": {
      "needs_background": "light"
     },
     "output_type": "display_data"
    }
   ],
   "source": [
    "# визуализируем стоимость заказов на пользователя на диаграмме рассеяния\n",
    "\n",
    "x_values = pd.Series(range(0, len(orders['revenue'])))\n",
    "plt.scatter(x_values, orders['revenue']);"
   ]
  },
  {
   "cell_type": "code",
   "execution_count": 44,
   "metadata": {},
   "outputs": [
    {
     "name": "stdout",
     "output_type": "stream",
     "text": [
      "1294500 рублей стоимость самого дорого заказа\n",
      "50 рублей стоимость самого недорого заказа\n",
      "2978.0 рублей медианная стоимость заказа\n"
     ]
    }
   ],
   "source": [
    "print(orders['revenue'].max(), 'рублей стоимость самого дорого заказа' )\n",
    "print(orders['revenue'].min(), 'рублей стоимость самого недорого заказа')\n",
    "print(orders['revenue'].median(), 'рублей медианная стоимость заказа')"
   ]
  },
  {
   "cell_type": "markdown",
   "metadata": {},
   "source": [
    "По графику выше видно, что аномально дорогих заказов всего несколько, однако разница между минимальной и максимальной стоимостью заказа составляет более 25 тысяч раз: самый недорогой заказ стоит 50 (рублей или у.е., допустим, что рублей), самый дорогой — почти 1.3 млн рублей. \n",
    "При этом медиана стоимости одного заказа составляет 3 тысячи рублей, что более чем в 400 раз отличается от максимального, и в 60 раз от минимального заказа. Соответственно в данном случае, аномальными являются скорее крайне высокие значения, нежели крайне низкие."
   ]
  },
  {
   "cell_type": "code",
   "execution_count": 45,
   "metadata": {},
   "outputs": [
    {
     "name": "stdout",
     "output_type": "stream",
     "text": [
      "[28000.  58233.2]\n"
     ]
    }
   ],
   "source": [
    "# посчитаем 95 и 99 перцентили стоимости заказов\n",
    "print(np.percentile(orders['revenue'], [95, 99]))"
   ]
  },
  {
   "cell_type": "markdown",
   "metadata": {},
   "source": [
    "Так, не более 1% заказов имеют стоимость больше 58 тысяч, и не более 5% — дороже 28 тысяч рублей. Аналогично количеству заказов, можно отсечь 5% крайних значений от общей базы, то есть заказы дороже 28 тысяч рублей, чтобы они не влияли на результаты исследования."
   ]
  },
  {
   "cell_type": "markdown",
   "metadata": {},
   "source": [
    "### Статистическая значимость различий между группами"
   ]
  },
  {
   "cell_type": "code",
   "execution_count": 46,
   "metadata": {},
   "outputs": [],
   "source": [
    "# создадим таблицы по посетителям (в т.ч. накопительные до конкретной даты) для каждой группы \n",
    "visitorsADaily = visitors[visitors['group'] == 'A'][['date', 'visitors']]\n",
    "visitorsADaily.columns = ['date', 'visitorsPerDateA']\n",
    "\n",
    "visitorsACummulative = visitorsADaily.apply(\n",
    "    lambda x: visitorsADaily[visitorsADaily['date'] <= x['date']].agg(\n",
    "        {'date': 'max', 'visitorsPerDateA': 'sum'}), axis=1)\n",
    "visitorsACummulative.columns = ['date', 'visitorsCummulativeA']\n",
    "\n",
    "visitorsBDaily = visitors[visitors['group'] == 'B'][['date', 'visitors']]\n",
    "visitorsBDaily.columns = ['date', 'visitorsPerDateB']\n",
    "\n",
    "visitorsBCummulative = visitorsBDaily.apply(\n",
    "    lambda x: visitorsBDaily[visitorsBDaily['date'] <= x['date']].agg(\n",
    "        {'date': 'max', 'visitorsPerDateB': 'sum'}), axis=1)\n",
    "visitorsBCummulative.columns = ['date', 'visitorsCummulativeB']"
   ]
  },
  {
   "cell_type": "code",
   "execution_count": 47,
   "metadata": {},
   "outputs": [],
   "source": [
    "# создадим таблицы по числу заказов (в т.ч. накопительные до конкретной даты) для каждой группы \n",
    "\n",
    "ordersADaily = (orders[orders['group'] == 'A'][['date', 'transactionId', 'visitorId', 'revenue']]\n",
    "    .groupby('date', as_index=False)\n",
    "    .agg({'transactionId': pd.Series.nunique, 'revenue': 'sum'}))\n",
    "ordersADaily.columns = ['date', 'ordersPerDateA', 'revenuePerDateA']\n",
    "\n",
    "ordersACummulative = ordersADaily.apply(\n",
    "    lambda x: ordersADaily[ordersADaily['date'] <= x['date']].agg(\n",
    "        {'date': 'max', 'ordersPerDateA': 'sum', 'revenuePerDateA': 'sum'}), axis=1,\n",
    "    ).sort_values(by=['date'])\n",
    "ordersACummulative.columns = ['date', 'ordersCummulativeA', 'revenueCummulativeA']\n",
    "\n",
    "ordersBDaily = (orders[orders['group'] == 'B'][['date', 'transactionId', 'visitorId', 'revenue']]\n",
    "    .groupby('date', as_index=False)\n",
    "    .agg({'transactionId': pd.Series.nunique, 'revenue': 'sum'}))\n",
    "ordersBDaily.columns = ['date', 'ordersPerDateB', 'revenuePerDateB']\n",
    "\n",
    "ordersBCummulative = ordersBDaily.apply(\n",
    "    lambda x: ordersBDaily[ordersBDaily['date'] <= x['date']].agg(\n",
    "        {'date': 'max', 'ordersPerDateB': 'sum', 'revenuePerDateB': 'sum'}), axis=1,\n",
    "    ).sort_values(by=['date'])\n",
    "ordersBCummulative.columns = ['date', 'ordersCummulativeB', 'revenueCummulativeB']"
   ]
  },
  {
   "cell_type": "markdown",
   "metadata": {},
   "source": [
    "#### Статистическая значимость различий в конверсии между группами по «сырым» данным"
   ]
  },
  {
   "cell_type": "code",
   "execution_count": 48,
   "metadata": {},
   "outputs": [],
   "source": [
    "# сгруппируем пользователей по количеству заказов для обеих групп\n",
    "\n",
    "ordersByUsersA = orders[orders['group'] == 'A'].groupby('visitorId', as_index=False).agg({'transactionId': pd.Series.nunique})\n",
    "ordersByUsersA.columns = ['visitorId', 'orders']\n",
    "\n",
    "ordersByUsersB = orders[orders['group'] == 'B'].groupby('visitorId', as_index=False).agg({'transactionId': pd.Series.nunique})\n",
    "ordersByUsersB.columns = ['visitorId', 'orders']"
   ]
  },
  {
   "cell_type": "code",
   "execution_count": 49,
   "metadata": {},
   "outputs": [],
   "source": [
    "# создаем полный список пользователей обеих групп с данными по количеству заказов, включая тех, кто не совершал заказов\n",
    "\n",
    "sampleA = pd.concat([ordersByUsersA['orders'], \n",
    "    pd.Series(0, index=np.arange(visitorsADaily['visitorsPerDateA'].sum() - len(ordersByUsersA['orders'])), name='orders')])\n",
    "\n",
    "sampleB = pd.concat([ordersByUsersB['orders'], \n",
    "    pd.Series(0, index=np.arange(visitorsBDaily['visitorsPerDateB'].sum() - len(ordersByUsersB['orders'])), name='orders')])"
   ]
  },
  {
   "cell_type": "markdown",
   "metadata": {},
   "source": [
    "Предварительно установим нулевую гипотезу о том, что статистически значимых различий в конверсии между группами нет, и альтернативную гипотезу о том, что эти различия все же есть."
   ]
  },
  {
   "cell_type": "code",
   "execution_count": 50,
   "metadata": {},
   "outputs": [
    {
     "name": "stdout",
     "output_type": "stream",
     "text": [
      "P-value — 0.017\n",
      "Относительный прирост конверсии группы В к группе А — 13.81%\n"
     ]
    }
   ],
   "source": [
    "# посчитаем p-value различий в конверсии между группами по сырым данным\n",
    "print('P-value —', \"{0:.3f}\".format(stats.mannwhitneyu(sampleA, sampleB, True, 'two-sided')[1]))\n",
    "# посчитаем относительное различие в конверсиях\n",
    "print('Относительный прирост конверсии группы В к группе А —', '{:.2%}'.format(sampleB.mean() / sampleA.mean() - 1))"
   ]
  },
  {
   "cell_type": "markdown",
   "metadata": {},
   "source": [
    "P-value меньше 0.05, поэтому есть основания отвергнуть нулевую гипотезу о том, что различий в конверсии между группами нет и показатели равны. Это также может говорить о том, что между группами существует статистически значимая разница в конверсии. Конверсия группы В более чем на 13% превышает конверсию группы А."
   ]
  },
  {
   "cell_type": "code",
   "execution_count": 51,
   "metadata": {},
   "outputs": [],
   "source": [
    "# также посчитаем аналогичные показатели для данных без учета \"двойных\" пользователей, попавших в обе выборки\n",
    "\n",
    "cleanOrdersByUsersA = cleanOrders[cleanOrders['group'] == 'A'].groupby(\n",
    "    'visitorId', as_index=False).agg(\n",
    "    {'transactionId': pd.Series.nunique})\n",
    "cleanOrdersByUsersA.columns = ['visitorId', 'orders']\n",
    "\n",
    "cleanOrdersByUsersB = cleanOrders[cleanOrders['group'] == 'B'].groupby(\n",
    "    'visitorId', as_index=False).agg(\n",
    "    {'transactionId': pd.Series.nunique})\n",
    "cleanOrdersByUsersB.columns = ['visitorId', 'orders']\n",
    "\n",
    "cleanSampleA = pd.concat([cleanOrdersByUsersA['orders'], \n",
    "    pd.Series(0, index=np.arange(visitorsADaily['visitorsPerDateA'].sum()-len(cleanOrdersByUsersA['orders'])), name='orders')])\n",
    "\n",
    "cleanSampleB = pd.concat([cleanOrdersByUsersB['orders'], \n",
    "    pd.Series(0, index=np.arange(visitorsBDaily['visitorsPerDateB'].sum()-len(cleanOrdersByUsersB['orders'])), name='orders')])"
   ]
  },
  {
   "cell_type": "code",
   "execution_count": 52,
   "metadata": {},
   "outputs": [
    {
     "name": "stdout",
     "output_type": "stream",
     "text": [
      "P-value — 0.011\n",
      "Относительный прирост конверсии группы В к группе А — 15.98%\n"
     ]
    }
   ],
   "source": [
    "# посчитаем p-value различий в конверсии и относительное различие в конверсиях между группами без \"двойных\" юзеров\n",
    "\n",
    "print('P-value —', \"{0:.3f}\".format(stats.mannwhitneyu(cleanSampleA, cleanSampleB, True, 'two-sided')[1]))\n",
    "print('Относительный прирост конверсии группы В к группе А —', '{:.2%}'.format(cleanSampleB.mean() / cleanSampleA.mean() - 1))"
   ]
  },
  {
   "cell_type": "markdown",
   "metadata": {},
   "source": [
    "Как видно по показателям p-value и относительного прироста конверсии группы В к группе А, существенных различий между данными с пользователями, попавшими в обе группы и исходными данными нет. В обоих случаях p-value меньше 0.05, а относительная разница не отличается более чем на несколько процентов.  "
   ]
  },
  {
   "cell_type": "markdown",
   "metadata": {},
   "source": [
    "#### Статистическая значимость различий в среднем чеке заказа между группами по «сырым» данным"
   ]
  },
  {
   "cell_type": "markdown",
   "metadata": {},
   "source": [
    "Сформулируем нулевую гипотезу о том, что статистически значимых различий в средних чеках у группы А и группы В нет и показатели равны, а также альтернативную гипотезу о том, что эти различия все же есть и средний чек группы А не равен среднему чеку группы В по \"сырым данным\"."
   ]
  },
  {
   "cell_type": "code",
   "execution_count": 53,
   "metadata": {},
   "outputs": [
    {
     "name": "stdout",
     "output_type": "stream",
     "text": [
      "P-value по \"сырым\" данным= 0.729\n",
      "Относительное различие среднего чека группы В к среднему чеку группы А по \"сырым\" данным = 25.87%\n"
     ]
    }
   ],
   "source": [
    "# посчитаем статистическую значимость различий в среднем чеке между группами\n",
    "\n",
    "print('P-value по \"сырым\" данным=','{0:.3f}'.format(stats.mannwhitneyu(\n",
    "    orders[orders['group']=='A']['revenue'], \n",
    "    orders[orders['group']=='B']['revenue'], True, 'two-sided')[1]))\n",
    "print('Относительное различие среднего чека группы В к среднему чеку группы А по \"сырым\" данным =', '{:.2%}'.format(\n",
    "    orders[orders['group']=='B']['revenue'].mean() \n",
    "    / orders[orders['group']=='A']['revenue'].mean() \n",
    "    - 1))"
   ]
  },
  {
   "cell_type": "markdown",
   "metadata": {},
   "source": [
    "Мы видим, что статистически значимых различий в среднем чеке между группами нет, так как значение p-value значительно больше 0.05, поэтому оснований для того, чтобы отвергнуть нулевую гипотезу о равенстве средних чеков, нет. Тем не менее средний чек группы В на четверть больше среднего чека группы А и это как раз может быть связано с большим количеством аномалий, которые мы выявили раньше. "
   ]
  },
  {
   "cell_type": "code",
   "execution_count": 54,
   "metadata": {},
   "outputs": [
    {
     "name": "stdout",
     "output_type": "stream",
     "text": [
      "P-value = 0.829\n",
      "Относительное различие среднего чека группы В к среднему чеку группы А = 28.66%\n"
     ]
    }
   ],
   "source": [
    "# посчитаем тоже самое для данных без \"двойных\" пользователей\n",
    "\n",
    "print('P-value =','{0:.3f}'.format(stats.mannwhitneyu(\n",
    "    cleanOrders[cleanOrders['group']=='A']['revenue'], \n",
    "    cleanOrders[cleanOrders['group']=='B']['revenue'], True, 'two-sided')[1]))\n",
    "print('Относительное различие среднего чека группы В к среднему чеку группы А =', '{:.2%}'.format(\n",
    "    cleanOrders[cleanOrders['group']=='B']['revenue'].mean() \n",
    "    / cleanOrders[cleanOrders['group']=='A']['revenue'].mean() \n",
    "    - 1))"
   ]
  },
  {
   "cell_type": "markdown",
   "metadata": {},
   "source": [
    "Аналогично показателям конверсии по данным с пользователями, попавшими в обе выборки и без них, в данном случае существенной разницы также не найдено. Показатели p-value 0.73 и 0.83 отличается на одну десятую, однако оба явно превышают 0.05, что не дает повода отвергать нулевую гипотезу. \n",
    "Относительное различие среднего чека изменилось также несильно: 25,9% при исходных данных и 28,6% при данных без \"двойных\" пользователей."
   ]
  },
  {
   "cell_type": "markdown",
   "metadata": {},
   "source": [
    "#### Статистическая значимость различий в конверсии между группами по «очищенным» данным"
   ]
  },
  {
   "cell_type": "code",
   "execution_count": 55,
   "metadata": {},
   "outputs": [],
   "source": [
    "# создадим отдельные срезы для  пользователей с большим количеством заказов и дорогими заказами\n",
    "usersWithManyOrders = pd.concat(\n",
    "    [ordersByUsersA[ordersByUsersA['orders'] > 2]['visitorId'],\n",
    "    ordersByUsersB[ordersByUsersB['orders'] > 2]['visitorId']])\n",
    "\n",
    "usersWithExpensiveOrders = orders[orders['revenue'] > 28000]['visitorId']"
   ]
  },
  {
   "cell_type": "code",
   "execution_count": 56,
   "metadata": {},
   "outputs": [
    {
     "data": {
      "text/plain": [
       "18      199603092\n",
       "23      237748145\n",
       "68      611059232\n",
       "146    1230306981\n",
       "189    1614305549\n",
       "Name: visitorId, dtype: int64"
      ]
     },
     "execution_count": 56,
     "metadata": {},
     "output_type": "execute_result"
    }
   ],
   "source": [
    "# объединим два среза для удобства\n",
    "abnormalUsers = pd.concat(\n",
    "    [usersWithManyOrders, usersWithExpensiveOrders]).drop_duplicates()\n",
    "abnormalUsers.head()"
   ]
  },
  {
   "cell_type": "code",
   "execution_count": 57,
   "metadata": {},
   "outputs": [
    {
     "name": "stdout",
     "output_type": "stream",
     "text": [
      "74 аномальных пользователя всего в базе\n"
     ]
    }
   ],
   "source": [
    "print(abnormalUsers.shape[0], 'аномальных пользователя всего в базе')"
   ]
  },
  {
   "cell_type": "code",
   "execution_count": 58,
   "metadata": {},
   "outputs": [
    {
     "data": {
      "text/plain": [
       "A    84\n",
       "B    80\n",
       "Name: group, dtype: int64"
      ]
     },
     "execution_count": 58,
     "metadata": {},
     "output_type": "execute_result"
    }
   ],
   "source": [
    "# для интереса посмотрим на распределение заказов по группам в списке с аномальными данными abnormalUsers\n",
    "orders.query('visitorId in @abnormalUsers')['group'].value_counts()"
   ]
  },
  {
   "cell_type": "code",
   "execution_count": 59,
   "metadata": {},
   "outputs": [],
   "source": [
    "# подготовим срезы с очищенными даными по обеим выборкам для статтеста\n",
    "\n",
    "sampleAFiltered = pd.concat(\n",
    "    [ordersByUsersA[np.logical_not(\n",
    "        ordersByUsersA['visitorId'].isin(abnormalUsers))]['orders'],\n",
    "    pd.Series(0, index=np.arange(visitorsADaily['visitorsPerDateA'].sum() - len(ordersByUsersA['orders'])), \n",
    "        name='orders')])\n",
    "\n",
    "sampleBFiltered = pd.concat(\n",
    "    [ordersByUsersB[np.logical_not(\n",
    "        ordersByUsersB['visitorId'].isin(abnormalUsers))]['orders'],\n",
    "    pd.Series(0, index=np.arange(visitorsBDaily['visitorsPerDateB'].sum() - len(ordersByUsersB['orders'])),\n",
    "        name='orders')])"
   ]
  },
  {
   "cell_type": "markdown",
   "metadata": {},
   "source": [
    "В рамках нулевой гипотезы предположим, что различий в статистически значимых различий в конверсии между группами А и В нет. \n",
    "\n",
    "Альтернативная гипотеза будет звучать так: статистически значимых различий в конверсии между группами А и В есть и показатели конверсии не равны."
   ]
  },
  {
   "cell_type": "code",
   "execution_count": 60,
   "metadata": {},
   "outputs": [
    {
     "name": "stdout",
     "output_type": "stream",
     "text": [
      "P-value по \"очищенным\" данным = 0.013\n",
      "P-value по \"сырым\" данным = 0.017\n",
      "=======\n",
      "Относительный прирост конверсии группы В к группе А по \"очищенным\" данным = 17.27%\n",
      "Относительный прирост конверсии группы В к группе А по \"сырым\" данным = 13.81%\n"
     ]
    }
   ],
   "source": [
    "# посчитаем статистическую значимость различия конверсий и относительное различие в очищенных данных;\n",
    "# для наглядности вспомним аналогичные показатели по \"сырым\" данным \n",
    "print('P-value по \"очищенным\" данным =' , '{0:.3f}'.format(\n",
    "    stats.mannwhitneyu(sampleAFiltered, sampleBFiltered, True, 'two-sided')[1]))\n",
    "print('P-value по \"сырым\" данным =', \"{0:.3f}\".format(stats.mannwhitneyu(sampleA, sampleB, True, 'two-sided')[1]))\n",
    "\n",
    "print('=======')\n",
    "\n",
    "print('Относительный прирост конверсии группы В к группе А по \"очищенным\" данным =', '{0:.2%}'.format(\n",
    "    sampleBFiltered.mean() / sampleAFiltered.mean() - 1))\n",
    "print('Относительный прирост конверсии группы В к группе А по \"сырым\" данным =', '{:.2%}'.format(\n",
    "    sampleB.mean() / sampleA.mean() - 1))"
   ]
  },
  {
   "cell_type": "markdown",
   "metadata": {},
   "source": [
    "Существенных различий в конверсии между группами при \"сырых\" и \"очищенных\" данных нет. В обоих случаях, показатели p-value были ниже 0.05, что дает нам повод отвергнуть нулевую гипотезу и считать, что статистическая значимость различий имеет место. \n",
    "Вместе с этим показатели p-value и относительного изменения при \"сырых\" и \"очищенных\" данных менялись незначительно. \n",
    "Группа пользователей В при любых данных показывает лучшие результаты в конверсии. "
   ]
  },
  {
   "cell_type": "markdown",
   "metadata": {},
   "source": [
    "#### Статистическая значимость различий в среднем чеке заказа между группами по «очищенным» данным"
   ]
  },
  {
   "cell_type": "code",
   "execution_count": 61,
   "metadata": {},
   "outputs": [],
   "source": [
    "# сохраним очищенные данные по выручке по каждой группе в отдельном срезе для статтеста\n",
    "filtRevenueByUsersA = orders[np.logical_and(\n",
    "    orders['group'] == 'A', \n",
    "    np.logical_not(orders['visitorId'].isin(abnormalUsers)))]['revenue']\n",
    "\n",
    "filtRevenueByUsersB = orders[np.logical_and(\n",
    "    orders['group'] == 'B', \n",
    "    np.logical_not(orders['visitorId'].isin(abnormalUsers)))]['revenue']"
   ]
  },
  {
   "cell_type": "markdown",
   "metadata": {},
   "source": [
    "Нулевая гипотеза в данном случае будет звучать так: средний чек заказа в группе А равен среднему чеку заказа в группе В. Альтернативная гипотеза же предполагает, что средний чек заказа в группе А не равен среднему чеку заказа в группе В при \"очищенных\" данных."
   ]
  },
  {
   "cell_type": "code",
   "execution_count": 62,
   "metadata": {},
   "outputs": [
    {
     "name": "stdout",
     "output_type": "stream",
     "text": [
      "P-value по \"очищенным\" данным = 0.738\n",
      "P-value по \"сырым\" данным= 0.729\n",
      "=======\n",
      "Относительное различие среднего чека группы В к среднему чеку группы А по \"очищенным данным\" = -1.96%\n",
      "Относительное различие среднего чека группы В к среднему чеку группы А по \"сырым\" данным = 25.87%\n"
     ]
    }
   ],
   "source": [
    "# посчитаем статистическую значимость различия конверсий и относительное различие в очищенных данных;\n",
    "# также для наглядности вспомним аналогичные показатели по \"сырым\" данным \n",
    "print('P-value по \"очищенным\" данным =', '{:.3f}'.format(stats.mannwhitneyu(\n",
    "        filtRevenueByUsersA, filtRevenueByUsersB, True, 'two-sided')[1]))\n",
    "print('P-value по \"сырым\" данным=','{0:.3f}'.format(stats.mannwhitneyu(\n",
    "    orders[orders['group']=='A']['revenue'], \n",
    "    orders[orders['group']=='B']['revenue'], True, 'two-sided')[1]))\n",
    "\n",
    "print('=======')\n",
    "\n",
    "print('Относительное различие среднего чека группы В к среднему чеку группы А по \"очищенным данным\" =', \n",
    "      '{:.2%}'.format(filtRevenueByUsersB.mean() / filtRevenueByUsersA.mean() - 1))\n",
    "print('Относительное различие среднего чека группы В к среднему чеку группы А по \"сырым\" данным =', '{:.2%}'.format(\n",
    "    orders[orders['group']=='B']['revenue'].mean() \n",
    "    / orders[orders['group']=='A']['revenue'].mean() \n",
    "    - 1))"
   ]
  },
  {
   "cell_type": "markdown",
   "metadata": {},
   "source": [
    "После удаления аномальных данных статистически значимого различия в среднем чеке между группами все еще нет (p-value практически не изменился и сильно больше 0.05), однако относительное различие между группой В и группой А сократилось более чем на 25%. Более того по \"очищенным\" данным средний чек группы А почти на 2% больше. Это говорит о том, что большая часть аномально дорогих заказов была у пользователей группы В и поэтому после очистки результаты стали более точными. "
   ]
  },
  {
   "cell_type": "markdown",
   "metadata": {},
   "source": [
    "## Выводы"
   ]
  },
  {
   "cell_type": "markdown",
   "metadata": {},
   "source": [
    "По итогам исследования можно сделать несколько основных выводов:\n",
    "\n",
    "1. Статистически значимое различие в конверсиях между группами существует. Группа В показатели лучшие показатели конверсии и по \"сырым\", и по \"очищенным\" данным. Относительное различие в конверсии 13-17% в пользу группы В в зависимости от того, очищены данные или нет. При этом влияние пользователей, попавших в обе выборки, практически отсутствует, в отличие от чистых точечных показателей количества и стоимости заказа, где разница между данными почти двукратна.\n",
    "\n",
    "2. Значимого различия в размере среднего чека между группами обнаружить не удалось. Показатели p-value значительно больше уровня значимости 0.05 и поводов опровергать нулевую гипотезу о равенстве показателей нет. Тем не менее, в случае сравнения относительных различий среднего чека между группами по \"сырым\" и \"очищенным\" данным, разница очень существенна. В исходных данных, группа В превосходит группу А по среднему чеку почти на 26%, однако после удаления дорогих заказов стоимостью свыше 28 тысяч рублей и пользователей, совершивших больше 2 двух заказов, относительно различие изменилось в противоложную сторону и теперь средний чек группы А почти на 2% выше среднего чека группы В.   \n",
    "\n",
    "3. Графики различий кумулятивного среднего чека и конверсии показывают, что при \"сырых\" данных группа В практически всегда превосходит группа А в обоих показателях. К концу исследуемого периода (конец августа 2019 года), группа В превосходит группу по всем показателям. Несмотря на то, что группа В теряет свое преимущество в среднем чеке после очистки данных, в конверсии между группами имеет место статистически значимое различие и относительный прирост в конверсии около 14%, а также дополнительные показатели позволяют говорить о том, что в целом группа В успешнее группы А. Кумулятивные графики также также показали, что к концу исследуемого периода, данные стабилизировались и вряд ли будут в дальнейшем сильно меняться, поэтому продолжать тест нецелесообразно. \n",
    "\n",
    "4. Важно отметить также, что данные выборки распределены неравномерно и пользователей больше в группе В. Количество заказавших пользователей 586 против 503, а количество посетителей 18916 и 18736 в группе В, и группе А соответственно.  Это значит, что группы поделены неравно, а значит результаты при разных долях будут искажены. \n",
    "\n",
    "5. Таким образом, группа В показывает лучшие показатели конверсии и немного уступает в относительном различии среднего чека после очистки данных (однако статтест не показал значимых различий в этом показателе), однако, если учитывать большее количество пользователей в группе В и количество заказывающих пользователей, то группы в целом не сильно различаются. Тем не менее,  некоторое преимущество у группы В все же имеется."
   ]
  }
 ],
 "metadata": {
  "ExecuteTimeLog": [
   {
    "duration": 117,
    "start_time": "2021-07-27T16:10:25.234Z"
   },
   {
    "duration": 123,
    "start_time": "2021-07-27T16:10:39.166Z"
   },
   {
    "duration": 1446,
    "start_time": "2021-07-27T16:11:02.293Z"
   },
   {
    "duration": 2852,
    "start_time": "2021-07-27T16:11:49.694Z"
   },
   {
    "duration": 304,
    "start_time": "2021-07-27T16:12:05.862Z"
   },
   {
    "duration": 174,
    "start_time": "2021-07-27T16:13:09.926Z"
   },
   {
    "duration": 56,
    "start_time": "2021-07-27T16:13:19.624Z"
   },
   {
    "duration": 43,
    "start_time": "2021-07-27T16:13:21.509Z"
   },
   {
    "duration": 32,
    "start_time": "2021-07-27T16:13:23.622Z"
   },
   {
    "duration": 46,
    "start_time": "2021-07-27T16:14:21.101Z"
   },
   {
    "duration": 16,
    "start_time": "2021-07-27T16:14:54.885Z"
   },
   {
    "duration": 386,
    "start_time": "2021-07-27T18:05:19.180Z"
   },
   {
    "duration": 420,
    "start_time": "2021-07-27T18:05:24.156Z"
   },
   {
    "duration": 431,
    "start_time": "2021-07-27T18:05:28.771Z"
   },
   {
    "duration": 44,
    "start_time": "2021-07-27T18:05:34.339Z"
   },
   {
    "duration": 48,
    "start_time": "2021-07-27T18:05:36.770Z"
   },
   {
    "duration": 44,
    "start_time": "2021-07-27T18:05:43.611Z"
   },
   {
    "duration": 12,
    "start_time": "2021-07-27T18:10:17.658Z"
   },
   {
    "duration": 10,
    "start_time": "2021-07-27T18:12:12.915Z"
   },
   {
    "duration": 4,
    "start_time": "2021-07-27T18:29:35.433Z"
   },
   {
    "duration": 8,
    "start_time": "2021-07-27T18:30:03.319Z"
   },
   {
    "duration": 12,
    "start_time": "2021-07-27T18:31:18.414Z"
   },
   {
    "duration": 111,
    "start_time": "2021-07-27T18:31:23.910Z"
   },
   {
    "duration": 400,
    "start_time": "2021-07-27T18:31:28.750Z"
   },
   {
    "duration": 14,
    "start_time": "2021-07-27T18:31:34.008Z"
   },
   {
    "duration": 15,
    "start_time": "2021-07-27T18:32:00.310Z"
   },
   {
    "duration": 20,
    "start_time": "2021-07-27T18:32:02.183Z"
   },
   {
    "duration": 17,
    "start_time": "2021-07-27T18:32:16.982Z"
   },
   {
    "duration": 362,
    "start_time": "2021-07-27T18:33:21.551Z"
   },
   {
    "duration": 14,
    "start_time": "2021-07-27T18:33:28.255Z"
   },
   {
    "duration": 347,
    "start_time": "2021-07-27T18:34:19.470Z"
   },
   {
    "duration": 384,
    "start_time": "2021-07-27T18:34:29.487Z"
   },
   {
    "duration": 16,
    "start_time": "2021-07-27T18:34:34.534Z"
   },
   {
    "duration": 16,
    "start_time": "2021-07-27T18:34:39.687Z"
   },
   {
    "duration": 13,
    "start_time": "2021-07-27T18:40:56.646Z"
   },
   {
    "duration": 14,
    "start_time": "2021-07-27T18:43:06.468Z"
   },
   {
    "duration": 1046,
    "start_time": "2021-07-28T11:32:26.480Z"
   },
   {
    "duration": 222,
    "start_time": "2021-07-28T11:32:27.528Z"
   },
   {
    "duration": 14,
    "start_time": "2021-07-28T11:32:27.752Z"
   },
   {
    "duration": 25,
    "start_time": "2021-07-28T11:32:27.768Z"
   },
   {
    "duration": 18,
    "start_time": "2021-07-28T11:32:27.795Z"
   },
   {
    "duration": 6,
    "start_time": "2021-07-28T11:32:27.814Z"
   },
   {
    "duration": 14,
    "start_time": "2021-07-28T11:32:27.821Z"
   },
   {
    "duration": 11,
    "start_time": "2021-07-28T11:32:27.836Z"
   },
   {
    "duration": 11,
    "start_time": "2021-07-28T11:32:27.849Z"
   },
   {
    "duration": 12,
    "start_time": "2021-07-28T15:41:22.703Z"
   },
   {
    "duration": 9,
    "start_time": "2021-07-28T15:41:26.899Z"
   },
   {
    "duration": 8,
    "start_time": "2021-07-28T15:41:33.892Z"
   },
   {
    "duration": 8,
    "start_time": "2021-07-28T15:41:37.204Z"
   },
   {
    "duration": 6,
    "start_time": "2021-07-28T15:43:45.637Z"
   },
   {
    "duration": 348,
    "start_time": "2021-07-28T15:45:03.909Z"
   },
   {
    "duration": 6,
    "start_time": "2021-07-28T15:45:07.527Z"
   },
   {
    "duration": 188,
    "start_time": "2021-07-28T15:45:08.931Z"
   },
   {
    "duration": 11,
    "start_time": "2021-07-28T15:45:13.501Z"
   },
   {
    "duration": 8,
    "start_time": "2021-07-28T15:45:58.427Z"
   },
   {
    "duration": 11,
    "start_time": "2021-07-28T15:46:12.483Z"
   },
   {
    "duration": 11,
    "start_time": "2021-07-28T15:46:17.347Z"
   },
   {
    "duration": 9,
    "start_time": "2021-07-28T15:47:29.933Z"
   },
   {
    "duration": 9,
    "start_time": "2021-07-28T15:47:54.274Z"
   },
   {
    "duration": 244,
    "start_time": "2021-07-28T15:48:10.642Z"
   },
   {
    "duration": 6,
    "start_time": "2021-07-28T15:48:17.754Z"
   },
   {
    "duration": 133,
    "start_time": "2021-07-28T15:51:10.300Z"
   },
   {
    "duration": 9,
    "start_time": "2021-07-28T15:51:16.866Z"
   },
   {
    "duration": 8,
    "start_time": "2021-07-28T15:51:31.531Z"
   },
   {
    "duration": 11,
    "start_time": "2021-07-28T15:51:47.948Z"
   },
   {
    "duration": 6,
    "start_time": "2021-07-28T15:52:37.530Z"
   },
   {
    "duration": 17,
    "start_time": "2021-07-28T15:52:44.009Z"
   },
   {
    "duration": 13,
    "start_time": "2021-07-28T15:52:46.185Z"
   },
   {
    "duration": 149,
    "start_time": "2021-07-28T15:53:57.977Z"
   },
   {
    "duration": 17,
    "start_time": "2021-07-28T15:54:41.850Z"
   },
   {
    "duration": 982,
    "start_time": "2021-07-29T10:21:48.947Z"
   },
   {
    "duration": 267,
    "start_time": "2021-07-29T10:21:49.931Z"
   },
   {
    "duration": 15,
    "start_time": "2021-07-29T10:21:50.201Z"
   },
   {
    "duration": 30,
    "start_time": "2021-07-29T10:21:50.218Z"
   },
   {
    "duration": 46,
    "start_time": "2021-07-29T10:21:50.250Z"
   },
   {
    "duration": 6,
    "start_time": "2021-07-29T10:21:50.298Z"
   },
   {
    "duration": 12,
    "start_time": "2021-07-29T10:21:50.306Z"
   },
   {
    "duration": 12,
    "start_time": "2021-07-29T10:21:50.320Z"
   },
   {
    "duration": 9,
    "start_time": "2021-07-29T10:21:50.335Z"
   },
   {
    "duration": 45,
    "start_time": "2021-07-29T10:21:50.345Z"
   },
   {
    "duration": 7,
    "start_time": "2021-07-29T10:21:50.392Z"
   },
   {
    "duration": 10,
    "start_time": "2021-07-29T10:21:50.400Z"
   },
   {
    "duration": 7,
    "start_time": "2021-07-29T10:21:50.412Z"
   },
   {
    "duration": 213,
    "start_time": "2021-07-29T10:21:50.420Z"
   },
   {
    "duration": 152,
    "start_time": "2021-07-29T10:21:50.635Z"
   },
   {
    "duration": 12,
    "start_time": "2021-07-29T10:21:50.788Z"
   },
   {
    "duration": 15,
    "start_time": "2021-07-29T10:21:50.802Z"
   },
   {
    "duration": 282,
    "start_time": "2021-07-29T10:21:50.818Z"
   },
   {
    "duration": 13,
    "start_time": "2021-07-29T13:41:47.613Z"
   },
   {
    "duration": 186,
    "start_time": "2021-07-29T13:44:45.087Z"
   },
   {
    "duration": 8,
    "start_time": "2021-07-29T13:44:47.116Z"
   },
   {
    "duration": 188,
    "start_time": "2021-07-29T13:44:48.092Z"
   },
   {
    "duration": 2,
    "start_time": "2021-07-29T13:46:06.197Z"
   },
   {
    "duration": 184,
    "start_time": "2021-07-29T13:46:08.036Z"
   },
   {
    "duration": 180,
    "start_time": "2021-07-29T13:53:00.165Z"
   },
   {
    "duration": 274,
    "start_time": "2021-07-29T13:53:04.219Z"
   },
   {
    "duration": 389,
    "start_time": "2021-07-29T13:53:22.421Z"
   },
   {
    "duration": 195,
    "start_time": "2021-07-29T13:53:53.378Z"
   },
   {
    "duration": 380,
    "start_time": "2021-07-29T13:54:00.322Z"
   },
   {
    "duration": 322,
    "start_time": "2021-07-29T13:54:07.163Z"
   },
   {
    "duration": 402,
    "start_time": "2021-07-29T13:54:22.171Z"
   },
   {
    "duration": 337,
    "start_time": "2021-07-29T13:54:29.695Z"
   },
   {
    "duration": 235,
    "start_time": "2021-07-29T13:54:42.652Z"
   },
   {
    "duration": 226,
    "start_time": "2021-07-29T13:54:45.524Z"
   },
   {
    "duration": 233,
    "start_time": "2021-07-29T14:05:42.394Z"
   },
   {
    "duration": 189,
    "start_time": "2021-07-29T14:05:57.770Z"
   },
   {
    "duration": 243,
    "start_time": "2021-07-29T14:06:10.841Z"
   },
   {
    "duration": 223,
    "start_time": "2021-07-29T14:06:13.305Z"
   },
   {
    "duration": 2,
    "start_time": "2021-07-29T14:14:11.027Z"
   },
   {
    "duration": 2,
    "start_time": "2021-07-29T14:14:21.695Z"
   },
   {
    "duration": 190,
    "start_time": "2021-07-29T14:38:56.232Z"
   },
   {
    "duration": 6,
    "start_time": "2021-07-29T14:38:58.868Z"
   },
   {
    "duration": 319,
    "start_time": "2021-07-29T14:38:59.595Z"
   },
   {
    "duration": 401,
    "start_time": "2021-07-29T14:39:17.724Z"
   },
   {
    "duration": 362,
    "start_time": "2021-07-29T14:39:23.971Z"
   },
   {
    "duration": 344,
    "start_time": "2021-07-29T14:39:30.212Z"
   },
   {
    "duration": 7,
    "start_time": "2021-07-29T14:58:38.417Z"
   },
   {
    "duration": 246,
    "start_time": "2021-07-29T14:58:39.616Z"
   },
   {
    "duration": 251,
    "start_time": "2021-07-29T14:59:26.193Z"
   },
   {
    "duration": 60,
    "start_time": "2021-07-29T15:00:05.090Z"
   },
   {
    "duration": 213,
    "start_time": "2021-07-29T15:00:08.648Z"
   },
   {
    "duration": 209,
    "start_time": "2021-07-29T15:00:21.905Z"
   },
   {
    "duration": 226,
    "start_time": "2021-07-29T15:00:37.329Z"
   },
   {
    "duration": 287,
    "start_time": "2021-07-29T15:00:50.233Z"
   },
   {
    "duration": 249,
    "start_time": "2021-07-29T15:00:57.090Z"
   },
   {
    "duration": 363,
    "start_time": "2021-07-29T15:01:08.416Z"
   },
   {
    "duration": 250,
    "start_time": "2021-07-29T15:02:57.090Z"
   },
   {
    "duration": 613,
    "start_time": "2021-07-29T15:03:10.600Z"
   },
   {
    "duration": 240,
    "start_time": "2021-07-29T15:03:20.737Z"
   },
   {
    "duration": 250,
    "start_time": "2021-07-29T15:04:14.825Z"
   },
   {
    "duration": 233,
    "start_time": "2021-07-29T15:04:18.616Z"
   },
   {
    "duration": 433,
    "start_time": "2021-07-29T15:04:41.817Z"
   },
   {
    "duration": 71,
    "start_time": "2021-07-29T15:04:45.623Z"
   },
   {
    "duration": 430,
    "start_time": "2021-07-29T15:04:49.417Z"
   },
   {
    "duration": 251,
    "start_time": "2021-07-29T15:05:03.015Z"
   },
   {
    "duration": 242,
    "start_time": "2021-07-29T15:05:39.018Z"
   },
   {
    "duration": 3,
    "start_time": "2021-07-29T18:07:34.926Z"
   },
   {
    "duration": 13,
    "start_time": "2021-07-29T18:07:34.931Z"
   },
   {
    "duration": 228,
    "start_time": "2021-07-29T18:07:34.946Z"
   },
   {
    "duration": 11,
    "start_time": "2021-07-29T18:07:35.175Z"
   },
   {
    "duration": 28,
    "start_time": "2021-07-29T18:07:35.188Z"
   },
   {
    "duration": 20,
    "start_time": "2021-07-29T18:07:35.217Z"
   },
   {
    "duration": 6,
    "start_time": "2021-07-29T18:07:35.238Z"
   },
   {
    "duration": 44,
    "start_time": "2021-07-29T18:07:35.246Z"
   },
   {
    "duration": 11,
    "start_time": "2021-07-29T18:07:35.292Z"
   },
   {
    "duration": 11,
    "start_time": "2021-07-29T18:07:35.304Z"
   },
   {
    "duration": 10,
    "start_time": "2021-07-29T18:07:35.317Z"
   },
   {
    "duration": 8,
    "start_time": "2021-07-29T18:07:35.329Z"
   },
   {
    "duration": 6,
    "start_time": "2021-07-29T18:07:35.338Z"
   },
   {
    "duration": 9,
    "start_time": "2021-07-29T18:07:35.345Z"
   },
   {
    "duration": 194,
    "start_time": "2021-07-29T18:07:35.385Z"
   },
   {
    "duration": 141,
    "start_time": "2021-07-29T18:07:35.585Z"
   },
   {
    "duration": 12,
    "start_time": "2021-07-29T18:07:35.728Z"
   },
   {
    "duration": 14,
    "start_time": "2021-07-29T18:07:35.742Z"
   },
   {
    "duration": 26,
    "start_time": "2021-07-29T18:07:35.758Z"
   },
   {
    "duration": 245,
    "start_time": "2021-07-29T18:07:35.786Z"
   },
   {
    "duration": 236,
    "start_time": "2021-07-29T18:07:36.032Z"
   },
   {
    "duration": 6,
    "start_time": "2021-07-29T18:07:36.270Z"
   },
   {
    "duration": 337,
    "start_time": "2021-07-29T18:07:36.286Z"
   },
   {
    "duration": 5,
    "start_time": "2021-07-29T18:07:36.625Z"
   },
   {
    "duration": 251,
    "start_time": "2021-07-29T18:07:36.632Z"
   },
   {
    "duration": 251,
    "start_time": "2021-07-29T18:07:36.884Z"
   },
   {
    "duration": 230,
    "start_time": "2021-07-29T18:11:57.843Z"
   },
   {
    "duration": 242,
    "start_time": "2021-07-29T18:13:17.337Z"
   },
   {
    "duration": 214,
    "start_time": "2021-07-29T18:13:20.911Z"
   },
   {
    "duration": 8,
    "start_time": "2021-07-29T18:32:59.872Z"
   },
   {
    "duration": 306,
    "start_time": "2021-07-29T18:33:04.372Z"
   },
   {
    "duration": 313,
    "start_time": "2021-07-29T18:34:13.541Z"
   },
   {
    "duration": 210,
    "start_time": "2021-07-29T18:34:41.820Z"
   },
   {
    "duration": 243,
    "start_time": "2021-07-29T18:35:26.085Z"
   },
   {
    "duration": 217,
    "start_time": "2021-07-29T18:35:37.955Z"
   },
   {
    "duration": 221,
    "start_time": "2021-07-29T18:39:06.203Z"
   },
   {
    "duration": 227,
    "start_time": "2021-07-29T18:39:09.435Z"
   },
   {
    "duration": 236,
    "start_time": "2021-07-29T18:39:24.085Z"
   },
   {
    "duration": 228,
    "start_time": "2021-07-29T18:39:49.196Z"
   },
   {
    "duration": 11,
    "start_time": "2021-07-29T18:48:49.274Z"
   },
   {
    "duration": 179,
    "start_time": "2021-07-29T18:49:26.521Z"
   },
   {
    "duration": 117,
    "start_time": "2021-07-29T18:49:32.777Z"
   },
   {
    "duration": 103,
    "start_time": "2021-07-29T18:49:47.154Z"
   },
   {
    "duration": 1309,
    "start_time": "2021-07-29T18:49:55.584Z"
   },
   {
    "duration": 280,
    "start_time": "2021-07-29T18:50:04.432Z"
   },
   {
    "duration": 108,
    "start_time": "2021-07-29T18:50:12.209Z"
   },
   {
    "duration": 103,
    "start_time": "2021-07-29T18:50:18.625Z"
   },
   {
    "duration": 117,
    "start_time": "2021-07-29T18:50:29.401Z"
   },
   {
    "duration": 179,
    "start_time": "2021-07-29T18:52:12.146Z"
   },
   {
    "duration": 181,
    "start_time": "2021-07-29T18:52:19.007Z"
   },
   {
    "duration": 175,
    "start_time": "2021-07-29T18:52:45.002Z"
   },
   {
    "duration": 230,
    "start_time": "2021-07-29T18:52:58.128Z"
   },
   {
    "duration": 228,
    "start_time": "2021-07-29T18:53:55.440Z"
   },
   {
    "duration": 311,
    "start_time": "2021-07-29T18:54:16.177Z"
   },
   {
    "duration": 4,
    "start_time": "2021-07-29T18:59:16.986Z"
   },
   {
    "duration": 4,
    "start_time": "2021-07-29T18:59:29.607Z"
   },
   {
    "duration": 304,
    "start_time": "2021-07-29T19:07:17.886Z"
   },
   {
    "duration": 300,
    "start_time": "2021-07-29T19:08:01.774Z"
   },
   {
    "duration": 308,
    "start_time": "2021-07-29T19:08:25.287Z"
   },
   {
    "duration": 5,
    "start_time": "2021-07-29T19:08:49.808Z"
   },
   {
    "duration": 5,
    "start_time": "2021-07-29T19:08:52.471Z"
   },
   {
    "duration": 4,
    "start_time": "2021-07-29T19:08:58.038Z"
   },
   {
    "duration": 5,
    "start_time": "2021-07-29T19:09:03.574Z"
   },
   {
    "duration": 5,
    "start_time": "2021-07-29T19:09:07.406Z"
   },
   {
    "duration": 174,
    "start_time": "2021-07-29T19:09:11.173Z"
   },
   {
    "duration": 5,
    "start_time": "2021-07-29T19:09:13.629Z"
   },
   {
    "duration": 5,
    "start_time": "2021-07-29T19:09:34.752Z"
   },
   {
    "duration": 5,
    "start_time": "2021-07-29T19:09:50.134Z"
   },
   {
    "duration": 9,
    "start_time": "2021-07-29T19:13:29.402Z"
   },
   {
    "duration": 6,
    "start_time": "2021-07-29T19:13:54.597Z"
   },
   {
    "duration": 4,
    "start_time": "2021-07-29T19:16:47.357Z"
   },
   {
    "duration": 1500,
    "start_time": "2021-07-31T12:04:41.025Z"
   },
   {
    "duration": 3,
    "start_time": "2021-07-31T12:04:42.528Z"
   },
   {
    "duration": 297,
    "start_time": "2021-07-31T12:04:42.534Z"
   },
   {
    "duration": 23,
    "start_time": "2021-07-31T12:04:42.834Z"
   },
   {
    "duration": 47,
    "start_time": "2021-07-31T12:04:42.859Z"
   },
   {
    "duration": 68,
    "start_time": "2021-07-31T12:04:42.908Z"
   },
   {
    "duration": 10,
    "start_time": "2021-07-31T12:04:42.979Z"
   },
   {
    "duration": 33,
    "start_time": "2021-07-31T12:04:42.992Z"
   },
   {
    "duration": 42,
    "start_time": "2021-07-31T12:04:43.028Z"
   },
   {
    "duration": 15,
    "start_time": "2021-07-31T12:04:43.072Z"
   },
   {
    "duration": 28,
    "start_time": "2021-07-31T12:04:43.090Z"
   },
   {
    "duration": 35,
    "start_time": "2021-07-31T12:04:43.120Z"
   },
   {
    "duration": 11,
    "start_time": "2021-07-31T12:04:43.157Z"
   },
   {
    "duration": 24,
    "start_time": "2021-07-31T12:04:43.170Z"
   },
   {
    "duration": 335,
    "start_time": "2021-07-31T12:04:43.196Z"
   },
   {
    "duration": 286,
    "start_time": "2021-07-31T12:04:43.533Z"
   },
   {
    "duration": 42,
    "start_time": "2021-07-31T12:04:43.822Z"
   },
   {
    "duration": 28,
    "start_time": "2021-07-31T12:04:43.866Z"
   },
   {
    "duration": 35,
    "start_time": "2021-07-31T12:04:43.896Z"
   },
   {
    "duration": 402,
    "start_time": "2021-07-31T12:04:43.934Z"
   },
   {
    "duration": 390,
    "start_time": "2021-07-31T12:04:44.339Z"
   },
   {
    "duration": 9,
    "start_time": "2021-07-31T12:04:44.731Z"
   },
   {
    "duration": 484,
    "start_time": "2021-07-31T12:04:44.757Z"
   },
   {
    "duration": 13,
    "start_time": "2021-07-31T12:04:45.244Z"
   },
   {
    "duration": 373,
    "start_time": "2021-07-31T12:04:45.260Z"
   },
   {
    "duration": 26,
    "start_time": "2021-07-31T12:04:45.637Z"
   },
   {
    "duration": 374,
    "start_time": "2021-07-31T12:04:45.666Z"
   },
   {
    "duration": 215,
    "start_time": "2021-07-31T12:04:46.053Z"
   },
   {
    "duration": 360,
    "start_time": "2021-07-31T12:04:46.271Z"
   },
   {
    "duration": 7,
    "start_time": "2021-07-31T12:04:46.634Z"
   },
   {
    "duration": 467,
    "start_time": "2021-07-31T12:04:46.655Z"
   },
   {
    "duration": 7,
    "start_time": "2021-07-31T12:04:47.125Z"
   },
   {
    "duration": 21,
    "start_time": "2021-07-31T12:04:47.135Z"
   },
   {
    "duration": 15,
    "start_time": "2021-07-31T12:07:38.929Z"
   },
   {
    "duration": 21,
    "start_time": "2021-07-31T12:11:53.831Z"
   },
   {
    "duration": 224,
    "start_time": "2021-07-31T12:15:25.639Z"
   },
   {
    "duration": 243,
    "start_time": "2021-07-31T12:15:30.791Z"
   },
   {
    "duration": 454,
    "start_time": "2021-07-31T12:15:40.110Z"
   },
   {
    "duration": 56,
    "start_time": "2021-07-31T12:15:46.046Z"
   },
   {
    "duration": 51,
    "start_time": "2021-07-31T12:15:51.431Z"
   },
   {
    "duration": 63,
    "start_time": "2021-07-31T12:15:59.031Z"
   },
   {
    "duration": 50,
    "start_time": "2021-07-31T12:16:13.303Z"
   },
   {
    "duration": 90,
    "start_time": "2021-07-31T12:16:29.119Z"
   },
   {
    "duration": 50,
    "start_time": "2021-07-31T12:16:34.480Z"
   },
   {
    "duration": 17,
    "start_time": "2021-07-31T12:19:41.479Z"
   },
   {
    "duration": 221,
    "start_time": "2021-07-31T12:20:33.189Z"
   },
   {
    "duration": 11,
    "start_time": "2021-07-31T12:20:43.869Z"
   },
   {
    "duration": 19,
    "start_time": "2021-07-31T12:20:52.909Z"
   },
   {
    "duration": 12,
    "start_time": "2021-07-31T12:21:15.181Z"
   },
   {
    "duration": 7,
    "start_time": "2021-07-31T12:24:09.014Z"
   },
   {
    "duration": 6,
    "start_time": "2021-07-31T12:24:55.965Z"
   },
   {
    "duration": 5,
    "start_time": "2021-07-31T12:25:01.621Z"
   },
   {
    "duration": 7,
    "start_time": "2021-07-31T12:25:16.485Z"
   },
   {
    "duration": 6,
    "start_time": "2021-07-31T12:25:20.692Z"
   },
   {
    "duration": 8,
    "start_time": "2021-07-31T12:27:14.603Z"
   },
   {
    "duration": 7,
    "start_time": "2021-07-31T12:27:16.002Z"
   },
   {
    "duration": 8,
    "start_time": "2021-07-31T12:27:19.292Z"
   },
   {
    "duration": 6,
    "start_time": "2021-07-31T12:27:22.516Z"
   },
   {
    "duration": 11,
    "start_time": "2021-07-31T12:27:36.236Z"
   },
   {
    "duration": 7,
    "start_time": "2021-07-31T12:27:37.243Z"
   },
   {
    "duration": 7,
    "start_time": "2021-07-31T12:27:39.588Z"
   },
   {
    "duration": 8,
    "start_time": "2021-07-31T12:27:51.435Z"
   },
   {
    "duration": 8,
    "start_time": "2021-07-31T12:27:52.699Z"
   },
   {
    "duration": 8,
    "start_time": "2021-07-31T12:27:57.051Z"
   },
   {
    "duration": 8,
    "start_time": "2021-07-31T12:28:06.028Z"
   },
   {
    "duration": 7,
    "start_time": "2021-07-31T12:28:07.842Z"
   },
   {
    "duration": 8,
    "start_time": "2021-07-31T12:28:13.675Z"
   },
   {
    "duration": 10,
    "start_time": "2021-07-31T12:28:30.547Z"
   },
   {
    "duration": 7,
    "start_time": "2021-07-31T12:28:31.739Z"
   },
   {
    "duration": 6,
    "start_time": "2021-07-31T12:30:53.275Z"
   },
   {
    "duration": 7,
    "start_time": "2021-07-31T12:30:56.261Z"
   },
   {
    "duration": 7,
    "start_time": "2021-07-31T12:31:00.876Z"
   },
   {
    "duration": 7,
    "start_time": "2021-07-31T12:31:05.948Z"
   },
   {
    "duration": 9,
    "start_time": "2021-07-31T12:31:19.656Z"
   },
   {
    "duration": 14,
    "start_time": "2021-07-31T12:31:45.403Z"
   },
   {
    "duration": 104,
    "start_time": "2021-07-31T12:32:35.779Z"
   },
   {
    "duration": 7,
    "start_time": "2021-07-31T12:32:38.801Z"
   },
   {
    "duration": 86,
    "start_time": "2021-07-31T12:32:48.058Z"
   },
   {
    "duration": 5,
    "start_time": "2021-07-31T12:32:52.507Z"
   },
   {
    "duration": 6,
    "start_time": "2021-07-31T12:33:40.810Z"
   },
   {
    "duration": 6,
    "start_time": "2021-07-31T12:33:46.754Z"
   },
   {
    "duration": 5,
    "start_time": "2021-07-31T12:33:48.242Z"
   },
   {
    "duration": 12,
    "start_time": "2021-07-31T12:34:04.282Z"
   },
   {
    "duration": 12,
    "start_time": "2021-07-31T12:34:11.171Z"
   },
   {
    "duration": 12,
    "start_time": "2021-07-31T12:34:21.283Z"
   },
   {
    "duration": 5,
    "start_time": "2021-07-31T12:34:25.402Z"
   },
   {
    "duration": 7,
    "start_time": "2021-07-31T12:34:40.522Z"
   },
   {
    "duration": 5,
    "start_time": "2021-07-31T12:34:45.210Z"
   },
   {
    "duration": 8,
    "start_time": "2021-07-31T12:35:31.949Z"
   },
   {
    "duration": 7,
    "start_time": "2021-07-31T12:35:36.970Z"
   },
   {
    "duration": 8,
    "start_time": "2021-07-31T12:35:58.314Z"
   },
   {
    "duration": 8,
    "start_time": "2021-07-31T12:36:23.594Z"
   },
   {
    "duration": 273,
    "start_time": "2021-07-31T12:37:09.745Z"
   },
   {
    "duration": 9,
    "start_time": "2021-07-31T12:37:16.425Z"
   },
   {
    "duration": 10,
    "start_time": "2021-07-31T12:37:34.802Z"
   },
   {
    "duration": 91,
    "start_time": "2021-07-31T12:38:25.321Z"
   },
   {
    "duration": 6,
    "start_time": "2021-07-31T12:38:36.153Z"
   },
   {
    "duration": 5,
    "start_time": "2021-07-31T12:38:55.115Z"
   },
   {
    "duration": 6,
    "start_time": "2021-07-31T12:39:46.977Z"
   },
   {
    "duration": 6,
    "start_time": "2021-07-31T12:39:53.497Z"
   },
   {
    "duration": 6,
    "start_time": "2021-07-31T12:39:59.768Z"
   },
   {
    "duration": 7,
    "start_time": "2021-07-31T12:40:17.793Z"
   },
   {
    "duration": 8,
    "start_time": "2021-07-31T12:40:29.618Z"
   },
   {
    "duration": 6,
    "start_time": "2021-07-31T12:40:35.874Z"
   },
   {
    "duration": 8,
    "start_time": "2021-07-31T12:40:38.600Z"
   },
   {
    "duration": 9,
    "start_time": "2021-07-31T12:40:55.761Z"
   },
   {
    "duration": 7,
    "start_time": "2021-07-31T12:41:19.601Z"
   },
   {
    "duration": 8,
    "start_time": "2021-07-31T12:41:31.008Z"
   },
   {
    "duration": 7,
    "start_time": "2021-07-31T12:41:39.984Z"
   },
   {
    "duration": 6,
    "start_time": "2021-07-31T12:41:47.729Z"
   },
   {
    "duration": 96,
    "start_time": "2021-07-31T12:48:30.399Z"
   },
   {
    "duration": 6,
    "start_time": "2021-07-31T12:48:32.231Z"
   },
   {
    "duration": 306,
    "start_time": "2021-07-31T12:56:08.670Z"
   },
   {
    "duration": 4,
    "start_time": "2021-07-31T12:56:46.582Z"
   },
   {
    "duration": 11,
    "start_time": "2021-07-31T12:56:50.470Z"
   },
   {
    "duration": 9,
    "start_time": "2021-07-31T13:09:45.275Z"
   },
   {
    "duration": 10,
    "start_time": "2021-07-31T13:09:56.539Z"
   },
   {
    "duration": 10,
    "start_time": "2021-07-31T13:09:58.723Z"
   },
   {
    "duration": 10,
    "start_time": "2021-07-31T13:10:17.500Z"
   },
   {
    "duration": 10,
    "start_time": "2021-07-31T13:10:49.707Z"
   },
   {
    "duration": 6,
    "start_time": "2021-07-31T13:12:29.059Z"
   },
   {
    "duration": 6,
    "start_time": "2021-07-31T13:13:05.627Z"
   },
   {
    "duration": 6,
    "start_time": "2021-07-31T13:15:54.130Z"
   },
   {
    "duration": 6,
    "start_time": "2021-07-31T13:16:04.898Z"
   },
   {
    "duration": 8,
    "start_time": "2021-07-31T13:16:24.997Z"
   },
   {
    "duration": 16,
    "start_time": "2021-07-31T13:20:24.162Z"
   },
   {
    "duration": 11,
    "start_time": "2021-07-31T13:20:47.987Z"
   },
   {
    "duration": 9,
    "start_time": "2021-07-31T13:21:36.745Z"
   },
   {
    "duration": 11,
    "start_time": "2021-07-31T13:23:31.993Z"
   },
   {
    "duration": 9,
    "start_time": "2021-07-31T13:25:02.936Z"
   },
   {
    "duration": 6,
    "start_time": "2021-07-31T13:25:15.120Z"
   },
   {
    "duration": 5,
    "start_time": "2021-07-31T13:25:20.417Z"
   },
   {
    "duration": 9,
    "start_time": "2021-07-31T13:25:28.472Z"
   },
   {
    "duration": 10,
    "start_time": "2021-07-31T13:25:36.484Z"
   },
   {
    "duration": 7,
    "start_time": "2021-07-31T13:25:37.105Z"
   },
   {
    "duration": 9,
    "start_time": "2021-07-31T13:25:49.808Z"
   },
   {
    "duration": 10,
    "start_time": "2021-07-31T13:26:56.112Z"
   },
   {
    "duration": 8,
    "start_time": "2021-07-31T13:27:07.161Z"
   },
   {
    "duration": 1456,
    "start_time": "2021-07-31T17:09:09.639Z"
   },
   {
    "duration": 3,
    "start_time": "2021-07-31T17:09:11.098Z"
   },
   {
    "duration": 341,
    "start_time": "2021-07-31T17:09:11.104Z"
   },
   {
    "duration": 23,
    "start_time": "2021-07-31T17:09:11.448Z"
   },
   {
    "duration": 51,
    "start_time": "2021-07-31T17:09:11.473Z"
   },
   {
    "duration": 33,
    "start_time": "2021-07-31T17:09:11.526Z"
   },
   {
    "duration": 41,
    "start_time": "2021-07-31T17:09:11.562Z"
   },
   {
    "duration": 20,
    "start_time": "2021-07-31T17:09:11.609Z"
   },
   {
    "duration": 17,
    "start_time": "2021-07-31T17:09:11.632Z"
   },
   {
    "duration": 18,
    "start_time": "2021-07-31T17:09:11.651Z"
   },
   {
    "duration": 20,
    "start_time": "2021-07-31T17:09:11.701Z"
   },
   {
    "duration": 11,
    "start_time": "2021-07-31T17:09:11.724Z"
   },
   {
    "duration": 12,
    "start_time": "2021-07-31T17:09:11.737Z"
   },
   {
    "duration": 52,
    "start_time": "2021-07-31T17:09:11.751Z"
   },
   {
    "duration": 360,
    "start_time": "2021-07-31T17:09:11.806Z"
   },
   {
    "duration": 299,
    "start_time": "2021-07-31T17:09:12.168Z"
   },
   {
    "duration": 18,
    "start_time": "2021-07-31T17:09:12.469Z"
   },
   {
    "duration": 28,
    "start_time": "2021-07-31T17:09:12.501Z"
   },
   {
    "duration": 10,
    "start_time": "2021-07-31T17:09:12.532Z"
   },
   {
    "duration": 424,
    "start_time": "2021-07-31T17:09:12.544Z"
   },
   {
    "duration": 395,
    "start_time": "2021-07-31T17:09:12.970Z"
   },
   {
    "duration": 9,
    "start_time": "2021-07-31T17:09:13.368Z"
   },
   {
    "duration": 503,
    "start_time": "2021-07-31T17:09:13.382Z"
   },
   {
    "duration": 15,
    "start_time": "2021-07-31T17:09:13.889Z"
   },
   {
    "duration": 384,
    "start_time": "2021-07-31T17:09:13.907Z"
   },
   {
    "duration": 14,
    "start_time": "2021-07-31T17:09:14.301Z"
   },
   {
    "duration": 382,
    "start_time": "2021-07-31T17:09:14.318Z"
   },
   {
    "duration": 258,
    "start_time": "2021-07-31T17:09:14.703Z"
   },
   {
    "duration": 434,
    "start_time": "2021-07-31T17:09:14.963Z"
   },
   {
    "duration": 7,
    "start_time": "2021-07-31T17:09:15.400Z"
   },
   {
    "duration": 478,
    "start_time": "2021-07-31T17:09:15.409Z"
   },
   {
    "duration": 16,
    "start_time": "2021-07-31T17:09:15.890Z"
   },
   {
    "duration": 7,
    "start_time": "2021-07-31T17:09:15.909Z"
   },
   {
    "duration": 16,
    "start_time": "2021-07-31T17:09:15.918Z"
   },
   {
    "duration": 225,
    "start_time": "2021-07-31T17:09:15.937Z"
   },
   {
    "duration": 257,
    "start_time": "2021-07-31T17:09:16.165Z"
   },
   {
    "duration": 50,
    "start_time": "2021-07-31T17:09:16.424Z"
   },
   {
    "duration": 239,
    "start_time": "2021-07-31T17:09:16.476Z"
   },
   {
    "duration": 13,
    "start_time": "2021-07-31T17:09:16.717Z"
   },
   {
    "duration": 13,
    "start_time": "2021-07-31T17:09:16.734Z"
   },
   {
    "duration": 5,
    "start_time": "2021-07-31T17:09:16.750Z"
   },
   {
    "duration": 13,
    "start_time": "2021-07-31T17:09:16.757Z"
   },
   {
    "duration": 12,
    "start_time": "2021-07-31T17:09:16.803Z"
   },
   {
    "duration": 21,
    "start_time": "2021-07-31T17:09:18.509Z"
   },
   {
    "duration": 15,
    "start_time": "2021-07-31T17:09:26.414Z"
   },
   {
    "duration": 1858,
    "start_time": "2021-08-01T13:15:42.661Z"
   },
   {
    "duration": 3,
    "start_time": "2021-08-01T13:15:44.522Z"
   },
   {
    "duration": 393,
    "start_time": "2021-08-01T13:15:44.527Z"
   },
   {
    "duration": 21,
    "start_time": "2021-08-01T13:15:44.922Z"
   },
   {
    "duration": 45,
    "start_time": "2021-08-01T13:15:44.945Z"
   },
   {
    "duration": 33,
    "start_time": "2021-08-01T13:15:44.992Z"
   },
   {
    "duration": 43,
    "start_time": "2021-08-01T13:15:45.027Z"
   },
   {
    "duration": 48,
    "start_time": "2021-08-01T13:15:45.075Z"
   },
   {
    "duration": 17,
    "start_time": "2021-08-01T13:15:45.126Z"
   },
   {
    "duration": 23,
    "start_time": "2021-08-01T13:15:45.145Z"
   },
   {
    "duration": 19,
    "start_time": "2021-08-01T13:15:45.170Z"
   },
   {
    "duration": 19,
    "start_time": "2021-08-01T13:15:45.191Z"
   },
   {
    "duration": 54,
    "start_time": "2021-08-01T13:15:45.213Z"
   },
   {
    "duration": 17,
    "start_time": "2021-08-01T13:15:45.270Z"
   },
   {
    "duration": 361,
    "start_time": "2021-08-01T13:15:45.289Z"
   },
   {
    "duration": 278,
    "start_time": "2021-08-01T13:15:45.653Z"
   },
   {
    "duration": 42,
    "start_time": "2021-08-01T13:15:45.934Z"
   },
   {
    "duration": 23,
    "start_time": "2021-08-01T13:15:45.979Z"
   },
   {
    "duration": 10,
    "start_time": "2021-08-01T13:15:46.005Z"
   },
   {
    "duration": 427,
    "start_time": "2021-08-01T13:15:46.017Z"
   },
   {
    "duration": 402,
    "start_time": "2021-08-01T13:15:46.446Z"
   },
   {
    "duration": 16,
    "start_time": "2021-08-01T13:15:46.850Z"
   },
   {
    "duration": 468,
    "start_time": "2021-08-01T13:15:46.871Z"
   },
   {
    "duration": 9,
    "start_time": "2021-08-01T13:15:47.341Z"
   },
   {
    "duration": 365,
    "start_time": "2021-08-01T13:15:47.363Z"
   },
   {
    "duration": 10,
    "start_time": "2021-08-01T13:15:47.731Z"
   },
   {
    "duration": 395,
    "start_time": "2021-08-01T13:15:47.744Z"
   },
   {
    "duration": 236,
    "start_time": "2021-08-01T13:15:48.142Z"
   },
   {
    "duration": 356,
    "start_time": "2021-08-01T13:15:48.381Z"
   },
   {
    "duration": 5,
    "start_time": "2021-08-01T13:15:48.739Z"
   },
   {
    "duration": 496,
    "start_time": "2021-08-01T13:15:48.746Z"
   },
   {
    "duration": 19,
    "start_time": "2021-08-01T13:15:49.244Z"
   },
   {
    "duration": 7,
    "start_time": "2021-08-01T13:15:49.265Z"
   },
   {
    "duration": 20,
    "start_time": "2021-08-01T13:15:49.275Z"
   },
   {
    "duration": 208,
    "start_time": "2021-08-01T13:15:49.297Z"
   },
   {
    "duration": 240,
    "start_time": "2021-08-01T13:15:49.508Z"
   },
   {
    "duration": 57,
    "start_time": "2021-08-01T13:15:49.751Z"
   },
   {
    "duration": 229,
    "start_time": "2021-08-01T13:15:49.810Z"
   },
   {
    "duration": 8,
    "start_time": "2021-08-01T13:15:50.041Z"
   },
   {
    "duration": 9,
    "start_time": "2021-08-01T13:15:50.062Z"
   },
   {
    "duration": 6,
    "start_time": "2021-08-01T13:15:50.073Z"
   },
   {
    "duration": 13,
    "start_time": "2021-08-01T13:15:50.081Z"
   },
   {
    "duration": 9,
    "start_time": "2021-08-01T13:15:50.096Z"
   },
   {
    "duration": 8,
    "start_time": "2021-08-01T13:47:40.326Z"
   },
   {
    "duration": 11,
    "start_time": "2021-08-01T13:47:41.740Z"
   },
   {
    "duration": 7,
    "start_time": "2021-08-01T13:47:43.213Z"
   },
   {
    "duration": 4,
    "start_time": "2021-08-01T14:00:54.218Z"
   },
   {
    "duration": 10,
    "start_time": "2021-08-01T14:00:54.225Z"
   },
   {
    "duration": 142,
    "start_time": "2021-08-01T14:00:54.238Z"
   },
   {
    "duration": 23,
    "start_time": "2021-08-01T14:00:54.384Z"
   },
   {
    "duration": 69,
    "start_time": "2021-08-01T14:00:54.410Z"
   },
   {
    "duration": 33,
    "start_time": "2021-08-01T14:00:54.481Z"
   },
   {
    "duration": 46,
    "start_time": "2021-08-01T14:00:54.516Z"
   },
   {
    "duration": 17,
    "start_time": "2021-08-01T14:00:54.566Z"
   },
   {
    "duration": 18,
    "start_time": "2021-08-01T14:00:54.585Z"
   },
   {
    "duration": 15,
    "start_time": "2021-08-01T14:00:54.605Z"
   },
   {
    "duration": 53,
    "start_time": "2021-08-01T14:00:54.622Z"
   },
   {
    "duration": 12,
    "start_time": "2021-08-01T14:00:54.677Z"
   },
   {
    "duration": 13,
    "start_time": "2021-08-01T14:00:54.691Z"
   },
   {
    "duration": 19,
    "start_time": "2021-08-01T14:00:54.706Z"
   },
   {
    "duration": 355,
    "start_time": "2021-08-01T14:00:54.763Z"
   },
   {
    "duration": 266,
    "start_time": "2021-08-01T14:00:55.120Z"
   },
   {
    "duration": 21,
    "start_time": "2021-08-01T14:00:55.389Z"
   },
   {
    "duration": 24,
    "start_time": "2021-08-01T14:00:55.412Z"
   },
   {
    "duration": 13,
    "start_time": "2021-08-01T14:00:55.464Z"
   },
   {
    "duration": 581,
    "start_time": "2021-08-01T14:00:55.481Z"
   },
   {
    "duration": 455,
    "start_time": "2021-08-01T14:00:56.064Z"
   },
   {
    "duration": 9,
    "start_time": "2021-08-01T14:00:56.522Z"
   },
   {
    "duration": 528,
    "start_time": "2021-08-01T14:00:56.536Z"
   },
   {
    "duration": 9,
    "start_time": "2021-08-01T14:00:57.067Z"
   },
   {
    "duration": 542,
    "start_time": "2021-08-01T14:00:57.079Z"
   },
   {
    "duration": 13,
    "start_time": "2021-08-01T14:00:57.624Z"
   },
   {
    "duration": 570,
    "start_time": "2021-08-01T14:00:57.640Z"
   },
   {
    "duration": 369,
    "start_time": "2021-08-01T14:00:58.213Z"
   },
   {
    "duration": 477,
    "start_time": "2021-08-01T14:00:58.585Z"
   },
   {
    "duration": 6,
    "start_time": "2021-08-01T14:00:59.065Z"
   },
   {
    "duration": 392,
    "start_time": "2021-08-01T14:00:59.074Z"
   },
   {
    "duration": 7,
    "start_time": "2021-08-01T14:00:59.468Z"
   },
   {
    "duration": 15,
    "start_time": "2021-08-01T14:00:59.478Z"
   },
   {
    "duration": 20,
    "start_time": "2021-08-01T14:00:59.496Z"
   },
   {
    "duration": 214,
    "start_time": "2021-08-01T14:00:59.518Z"
   },
   {
    "duration": 252,
    "start_time": "2021-08-01T14:00:59.734Z"
   },
   {
    "duration": 287,
    "start_time": "2021-08-01T14:00:59.988Z"
   },
   {
    "duration": 10,
    "start_time": "2021-08-01T14:01:00.277Z"
   },
   {
    "duration": 34,
    "start_time": "2021-08-01T14:01:00.290Z"
   },
   {
    "duration": 16,
    "start_time": "2021-08-01T14:01:00.327Z"
   },
   {
    "duration": 36,
    "start_time": "2021-08-01T14:01:00.346Z"
   },
   {
    "duration": 18,
    "start_time": "2021-08-01T14:01:00.385Z"
   },
   {
    "duration": 7,
    "start_time": "2021-08-01T14:28:24.524Z"
   },
   {
    "duration": 11,
    "start_time": "2021-08-01T14:28:29.564Z"
   },
   {
    "duration": 13,
    "start_time": "2021-08-01T14:34:26.037Z"
   },
   {
    "duration": 25,
    "start_time": "2021-08-01T14:37:05.834Z"
   },
   {
    "duration": 413,
    "start_time": "2021-08-01T14:39:08.035Z"
   },
   {
    "duration": 9,
    "start_time": "2021-08-01T14:39:12.065Z"
   },
   {
    "duration": 8,
    "start_time": "2021-08-01T14:39:12.851Z"
   },
   {
    "duration": 9,
    "start_time": "2021-08-01T14:39:31.994Z"
   },
   {
    "duration": 11,
    "start_time": "2021-08-01T14:39:33.185Z"
   },
   {
    "duration": 8,
    "start_time": "2021-08-01T14:39:35.697Z"
   },
   {
    "duration": 4,
    "start_time": "2021-08-01T14:39:49.674Z"
   },
   {
    "duration": 9,
    "start_time": "2021-08-01T14:39:50.569Z"
   },
   {
    "duration": 10,
    "start_time": "2021-08-01T14:39:57.945Z"
   },
   {
    "duration": 4,
    "start_time": "2021-08-01T14:40:05.217Z"
   },
   {
    "duration": 260,
    "start_time": "2021-08-01T14:40:09.753Z"
   },
   {
    "duration": 6,
    "start_time": "2021-08-01T14:40:11.345Z"
   },
   {
    "duration": 6,
    "start_time": "2021-08-01T14:40:33.364Z"
   },
   {
    "duration": 5,
    "start_time": "2021-08-01T14:40:38.042Z"
   },
   {
    "duration": 10,
    "start_time": "2021-08-01T14:40:44.881Z"
   },
   {
    "duration": 10,
    "start_time": "2021-08-01T14:41:03.080Z"
   },
   {
    "duration": 7,
    "start_time": "2021-08-01T14:41:11.904Z"
   },
   {
    "duration": 10,
    "start_time": "2021-08-01T14:42:15.096Z"
   },
   {
    "duration": 15,
    "start_time": "2021-08-01T14:42:41.954Z"
   },
   {
    "duration": 9,
    "start_time": "2021-08-01T14:42:54.457Z"
   },
   {
    "duration": 8,
    "start_time": "2021-08-01T14:42:58.056Z"
   },
   {
    "duration": 8,
    "start_time": "2021-08-01T14:43:03.088Z"
   },
   {
    "duration": 9,
    "start_time": "2021-08-01T14:48:24.920Z"
   },
   {
    "duration": 3812,
    "start_time": "2021-08-01T14:48:28.047Z"
   },
   {
    "duration": 92,
    "start_time": "2021-08-01T14:50:05.224Z"
   },
   {
    "duration": 13,
    "start_time": "2021-08-01T14:50:09.767Z"
   },
   {
    "duration": 138,
    "start_time": "2021-08-01T14:50:15.750Z"
   },
   {
    "duration": 11,
    "start_time": "2021-08-01T14:50:46.391Z"
   },
   {
    "duration": 11,
    "start_time": "2021-08-01T14:50:51.351Z"
   },
   {
    "duration": 3943,
    "start_time": "2021-08-01T14:51:17.712Z"
   },
   {
    "duration": 9,
    "start_time": "2021-08-01T14:51:27.056Z"
   },
   {
    "duration": 7,
    "start_time": "2021-08-01T14:51:41.495Z"
   },
   {
    "duration": 8,
    "start_time": "2021-08-01T14:51:47.278Z"
   },
   {
    "duration": 270,
    "start_time": "2021-08-01T14:52:16.462Z"
   },
   {
    "duration": 14,
    "start_time": "2021-08-01T14:52:26.744Z"
   },
   {
    "duration": 18,
    "start_time": "2021-08-01T14:52:28.782Z"
   },
   {
    "duration": 16,
    "start_time": "2021-08-01T14:53:07.552Z"
   },
   {
    "duration": 7,
    "start_time": "2021-08-01T14:53:08.311Z"
   },
   {
    "duration": 6,
    "start_time": "2021-08-01T14:53:09.647Z"
   },
   {
    "duration": 8,
    "start_time": "2021-08-01T14:55:47.999Z"
   },
   {
    "duration": 7,
    "start_time": "2021-08-01T14:56:05.039Z"
   },
   {
    "duration": 8,
    "start_time": "2021-08-01T14:56:09.233Z"
   },
   {
    "duration": 8,
    "start_time": "2021-08-01T14:56:11.806Z"
   },
   {
    "duration": 6,
    "start_time": "2021-08-01T14:56:53.111Z"
   },
   {
    "duration": 6,
    "start_time": "2021-08-01T14:57:16.390Z"
   },
   {
    "duration": 5,
    "start_time": "2021-08-01T14:57:31.280Z"
   },
   {
    "duration": 5,
    "start_time": "2021-08-01T14:58:14.616Z"
   },
   {
    "duration": 8,
    "start_time": "2021-08-01T14:59:06.517Z"
   },
   {
    "duration": 5,
    "start_time": "2021-08-01T14:59:24.999Z"
   },
   {
    "duration": 6352,
    "start_time": "2021-08-01T16:07:20.883Z"
   },
   {
    "duration": 16,
    "start_time": "2021-08-01T16:07:55.851Z"
   },
   {
    "duration": 15,
    "start_time": "2021-08-01T16:07:59.370Z"
   },
   {
    "duration": 14,
    "start_time": "2021-08-01T16:08:02.408Z"
   },
   {
    "duration": 11,
    "start_time": "2021-08-01T16:08:20.050Z"
   },
   {
    "duration": 14,
    "start_time": "2021-08-01T16:08:22.090Z"
   },
   {
    "duration": 7,
    "start_time": "2021-08-01T16:08:56.313Z"
   },
   {
    "duration": 8,
    "start_time": "2021-08-01T16:08:59.505Z"
   },
   {
    "duration": 12,
    "start_time": "2021-08-01T16:09:11.273Z"
   },
   {
    "duration": 7,
    "start_time": "2021-08-01T16:11:11.440Z"
   },
   {
    "duration": 12,
    "start_time": "2021-08-01T16:11:30.872Z"
   },
   {
    "duration": 7,
    "start_time": "2021-08-01T16:11:37.472Z"
   },
   {
    "duration": 8,
    "start_time": "2021-08-01T16:11:42.961Z"
   },
   {
    "duration": 6,
    "start_time": "2021-08-01T16:14:23.089Z"
   },
   {
    "duration": 12,
    "start_time": "2021-08-01T16:14:32.640Z"
   },
   {
    "duration": 81,
    "start_time": "2021-08-01T16:14:40.224Z"
   },
   {
    "duration": 214,
    "start_time": "2021-08-01T16:14:43.832Z"
   },
   {
    "duration": 5,
    "start_time": "2021-08-01T16:14:47.369Z"
   },
   {
    "duration": 7,
    "start_time": "2021-08-01T16:15:06.976Z"
   },
   {
    "duration": 6,
    "start_time": "2021-08-01T16:15:08.768Z"
   },
   {
    "duration": 7,
    "start_time": "2021-08-01T16:15:41.704Z"
   },
   {
    "duration": 6,
    "start_time": "2021-08-01T16:15:49.328Z"
   },
   {
    "duration": 12,
    "start_time": "2021-08-01T16:17:23.871Z"
   },
   {
    "duration": 6,
    "start_time": "2021-08-01T16:21:02.072Z"
   },
   {
    "duration": 6049,
    "start_time": "2021-08-01T16:21:05.319Z"
   },
   {
    "duration": 17,
    "start_time": "2021-08-01T16:21:13.856Z"
   },
   {
    "duration": 6,
    "start_time": "2021-08-01T16:21:24.935Z"
   },
   {
    "duration": 5,
    "start_time": "2021-08-01T16:22:03.502Z"
   },
   {
    "duration": 7,
    "start_time": "2021-08-01T16:22:14.632Z"
   },
   {
    "duration": 5,
    "start_time": "2021-08-01T16:22:27.702Z"
   },
   {
    "duration": 5,
    "start_time": "2021-08-01T16:22:34.544Z"
   },
   {
    "duration": 6,
    "start_time": "2021-08-01T16:22:36.430Z"
   },
   {
    "duration": 7,
    "start_time": "2021-08-01T16:22:41.902Z"
   },
   {
    "duration": 12,
    "start_time": "2021-08-01T16:22:52.407Z"
   },
   {
    "duration": 14,
    "start_time": "2021-08-01T16:22:55.302Z"
   },
   {
    "duration": 13,
    "start_time": "2021-08-01T16:40:33.692Z"
   },
   {
    "duration": 13,
    "start_time": "2021-08-01T16:40:42.093Z"
   },
   {
    "duration": 15,
    "start_time": "2021-08-01T16:48:45.250Z"
   },
   {
    "duration": 17,
    "start_time": "2021-08-01T16:48:50.913Z"
   },
   {
    "duration": 6,
    "start_time": "2021-08-01T16:52:05.340Z"
   },
   {
    "duration": 6,
    "start_time": "2021-08-01T16:52:26.147Z"
   },
   {
    "duration": 339,
    "start_time": "2021-08-01T16:52:32.232Z"
   },
   {
    "duration": 18,
    "start_time": "2021-08-01T16:52:47.936Z"
   },
   {
    "duration": 92,
    "start_time": "2021-08-01T16:53:26.945Z"
   },
   {
    "duration": 87,
    "start_time": "2021-08-01T16:53:35.041Z"
   },
   {
    "duration": 70,
    "start_time": "2021-08-01T16:53:44.218Z"
   },
   {
    "duration": 70,
    "start_time": "2021-08-01T16:53:46.600Z"
   },
   {
    "duration": 23,
    "start_time": "2021-08-01T16:53:49.512Z"
   },
   {
    "duration": 324,
    "start_time": "2021-08-01T16:54:13.273Z"
   },
   {
    "duration": 22,
    "start_time": "2021-08-01T16:54:18.291Z"
   },
   {
    "duration": 13,
    "start_time": "2021-08-01T16:54:28.201Z"
   },
   {
    "duration": 12,
    "start_time": "2021-08-01T16:54:36.393Z"
   },
   {
    "duration": 25,
    "start_time": "2021-08-01T16:54:40.527Z"
   },
   {
    "duration": 18,
    "start_time": "2021-08-01T16:55:03.423Z"
   },
   {
    "duration": 376,
    "start_time": "2021-08-01T16:55:07.113Z"
   },
   {
    "duration": 15,
    "start_time": "2021-08-01T16:55:25.520Z"
   },
   {
    "duration": 274,
    "start_time": "2021-08-01T16:55:38.777Z"
   },
   {
    "duration": 225,
    "start_time": "2021-08-01T16:55:42.455Z"
   },
   {
    "duration": 15,
    "start_time": "2021-08-01T16:55:45.032Z"
   },
   {
    "duration": 21,
    "start_time": "2021-08-01T16:55:58.118Z"
   },
   {
    "duration": 15,
    "start_time": "2021-08-01T16:56:05.984Z"
   },
   {
    "duration": 19,
    "start_time": "2021-08-01T16:56:30.673Z"
   },
   {
    "duration": 17,
    "start_time": "2021-08-01T16:56:43.152Z"
   },
   {
    "duration": 20,
    "start_time": "2021-08-01T16:56:47.431Z"
   },
   {
    "duration": 15,
    "start_time": "2021-08-01T16:57:00.824Z"
   },
   {
    "duration": 15,
    "start_time": "2021-08-01T16:57:09.232Z"
   },
   {
    "duration": 9,
    "start_time": "2021-08-01T16:58:29.737Z"
   },
   {
    "duration": 13,
    "start_time": "2021-08-01T16:58:35.191Z"
   },
   {
    "duration": 9,
    "start_time": "2021-08-01T16:58:42.974Z"
   },
   {
    "duration": 14,
    "start_time": "2021-08-01T16:58:43.991Z"
   },
   {
    "duration": 8,
    "start_time": "2021-08-01T16:59:34.903Z"
   },
   {
    "duration": 17,
    "start_time": "2021-08-01T16:59:35.911Z"
   },
   {
    "duration": 13,
    "start_time": "2021-08-01T16:59:39.711Z"
   },
   {
    "duration": 8,
    "start_time": "2021-08-01T16:59:47.584Z"
   },
   {
    "duration": 11,
    "start_time": "2021-08-01T16:59:48.519Z"
   },
   {
    "duration": 11,
    "start_time": "2021-08-01T16:59:55.495Z"
   },
   {
    "duration": 16,
    "start_time": "2021-08-01T16:59:56.295Z"
   },
   {
    "duration": 14,
    "start_time": "2021-08-01T17:00:17.447Z"
   },
   {
    "duration": 8,
    "start_time": "2021-08-01T17:00:23.474Z"
   },
   {
    "duration": 7,
    "start_time": "2021-08-01T17:00:32.263Z"
   },
   {
    "duration": 4,
    "start_time": "2021-08-01T17:02:07.296Z"
   },
   {
    "duration": 4,
    "start_time": "2021-08-01T17:02:10.263Z"
   },
   {
    "duration": 23,
    "start_time": "2021-08-01T17:02:12.863Z"
   },
   {
    "duration": 4,
    "start_time": "2021-08-01T17:02:17.703Z"
   },
   {
    "duration": 17,
    "start_time": "2021-08-01T17:02:18.662Z"
   },
   {
    "duration": 23,
    "start_time": "2021-08-01T17:02:23.424Z"
   },
   {
    "duration": 13,
    "start_time": "2021-08-01T17:02:25.881Z"
   },
   {
    "duration": 4,
    "start_time": "2021-08-01T17:02:35.550Z"
   },
   {
    "duration": 16,
    "start_time": "2021-08-01T17:02:36.680Z"
   },
   {
    "duration": 17,
    "start_time": "2021-08-01T17:03:05.847Z"
   },
   {
    "duration": 14,
    "start_time": "2021-08-01T17:03:08.006Z"
   },
   {
    "duration": 3,
    "start_time": "2021-08-01T17:03:12.614Z"
   },
   {
    "duration": 18,
    "start_time": "2021-08-01T17:03:13.390Z"
   },
   {
    "duration": 3,
    "start_time": "2021-08-01T17:03:16.982Z"
   },
   {
    "duration": 22,
    "start_time": "2021-08-01T17:03:17.681Z"
   },
   {
    "duration": 3,
    "start_time": "2021-08-01T17:03:21.558Z"
   },
   {
    "duration": 16,
    "start_time": "2021-08-01T17:03:22.526Z"
   },
   {
    "duration": 17,
    "start_time": "2021-08-01T17:03:24.575Z"
   },
   {
    "duration": 14,
    "start_time": "2021-08-01T17:03:26.336Z"
   },
   {
    "duration": 4,
    "start_time": "2021-08-01T17:03:55.382Z"
   },
   {
    "duration": 14,
    "start_time": "2021-08-01T17:04:05.999Z"
   },
   {
    "duration": 15,
    "start_time": "2021-08-01T17:04:13.214Z"
   },
   {
    "duration": 17,
    "start_time": "2021-08-01T17:04:15.463Z"
   },
   {
    "duration": 14,
    "start_time": "2021-08-01T17:05:39.686Z"
   },
   {
    "duration": 12,
    "start_time": "2021-08-01T17:08:42.105Z"
   },
   {
    "duration": 273,
    "start_time": "2021-08-01T17:08:55.312Z"
   },
   {
    "duration": 249,
    "start_time": "2021-08-01T17:09:04.797Z"
   },
   {
    "duration": 15,
    "start_time": "2021-08-01T17:09:10.699Z"
   },
   {
    "duration": 12,
    "start_time": "2021-08-01T17:10:39.790Z"
   },
   {
    "duration": 15,
    "start_time": "2021-08-01T17:11:44.014Z"
   },
   {
    "duration": 15,
    "start_time": "2021-08-01T17:11:55.077Z"
   },
   {
    "duration": 14,
    "start_time": "2021-08-01T17:12:05.669Z"
   },
   {
    "duration": 19,
    "start_time": "2021-08-01T17:12:20.959Z"
   },
   {
    "duration": 25,
    "start_time": "2021-08-01T17:14:09.086Z"
   },
   {
    "duration": 24,
    "start_time": "2021-08-01T17:15:38.213Z"
   },
   {
    "duration": 16,
    "start_time": "2021-08-01T17:38:58.354Z"
   },
   {
    "duration": 16,
    "start_time": "2021-08-01T17:39:13.226Z"
   },
   {
    "duration": 12,
    "start_time": "2021-08-01T17:39:22.130Z"
   },
   {
    "duration": 13,
    "start_time": "2021-08-01T17:40:01.162Z"
   },
   {
    "duration": 6,
    "start_time": "2021-08-01T17:40:23.265Z"
   },
   {
    "duration": 17,
    "start_time": "2021-08-01T17:40:58.625Z"
   },
   {
    "duration": 7,
    "start_time": "2021-08-01T17:41:03.313Z"
   },
   {
    "duration": 19,
    "start_time": "2021-08-01T17:41:05.060Z"
   },
   {
    "duration": 12,
    "start_time": "2021-08-01T17:41:26.024Z"
   },
   {
    "duration": 18,
    "start_time": "2021-08-01T17:41:35.610Z"
   },
   {
    "duration": 241,
    "start_time": "2021-08-01T17:41:52.649Z"
   },
   {
    "duration": 21,
    "start_time": "2021-08-01T17:42:14.257Z"
   },
   {
    "duration": 266,
    "start_time": "2021-08-01T17:42:23.585Z"
   },
   {
    "duration": 8,
    "start_time": "2021-08-01T17:42:51.513Z"
   },
   {
    "duration": 25,
    "start_time": "2021-08-01T17:42:58.832Z"
   },
   {
    "duration": 21,
    "start_time": "2021-08-01T17:43:17.992Z"
   },
   {
    "duration": 14,
    "start_time": "2021-08-01T17:43:24.799Z"
   },
   {
    "duration": 701,
    "start_time": "2021-08-01T17:43:30.304Z"
   },
   {
    "duration": 22,
    "start_time": "2021-08-01T17:43:32.336Z"
   },
   {
    "duration": 81,
    "start_time": "2021-08-01T17:43:38.185Z"
   },
   {
    "duration": 92,
    "start_time": "2021-08-01T17:43:41.018Z"
   },
   {
    "duration": 82,
    "start_time": "2021-08-01T17:43:44.872Z"
   },
   {
    "duration": 11,
    "start_time": "2021-08-01T18:52:51.694Z"
   },
   {
    "duration": 25,
    "start_time": "2021-08-01T18:54:53.857Z"
   },
   {
    "duration": 19,
    "start_time": "2021-08-01T18:55:11.530Z"
   },
   {
    "duration": 26,
    "start_time": "2021-08-01T18:55:14.068Z"
   },
   {
    "duration": 12,
    "start_time": "2021-08-01T18:55:17.049Z"
   },
   {
    "duration": 10,
    "start_time": "2021-08-01T18:55:19.848Z"
   },
   {
    "duration": 11,
    "start_time": "2021-08-01T18:55:21.850Z"
   },
   {
    "duration": 12,
    "start_time": "2021-08-01T18:55:30.001Z"
   },
   {
    "duration": 24,
    "start_time": "2021-08-01T18:55:48.955Z"
   },
   {
    "duration": 20,
    "start_time": "2021-08-01T18:55:50.394Z"
   },
   {
    "duration": 274,
    "start_time": "2021-08-01T18:55:52.115Z"
   },
   {
    "duration": 1893,
    "start_time": "2021-08-01T18:56:09.389Z"
   },
   {
    "duration": 4,
    "start_time": "2021-08-01T18:56:11.285Z"
   },
   {
    "duration": 261,
    "start_time": "2021-08-01T18:56:11.293Z"
   },
   {
    "duration": 33,
    "start_time": "2021-08-01T18:56:11.557Z"
   },
   {
    "duration": 79,
    "start_time": "2021-08-01T18:56:11.594Z"
   },
   {
    "duration": 38,
    "start_time": "2021-08-01T18:56:11.676Z"
   },
   {
    "duration": 9,
    "start_time": "2021-08-01T18:56:11.717Z"
   },
   {
    "duration": 48,
    "start_time": "2021-08-01T18:56:11.729Z"
   },
   {
    "duration": 16,
    "start_time": "2021-08-01T18:56:11.780Z"
   },
   {
    "duration": 14,
    "start_time": "2021-08-01T18:56:11.800Z"
   },
   {
    "duration": 11,
    "start_time": "2021-08-01T18:56:21.084Z"
   },
   {
    "duration": 18,
    "start_time": "2021-08-01T18:56:28.486Z"
   },
   {
    "duration": 22,
    "start_time": "2021-08-01T18:56:34.366Z"
   },
   {
    "duration": 496,
    "start_time": "2021-08-01T18:56:53.580Z"
   },
   {
    "duration": 8,
    "start_time": "2021-08-01T18:57:05.892Z"
   },
   {
    "duration": 14,
    "start_time": "2021-08-01T18:57:09.316Z"
   },
   {
    "duration": 10,
    "start_time": "2021-08-01T18:57:19.820Z"
   },
   {
    "duration": 6,
    "start_time": "2021-08-01T18:57:29.187Z"
   },
   {
    "duration": 13,
    "start_time": "2021-08-01T18:57:30.366Z"
   },
   {
    "duration": 11,
    "start_time": "2021-08-01T18:57:32.926Z"
   },
   {
    "duration": 25,
    "start_time": "2021-08-01T18:57:38.284Z"
   },
   {
    "duration": 8,
    "start_time": "2021-08-01T18:58:32.123Z"
   },
   {
    "duration": 23,
    "start_time": "2021-08-01T19:01:08.972Z"
   },
   {
    "duration": 44,
    "start_time": "2021-08-01T19:01:11.933Z"
   },
   {
    "duration": 31,
    "start_time": "2021-08-01T19:01:16.035Z"
   },
   {
    "duration": 27,
    "start_time": "2021-08-01T19:01:17.276Z"
   },
   {
    "duration": 4,
    "start_time": "2021-08-01T19:01:30.971Z"
   },
   {
    "duration": 277,
    "start_time": "2021-08-01T19:04:26.235Z"
   },
   {
    "duration": 9,
    "start_time": "2021-08-01T19:04:33.845Z"
   },
   {
    "duration": 8,
    "start_time": "2021-08-01T19:04:43.050Z"
   },
   {
    "duration": 8,
    "start_time": "2021-08-01T19:04:45.106Z"
   },
   {
    "duration": 9,
    "start_time": "2021-08-01T19:04:49.171Z"
   },
   {
    "duration": 5,
    "start_time": "2021-08-01T19:05:09.170Z"
   },
   {
    "duration": 9,
    "start_time": "2021-08-01T19:05:14.857Z"
   },
   {
    "duration": 21,
    "start_time": "2021-08-01T19:05:18.210Z"
   },
   {
    "duration": 1593,
    "start_time": "2021-08-01T19:10:52.689Z"
   },
   {
    "duration": 6,
    "start_time": "2021-08-01T19:10:54.289Z"
   },
   {
    "duration": 201,
    "start_time": "2021-08-01T19:10:54.303Z"
   },
   {
    "duration": 26,
    "start_time": "2021-08-01T19:10:54.508Z"
   },
   {
    "duration": 61,
    "start_time": "2021-08-01T19:10:54.537Z"
   },
   {
    "duration": 76,
    "start_time": "2021-08-01T19:10:54.601Z"
   },
   {
    "duration": 23,
    "start_time": "2021-08-01T19:10:54.680Z"
   },
   {
    "duration": 15,
    "start_time": "2021-08-01T19:10:54.708Z"
   },
   {
    "duration": 51,
    "start_time": "2021-08-01T19:10:54.726Z"
   },
   {
    "duration": 18,
    "start_time": "2021-08-01T19:10:54.780Z"
   },
   {
    "duration": 12,
    "start_time": "2021-08-01T19:10:54.800Z"
   },
   {
    "duration": 4,
    "start_time": "2021-08-01T19:10:54.816Z"
   },
   {
    "duration": 50,
    "start_time": "2021-08-01T19:10:54.823Z"
   },
   {
    "duration": 28,
    "start_time": "2021-08-01T19:10:54.876Z"
   },
   {
    "duration": 5,
    "start_time": "2021-08-01T19:10:54.907Z"
   },
   {
    "duration": 23,
    "start_time": "2021-08-01T19:10:54.914Z"
   },
   {
    "duration": 33,
    "start_time": "2021-08-01T19:10:54.968Z"
   },
   {
    "duration": 19,
    "start_time": "2021-08-01T19:10:55.004Z"
   },
   {
    "duration": 47,
    "start_time": "2021-08-01T19:10:55.026Z"
   },
   {
    "duration": 21,
    "start_time": "2021-08-01T19:10:55.076Z"
   },
   {
    "duration": 14,
    "start_time": "2021-08-01T19:10:55.100Z"
   },
   {
    "duration": 10,
    "start_time": "2021-08-01T19:10:55.117Z"
   },
   {
    "duration": 469,
    "start_time": "2021-08-01T19:10:55.137Z"
   },
   {
    "duration": 307,
    "start_time": "2021-08-01T19:10:55.610Z"
   },
   {
    "duration": 20,
    "start_time": "2021-08-01T19:10:55.919Z"
   },
   {
    "duration": 59,
    "start_time": "2021-08-01T19:10:55.941Z"
   },
   {
    "duration": 13,
    "start_time": "2021-08-01T19:10:56.003Z"
   },
   {
    "duration": 564,
    "start_time": "2021-08-01T19:10:56.020Z"
   },
   {
    "duration": 430,
    "start_time": "2021-08-01T19:10:56.588Z"
   },
   {
    "duration": 10,
    "start_time": "2021-08-01T19:10:57.021Z"
   },
   {
    "duration": 659,
    "start_time": "2021-08-01T19:10:57.034Z"
   },
   {
    "duration": 10,
    "start_time": "2021-08-01T19:10:57.697Z"
   },
   {
    "duration": 471,
    "start_time": "2021-08-01T19:10:57.710Z"
   },
   {
    "duration": 15,
    "start_time": "2021-08-01T19:10:58.187Z"
   },
   {
    "duration": 392,
    "start_time": "2021-08-01T19:10:58.205Z"
   },
   {
    "duration": 248,
    "start_time": "2021-08-01T19:10:58.600Z"
   },
   {
    "duration": 445,
    "start_time": "2021-08-01T19:10:58.850Z"
   },
   {
    "duration": 6,
    "start_time": "2021-08-01T19:10:59.298Z"
   },
   {
    "duration": 624,
    "start_time": "2021-08-01T19:10:59.306Z"
   },
   {
    "duration": 9,
    "start_time": "2021-08-01T19:10:59.934Z"
   },
   {
    "duration": 35,
    "start_time": "2021-08-01T19:10:59.946Z"
   },
   {
    "duration": 230,
    "start_time": "2021-08-01T19:10:59.985Z"
   },
   {
    "duration": 308,
    "start_time": "2021-08-01T19:11:00.218Z"
   },
   {
    "duration": 332,
    "start_time": "2021-08-01T19:11:00.528Z"
   },
   {
    "duration": 10,
    "start_time": "2021-08-01T19:11:00.863Z"
   },
   {
    "duration": 24,
    "start_time": "2021-08-01T19:11:00.876Z"
   },
   {
    "duration": 25,
    "start_time": "2021-08-01T19:11:00.903Z"
   },
   {
    "duration": 17,
    "start_time": "2021-08-01T19:11:00.930Z"
   },
   {
    "duration": 37,
    "start_time": "2021-08-01T19:11:00.949Z"
   },
   {
    "duration": 13,
    "start_time": "2021-08-01T19:11:00.991Z"
   },
   {
    "duration": 48,
    "start_time": "2021-08-01T19:11:01.007Z"
   },
   {
    "duration": 42,
    "start_time": "2021-08-01T19:11:01.058Z"
   },
   {
    "duration": 31,
    "start_time": "2021-08-01T19:11:01.103Z"
   },
   {
    "duration": 44,
    "start_time": "2021-08-01T19:11:01.136Z"
   },
   {
    "duration": 50,
    "start_time": "2021-08-01T19:11:01.183Z"
   },
   {
    "duration": 42,
    "start_time": "2021-08-01T19:11:01.236Z"
   },
   {
    "duration": 39,
    "start_time": "2021-08-01T19:11:01.280Z"
   },
   {
    "duration": 31,
    "start_time": "2021-08-01T19:11:01.322Z"
   },
   {
    "duration": 434,
    "start_time": "2021-08-01T19:11:40.882Z"
   },
   {
    "duration": 1754,
    "start_time": "2021-08-01T19:12:21.798Z"
   },
   {
    "duration": 16,
    "start_time": "2021-08-01T19:12:23.555Z"
   },
   {
    "duration": 153,
    "start_time": "2021-08-01T19:12:23.574Z"
   },
   {
    "duration": 30,
    "start_time": "2021-08-01T19:12:23.730Z"
   },
   {
    "duration": 65,
    "start_time": "2021-08-01T19:12:23.773Z"
   },
   {
    "duration": 68,
    "start_time": "2021-08-01T19:12:23.842Z"
   },
   {
    "duration": 12,
    "start_time": "2021-08-01T19:12:23.913Z"
   },
   {
    "duration": 48,
    "start_time": "2021-08-01T19:12:23.930Z"
   },
   {
    "duration": 26,
    "start_time": "2021-08-01T19:12:23.981Z"
   },
   {
    "duration": 16,
    "start_time": "2021-08-01T19:12:24.010Z"
   },
   {
    "duration": 53,
    "start_time": "2021-08-01T19:12:24.029Z"
   },
   {
    "duration": 7,
    "start_time": "2021-08-01T19:12:24.086Z"
   },
   {
    "duration": 42,
    "start_time": "2021-08-01T19:12:24.096Z"
   },
   {
    "duration": 36,
    "start_time": "2021-08-01T19:12:24.141Z"
   },
   {
    "duration": 7,
    "start_time": "2021-08-01T19:12:24.179Z"
   },
   {
    "duration": 28,
    "start_time": "2021-08-01T19:12:24.196Z"
   },
   {
    "duration": 43,
    "start_time": "2021-08-01T19:12:24.227Z"
   },
   {
    "duration": 30,
    "start_time": "2021-08-01T19:12:24.274Z"
   },
   {
    "duration": 22,
    "start_time": "2021-08-01T19:12:24.307Z"
   },
   {
    "duration": 17,
    "start_time": "2021-08-01T19:12:24.331Z"
   },
   {
    "duration": 34,
    "start_time": "2021-08-01T19:12:24.371Z"
   },
   {
    "duration": 11,
    "start_time": "2021-08-01T19:12:24.407Z"
   },
   {
    "duration": 358,
    "start_time": "2021-08-01T19:12:24.426Z"
   },
   {
    "duration": 240,
    "start_time": "2021-08-01T19:12:24.787Z"
   },
   {
    "duration": 32,
    "start_time": "2021-08-01T19:12:25.029Z"
   },
   {
    "duration": 31,
    "start_time": "2021-08-01T19:12:25.069Z"
   },
   {
    "duration": 14,
    "start_time": "2021-08-01T19:12:25.103Z"
   },
   {
    "duration": 524,
    "start_time": "2021-08-01T19:12:25.120Z"
   },
   {
    "duration": 564,
    "start_time": "2021-08-01T19:12:25.647Z"
   },
   {
    "duration": 12,
    "start_time": "2021-08-01T19:12:26.213Z"
   },
   {
    "duration": 1039,
    "start_time": "2021-08-01T19:12:26.271Z"
   },
   {
    "duration": 12,
    "start_time": "2021-08-01T19:12:27.313Z"
   },
   {
    "duration": 1012,
    "start_time": "2021-08-01T19:12:27.369Z"
   },
   {
    "duration": 23,
    "start_time": "2021-08-01T19:12:28.384Z"
   },
   {
    "duration": 479,
    "start_time": "2021-08-01T19:12:28.410Z"
   },
   {
    "duration": 315,
    "start_time": "2021-08-01T19:12:28.892Z"
   },
   {
    "duration": 480,
    "start_time": "2021-08-01T19:12:29.219Z"
   },
   {
    "duration": 5,
    "start_time": "2021-08-01T19:12:29.706Z"
   },
   {
    "duration": 625,
    "start_time": "2021-08-01T19:12:29.714Z"
   },
   {
    "duration": 30,
    "start_time": "2021-08-01T19:12:30.342Z"
   },
   {
    "duration": 7,
    "start_time": "2021-08-01T19:12:30.375Z"
   },
   {
    "duration": 278,
    "start_time": "2021-08-01T19:12:30.386Z"
   },
   {
    "duration": 354,
    "start_time": "2021-08-01T19:12:30.667Z"
   },
   {
    "duration": 319,
    "start_time": "2021-08-01T19:12:31.024Z"
   },
   {
    "duration": 38,
    "start_time": "2021-08-01T19:12:31.350Z"
   },
   {
    "duration": 34,
    "start_time": "2021-08-01T19:12:31.392Z"
   },
   {
    "duration": 20,
    "start_time": "2021-08-01T19:12:31.429Z"
   },
   {
    "duration": 37,
    "start_time": "2021-08-01T19:12:31.451Z"
   },
   {
    "duration": 16,
    "start_time": "2021-08-01T19:12:31.490Z"
   },
   {
    "duration": 21,
    "start_time": "2021-08-01T19:12:31.510Z"
   },
   {
    "duration": 38,
    "start_time": "2021-08-01T19:12:31.534Z"
   },
   {
    "duration": 16,
    "start_time": "2021-08-01T19:12:31.575Z"
   },
   {
    "duration": 25,
    "start_time": "2021-08-01T19:12:31.595Z"
   },
   {
    "duration": 12,
    "start_time": "2021-08-01T19:12:31.623Z"
   },
   {
    "duration": 6,
    "start_time": "2021-08-01T19:12:31.638Z"
   },
   {
    "duration": 37,
    "start_time": "2021-08-01T19:12:31.647Z"
   },
   {
    "duration": 20,
    "start_time": "2021-08-01T19:12:31.687Z"
   },
   {
    "duration": 37,
    "start_time": "2021-08-01T19:12:31.710Z"
   },
   {
    "duration": 9,
    "start_time": "2021-08-01T19:15:08.133Z"
   },
   {
    "duration": 15,
    "start_time": "2021-08-01T19:15:15.381Z"
   },
   {
    "duration": 10,
    "start_time": "2021-08-01T19:15:20.428Z"
   },
   {
    "duration": 444,
    "start_time": "2021-08-01T19:18:26.477Z"
   },
   {
    "duration": 24,
    "start_time": "2021-08-01T19:18:37.156Z"
   },
   {
    "duration": 8,
    "start_time": "2021-08-01T19:18:44.847Z"
   },
   {
    "duration": 10,
    "start_time": "2021-08-01T19:18:48.012Z"
   },
   {
    "duration": 14,
    "start_time": "2021-08-01T19:19:09.558Z"
   },
   {
    "duration": 10,
    "start_time": "2021-08-01T19:19:13.748Z"
   },
   {
    "duration": 10,
    "start_time": "2021-08-01T19:19:17.251Z"
   },
   {
    "duration": 13,
    "start_time": "2021-08-01T19:19:22.094Z"
   },
   {
    "duration": 11,
    "start_time": "2021-08-01T19:19:24.635Z"
   },
   {
    "duration": 12,
    "start_time": "2021-08-01T19:19:43.222Z"
   },
   {
    "duration": 10,
    "start_time": "2021-08-01T19:20:49.996Z"
   },
   {
    "duration": 13,
    "start_time": "2021-08-01T19:20:52.059Z"
   },
   {
    "duration": 12,
    "start_time": "2021-08-01T19:22:29.875Z"
   },
   {
    "duration": 8,
    "start_time": "2021-08-01T19:22:34.627Z"
   },
   {
    "duration": 9,
    "start_time": "2021-08-01T19:22:40.003Z"
   },
   {
    "duration": 7,
    "start_time": "2021-08-01T19:22:43.923Z"
   },
   {
    "duration": 7,
    "start_time": "2021-08-01T19:23:03.148Z"
   },
   {
    "duration": 7,
    "start_time": "2021-08-01T19:23:11.346Z"
   },
   {
    "duration": 219,
    "start_time": "2021-08-01T19:24:45.076Z"
   },
   {
    "duration": 299,
    "start_time": "2021-08-01T19:24:54.098Z"
   },
   {
    "duration": 21,
    "start_time": "2021-08-01T19:25:07.754Z"
   },
   {
    "duration": 26,
    "start_time": "2021-08-01T19:25:13.490Z"
   },
   {
    "duration": 413,
    "start_time": "2021-08-01T19:26:28.756Z"
   },
   {
    "duration": 7,
    "start_time": "2021-08-01T19:28:00.882Z"
   },
   {
    "duration": 6,
    "start_time": "2021-08-01T19:28:44.538Z"
   },
   {
    "duration": 250,
    "start_time": "2021-08-01T19:34:55.241Z"
   },
   {
    "duration": 311,
    "start_time": "2021-08-01T19:35:55.404Z"
   },
   {
    "duration": 12,
    "start_time": "2021-08-01T19:36:48.585Z"
   },
   {
    "duration": 4,
    "start_time": "2021-08-01T19:40:19.912Z"
   },
   {
    "duration": 7,
    "start_time": "2021-08-01T19:40:19.918Z"
   },
   {
    "duration": 164,
    "start_time": "2021-08-01T19:40:19.928Z"
   },
   {
    "duration": 17,
    "start_time": "2021-08-01T19:40:20.094Z"
   },
   {
    "duration": 71,
    "start_time": "2021-08-01T19:40:20.114Z"
   },
   {
    "duration": 36,
    "start_time": "2021-08-01T19:40:20.188Z"
   },
   {
    "duration": 39,
    "start_time": "2021-08-01T19:40:20.227Z"
   },
   {
    "duration": 17,
    "start_time": "2021-08-01T19:40:20.269Z"
   },
   {
    "duration": 20,
    "start_time": "2021-08-01T19:40:20.290Z"
   },
   {
    "duration": 17,
    "start_time": "2021-08-01T19:40:20.312Z"
   },
   {
    "duration": 24,
    "start_time": "2021-08-01T19:40:20.363Z"
   },
   {
    "duration": 4,
    "start_time": "2021-08-01T19:40:20.390Z"
   },
   {
    "duration": 27,
    "start_time": "2021-08-01T19:40:20.398Z"
   },
   {
    "duration": 35,
    "start_time": "2021-08-01T19:40:20.427Z"
   },
   {
    "duration": 23,
    "start_time": "2021-08-01T19:40:20.464Z"
   },
   {
    "duration": 23,
    "start_time": "2021-08-01T19:40:20.490Z"
   },
   {
    "duration": 19,
    "start_time": "2021-08-01T19:40:20.515Z"
   },
   {
    "duration": 24,
    "start_time": "2021-08-01T19:40:20.563Z"
   },
   {
    "duration": 15,
    "start_time": "2021-08-01T19:40:20.593Z"
   },
   {
    "duration": 26,
    "start_time": "2021-08-01T19:40:20.611Z"
   },
   {
    "duration": 9,
    "start_time": "2021-08-01T19:40:20.663Z"
   },
   {
    "duration": 633,
    "start_time": "2021-08-01T19:40:20.675Z"
   },
   {
    "duration": 379,
    "start_time": "2021-08-01T19:40:21.311Z"
   },
   {
    "duration": 23,
    "start_time": "2021-08-01T19:40:21.693Z"
   },
   {
    "duration": 66,
    "start_time": "2021-08-01T19:40:21.719Z"
   },
   {
    "duration": 12,
    "start_time": "2021-08-01T19:40:21.788Z"
   },
   {
    "duration": 440,
    "start_time": "2021-08-01T19:40:21.802Z"
   },
   {
    "duration": 423,
    "start_time": "2021-08-01T19:40:22.245Z"
   },
   {
    "duration": 12,
    "start_time": "2021-08-01T19:40:22.670Z"
   },
   {
    "duration": 604,
    "start_time": "2021-08-01T19:40:22.685Z"
   },
   {
    "duration": 11,
    "start_time": "2021-08-01T19:40:23.292Z"
   },
   {
    "duration": 423,
    "start_time": "2021-08-01T19:40:23.306Z"
   },
   {
    "duration": 16,
    "start_time": "2021-08-01T19:40:23.766Z"
   },
   {
    "duration": 382,
    "start_time": "2021-08-01T19:40:23.785Z"
   },
   {
    "duration": 205,
    "start_time": "2021-08-01T19:40:24.172Z"
   },
   {
    "duration": 188,
    "start_time": "2021-08-01T19:40:24.379Z"
   },
   {
    "duration": 654,
    "start_time": "2021-08-01T19:40:24.569Z"
   },
   {
    "duration": 542,
    "start_time": "2021-08-01T19:40:25.226Z"
   },
   {
    "duration": 7,
    "start_time": "2021-08-01T19:40:25.771Z"
   },
   {
    "duration": 8,
    "start_time": "2021-08-01T19:40:25.781Z"
   },
   {
    "duration": 423,
    "start_time": "2021-08-01T19:40:25.791Z"
   },
   {
    "duration": 9,
    "start_time": "2021-08-01T19:40:26.218Z"
   },
   {
    "duration": 39,
    "start_time": "2021-08-01T19:40:26.230Z"
   },
   {
    "duration": 216,
    "start_time": "2021-08-01T19:40:26.272Z"
   },
   {
    "duration": 255,
    "start_time": "2021-08-01T19:40:26.490Z"
   },
   {
    "duration": 266,
    "start_time": "2021-08-01T19:40:26.747Z"
   },
   {
    "duration": 8,
    "start_time": "2021-08-01T19:40:27.015Z"
   },
   {
    "duration": 16,
    "start_time": "2021-08-01T19:40:27.025Z"
   },
   {
    "duration": 21,
    "start_time": "2021-08-01T19:40:27.043Z"
   },
   {
    "duration": 243,
    "start_time": "2021-08-01T19:40:27.067Z"
   },
   {
    "duration": 9,
    "start_time": "2021-08-01T19:40:27.316Z"
   },
   {
    "duration": 41,
    "start_time": "2021-08-01T19:40:27.329Z"
   },
   {
    "duration": 12,
    "start_time": "2021-08-01T19:40:27.373Z"
   },
   {
    "duration": 11,
    "start_time": "2021-08-01T19:40:27.389Z"
   },
   {
    "duration": 15,
    "start_time": "2021-08-01T19:40:27.402Z"
   },
   {
    "duration": 8,
    "start_time": "2021-08-01T19:40:27.420Z"
   },
   {
    "duration": 16,
    "start_time": "2021-08-01T19:40:27.466Z"
   },
   {
    "duration": 11,
    "start_time": "2021-08-01T19:40:27.486Z"
   },
   {
    "duration": 21,
    "start_time": "2021-08-01T19:40:27.500Z"
   },
   {
    "duration": 19,
    "start_time": "2021-08-01T19:40:27.523Z"
   },
   {
    "duration": 16,
    "start_time": "2021-08-01T19:40:27.566Z"
   },
   {
    "duration": 11,
    "start_time": "2021-08-01T19:40:27.586Z"
   },
   {
    "duration": 6,
    "start_time": "2021-08-01T19:41:19.337Z"
   },
   {
    "duration": 652,
    "start_time": "2021-08-01T19:41:28.418Z"
   },
   {
    "duration": 6,
    "start_time": "2021-08-01T19:41:30.927Z"
   },
   {
    "duration": 6,
    "start_time": "2021-08-01T19:41:33.624Z"
   },
   {
    "duration": 5,
    "start_time": "2021-08-01T19:41:37.624Z"
   },
   {
    "duration": 5,
    "start_time": "2021-08-01T19:44:29.000Z"
   },
   {
    "duration": 6,
    "start_time": "2021-08-01T19:44:42.687Z"
   },
   {
    "duration": 6,
    "start_time": "2021-08-01T19:44:49.350Z"
   },
   {
    "duration": 5,
    "start_time": "2021-08-01T19:45:00.231Z"
   },
   {
    "duration": 6,
    "start_time": "2021-08-01T19:45:03.775Z"
   },
   {
    "duration": 5,
    "start_time": "2021-08-01T19:45:06.015Z"
   },
   {
    "duration": 6,
    "start_time": "2021-08-01T19:45:08.280Z"
   },
   {
    "duration": 6,
    "start_time": "2021-08-01T19:45:12.736Z"
   },
   {
    "duration": 6,
    "start_time": "2021-08-01T19:45:15.467Z"
   },
   {
    "duration": 17,
    "start_time": "2021-08-01T19:47:19.344Z"
   },
   {
    "duration": 19,
    "start_time": "2021-08-01T19:47:30.153Z"
   },
   {
    "duration": 10,
    "start_time": "2021-08-01T19:55:52.655Z"
   },
   {
    "duration": 9,
    "start_time": "2021-08-01T19:56:35.598Z"
   },
   {
    "duration": 22,
    "start_time": "2021-08-01T19:57:09.558Z"
   },
   {
    "duration": 23,
    "start_time": "2021-08-01T19:57:54.366Z"
   },
   {
    "duration": 16,
    "start_time": "2021-08-01T19:57:57.206Z"
   },
   {
    "duration": 15,
    "start_time": "2021-08-01T19:58:04.814Z"
   },
   {
    "duration": 38,
    "start_time": "2021-08-01T19:58:41.749Z"
   },
   {
    "duration": 27,
    "start_time": "2021-08-01T19:58:47.357Z"
   },
   {
    "duration": 31,
    "start_time": "2021-08-01T19:59:07.342Z"
   },
   {
    "duration": 21,
    "start_time": "2021-08-01T19:59:21.701Z"
   },
   {
    "duration": 32,
    "start_time": "2021-08-01T19:59:28.669Z"
   },
   {
    "duration": 14,
    "start_time": "2021-08-01T20:00:26.172Z"
   },
   {
    "duration": 10,
    "start_time": "2021-08-01T20:00:47.045Z"
   },
   {
    "duration": 15,
    "start_time": "2021-08-01T20:01:04.989Z"
   },
   {
    "duration": 16,
    "start_time": "2021-08-01T20:01:26.532Z"
   },
   {
    "duration": 71,
    "start_time": "2021-08-01T20:01:31.605Z"
   },
   {
    "duration": 86,
    "start_time": "2021-08-01T20:01:34.676Z"
   },
   {
    "duration": 22,
    "start_time": "2021-08-01T20:01:38.974Z"
   },
   {
    "duration": 17,
    "start_time": "2021-08-01T20:01:47.093Z"
   },
   {
    "duration": 22,
    "start_time": "2021-08-01T20:02:39.550Z"
   },
   {
    "duration": 18,
    "start_time": "2021-08-01T20:03:11.438Z"
   },
   {
    "duration": 18,
    "start_time": "2021-08-01T20:03:19.844Z"
   },
   {
    "duration": 26,
    "start_time": "2021-08-01T20:03:29.068Z"
   },
   {
    "duration": 28,
    "start_time": "2021-08-01T20:04:03.414Z"
   },
   {
    "duration": 6,
    "start_time": "2021-08-01T20:06:55.628Z"
   },
   {
    "duration": 6763,
    "start_time": "2021-08-01T20:29:14.006Z"
   },
   {
    "duration": 30,
    "start_time": "2021-08-01T20:29:21.167Z"
   },
   {
    "duration": 14,
    "start_time": "2021-08-01T20:29:36.350Z"
   },
   {
    "duration": 9,
    "start_time": "2021-08-01T20:33:17.782Z"
   },
   {
    "duration": 323,
    "start_time": "2021-08-01T20:33:24.582Z"
   },
   {
    "duration": 6,
    "start_time": "2021-08-01T20:33:28.444Z"
   },
   {
    "duration": 8,
    "start_time": "2021-08-01T20:33:34.620Z"
   },
   {
    "duration": 6,
    "start_time": "2021-08-01T20:33:36.957Z"
   },
   {
    "duration": 5,
    "start_time": "2021-08-01T20:34:33.158Z"
   },
   {
    "duration": 17,
    "start_time": "2021-08-01T20:34:39.054Z"
   },
   {
    "duration": 6,
    "start_time": "2021-08-01T20:34:48.637Z"
   },
   {
    "duration": 15,
    "start_time": "2021-08-01T20:34:59.661Z"
   },
   {
    "duration": 5,
    "start_time": "2021-08-01T20:35:09.333Z"
   },
   {
    "duration": 7,
    "start_time": "2021-08-01T20:35:32.028Z"
   },
   {
    "duration": 7,
    "start_time": "2021-08-01T20:35:39.562Z"
   },
   {
    "duration": 13,
    "start_time": "2021-08-01T20:35:43.484Z"
   },
   {
    "duration": 13,
    "start_time": "2021-08-01T20:35:50.455Z"
   },
   {
    "duration": 34,
    "start_time": "2021-08-01T20:36:14.558Z"
   },
   {
    "duration": 6,
    "start_time": "2021-08-01T20:36:33.429Z"
   },
   {
    "duration": 7,
    "start_time": "2021-08-01T20:36:39.749Z"
   },
   {
    "duration": 7,
    "start_time": "2021-08-01T20:36:45.820Z"
   },
   {
    "duration": 6,
    "start_time": "2021-08-01T20:36:51.092Z"
   },
   {
    "duration": 20,
    "start_time": "2021-08-01T20:37:29.507Z"
   },
   {
    "duration": 9,
    "start_time": "2021-08-01T20:37:35.157Z"
   },
   {
    "duration": 6,
    "start_time": "2021-08-01T20:37:37.604Z"
   },
   {
    "duration": 14,
    "start_time": "2021-08-01T20:37:45.676Z"
   },
   {
    "duration": 8,
    "start_time": "2021-08-01T20:38:34.435Z"
   },
   {
    "duration": 15,
    "start_time": "2021-08-01T20:38:37.893Z"
   },
   {
    "duration": 13,
    "start_time": "2021-08-01T20:39:18.488Z"
   },
   {
    "duration": 6,
    "start_time": "2021-08-01T20:39:19.372Z"
   },
   {
    "duration": 6,
    "start_time": "2021-08-01T20:43:09.197Z"
   },
   {
    "duration": 1567,
    "start_time": "2021-08-01T20:45:34.087Z"
   },
   {
    "duration": 3,
    "start_time": "2021-08-01T20:45:35.657Z"
   },
   {
    "duration": 303,
    "start_time": "2021-08-01T20:45:35.665Z"
   },
   {
    "duration": 31,
    "start_time": "2021-08-01T20:45:35.971Z"
   },
   {
    "duration": 86,
    "start_time": "2021-08-01T20:45:36.004Z"
   },
   {
    "duration": 69,
    "start_time": "2021-08-01T20:45:36.093Z"
   },
   {
    "duration": 28,
    "start_time": "2021-08-01T20:45:36.164Z"
   },
   {
    "duration": 11,
    "start_time": "2021-08-01T20:45:36.198Z"
   },
   {
    "duration": 13,
    "start_time": "2021-08-01T20:45:36.212Z"
   },
   {
    "duration": 51,
    "start_time": "2021-08-01T20:45:36.227Z"
   },
   {
    "duration": 18,
    "start_time": "2021-08-01T20:45:36.281Z"
   },
   {
    "duration": 17,
    "start_time": "2021-08-01T20:45:36.302Z"
   },
   {
    "duration": 24,
    "start_time": "2021-08-01T20:45:36.322Z"
   },
   {
    "duration": 4,
    "start_time": "2021-08-01T20:45:36.349Z"
   },
   {
    "duration": 33,
    "start_time": "2021-08-01T20:45:36.366Z"
   },
   {
    "duration": 3,
    "start_time": "2021-08-01T20:45:36.401Z"
   },
   {
    "duration": 23,
    "start_time": "2021-08-01T20:45:36.406Z"
   },
   {
    "duration": 47,
    "start_time": "2021-08-01T20:45:36.432Z"
   },
   {
    "duration": 18,
    "start_time": "2021-08-01T20:45:36.484Z"
   },
   {
    "duration": 24,
    "start_time": "2021-08-01T20:45:36.504Z"
   },
   {
    "duration": 35,
    "start_time": "2021-08-01T20:45:36.530Z"
   },
   {
    "duration": 16,
    "start_time": "2021-08-01T20:45:36.567Z"
   },
   {
    "duration": 25,
    "start_time": "2021-08-01T20:45:36.590Z"
   },
   {
    "duration": 383,
    "start_time": "2021-08-01T20:45:36.618Z"
   },
   {
    "duration": 278,
    "start_time": "2021-08-01T20:45:37.004Z"
   },
   {
    "duration": 25,
    "start_time": "2021-08-01T20:45:37.288Z"
   },
   {
    "duration": 23,
    "start_time": "2021-08-01T20:45:37.315Z"
   },
   {
    "duration": 48,
    "start_time": "2021-08-01T20:45:37.340Z"
   },
   {
    "duration": 393,
    "start_time": "2021-08-01T20:45:37.391Z"
   },
   {
    "duration": 409,
    "start_time": "2021-08-01T20:45:37.790Z"
   },
   {
    "duration": 9,
    "start_time": "2021-08-01T20:45:38.203Z"
   },
   {
    "duration": 533,
    "start_time": "2021-08-01T20:45:38.215Z"
   },
   {
    "duration": 25,
    "start_time": "2021-08-01T20:45:38.751Z"
   },
   {
    "duration": 402,
    "start_time": "2021-08-01T20:45:38.781Z"
   },
   {
    "duration": 15,
    "start_time": "2021-08-01T20:45:39.185Z"
   },
   {
    "duration": 410,
    "start_time": "2021-08-01T20:45:39.203Z"
   },
   {
    "duration": 219,
    "start_time": "2021-08-01T20:45:39.616Z"
   },
   {
    "duration": 225,
    "start_time": "2021-08-01T20:45:39.838Z"
   },
   {
    "duration": 375,
    "start_time": "2021-08-01T20:45:40.066Z"
   },
   {
    "duration": 504,
    "start_time": "2021-08-01T20:45:40.444Z"
   },
   {
    "duration": 18,
    "start_time": "2021-08-01T20:45:40.951Z"
   },
   {
    "duration": 14,
    "start_time": "2021-08-01T20:45:40.974Z"
   },
   {
    "duration": 358,
    "start_time": "2021-08-01T20:45:40.992Z"
   },
   {
    "duration": 18,
    "start_time": "2021-08-01T20:45:41.352Z"
   },
   {
    "duration": 10,
    "start_time": "2021-08-01T20:45:41.373Z"
   },
   {
    "duration": 227,
    "start_time": "2021-08-01T20:45:41.386Z"
   },
   {
    "duration": 262,
    "start_time": "2021-08-01T20:45:41.615Z"
   },
   {
    "duration": 244,
    "start_time": "2021-08-01T20:45:41.880Z"
   },
   {
    "duration": 7,
    "start_time": "2021-08-01T20:45:42.127Z"
   },
   {
    "duration": 28,
    "start_time": "2021-08-01T20:45:42.137Z"
   },
   {
    "duration": 213,
    "start_time": "2021-08-01T20:45:42.167Z"
   },
   {
    "duration": 12,
    "start_time": "2021-08-01T20:45:42.382Z"
   },
   {
    "duration": 16,
    "start_time": "2021-08-01T20:45:42.396Z"
   },
   {
    "duration": 18,
    "start_time": "2021-08-01T20:45:42.415Z"
   },
   {
    "duration": 12,
    "start_time": "2021-08-01T20:45:42.469Z"
   },
   {
    "duration": 12,
    "start_time": "2021-08-01T20:45:42.484Z"
   },
   {
    "duration": 7,
    "start_time": "2021-08-01T20:45:42.498Z"
   },
   {
    "duration": 59,
    "start_time": "2021-08-01T20:45:42.507Z"
   },
   {
    "duration": 42,
    "start_time": "2021-08-01T20:45:42.574Z"
   },
   {
    "duration": 10,
    "start_time": "2021-08-01T20:45:42.619Z"
   },
   {
    "duration": 22,
    "start_time": "2021-08-01T20:45:42.632Z"
   },
   {
    "duration": 22,
    "start_time": "2021-08-01T20:46:55.404Z"
   },
   {
    "duration": 18,
    "start_time": "2021-08-01T20:47:10.770Z"
   },
   {
    "duration": 11,
    "start_time": "2021-08-01T20:47:17.948Z"
   },
   {
    "duration": 8,
    "start_time": "2021-08-01T20:50:13.050Z"
   },
   {
    "duration": 12,
    "start_time": "2021-08-01T20:51:15.891Z"
   },
   {
    "duration": 14,
    "start_time": "2021-08-01T20:51:43.434Z"
   },
   {
    "duration": 18,
    "start_time": "2021-08-01T20:51:58.007Z"
   },
   {
    "duration": 10,
    "start_time": "2021-08-01T20:52:04.072Z"
   },
   {
    "duration": 6,
    "start_time": "2021-08-01T20:52:07.040Z"
   },
   {
    "duration": 9,
    "start_time": "2021-08-01T20:52:10.123Z"
   },
   {
    "duration": 15,
    "start_time": "2021-08-01T20:52:22.643Z"
   },
   {
    "duration": 17,
    "start_time": "2021-08-01T20:52:42.541Z"
   },
   {
    "duration": 19,
    "start_time": "2021-08-01T20:52:46.377Z"
   },
   {
    "duration": 31,
    "start_time": "2021-08-01T20:52:51.146Z"
   },
   {
    "duration": 24,
    "start_time": "2021-08-01T20:52:54.351Z"
   },
   {
    "duration": 14,
    "start_time": "2021-08-01T20:52:57.736Z"
   },
   {
    "duration": 13,
    "start_time": "2021-08-01T20:53:06.560Z"
   },
   {
    "duration": 15,
    "start_time": "2021-08-01T20:53:11.423Z"
   },
   {
    "duration": 6,
    "start_time": "2021-08-01T20:53:25.891Z"
   },
   {
    "duration": 6,
    "start_time": "2021-08-01T20:53:29.255Z"
   },
   {
    "duration": 6,
    "start_time": "2021-08-01T20:53:32.811Z"
   },
   {
    "duration": 1449,
    "start_time": "2021-08-01T20:54:28.360Z"
   },
   {
    "duration": 4,
    "start_time": "2021-08-01T20:54:29.811Z"
   },
   {
    "duration": 154,
    "start_time": "2021-08-01T20:54:29.818Z"
   },
   {
    "duration": 31,
    "start_time": "2021-08-01T20:54:29.978Z"
   },
   {
    "duration": 87,
    "start_time": "2021-08-01T20:54:30.011Z"
   },
   {
    "duration": 33,
    "start_time": "2021-08-01T20:54:30.100Z"
   },
   {
    "duration": 27,
    "start_time": "2021-08-01T20:54:30.135Z"
   },
   {
    "duration": 20,
    "start_time": "2021-08-01T20:54:30.166Z"
   },
   {
    "duration": 31,
    "start_time": "2021-08-01T20:54:30.189Z"
   },
   {
    "duration": 11,
    "start_time": "2021-08-01T20:54:30.223Z"
   },
   {
    "duration": 37,
    "start_time": "2021-08-01T20:54:30.237Z"
   },
   {
    "duration": 17,
    "start_time": "2021-08-01T20:54:30.277Z"
   },
   {
    "duration": 33,
    "start_time": "2021-08-01T20:54:30.297Z"
   },
   {
    "duration": 18,
    "start_time": "2021-08-01T20:54:30.334Z"
   },
   {
    "duration": 74,
    "start_time": "2021-08-01T20:54:30.355Z"
   },
   {
    "duration": 4,
    "start_time": "2021-08-01T20:54:30.432Z"
   },
   {
    "duration": 38,
    "start_time": "2021-08-01T20:54:30.438Z"
   },
   {
    "duration": 42,
    "start_time": "2021-08-01T20:54:30.479Z"
   },
   {
    "duration": 22,
    "start_time": "2021-08-01T20:54:30.524Z"
   },
   {
    "duration": 51,
    "start_time": "2021-08-01T20:54:30.549Z"
   },
   {
    "duration": 12,
    "start_time": "2021-08-01T20:54:30.602Z"
   },
   {
    "duration": 16,
    "start_time": "2021-08-01T20:54:30.616Z"
   },
   {
    "duration": 14,
    "start_time": "2021-08-01T20:54:30.637Z"
   },
   {
    "duration": 339,
    "start_time": "2021-08-01T20:54:30.655Z"
   },
   {
    "duration": 305,
    "start_time": "2021-08-01T20:54:30.997Z"
   },
   {
    "duration": 27,
    "start_time": "2021-08-01T20:54:31.306Z"
   },
   {
    "duration": 59,
    "start_time": "2021-08-01T20:54:31.336Z"
   },
   {
    "duration": 10,
    "start_time": "2021-08-01T20:54:31.399Z"
   },
   {
    "duration": 407,
    "start_time": "2021-08-01T20:54:31.412Z"
   },
   {
    "duration": 388,
    "start_time": "2021-08-01T20:54:31.821Z"
   },
   {
    "duration": 8,
    "start_time": "2021-08-01T20:54:32.211Z"
   },
   {
    "duration": 539,
    "start_time": "2021-08-01T20:54:32.222Z"
   },
   {
    "duration": 34,
    "start_time": "2021-08-01T20:54:32.764Z"
   },
   {
    "duration": 523,
    "start_time": "2021-08-01T20:54:32.801Z"
   },
   {
    "duration": 16,
    "start_time": "2021-08-01T20:54:33.327Z"
   },
   {
    "duration": 546,
    "start_time": "2021-08-01T20:54:33.346Z"
   },
   {
    "duration": 192,
    "start_time": "2021-08-01T20:54:33.896Z"
   },
   {
    "duration": 291,
    "start_time": "2021-08-01T20:54:34.093Z"
   },
   {
    "duration": 455,
    "start_time": "2021-08-01T20:54:34.387Z"
   },
   {
    "duration": 474,
    "start_time": "2021-08-01T20:54:34.845Z"
   },
   {
    "duration": 5,
    "start_time": "2021-08-01T20:54:35.321Z"
   },
   {
    "duration": 24,
    "start_time": "2021-08-01T20:54:35.328Z"
   },
   {
    "duration": 410,
    "start_time": "2021-08-01T20:54:35.370Z"
   },
   {
    "duration": 9,
    "start_time": "2021-08-01T20:54:35.786Z"
   },
   {
    "duration": 7,
    "start_time": "2021-08-01T20:54:35.799Z"
   },
   {
    "duration": 223,
    "start_time": "2021-08-01T20:54:35.809Z"
   },
   {
    "duration": 262,
    "start_time": "2021-08-01T20:54:36.035Z"
   },
   {
    "duration": 251,
    "start_time": "2021-08-01T20:54:36.300Z"
   },
   {
    "duration": 12,
    "start_time": "2021-08-01T20:54:36.553Z"
   },
   {
    "duration": 25,
    "start_time": "2021-08-01T20:54:36.569Z"
   },
   {
    "duration": 241,
    "start_time": "2021-08-01T20:54:36.597Z"
   },
   {
    "duration": 31,
    "start_time": "2021-08-01T20:54:36.841Z"
   },
   {
    "duration": 20,
    "start_time": "2021-08-01T20:54:36.874Z"
   },
   {
    "duration": 16,
    "start_time": "2021-08-01T20:54:36.897Z"
   },
   {
    "duration": 12,
    "start_time": "2021-08-01T20:54:36.915Z"
   },
   {
    "duration": 37,
    "start_time": "2021-08-01T20:54:36.929Z"
   },
   {
    "duration": 8,
    "start_time": "2021-08-01T20:54:36.969Z"
   },
   {
    "duration": 18,
    "start_time": "2021-08-01T20:54:36.981Z"
   },
   {
    "duration": 16,
    "start_time": "2021-08-01T20:54:37.002Z"
   },
   {
    "duration": 54,
    "start_time": "2021-08-01T20:54:37.022Z"
   },
   {
    "duration": 15,
    "start_time": "2021-08-01T20:54:37.081Z"
   },
   {
    "duration": 20,
    "start_time": "2021-08-01T20:54:37.098Z"
   },
   {
    "duration": 81,
    "start_time": "2021-08-02T07:10:41.259Z"
   },
   {
    "duration": 123,
    "start_time": "2021-08-02T07:17:37.734Z"
   }
  ],
  "kernelspec": {
   "display_name": "Python 3",
   "language": "python",
   "name": "python3"
  },
  "language_info": {
   "codemirror_mode": {
    "name": "ipython",
    "version": 3
   },
   "file_extension": ".py",
   "mimetype": "text/x-python",
   "name": "python",
   "nbconvert_exporter": "python",
   "pygments_lexer": "ipython3",
   "version": "3.7.10"
  },
  "toc": {
   "base_numbering": 1,
   "nav_menu": {},
   "number_sections": true,
   "sideBar": true,
   "skip_h1_title": true,
   "title_cell": "Содержание",
   "title_sidebar": "Contents",
   "toc_cell": true,
   "toc_position": {
    "height": "calc(100% - 180px)",
    "left": "10px",
    "top": "150px",
    "width": "220px"
   },
   "toc_section_display": true,
   "toc_window_display": true
  }
 },
 "nbformat": 4,
 "nbformat_minor": 2
}
